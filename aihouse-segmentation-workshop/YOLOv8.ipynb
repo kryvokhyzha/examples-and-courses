{
 "cells": [
  {
   "cell_type": "markdown",
   "metadata": {
    "id": "PQwLoGPzU_zB"
   },
   "source": [
    "# **Environment setup**"
   ]
  },
  {
   "cell_type": "code",
   "execution_count": null,
   "metadata": {
    "colab": {
     "base_uri": "https://localhost:8080/"
    },
    "executionInfo": {
     "elapsed": 32440,
     "status": "ok",
     "timestamp": 1677038179849,
     "user": {
      "displayName": "Jeremy Peterson",
      "userId": "10141119356634341693"
     },
     "user_tz": -120
    },
    "id": "53sk8dvK_jk0",
    "outputId": "cea6dced-0433-43cc-a4ea-b174273a3fc5"
   },
   "outputs": [
    {
     "name": "stdout",
     "output_type": "stream",
     "text": [
      "Mounted at /content/drive\n"
     ]
    }
   ],
   "source": [
    "\"\"\"This code mounts Google Drive to Colab\"\"\"\n",
    "from google.colab import drive\n",
    "\n",
    "# Mount Google Drive to the '/content/drive' directory\n",
    "# and force remount if it is already mounted\n",
    "drive.mount('/content/drive', force_remount=True)"
   ]
  },
  {
   "cell_type": "code",
   "execution_count": null,
   "metadata": {
    "colab": {
     "base_uri": "https://localhost:8080/"
    },
    "executionInfo": {
     "elapsed": 6,
     "status": "ok",
     "timestamp": 1677038179849,
     "user": {
      "displayName": "Jeremy Peterson",
      "userId": "10141119356634341693"
     },
     "user_tz": -120
    },
    "id": "0XpvgG0i6-lk",
    "outputId": "a83be016-7c0e-461b-b552-52cf61c09876"
   },
   "outputs": [
    {
     "name": "stdout",
     "output_type": "stream",
     "text": [
      "/content/drive/MyDrive/roof_recognition\n",
      "config.json\t  logs\t\t\t\t      results\n",
      "data\t\t  model_20230209-194541_100_0.907.tf  runs\n",
      "data.zip\t  model-checkpts\t\t      utils\n",
      "LICENSE\t\t  README.md\t\t\t      yolov8n-seg.pt\n",
      "loaded_model.zip  requirements.txt\n"
     ]
    }
   ],
   "source": [
    "\"\"\"This code changes the directory to Google Drive\"\"\"\n",
    "import os\n",
    "from pathlib import Path\n",
    "\n",
    "# Set the base path to the Google Drive directory\n",
    "base_path = \"/content/drive/MyDrive\"\n",
    "\n",
    "# Change the current working directory to the Google Drive directory\n",
    "os.chdir(f'{base_path}')\n",
    "\n",
    "# Change directory to cloned repository\n",
    "folder_name = \"roof_recognition\"\n",
    "Path(f'{base_path}/{folder_name}').mkdir(parents=True, exist_ok=True)\n",
    "os.chdir(f'{base_path}/{folder_name}')\n",
    "\n",
    "# Print working directory\n",
    "!pwd\n",
    "\n",
    "# List files in directory\n",
    "!ls"
   ]
  },
  {
   "cell_type": "code",
   "execution_count": null,
   "metadata": {
    "colab": {
     "base_uri": "https://localhost:8080/",
     "height": 1000
    },
    "executionInfo": {
     "elapsed": 12105,
     "status": "ok",
     "timestamp": 1677038198170,
     "user": {
      "displayName": "Jeremy Peterson",
      "userId": "10141119356634341693"
     },
     "user_tz": -120
    },
    "id": "IOa1cW4S75Z3",
    "outputId": "cef3bd01-2ad5-4acd-9f83-e9b238b14081"
   },
   "outputs": [
    {
     "name": "stdout",
     "output_type": "stream",
     "text": [
      "env: HYDRA_FULL_ERROR=1\n",
      "Looking in indexes: https://pypi.org/simple, https://us-python.pkg.dev/colab-wheels/public/simple/\n",
      "Collecting ultralytics==8.0.0\n",
      "  Downloading ultralytics-8.0.0-py3-none-any.whl (219 kB)\n",
      "\u001b[2K     \u001b[90m━━━━━━━━━━━━━━━━━━━━━━━━━━━━━━━━━━━━━━\u001b[0m \u001b[32m219.8/219.8 KB\u001b[0m \u001b[31m22.6 MB/s\u001b[0m eta \u001b[36m0:00:00\u001b[0m\n",
      "\u001b[?25hRequirement already satisfied: tqdm>=4.64.0 in /usr/local/lib/python3.8/dist-packages (from ultralytics==8.0.0) (4.64.1)\n",
      "Requirement already satisfied: seaborn>=0.11.0 in /usr/local/lib/python3.8/dist-packages (from ultralytics==8.0.0) (0.11.2)\n",
      "Requirement already satisfied: Pillow>=7.1.2 in /usr/local/lib/python3.8/dist-packages (from ultralytics==8.0.0) (7.1.2)\n",
      "Requirement already satisfied: torch>=1.7.0 in /usr/local/lib/python3.8/dist-packages (from ultralytics==8.0.0) (1.13.1+cu116)\n",
      "Requirement already satisfied: torchvision>=0.8.1 in /usr/local/lib/python3.8/dist-packages (from ultralytics==8.0.0) (0.14.1+cu116)\n",
      "Requirement already satisfied: pandas>=1.1.4 in /usr/local/lib/python3.8/dist-packages (from ultralytics==8.0.0) (1.3.5)\n",
      "Collecting GitPython>=3.1.24\n",
      "  Downloading GitPython-3.1.31-py3-none-any.whl (184 kB)\n",
      "\u001b[2K     \u001b[90m━━━━━━━━━━━━━━━━━━━━━━━━━━━━━━━━━━━━━━\u001b[0m \u001b[32m184.3/184.3 KB\u001b[0m \u001b[31m22.8 MB/s\u001b[0m eta \u001b[36m0:00:00\u001b[0m\n",
      "\u001b[?25hRequirement already satisfied: psutil in /usr/local/lib/python3.8/dist-packages (from ultralytics==8.0.0) (5.4.8)\n",
      "Requirement already satisfied: requests>=2.23.0 in /usr/local/lib/python3.8/dist-packages (from ultralytics==8.0.0) (2.25.1)\n",
      "Requirement already satisfied: numpy>=1.18.5 in /usr/local/lib/python3.8/dist-packages (from ultralytics==8.0.0) (1.21.6)\n",
      "Collecting thop>=0.1.1\n",
      "  Downloading thop-0.1.1.post2209072238-py3-none-any.whl (15 kB)\n",
      "Requirement already satisfied: PyYAML>=5.3.1 in /usr/local/lib/python3.8/dist-packages (from ultralytics==8.0.0) (6.0)\n",
      "Requirement already satisfied: ipython in /usr/local/lib/python3.8/dist-packages (from ultralytics==8.0.0) (7.9.0)\n",
      "Collecting hydra-core>=1.2.0\n",
      "  Downloading hydra_core-1.3.1-py3-none-any.whl (154 kB)\n",
      "\u001b[2K     \u001b[90m━━━━━━━━━━━━━━━━━━━━━━━━━━━━━━━━━━━━━━\u001b[0m \u001b[32m154.1/154.1 KB\u001b[0m \u001b[31m14.3 MB/s\u001b[0m eta \u001b[36m0:00:00\u001b[0m\n",
      "\u001b[?25hRequirement already satisfied: matplotlib>=3.2.2 in /usr/local/lib/python3.8/dist-packages (from ultralytics==8.0.0) (3.2.2)\n",
      "Requirement already satisfied: scipy>=1.4.1 in /usr/local/lib/python3.8/dist-packages (from ultralytics==8.0.0) (1.7.3)\n",
      "Requirement already satisfied: opencv-python>=4.1.1 in /usr/local/lib/python3.8/dist-packages (from ultralytics==8.0.0) (4.6.0.66)\n",
      "Requirement already satisfied: tensorboard>=2.4.1 in /usr/local/lib/python3.8/dist-packages (from ultralytics==8.0.0) (2.11.2)\n",
      "Collecting gitdb<5,>=4.0.1\n",
      "  Downloading gitdb-4.0.10-py3-none-any.whl (62 kB)\n",
      "\u001b[2K     \u001b[90m━━━━━━━━━━━━━━━━━━━━━━━━━━━━━━━━━━━━━━━━\u001b[0m \u001b[32m62.7/62.7 KB\u001b[0m \u001b[31m9.0 MB/s\u001b[0m eta \u001b[36m0:00:00\u001b[0m\n",
      "\u001b[?25hRequirement already satisfied: packaging in /usr/local/lib/python3.8/dist-packages (from hydra-core>=1.2.0->ultralytics==8.0.0) (23.0)\n",
      "Requirement already satisfied: importlib-resources in /usr/local/lib/python3.8/dist-packages (from hydra-core>=1.2.0->ultralytics==8.0.0) (5.10.2)\n",
      "Collecting omegaconf<2.4,>=2.2\n",
      "  Downloading omegaconf-2.3.0-py3-none-any.whl (79 kB)\n",
      "\u001b[2K     \u001b[90m━━━━━━━━━━━━━━━━━━━━━━━━━━━━━━━━━━━━━━━━\u001b[0m \u001b[32m79.5/79.5 KB\u001b[0m \u001b[31m11.9 MB/s\u001b[0m eta \u001b[36m0:00:00\u001b[0m\n",
      "\u001b[?25hCollecting antlr4-python3-runtime==4.9.*\n",
      "  Downloading antlr4-python3-runtime-4.9.3.tar.gz (117 kB)\n",
      "\u001b[2K     \u001b[90m━━━━━━━━━━━━━━━━━━━━━━━━━━━━━━━━━━━━━━\u001b[0m \u001b[32m117.0/117.0 KB\u001b[0m \u001b[31m19.6 MB/s\u001b[0m eta \u001b[36m0:00:00\u001b[0m\n",
      "\u001b[?25h  Preparing metadata (setup.py) ... \u001b[?25l\u001b[?25hdone\n",
      "Requirement already satisfied: pyparsing!=2.0.4,!=2.1.2,!=2.1.6,>=2.0.1 in /usr/local/lib/python3.8/dist-packages (from matplotlib>=3.2.2->ultralytics==8.0.0) (3.0.9)\n",
      "Requirement already satisfied: python-dateutil>=2.1 in /usr/local/lib/python3.8/dist-packages (from matplotlib>=3.2.2->ultralytics==8.0.0) (2.8.2)\n",
      "Requirement already satisfied: kiwisolver>=1.0.1 in /usr/local/lib/python3.8/dist-packages (from matplotlib>=3.2.2->ultralytics==8.0.0) (1.4.4)\n",
      "Requirement already satisfied: cycler>=0.10 in /usr/local/lib/python3.8/dist-packages (from matplotlib>=3.2.2->ultralytics==8.0.0) (0.11.0)\n",
      "Requirement already satisfied: pytz>=2017.3 in /usr/local/lib/python3.8/dist-packages (from pandas>=1.1.4->ultralytics==8.0.0) (2022.7.1)\n",
      "Requirement already satisfied: certifi>=2017.4.17 in /usr/local/lib/python3.8/dist-packages (from requests>=2.23.0->ultralytics==8.0.0) (2022.12.7)\n",
      "Requirement already satisfied: idna<3,>=2.5 in /usr/local/lib/python3.8/dist-packages (from requests>=2.23.0->ultralytics==8.0.0) (2.10)\n",
      "Requirement already satisfied: urllib3<1.27,>=1.21.1 in /usr/local/lib/python3.8/dist-packages (from requests>=2.23.0->ultralytics==8.0.0) (1.24.3)\n",
      "Requirement already satisfied: chardet<5,>=3.0.2 in /usr/local/lib/python3.8/dist-packages (from requests>=2.23.0->ultralytics==8.0.0) (4.0.0)\n",
      "Requirement already satisfied: tensorboard-plugin-wit>=1.6.0 in /usr/local/lib/python3.8/dist-packages (from tensorboard>=2.4.1->ultralytics==8.0.0) (1.8.1)\n",
      "Requirement already satisfied: protobuf<4,>=3.9.2 in /usr/local/lib/python3.8/dist-packages (from tensorboard>=2.4.1->ultralytics==8.0.0) (3.19.6)\n",
      "Requirement already satisfied: wheel>=0.26 in /usr/local/lib/python3.8/dist-packages (from tensorboard>=2.4.1->ultralytics==8.0.0) (0.38.4)\n",
      "Requirement already satisfied: absl-py>=0.4 in /usr/local/lib/python3.8/dist-packages (from tensorboard>=2.4.1->ultralytics==8.0.0) (1.4.0)\n",
      "Requirement already satisfied: werkzeug>=1.0.1 in /usr/local/lib/python3.8/dist-packages (from tensorboard>=2.4.1->ultralytics==8.0.0) (1.0.1)\n",
      "Requirement already satisfied: grpcio>=1.24.3 in /usr/local/lib/python3.8/dist-packages (from tensorboard>=2.4.1->ultralytics==8.0.0) (1.51.1)\n",
      "Requirement already satisfied: google-auth-oauthlib<0.5,>=0.4.1 in /usr/local/lib/python3.8/dist-packages (from tensorboard>=2.4.1->ultralytics==8.0.0) (0.4.6)\n",
      "Requirement already satisfied: markdown>=2.6.8 in /usr/local/lib/python3.8/dist-packages (from tensorboard>=2.4.1->ultralytics==8.0.0) (3.4.1)\n",
      "Requirement already satisfied: setuptools>=41.0.0 in /usr/local/lib/python3.8/dist-packages (from tensorboard>=2.4.1->ultralytics==8.0.0) (57.4.0)\n",
      "Requirement already satisfied: tensorboard-data-server<0.7.0,>=0.6.0 in /usr/local/lib/python3.8/dist-packages (from tensorboard>=2.4.1->ultralytics==8.0.0) (0.6.1)\n",
      "Requirement already satisfied: google-auth<3,>=1.6.3 in /usr/local/lib/python3.8/dist-packages (from tensorboard>=2.4.1->ultralytics==8.0.0) (2.16.0)\n",
      "Requirement already satisfied: typing-extensions in /usr/local/lib/python3.8/dist-packages (from torch>=1.7.0->ultralytics==8.0.0) (4.5.0)\n",
      "Requirement already satisfied: prompt-toolkit<2.1.0,>=2.0.0 in /usr/local/lib/python3.8/dist-packages (from ipython->ultralytics==8.0.0) (2.0.10)\n",
      "Collecting jedi>=0.10\n",
      "  Downloading jedi-0.18.2-py2.py3-none-any.whl (1.6 MB)\n",
      "\u001b[2K     \u001b[90m━━━━━━━━━━━━━━━━━━━━━━━━━━━━━━━━━━━━━━━━\u001b[0m \u001b[32m1.6/1.6 MB\u001b[0m \u001b[31m81.3 MB/s\u001b[0m eta \u001b[36m0:00:00\u001b[0m\n",
      "\u001b[?25hRequirement already satisfied: pygments in /usr/local/lib/python3.8/dist-packages (from ipython->ultralytics==8.0.0) (2.6.1)\n",
      "Requirement already satisfied: pexpect in /usr/local/lib/python3.8/dist-packages (from ipython->ultralytics==8.0.0) (4.8.0)\n",
      "Requirement already satisfied: traitlets>=4.2 in /usr/local/lib/python3.8/dist-packages (from ipython->ultralytics==8.0.0) (5.7.1)\n",
      "Requirement already satisfied: backcall in /usr/local/lib/python3.8/dist-packages (from ipython->ultralytics==8.0.0) (0.2.0)\n",
      "Requirement already satisfied: pickleshare in /usr/local/lib/python3.8/dist-packages (from ipython->ultralytics==8.0.0) (0.7.5)\n",
      "Requirement already satisfied: decorator in /usr/local/lib/python3.8/dist-packages (from ipython->ultralytics==8.0.0) (4.4.2)\n",
      "Collecting smmap<6,>=3.0.1\n",
      "  Downloading smmap-5.0.0-py3-none-any.whl (24 kB)\n",
      "Requirement already satisfied: six>=1.9.0 in /usr/local/lib/python3.8/dist-packages (from google-auth<3,>=1.6.3->tensorboard>=2.4.1->ultralytics==8.0.0) (1.15.0)\n",
      "Requirement already satisfied: cachetools<6.0,>=2.0.0 in /usr/local/lib/python3.8/dist-packages (from google-auth<3,>=1.6.3->tensorboard>=2.4.1->ultralytics==8.0.0) (5.3.0)\n",
      "Requirement already satisfied: pyasn1-modules>=0.2.1 in /usr/local/lib/python3.8/dist-packages (from google-auth<3,>=1.6.3->tensorboard>=2.4.1->ultralytics==8.0.0) (0.2.8)\n",
      "Requirement already satisfied: rsa<5,>=3.1.4 in /usr/local/lib/python3.8/dist-packages (from google-auth<3,>=1.6.3->tensorboard>=2.4.1->ultralytics==8.0.0) (4.9)\n",
      "Requirement already satisfied: requests-oauthlib>=0.7.0 in /usr/local/lib/python3.8/dist-packages (from google-auth-oauthlib<0.5,>=0.4.1->tensorboard>=2.4.1->ultralytics==8.0.0) (1.3.1)\n",
      "Requirement already satisfied: parso<0.9.0,>=0.8.0 in /usr/local/lib/python3.8/dist-packages (from jedi>=0.10->ipython->ultralytics==8.0.0) (0.8.3)\n",
      "Requirement already satisfied: importlib-metadata>=4.4 in /usr/local/lib/python3.8/dist-packages (from markdown>=2.6.8->tensorboard>=2.4.1->ultralytics==8.0.0) (6.0.0)\n",
      "Requirement already satisfied: wcwidth in /usr/local/lib/python3.8/dist-packages (from prompt-toolkit<2.1.0,>=2.0.0->ipython->ultralytics==8.0.0) (0.2.6)\n",
      "Requirement already satisfied: zipp>=3.1.0 in /usr/local/lib/python3.8/dist-packages (from importlib-resources->hydra-core>=1.2.0->ultralytics==8.0.0) (3.13.0)\n",
      "Requirement already satisfied: ptyprocess>=0.5 in /usr/local/lib/python3.8/dist-packages (from pexpect->ipython->ultralytics==8.0.0) (0.7.0)\n",
      "Requirement already satisfied: pyasn1<0.5.0,>=0.4.6 in /usr/local/lib/python3.8/dist-packages (from pyasn1-modules>=0.2.1->google-auth<3,>=1.6.3->tensorboard>=2.4.1->ultralytics==8.0.0) (0.4.8)\n",
      "Requirement already satisfied: oauthlib>=3.0.0 in /usr/local/lib/python3.8/dist-packages (from requests-oauthlib>=0.7.0->google-auth-oauthlib<0.5,>=0.4.1->tensorboard>=2.4.1->ultralytics==8.0.0) (3.2.2)\n",
      "Building wheels for collected packages: antlr4-python3-runtime\n",
      "  Building wheel for antlr4-python3-runtime (setup.py) ... \u001b[?25l\u001b[?25hdone\n",
      "  Created wheel for antlr4-python3-runtime: filename=antlr4_python3_runtime-4.9.3-py3-none-any.whl size=144575 sha256=78ed25985de76b4fbdc17a306b63cbfbe88df8ba686381addb1d66d4df698fc2\n",
      "  Stored in directory: /root/.cache/pip/wheels/b1/a3/c2/6df046c09459b73cc9bb6c4401b0be6c47048baf9a1617c485\n",
      "Successfully built antlr4-python3-runtime\n",
      "Installing collected packages: antlr4-python3-runtime, smmap, omegaconf, jedi, thop, hydra-core, gitdb, GitPython, ultralytics\n",
      "Successfully installed GitPython-3.1.31 antlr4-python3-runtime-4.9.3 gitdb-4.0.10 hydra-core-1.3.1 jedi-0.18.2 omegaconf-2.3.0 smmap-5.0.0 thop-0.1.1.post2209072238 ultralytics-8.0.0\n"
     ]
    },
    {
     "data": {
      "application/vnd.colab-display-data+json": {
       "pip_warning": {
        "packages": [
         "pydevd_plugins"
        ]
       }
      }
     },
     "metadata": {},
     "output_type": "display_data"
    }
   ],
   "source": [
    "\"\"\"This code sets an environment variable\"\"\"\n",
    "\n",
    "# Set the environment variable 'HYDRA_FULL_ERROR' to 1\n",
    "%env HYDRA_FULL_ERROR=1\n",
    "\n",
    "# Install required packages\n",
    "!pip install ultralytics==8.0.0"
   ]
  },
  {
   "cell_type": "code",
   "execution_count": null,
   "metadata": {
    "id": "-MBBzbRw8DBV"
   },
   "outputs": [],
   "source": [
    "from ultralytics import YOLO\n",
    "\n",
    "from PIL import Image\n",
    "import numpy as np\n",
    "import cv2\n",
    "import tensorflow as tf\n",
    "from osgeo import gdal\n",
    "import matplotlib.pyplot as plt\n",
    "import os\n",
    "import yaml"
   ]
  },
  {
   "cell_type": "code",
   "execution_count": null,
   "metadata": {
    "colab": {
     "base_uri": "https://localhost:8080/"
    },
    "executionInfo": {
     "elapsed": 3,
     "status": "ok",
     "timestamp": 1677038206634,
     "user": {
      "displayName": "Jeremy Peterson",
      "userId": "10141119356634341693"
     },
     "user_tz": -120
    },
    "id": "oFArX-o9YP-K",
    "outputId": "41d7dfc4-4c94-4e54-ecd4-2e6e87cbe142"
   },
   "outputs": [
    {
     "data": {
      "text/plain": [
       "[PhysicalDevice(name='/physical_device:GPU:0', device_type='GPU')]"
      ]
     },
     "execution_count": 5,
     "metadata": {},
     "output_type": "execute_result"
    }
   ],
   "source": [
    "# checking availability of GPU resources\n",
    "tf.config.list_physical_devices('GPU') "
   ]
  },
  {
   "cell_type": "markdown",
   "metadata": {
    "id": "wjaxS92MVMap"
   },
   "source": [
    "# **Data Loading and Data Structure**"
   ]
  },
  {
   "cell_type": "markdown",
   "metadata": {
    "id": "MHHY4fZBVRtY"
   },
   "source": [
    "### Data Loading"
   ]
  },
  {
   "cell_type": "code",
   "execution_count": null,
   "metadata": {
    "colab": {
     "base_uri": "https://localhost:8080/"
    },
    "executionInfo": {
     "elapsed": 50415,
     "status": "ok",
     "timestamp": 1677038257047,
     "user": {
      "displayName": "Jeremy Peterson",
      "userId": "10141119356634341693"
     },
     "user_tz": -120
    },
    "id": "JYsdsCVz7rKx",
    "outputId": "ccaf31ff-1358-4a83-dc50-b574941b2bb1"
   },
   "outputs": [
    {
     "name": "stdout",
     "output_type": "stream",
     "text": [
      "--2023-02-22 03:56:27--  https://www.dropbox.com/s/a62mjk53n17whg9/yolo-seg.zip?dl=0\n",
      "Resolving www.dropbox.com (www.dropbox.com)... 162.125.1.18, 2620:100:601c:18::a27d:612\n",
      "Connecting to www.dropbox.com (www.dropbox.com)|162.125.1.18|:443... connected.\n",
      "HTTP request sent, awaiting response... 302 Found\n",
      "Location: /s/raw/a62mjk53n17whg9/yolo-seg.zip [following]\n",
      "--2023-02-22 03:56:28--  https://www.dropbox.com/s/raw/a62mjk53n17whg9/yolo-seg.zip\n",
      "Reusing existing connection to www.dropbox.com:443.\n",
      "HTTP request sent, awaiting response... 302 Found\n",
      "Location: https://uc08f3efe931cc18db798be8000d.dl.dropboxusercontent.com/cd/0/inline/B2-U5H-fHst0ULHmkgPl83mLxBGgDlk7-Xq-MptfqotLrOY-K19zBWFHL8pLui_kN8zC1mrLwOMXRm4TNdeWizd3G9PULRGM34HgsLCLbwFR6NFvXFkYBjgUfu9xeIzwxXCD17AhtfsmxZCEE6oe1dJCC-_XPR8KrCEXi8A-wM8YCQ/file# [following]\n",
      "--2023-02-22 03:56:28--  https://uc08f3efe931cc18db798be8000d.dl.dropboxusercontent.com/cd/0/inline/B2-U5H-fHst0ULHmkgPl83mLxBGgDlk7-Xq-MptfqotLrOY-K19zBWFHL8pLui_kN8zC1mrLwOMXRm4TNdeWizd3G9PULRGM34HgsLCLbwFR6NFvXFkYBjgUfu9xeIzwxXCD17AhtfsmxZCEE6oe1dJCC-_XPR8KrCEXi8A-wM8YCQ/file\n",
      "Resolving uc08f3efe931cc18db798be8000d.dl.dropboxusercontent.com (uc08f3efe931cc18db798be8000d.dl.dropboxusercontent.com)... 162.125.81.15, 2620:100:6031:15::a27d:510f\n",
      "Connecting to uc08f3efe931cc18db798be8000d.dl.dropboxusercontent.com (uc08f3efe931cc18db798be8000d.dl.dropboxusercontent.com)|162.125.81.15|:443... connected.\n",
      "HTTP request sent, awaiting response... 302 Found\n",
      "Location: /cd/0/inline2/B29B5olBnK5FkZCXw6QhUtmwLBOmN2IvHJaDSRkMl_vbjtHyPWwnhFjVr2RBSwWSZRv9xEnx6IB9wBzBLtu82RGSoUMiLaEQ8ITzPSSAw7sgia__oSaGTfligt9IK32crbixds3Xe5IzXW0XpvoLp_3evKwyeqfjsl-KielL9I88_u1G1N_FPOKp1E_O7mgJUB9h-tcoqgklPS7E_D6YHEN8iLbs9BlrCeFsa1Z50WkD3SZ-NtG8OukPPD4bJUow-4jy71A7bwaAJKYK5DdxKgnSqjhvyWlUxMflSieSWju2bsXV3TemN4kdaPPOcBpPHkbAQVL8KKefFpUYpDMeEa-t-OWOTrS-3wTjqbwYG1ueaIa_o65bbqT00gfxAva8hVn7z47vm2YoDK2XCy8wKoPvPGmz-TcXFcpjTrPvU-AGfg/file [following]\n",
      "--2023-02-22 03:56:29--  https://uc08f3efe931cc18db798be8000d.dl.dropboxusercontent.com/cd/0/inline2/B29B5olBnK5FkZCXw6QhUtmwLBOmN2IvHJaDSRkMl_vbjtHyPWwnhFjVr2RBSwWSZRv9xEnx6IB9wBzBLtu82RGSoUMiLaEQ8ITzPSSAw7sgia__oSaGTfligt9IK32crbixds3Xe5IzXW0XpvoLp_3evKwyeqfjsl-KielL9I88_u1G1N_FPOKp1E_O7mgJUB9h-tcoqgklPS7E_D6YHEN8iLbs9BlrCeFsa1Z50WkD3SZ-NtG8OukPPD4bJUow-4jy71A7bwaAJKYK5DdxKgnSqjhvyWlUxMflSieSWju2bsXV3TemN4kdaPPOcBpPHkbAQVL8KKefFpUYpDMeEa-t-OWOTrS-3wTjqbwYG1ueaIa_o65bbqT00gfxAva8hVn7z47vm2YoDK2XCy8wKoPvPGmz-TcXFcpjTrPvU-AGfg/file\n",
      "Reusing existing connection to uc08f3efe931cc18db798be8000d.dl.dropboxusercontent.com:443.\n",
      "HTTP request sent, awaiting response... 200 OK\n",
      "Length: 19396029 (18M) [application/zip]\n",
      "Saving to: ‘yolo-seg.zip’\n",
      "\n",
      "yolo-seg.zip        100%[===================>]  18.50M  9.70MB/s    in 1.9s    \n",
      "\n",
      "2023-02-22 03:56:31 (9.70 MB/s) - ‘yolo-seg.zip’ saved [19396029/19396029]\n",
      "\n",
      "--2023-02-22 03:56:31--  https://www.dropbox.com/s/1s469jsvydvut7e/last.zip?dl=0\n",
      "Resolving www.dropbox.com (www.dropbox.com)... 162.125.1.18, 2620:100:601c:18::a27d:612\n",
      "Connecting to www.dropbox.com (www.dropbox.com)|162.125.1.18|:443... connected.\n",
      "HTTP request sent, awaiting response... 302 Found\n",
      "Location: /s/raw/1s469jsvydvut7e/last.zip [following]\n",
      "--2023-02-22 03:56:32--  https://www.dropbox.com/s/raw/1s469jsvydvut7e/last.zip\n",
      "Reusing existing connection to www.dropbox.com:443.\n",
      "HTTP request sent, awaiting response... 302 Found\n",
      "Location: https://uc7f24605c37588eed89016c612d.dl.dropboxusercontent.com/cd/0/inline/B2_USPPENXgtDQ780KKW4wN4AHedGBjBb6Pfo3nxyW_JmwEl-46tqw5i30SnpqpIpqNGhtIPvbF_gKLcCV4O8eRoQtCo96yzc1nBEKTh8a7uAteuUou-CV9FLIQiT1T67JOTvEGLXbyvAsItdCeCUpzMcEby1G5rFR7r_-kq9ZDSbg/file# [following]\n",
      "--2023-02-22 03:56:33--  https://uc7f24605c37588eed89016c612d.dl.dropboxusercontent.com/cd/0/inline/B2_USPPENXgtDQ780KKW4wN4AHedGBjBb6Pfo3nxyW_JmwEl-46tqw5i30SnpqpIpqNGhtIPvbF_gKLcCV4O8eRoQtCo96yzc1nBEKTh8a7uAteuUou-CV9FLIQiT1T67JOTvEGLXbyvAsItdCeCUpzMcEby1G5rFR7r_-kq9ZDSbg/file\n",
      "Resolving uc7f24605c37588eed89016c612d.dl.dropboxusercontent.com (uc7f24605c37588eed89016c612d.dl.dropboxusercontent.com)... 162.125.81.15, 2620:100:601c:15::a27d:60f\n",
      "Connecting to uc7f24605c37588eed89016c612d.dl.dropboxusercontent.com (uc7f24605c37588eed89016c612d.dl.dropboxusercontent.com)|162.125.81.15|:443... connected.\n",
      "HTTP request sent, awaiting response... 302 Found\n",
      "Location: /cd/0/inline2/B29sGxychorMkijZXnZE0FhJutgM6H1v_IlJ0ikDy6cbX-g6MPI5LGMmjoLYx8fUQjYV8DTbVhYAOKbGWv_8ZqfGjNT631PesMn7d6bKDs1CKg3bMt2Wfe6nVMnU_gw5cMHZAXJUjgCvmLaHPVTr1WFQ5kei2StilAHCQ92Rpga6uQwCiniWgFK_ULMyoeY04eAN4f4HX7LYGV9P0A7Hkhb_3A60lwjVIc6dtvh2V778YcMBAPSnx71e4uXEFphB42m16VoAFfBhZE-b5zNm_j7BMvL4IDHJnQv7435AcDgbB9D1LopOQQEDRYhkU_AQBTCbhgkObeUaQM7keCNyrT2T8hwKvXUnWJRmuHH2HHfScmDBHQw6wCNtwkRZtvvtjVKM6hYc4HvNtvURAa1dvsmzxCXnaLBp9tcOEcOYB--XnQ/file [following]\n",
      "--2023-02-22 03:56:33--  https://uc7f24605c37588eed89016c612d.dl.dropboxusercontent.com/cd/0/inline2/B29sGxychorMkijZXnZE0FhJutgM6H1v_IlJ0ikDy6cbX-g6MPI5LGMmjoLYx8fUQjYV8DTbVhYAOKbGWv_8ZqfGjNT631PesMn7d6bKDs1CKg3bMt2Wfe6nVMnU_gw5cMHZAXJUjgCvmLaHPVTr1WFQ5kei2StilAHCQ92Rpga6uQwCiniWgFK_ULMyoeY04eAN4f4HX7LYGV9P0A7Hkhb_3A60lwjVIc6dtvh2V778YcMBAPSnx71e4uXEFphB42m16VoAFfBhZE-b5zNm_j7BMvL4IDHJnQv7435AcDgbB9D1LopOQQEDRYhkU_AQBTCbhgkObeUaQM7keCNyrT2T8hwKvXUnWJRmuHH2HHfScmDBHQw6wCNtwkRZtvvtjVKM6hYc4HvNtvURAa1dvsmzxCXnaLBp9tcOEcOYB--XnQ/file\n",
      "Reusing existing connection to uc7f24605c37588eed89016c612d.dl.dropboxusercontent.com:443.\n",
      "HTTP request sent, awaiting response... 200 OK\n",
      "Length: 508399089 (485M) [application/zip]\n",
      "Saving to: ‘model.zip’\n",
      "\n",
      "model.zip           100%[===================>] 484.85M  8.71MB/s    in 42s     \n",
      "\n",
      "2023-02-22 03:57:16 (11.4 MB/s) - ‘model.zip’ saved [508399089/508399089]\n",
      "\n"
     ]
    }
   ],
   "source": [
    "\"\"\"This code downloads data from Dropbox\"\"\"\n",
    "\n",
    "# Download the data from Dropbox\n",
    "# and save it as 'yolo-seg.zip'\n",
    "!wget https://www.dropbox.com/s/a62mjk53n17whg9/yolo-seg.zip?dl=0 -O yolo-seg.zip\n",
    "\n",
    "\"\"\"This code downloads model from Dropbox\"\"\"\n",
    "\n",
    "# Download the data from Dropbox\n",
    "# and save it as 'model.zip'\n",
    "!wget https://www.dropbox.com/s/1s469jsvydvut7e/last.zip?dl=0 -O model.zip\n"
   ]
  },
  {
   "cell_type": "code",
   "execution_count": null,
   "metadata": {
    "id": "amihuKO4L9Za"
   },
   "outputs": [],
   "source": [
    "\"\"\"This code extracts data from a zip file\"\"\"\n",
    "\n",
    "# Set the path to the zip file\n",
    "zipfilepath = \"yolo-seg.zip\"\n",
    "\n",
    "# Set the target directory\n",
    "target_dir = \"./\"\n",
    "\n",
    "# Import the ZipFile class\n",
    "from zipfile import ZipFile\n",
    "\n",
    "# Extract the zip file to the target directory\n",
    "with ZipFile(str(zipfilepath), 'r') as zipObj:\n",
    "   zipObj.extractall(path=str(target_dir))\n",
    "\n",
    "# Set the path to the zip file\n",
    "zipfilepath = \"model.zip\"\n",
    "\n",
    "# Set the target directory\n",
    "target_dir = \"./\"\n",
    "\n",
    "# Extract the zip file to the target directory\n",
    "with ZipFile(str(zipfilepath), 'r') as zipObj:\n",
    "   zipObj.extractall(path=str(target_dir))"
   ]
  },
  {
   "cell_type": "markdown",
   "metadata": {
    "id": "c2SZCCHePA8X"
   },
   "source": [
    "### Data Structure\n",
    "\n",
    "- yolo-seg\n",
    "  - train\n",
    "    - images\n",
    "      - 000c57e6_74f7_4d78_ae65_5b7a6c50ce68.jpg\n",
    "      - 003280f5_57ac_4e31_9011_ff081dce6208.jpg\n",
    "    - labels\n",
    "      - 000c57e6_74f7_4d78_ae65_5b7a6c50ce68.txt\n",
    "      - 003280f5_57ac_4e31_9011_ff081dce6208.txt\n",
    "  - valid\n",
    "    - images\n",
    "      - 003280f5_57ac_4e31_9011_ff081dce6208.jpg\n",
    "      - 00a1af5d_7dbf_4c9e_81e1_d41d6f9aa7a8.jpg\n",
    "    - labels\n",
    "      - 003280f5_57ac_4e31_9011_ff081dce6208.txt\n",
    "      - 00a1af5d_7dbf_4c9e_81e1_d41d6f9aa7a8.txt\n",
    "  - classes.txt\n",
    "  - ghana-seg.yaml"
   ]
  },
  {
   "cell_type": "code",
   "execution_count": null,
   "metadata": {
    "colab": {
     "base_uri": "https://localhost:8080/"
    },
    "executionInfo": {
     "elapsed": 556,
     "status": "ok",
     "timestamp": 1677038330162,
     "user": {
      "displayName": "Jeremy Peterson",
      "userId": "10141119356634341693"
     },
     "user_tz": -120
    },
    "id": "knYal68oL9O_",
    "outputId": "815d18f9-ac0f-4bed-9155-725ec20a5d25"
   },
   "outputs": [
    {
     "name": "stdout",
     "output_type": "stream",
     "text": [
      "classes.txt  ghana-seg.yaml  \u001b[0m\u001b[01;34mtest\u001b[0m/  \u001b[01;34mtrain\u001b[0m/  \u001b[01;34mvalid\u001b[0m/\n"
     ]
    }
   ],
   "source": [
    "ls ./yolo-seg"
   ]
  },
  {
   "cell_type": "markdown",
   "metadata": {
    "id": "nOZD7J8HSUFY"
   },
   "source": [
    "#### **Classes**:\n",
    "**Example of Schema**:\n",
    "\n",
    "0 roof\n",
    "\n",
    "1 car\n",
    "\n",
    "2 human\n",
    "\n",
    "3 animal\n",
    "\n",
    "4 road\n",
    "\n",
    "**Case with roofs**:\n",
    "\n",
    "0 roof"
   ]
  },
  {
   "cell_type": "code",
   "execution_count": null,
   "metadata": {
    "colab": {
     "base_uri": "https://localhost:8080/",
     "height": 52
    },
    "executionInfo": {
     "elapsed": 5,
     "status": "ok",
     "timestamp": 1677038330162,
     "user": {
      "displayName": "Jeremy Peterson",
      "userId": "10141119356634341693"
     },
     "user_tz": -120
    },
    "id": "LKFSAYoVSSJS",
    "outputId": "f5a6e756-8ed4-4d47-82c0-b1c17c049849"
   },
   "outputs": [
    {
     "name": "stdout",
     "output_type": "stream",
     "text": [
      "classes.txt:\n"
     ]
    },
    {
     "data": {
      "text/plain": [
       "['roof']"
      ]
     },
     "metadata": {},
     "output_type": "display_data"
    }
   ],
   "source": [
    "with open('./yolo-seg/classes.txt') as f:\n",
    "    classes = f.readlines()\n",
    "print(\"classes.txt:\")\n",
    "display(classes)\n"
   ]
  },
  {
   "cell_type": "markdown",
   "metadata": {
    "id": "WhOmNv80Szvi"
   },
   "source": [
    "#### Yaml Configuration File\n",
    "\n",
    "**path**: ./yolo-seg  # dataset root dir\n",
    "\n",
    "**train**: train  # train images (relative to 'path') 946 images\n",
    "\n",
    "**val**: test  # val images (relative to 'path') 165 images\n",
    "\n",
    "**test**: test # test images (optional) 219 images\n",
    "\n",
    "###### # classes\n",
    "**names**:\n",
    "  * 0: roof\n"
   ]
  },
  {
   "cell_type": "code",
   "execution_count": null,
   "metadata": {
    "colab": {
     "base_uri": "https://localhost:8080/",
     "height": 156
    },
    "executionInfo": {
     "elapsed": 4,
     "status": "ok",
     "timestamp": 1677038336654,
     "user": {
      "displayName": "Jeremy Peterson",
      "userId": "10141119356634341693"
     },
     "user_tz": -120
    },
    "id": "0nL8s-BVTj0w",
    "outputId": "d40d402f-1ec7-463d-c89d-05e8e42151bd"
   },
   "outputs": [
    {
     "name": "stdout",
     "output_type": "stream",
     "text": [
      "\n",
      "yaml file parameters:\n",
      "\n"
     ]
    },
    {
     "data": {
      "text/plain": [
       "{'path': './yolo-seg',\n",
       " 'train': 'train',\n",
       " 'val': 'valid',\n",
       " 'test': 'test',\n",
       " 'names': {0: 'roof'}}"
      ]
     },
     "metadata": {},
     "output_type": "display_data"
    }
   ],
   "source": [
    "print(\"\\nyaml file parameters:\\n\")\n",
    "with open(\"./yolo-seg/ghana-seg.yaml\", 'r') as stream:\n",
    "    data_loaded = yaml.safe_load(stream)\n",
    "display(data_loaded)\n"
   ]
  },
  {
   "cell_type": "markdown",
   "metadata": {
    "id": "Zh14PDNHTnun"
   },
   "source": [
    "#### **Label file**\n",
    "\n",
    "* class_name x1_norm y1_norm x2_norm y2_norm x3_norm y3_norm\n",
    "* class_name x1_norm y1_norm x2_norm y2_norm x3_norm y3_norm x4_norm y4_norm\n",
    "\n",
    "# **Example with roofs**\n",
    "* 0 0.07 0.17 0.06 0.23 0.0 0.22 0.0 0.16 0.07 0.17\n",
    "\n",
    "# **Coordinates Normalization**\n",
    "* X coordinates are normalized by the width of an image\n",
    "* Y coordinates are normalized by the height of an image"
   ]
  },
  {
   "cell_type": "code",
   "execution_count": null,
   "metadata": {
    "colab": {
     "base_uri": "https://localhost:8080/",
     "height": 520
    },
    "executionInfo": {
     "elapsed": 416,
     "status": "ok",
     "timestamp": 1677038339639,
     "user": {
      "displayName": "Jeremy Peterson",
      "userId": "10141119356634341693"
     },
     "user_tz": -120
    },
    "id": "n81zc697NPWY",
    "outputId": "924c2d88-1b30-45c8-e722-16cd9beb01de"
   },
   "outputs": [
    {
     "name": "stdout",
     "output_type": "stream",
     "text": [
      "labels example:\n",
      "\n"
     ]
    },
    {
     "data": {
      "text/plain": [
       "['0 0.99609375 0.35546875 0.99609375 0.578125 0.99609375 0.58984375 0.99609375 0.58984375 0.99609375 0.66015625 0.92578125 0.6484375 0.97265625 0.3515625 0.99609375 0.35546875\\n',\n",
       " '0 0.109375 0.359375 0.12890625 0.48046875 0.140625 0.5703125 0.0 0.59375 0.0 0.375 0.109375 0.359375\\n',\n",
       " '0 0.73046875 0.40625 0.70703125 0.5546875 0.5703125 0.53125 0.59375 0.38671875 0.73046875 0.40625\\n',\n",
       " '0 0.95703125 0.39453125 0.9375 0.55859375 0.7265625 0.53125 0.74609375 0.3671875 0.95703125 0.39453125\\n',\n",
       " '0 0.5859375 0.31640625 0.578125 0.375 0.55078125 0.37109375 0.546875 0.3984375 0.37890625 0.37890625 0.390625 0.2890625 0.5859375 0.31640625\\n',\n",
       " '0 0.3125 0.26171875 0.3203125 0.3046875 0.3359375 0.3046875 0.33984375 0.359375 0.16015625 0.37890625 0.1484375 0.26171875 0.3125 0.26171875\\n',\n",
       " '0 0.99609375 0.27734375 0.99609375 0.34765625 0.9765625 0.34765625 0.98828125 0.27734375 0.99609375 0.27734375\\n',\n",
       " '0 0.9375 0.265625 0.921875 0.36328125 0.74609375 0.33984375 0.7578125 0.2421875 0.9375 0.265625\\n',\n",
       " '0 0.7421875 0.328125 0.609375 0.30859375 0.6171875 0.27734375 0.74609375 0.29296875 0.7421875 0.328125\\n',\n",
       " '0 0.91796875 0.18359375 0.91796875 0.23828125 0.84375 0.23828125 0.84375 0.1796875 0.91796875 0.18359375\\n',\n",
       " '0 0.12109375 0.24609375 0.06640625 0.234375 0.0859375 0.16015625 0.13671875 0.17578125 0.12109375 0.24609375\\n',\n",
       " '0 0.07421875 0.1796875 0.0625 0.234375 0.0 0.22265625 0.0 0.1640625 0.07421875 0.1796875\\n',\n",
       " '0 0.0625 0.17578125 0.00390625 0.1640625 0.015625 0.1015625 0.078125 0.11328125 0.0625 0.17578125\\n',\n",
       " '0 0.0 0.91015625 0.00390625 0.99609375 0.0 0.99609375 0.0 0.91015625 0.0 0.91015625\\n',\n",
       " '0 0.40625 0.9765625 0.41015625 0.99609375 0.34375 0.99609375 0.34375 0.984375 0.40625 0.9765625\\n',\n",
       " '0 0.18359375 0.9609375 0.18359375 0.98828125 0.2109375 0.984375 0.21484375 0.99609375 0.12890625 0.99609375 0.125 0.96484375 0.18359375 0.9609375\\n',\n",
       " '0 0.5234375 0.9296875 0.53125 0.99609375 0.42578125 0.99609375 0.41796875 0.9453125 0.5234375 0.9296875\\n',\n",
       " '0 0.546875 0.93359375 0.80859375 0.92578125 0.80859375 0.94921875 0.8359375 0.94921875 0.83984375 0.99609375 0.546875 0.99609375 0.546875 0.93359375\\n',\n",
       " '0 0.1640625 0.9140625 0.1640625 0.9453125 0.13671875 0.9453125 0.140625 0.9140625 0.1640625 0.9140625\\n',\n",
       " '0 0.71484375 0.77734375 0.71484375 0.8125 0.68359375 0.8125 0.68359375 0.77734375 0.71484375 0.77734375\\n',\n",
       " '0 0.78125 0.765625 0.78125 0.79296875 0.76953125 0.796875 0.765625 0.765625 0.78125 0.765625\\n',\n",
       " '0 0.7578125 0.75390625 0.76171875 0.796875 0.7265625 0.80078125 0.71875 0.7578125 0.7578125 0.75390625\\n',\n",
       " '0 0.83203125 0.73828125 0.828125 0.79296875 0.78515625 0.7890625 0.7890625 0.73828125 0.83203125 0.73828125\\n',\n",
       " '0 0.99609375 0.68359375 0.99609375 0.8125 0.91796875 0.8046875 0.93359375 0.67578125 0.99609375 0.68359375\\n',\n",
       " '0 0.7578125 0.69140625 0.70703125 0.68359375 0.7109375 0.64453125 0.765625 0.65234375 0.7578125 0.69140625\\n',\n",
       " '0 0.71484375 0.54296875 0.890625 0.5703125 0.87890625 0.6484375 0.703125 0.625 0.71484375 0.54296875\\n',\n",
       " '0 0.34765625 0.375 0.3828125 0.70703125 0.3515625 0.70703125 0.359375 0.7578125 0.22265625 0.76953125 0.1796875 0.390625 0.34765625 0.375']"
      ]
     },
     "metadata": {},
     "output_type": "display_data"
    }
   ],
   "source": [
    "with open('./yolo-seg/train/labels/000c57e6_74f7_4d78_ae65_5b7a6c50ce68.txt') as f:\n",
    "    labels_examples = f.readlines()\n",
    "print(\"labels example:\\n\")\n",
    "display(labels_examples)\n"
   ]
  },
  {
   "cell_type": "markdown",
   "metadata": {
    "id": "wT2E-9wWWiKJ"
   },
   "source": [
    "# YOLOv8 training"
   ]
  },
  {
   "cell_type": "markdown",
   "metadata": {
    "id": "KYsnQD5GWmmP"
   },
   "source": [
    "### YOLOv8 main hyperparams\n",
    "\n",
    "* https://docs.ultralytics.com/\n",
    "* https://github.com/ultralytics/ultralytics\n",
    "* https://github.com/ultralytics/ultralytics/blob/main/ultralytics/yolo/cfg/default.yaml\n"
   ]
  },
  {
   "cell_type": "code",
   "execution_count": null,
   "metadata": {
    "id": "sd7ffI4CO_D7"
   },
   "outputs": [],
   "source": [
    "model_name = 'yolov8n-seg.pt' # path to model file, i.e. yolov8n-seg.pt, yolov8n-seg.yaml\n",
    "data = './yolo-seg/ghana-seg.yaml' # path to data file, i.e. i.e. coco128.yaml\n",
    "epochs = 3 # number of epochs to train for\n",
    "resume = False  # resume training from last checkpoint\n",
    "imgsz = 256 # size of input images as integer or w,h\n",
    "optimizer = \"Adam\" # optimizer to use, choices=['SGD', 'Adam', 'AdamW', 'RMSProp']\n",
    "lr0 = 3E-04  # initial learning rate (i.e. SGD=1E-2, Adam=1E-3)\n"
   ]
  },
  {
   "cell_type": "markdown",
   "metadata": {
    "id": "koyKxtQTYJsq"
   },
   "source": [
    "### Model training"
   ]
  },
  {
   "cell_type": "code",
   "execution_count": null,
   "metadata": {
    "colab": {
     "base_uri": "https://localhost:8080/",
     "height": 1000,
     "referenced_widgets": [
      "90d6192586b7418fbff8ecad4a3a54e2",
      "ceeb75c3914e4f92adde4052e385abb1",
      "8e0cb0bb6e674d6885b7e400a3882fff",
      "7e71040679a74c97969a67dfa80c0147",
      "b436d6cfb1084202bbba100ec3019cb2",
      "b0c6c7f00ce540539eb369f66daa198e",
      "4f3fadf75e624cdc891ec42475c46971",
      "94d1591cde8c41c882f947ca707f02f8",
      "0b66f43a85da4e5f841b305a7c3a6992",
      "04272e3d74954f389794e0e024b0d1e6",
      "7d1469523b5e45b78ab5106efb444280"
     ]
    },
    "executionInfo": {
     "elapsed": 449639,
     "status": "ok",
     "timestamp": 1677038794093,
     "user": {
      "displayName": "Jeremy Peterson",
      "userId": "10141119356634341693"
     },
     "user_tz": -120
    },
    "id": "vkzHxVYL7q9u",
    "outputId": "6aee1aa0-7177-4dcf-ccb2-38458b09fc28"
   },
   "outputs": [
    {
     "name": "stderr",
     "output_type": "stream",
     "text": [
      "\u001b[34m\u001b[1myolo/engine/trainer: \u001b[0mtask=segment, mode=train, model=yolov8n-seg.yaml, data=./yolo-seg/ghana-seg.yaml, epochs=3, patience=50, batch=16, imgsz=256, save=True, cache=False, device=None, workers=8, project=None, name=None, exist_ok=False, pretrained=False, optimizer=Adam, verbose=False, seed=0, deterministic=True, single_cls=False, image_weights=False, rect=False, cos_lr=False, close_mosaic=10, resume=False, overlap_mask=True, mask_ratio=4, dropout=False, val=True, save_json=False, save_hybrid=False, conf=0.001, iou=0.7, max_det=300, half=False, dnn=False, plots=True, source=ultralytics/assets/, show=False, save_txt=False, save_conf=False, save_crop=False, hide_labels=False, hide_conf=False, vid_stride=1, line_thickness=3, visualize=False, augment=False, agnostic_nms=False, retina_masks=False, format=torchscript, keras=False, optimize=False, int8=False, dynamic=False, simplify=False, opset=17, workspace=4, nms=False, lr0=0.0003, lrf=0.01, momentum=0.937, weight_decay=0.001, warmup_epochs=3.0, warmup_momentum=0.8, warmup_bias_lr=0.1, box=7.5, cls=0.5, dfl=1.5, fl_gamma=0.0, label_smoothing=0.0, nbs=64, hsv_h=0.015, hsv_s=0.7, hsv_v=0.4, degrees=0.0, translate=0.1, scale=0.5, shear=0.0, perspective=0.0, flipud=0.0, fliplr=0.5, mosaic=1.0, mixup=0.0, copy_paste=0.0, hydra={'output_subdir': None, 'run': {'dir': '.'}}, v5loader=False, save_dir=runs/segment/train2\n",
      "Ultralytics YOLOv8.0.0 🚀 Python-3.8.10 torch-1.13.1+cu116 CUDA:0 (Tesla T4, 15110MiB)\n",
      "Downloading https://ultralytics.com/assets/Arial.ttf to /root/.config/Ultralytics/Arial.ttf...\n"
     ]
    },
    {
     "data": {
      "application/vnd.jupyter.widget-view+json": {
       "model_id": "90d6192586b7418fbff8ecad4a3a54e2",
       "version_major": 2,
       "version_minor": 0
      },
      "text/plain": [
       "  0%|          | 0.00/755k [00:00<?, ?B/s]"
      ]
     },
     "metadata": {},
     "output_type": "display_data"
    },
    {
     "name": "stderr",
     "output_type": "stream",
     "text": [
      "Overriding model.yaml nc=80 with nc=1\n",
      "\n",
      "                   from  n    params  module                                       arguments                     \n",
      "  0                  -1  1       464  ultralytics.nn.modules.Conv                  [3, 16, 3, 2]                 \n",
      "  1                  -1  1      4672  ultralytics.nn.modules.Conv                  [16, 32, 3, 2]                \n",
      "  2                  -1  1      7360  ultralytics.nn.modules.C2f                   [32, 32, 1, True]             \n",
      "  3                  -1  1     18560  ultralytics.nn.modules.Conv                  [32, 64, 3, 2]                \n",
      "  4                  -1  2     49664  ultralytics.nn.modules.C2f                   [64, 64, 2, True]             \n",
      "  5                  -1  1     73984  ultralytics.nn.modules.Conv                  [64, 128, 3, 2]               \n",
      "  6                  -1  2    197632  ultralytics.nn.modules.C2f                   [128, 128, 2, True]           \n",
      "  7                  -1  1    295424  ultralytics.nn.modules.Conv                  [128, 256, 3, 2]              \n",
      "  8                  -1  1    460288  ultralytics.nn.modules.C2f                   [256, 256, 1, True]           \n",
      "  9                  -1  1    164608  ultralytics.nn.modules.SPPF                  [256, 256, 5]                 \n",
      " 10                  -1  1         0  torch.nn.modules.upsampling.Upsample         [None, 2, 'nearest']          \n",
      " 11             [-1, 6]  1         0  ultralytics.nn.modules.Concat                [1]                           \n",
      " 12                  -1  1    148224  ultralytics.nn.modules.C2f                   [384, 128, 1]                 \n",
      " 13                  -1  1         0  torch.nn.modules.upsampling.Upsample         [None, 2, 'nearest']          \n",
      " 14             [-1, 4]  1         0  ultralytics.nn.modules.Concat                [1]                           \n",
      " 15                  -1  1     37248  ultralytics.nn.modules.C2f                   [192, 64, 1]                  \n",
      " 16                  -1  1     36992  ultralytics.nn.modules.Conv                  [64, 64, 3, 2]                \n",
      " 17            [-1, 12]  1         0  ultralytics.nn.modules.Concat                [1]                           \n",
      " 18                  -1  1    123648  ultralytics.nn.modules.C2f                   [192, 128, 1]                 \n",
      " 19                  -1  1    147712  ultralytics.nn.modules.Conv                  [128, 128, 3, 2]              \n",
      " 20             [-1, 9]  1         0  ultralytics.nn.modules.Concat                [1]                           \n",
      " 21                  -1  1    493056  ultralytics.nn.modules.C2f                   [384, 256, 1]                 \n",
      " 22        [15, 18, 21]  1   1004275  ultralytics.nn.modules.Segment               [1, 32, 64, [64, 128, 256]]   \n",
      "YOLOv8n-seg summary: 261 layers, 3263811 parameters, 3263795 gradients, 12.1 GFLOPs\n",
      "\n",
      "Transferred 381/417 items from pretrained weights\n",
      "\u001b[34m\u001b[1moptimizer:\u001b[0m Adam(lr=0.0003) with parameter groups 66 weight(decay=0.0), 77 weight(decay=0.001), 76 bias\n",
      "\u001b[34m\u001b[1mtrain: \u001b[0mScanning /content/drive/MyDrive/roof_recognition/yolo-seg/train/labels... 946 images, 15 backgrounds, 0 corrupt: 100%|██████████| 946/946 [00:07<00:00, 133.93it/s]\n",
      "\u001b[34m\u001b[1mtrain: \u001b[0mNew cache created: /content/drive/MyDrive/roof_recognition/yolo-seg/train/labels.cache\n",
      "\u001b[34m\u001b[1malbumentations: \u001b[0mBlur(p=0.01, blur_limit=(3, 7)), MedianBlur(p=0.01, blur_limit=(3, 7)), ToGray(p=0.01), CLAHE(p=0.01, clip_limit=(1, 4.0), tile_grid_size=(8, 8))\n",
      "\u001b[34m\u001b[1mval: \u001b[0mScanning /content/drive/MyDrive/roof_recognition/yolo-seg/valid/labels... 165 images, 2 backgrounds, 0 corrupt: 100%|██████████| 165/165 [00:00<00:00, 195.29it/s]\n",
      "\u001b[34m\u001b[1mval: \u001b[0mNew cache created: /content/drive/MyDrive/roof_recognition/yolo-seg/valid/labels.cache\n",
      "Image sizes 256 train, 256 val\n",
      "Using 2 dataloader workers\n",
      "Logging results to \u001b[1mruns/segment/train2\u001b[0m\n",
      "Starting training for 3 epochs...\n",
      "\n",
      "      Epoch    GPU_mem   box_loss   seg_loss   cls_loss   dfl_loss  Instances       Size\n",
      "        1/3      2.03G      1.897      3.427     0.3263      1.284         71        256: 100%|██████████| 60/60 [02:03<00:00,  2.06s/it]\n",
      "                 Class     Images  Instances      Box(P          R      mAP50  mAP50-95)     Mask(P          R      mAP50  mAP50-95): 100%|██████████| 6/6 [00:03<00:00,  1.83it/s]\n",
      "                   all        165       4928       0.42      0.243       0.22     0.0977      0.193     0.0692     0.0373     0.0108\n",
      "\n",
      "      Epoch    GPU_mem   box_loss   seg_loss   cls_loss   dfl_loss  Instances       Size\n",
      "        2/3      3.05G      1.678      2.857     0.2232      1.159        120        256: 100%|██████████| 60/60 [01:55<00:00,  1.93s/it]\n",
      "                 Class     Images  Instances      Box(P          R      mAP50  mAP50-95)     Mask(P          R      mAP50  mAP50-95): 100%|██████████| 6/6 [00:03<00:00,  1.70it/s]\n",
      "                   all        165       4928      0.474      0.412      0.386      0.201        0.4      0.312       0.26     0.0973\n",
      "\n",
      "      Epoch    GPU_mem   box_loss   seg_loss   cls_loss   dfl_loss  Instances       Size\n",
      "        3/3      3.05G      1.611        2.7       0.21      1.149         47        256: 100%|██████████| 60/60 [01:53<00:00,  1.90s/it]\n",
      "                 Class     Images  Instances      Box(P          R      mAP50  mAP50-95)     Mask(P          R      mAP50  mAP50-95): 100%|██████████| 6/6 [00:09<00:00,  1.56s/it]\n",
      "                   all        165       4928      0.491      0.454      0.432      0.235      0.483      0.422      0.394      0.182\n",
      "\n",
      "3 epochs completed in 0.107 hours.\n",
      "Optimizer stripped from runs/segment/train2/weights/last.pt, 6.7MB\n",
      "Optimizer stripped from runs/segment/train2/weights/best.pt, 6.7MB\n",
      "\n",
      "Validating runs/segment/train2/weights/best.pt...\n",
      "Ultralytics YOLOv8.0.0 🚀 Python-3.8.10 torch-1.13.1+cu116 CUDA:0 (Tesla T4, 15110MiB)\n",
      "Fusing layers... \n",
      "YOLOv8n-seg summary: 195 layers, 3258259 parameters, 0 gradients, 12.0 GFLOPs\n",
      "                 Class     Images  Instances      Box(P          R      mAP50  mAP50-95)     Mask(P          R      mAP50  mAP50-95): 100%|██████████| 6/6 [00:31<00:00,  5.21s/it]\n",
      "                   all        165       4928      0.488      0.454       0.43      0.235      0.488      0.438      0.409      0.196\n",
      "Speed: 0.3ms pre-process, 2.6ms inference, 0.0ms loss, 3.4ms post-process per image\n",
      "Saving runs/segment/train2/predictions.json...\n",
      "Results saved to \u001b[1mruns/segment/train2\u001b[0m\n"
     ]
    }
   ],
   "source": [
    "model = YOLO(model_name)  # load a pretrained YOLOv8n-seg segmentation model\n",
    "results = model.train(data=data, epochs=epochs, resume=resume, imgsz=imgsz, optimizer=optimizer, lr0=lr0)  # train the model"
   ]
  },
  {
   "cell_type": "markdown",
   "metadata": {
    "id": "KDBHVpC4rbOi"
   },
   "source": [
    "# Loading pretrained model and predicting results"
   ]
  },
  {
   "cell_type": "code",
   "execution_count": null,
   "metadata": {
    "id": "ZjJKM_c5n60D"
   },
   "outputs": [],
   "source": [
    "model_name = \"./last.pt\"\n",
    "model = YOLO(model_name)"
   ]
  },
  {
   "cell_type": "markdown",
   "metadata": {
    "id": "p5LDqs_3soYJ"
   },
   "source": [
    "### Predicting examples"
   ]
  },
  {
   "cell_type": "code",
   "execution_count": null,
   "metadata": {
    "id": "pGbzs4MP8IFH"
   },
   "outputs": [],
   "source": [
    "from osgeo import gdal\n",
    "import matplotlib.pyplot as plt\n",
    "\n",
    "\n",
    "def plot_result_yolo(image_id, pred_mask, folder_mask, folder_chips, class_names):\n",
    "\n",
    "  f, (ax1, ax2, ax3) = plt.subplots(1, 3, sharey=True, figsize=(30, 15))\n",
    "\n",
    "  dataset = gdal.Open(f'{base_path}/{folder_name}/{folder_chips}/{image_id.replace(\".mask\", \"\")}')\n",
    "  image = np.dstack([dataset.GetRasterBand(i+1).ReadAsArray()\n",
    "                     for i in range(dataset.RasterCount)])\n",
    "  ax1.imshow(image, alpha=1)\n",
    "\n",
    "  dataset = gdal.Open(f'{base_path}/{folder_name}/{folder_mask}/{image_id}')\n",
    "  true_mask = dataset.GetRasterBand(1).ReadAsArray()\n",
    "  ax2.imshow(true_mask, cmap=\"magma\")\n",
    "  ax2.imshow(image, alpha=0.7)\n",
    "\n",
    "  ax3.imshow(pred_mask, cmap=\"magma\")\n",
    "  ax3.imshow(image, alpha=0.7)\n",
    "\n",
    "  ax1.axis('off')\n",
    "  ax2.axis('off')\n",
    "  ax3.axis('off')\n",
    "  plt.show()\n",
    "\n",
    "  score = compute_metrics(true_mask, pred_mask, class_names)\n",
    "  return score\n"
   ]
  },
  {
   "cell_type": "code",
   "execution_count": null,
   "metadata": {
    "id": "aNh6PNC59YU5"
   },
   "outputs": [],
   "source": [
    "def compute_metrics(y_true, y_pred, class_names):\n",
    "  '''\n",
    "  Computes IOU and Dice Score.\n",
    "\n",
    "  Args:\n",
    "    y_true (tensor) - ground truth label map\n",
    "    y_pred (tensor) - predicted label map\n",
    "  '''\n",
    "  \n",
    "  class_wise_iou = []\n",
    "  class_wise_dice_score = []\n",
    "\n",
    "  smoothening_factor = 0.00001\n",
    "\n",
    "  for i in range(len(class_names)):\n",
    "    intersection = np.sum((y_pred == i) * (y_true == i))\n",
    "    y_true_area = np.sum((y_true == i))\n",
    "    y_pred_area = np.sum((y_pred == i))\n",
    "    combined_area = y_true_area + y_pred_area\n",
    "    \n",
    "    iou = (intersection + smoothening_factor) / (combined_area - intersection + smoothening_factor)\n",
    "    class_wise_iou.append(iou)\n",
    "    \n",
    "    dice_score =  2 * ((intersection + smoothening_factor) / (combined_area + smoothening_factor))\n",
    "    class_wise_dice_score.append(dice_score)\n",
    "\n",
    "  iou_df = pd.DataFrame({class_name: class_wise_iou[i] * 100 for i, class_name in enumerate(class_names)}, index=[\"IoU Score\"])\n",
    "  dice_df = pd.DataFrame({class_name: class_wise_dice_score[i] * 100 for i, class_name in enumerate(class_names)}, index=[\"Dice Score\"])\n",
    "  scores = pd.concat([iou_df, dice_df], axis=0)\n",
    "  scores[\"average_score\"] = scores.iloc[:,:3].sum(axis=1)/3\n",
    "\n",
    "  return scores"
   ]
  },
  {
   "cell_type": "code",
   "execution_count": null,
   "metadata": {
    "colab": {
     "background_save": true,
     "base_uri": "https://localhost:8080/",
     "height": 1000,
     "output_embedded_package_id": "1Q91yqE_CqJsQKH6gA8l06pCPPcVZ_sfV"
    },
    "executionInfo": {
     "elapsed": 156889,
     "status": "ok",
     "timestamp": 1677039022281,
     "user": {
      "displayName": "Jeremy Peterson",
      "userId": "10141119356634341693"
     },
     "user_tz": -120
    },
    "id": "ynBzG4hdn6qL",
    "outputId": "d704472f-3c18-4d92-9b61-c6f361a9e04e"
   },
   "outputs": [
    {
     "data": {
      "text/plain": [
       "Output hidden; open in https://colab.research.google.com to view."
      ]
     },
     "metadata": {},
     "output_type": "display_data"
    }
   ],
   "source": [
    "import os\n",
    "import pandas as pd\n",
    "\n",
    "scores = pd.DataFrame()\n",
    "class_names = [\"background\", \"buildings\"]\n",
    "folder_mask = \"data/test-multimasks\"\n",
    "folder_chips = \"data/test-chips\"\n",
    "images = os.listdir(f\"{base_path}/{folder_name}/{folder_mask}\")\n",
    "\n",
    "for image_id in images[:]:\n",
    "\n",
    "  input = f\"{base_path}/{folder_name}/{folder_chips}/{image_id.replace('.mask','')}\"\n",
    "\n",
    "  results = model(source=input, conf=0.3)\n",
    "  masks = ((results[0][1].sum(axis=0)>0)*1).cpu().numpy()\n",
    "\n",
    "  score = plot_result_yolo(image_id, masks, folder_mask, folder_chips, class_names)\n",
    "  scores = scores.append(score, ignore_index=True, sort=False)\n",
    "\n",
    "  display(score)\n"
   ]
  },
  {
   "cell_type": "code",
   "execution_count": null,
   "metadata": {
    "colab": {
     "base_uri": "https://localhost:8080/",
     "height": 618
    },
    "executionInfo": {
     "elapsed": 12,
     "status": "ok",
     "timestamp": 1677039080971,
     "user": {
      "displayName": "Jeremy Peterson",
      "userId": "10141119356634341693"
     },
     "user_tz": -120
    },
    "id": "fySMyooPn6gg",
    "outputId": "f49b0448-9836-460a-bff7-f325325b4652"
   },
   "outputs": [
    {
     "name": "stdout",
     "output_type": "stream",
     "text": [
      "IoU Score\n"
     ]
    },
    {
     "data": {
      "text/html": [
       "\n",
       "  <div id=\"df-5ccf7d9c-5068-4075-9a01-71fe9cb6c59f\">\n",
       "    <div class=\"colab-df-container\">\n",
       "      <div>\n",
       "<style scoped>\n",
       "    .dataframe tbody tr th:only-of-type {\n",
       "        vertical-align: middle;\n",
       "    }\n",
       "\n",
       "    .dataframe tbody tr th {\n",
       "        vertical-align: top;\n",
       "    }\n",
       "\n",
       "    .dataframe thead th {\n",
       "        text-align: right;\n",
       "    }\n",
       "</style>\n",
       "<table border=\"1\" class=\"dataframe\">\n",
       "  <thead>\n",
       "    <tr style=\"text-align: right;\">\n",
       "      <th></th>\n",
       "      <th>background</th>\n",
       "      <th>buildings</th>\n",
       "      <th>average_score</th>\n",
       "    </tr>\n",
       "  </thead>\n",
       "  <tbody>\n",
       "    <tr>\n",
       "      <th>count</th>\n",
       "      <td>24.000000</td>\n",
       "      <td>24.000000</td>\n",
       "      <td>24.000000</td>\n",
       "    </tr>\n",
       "    <tr>\n",
       "      <th>mean</th>\n",
       "      <td>61.642924</td>\n",
       "      <td>63.146528</td>\n",
       "      <td>41.596484</td>\n",
       "    </tr>\n",
       "    <tr>\n",
       "      <th>std</th>\n",
       "      <td>12.175981</td>\n",
       "      <td>8.652054</td>\n",
       "      <td>3.388896</td>\n",
       "    </tr>\n",
       "    <tr>\n",
       "      <th>min</th>\n",
       "      <td>39.216654</td>\n",
       "      <td>38.148749</td>\n",
       "      <td>36.436092</td>\n",
       "    </tr>\n",
       "    <tr>\n",
       "      <th>25%</th>\n",
       "      <td>54.397675</td>\n",
       "      <td>60.620951</td>\n",
       "      <td>39.193650</td>\n",
       "    </tr>\n",
       "    <tr>\n",
       "      <th>50%</th>\n",
       "      <td>63.353836</td>\n",
       "      <td>63.845422</td>\n",
       "      <td>42.096298</td>\n",
       "    </tr>\n",
       "    <tr>\n",
       "      <th>75%</th>\n",
       "      <td>68.100560</td>\n",
       "      <td>68.732223</td>\n",
       "      <td>43.076684</td>\n",
       "    </tr>\n",
       "    <tr>\n",
       "      <th>max</th>\n",
       "      <td>88.314435</td>\n",
       "      <td>74.375400</td>\n",
       "      <td>50.350723</td>\n",
       "    </tr>\n",
       "  </tbody>\n",
       "</table>\n",
       "</div>\n",
       "      <button class=\"colab-df-convert\" onclick=\"convertToInteractive('df-5ccf7d9c-5068-4075-9a01-71fe9cb6c59f')\"\n",
       "              title=\"Convert this dataframe to an interactive table.\"\n",
       "              style=\"display:none;\">\n",
       "        \n",
       "  <svg xmlns=\"http://www.w3.org/2000/svg\" height=\"24px\"viewBox=\"0 0 24 24\"\n",
       "       width=\"24px\">\n",
       "    <path d=\"M0 0h24v24H0V0z\" fill=\"none\"/>\n",
       "    <path d=\"M18.56 5.44l.94 2.06.94-2.06 2.06-.94-2.06-.94-.94-2.06-.94 2.06-2.06.94zm-11 1L8.5 8.5l.94-2.06 2.06-.94-2.06-.94L8.5 2.5l-.94 2.06-2.06.94zm10 10l.94 2.06.94-2.06 2.06-.94-2.06-.94-.94-2.06-.94 2.06-2.06.94z\"/><path d=\"M17.41 7.96l-1.37-1.37c-.4-.4-.92-.59-1.43-.59-.52 0-1.04.2-1.43.59L10.3 9.45l-7.72 7.72c-.78.78-.78 2.05 0 2.83L4 21.41c.39.39.9.59 1.41.59.51 0 1.02-.2 1.41-.59l7.78-7.78 2.81-2.81c.8-.78.8-2.07 0-2.86zM5.41 20L4 18.59l7.72-7.72 1.47 1.35L5.41 20z\"/>\n",
       "  </svg>\n",
       "      </button>\n",
       "      \n",
       "  <style>\n",
       "    .colab-df-container {\n",
       "      display:flex;\n",
       "      flex-wrap:wrap;\n",
       "      gap: 12px;\n",
       "    }\n",
       "\n",
       "    .colab-df-convert {\n",
       "      background-color: #E8F0FE;\n",
       "      border: none;\n",
       "      border-radius: 50%;\n",
       "      cursor: pointer;\n",
       "      display: none;\n",
       "      fill: #1967D2;\n",
       "      height: 32px;\n",
       "      padding: 0 0 0 0;\n",
       "      width: 32px;\n",
       "    }\n",
       "\n",
       "    .colab-df-convert:hover {\n",
       "      background-color: #E2EBFA;\n",
       "      box-shadow: 0px 1px 2px rgba(60, 64, 67, 0.3), 0px 1px 3px 1px rgba(60, 64, 67, 0.15);\n",
       "      fill: #174EA6;\n",
       "    }\n",
       "\n",
       "    [theme=dark] .colab-df-convert {\n",
       "      background-color: #3B4455;\n",
       "      fill: #D2E3FC;\n",
       "    }\n",
       "\n",
       "    [theme=dark] .colab-df-convert:hover {\n",
       "      background-color: #434B5C;\n",
       "      box-shadow: 0px 1px 3px 1px rgba(0, 0, 0, 0.15);\n",
       "      filter: drop-shadow(0px 1px 2px rgba(0, 0, 0, 0.3));\n",
       "      fill: #FFFFFF;\n",
       "    }\n",
       "  </style>\n",
       "\n",
       "      <script>\n",
       "        const buttonEl =\n",
       "          document.querySelector('#df-5ccf7d9c-5068-4075-9a01-71fe9cb6c59f button.colab-df-convert');\n",
       "        buttonEl.style.display =\n",
       "          google.colab.kernel.accessAllowed ? 'block' : 'none';\n",
       "\n",
       "        async function convertToInteractive(key) {\n",
       "          const element = document.querySelector('#df-5ccf7d9c-5068-4075-9a01-71fe9cb6c59f');\n",
       "          const dataTable =\n",
       "            await google.colab.kernel.invokeFunction('convertToInteractive',\n",
       "                                                     [key], {});\n",
       "          if (!dataTable) return;\n",
       "\n",
       "          const docLinkHtml = 'Like what you see? Visit the ' +\n",
       "            '<a target=\"_blank\" href=https://colab.research.google.com/notebooks/data_table.ipynb>data table notebook</a>'\n",
       "            + ' to learn more about interactive tables.';\n",
       "          element.innerHTML = '';\n",
       "          dataTable['output_type'] = 'display_data';\n",
       "          await google.colab.output.renderOutput(dataTable, element);\n",
       "          const docLink = document.createElement('div');\n",
       "          docLink.innerHTML = docLinkHtml;\n",
       "          element.appendChild(docLink);\n",
       "        }\n",
       "      </script>\n",
       "    </div>\n",
       "  </div>\n",
       "  "
      ],
      "text/plain": [
       "       background  buildings  average_score\n",
       "count   24.000000  24.000000      24.000000\n",
       "mean    61.642924  63.146528      41.596484\n",
       "std     12.175981   8.652054       3.388896\n",
       "min     39.216654  38.148749      36.436092\n",
       "25%     54.397675  60.620951      39.193650\n",
       "50%     63.353836  63.845422      42.096298\n",
       "75%     68.100560  68.732223      43.076684\n",
       "max     88.314435  74.375400      50.350723"
      ]
     },
     "metadata": {},
     "output_type": "display_data"
    },
    {
     "name": "stdout",
     "output_type": "stream",
     "text": [
      "Dice Score\n"
     ]
    },
    {
     "data": {
      "text/html": [
       "\n",
       "  <div id=\"df-fa61c680-a01c-420a-b327-1387799b9a97\">\n",
       "    <div class=\"colab-df-container\">\n",
       "      <div>\n",
       "<style scoped>\n",
       "    .dataframe tbody tr th:only-of-type {\n",
       "        vertical-align: middle;\n",
       "    }\n",
       "\n",
       "    .dataframe tbody tr th {\n",
       "        vertical-align: top;\n",
       "    }\n",
       "\n",
       "    .dataframe thead th {\n",
       "        text-align: right;\n",
       "    }\n",
       "</style>\n",
       "<table border=\"1\" class=\"dataframe\">\n",
       "  <thead>\n",
       "    <tr style=\"text-align: right;\">\n",
       "      <th></th>\n",
       "      <th>background</th>\n",
       "      <th>buildings</th>\n",
       "      <th>average_score</th>\n",
       "    </tr>\n",
       "  </thead>\n",
       "  <tbody>\n",
       "    <tr>\n",
       "      <th>count</th>\n",
       "      <td>24.000000</td>\n",
       "      <td>24.000000</td>\n",
       "      <td>24.000000</td>\n",
       "    </tr>\n",
       "    <tr>\n",
       "      <th>mean</th>\n",
       "      <td>75.587999</td>\n",
       "      <td>77.053053</td>\n",
       "      <td>50.880351</td>\n",
       "    </tr>\n",
       "    <tr>\n",
       "      <th>std</th>\n",
       "      <td>9.495270</td>\n",
       "      <td>7.058700</td>\n",
       "      <td>2.713463</td>\n",
       "    </tr>\n",
       "    <tr>\n",
       "      <th>min</th>\n",
       "      <td>56.339027</td>\n",
       "      <td>55.228512</td>\n",
       "      <td>46.680032</td>\n",
       "    </tr>\n",
       "    <tr>\n",
       "      <th>25%</th>\n",
       "      <td>70.461980</td>\n",
       "      <td>75.482810</td>\n",
       "      <td>48.532948</td>\n",
       "    </tr>\n",
       "    <tr>\n",
       "      <th>50%</th>\n",
       "      <td>77.564250</td>\n",
       "      <td>77.933708</td>\n",
       "      <td>51.580157</td>\n",
       "    </tr>\n",
       "    <tr>\n",
       "      <th>75%</th>\n",
       "      <td>81.020260</td>\n",
       "      <td>81.464215</td>\n",
       "      <td>52.153393</td>\n",
       "    </tr>\n",
       "    <tr>\n",
       "      <th>max</th>\n",
       "      <td>93.794652</td>\n",
       "      <td>85.304923</td>\n",
       "      <td>56.965842</td>\n",
       "    </tr>\n",
       "  </tbody>\n",
       "</table>\n",
       "</div>\n",
       "      <button class=\"colab-df-convert\" onclick=\"convertToInteractive('df-fa61c680-a01c-420a-b327-1387799b9a97')\"\n",
       "              title=\"Convert this dataframe to an interactive table.\"\n",
       "              style=\"display:none;\">\n",
       "        \n",
       "  <svg xmlns=\"http://www.w3.org/2000/svg\" height=\"24px\"viewBox=\"0 0 24 24\"\n",
       "       width=\"24px\">\n",
       "    <path d=\"M0 0h24v24H0V0z\" fill=\"none\"/>\n",
       "    <path d=\"M18.56 5.44l.94 2.06.94-2.06 2.06-.94-2.06-.94-.94-2.06-.94 2.06-2.06.94zm-11 1L8.5 8.5l.94-2.06 2.06-.94-2.06-.94L8.5 2.5l-.94 2.06-2.06.94zm10 10l.94 2.06.94-2.06 2.06-.94-2.06-.94-.94-2.06-.94 2.06-2.06.94z\"/><path d=\"M17.41 7.96l-1.37-1.37c-.4-.4-.92-.59-1.43-.59-.52 0-1.04.2-1.43.59L10.3 9.45l-7.72 7.72c-.78.78-.78 2.05 0 2.83L4 21.41c.39.39.9.59 1.41.59.51 0 1.02-.2 1.41-.59l7.78-7.78 2.81-2.81c.8-.78.8-2.07 0-2.86zM5.41 20L4 18.59l7.72-7.72 1.47 1.35L5.41 20z\"/>\n",
       "  </svg>\n",
       "      </button>\n",
       "      \n",
       "  <style>\n",
       "    .colab-df-container {\n",
       "      display:flex;\n",
       "      flex-wrap:wrap;\n",
       "      gap: 12px;\n",
       "    }\n",
       "\n",
       "    .colab-df-convert {\n",
       "      background-color: #E8F0FE;\n",
       "      border: none;\n",
       "      border-radius: 50%;\n",
       "      cursor: pointer;\n",
       "      display: none;\n",
       "      fill: #1967D2;\n",
       "      height: 32px;\n",
       "      padding: 0 0 0 0;\n",
       "      width: 32px;\n",
       "    }\n",
       "\n",
       "    .colab-df-convert:hover {\n",
       "      background-color: #E2EBFA;\n",
       "      box-shadow: 0px 1px 2px rgba(60, 64, 67, 0.3), 0px 1px 3px 1px rgba(60, 64, 67, 0.15);\n",
       "      fill: #174EA6;\n",
       "    }\n",
       "\n",
       "    [theme=dark] .colab-df-convert {\n",
       "      background-color: #3B4455;\n",
       "      fill: #D2E3FC;\n",
       "    }\n",
       "\n",
       "    [theme=dark] .colab-df-convert:hover {\n",
       "      background-color: #434B5C;\n",
       "      box-shadow: 0px 1px 3px 1px rgba(0, 0, 0, 0.15);\n",
       "      filter: drop-shadow(0px 1px 2px rgba(0, 0, 0, 0.3));\n",
       "      fill: #FFFFFF;\n",
       "    }\n",
       "  </style>\n",
       "\n",
       "      <script>\n",
       "        const buttonEl =\n",
       "          document.querySelector('#df-fa61c680-a01c-420a-b327-1387799b9a97 button.colab-df-convert');\n",
       "        buttonEl.style.display =\n",
       "          google.colab.kernel.accessAllowed ? 'block' : 'none';\n",
       "\n",
       "        async function convertToInteractive(key) {\n",
       "          const element = document.querySelector('#df-fa61c680-a01c-420a-b327-1387799b9a97');\n",
       "          const dataTable =\n",
       "            await google.colab.kernel.invokeFunction('convertToInteractive',\n",
       "                                                     [key], {});\n",
       "          if (!dataTable) return;\n",
       "\n",
       "          const docLinkHtml = 'Like what you see? Visit the ' +\n",
       "            '<a target=\"_blank\" href=https://colab.research.google.com/notebooks/data_table.ipynb>data table notebook</a>'\n",
       "            + ' to learn more about interactive tables.';\n",
       "          element.innerHTML = '';\n",
       "          dataTable['output_type'] = 'display_data';\n",
       "          await google.colab.output.renderOutput(dataTable, element);\n",
       "          const docLink = document.createElement('div');\n",
       "          docLink.innerHTML = docLinkHtml;\n",
       "          element.appendChild(docLink);\n",
       "        }\n",
       "      </script>\n",
       "    </div>\n",
       "  </div>\n",
       "  "
      ],
      "text/plain": [
       "       background  buildings  average_score\n",
       "count   24.000000  24.000000      24.000000\n",
       "mean    75.587999  77.053053      50.880351\n",
       "std      9.495270   7.058700       2.713463\n",
       "min     56.339027  55.228512      46.680032\n",
       "25%     70.461980  75.482810      48.532948\n",
       "50%     77.564250  77.933708      51.580157\n",
       "75%     81.020260  81.464215      52.153393\n",
       "max     93.794652  85.304923      56.965842"
      ]
     },
     "metadata": {},
     "output_type": "display_data"
    }
   ],
   "source": [
    "print(\"IoU Score\")\n",
    "display(scores.iloc[::2].describe())\n",
    "\n",
    "print(\"Dice Score\")\n",
    "display(scores.iloc[1::2].describe())"
   ]
  },
  {
   "cell_type": "code",
   "execution_count": null,
   "metadata": {
    "id": "RtjaIhC3_GSy"
   },
   "outputs": [],
   "source": []
  },
  {
   "cell_type": "code",
   "execution_count": null,
   "metadata": {
    "id": "5OA7Ep2LYNW9"
   },
   "outputs": [],
   "source": []
  },
  {
   "cell_type": "markdown",
   "metadata": {
    "id": "1QP5Fq6rYO_t"
   },
   "source": [
    "# Additional Code"
   ]
  },
  {
   "cell_type": "code",
   "execution_count": null,
   "metadata": {
    "id": "dVucAk5q_pQd"
   },
   "outputs": [],
   "source": [
    "# !yolo task=detect mode=predict model=yolov8n.pt source=\"/content/drive/MyDrive/roof_recognition/people.png\""
   ]
  },
  {
   "cell_type": "code",
   "execution_count": null,
   "metadata": {
    "id": "HEh6HyTcChgT"
   },
   "outputs": [],
   "source": [
    "# !yolo task=detect mode=predict model=yolov8n.pt source=\"/content/drive/MyDrive/roof_recognition/video.mp4\""
   ]
  },
  {
   "cell_type": "code",
   "execution_count": null,
   "metadata": {
    "id": "zhHElzdOHMjd"
   },
   "outputs": [],
   "source": [
    "# !yolo task=segment mode=predict model=\"runs/segment/train17/weights/best.pt\" \\\n",
    "# source=\"/content/drive/MyDrive/roof_recognition/yolo-seg/test/images\" conf=0.5"
   ]
  },
  {
   "cell_type": "code",
   "execution_count": null,
   "metadata": {
    "id": "qpq8cmmbG0uJ"
   },
   "outputs": [],
   "source": [
    "# model.val('./yolo-seg/ghana-seg.yaml')"
   ]
  },
  {
   "cell_type": "code",
   "execution_count": null,
   "metadata": {
    "id": "7qe69UGBDMCn"
   },
   "outputs": [],
   "source": []
  }
 ],
 "metadata": {
  "accelerator": "GPU",
  "colab": {
   "collapsed_sections": [
    "1QP5Fq6rYO_t"
   ],
   "provenance": []
  },
  "gpuClass": "standard",
  "kernelspec": {
   "display_name": "Python 3 (ipykernel)",
   "language": "python",
   "name": "python3"
  },
  "language_info": {
   "codemirror_mode": {
    "name": "ipython",
    "version": 3
   },
   "file_extension": ".py",
   "mimetype": "text/x-python",
   "name": "python",
   "nbconvert_exporter": "python",
   "pygments_lexer": "ipython3",
   "version": "3.9.7"
  },
  "widgets": {
   "application/vnd.jupyter.widget-state+json": {
    "04272e3d74954f389794e0e024b0d1e6": {
     "model_module": "@jupyter-widgets/base",
     "model_module_version": "1.2.0",
     "model_name": "LayoutModel",
     "state": {
      "_model_module": "@jupyter-widgets/base",
      "_model_module_version": "1.2.0",
      "_model_name": "LayoutModel",
      "_view_count": null,
      "_view_module": "@jupyter-widgets/base",
      "_view_module_version": "1.2.0",
      "_view_name": "LayoutView",
      "align_content": null,
      "align_items": null,
      "align_self": null,
      "border": null,
      "bottom": null,
      "display": null,
      "flex": null,
      "flex_flow": null,
      "grid_area": null,
      "grid_auto_columns": null,
      "grid_auto_flow": null,
      "grid_auto_rows": null,
      "grid_column": null,
      "grid_gap": null,
      "grid_row": null,
      "grid_template_areas": null,
      "grid_template_columns": null,
      "grid_template_rows": null,
      "height": null,
      "justify_content": null,
      "justify_items": null,
      "left": null,
      "margin": null,
      "max_height": null,
      "max_width": null,
      "min_height": null,
      "min_width": null,
      "object_fit": null,
      "object_position": null,
      "order": null,
      "overflow": null,
      "overflow_x": null,
      "overflow_y": null,
      "padding": null,
      "right": null,
      "top": null,
      "visibility": null,
      "width": null
     }
    },
    "0b66f43a85da4e5f841b305a7c3a6992": {
     "model_module": "@jupyter-widgets/controls",
     "model_module_version": "1.5.0",
     "model_name": "ProgressStyleModel",
     "state": {
      "_model_module": "@jupyter-widgets/controls",
      "_model_module_version": "1.5.0",
      "_model_name": "ProgressStyleModel",
      "_view_count": null,
      "_view_module": "@jupyter-widgets/base",
      "_view_module_version": "1.2.0",
      "_view_name": "StyleView",
      "bar_color": null,
      "description_width": ""
     }
    },
    "4f3fadf75e624cdc891ec42475c46971": {
     "model_module": "@jupyter-widgets/controls",
     "model_module_version": "1.5.0",
     "model_name": "DescriptionStyleModel",
     "state": {
      "_model_module": "@jupyter-widgets/controls",
      "_model_module_version": "1.5.0",
      "_model_name": "DescriptionStyleModel",
      "_view_count": null,
      "_view_module": "@jupyter-widgets/base",
      "_view_module_version": "1.2.0",
      "_view_name": "StyleView",
      "description_width": ""
     }
    },
    "7d1469523b5e45b78ab5106efb444280": {
     "model_module": "@jupyter-widgets/controls",
     "model_module_version": "1.5.0",
     "model_name": "DescriptionStyleModel",
     "state": {
      "_model_module": "@jupyter-widgets/controls",
      "_model_module_version": "1.5.0",
      "_model_name": "DescriptionStyleModel",
      "_view_count": null,
      "_view_module": "@jupyter-widgets/base",
      "_view_module_version": "1.2.0",
      "_view_name": "StyleView",
      "description_width": ""
     }
    },
    "7e71040679a74c97969a67dfa80c0147": {
     "model_module": "@jupyter-widgets/controls",
     "model_module_version": "1.5.0",
     "model_name": "HTMLModel",
     "state": {
      "_dom_classes": [],
      "_model_module": "@jupyter-widgets/controls",
      "_model_module_version": "1.5.0",
      "_model_name": "HTMLModel",
      "_view_count": null,
      "_view_module": "@jupyter-widgets/controls",
      "_view_module_version": "1.5.0",
      "_view_name": "HTMLView",
      "description": "",
      "description_tooltip": null,
      "layout": "IPY_MODEL_04272e3d74954f389794e0e024b0d1e6",
      "placeholder": "​",
      "style": "IPY_MODEL_7d1469523b5e45b78ab5106efb444280",
      "value": " 755k/755k [00:00&lt;00:00, 21.9MB/s]"
     }
    },
    "8e0cb0bb6e674d6885b7e400a3882fff": {
     "model_module": "@jupyter-widgets/controls",
     "model_module_version": "1.5.0",
     "model_name": "FloatProgressModel",
     "state": {
      "_dom_classes": [],
      "_model_module": "@jupyter-widgets/controls",
      "_model_module_version": "1.5.0",
      "_model_name": "FloatProgressModel",
      "_view_count": null,
      "_view_module": "@jupyter-widgets/controls",
      "_view_module_version": "1.5.0",
      "_view_name": "ProgressView",
      "bar_style": "success",
      "description": "",
      "description_tooltip": null,
      "layout": "IPY_MODEL_94d1591cde8c41c882f947ca707f02f8",
      "max": 773236,
      "min": 0,
      "orientation": "horizontal",
      "style": "IPY_MODEL_0b66f43a85da4e5f841b305a7c3a6992",
      "value": 773236
     }
    },
    "90d6192586b7418fbff8ecad4a3a54e2": {
     "model_module": "@jupyter-widgets/controls",
     "model_module_version": "1.5.0",
     "model_name": "HBoxModel",
     "state": {
      "_dom_classes": [],
      "_model_module": "@jupyter-widgets/controls",
      "_model_module_version": "1.5.0",
      "_model_name": "HBoxModel",
      "_view_count": null,
      "_view_module": "@jupyter-widgets/controls",
      "_view_module_version": "1.5.0",
      "_view_name": "HBoxView",
      "box_style": "",
      "children": [
       "IPY_MODEL_ceeb75c3914e4f92adde4052e385abb1",
       "IPY_MODEL_8e0cb0bb6e674d6885b7e400a3882fff",
       "IPY_MODEL_7e71040679a74c97969a67dfa80c0147"
      ],
      "layout": "IPY_MODEL_b436d6cfb1084202bbba100ec3019cb2"
     }
    },
    "94d1591cde8c41c882f947ca707f02f8": {
     "model_module": "@jupyter-widgets/base",
     "model_module_version": "1.2.0",
     "model_name": "LayoutModel",
     "state": {
      "_model_module": "@jupyter-widgets/base",
      "_model_module_version": "1.2.0",
      "_model_name": "LayoutModel",
      "_view_count": null,
      "_view_module": "@jupyter-widgets/base",
      "_view_module_version": "1.2.0",
      "_view_name": "LayoutView",
      "align_content": null,
      "align_items": null,
      "align_self": null,
      "border": null,
      "bottom": null,
      "display": null,
      "flex": null,
      "flex_flow": null,
      "grid_area": null,
      "grid_auto_columns": null,
      "grid_auto_flow": null,
      "grid_auto_rows": null,
      "grid_column": null,
      "grid_gap": null,
      "grid_row": null,
      "grid_template_areas": null,
      "grid_template_columns": null,
      "grid_template_rows": null,
      "height": null,
      "justify_content": null,
      "justify_items": null,
      "left": null,
      "margin": null,
      "max_height": null,
      "max_width": null,
      "min_height": null,
      "min_width": null,
      "object_fit": null,
      "object_position": null,
      "order": null,
      "overflow": null,
      "overflow_x": null,
      "overflow_y": null,
      "padding": null,
      "right": null,
      "top": null,
      "visibility": null,
      "width": null
     }
    },
    "b0c6c7f00ce540539eb369f66daa198e": {
     "model_module": "@jupyter-widgets/base",
     "model_module_version": "1.2.0",
     "model_name": "LayoutModel",
     "state": {
      "_model_module": "@jupyter-widgets/base",
      "_model_module_version": "1.2.0",
      "_model_name": "LayoutModel",
      "_view_count": null,
      "_view_module": "@jupyter-widgets/base",
      "_view_module_version": "1.2.0",
      "_view_name": "LayoutView",
      "align_content": null,
      "align_items": null,
      "align_self": null,
      "border": null,
      "bottom": null,
      "display": null,
      "flex": null,
      "flex_flow": null,
      "grid_area": null,
      "grid_auto_columns": null,
      "grid_auto_flow": null,
      "grid_auto_rows": null,
      "grid_column": null,
      "grid_gap": null,
      "grid_row": null,
      "grid_template_areas": null,
      "grid_template_columns": null,
      "grid_template_rows": null,
      "height": null,
      "justify_content": null,
      "justify_items": null,
      "left": null,
      "margin": null,
      "max_height": null,
      "max_width": null,
      "min_height": null,
      "min_width": null,
      "object_fit": null,
      "object_position": null,
      "order": null,
      "overflow": null,
      "overflow_x": null,
      "overflow_y": null,
      "padding": null,
      "right": null,
      "top": null,
      "visibility": null,
      "width": null
     }
    },
    "b436d6cfb1084202bbba100ec3019cb2": {
     "model_module": "@jupyter-widgets/base",
     "model_module_version": "1.2.0",
     "model_name": "LayoutModel",
     "state": {
      "_model_module": "@jupyter-widgets/base",
      "_model_module_version": "1.2.0",
      "_model_name": "LayoutModel",
      "_view_count": null,
      "_view_module": "@jupyter-widgets/base",
      "_view_module_version": "1.2.0",
      "_view_name": "LayoutView",
      "align_content": null,
      "align_items": null,
      "align_self": null,
      "border": null,
      "bottom": null,
      "display": null,
      "flex": null,
      "flex_flow": null,
      "grid_area": null,
      "grid_auto_columns": null,
      "grid_auto_flow": null,
      "grid_auto_rows": null,
      "grid_column": null,
      "grid_gap": null,
      "grid_row": null,
      "grid_template_areas": null,
      "grid_template_columns": null,
      "grid_template_rows": null,
      "height": null,
      "justify_content": null,
      "justify_items": null,
      "left": null,
      "margin": null,
      "max_height": null,
      "max_width": null,
      "min_height": null,
      "min_width": null,
      "object_fit": null,
      "object_position": null,
      "order": null,
      "overflow": null,
      "overflow_x": null,
      "overflow_y": null,
      "padding": null,
      "right": null,
      "top": null,
      "visibility": null,
      "width": null
     }
    },
    "ceeb75c3914e4f92adde4052e385abb1": {
     "model_module": "@jupyter-widgets/controls",
     "model_module_version": "1.5.0",
     "model_name": "HTMLModel",
     "state": {
      "_dom_classes": [],
      "_model_module": "@jupyter-widgets/controls",
      "_model_module_version": "1.5.0",
      "_model_name": "HTMLModel",
      "_view_count": null,
      "_view_module": "@jupyter-widgets/controls",
      "_view_module_version": "1.5.0",
      "_view_name": "HTMLView",
      "description": "",
      "description_tooltip": null,
      "layout": "IPY_MODEL_b0c6c7f00ce540539eb369f66daa198e",
      "placeholder": "​",
      "style": "IPY_MODEL_4f3fadf75e624cdc891ec42475c46971",
      "value": "100%"
     }
    }
   }
  }
 },
 "nbformat": 4,
 "nbformat_minor": 1
}
