{
 "cells": [
  {
   "cell_type": "code",
   "execution_count": 1,
   "metadata": {
    "ExecuteTime": {
     "end_time": "2018-07-01T15:50:32.519664Z",
     "start_time": "2018-07-01T15:50:32.513996Z"
    }
   },
   "outputs": [],
   "source": [
    "import os\n",
    "os.environ['OPENBLAS_NUM_THREADS'] = '1'\n",
    "os.environ['OMP_NUM_THREADS'] = '1'"
   ]
  },
  {
   "cell_type": "code",
   "execution_count": 16,
   "metadata": {
    "ExecuteTime": {
     "end_time": "2018-07-01T20:04:39.314415Z",
     "start_time": "2018-07-01T20:04:39.301105Z"
    }
   },
   "outputs": [],
   "source": [
    "import os\n",
    "import json\n",
    "import joblib\n",
    "\n",
    "import numpy as np\n",
    "import pandas as pd\n",
    "import scipy.sparse as sp\n",
    "from sklearn.preprocessing import LabelEncoder\n",
    "from lightfm import LightFM"
   ]
  },
  {
   "cell_type": "code",
   "execution_count": 24,
   "metadata": {
    "ExecuteTime": {
     "end_time": "2018-07-01T20:06:49.681848Z",
     "start_time": "2018-07-01T20:06:49.677166Z"
    }
   },
   "outputs": [
    {
     "data": {
      "text/plain": [
       "'1.13.20'"
      ]
     },
     "execution_count": 24,
     "metadata": {},
     "output_type": "execute_result"
    }
   ],
   "source": [
    "import lightfm\n",
    "lightfm.__version__"
   ]
  },
  {
   "cell_type": "code",
   "execution_count": 5,
   "metadata": {
    "ExecuteTime": {
     "end_time": "2018-07-01T15:51:12.308346Z",
     "start_time": "2018-07-01T15:51:01.135483Z"
    }
   },
   "outputs": [],
   "source": [
    "model = joblib.load(open('models/lightfm_model.pkl', 'rb'))\n",
    "model_text = joblib.load(open('models/lightfm_model_text.pkl', 'rb'))\n",
    "user_features = joblib.load(open('models/user_features.pkl', 'rb'))"
   ]
  },
  {
   "cell_type": "code",
   "execution_count": 6,
   "metadata": {
    "ExecuteTime": {
     "end_time": "2018-07-01T15:51:17.327423Z",
     "start_time": "2018-07-01T15:51:12.310338Z"
    }
   },
   "outputs": [],
   "source": [
    "df_tracks = pd.read_hdf('df_data/df_tracks.hdf')\n",
    "df_playlists = pd.read_hdf('df_data/df_playlists.hdf')\n",
    "df_playlists_info = pd.read_hdf('df_data/df_playlists_info.hdf')\n",
    "df_playlists_test = pd.read_hdf('df_data/df_playlists_test.hdf')\n",
    "df_playlists_test_info = pd.read_hdf('df_data/df_playlists_test_info.hdf')"
   ]
  },
  {
   "cell_type": "code",
   "execution_count": 7,
   "metadata": {
    "ExecuteTime": {
     "end_time": "2018-07-01T15:51:18.686488Z",
     "start_time": "2018-07-01T15:51:17.329626Z"
    }
   },
   "outputs": [],
   "source": [
    "train = pd.read_hdf('df_data/train.hdf')"
   ]
  },
  {
   "cell_type": "code",
   "execution_count": 8,
   "metadata": {
    "ExecuteTime": {
     "end_time": "2018-07-01T15:51:18.707536Z",
     "start_time": "2018-07-01T15:51:18.688430Z"
    }
   },
   "outputs": [],
   "source": [
    "val1 = pd.read_hdf('df_data/val1.hdf')\n",
    "val1_pids = joblib.load('df_data/val1_pids.pkl')"
   ]
  },
  {
   "cell_type": "code",
   "execution_count": 9,
   "metadata": {
    "ExecuteTime": {
     "end_time": "2018-07-01T15:51:19.433547Z",
     "start_time": "2018-07-01T15:51:18.709300Z"
    }
   },
   "outputs": [],
   "source": [
    "val2 = pd.read_hdf('df_data/val2.hdf')\n",
    "val2_pids = joblib.load('df_data/val2_pids.pkl')"
   ]
  },
  {
   "cell_type": "code",
   "execution_count": 10,
   "metadata": {
    "ExecuteTime": {
     "end_time": "2018-07-01T15:51:50.135904Z",
     "start_time": "2018-07-01T15:51:19.435722Z"
    },
    "scrolled": true
   },
   "outputs": [],
   "source": [
    "user_seen = set(zip(train.pid, train.tid))"
   ]
  },
  {
   "cell_type": "code",
   "execution_count": 11,
   "metadata": {
    "ExecuteTime": {
     "end_time": "2018-07-01T15:51:50.216305Z",
     "start_time": "2018-07-01T15:51:50.137860Z"
    }
   },
   "outputs": [],
   "source": [
    "def save_candidates(target_pids, df_size, file_name, df=None):\n",
    "    \n",
    "    target_pids_text = list(set(target_pids).difference(train.pid))\n",
    "    target_pids_no_text = list(set(target_pids).difference(target_pids_text))\n",
    "    \n",
    "    model.batch_setup(\n",
    "        item_chunks={0: np.arange(df_tracks.tid.max() + 1)},\n",
    "        n_process=50, \n",
    "    )    \n",
    "    res = model.batch_predict(chunk_id=0, user_ids=target_pids_no_text, top_k=10000)\n",
    "    model.batch_cleanup()\n",
    "    \n",
    "    model_text.batch_setup(\n",
    "        item_chunks={0: np.arange(df_tracks.tid.max() + 1)},\n",
    "        n_process=50, \n",
    "        user_features=user_features,\n",
    "    )    \n",
    "    res2 = model_text.batch_predict(chunk_id=0, user_ids=target_pids_text, top_k=10000)\n",
    "    model_text.batch_cleanup()\n",
    "    \n",
    "    res.update(res2)\n",
    "    \n",
    "    if df is not None:\n",
    "        val_tracks = df.groupby('pid').tid.apply(set).to_dict()  \n",
    "    \n",
    "    pids = []\n",
    "    tids = []\n",
    "    targets = []\n",
    "\n",
    "    for pid in target_pids:\n",
    "\n",
    "        l = max(df_size[pid] * 15, 700 + df_size[pid])\n",
    "        #l = 2000\n",
    "        pids += [pid] * l\n",
    "        tids += list(res[pid][0][:l])\n",
    "        \n",
    "        if df is not None:\n",
    "            tracks_t = val_tracks[pid]\n",
    "            targets += [i in tracks_t for i in res[pid][0][:l]]\n",
    "\n",
    "    candidates = pd.DataFrame()\n",
    "    candidates['pid'] = np.array(pids)\n",
    "    candidates['tid'] = np.array(tids)\n",
    "    \n",
    "    if df is not None:\n",
    "        candidates['target'] = np.array(targets).astype(int)\n",
    "\n",
    "    index = []\n",
    "    for pid, tid in candidates[['pid', 'tid']].values:\n",
    "        index.append((pid, tid) not in user_seen)\n",
    "\n",
    "    candidates = candidates[index]\n",
    "\n",
    "    candidates.to_hdf(file_name, key='abc')"
   ]
  },
  {
   "cell_type": "code",
   "execution_count": 13,
   "metadata": {
    "ExecuteTime": {
     "end_time": "2018-07-01T16:04:21.433612Z",
     "start_time": "2018-07-01T15:52:04.807962Z"
    }
   },
   "outputs": [],
   "source": [
    "save_candidates(\n",
    "    val1_pids,\n",
    "    val1.pid.value_counts(),\n",
    "    'df_data/ii_candidate.hdf',\n",
    "    val1\n",
    ")"
   ]
  },
  {
   "cell_type": "code",
   "execution_count": 14,
   "metadata": {
    "ExecuteTime": {
     "end_time": "2018-07-01T16:16:48.444534Z",
     "start_time": "2018-07-01T16:04:21.435700Z"
    }
   },
   "outputs": [],
   "source": [
    "save_candidates(\n",
    "    val2_pids,\n",
    "    val2.pid.value_counts(),\n",
    "    'df_data/iii_candidate.hdf',\n",
    "    val2\n",
    ")"
   ]
  },
  {
   "cell_type": "code",
   "execution_count": 15,
   "metadata": {
    "ExecuteTime": {
     "end_time": "2018-07-01T16:29:13.196247Z",
     "start_time": "2018-07-01T16:16:48.447871Z"
    }
   },
   "outputs": [],
   "source": [
    "save_candidates(\n",
    "    df_playlists_test_info.pid.values,\n",
    "    df_playlists_test_info.set_index('pid').num_holdouts,\n",
    "    'df_data/test_candidate.hdf'\n",
    ")"
   ]
  },
  {
   "cell_type": "code",
   "execution_count": null,
   "metadata": {},
   "outputs": [],
   "source": []
  },
  {
   "cell_type": "code",
   "execution_count": null,
   "metadata": {},
   "outputs": [],
   "source": []
  },
  {
   "cell_type": "code",
   "execution_count": null,
   "metadata": {},
   "outputs": [],
   "source": []
  },
  {
   "cell_type": "code",
   "execution_count": null,
   "metadata": {},
   "outputs": [],
   "source": []
  },
  {
   "cell_type": "code",
   "execution_count": null,
   "metadata": {},
   "outputs": [],
   "source": []
  }
 ],
 "metadata": {
  "kernelspec": {
   "display_name": "Python 3",
   "language": "python",
   "name": "python3"
  },
  "language_info": {
   "codemirror_mode": {
    "name": "ipython",
    "version": 3
   },
   "file_extension": ".py",
   "mimetype": "text/x-python",
   "name": "python",
   "nbconvert_exporter": "python",
   "pygments_lexer": "ipython3",
   "version": "3.6.4"
  },
  "toc": {
   "nav_menu": {},
   "number_sections": true,
   "sideBar": true,
   "skip_h1_title": false,
   "title_cell": "Table of Contents",
   "title_sidebar": "Contents",
   "toc_cell": false,
   "toc_position": {},
   "toc_section_display": true,
   "toc_window_display": false
  }
 },
 "nbformat": 4,
 "nbformat_minor": 2
}
