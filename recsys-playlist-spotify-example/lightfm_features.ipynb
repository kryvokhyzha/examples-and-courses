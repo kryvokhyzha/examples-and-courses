{
 "cells": [
  {
   "cell_type": "code",
   "execution_count": 1,
   "metadata": {
    "ExecuteTime": {
     "end_time": "2018-07-01T16:29:27.046954Z",
     "start_time": "2018-07-01T16:29:26.592733Z"
    }
   },
   "outputs": [],
   "source": [
    "import numpy as np\n",
    "import pandas as pd\n",
    "import joblib\n",
    "from collections import defaultdict\n",
    "from sklearn.preprocessing import LabelEncoder\n",
    "from lightfm.inference import _precompute_representation"
   ]
  },
  {
   "cell_type": "code",
   "execution_count": 2,
   "metadata": {
    "ExecuteTime": {
     "end_time": "2018-07-01T16:29:28.544588Z",
     "start_time": "2018-07-01T16:29:28.519593Z"
    }
   },
   "outputs": [],
   "source": [
    "def create_lightfm_features(df):\n",
    "    \n",
    "    df['pid_bias'] = model.user_biases[df.pid]\n",
    "    df['tid_bias'] = model.item_biases[df.tid]\n",
    "    \n",
    "    pid_embeddings = model.user_embeddings[df.pid]\n",
    "    tid_embeddings = model.item_embeddings[df.tid]\n",
    "    \n",
    "    df['lightfm_dot_product'] = (pid_embeddings * tid_embeddings).sum(axis=1)\n",
    "    df['lightfm_prediction'] = df['lightfm_dot_product'] + df['pid_bias'] + df['tid_bias']\n",
    "    \n",
    "    df['lightfm_rank'] = df.groupby('pid').lightfm_prediction.rank(ascending=False)\n",
    "    \n",
    "    df['pid_bias_text'] = _user_repr_biases[df.pid]\n",
    "    df['tid_bias_text'] = model_text.item_biases[df.tid]\n",
    "    \n",
    "    pid_embeddings = _user_repr[df.pid]\n",
    "    tid_embeddings = model_text.item_embeddings[df.tid]\n",
    "    \n",
    "    df['lightfm_dot_product_text'] = (pid_embeddings * tid_embeddings).sum(axis=1)\n",
    "    df['lightfm_prediction_text'] = df['lightfm_dot_product_text'] + df['pid_bias_text'] + df['tid_bias_text']\n",
    "    \n",
    "    df['lightfm_rank_text'] = df.groupby('pid').lightfm_prediction_text.rank(ascending=False)"
   ]
  },
  {
   "cell_type": "code",
   "execution_count": 3,
   "metadata": {
    "ExecuteTime": {
     "end_time": "2018-07-01T16:29:44.559552Z",
     "start_time": "2018-07-01T16:29:28.766427Z"
    }
   },
   "outputs": [],
   "source": [
    "model = joblib.load(open('models/lightfm_model.pkl', 'rb'))\n",
    "model_text = joblib.load(open('models/lightfm_model_text.pkl', 'rb'))\n",
    "user_features = joblib.load(open('models/user_features.pkl', 'rb'))\n",
    "\n",
    "_user_repr, _user_repr_biases = _precompute_representation(\n",
    "    features=user_features,\n",
    "    feature_embeddings=model_text.user_embeddings,\n",
    "    feature_biases=model_text.user_biases,\n",
    ")"
   ]
  },
  {
   "cell_type": "code",
   "execution_count": 4,
   "metadata": {
    "ExecuteTime": {
     "end_time": "2018-07-01T16:29:45.279856Z",
     "start_time": "2018-07-01T16:29:44.562215Z"
    }
   },
   "outputs": [],
   "source": [
    "train = pd.read_hdf('df_data/ii_candidate.hdf')\n",
    "val = pd.read_hdf('df_data/iii_candidate.hdf')\n",
    "test = pd.read_hdf('df_data/test_candidate.hdf')"
   ]
  },
  {
   "cell_type": "code",
   "execution_count": 5,
   "metadata": {
    "ExecuteTime": {
     "end_time": "2018-07-01T16:32:36.766377Z",
     "start_time": "2018-07-01T16:29:45.281906Z"
    }
   },
   "outputs": [],
   "source": [
    "create_lightfm_features(train)\n",
    "create_lightfm_features(val)\n",
    "create_lightfm_features(test)"
   ]
  },
  {
   "cell_type": "code",
   "execution_count": 6,
   "metadata": {
    "ExecuteTime": {
     "end_time": "2018-07-01T16:32:43.294491Z",
     "start_time": "2018-07-01T16:32:36.768996Z"
    }
   },
   "outputs": [],
   "source": [
    "train.to_hdf('df_data/ii_lightfm_features.hdf', key='abc')\n",
    "val.to_hdf('df_data/iii_lightfm_features.hdf', key='abc')\n",
    "test.to_hdf('df_data/test_lightfm_features.hdf', key='abc')"
   ]
  },
  {
   "cell_type": "code",
   "execution_count": null,
   "metadata": {},
   "outputs": [],
   "source": []
  }
 ],
 "metadata": {
  "kernelspec": {
   "display_name": "Python 3",
   "language": "python",
   "name": "python3"
  },
  "language_info": {
   "codemirror_mode": {
    "name": "ipython",
    "version": 3
   },
   "file_extension": ".py",
   "mimetype": "text/x-python",
   "name": "python",
   "nbconvert_exporter": "python",
   "pygments_lexer": "ipython3",
   "version": "3.6.4"
  },
  "toc": {
   "nav_menu": {},
   "number_sections": true,
   "sideBar": true,
   "skip_h1_title": false,
   "title_cell": "Table of Contents",
   "title_sidebar": "Contents",
   "toc_cell": false,
   "toc_position": {},
   "toc_section_display": true,
   "toc_window_display": false
  }
 },
 "nbformat": 4,
 "nbformat_minor": 2
}
