{
 "cells": [
  {
   "cell_type": "code",
   "execution_count": 1,
   "metadata": {
    "ExecuteTime": {
     "end_time": "2018-07-01T14:15:04.857015Z",
     "start_time": "2018-07-01T14:15:04.585235Z"
    }
   },
   "outputs": [],
   "source": [
    "import os\n",
    "import json\n",
    "\n",
    "import pandas as pd"
   ]
  },
  {
   "cell_type": "code",
   "execution_count": 2,
   "metadata": {
    "ExecuteTime": {
     "end_time": "2018-07-01T14:15:05.553308Z",
     "start_time": "2018-07-01T14:15:05.436753Z"
    }
   },
   "outputs": [],
   "source": [
    "!mkdir df_data"
   ]
  },
  {
   "cell_type": "code",
   "execution_count": 3,
   "metadata": {
    "ExecuteTime": {
     "end_time": "2018-07-01T14:15:12.229221Z",
     "start_time": "2018-07-01T14:15:12.079706Z"
    }
   },
   "outputs": [],
   "source": [
    "def create_df_data():\n",
    "    \n",
    "    path = 'data'\n",
    "    \n",
    "    playlist_col = ['collaborative', 'duration_ms', 'modified_at', \n",
    "                'name', 'num_albums', 'num_artists', 'num_edits',\n",
    "                'num_followers', 'num_tracks', 'pid']\n",
    "    tracks_col = ['album_name', 'album_uri', 'artist_name', 'artist_uri', \n",
    "                  'duration_ms', 'track_name', 'track_uri'] \n",
    "    playlist_test_col = ['name', 'num_holdouts', 'num_samples', 'num_tracks', 'pid']\n",
    "    \n",
    "    filenames = os.listdir(path)\n",
    "    \n",
    "    data_playlists = []\n",
    "    data_tracks = []\n",
    "    playlists = []\n",
    "\n",
    "    tracks = set()\n",
    "\n",
    "    for filename in filenames:\n",
    "        fullpath = os.sep.join((path, filename))\n",
    "        f = open(fullpath)\n",
    "        js = f.read()\n",
    "        f.close()\n",
    "\n",
    "        mpd_slice = json.loads(js)\n",
    "\n",
    "        for playlist in mpd_slice['playlists']:\n",
    "            data_playlists.append([playlist[col] for col in playlist_col])\n",
    "            for track in playlist['tracks']:\n",
    "                playlists.append([playlist['pid'], track['track_uri'], track['pos']])\n",
    "                if track['track_uri'] not in tracks:\n",
    "                    data_tracks.append([track[col] for col in tracks_col])\n",
    "                    tracks.add(track['track_uri'])\n",
    "                    \n",
    "    f = open('challenge_set.json')\n",
    "    js = f.read()\n",
    "    f.close()\n",
    "    mpd_slice = json.loads(js)\n",
    "\n",
    "    data_playlists_test = []\n",
    "    playlists_test = []\n",
    "\n",
    "    for playlist in mpd_slice['playlists']:\n",
    "        data_playlists_test.append([playlist.get(col, '') for col in playlist_test_col])\n",
    "        for track in playlist['tracks']:\n",
    "            playlists_test.append([playlist['pid'], track['track_uri'], track['pos']])\n",
    "            if track['track_uri'] not in tracks:\n",
    "                data_tracks.append([track[col] for col in tracks_col])\n",
    "                tracks.add(track['track_uri'])\n",
    "                \n",
    "    df_playlists_info = pd.DataFrame(data_playlists, columns=playlist_col)\n",
    "    df_playlists_info['collaborative'] = df_playlists_info['collaborative'].map({'false': False, 'true': True})\n",
    "\n",
    "    df_tracks = pd.DataFrame(data_tracks, columns=tracks_col)\n",
    "    df_tracks['tid'] = df_tracks.index\n",
    "\n",
    "    track_uri2tid = df_tracks.set_index('track_uri').tid\n",
    "\n",
    "    df_playlists = pd.DataFrame(playlists, columns=['pid', 'tid', 'pos'])\n",
    "    df_playlists.tid = df_playlists.tid.map(track_uri2tid)\n",
    "\n",
    "    df_playlists_test_info = pd.DataFrame(data_playlists_test, columns=playlist_test_col)\n",
    "\n",
    "    df_playlists_test = pd.DataFrame(playlists_test, columns=['pid', 'tid', 'pos'])\n",
    "    df_playlists_test.tid = df_playlists_test.tid.map(track_uri2tid)\n",
    "\n",
    "    df_tracks.to_hdf('df_data/df_tracks.hdf', key='abc')\n",
    "    df_playlists.to_hdf('df_data/df_playlists.hdf', key='abc')\n",
    "    df_playlists_info.to_hdf('df_data/df_playlists_info.hdf', key='abc')\n",
    "    df_playlists_test.to_hdf('df_data/df_playlists_test.hdf', key='abc')\n",
    "    df_playlists_test_info.to_hdf('df_data/df_playlists_test_info.hdf', key='abc')"
   ]
  },
  {
   "cell_type": "code",
   "execution_count": 4,
   "metadata": {
    "ExecuteTime": {
     "end_time": "2018-07-01T14:33:33.372201Z",
     "start_time": "2018-07-01T14:15:20.011921Z"
    }
   },
   "outputs": [],
   "source": [
    "create_df_data()"
   ]
  },
  {
   "cell_type": "code",
   "execution_count": null,
   "metadata": {},
   "outputs": [],
   "source": []
  }
 ],
 "metadata": {
  "kernelspec": {
   "display_name": "Python 3",
   "language": "python",
   "name": "python3"
  },
  "language_info": {
   "codemirror_mode": {
    "name": "ipython",
    "version": 3
   },
   "file_extension": ".py",
   "mimetype": "text/x-python",
   "name": "python",
   "nbconvert_exporter": "python",
   "pygments_lexer": "ipython3",
   "version": "3.6.4"
  },
  "toc": {
   "nav_menu": {},
   "number_sections": true,
   "sideBar": true,
   "skip_h1_title": false,
   "title_cell": "Table of Contents",
   "title_sidebar": "Contents",
   "toc_cell": false,
   "toc_position": {},
   "toc_section_display": true,
   "toc_window_display": false
  }
 },
 "nbformat": 4,
 "nbformat_minor": 2
}
