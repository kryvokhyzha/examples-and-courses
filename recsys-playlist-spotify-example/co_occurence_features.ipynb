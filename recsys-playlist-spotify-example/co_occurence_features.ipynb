{
 "cells": [
  {
   "cell_type": "code",
   "execution_count": 1,
   "metadata": {
    "ExecuteTime": {
     "end_time": "2018-07-01T16:33:04.439728Z",
     "start_time": "2018-07-01T16:33:02.895640Z"
    }
   },
   "outputs": [],
   "source": [
    "import numpy as np\n",
    "import pandas as pd\n",
    "import joblib\n",
    "import xgboost\n",
    "#import lightfm\n",
    "from collections import defaultdict\n",
    "from sklearn.preprocessing import LabelEncoder"
   ]
  },
  {
   "cell_type": "code",
   "execution_count": 2,
   "metadata": {
    "ExecuteTime": {
     "end_time": "2018-07-01T16:33:05.724889Z",
     "start_time": "2018-07-01T16:33:04.444735Z"
    }
   },
   "outputs": [],
   "source": [
    "data = pd.read_hdf('df_data/train.hdf')"
   ]
  },
  {
   "cell_type": "code",
   "execution_count": 3,
   "metadata": {
    "ExecuteTime": {
     "end_time": "2018-07-01T16:33:23.666363Z",
     "start_time": "2018-07-01T16:33:05.726703Z"
    }
   },
   "outputs": [],
   "source": [
    "data = data.drop_duplicates(['pid', 'tid'])"
   ]
  },
  {
   "cell_type": "code",
   "execution_count": 4,
   "metadata": {
    "ExecuteTime": {
     "end_time": "2018-07-01T16:33:24.977875Z",
     "start_time": "2018-07-01T16:33:23.668472Z"
    }
   },
   "outputs": [],
   "source": [
    "num_items = data.tid.max() + 1\n",
    "num_users =  data.pid.max() + 1"
   ]
  },
  {
   "cell_type": "code",
   "execution_count": 5,
   "metadata": {
    "ExecuteTime": {
     "end_time": "2018-07-01T17:28:01.486965Z",
     "start_time": "2018-07-01T16:33:24.979826Z"
    }
   },
   "outputs": [
    {
     "name": "stdout",
     "output_type": "stream",
     "text": [
      "0.0\n",
      "10.0\n",
      "20.0\n",
      "30.0\n",
      "40.0\n",
      "50.0\n",
      "60.0\n",
      "70.0\n",
      "80.0\n",
      "90.0\n",
      "100.0\n"
     ]
    }
   ],
   "source": [
    "# 1hour\n",
    "co_occurence = [defaultdict(int) for i in range(num_items)]\n",
    "occurence = [0 for i in range(num_items)]\n",
    "for q, (_, df) in enumerate(data.groupby('pid')):\n",
    "    if q % 100000 == 0:\n",
    "        print(q / 10000)\n",
    "    tids = list(df.tid)\n",
    "    for i in tids:\n",
    "        occurence[i] += 1\n",
    "    for k, i in enumerate(tids):\n",
    "        for j in tids[k + 1:]:\n",
    "            co_occurence[i][j] += 1\n",
    "            co_occurence[j][i] += 1"
   ]
  },
  {
   "cell_type": "code",
   "execution_count": 6,
   "metadata": {
    "ExecuteTime": {
     "end_time": "2018-07-01T17:28:01.554365Z",
     "start_time": "2018-07-01T17:28:01.489274Z"
    }
   },
   "outputs": [],
   "source": [
    "def get_f(i, f):\n",
    "    if len(i) == 0:\n",
    "        return -1\n",
    "    else:\n",
    "        return f(i)\n",
    "    \n",
    "def create_co_occurence_features(df):\n",
    "    \n",
    "    pids = df.pid.unique()\n",
    "    seed = data[data.pid.isin(pids)]\n",
    "    tid_seed = seed.groupby('pid').tid.apply(list)\n",
    "    \n",
    "    co_occurence_seq = []\n",
    "    for pid, tid in df[['pid', 'tid']].values:\n",
    "        tracks = tid_seed.get(pid, [])\n",
    "        co_occurence_seq.append(np.array([co_occurence[tid][i] for i in tracks]))\n",
    "        \n",
    "    df['co_occurence_max'] = [get_f(i, np.max) for i in co_occurence_seq]\n",
    "    df['co_occurence_min'] = [get_f(i, np.min) for i in co_occurence_seq]\n",
    "    df['co_occurence_mean'] = [get_f(i, np.mean) for i in co_occurence_seq]\n",
    "    df['co_occurence_median'] = [get_f(i, np.median) for i in co_occurence_seq]\n",
    "    \n",
    "    co_occurence_seq = []\n",
    "    for pid, tid in df[['pid', 'tid']].values:\n",
    "        tracks = tid_seed.get(pid, [])\n",
    "        co_occurence_seq.append(np.array([co_occurence[tid][i] / occurence[i] for i in tracks]))\n",
    "        \n",
    "    df['co_occurence_norm_max'] = [get_f(i, np.max) for i in co_occurence_seq]\n",
    "    df['co_occurence_norm_min'] = [get_f(i, np.min) for i in co_occurence_seq]\n",
    "    df['co_occurence_norm_mean'] = [get_f(i, np.mean) for i in co_occurence_seq]\n",
    "    df['co_occurence_norm_median'] = [get_f(i, np.median) for i in co_occurence_seq]"
   ]
  },
  {
   "cell_type": "code",
   "execution_count": 7,
   "metadata": {
    "ExecuteTime": {
     "end_time": "2018-07-01T17:28:02.267724Z",
     "start_time": "2018-07-01T17:28:01.556667Z"
    }
   },
   "outputs": [],
   "source": [
    "train = pd.read_hdf('df_data/ii_candidate.hdf')\n",
    "val = pd.read_hdf('df_data/iii_candidate.hdf')\n",
    "test = pd.read_hdf('df_data/test_candidate.hdf')"
   ]
  },
  {
   "cell_type": "code",
   "execution_count": 8,
   "metadata": {
    "ExecuteTime": {
     "end_time": "2018-07-01T18:57:02.629459Z",
     "start_time": "2018-07-01T17:28:02.269776Z"
    }
   },
   "outputs": [],
   "source": [
    "create_co_occurence_features(train)\n",
    "create_co_occurence_features(val)\n",
    "create_co_occurence_features(test)"
   ]
  },
  {
   "cell_type": "code",
   "execution_count": 9,
   "metadata": {
    "ExecuteTime": {
     "end_time": "2018-07-01T18:57:11.530237Z",
     "start_time": "2018-07-01T18:57:02.911183Z"
    }
   },
   "outputs": [],
   "source": [
    "train.to_hdf('df_data/ii_co_occurence_features.hdf', key='abc')\n",
    "val.to_hdf('df_data/iii_co_occurence_features.hdf', key='abc')\n",
    "test.to_hdf('df_data/test_co_occurence_features.hdf', key='abc')"
   ]
  },
  {
   "cell_type": "code",
   "execution_count": null,
   "metadata": {},
   "outputs": [],
   "source": []
  },
  {
   "cell_type": "code",
   "execution_count": null,
   "metadata": {},
   "outputs": [],
   "source": []
  }
 ],
 "metadata": {
  "kernelspec": {
   "display_name": "Python 3",
   "language": "python",
   "name": "python3"
  },
  "language_info": {
   "codemirror_mode": {
    "name": "ipython",
    "version": 3
   },
   "file_extension": ".py",
   "mimetype": "text/x-python",
   "name": "python",
   "nbconvert_exporter": "python",
   "pygments_lexer": "ipython3",
   "version": "3.6.4"
  },
  "toc": {
   "nav_menu": {},
   "number_sections": true,
   "sideBar": true,
   "skip_h1_title": false,
   "title_cell": "Table of Contents",
   "title_sidebar": "Contents",
   "toc_cell": false,
   "toc_position": {},
   "toc_section_display": true,
   "toc_window_display": false
  }
 },
 "nbformat": 4,
 "nbformat_minor": 2
}
