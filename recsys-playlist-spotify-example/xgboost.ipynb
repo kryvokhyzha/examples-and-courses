{
 "cells": [
  {
   "cell_type": "code",
   "execution_count": 1,
   "metadata": {
    "ExecuteTime": {
     "end_time": "2018-07-01T19:01:47.232810Z",
     "start_time": "2018-07-01T19:01:46.722029Z"
    }
   },
   "outputs": [],
   "source": [
    "import numpy as np\n",
    "import pandas as pd\n",
    "import joblib\n",
    "import xgboost\n",
    "from collections import defaultdict\n",
    "from sklearn.preprocessing import LabelEncoder"
   ]
  },
  {
   "cell_type": "code",
   "execution_count": 2,
   "metadata": {
    "ExecuteTime": {
     "end_time": "2018-07-01T19:01:48.273800Z",
     "start_time": "2018-07-01T19:01:48.270305Z"
    }
   },
   "outputs": [],
   "source": [
    "pd.options.display.max_columns = 100"
   ]
  },
  {
   "cell_type": "code",
   "execution_count": 3,
   "metadata": {
    "ExecuteTime": {
     "end_time": "2018-07-01T19:01:50.004346Z",
     "start_time": "2018-07-01T19:01:48.611799Z"
    }
   },
   "outputs": [],
   "source": [
    "data = pd.read_hdf('df_data/train.hdf')"
   ]
  },
  {
   "cell_type": "code",
   "execution_count": 4,
   "metadata": {
    "ExecuteTime": {
     "end_time": "2018-07-01T19:01:50.244374Z",
     "start_time": "2018-07-01T19:01:50.006315Z"
    },
    "scrolled": true
   },
   "outputs": [],
   "source": [
    "df_playlists_info = pd.read_hdf('df_data/df_playlists_info.hdf')\n",
    "df_playlists_test_info = pd.read_hdf('df_data/df_playlists_test_info.hdf')"
   ]
  },
  {
   "cell_type": "code",
   "execution_count": 5,
   "metadata": {
    "ExecuteTime": {
     "end_time": "2018-07-01T19:02:06.663223Z",
     "start_time": "2018-07-01T19:01:54.215598Z"
    }
   },
   "outputs": [],
   "source": [
    "tracks_info = pd.read_hdf('df_data/df_tracks.hdf')\n",
    "\n",
    "tracks_info['album'] = LabelEncoder().fit_transform(tracks_info.album_uri)\n",
    "tracks_info['artist'] = LabelEncoder().fit_transform(tracks_info.artist_uri)"
   ]
  },
  {
   "cell_type": "code",
   "execution_count": 6,
   "metadata": {
    "ExecuteTime": {
     "end_time": "2018-07-01T19:02:07.300057Z",
     "start_time": "2018-07-01T19:02:06.665398Z"
    }
   },
   "outputs": [],
   "source": [
    "train = pd.read_hdf('df_data/ii_candidate.hdf')\n",
    "val = pd.read_hdf('df_data/iii_candidate.hdf')\n",
    "test = pd.read_hdf('df_data/test_candidate.hdf')"
   ]
  },
  {
   "cell_type": "code",
   "execution_count": 7,
   "metadata": {
    "ExecuteTime": {
     "end_time": "2018-07-01T19:02:07.338920Z",
     "start_time": "2018-07-01T19:02:07.302062Z"
    }
   },
   "outputs": [],
   "source": [
    "train_holdouts = pd.read_hdf('df_data/val1.hdf')\n",
    "val_holdouts = pd.read_hdf('df_data/val2.hdf')"
   ]
  },
  {
   "cell_type": "code",
   "execution_count": 8,
   "metadata": {
    "ExecuteTime": {
     "end_time": "2018-07-01T19:02:07.792197Z",
     "start_time": "2018-07-01T19:02:07.340801Z"
    }
   },
   "outputs": [],
   "source": [
    "train_length = train_holdouts.groupby('pid').tid.nunique()\n",
    "val_length = val_holdouts.groupby('pid').tid.nunique()\n",
    "test_length = df_playlists_test_info.set_index('pid').num_holdouts"
   ]
  },
  {
   "cell_type": "code",
   "execution_count": 9,
   "metadata": {
    "ExecuteTime": {
     "end_time": "2018-07-01T19:02:08.495901Z",
     "start_time": "2018-07-01T19:02:07.793974Z"
    }
   },
   "outputs": [],
   "source": [
    "num_items = data.tid.max() + 1"
   ]
  },
  {
   "cell_type": "code",
   "execution_count": 10,
   "metadata": {
    "ExecuteTime": {
     "end_time": "2018-07-01T19:02:08.509974Z",
     "start_time": "2018-07-01T19:02:08.497981Z"
    },
    "scrolled": true
   },
   "outputs": [],
   "source": [
    "def create_count(df):\n",
    "    \n",
    "    tid_count = data.tid.value_counts()\n",
    "    pid_count = data.pid.value_counts()\n",
    "\n",
    "    df['tid_count'] = df.tid.map(tid_count).fillna(0)\n",
    "    df['pid_count'] = df.pid.map(pid_count).fillna(0)\n",
    "    \n",
    "    album_count = data.tid.map(tracks_info.album).value_counts()\n",
    "    artist_count = data.tid.map(tracks_info.artist).value_counts()\n",
    "    \n",
    "    df['album_count'] = df.tid.map(tracks_info.album).map(album_count).fillna(0)\n",
    "    df['artist_count'] = df.tid.map(tracks_info.artist).map(artist_count).fillna(0)\n",
    "     \n",
    "    album_count"
   ]
  },
  {
   "cell_type": "code",
   "execution_count": 11,
   "metadata": {
    "ExecuteTime": {
     "end_time": "2018-07-01T19:02:08.516881Z",
     "start_time": "2018-07-01T19:02:08.511525Z"
    }
   },
   "outputs": [],
   "source": [
    "def isin(i, j):\n",
    "    if j is not np.nan:\n",
    "        return i in j\n",
    "    return False\n",
    "\n",
    "def isin_sum(i, j):\n",
    "    if j is not np.nan:\n",
    "        return (i == j).sum()\n",
    "    return 0"
   ]
  },
  {
   "cell_type": "code",
   "execution_count": 12,
   "metadata": {
    "ExecuteTime": {
     "end_time": "2018-07-01T19:02:08.529050Z",
     "start_time": "2018-07-01T19:02:08.518436Z"
    }
   },
   "outputs": [],
   "source": [
    "def creaet_artist_features(df):\n",
    "    \n",
    "    data_short = data[data.pid.isin(df.pid)]\n",
    "    pid_artist = data_short.tid.map(tracks_info.artist).groupby(data_short.pid).apply(np.array)\n",
    "    df_playlist = df.pid.map(pid_artist)\n",
    "    df_artist = df.tid.map(tracks_info.artist)\n",
    "    \n",
    "    share_unique = pid_artist.apply(np.unique).apply(len) / pid_artist.apply(len)\n",
    "    \n",
    "    df['share_of_unique_artist'] = df.pid.map(share_unique).fillna(-1)\n",
    "    df['sim_artist_in_playlist'] = [isin_sum(i, j) for i, j in zip(df_artist, df_playlist)]\n",
    "    df['mean_artist_in_playlist'] = (df['sim_artist_in_playlist'] / df.pid.map(pid_artist.apply(len))).fillna(-1)"
   ]
  },
  {
   "cell_type": "code",
   "execution_count": 13,
   "metadata": {
    "ExecuteTime": {
     "end_time": "2018-07-01T19:02:08.542133Z",
     "start_time": "2018-07-01T19:02:08.530813Z"
    }
   },
   "outputs": [],
   "source": [
    "def creaet_album_features(df):\n",
    "    \n",
    "    data_short = data[data.pid.isin(df.pid)]\n",
    "    pid_album = data_short.tid.map(tracks_info.album).groupby(data_short.pid).apply(np.array)\n",
    "    df_playlist = df.pid.map(pid_album)\n",
    "    df_album = df.tid.map(tracks_info.album)\n",
    "    \n",
    "    share_unique = pid_album.apply(np.unique).apply(len) / pid_album.apply(len)\n",
    "    \n",
    "    df['share_of_unique_album'] = df.pid.map(share_unique).fillna(-1)\n",
    "    df['sim_album_in_playlist'] = [isin_sum(i, j) for i, j in zip(df_album, df_playlist)]\n",
    "    df['mean_album_in_playlist'] = (df['sim_album_in_playlist'] / df.pid.map(pid_album.apply(len))).fillna(-1)\n"
   ]
  },
  {
   "cell_type": "code",
   "execution_count": 14,
   "metadata": {
    "ExecuteTime": {
     "end_time": "2018-07-01T19:02:08.547729Z",
     "start_time": "2018-07-01T19:02:08.543594Z"
    }
   },
   "outputs": [],
   "source": [
    "def create_features(df, df_length):\n",
    "    create_count(df)\n",
    "    creaet_artist_features(df)\n",
    "    creaet_album_features(df)\n",
    "    df['tracks_holdout'] = df.pid.map(df_length)"
   ]
  },
  {
   "cell_type": "code",
   "execution_count": 15,
   "metadata": {
    "ExecuteTime": {
     "end_time": "2018-07-01T19:07:55.009098Z",
     "start_time": "2018-07-01T19:02:08.549317Z"
    }
   },
   "outputs": [],
   "source": [
    "create_features(train, train_length)\n",
    "create_features(val, val_length)\n",
    "create_features(test, test_length)"
   ]
  },
  {
   "cell_type": "code",
   "execution_count": 17,
   "metadata": {
    "ExecuteTime": {
     "end_time": "2018-07-01T19:10:13.188095Z",
     "start_time": "2018-07-01T19:09:10.523703Z"
    }
   },
   "outputs": [],
   "source": [
    "train_co = pd.read_hdf('df_data/ii_co_occurence_features.hdf').drop('target', axis=1)\n",
    "val_co = pd.read_hdf('df_data/iii_co_occurence_features.hdf').drop('target', axis=1)\n",
    "test_co = pd.read_hdf('df_data/test_co_occurence_features.hdf')\n",
    "\n",
    "train_lightfm = pd.read_hdf('df_data/ii_lightfm_features.hdf').drop('target', axis=1)\n",
    "val_lightfm = pd.read_hdf('df_data/iii_lightfm_features.hdf').drop('target', axis=1)\n",
    "test_lightfm = pd.read_hdf('df_data/test_lightfm_features.hdf')\n",
    "\n",
    "train = train.merge(train_co, on=['pid', 'tid'])\n",
    "val = val.merge(val_co, on=['pid', 'tid'])\n",
    "test = test.merge(test_co, on=['pid', 'tid'])\n",
    "\n",
    "train = train.merge(train_lightfm, on=['pid', 'tid'])\n",
    "val = val.merge(val_lightfm, on=['pid', 'tid'])\n",
    "test = test.merge(test_lightfm, on=['pid', 'tid'])"
   ]
  },
  {
   "cell_type": "code",
   "execution_count": 18,
   "metadata": {
    "ExecuteTime": {
     "end_time": "2018-07-01T19:10:30.809755Z",
     "start_time": "2018-07-01T19:10:17.863416Z"
    },
    "scrolled": true
   },
   "outputs": [],
   "source": [
    "cols = ['pid', 'tid', 'target']\n",
    "xgtrain = xgboost.DMatrix(train.drop(cols, axis=1), train.target)"
   ]
  },
  {
   "cell_type": "code",
   "execution_count": 22,
   "metadata": {
    "ExecuteTime": {
     "end_time": "2018-07-01T19:10:59.321047Z",
     "start_time": "2018-07-01T19:10:50.075145Z"
    }
   },
   "outputs": [],
   "source": [
    "xgval = xgboost.DMatrix(val.drop(cols, axis=1), val.target)"
   ]
  },
  {
   "cell_type": "code",
   "execution_count": 23,
   "metadata": {
    "ExecuteTime": {
     "end_time": "2018-07-01T19:11:11.888786Z",
     "start_time": "2018-07-01T19:10:59.323017Z"
    }
   },
   "outputs": [],
   "source": [
    "xgtest = xgboost.DMatrix(test.drop(['pid', 'tid'], axis=1))"
   ]
  },
  {
   "cell_type": "code",
   "execution_count": null,
   "metadata": {
    "ExecuteTime": {
     "end_time": "2018-07-01T19:29:48.535134Z",
     "start_time": "2018-07-01T19:11:11.890696Z"
    },
    "scrolled": true
   },
   "outputs": [],
   "source": [
    "params = {\n",
    "    'objective':'binary:logistic', \n",
    "    'eta':0.1, \n",
    "    'booster':'gbtree',\n",
    "    'max_depth':7,         \n",
    "    'nthread':50,  \n",
    "    'seed':1,    \n",
    "    'eval_metric':'auc',\n",
    "}\n",
    "\n",
    "a = xgboost.train(\n",
    "    params=list(params.items()),  \n",
    "    early_stopping_rounds=30, \n",
    "    verbose_eval=10, \n",
    "    dtrain=xgtrain,\n",
    "    evals=[(xgtrain, 'train'), (xgval, 'test')],\n",
    "    num_boost_round=300,\n",
    ")"
   ]
  },
  {
   "cell_type": "code",
   "execution_count": 25,
   "metadata": {
    "ExecuteTime": {
     "end_time": "2018-07-01T19:30:24.945539Z",
     "start_time": "2018-07-01T19:30:24.837151Z"
    }
   },
   "outputs": [],
   "source": [
    "p = a.predict(xgval)\n",
    "val['p'] = p"
   ]
  },
  {
   "cell_type": "code",
   "execution_count": null,
   "metadata": {
    "ExecuteTime": {
     "end_time": "2018-07-01T19:30:45.367802Z",
     "start_time": "2018-07-01T19:30:25.454626Z"
    }
   },
   "outputs": [],
   "source": [
    "scores = []\n",
    "for pid, df, in val.sort_values('p', ascending=False).groupby('pid'):\n",
    "    n = val_length[pid]\n",
    "    scores.append(df[:n].target.sum() / n)\n",
    "np.mean(scores)"
   ]
  },
  {
   "cell_type": "code",
   "execution_count": 27,
   "metadata": {
    "ExecuteTime": {
     "end_time": "2018-07-01T19:31:06.020758Z",
     "start_time": "2018-07-01T19:30:45.369575Z"
    }
   },
   "outputs": [],
   "source": [
    "test['p'] = a.predict(xgtest)\n",
    "test = test.sort_values(['pid', 'p'], ascending=[True, False])\n",
    "recs = test.groupby('pid').tid.apply(lambda x: x.values[:500])\n",
    "track_uri = tracks_info.track_uri "
   ]
  },
  {
   "cell_type": "code",
   "execution_count": 28,
   "metadata": {
    "ExecuteTime": {
     "end_time": "2018-07-01T19:31:10.800248Z",
     "start_time": "2018-07-01T19:31:06.022680Z"
    }
   },
   "outputs": [],
   "source": [
    "sabmission = open('submission.csv', 'w')\n",
    "sabmission.write('team_info,main,Avito,vrubcov@hse.ru\\n')\n",
    "\n",
    "for pid, tids in recs.items():\n",
    "    sabmission.write('{}, '.format(pid) + ', '.join(track_uri.loc[tids].values) + '\\n')\n",
    "    \n",
    "sabmission.close()"
   ]
  },
  {
   "cell_type": "code",
   "execution_count": null,
   "metadata": {},
   "outputs": [],
   "source": []
  }
 ],
 "metadata": {
  "kernelspec": {
   "display_name": "Python 3",
   "language": "python",
   "name": "python3"
  },
  "language_info": {
   "codemirror_mode": {
    "name": "ipython",
    "version": 3
   },
   "file_extension": ".py",
   "mimetype": "text/x-python",
   "name": "python",
   "nbconvert_exporter": "python",
   "pygments_lexer": "ipython3",
   "version": "3.6.4"
  },
  "toc": {
   "nav_menu": {},
   "number_sections": true,
   "sideBar": true,
   "skip_h1_title": false,
   "title_cell": "Table of Contents",
   "title_sidebar": "Contents",
   "toc_cell": false,
   "toc_position": {},
   "toc_section_display": true,
   "toc_window_display": false
  }
 },
 "nbformat": 4,
 "nbformat_minor": 2
}
