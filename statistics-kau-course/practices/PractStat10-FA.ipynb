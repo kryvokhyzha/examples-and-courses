{
 "cells": [
  {
   "cell_type": "markdown",
   "id": "e24d2f2b",
   "metadata": {},
   "source": [
    "## Факторний аналіз \n",
    "\n",
    "Більше можна почитати [тут](https://www.earthinversion.com/geophysics/exploratory-factor-analysis/).   Але в коді є проблема, див. [тут](https://stackoverflow.com/questions/60411978/attributeerror-factoranalyzer-object-has-no-attribute-analyze). Якщо не встановлено пакет  factor_analyzer, то встановлюємо. "
   ]
  },
  {
   "cell_type": "code",
   "execution_count": 1,
   "id": "6499a178",
   "metadata": {},
   "outputs": [],
   "source": [
    "#! pip install factor_analyzer"
   ]
  },
  {
   "cell_type": "code",
   "execution_count": 2,
   "id": "0c5a7e4d",
   "metadata": {},
   "outputs": [],
   "source": [
    "import pandas as pd\n",
    "import numpy as np\n",
    "from sklearn.datasets import load_iris\n",
    "from factor_analyzer import FactorAnalyzer\n",
    "import matplotlib.pyplot as plt\n",
    "from matplotlib import style\n",
    "import matplotlib"
   ]
  },
  {
   "cell_type": "markdown",
   "id": "50f3a51a",
   "metadata": {},
   "source": [
    "В наступній табліиці наведено дані тестування типу особистості. Є 5 типів (колонки названі відповідно до першої літери:  Agreeableness, Conscientiousness, Extraversion, Neuroticism, and Openness),по 5 підтипів в кожній. Кожна змінна -це оцінка в шкалі від 1 до 6:  1 Very Inaccurate; 2 Moderately Inaccurate; 3 Slightly Inaccurate; 4 Slightly Accurate; 5 Moderately Accurate; 6 Very Accurate."
   ]
  },
  {
   "cell_type": "code",
   "execution_count": 3,
   "id": "d6d96555",
   "metadata": {},
   "outputs": [
    {
     "data": {
      "text/html": [
       "<div>\n",
       "<style scoped>\n",
       "    .dataframe tbody tr th:only-of-type {\n",
       "        vertical-align: middle;\n",
       "    }\n",
       "\n",
       "    .dataframe tbody tr th {\n",
       "        vertical-align: top;\n",
       "    }\n",
       "\n",
       "    .dataframe thead th {\n",
       "        text-align: right;\n",
       "    }\n",
       "</style>\n",
       "<table border=\"1\" class=\"dataframe\">\n",
       "  <thead>\n",
       "    <tr style=\"text-align: right;\">\n",
       "      <th></th>\n",
       "      <th>A1</th>\n",
       "      <th>A2</th>\n",
       "      <th>A3</th>\n",
       "      <th>A4</th>\n",
       "      <th>A5</th>\n",
       "      <th>C1</th>\n",
       "      <th>C2</th>\n",
       "      <th>C3</th>\n",
       "      <th>C4</th>\n",
       "      <th>C5</th>\n",
       "      <th>...</th>\n",
       "      <th>N4</th>\n",
       "      <th>N5</th>\n",
       "      <th>O1</th>\n",
       "      <th>O2</th>\n",
       "      <th>O3</th>\n",
       "      <th>O4</th>\n",
       "      <th>O5</th>\n",
       "      <th>gender</th>\n",
       "      <th>education</th>\n",
       "      <th>age</th>\n",
       "    </tr>\n",
       "  </thead>\n",
       "  <tbody>\n",
       "    <tr>\n",
       "      <th>0</th>\n",
       "      <td>2.0</td>\n",
       "      <td>4.0</td>\n",
       "      <td>3.0</td>\n",
       "      <td>4.0</td>\n",
       "      <td>4.0</td>\n",
       "      <td>2.0</td>\n",
       "      <td>3.0</td>\n",
       "      <td>3.0</td>\n",
       "      <td>4.0</td>\n",
       "      <td>4.0</td>\n",
       "      <td>...</td>\n",
       "      <td>2.0</td>\n",
       "      <td>3.0</td>\n",
       "      <td>3.0</td>\n",
       "      <td>6</td>\n",
       "      <td>3.0</td>\n",
       "      <td>4.0</td>\n",
       "      <td>3.0</td>\n",
       "      <td>1</td>\n",
       "      <td>NaN</td>\n",
       "      <td>16</td>\n",
       "    </tr>\n",
       "    <tr>\n",
       "      <th>1</th>\n",
       "      <td>2.0</td>\n",
       "      <td>4.0</td>\n",
       "      <td>5.0</td>\n",
       "      <td>2.0</td>\n",
       "      <td>5.0</td>\n",
       "      <td>5.0</td>\n",
       "      <td>4.0</td>\n",
       "      <td>4.0</td>\n",
       "      <td>3.0</td>\n",
       "      <td>4.0</td>\n",
       "      <td>...</td>\n",
       "      <td>5.0</td>\n",
       "      <td>5.0</td>\n",
       "      <td>4.0</td>\n",
       "      <td>2</td>\n",
       "      <td>4.0</td>\n",
       "      <td>3.0</td>\n",
       "      <td>3.0</td>\n",
       "      <td>2</td>\n",
       "      <td>NaN</td>\n",
       "      <td>18</td>\n",
       "    </tr>\n",
       "    <tr>\n",
       "      <th>2</th>\n",
       "      <td>5.0</td>\n",
       "      <td>4.0</td>\n",
       "      <td>5.0</td>\n",
       "      <td>4.0</td>\n",
       "      <td>4.0</td>\n",
       "      <td>4.0</td>\n",
       "      <td>5.0</td>\n",
       "      <td>4.0</td>\n",
       "      <td>2.0</td>\n",
       "      <td>5.0</td>\n",
       "      <td>...</td>\n",
       "      <td>2.0</td>\n",
       "      <td>3.0</td>\n",
       "      <td>4.0</td>\n",
       "      <td>2</td>\n",
       "      <td>5.0</td>\n",
       "      <td>5.0</td>\n",
       "      <td>2.0</td>\n",
       "      <td>2</td>\n",
       "      <td>NaN</td>\n",
       "      <td>17</td>\n",
       "    </tr>\n",
       "    <tr>\n",
       "      <th>3</th>\n",
       "      <td>4.0</td>\n",
       "      <td>4.0</td>\n",
       "      <td>6.0</td>\n",
       "      <td>5.0</td>\n",
       "      <td>5.0</td>\n",
       "      <td>4.0</td>\n",
       "      <td>4.0</td>\n",
       "      <td>3.0</td>\n",
       "      <td>5.0</td>\n",
       "      <td>5.0</td>\n",
       "      <td>...</td>\n",
       "      <td>4.0</td>\n",
       "      <td>1.0</td>\n",
       "      <td>3.0</td>\n",
       "      <td>3</td>\n",
       "      <td>4.0</td>\n",
       "      <td>3.0</td>\n",
       "      <td>5.0</td>\n",
       "      <td>2</td>\n",
       "      <td>NaN</td>\n",
       "      <td>17</td>\n",
       "    </tr>\n",
       "    <tr>\n",
       "      <th>4</th>\n",
       "      <td>2.0</td>\n",
       "      <td>3.0</td>\n",
       "      <td>3.0</td>\n",
       "      <td>4.0</td>\n",
       "      <td>5.0</td>\n",
       "      <td>4.0</td>\n",
       "      <td>4.0</td>\n",
       "      <td>5.0</td>\n",
       "      <td>3.0</td>\n",
       "      <td>2.0</td>\n",
       "      <td>...</td>\n",
       "      <td>4.0</td>\n",
       "      <td>3.0</td>\n",
       "      <td>3.0</td>\n",
       "      <td>3</td>\n",
       "      <td>4.0</td>\n",
       "      <td>3.0</td>\n",
       "      <td>3.0</td>\n",
       "      <td>1</td>\n",
       "      <td>NaN</td>\n",
       "      <td>17</td>\n",
       "    </tr>\n",
       "  </tbody>\n",
       "</table>\n",
       "<p>5 rows × 28 columns</p>\n",
       "</div>"
      ],
      "text/plain": [
       "    A1   A2   A3   A4   A5   C1   C2   C3   C4   C5  ...   N4   N5   O1  O2  \\\n",
       "0  2.0  4.0  3.0  4.0  4.0  2.0  3.0  3.0  4.0  4.0  ...  2.0  3.0  3.0   6   \n",
       "1  2.0  4.0  5.0  2.0  5.0  5.0  4.0  4.0  3.0  4.0  ...  5.0  5.0  4.0   2   \n",
       "2  5.0  4.0  5.0  4.0  4.0  4.0  5.0  4.0  2.0  5.0  ...  2.0  3.0  4.0   2   \n",
       "3  4.0  4.0  6.0  5.0  5.0  4.0  4.0  3.0  5.0  5.0  ...  4.0  1.0  3.0   3   \n",
       "4  2.0  3.0  3.0  4.0  5.0  4.0  4.0  5.0  3.0  2.0  ...  4.0  3.0  3.0   3   \n",
       "\n",
       "    O3   O4   O5  gender  education  age  \n",
       "0  3.0  4.0  3.0       1        NaN   16  \n",
       "1  4.0  3.0  3.0       2        NaN   18  \n",
       "2  5.0  5.0  2.0       2        NaN   17  \n",
       "3  4.0  3.0  5.0       2        NaN   17  \n",
       "4  4.0  3.0  3.0       1        NaN   17  \n",
       "\n",
       "[5 rows x 28 columns]"
      ]
     },
     "execution_count": 3,
     "metadata": {},
     "output_type": "execute_result"
    }
   ],
   "source": [
    "df1= pd.read_csv(\"bfi.csv\")\n",
    "df1.head()"
   ]
  },
  {
   "cell_type": "markdown",
   "id": "547def5a",
   "metadata": {},
   "source": [
    "Відкинемо останні 3 колонки. "
   ]
  },
  {
   "cell_type": "code",
   "execution_count": 4,
   "id": "524db43f",
   "metadata": {},
   "outputs": [
    {
     "data": {
      "text/html": [
       "<div>\n",
       "<style scoped>\n",
       "    .dataframe tbody tr th:only-of-type {\n",
       "        vertical-align: middle;\n",
       "    }\n",
       "\n",
       "    .dataframe tbody tr th {\n",
       "        vertical-align: top;\n",
       "    }\n",
       "\n",
       "    .dataframe thead th {\n",
       "        text-align: right;\n",
       "    }\n",
       "</style>\n",
       "<table border=\"1\" class=\"dataframe\">\n",
       "  <thead>\n",
       "    <tr style=\"text-align: right;\">\n",
       "      <th></th>\n",
       "      <th>A1</th>\n",
       "      <th>A2</th>\n",
       "      <th>A3</th>\n",
       "      <th>A4</th>\n",
       "      <th>A5</th>\n",
       "      <th>C1</th>\n",
       "      <th>C2</th>\n",
       "      <th>C3</th>\n",
       "      <th>C4</th>\n",
       "      <th>C5</th>\n",
       "      <th>...</th>\n",
       "      <th>N1</th>\n",
       "      <th>N2</th>\n",
       "      <th>N3</th>\n",
       "      <th>N4</th>\n",
       "      <th>N5</th>\n",
       "      <th>O1</th>\n",
       "      <th>O2</th>\n",
       "      <th>O3</th>\n",
       "      <th>O4</th>\n",
       "      <th>O5</th>\n",
       "    </tr>\n",
       "  </thead>\n",
       "  <tbody>\n",
       "    <tr>\n",
       "      <th>0</th>\n",
       "      <td>2.0</td>\n",
       "      <td>4.0</td>\n",
       "      <td>3.0</td>\n",
       "      <td>4.0</td>\n",
       "      <td>4.0</td>\n",
       "      <td>2.0</td>\n",
       "      <td>3.0</td>\n",
       "      <td>3.0</td>\n",
       "      <td>4.0</td>\n",
       "      <td>4.0</td>\n",
       "      <td>...</td>\n",
       "      <td>3.0</td>\n",
       "      <td>4.0</td>\n",
       "      <td>2.0</td>\n",
       "      <td>2.0</td>\n",
       "      <td>3.0</td>\n",
       "      <td>3.0</td>\n",
       "      <td>6</td>\n",
       "      <td>3.0</td>\n",
       "      <td>4.0</td>\n",
       "      <td>3.0</td>\n",
       "    </tr>\n",
       "    <tr>\n",
       "      <th>1</th>\n",
       "      <td>2.0</td>\n",
       "      <td>4.0</td>\n",
       "      <td>5.0</td>\n",
       "      <td>2.0</td>\n",
       "      <td>5.0</td>\n",
       "      <td>5.0</td>\n",
       "      <td>4.0</td>\n",
       "      <td>4.0</td>\n",
       "      <td>3.0</td>\n",
       "      <td>4.0</td>\n",
       "      <td>...</td>\n",
       "      <td>3.0</td>\n",
       "      <td>3.0</td>\n",
       "      <td>3.0</td>\n",
       "      <td>5.0</td>\n",
       "      <td>5.0</td>\n",
       "      <td>4.0</td>\n",
       "      <td>2</td>\n",
       "      <td>4.0</td>\n",
       "      <td>3.0</td>\n",
       "      <td>3.0</td>\n",
       "    </tr>\n",
       "    <tr>\n",
       "      <th>2</th>\n",
       "      <td>5.0</td>\n",
       "      <td>4.0</td>\n",
       "      <td>5.0</td>\n",
       "      <td>4.0</td>\n",
       "      <td>4.0</td>\n",
       "      <td>4.0</td>\n",
       "      <td>5.0</td>\n",
       "      <td>4.0</td>\n",
       "      <td>2.0</td>\n",
       "      <td>5.0</td>\n",
       "      <td>...</td>\n",
       "      <td>4.0</td>\n",
       "      <td>5.0</td>\n",
       "      <td>4.0</td>\n",
       "      <td>2.0</td>\n",
       "      <td>3.0</td>\n",
       "      <td>4.0</td>\n",
       "      <td>2</td>\n",
       "      <td>5.0</td>\n",
       "      <td>5.0</td>\n",
       "      <td>2.0</td>\n",
       "    </tr>\n",
       "    <tr>\n",
       "      <th>3</th>\n",
       "      <td>4.0</td>\n",
       "      <td>4.0</td>\n",
       "      <td>6.0</td>\n",
       "      <td>5.0</td>\n",
       "      <td>5.0</td>\n",
       "      <td>4.0</td>\n",
       "      <td>4.0</td>\n",
       "      <td>3.0</td>\n",
       "      <td>5.0</td>\n",
       "      <td>5.0</td>\n",
       "      <td>...</td>\n",
       "      <td>2.0</td>\n",
       "      <td>5.0</td>\n",
       "      <td>2.0</td>\n",
       "      <td>4.0</td>\n",
       "      <td>1.0</td>\n",
       "      <td>3.0</td>\n",
       "      <td>3</td>\n",
       "      <td>4.0</td>\n",
       "      <td>3.0</td>\n",
       "      <td>5.0</td>\n",
       "    </tr>\n",
       "    <tr>\n",
       "      <th>4</th>\n",
       "      <td>2.0</td>\n",
       "      <td>3.0</td>\n",
       "      <td>3.0</td>\n",
       "      <td>4.0</td>\n",
       "      <td>5.0</td>\n",
       "      <td>4.0</td>\n",
       "      <td>4.0</td>\n",
       "      <td>5.0</td>\n",
       "      <td>3.0</td>\n",
       "      <td>2.0</td>\n",
       "      <td>...</td>\n",
       "      <td>2.0</td>\n",
       "      <td>3.0</td>\n",
       "      <td>4.0</td>\n",
       "      <td>4.0</td>\n",
       "      <td>3.0</td>\n",
       "      <td>3.0</td>\n",
       "      <td>3</td>\n",
       "      <td>4.0</td>\n",
       "      <td>3.0</td>\n",
       "      <td>3.0</td>\n",
       "    </tr>\n",
       "  </tbody>\n",
       "</table>\n",
       "<p>5 rows × 25 columns</p>\n",
       "</div>"
      ],
      "text/plain": [
       "    A1   A2   A3   A4   A5   C1   C2   C3   C4   C5  ...   N1   N2   N3   N4  \\\n",
       "0  2.0  4.0  3.0  4.0  4.0  2.0  3.0  3.0  4.0  4.0  ...  3.0  4.0  2.0  2.0   \n",
       "1  2.0  4.0  5.0  2.0  5.0  5.0  4.0  4.0  3.0  4.0  ...  3.0  3.0  3.0  5.0   \n",
       "2  5.0  4.0  5.0  4.0  4.0  4.0  5.0  4.0  2.0  5.0  ...  4.0  5.0  4.0  2.0   \n",
       "3  4.0  4.0  6.0  5.0  5.0  4.0  4.0  3.0  5.0  5.0  ...  2.0  5.0  2.0  4.0   \n",
       "4  2.0  3.0  3.0  4.0  5.0  4.0  4.0  5.0  3.0  2.0  ...  2.0  3.0  4.0  4.0   \n",
       "\n",
       "    N5   O1  O2   O3   O4   O5  \n",
       "0  3.0  3.0   6  3.0  4.0  3.0  \n",
       "1  5.0  4.0   2  4.0  3.0  3.0  \n",
       "2  3.0  4.0   2  5.0  5.0  2.0  \n",
       "3  1.0  3.0   3  4.0  3.0  5.0  \n",
       "4  3.0  3.0   3  4.0  3.0  3.0  \n",
       "\n",
       "[5 rows x 25 columns]"
      ]
     },
     "execution_count": 4,
     "metadata": {},
     "output_type": "execute_result"
    }
   ],
   "source": [
    "df1.drop(['gender', 'education', 'age'],axis = 1,inplace=True)\n",
    "# Dropping missing values rows\n",
    "df1.dropna(inplace=True)\n",
    "df1.head()"
   ]
  },
  {
   "cell_type": "markdown",
   "id": "4f13c422",
   "metadata": {},
   "source": [
    "Почнемо з теста сферичності Барлетта, за допомогою якого ми перевіряємо, ци є змінні некорельованими. Якщо так (тобто нульова гіпотеза про те, що матриця діагональна, справедлива), то нема потреюи проводити факторний аналіз. "
   ]
  },
  {
   "cell_type": "code",
   "execution_count": 5,
   "id": "b9481ea0",
   "metadata": {},
   "outputs": [
    {
     "data": {
      "text/plain": [
       "(18170.966350869232, 0.0)"
      ]
     },
     "execution_count": 5,
     "metadata": {},
     "output_type": "execute_result"
    }
   ],
   "source": [
    "from factor_analyzer.factor_analyzer import calculate_bartlett_sphericity\n",
    "chi_square_value,p_value=calculate_bartlett_sphericity(df1)\n",
    "chi_square_value, p_value"
   ]
  },
  {
   "cell_type": "markdown",
   "id": "a216571e",
   "metadata": {},
   "source": [
    "Альтернативно, можна використати тест Kaiser–Meyer–Olkin (KMO), який дає змогу перевірити, наскільки дані підходять для того, щоб використати факторний аналіз. Відповідна статистика вимірює пропорцію дисперсії  серед змінніх, які можуть мати спільну дисперсію. Чим ближче це значення до 1, тим краще. Більше 0.8 вважається достатньо. Менше, ніж 0.5 - погано. "
   ]
  },
  {
   "cell_type": "code",
   "execution_count": 6,
   "id": "3d3b000f",
   "metadata": {},
   "outputs": [
    {
     "data": {
      "text/plain": [
       "0.848539722194922"
      ]
     },
     "execution_count": 6,
     "metadata": {},
     "output_type": "execute_result"
    }
   ],
   "source": [
    "from factor_analyzer.factor_analyzer import calculate_kmo\n",
    "kmo_all,kmo_model=calculate_kmo(df1)\n",
    "kmo_model"
   ]
  },
  {
   "cell_type": "markdown",
   "id": "41fa3d70",
   "metadata": {},
   "source": [
    "Отже, нульова гіпотеза не виконана, проводимо факторний аналіз.  Задамо модель: \n",
    "$$\n",
    "y - \\mu = \\Lambda f + \\mathcal{E}. \n",
    "$$\n",
    "Нам потрібно підібрати фактори $f$ і матрицю $\\Lambda$."
   ]
  },
  {
   "cell_type": "code",
   "execution_count": 7,
   "id": "05d852ce",
   "metadata": {},
   "outputs": [
    {
     "data": {
      "text/plain": [
       "array([5.13431118, 2.75188667, 2.14270195, 1.85232761, 1.54816285,\n",
       "       1.07358247, 0.83953893, 0.79920618, 0.71898919, 0.68808879,\n",
       "       0.67637336, 0.65179984, 0.62325295, 0.59656284, 0.56309083,\n",
       "       0.54330533, 0.51451752, 0.49450315, 0.48263952, 0.448921  ,\n",
       "       0.42336611, 0.40067145, 0.38780448, 0.38185679, 0.26253902])"
      ]
     },
     "execution_count": 7,
     "metadata": {},
     "output_type": "execute_result"
    }
   ],
   "source": [
    "fa = FactorAnalyzer()\n",
    "fa.fit(df1)\n",
    "eigen_values, vectors = fa.get_eigenvalues()\n",
    "eigen_values"
   ]
  },
  {
   "cell_type": "markdown",
   "id": "d34a791e",
   "metadata": {},
   "source": [
    "Отримали власні числа коваріаційної матриці. Щоб обрати достатню кількість власних чисел, що пояснює дисперсію, зродимо scree plot. "
   ]
  },
  {
   "cell_type": "code",
   "execution_count": 9,
   "id": "b54cefd4",
   "metadata": {},
   "outputs": [
    {
     "data": {
      "text/plain": [
       "<matplotlib.lines.Line2D at 0x19c96bbbc40>"
      ]
     },
     "execution_count": 9,
     "metadata": {},
     "output_type": "execute_result"
    },
    {
     "data": {
      "image/png": "[encoded data removed]",
      "text/plain": [
       "<Figure size 432x288 with 1 Axes>"
      ]
     },
     "metadata": {
      "needs_background": "light"
     },
     "output_type": "display_data"
    }
   ],
   "source": [
    "plt.scatter(range(1,df1.shape[1]+1),eigen_values)\n",
    "plt.plot(range(1,df1.shape[1]+1),eigen_values)\n",
    "plt.title('Scree Plot')\n",
    "plt.xlabel('Фактори')\n",
    "plt.ylabel('Власні числа')\n",
    "plt.axhline(y=1,c='k')"
   ]
  },
  {
   "cell_type": "markdown",
   "id": "359cdd81",
   "metadata": {},
   "source": [
    "Отже, 6 власних чисел має бути досить. Знайдемо тепер 6 факторів. Причому можна застосувати поворот факторів. Наприклад, за допомогою **varimax**: шукаємо таку  матрицю $R$, яка б максимізувала по   $R$ (це метод Кайзера): \n",
    "$$\n",
    "\\frac1p \\sum_{j=1}^k \\sum_{i=1}^p (\\Lambda R)_{ij}^4 - \\sum_{j=1}^k \\left(\\frac1p \\sum_{i=1}^p (\\Lambda R)_{ij}^2 \\right)^2\\Longrightarrow  \\max.\n",
    "$$\n",
    "Фактично, ми при цьому змінюємо базис, та знаходимо нову матрицю навантажень $\\Lambda$. Елементи цієї матриці називаються loadings. "
   ]
  },
  {
   "cell_type": "code",
   "execution_count": 10,
   "id": "e5a899eb",
   "metadata": {},
   "outputs": [],
   "source": [
    "fa.set_params(n_factors=6, rotation='varimax')\n",
    "fa.fit(df1)\n",
    "corr = fa.corr_\n",
    "loadings = fa.loadings_"
   ]
  },
  {
   "cell_type": "markdown",
   "id": "400ab4e2",
   "metadata": {},
   "source": [
    "Тепер з'ясуємо, які змінні входять в який фактор. Для зручності ми  трохи переформатуємо таблицю. "
   ]
  },
  {
   "cell_type": "code",
   "execution_count": 11,
   "id": "478af8d8",
   "metadata": {},
   "outputs": [],
   "source": [
    "names = df1.loc['A1': 'O5']"
   ]
  },
  {
   "cell_type": "code",
   "execution_count": 14,
   "id": "4ed354db",
   "metadata": {},
   "outputs": [
    {
     "data": {
      "text/html": [
       "<div>\n",
       "<style scoped>\n",
       "    .dataframe tbody tr th:only-of-type {\n",
       "        vertical-align: middle;\n",
       "    }\n",
       "\n",
       "    .dataframe tbody tr th {\n",
       "        vertical-align: top;\n",
       "    }\n",
       "\n",
       "    .dataframe thead th {\n",
       "        text-align: right;\n",
       "    }\n",
       "</style>\n",
       "<table border=\"1\" class=\"dataframe\">\n",
       "  <thead>\n",
       "    <tr style=\"text-align: right;\">\n",
       "      <th></th>\n",
       "      <th>F1</th>\n",
       "      <th>F2</th>\n",
       "      <th>F3</th>\n",
       "      <th>F4</th>\n",
       "      <th>F5</th>\n",
       "      <th>F6</th>\n",
       "    </tr>\n",
       "  </thead>\n",
       "  <tbody>\n",
       "    <tr>\n",
       "      <th>A1</th>\n",
       "      <td>0.095220</td>\n",
       "      <td>0.040783</td>\n",
       "      <td>0.048734</td>\n",
       "      <td>-0.530987</td>\n",
       "      <td>-0.113057</td>\n",
       "      <td>0.161216</td>\n",
       "    </tr>\n",
       "    <tr>\n",
       "      <th>A2</th>\n",
       "      <td>0.033131</td>\n",
       "      <td>0.235538</td>\n",
       "      <td>0.133714</td>\n",
       "      <td>0.661141</td>\n",
       "      <td>0.063734</td>\n",
       "      <td>-0.006244</td>\n",
       "    </tr>\n",
       "    <tr>\n",
       "      <th>A3</th>\n",
       "      <td>-0.009621</td>\n",
       "      <td>0.343008</td>\n",
       "      <td>0.121353</td>\n",
       "      <td>0.605933</td>\n",
       "      <td>0.033990</td>\n",
       "      <td>0.160106</td>\n",
       "    </tr>\n",
       "    <tr>\n",
       "      <th>A4</th>\n",
       "      <td>-0.081518</td>\n",
       "      <td>0.219717</td>\n",
       "      <td>0.235140</td>\n",
       "      <td>0.404594</td>\n",
       "      <td>-0.125338</td>\n",
       "      <td>0.086356</td>\n",
       "    </tr>\n",
       "    <tr>\n",
       "      <th>A5</th>\n",
       "      <td>-0.149616</td>\n",
       "      <td>0.414458</td>\n",
       "      <td>0.106382</td>\n",
       "      <td>0.469698</td>\n",
       "      <td>0.030977</td>\n",
       "      <td>0.236519</td>\n",
       "    </tr>\n",
       "  </tbody>\n",
       "</table>\n",
       "</div>"
      ],
      "text/plain": [
       "          F1        F2        F3        F4        F5        F6\n",
       "A1  0.095220  0.040783  0.048734 -0.530987 -0.113057  0.161216\n",
       "A2  0.033131  0.235538  0.133714  0.661141  0.063734 -0.006244\n",
       "A3 -0.009621  0.343008  0.121353  0.605933  0.033990  0.160106\n",
       "A4 -0.081518  0.219717  0.235140  0.404594 -0.125338  0.086356\n",
       "A5 -0.149616  0.414458  0.106382  0.469698  0.030977  0.236519"
      ]
     },
     "execution_count": 14,
     "metadata": {},
     "output_type": "execute_result"
    }
   ],
   "source": [
    "df2 = pd.DataFrame.from_records(loadings, columns=['F1','F2','F3','F4', 'F5', 'F6'], index =[i  for i in names])\n",
    "df2.head()"
   ]
  },
  {
   "cell_type": "markdown",
   "id": "3c3ab426",
   "metadata": {},
   "source": [
    "Тепер зобразимо графічно, який змінні входять в який фактор.  Див [тут](https://medium.com/swlh/factor-analysis-characterising-companies-based-on-financial-metrics-3d5fcc4e8b6f). "
   ]
  },
  {
   "cell_type": "code",
   "execution_count": 15,
   "id": "51ca8061",
   "metadata": {},
   "outputs": [
    {
     "data": {
      "image/png": "[encoded data removed]",
      "text/plain": [
       "<Figure size 1800x360 with 2 Axes>"
      ]
     },
     "metadata": {
      "needs_background": "light"
     },
     "output_type": "display_data"
    }
   ],
   "source": [
    "import seaborn as sns\n",
    "\n",
    "plt.figure(figsize=(25,5))\n",
    "\n",
    "# plot the heatmap for correlation matrix\n",
    "ax = sns.heatmap(df2.T, \n",
    "                 vmin=-1, vmax=1, center=0,\n",
    "                 cmap=sns.diverging_palette(220, 20, n=200),\n",
    "                 square=True, annot=True, fmt='.2f')\n",
    "\n",
    "ax.set_yticklabels(\n",
    "    ax.get_yticklabels(),\n",
    "    rotation=0);"
   ]
  },
  {
   "cell_type": "markdown",
   "id": "e3124ec1",
   "metadata": {},
   "source": [
    "Наприклад, фактор 4 (F4) формується за допомоги змінних А1--А5, причому А1 і А2--А5 мають протилежний вплив. \n",
    "\n",
    "Отримаємо ще наступну інформацію про модель. По-перше, отримаємо дисперсії навантажень (factor variances). "
   ]
  },
  {
   "cell_type": "code",
   "execution_count": 16,
   "id": "b8dcaac5",
   "metadata": {},
   "outputs": [
    {
     "data": {
      "text/plain": [
       "array([[2.73, 2.6 , 2.07, 1.71, 1.5 , 0.63],\n",
       "       [0.11, 0.1 , 0.08, 0.07, 0.06, 0.03],\n",
       "       [0.11, 0.21, 0.3 , 0.36, 0.42, 0.45]])"
      ]
     },
     "execution_count": 16,
     "metadata": {},
     "output_type": "execute_result"
    }
   ],
   "source": [
    "np.round(fa.get_factor_variance(),2)"
   ]
  },
  {
   "cell_type": "markdown",
   "id": "52d44fde",
   "metadata": {},
   "source": [
    "Насправді, значення в цьому масиві мають наступний сенс:"
   ]
  },
  {
   "cell_type": "code",
   "execution_count": 17,
   "id": "4e503d39",
   "metadata": {},
   "outputs": [
    {
     "data": {
      "text/html": [
       "<div>\n",
       "<style scoped>\n",
       "    .dataframe tbody tr th:only-of-type {\n",
       "        vertical-align: middle;\n",
       "    }\n",
       "\n",
       "    .dataframe tbody tr th {\n",
       "        vertical-align: top;\n",
       "    }\n",
       "\n",
       "    .dataframe thead th {\n",
       "        text-align: right;\n",
       "    }\n",
       "</style>\n",
       "<table border=\"1\" class=\"dataframe\">\n",
       "  <thead>\n",
       "    <tr style=\"text-align: right;\">\n",
       "      <th></th>\n",
       "      <th>F1</th>\n",
       "      <th>F2</th>\n",
       "      <th>F3</th>\n",
       "      <th>F4</th>\n",
       "      <th>F5</th>\n",
       "      <th>F6</th>\n",
       "    </tr>\n",
       "  </thead>\n",
       "  <tbody>\n",
       "    <tr>\n",
       "      <th>Cumulative Vars</th>\n",
       "      <td>2.73</td>\n",
       "      <td>2.60</td>\n",
       "      <td>2.07</td>\n",
       "      <td>1.71</td>\n",
       "      <td>1.50</td>\n",
       "      <td>0.63</td>\n",
       "    </tr>\n",
       "    <tr>\n",
       "      <th>SS loadings</th>\n",
       "      <td>0.11</td>\n",
       "      <td>0.10</td>\n",
       "      <td>0.08</td>\n",
       "      <td>0.07</td>\n",
       "      <td>0.06</td>\n",
       "      <td>0.03</td>\n",
       "    </tr>\n",
       "    <tr>\n",
       "      <th>Proportional Vars</th>\n",
       "      <td>0.11</td>\n",
       "      <td>0.21</td>\n",
       "      <td>0.30</td>\n",
       "      <td>0.36</td>\n",
       "      <td>0.42</td>\n",
       "      <td>0.45</td>\n",
       "    </tr>\n",
       "  </tbody>\n",
       "</table>\n",
       "</div>"
      ],
      "text/plain": [
       "                     F1    F2    F3    F4    F5    F6\n",
       "Cumulative Vars    2.73  2.60  2.07  1.71  1.50  0.63\n",
       "SS loadings        0.11  0.10  0.08  0.07  0.06  0.03\n",
       "Proportional Vars  0.11  0.21  0.30  0.36  0.42  0.45"
      ]
     },
     "execution_count": 17,
     "metadata": {},
     "output_type": "execute_result"
    }
   ],
   "source": [
    "variances = np.round(fa.get_factor_variance(),2) \n",
    "\n",
    "df3 = pd.DataFrame.from_records(variances, columns=['F1','F2','F3','F4', 'F5', 'F6'], \\\n",
    "                                index = {'SS loadings', 'Proportional Vars', 'Cumulative Vars'})\n",
    "df3.head()"
   ]
  },
  {
   "cell_type": "markdown",
   "id": "a82b6fe0",
   "metadata": {},
   "source": [
    "Як ми бачимо, 6 факторів пояснюють $45\\%$ дисперсії.  Отримаємо тепер частки спільної дисперсії, яка пояснена факторами (communalities)\n",
    "$$\n",
    "\\hat{h}_i^2 = \\sum_{j=1}^6 \\hat{\\lambda}_{ij}^2, \\quad  i = 1, \\dots,25. \n",
    "$$"
   ]
  },
  {
   "cell_type": "code",
   "execution_count": 18,
   "id": "97377a2d",
   "metadata": {},
   "outputs": [
    {
     "data": {
      "text/plain": [
       "array([0.33, 0.52, 0.53, 0.3 , 0.48, 0.36, 0.5 , 0.32, 0.59, 0.43, 0.4 ,\n",
       "       0.56, 0.48, 0.56, 0.4 , 0.7 , 0.67, 0.54, 0.51, 0.35, 0.35, 0.3 ,\n",
       "       0.49, 0.25, 0.36])"
      ]
     },
     "execution_count": 18,
     "metadata": {},
     "output_type": "execute_result"
    }
   ],
   "source": [
    "np.round(fa.get_communalities(),2)"
   ]
  },
  {
   "cell_type": "markdown",
   "id": "f5b2e8cd",
   "metadata": {},
   "source": [
    "І у вигляді табдлиці:"
   ]
  },
  {
   "cell_type": "code",
   "execution_count": 19,
   "id": "8d913e23",
   "metadata": {},
   "outputs": [
    {
     "data": {
      "text/html": [
       "<div>\n",
       "<style scoped>\n",
       "    .dataframe tbody tr th:only-of-type {\n",
       "        vertical-align: middle;\n",
       "    }\n",
       "\n",
       "    .dataframe tbody tr th {\n",
       "        vertical-align: top;\n",
       "    }\n",
       "\n",
       "    .dataframe thead th {\n",
       "        text-align: right;\n",
       "    }\n",
       "</style>\n",
       "<table border=\"1\" class=\"dataframe\">\n",
       "  <thead>\n",
       "    <tr style=\"text-align: right;\">\n",
       "      <th></th>\n",
       "      <th>h2</th>\n",
       "    </tr>\n",
       "  </thead>\n",
       "  <tbody>\n",
       "    <tr>\n",
       "      <th>A1</th>\n",
       "      <td>0.33</td>\n",
       "    </tr>\n",
       "    <tr>\n",
       "      <th>A2</th>\n",
       "      <td>0.52</td>\n",
       "    </tr>\n",
       "    <tr>\n",
       "      <th>A3</th>\n",
       "      <td>0.53</td>\n",
       "    </tr>\n",
       "    <tr>\n",
       "      <th>A4</th>\n",
       "      <td>0.30</td>\n",
       "    </tr>\n",
       "    <tr>\n",
       "      <th>A5</th>\n",
       "      <td>0.48</td>\n",
       "    </tr>\n",
       "  </tbody>\n",
       "</table>\n",
       "</div>"
      ],
      "text/plain": [
       "      h2\n",
       "A1  0.33\n",
       "A2  0.52\n",
       "A3  0.53\n",
       "A4  0.30\n",
       "A5  0.48"
      ]
     },
     "execution_count": 19,
     "metadata": {},
     "output_type": "execute_result"
    }
   ],
   "source": [
    "communalities = np.round(fa.get_communalities(),2).reshape(25,1)\n",
    "\n",
    "df4 = pd.DataFrame.from_records(communalities, columns = ['h2'], index = [i for i in names])\n",
    "df4.head()"
   ]
  },
  {
   "cell_type": "markdown",
   "id": "9228bd39",
   "metadata": {},
   "source": [
    "Як ми бачимо, значення суттєво менші за 1, отже,фактори погано пояснюють модель. "
   ]
  }
 ],
 "metadata": {
  "kernelspec": {
   "display_name": "Python 3 (ipykernel)",
   "language": "python",
   "name": "python3"
  },
  "language_info": {
   "codemirror_mode": {
    "name": "ipython",
    "version": 3
   },
   "file_extension": ".py",
   "mimetype": "text/x-python",
   "name": "python",
   "nbconvert_exporter": "python",
   "pygments_lexer": "ipython3",
   "version": "3.9.7"
  }
 },
 "nbformat": 4,
 "nbformat_minor": 5
}
