{
 "cells": [
  {
   "cell_type": "markdown",
   "id": "d1f2bcc3",
   "metadata": {},
   "source": [
    "## Кластерізація\n",
    "\n",
    "Детальніше можна почитати [тут](https://www.analyticsvidhya.com/blog/2021/06/single-link-hierarchical-clustering-clearly-explained/) та \n",
    "[тут](https://stackabuse.com/hierarchical-clustering-with-python-and-scikit-learn/).   Спочатку завантажимо необхідні бібліотеки. "
   ]
  },
  {
   "cell_type": "code",
   "execution_count": 1,
   "id": "7d4da5c4",
   "metadata": {},
   "outputs": [],
   "source": [
    "import pandas as pd\n",
    "import numpy as np\n",
    "import matplotlib.pyplot as plt\n",
    "#%matplotlib inline\n",
    "import scipy.cluster.hierarchy as shc\n",
    "from scipy.spatial.distance import squareform, pdist,cdist\n",
    "from scipy.cluster.hierarchy import dendrogram, linkage\n",
    "from sklearn.cluster import AgglomerativeClustering"
   ]
  },
  {
   "cell_type": "markdown",
   "id": "d533f7c3",
   "metadata": {},
   "source": [
    "Розглянемо Приклади 14.3.2(а,b) та 14.3.3  (див. Таблицю 14.1) з Rencher. В таблиці зображені дані по кримінальній ситуації в наступних місцях.  Для простоти ми просто пронумеруємо стовбчики. "
   ]
  },
  {
   "cell_type": "code",
   "execution_count": 2,
   "id": "b92e0a67",
   "metadata": {},
   "outputs": [
    {
     "name": "stdout",
     "output_type": "stream",
     "text": [
      "             0     1     2      3    4     5     6     7      8\n",
      "0      Atlanta   NaN  16.5   24.8  106   147  1112   905  494.0\n",
      "1       Boston   NaN   4.2   13.3  122    90   982   669  954.0\n",
      "2      Chicago   NaN  11.6   24.7  340   242   808   609  645.0\n",
      "3       Dallas   NaN  18.1   34.2  184   293  1668   901  602.0\n",
      "4       Denver   NaN   6.9   41.5  173   191  1534  1368  780.0\n",
      "5      Detroit   NaN  13.0   35.7  477   220  1566  1183  788.0\n",
      "6     Hartford   2.5   8.8   68.0  103  1017   724   468    NaN\n",
      "7     Honolulu   3.6  12.7   42.0   28  1457  1102   637    NaN\n",
      "8      Houston   NaN  16.8   26.6  289   186  1509   787  697.0\n",
      "9           KC   NaN  10.8   43.2  255   226  1494   955  765.0\n",
      "10          LA   NaN   9.7   51.8  286   355  1902  1386  862.0\n",
      "11          NO   NaN  10.3   39.7  266   283  1056  1036  776.0\n",
      "12          NY   NaN   9.4   19.4  522   267  1674  1392  848.0\n",
      "13    Portland   5.0  23.0  157.0  144  1530  1281   488    NaN\n",
      "14      Tucson   NaN   5.1   22.9   85   148  1206   756  482.0\n",
      "15  Washington  12.5  27.6  524.0  217  1496  1003   739    NaN\n"
     ]
    }
   ],
   "source": [
    "path = 'c:/Users/vica/Dropbox/KAU-Stat2/multivariate_analysis/T14_1_CITYCRIME.DAT'\n",
    "#df = pd.DataFrame(path)\n",
    "df = pd.read_table(path, header = None)\n",
    "# data = pd.DataFrame(df1[:,1:], columns=['Y1','Y2','Y3','X1', 'X2', 'X3'])\n",
    "print(df) "
   ]
  },
  {
   "cell_type": "markdown",
   "id": "2ad68990",
   "metadata": {},
   "source": [
    "Візьмемо перші 6 місць та виконаємо кластерізацію різними методами. "
   ]
  },
  {
   "cell_type": "code",
   "execution_count": 3,
   "id": "641d434c",
   "metadata": {},
   "outputs": [
    {
     "data": {
      "text/html": [
       "<div>\n",
       "<style scoped>\n",
       "    .dataframe tbody tr th:only-of-type {\n",
       "        vertical-align: middle;\n",
       "    }\n",
       "\n",
       "    .dataframe tbody tr th {\n",
       "        vertical-align: top;\n",
       "    }\n",
       "\n",
       "    .dataframe thead th {\n",
       "        text-align: right;\n",
       "    }\n",
       "</style>\n",
       "<table border=\"1\" class=\"dataframe\">\n",
       "  <thead>\n",
       "    <tr style=\"text-align: right;\">\n",
       "      <th></th>\n",
       "      <th>city</th>\n",
       "      <th>c1</th>\n",
       "      <th>c2</th>\n",
       "      <th>c3</th>\n",
       "      <th>c4</th>\n",
       "      <th>c5</th>\n",
       "      <th>c6</th>\n",
       "      <th>c7</th>\n",
       "    </tr>\n",
       "  </thead>\n",
       "  <tbody>\n",
       "    <tr>\n",
       "      <th>0</th>\n",
       "      <td>Atlanta</td>\n",
       "      <td>16.5</td>\n",
       "      <td>24.8</td>\n",
       "      <td>106</td>\n",
       "      <td>147</td>\n",
       "      <td>1112</td>\n",
       "      <td>905</td>\n",
       "      <td>494</td>\n",
       "    </tr>\n",
       "    <tr>\n",
       "      <th>1</th>\n",
       "      <td>Boston</td>\n",
       "      <td>4.2</td>\n",
       "      <td>13.3</td>\n",
       "      <td>122</td>\n",
       "      <td>90</td>\n",
       "      <td>982</td>\n",
       "      <td>669</td>\n",
       "      <td>954</td>\n",
       "    </tr>\n",
       "    <tr>\n",
       "      <th>2</th>\n",
       "      <td>Chicago</td>\n",
       "      <td>11.6</td>\n",
       "      <td>24.7</td>\n",
       "      <td>340</td>\n",
       "      <td>242</td>\n",
       "      <td>808</td>\n",
       "      <td>609</td>\n",
       "      <td>645</td>\n",
       "    </tr>\n",
       "    <tr>\n",
       "      <th>3</th>\n",
       "      <td>Dallas</td>\n",
       "      <td>18.1</td>\n",
       "      <td>34.2</td>\n",
       "      <td>184</td>\n",
       "      <td>293</td>\n",
       "      <td>1668</td>\n",
       "      <td>901</td>\n",
       "      <td>602</td>\n",
       "    </tr>\n",
       "    <tr>\n",
       "      <th>4</th>\n",
       "      <td>Denver</td>\n",
       "      <td>6.9</td>\n",
       "      <td>41.5</td>\n",
       "      <td>173</td>\n",
       "      <td>191</td>\n",
       "      <td>1534</td>\n",
       "      <td>1368</td>\n",
       "      <td>780</td>\n",
       "    </tr>\n",
       "    <tr>\n",
       "      <th>5</th>\n",
       "      <td>Detroit</td>\n",
       "      <td>13.0</td>\n",
       "      <td>35.7</td>\n",
       "      <td>477</td>\n",
       "      <td>220</td>\n",
       "      <td>1566</td>\n",
       "      <td>1183</td>\n",
       "      <td>788</td>\n",
       "    </tr>\n",
       "  </tbody>\n",
       "</table>\n",
       "</div>"
      ],
      "text/plain": [
       "      city    c1    c2   c3   c4    c5    c6   c7\n",
       "0  Atlanta  16.5  24.8  106  147  1112   905  494\n",
       "1   Boston   4.2  13.3  122   90   982   669  954\n",
       "2  Chicago  11.6  24.7  340  242   808   609  645\n",
       "3   Dallas  18.1  34.2  184  293  1668   901  602\n",
       "4   Denver   6.9  41.5  173  191  1534  1368  780\n",
       "5  Detroit  13.0  35.7  477  220  1566  1183  788"
      ]
     },
     "execution_count": 3,
     "metadata": {},
     "output_type": "execute_result"
    }
   ],
   "source": [
    "df1 = pd.read_table(path, nrows = 6, usecols=[0, 2,3,4,5,6,7,8],  \\\n",
    "                    names=['city', 'c1', 'c2', 'c3', 'c4', 'c5', 'c6','c7'])\n",
    "df1"
   ]
  },
  {
   "cell_type": "markdown",
   "id": "00cfc90a",
   "metadata": {},
   "source": [
    "Спочатку проіндексуємо множину за містами. "
   ]
  },
  {
   "cell_type": "code",
   "execution_count": 4,
   "id": "f55d229a",
   "metadata": {},
   "outputs": [
    {
     "data": {
      "text/html": [
       "<div>\n",
       "<style scoped>\n",
       "    .dataframe tbody tr th:only-of-type {\n",
       "        vertical-align: middle;\n",
       "    }\n",
       "\n",
       "    .dataframe tbody tr th {\n",
       "        vertical-align: top;\n",
       "    }\n",
       "\n",
       "    .dataframe thead th {\n",
       "        text-align: right;\n",
       "    }\n",
       "</style>\n",
       "<table border=\"1\" class=\"dataframe\">\n",
       "  <thead>\n",
       "    <tr style=\"text-align: right;\">\n",
       "      <th></th>\n",
       "      <th>c1</th>\n",
       "      <th>c2</th>\n",
       "      <th>c3</th>\n",
       "      <th>c4</th>\n",
       "      <th>c5</th>\n",
       "      <th>c6</th>\n",
       "      <th>c7</th>\n",
       "    </tr>\n",
       "    <tr>\n",
       "      <th>city</th>\n",
       "      <th></th>\n",
       "      <th></th>\n",
       "      <th></th>\n",
       "      <th></th>\n",
       "      <th></th>\n",
       "      <th></th>\n",
       "      <th></th>\n",
       "    </tr>\n",
       "  </thead>\n",
       "  <tbody>\n",
       "    <tr>\n",
       "      <th>Atlanta</th>\n",
       "      <td>16.5</td>\n",
       "      <td>24.8</td>\n",
       "      <td>106</td>\n",
       "      <td>147</td>\n",
       "      <td>1112</td>\n",
       "      <td>905</td>\n",
       "      <td>494</td>\n",
       "    </tr>\n",
       "    <tr>\n",
       "      <th>Boston</th>\n",
       "      <td>4.2</td>\n",
       "      <td>13.3</td>\n",
       "      <td>122</td>\n",
       "      <td>90</td>\n",
       "      <td>982</td>\n",
       "      <td>669</td>\n",
       "      <td>954</td>\n",
       "    </tr>\n",
       "    <tr>\n",
       "      <th>Chicago</th>\n",
       "      <td>11.6</td>\n",
       "      <td>24.7</td>\n",
       "      <td>340</td>\n",
       "      <td>242</td>\n",
       "      <td>808</td>\n",
       "      <td>609</td>\n",
       "      <td>645</td>\n",
       "    </tr>\n",
       "    <tr>\n",
       "      <th>Dallas</th>\n",
       "      <td>18.1</td>\n",
       "      <td>34.2</td>\n",
       "      <td>184</td>\n",
       "      <td>293</td>\n",
       "      <td>1668</td>\n",
       "      <td>901</td>\n",
       "      <td>602</td>\n",
       "    </tr>\n",
       "    <tr>\n",
       "      <th>Denver</th>\n",
       "      <td>6.9</td>\n",
       "      <td>41.5</td>\n",
       "      <td>173</td>\n",
       "      <td>191</td>\n",
       "      <td>1534</td>\n",
       "      <td>1368</td>\n",
       "      <td>780</td>\n",
       "    </tr>\n",
       "    <tr>\n",
       "      <th>Detroit</th>\n",
       "      <td>13.0</td>\n",
       "      <td>35.7</td>\n",
       "      <td>477</td>\n",
       "      <td>220</td>\n",
       "      <td>1566</td>\n",
       "      <td>1183</td>\n",
       "      <td>788</td>\n",
       "    </tr>\n",
       "  </tbody>\n",
       "</table>\n",
       "</div>"
      ],
      "text/plain": [
       "           c1    c2   c3   c4    c5    c6   c7\n",
       "city                                          \n",
       "Atlanta  16.5  24.8  106  147  1112   905  494\n",
       "Boston    4.2  13.3  122   90   982   669  954\n",
       "Chicago  11.6  24.7  340  242   808   609  645\n",
       "Dallas   18.1  34.2  184  293  1668   901  602\n",
       "Denver    6.9  41.5  173  191  1534  1368  780\n",
       "Detroit  13.0  35.7  477  220  1566  1183  788"
      ]
     },
     "execution_count": 4,
     "metadata": {},
     "output_type": "execute_result"
    }
   ],
   "source": [
    "df1 = df1.set_index('city') \n",
    "df1"
   ]
  },
  {
   "cell_type": "markdown",
   "id": "210e4ace",
   "metadata": {},
   "source": [
    "Тепер обчислими відстань між містами, використовуючи евклідову метрику в просторі розмірності 7. "
   ]
  },
  {
   "cell_type": "code",
   "execution_count": 5,
   "id": "1367946e",
   "metadata": {},
   "outputs": [
    {
     "data": {
      "text/plain": [
       "array([ 536.6419104 ,  516.37004173,  590.17532988,  693.57411284,\n",
       "        716.19624406,  447.40330799,  833.07083732,  914.97843144,\n",
       "        881.0858074 ,  924.00351731, 1073.39476895,  971.52712777,\n",
       "        527.66725311,  464.46771685,  358.66537329])"
      ]
     },
     "execution_count": 5,
     "metadata": {},
     "output_type": "execute_result"
    }
   ],
   "source": [
    "pdist(df1, 'euclidean')"
   ]
  },
  {
   "cell_type": "markdown",
   "id": "81748ca4",
   "metadata": {},
   "source": [
    "Перетворимо ці дані в квадратну матрицю. "
   ]
  },
  {
   "cell_type": "code",
   "execution_count": 6,
   "id": "19fed664",
   "metadata": {},
   "outputs": [
    {
     "data": {
      "text/html": [
       "<div>\n",
       "<style scoped>\n",
       "    .dataframe tbody tr th:only-of-type {\n",
       "        vertical-align: middle;\n",
       "    }\n",
       "\n",
       "    .dataframe tbody tr th {\n",
       "        vertical-align: top;\n",
       "    }\n",
       "\n",
       "    .dataframe thead th {\n",
       "        text-align: right;\n",
       "    }\n",
       "</style>\n",
       "<table border=\"1\" class=\"dataframe\">\n",
       "  <thead>\n",
       "    <tr style=\"text-align: right;\">\n",
       "      <th></th>\n",
       "      <th>Atlanta</th>\n",
       "      <th>Boston</th>\n",
       "      <th>Chicago</th>\n",
       "      <th>Dallas</th>\n",
       "      <th>Denver</th>\n",
       "      <th>Detroit</th>\n",
       "    </tr>\n",
       "  </thead>\n",
       "  <tbody>\n",
       "    <tr>\n",
       "      <th>Atlanta</th>\n",
       "      <td>0.0</td>\n",
       "      <td>536.6</td>\n",
       "      <td>516.4</td>\n",
       "      <td>590.2</td>\n",
       "      <td>693.6</td>\n",
       "      <td>716.2</td>\n",
       "    </tr>\n",
       "    <tr>\n",
       "      <th>Boston</th>\n",
       "      <td>536.6</td>\n",
       "      <td>0.0</td>\n",
       "      <td>447.4</td>\n",
       "      <td>833.1</td>\n",
       "      <td>915.0</td>\n",
       "      <td>881.1</td>\n",
       "    </tr>\n",
       "    <tr>\n",
       "      <th>Chicago</th>\n",
       "      <td>516.4</td>\n",
       "      <td>447.4</td>\n",
       "      <td>0.0</td>\n",
       "      <td>924.0</td>\n",
       "      <td>1073.4</td>\n",
       "      <td>971.5</td>\n",
       "    </tr>\n",
       "    <tr>\n",
       "      <th>Dallas</th>\n",
       "      <td>590.2</td>\n",
       "      <td>833.1</td>\n",
       "      <td>924.0</td>\n",
       "      <td>0.0</td>\n",
       "      <td>527.7</td>\n",
       "      <td>464.5</td>\n",
       "    </tr>\n",
       "    <tr>\n",
       "      <th>Denver</th>\n",
       "      <td>693.6</td>\n",
       "      <td>915.0</td>\n",
       "      <td>1073.4</td>\n",
       "      <td>527.7</td>\n",
       "      <td>0.0</td>\n",
       "      <td>358.7</td>\n",
       "    </tr>\n",
       "    <tr>\n",
       "      <th>Detroit</th>\n",
       "      <td>716.2</td>\n",
       "      <td>881.1</td>\n",
       "      <td>971.5</td>\n",
       "      <td>464.5</td>\n",
       "      <td>358.7</td>\n",
       "      <td>0.0</td>\n",
       "    </tr>\n",
       "  </tbody>\n",
       "</table>\n",
       "</div>"
      ],
      "text/plain": [
       "         Atlanta  Boston  Chicago  Dallas  Denver  Detroit\n",
       "Atlanta      0.0   536.6    516.4   590.2   693.6    716.2\n",
       "Boston     536.6     0.0    447.4   833.1   915.0    881.1\n",
       "Chicago    516.4   447.4      0.0   924.0  1073.4    971.5\n",
       "Dallas     590.2   833.1    924.0     0.0   527.7    464.5\n",
       "Denver     693.6   915.0   1073.4   527.7     0.0    358.7\n",
       "Detroit    716.2   881.1    971.5   464.5   358.7      0.0"
      ]
     },
     "execution_count": 6,
     "metadata": {},
     "output_type": "execute_result"
    }
   ],
   "source": [
    "dist1 = pd.DataFrame(squareform(pdist(df1, 'euclidean')), columns=df1.index.values,index=df1.index.values).round(decimals = 1)\n",
    "dist1"
   ]
  },
  {
   "cell_type": "markdown",
   "id": "872796cc",
   "metadata": {},
   "source": [
    "Зробимо тепер кластеразацію **методом найближчого сусіда**. При цьому ми обчислюємо відстань між кластерами наступним чином: \n",
    "$$ \n",
    "\tD(A,B)= \\max\\{ d(y_i,y_j): \\quad y_i\\in A, \\quad y_j\\in B\\}, \n",
    "$$\n",
    "Два кластери, у яких $D(A,B)$  мінімальне, об'єднуют в один. \n",
    "    \n",
    "Побудуємо дендрограму методом найближчого сусіда."
   ]
  },
  {
   "cell_type": "code",
   "execution_count": 7,
   "id": "8218fecb",
   "metadata": {},
   "outputs": [
    {
     "data": {
      "image/png": "[encoded data removed]",
      "text/plain": [
       "<Figure size 504x288 with 1 Axes>"
      ]
     },
     "metadata": {
      "needs_background": "light"
     },
     "output_type": "display_data"
    }
   ],
   "source": [
    "linked = linkage(df1, 'single')\n",
    "plt.figure(figsize=(7, 4))\n",
    "dendrogram(linked,\n",
    "            orientation='top',\n",
    "            labels=df1.index.values,\n",
    "            distance_sort='descending',\n",
    "            show_leaf_counts=True)\n",
    "plt.show()"
   ]
  },
  {
   "cell_type": "markdown",
   "id": "b9f59f96",
   "metadata": {},
   "source": [
    "Перерахуємо кластери в порядку групування: \n",
    "    \n",
    "1. $C_1 = \\{$ Detroit, Denver$\\}$,\n",
    "\n",
    "2. $C_2 = \\{$ Chicago, Boston$\\}$,\n",
    "\n",
    "3. $C_3 = \\{$ $C_1$, Dallas$\\}$,\n",
    "\n",
    "4. $C_4 = \\{$ $C_2$, Athlanta$\\}$, \n",
    "\n",
    "5. $C_3 = \\{$ $C_3$, $C_3 \\}$. \n",
    "\n",
    "Порівняємо результати з кластерізацієй методами найшвидшого сусіда, усереднення,   ['complete', 'average', 'centroid', 'ward'] Див. [тут](https://github.com/scipy/scipy/blob/v1.8.0/scipy/cluster/hierarchy.py#L837-L1081)\n",
    "\n",
    "\n",
    "\t\n",
    "**Метод найшвидшого сусіда (fastest neighbour method).** \n",
    "\t\n",
    "$$ \n",
    "D(A,B)= \\max\\{ d(y_i,y_j): \\quad y_i\\in A, \\quad y_j\\in B\\}, \n",
    "$$\n",
    "Два кластери, у яких $D(A,B)$  мінімальне, об'єднуют в один. \n",
    "\t\n",
    "**Метод середньої відстані (average linkage  method).**  \n",
    "\t\n",
    "$$ \n",
    "D(A,B)= \\frac{1}{n_A n_B} \\sum_{i=1}^{n_A} \\sum_{j=1}^{n_B}  d(y_i,y_j). \n",
    "$$\n",
    "Так само: два кластери, у яких  відстань  $D(A,B)$  мінімальна, об'єднуют в один. \n",
    "\t\n",
    "\t\n",
    "**Метод центроїда (centroid   method).**  \n",
    "\t\n",
    "$$ \n",
    "D(A,B)= d(\\bar{y}_A, \\bar{y}_B), \\quad \\bar{y}_A :=\n",
    "\t\\frac{1}{n_A} \\sum_{i=1}^{n_A} y_{i}.\n",
    "$$\n",
    "Об'єднуємо в один  два кластери, у яких  відстань  $D(A,B)$  мінімальна, та обираємо новий центр за формулою \n",
    "$$\n",
    "\\bar{y}_{AB} =\\frac{n_A \\bar{y}_A + n_B \\bar{y}_B}{n_A+n_B}. \n",
    "$$\n",
    "\n",
    "**Метод Варда. **\n",
    "\n",
    "Метод Варда полягає в тому, щоб з'єднувати два кластери, у яких відстань \n",
    "$$\n",
    "\tI_{AB}= SSE_{AB}- (SSE_A + SSE_B)= \\frac{n_A n_B}{n_A + n_B} (\\bar{y}_A- \\bar{y}_B)' (\\bar{y}_A- \\bar{y}_B). \n",
    "$$\n",
    "є мінімальною. \n",
    "Тут\n",
    "$$\n",
    "SSE_A := \\sum_{i=1}^{n_A} (y_i - \\bar{y}_A)'(y_i - \\bar{y}_A), \n",
    "$$\n",
    "$$\n",
    "SSE_B := \\sum_{i=1}^{n_B} (y_i - \\bar{y}_B)'(y_i - \\bar{y}_B), \n",
    "$$\n",
    "$$\n",
    "SSE_{AB} := \\sum_{i=1}^{n_{AB}} (y_i - \\bar{y}_{AB})'(y_i - \\bar{y}_{AB}). \n",
    "$$"
   ]
  },
  {
   "cell_type": "code",
   "execution_count": 8,
   "id": "924a3dc7",
   "metadata": {},
   "outputs": [
    {
     "data": {
      "image/png": "[encoded data removed]",
      "text/plain": [
       "<Figure size 504x288 with 1 Axes>"
      ]
     },
     "metadata": {
      "needs_background": "light"
     },
     "output_type": "display_data"
    }
   ],
   "source": [
    "linked = linkage(df1, 'complete')\n",
    "plt.figure(figsize=(7, 4))\n",
    "dendrogram(linked,\n",
    "            orientation='top',\n",
    "            labels=df1.index.values,\n",
    "            distance_sort='descending',\n",
    "            show_leaf_counts=True)\n",
    "plt.show()"
   ]
  },
  {
   "cell_type": "markdown",
   "id": "48aea6e9",
   "metadata": {},
   "source": [
    "При цьому  розбиття на кластери таке саме, як і при кластерізації методом найближчого сусіда. "
   ]
  },
  {
   "cell_type": "code",
   "execution_count": 9,
   "id": "740395bc",
   "metadata": {},
   "outputs": [
    {
     "data": {
      "image/png": "[encoded data removed]",
      "text/plain": [
       "<Figure size 504x288 with 1 Axes>"
      ]
     },
     "metadata": {
      "needs_background": "light"
     },
     "output_type": "display_data"
    }
   ],
   "source": [
    "linked = linkage(df1, 'ward')\n",
    "plt.figure(figsize=(7, 4))\n",
    "dendrogram(linked,\n",
    "            orientation='top',\n",
    "            labels=df1.index.values,\n",
    "            distance_sort='descending',\n",
    "            show_leaf_counts=True)\n",
    "plt.show()"
   ]
  },
  {
   "cell_type": "markdown",
   "id": "6a571a53",
   "metadata": {},
   "source": [
    "Зобразимо на одній картинці дендрограми, побудовані різними способами. "
   ]
  },
  {
   "cell_type": "code",
   "execution_count": 10,
   "id": "a6dd40e5",
   "metadata": {},
   "outputs": [
    {
     "data": {
      "image/png": "[encoded data removed]",
      "text/plain": [
       "<Figure size 576x576 with 7 Axes>"
      ]
     },
     "metadata": {
      "needs_background": "light"
     },
     "output_type": "display_data"
    }
   ],
   "source": [
    "methods = ['single', 'complete', 'average', 'weighted', 'centroid', 'median', 'ward']\n",
    "\n",
    "fig, axs = plt.subplots(len(methods),figsize=(8,8))\n",
    "\n",
    "for i in range(len(methods)):\n",
    "    dendrogram(linkage(df1, method=methods[i]), ax = axs[i])"
   ]
  },
  {
   "cell_type": "markdown",
   "id": "7d07bae1",
   "metadata": {},
   "source": [
    "Перейдемо тепер до методу середніх.  Завантажимо KMeans, і застосуємо цей метод на df1. При цьому ми оберемо 3 кластери. "
   ]
  },
  {
   "cell_type": "code",
   "execution_count": 11,
   "id": "ff230865",
   "metadata": {},
   "outputs": [],
   "source": [
    "from sklearn.cluster import KMeans"
   ]
  },
  {
   "cell_type": "code",
   "execution_count": 12,
   "id": "9471c858",
   "metadata": {},
   "outputs": [
    {
     "data": {
      "text/plain": [
       "KMeans(max_iter=10, n_clusters=3, random_state=2)"
      ]
     },
     "execution_count": 12,
     "metadata": {},
     "output_type": "execute_result"
    }
   ],
   "source": [
    "kmeans = KMeans(n_clusters=3, n_init=10, max_iter=10, random_state=2)\n",
    "kmeans.fit(df1)"
   ]
  },
  {
   "cell_type": "markdown",
   "id": "28fdaac8",
   "metadata": {},
   "source": [
    "Отже, ми віднесли Даллас, Денвер і Детройт до першого кластеру, Бостон і Чікаго до другого, і Атланту до третього. "
   ]
  },
  {
   "cell_type": "code",
   "execution_count": 13,
   "id": "41cc810e",
   "metadata": {},
   "outputs": [
    {
     "data": {
      "text/plain": [
       "array([0, 2, 2, 1, 1, 1])"
      ]
     },
     "execution_count": 13,
     "metadata": {},
     "output_type": "execute_result"
    }
   ],
   "source": [
    "y_kmeans = kmeans.predict(df1)\n",
    "y_kmeans"
   ]
  },
  {
   "cell_type": "code",
   "execution_count": 14,
   "id": "3ce3af8c",
   "metadata": {},
   "outputs": [
    {
     "name": "stdout",
     "output_type": "stream",
     "text": [
      "[0 2 2 1 1 1]\n"
     ]
    }
   ],
   "source": [
    "print(kmeans.labels_)"
   ]
  },
  {
   "cell_type": "markdown",
   "id": "e4304d9c",
   "metadata": {},
   "source": [
    "Класифікуємо тепер Хьюстон і КС (Канзас сіти):"
   ]
  },
  {
   "cell_type": "code",
   "execution_count": 15,
   "id": "5a869e93",
   "metadata": {},
   "outputs": [
    {
     "data": {
      "text/html": [
       "<div>\n",
       "<style scoped>\n",
       "    .dataframe tbody tr th:only-of-type {\n",
       "        vertical-align: middle;\n",
       "    }\n",
       "\n",
       "    .dataframe tbody tr th {\n",
       "        vertical-align: top;\n",
       "    }\n",
       "\n",
       "    .dataframe thead th {\n",
       "        text-align: right;\n",
       "    }\n",
       "</style>\n",
       "<table border=\"1\" class=\"dataframe\">\n",
       "  <thead>\n",
       "    <tr style=\"text-align: right;\">\n",
       "      <th></th>\n",
       "      <th>c1</th>\n",
       "      <th>c2</th>\n",
       "      <th>c3</th>\n",
       "      <th>c4</th>\n",
       "      <th>c5</th>\n",
       "      <th>c6</th>\n",
       "      <th>c7</th>\n",
       "    </tr>\n",
       "    <tr>\n",
       "      <th>city</th>\n",
       "      <th></th>\n",
       "      <th></th>\n",
       "      <th></th>\n",
       "      <th></th>\n",
       "      <th></th>\n",
       "      <th></th>\n",
       "      <th></th>\n",
       "    </tr>\n",
       "  </thead>\n",
       "  <tbody>\n",
       "    <tr>\n",
       "      <th>Houston</th>\n",
       "      <td>16.8</td>\n",
       "      <td>26.6</td>\n",
       "      <td>289</td>\n",
       "      <td>186</td>\n",
       "      <td>1509</td>\n",
       "      <td>787</td>\n",
       "      <td>697.0</td>\n",
       "    </tr>\n",
       "    <tr>\n",
       "      <th>KC</th>\n",
       "      <td>10.8</td>\n",
       "      <td>43.2</td>\n",
       "      <td>255</td>\n",
       "      <td>226</td>\n",
       "      <td>1494</td>\n",
       "      <td>955</td>\n",
       "      <td>765.0</td>\n",
       "    </tr>\n",
       "  </tbody>\n",
       "</table>\n",
       "</div>"
      ],
      "text/plain": [
       "           c1    c2   c3   c4    c5   c6     c7\n",
       "city                                           \n",
       "Houston  16.8  26.6  289  186  1509  787  697.0\n",
       "KC       10.8  43.2  255  226  1494  955  765.0"
      ]
     },
     "execution_count": 15,
     "metadata": {},
     "output_type": "execute_result"
    }
   ],
   "source": [
    "df4 = pd.read_table(path, nrows =10, usecols=[0, 2,3,4,5,6,7,8],  \\\n",
    "                    names=['city', 'c1', 'c2', 'c3', 'c4', 'c5', 'c6','c7'])\n",
    "df4 = df4.set_index('city') \n",
    "df5= df4.loc['Houston':'KC',:]\n",
    "df5"
   ]
  },
  {
   "cell_type": "code",
   "execution_count": 16,
   "id": "dbe7f6e2",
   "metadata": {},
   "outputs": [
    {
     "name": "stdout",
     "output_type": "stream",
     "text": [
      "[1 1]\n"
     ]
    }
   ],
   "source": [
    "predicted_class = kmeans.predict(df5)\n",
    "print(predicted_class)"
   ]
  },
  {
   "cell_type": "markdown",
   "id": "d15e9a9f",
   "metadata": {},
   "source": [
    "Отже, ми класифікували ці міста в першу групу. "
   ]
  },
  {
   "cell_type": "markdown",
   "id": "f2deca37",
   "metadata": {},
   "source": [
    "Застосування методу $k$  середніх для стискання зображень (див.  [тут](https://jakevdp.github.io/PythonDataScienceHandbook/05.11-k-means.html))"
   ]
  },
  {
   "cell_type": "markdown",
   "id": "692e9820",
   "metadata": {},
   "source": [
    "З'ясуємо, як обрати оптимальну кількість кластерів в методі $k$ середніх. Розглянемо ''метод локтя'' (elbow method). Див., наприклад, \n",
    "[тут](https://www.geeksforgeeks.org/elbow-method-for-optimal-value-of-k-in-kmeans/). "
   ]
  },
  {
   "cell_type": "code",
   "execution_count": 17,
   "id": "bb6d24da",
   "metadata": {},
   "outputs": [],
   "source": [
    "from sklearn import metrics"
   ]
  },
  {
   "cell_type": "markdown",
   "id": "8f25dab5",
   "metadata": {},
   "source": [
    "Розглянемо тепер повну таблицю. Ми відкидаємо останню колонку, оскільки деякі дані там не визначені. "
   ]
  },
  {
   "cell_type": "code",
   "execution_count": 18,
   "id": "d3a119c2",
   "metadata": {},
   "outputs": [
    {
     "data": {
      "text/html": [
       "<div>\n",
       "<style scoped>\n",
       "    .dataframe tbody tr th:only-of-type {\n",
       "        vertical-align: middle;\n",
       "    }\n",
       "\n",
       "    .dataframe tbody tr th {\n",
       "        vertical-align: top;\n",
       "    }\n",
       "\n",
       "    .dataframe thead th {\n",
       "        text-align: right;\n",
       "    }\n",
       "</style>\n",
       "<table border=\"1\" class=\"dataframe\">\n",
       "  <thead>\n",
       "    <tr style=\"text-align: right;\">\n",
       "      <th></th>\n",
       "      <th>c1</th>\n",
       "      <th>c2</th>\n",
       "      <th>c3</th>\n",
       "      <th>c4</th>\n",
       "      <th>c5</th>\n",
       "      <th>c6</th>\n",
       "    </tr>\n",
       "    <tr>\n",
       "      <th>city</th>\n",
       "      <th></th>\n",
       "      <th></th>\n",
       "      <th></th>\n",
       "      <th></th>\n",
       "      <th></th>\n",
       "      <th></th>\n",
       "    </tr>\n",
       "  </thead>\n",
       "  <tbody>\n",
       "    <tr>\n",
       "      <th>Atlanta</th>\n",
       "      <td>16.5</td>\n",
       "      <td>24.8</td>\n",
       "      <td>106</td>\n",
       "      <td>147</td>\n",
       "      <td>1112</td>\n",
       "      <td>905</td>\n",
       "    </tr>\n",
       "    <tr>\n",
       "      <th>Boston</th>\n",
       "      <td>4.2</td>\n",
       "      <td>13.3</td>\n",
       "      <td>122</td>\n",
       "      <td>90</td>\n",
       "      <td>982</td>\n",
       "      <td>669</td>\n",
       "    </tr>\n",
       "    <tr>\n",
       "      <th>Chicago</th>\n",
       "      <td>11.6</td>\n",
       "      <td>24.7</td>\n",
       "      <td>340</td>\n",
       "      <td>242</td>\n",
       "      <td>808</td>\n",
       "      <td>609</td>\n",
       "    </tr>\n",
       "    <tr>\n",
       "      <th>Dallas</th>\n",
       "      <td>18.1</td>\n",
       "      <td>34.2</td>\n",
       "      <td>184</td>\n",
       "      <td>293</td>\n",
       "      <td>1668</td>\n",
       "      <td>901</td>\n",
       "    </tr>\n",
       "    <tr>\n",
       "      <th>Denver</th>\n",
       "      <td>6.9</td>\n",
       "      <td>41.5</td>\n",
       "      <td>173</td>\n",
       "      <td>191</td>\n",
       "      <td>1534</td>\n",
       "      <td>1368</td>\n",
       "    </tr>\n",
       "    <tr>\n",
       "      <th>Detroit</th>\n",
       "      <td>13.0</td>\n",
       "      <td>35.7</td>\n",
       "      <td>477</td>\n",
       "      <td>220</td>\n",
       "      <td>1566</td>\n",
       "      <td>1183</td>\n",
       "    </tr>\n",
       "    <tr>\n",
       "      <th>Hartford</th>\n",
       "      <td>8.8</td>\n",
       "      <td>68.0</td>\n",
       "      <td>103</td>\n",
       "      <td>1017</td>\n",
       "      <td>724</td>\n",
       "      <td>468</td>\n",
       "    </tr>\n",
       "    <tr>\n",
       "      <th>Honolulu</th>\n",
       "      <td>12.7</td>\n",
       "      <td>42.0</td>\n",
       "      <td>28</td>\n",
       "      <td>1457</td>\n",
       "      <td>1102</td>\n",
       "      <td>637</td>\n",
       "    </tr>\n",
       "    <tr>\n",
       "      <th>Houston</th>\n",
       "      <td>16.8</td>\n",
       "      <td>26.6</td>\n",
       "      <td>289</td>\n",
       "      <td>186</td>\n",
       "      <td>1509</td>\n",
       "      <td>787</td>\n",
       "    </tr>\n",
       "    <tr>\n",
       "      <th>KC</th>\n",
       "      <td>10.8</td>\n",
       "      <td>43.2</td>\n",
       "      <td>255</td>\n",
       "      <td>226</td>\n",
       "      <td>1494</td>\n",
       "      <td>955</td>\n",
       "    </tr>\n",
       "    <tr>\n",
       "      <th>LA</th>\n",
       "      <td>9.7</td>\n",
       "      <td>51.8</td>\n",
       "      <td>286</td>\n",
       "      <td>355</td>\n",
       "      <td>1902</td>\n",
       "      <td>1386</td>\n",
       "    </tr>\n",
       "    <tr>\n",
       "      <th>NO</th>\n",
       "      <td>10.3</td>\n",
       "      <td>39.7</td>\n",
       "      <td>266</td>\n",
       "      <td>283</td>\n",
       "      <td>1056</td>\n",
       "      <td>1036</td>\n",
       "    </tr>\n",
       "    <tr>\n",
       "      <th>NY</th>\n",
       "      <td>9.4</td>\n",
       "      <td>19.4</td>\n",
       "      <td>522</td>\n",
       "      <td>267</td>\n",
       "      <td>1674</td>\n",
       "      <td>1392</td>\n",
       "    </tr>\n",
       "    <tr>\n",
       "      <th>Portland</th>\n",
       "      <td>23.0</td>\n",
       "      <td>157.0</td>\n",
       "      <td>144</td>\n",
       "      <td>1530</td>\n",
       "      <td>1281</td>\n",
       "      <td>488</td>\n",
       "    </tr>\n",
       "    <tr>\n",
       "      <th>Tucson</th>\n",
       "      <td>5.1</td>\n",
       "      <td>22.9</td>\n",
       "      <td>85</td>\n",
       "      <td>148</td>\n",
       "      <td>1206</td>\n",
       "      <td>756</td>\n",
       "    </tr>\n",
       "    <tr>\n",
       "      <th>Washington</th>\n",
       "      <td>27.6</td>\n",
       "      <td>524.0</td>\n",
       "      <td>217</td>\n",
       "      <td>1496</td>\n",
       "      <td>1003</td>\n",
       "      <td>739</td>\n",
       "    </tr>\n",
       "  </tbody>\n",
       "</table>\n",
       "</div>"
      ],
      "text/plain": [
       "              c1     c2   c3    c4    c5    c6\n",
       "city                                          \n",
       "Atlanta     16.5   24.8  106   147  1112   905\n",
       "Boston       4.2   13.3  122    90   982   669\n",
       "Chicago     11.6   24.7  340   242   808   609\n",
       "Dallas      18.1   34.2  184   293  1668   901\n",
       "Denver       6.9   41.5  173   191  1534  1368\n",
       "Detroit     13.0   35.7  477   220  1566  1183\n",
       "Hartford     8.8   68.0  103  1017   724   468\n",
       "Honolulu    12.7   42.0   28  1457  1102   637\n",
       "Houston     16.8   26.6  289   186  1509   787\n",
       "KC          10.8   43.2  255   226  1494   955\n",
       "LA           9.7   51.8  286   355  1902  1386\n",
       "NO          10.3   39.7  266   283  1056  1036\n",
       "NY           9.4   19.4  522   267  1674  1392\n",
       "Portland    23.0  157.0  144  1530  1281   488\n",
       "Tucson       5.1   22.9   85   148  1206   756\n",
       "Washington  27.6  524.0  217  1496  1003   739"
      ]
     },
     "execution_count": 18,
     "metadata": {},
     "output_type": "execute_result"
    }
   ],
   "source": [
    "df6 = pd.read_table(path,  usecols=[0,2,3,4,5,6,7],  \\\n",
    "                    names=['city','c1', 'c2', 'c3', 'c4', 'c5', 'c6'])\n",
    "df6 = df6.set_index('city') \n",
    "df6"
   ]
  },
  {
   "cell_type": "markdown",
   "id": "08f9e380",
   "metadata": {},
   "source": [
    "Обчислимо при кожному $k$\n",
    "\n",
    "1. Середній квадрат відстані елементів від центрів кластерів. Для цього оберемо евклідову метрику. Цей параметр називається Distortion;\n",
    "2. Суми квадратів відстаней від елементів до найближчого кластеру. Цей параметр називається Inertias. "
   ]
  },
  {
   "cell_type": "code",
   "execution_count": 19,
   "id": "61b5a1c5",
   "metadata": {},
   "outputs": [
    {
     "name": "stderr",
     "output_type": "stream",
     "text": [
      "C:\\Users\\vica\\anaconda3\\lib\\site-packages\\sklearn\\cluster\\_kmeans.py:881: UserWarning: KMeans is known to have a memory leak on Windows with MKL, when there are less chunks than available threads. You can avoid it by setting the environment variable OMP_NUM_THREADS=1.\n",
      "  warnings.warn(\n",
      "C:\\Users\\vica\\anaconda3\\lib\\site-packages\\sklearn\\cluster\\_kmeans.py:881: UserWarning: KMeans is known to have a memory leak on Windows with MKL, when there are less chunks than available threads. You can avoid it by setting the environment variable OMP_NUM_THREADS=1.\n",
      "  warnings.warn(\n"
     ]
    }
   ],
   "source": [
    "distortions = []\n",
    "inertias = []\n",
    "mapping1 = {}\n",
    "mapping2 = {}\n",
    "K = range(1, 10)\n",
    "\n",
    "for k in K:\n",
    "    kmeanModel = KMeans(n_clusters=k).fit(df6)\n",
    "    kmeanModel.fit(df6)\n",
    "\n",
    "    distortions.append(sum(np.min(cdist(df6, kmeanModel.cluster_centers_,'euclidean'), axis=1)) / df6.shape[0])\n",
    "    inertias.append(kmeanModel.inertia_)\n",
    "\n",
    "    mapping1[k] = sum(np.min(cdist(df6, kmeanModel.cluster_centers_,'euclidean'), axis=1)) / df6.shape[0]\n",
    "    mapping2[k] = kmeanModel.inertia_\n"
   ]
  },
  {
   "cell_type": "markdown",
   "id": "328182ee",
   "metadata": {},
   "source": [
    "Наведемо ці значення та побудуємо відповідні графіки. "
   ]
  },
  {
   "cell_type": "code",
   "execution_count": 20,
   "id": "867bf896",
   "metadata": {},
   "outputs": [
    {
     "name": "stdout",
     "output_type": "stream",
     "text": [
      "1 : 655.3429259128797\n",
      "2 : 397.9223475693735\n",
      "3 : 291.40641554404067\n",
      "4 : 240.68464688688738\n",
      "5 : 200.93250091850197\n",
      "6 : 169.67512954683698\n",
      "7 : 146.64469461448178\n",
      "8 : 125.98331948016117\n",
      "9 : 105.50026029342224\n"
     ]
    }
   ],
   "source": [
    "for key, val in mapping1.items():\n",
    "    print(f'{key} : {val}')\n"
   ]
  },
  {
   "cell_type": "code",
   "execution_count": 21,
   "id": "dac11f08",
   "metadata": {},
   "outputs": [
    {
     "data": {
      "image/png": "[encoded data removed]",
      "text/plain": [
       "<Figure size 432x288 with 1 Axes>"
      ]
     },
     "metadata": {
      "needs_background": "light"
     },
     "output_type": "display_data"
    }
   ],
   "source": [
    "plt.plot(K, distortions, 'bx-')\n",
    "plt.xlabel('Значення k')\n",
    "plt.ylabel('Distortion')\n",
    "plt.title('Метод \"ліктя\" використовуючи Distortion')\n",
    "plt.show()\n"
   ]
  },
  {
   "cell_type": "code",
   "execution_count": 22,
   "id": "313fee49",
   "metadata": {},
   "outputs": [
    {
     "name": "stdout",
     "output_type": "stream",
     "text": [
      "1 : 7919202.096875001\n",
      "2 : 2908523.5708333333\n",
      "3 : 1493221.5689285714\n",
      "4 : 1096209.3275\n",
      "5 : 761780.7766666666\n",
      "6 : 585682.7349999999\n",
      "7 : 432854.94833333336\n",
      "8 : 335632.32500000007\n",
      "9 : 253333.76333333334\n"
     ]
    }
   ],
   "source": [
    "for key, val in mapping2.items():\n",
    "    print(f'{key} : {val}')"
   ]
  },
  {
   "cell_type": "code",
   "execution_count": 23,
   "id": "17443bc5",
   "metadata": {},
   "outputs": [
    {
     "data": {
      "image/png": "[encoded data removed]",
      "text/plain": [
       "<Figure size 432x288 with 1 Axes>"
      ]
     },
     "metadata": {
      "needs_background": "light"
     },
     "output_type": "display_data"
    }
   ],
   "source": [
    "plt.plot(K, inertias, 'bx-')\n",
    "plt.xlabel('Значення к')\n",
    "plt.ylabel('Inertia')\n",
    "plt.title('Метод \"ліктя\" використовуючи  Inertia')\n",
    "plt.show()"
   ]
  },
  {
   "cell_type": "markdown",
   "id": "e1379b97",
   "metadata": {},
   "source": [
    "Як ми бачимо, при $k=3$ відбувається злам кривої. Тому оберемо 3 кластери. Наведемо ті міста, які входять к кластери на $k$-му кроці. "
   ]
  },
  {
   "cell_type": "code",
   "execution_count": 24,
   "id": "46602cd6",
   "metadata": {},
   "outputs": [
    {
     "name": "stderr",
     "output_type": "stream",
     "text": [
      "C:\\Users\\vica\\anaconda3\\lib\\site-packages\\sklearn\\cluster\\_kmeans.py:881: UserWarning: KMeans is known to have a memory leak on Windows with MKL, when there are less chunks than available threads. You can avoid it by setting the environment variable OMP_NUM_THREADS=1.\n",
      "  warnings.warn(\n",
      "C:\\Users\\vica\\anaconda3\\lib\\site-packages\\sklearn\\cluster\\_kmeans.py:881: UserWarning: KMeans is known to have a memory leak on Windows with MKL, when there are less chunks than available threads. You can avoid it by setting the environment variable OMP_NUM_THREADS=1.\n",
      "  warnings.warn(\n"
     ]
    },
    {
     "name": "stdout",
     "output_type": "stream",
     "text": [
      "[0 0 0 0 0 0 0 0 0 0 0 0 0 0 0 0]\n",
      "[0 0 0 0 0 0 1 1 0 0 0 0 0 1 0 1]\n",
      "[2 2 2 0 0 0 1 1 0 0 0 2 0 1 2 1]\n",
      "[3 3 3 0 2 2 1 1 0 0 2 3 2 1 3 1]\n",
      "[2 2 2 3 1 1 0 4 3 3 1 2 1 4 2 4]\n",
      "[2 2 2 1 3 3 5 4 1 1 3 2 3 4 2 0]\n",
      "[3 0 0 4 2 2 5 1 4 4 2 3 2 1 3 6]\n",
      "[7 2 2 3 0 0 4 1 3 3 6 7 0 1 7 5]\n",
      "[1 6 6 3 8 4 2 0 3 3 7 1 4 0 1 5]\n"
     ]
    }
   ],
   "source": [
    "for k in K:\n",
    "    kmeanModel = KMeans(n_clusters=k).fit(df6)\n",
    "    print(kmeanModel.fit(df6).labels_)"
   ]
  },
  {
   "cell_type": "code",
   "execution_count": 25,
   "id": "80652be5",
   "metadata": {},
   "outputs": [
    {
     "data": {
      "text/plain": [
       "array([0, 0, 0, 0, 0, 0, 0, 0, 0, 0, 0, 0, 0, 0, 0, 0])"
      ]
     },
     "execution_count": 25,
     "metadata": {},
     "output_type": "execute_result"
    }
   ],
   "source": [
    "cluster = np.array([[0]*16 for k in range(10)])\n",
    "cluster.shape\n",
    "cluster[9,:]"
   ]
  },
  {
   "cell_type": "code",
   "execution_count": 26,
   "id": "c844e69b",
   "metadata": {},
   "outputs": [
    {
     "name": "stderr",
     "output_type": "stream",
     "text": [
      "C:\\Users\\vica\\anaconda3\\lib\\site-packages\\sklearn\\cluster\\_kmeans.py:881: UserWarning: KMeans is known to have a memory leak on Windows with MKL, when there are less chunks than available threads. You can avoid it by setting the environment variable OMP_NUM_THREADS=1.\n",
      "  warnings.warn(\n"
     ]
    },
    {
     "name": "stdout",
     "output_type": "stream",
     "text": [
      "[[0 0 0 0 0 0 0 0 0 0 0 0 0 0 0 0]\n",
      " [0 0 0 0 0 0 0 0 0 0 0 0 0 0 0 0]\n",
      " [0 0 0 0 0 0 1 1 0 0 0 0 0 1 0 1]\n",
      " [2 2 2 0 0 0 1 1 0 0 0 2 0 1 2 1]\n",
      " [0 0 0 3 2 2 1 1 3 3 2 0 2 1 0 1]\n",
      " [2 2 2 3 0 0 4 1 3 3 0 2 0 1 2 1]\n",
      " [0 0 5 2 4 4 3 1 2 2 4 0 4 1 0 1]\n",
      " [3 6 6 0 2 2 4 5 0 0 2 3 2 5 3 1]\n",
      " [2 2 6 3 0 0 4 1 3 3 7 2 0 1 2 5]\n",
      " [5 0 0 3 8 1 6 2 3 3 7 5 1 2 5 4]]\n"
     ]
    }
   ],
   "source": [
    "for k in K:\n",
    "    cluster[k,:] = KMeans(n_clusters=k).fit(df6).labels_ \n",
    "print(cluster)"
   ]
  },
  {
   "cell_type": "code",
   "execution_count": 27,
   "id": "6a9b90ae",
   "metadata": {},
   "outputs": [
    {
     "data": {
      "text/html": [
       "<div>\n",
       "<style scoped>\n",
       "    .dataframe tbody tr th:only-of-type {\n",
       "        vertical-align: middle;\n",
       "    }\n",
       "\n",
       "    .dataframe tbody tr th {\n",
       "        vertical-align: top;\n",
       "    }\n",
       "\n",
       "    .dataframe thead th {\n",
       "        text-align: right;\n",
       "    }\n",
       "</style>\n",
       "<table border=\"1\" class=\"dataframe\">\n",
       "  <thead>\n",
       "    <tr style=\"text-align: right;\">\n",
       "      <th></th>\n",
       "      <th>city</th>\n",
       "      <th>0</th>\n",
       "      <th>1</th>\n",
       "      <th>2</th>\n",
       "      <th>3</th>\n",
       "      <th>4</th>\n",
       "      <th>5</th>\n",
       "      <th>6</th>\n",
       "      <th>7</th>\n",
       "      <th>8</th>\n",
       "      <th>9</th>\n",
       "    </tr>\n",
       "  </thead>\n",
       "  <tbody>\n",
       "    <tr>\n",
       "      <th>0</th>\n",
       "      <td>Atlanta</td>\n",
       "      <td>0</td>\n",
       "      <td>0</td>\n",
       "      <td>0</td>\n",
       "      <td>2</td>\n",
       "      <td>0</td>\n",
       "      <td>2</td>\n",
       "      <td>0</td>\n",
       "      <td>3</td>\n",
       "      <td>2</td>\n",
       "      <td>5</td>\n",
       "    </tr>\n",
       "    <tr>\n",
       "      <th>1</th>\n",
       "      <td>Boston</td>\n",
       "      <td>0</td>\n",
       "      <td>0</td>\n",
       "      <td>0</td>\n",
       "      <td>2</td>\n",
       "      <td>0</td>\n",
       "      <td>2</td>\n",
       "      <td>0</td>\n",
       "      <td>6</td>\n",
       "      <td>2</td>\n",
       "      <td>0</td>\n",
       "    </tr>\n",
       "    <tr>\n",
       "      <th>2</th>\n",
       "      <td>Chicago</td>\n",
       "      <td>0</td>\n",
       "      <td>0</td>\n",
       "      <td>0</td>\n",
       "      <td>2</td>\n",
       "      <td>0</td>\n",
       "      <td>2</td>\n",
       "      <td>5</td>\n",
       "      <td>6</td>\n",
       "      <td>6</td>\n",
       "      <td>0</td>\n",
       "    </tr>\n",
       "    <tr>\n",
       "      <th>3</th>\n",
       "      <td>Dallas</td>\n",
       "      <td>0</td>\n",
       "      <td>0</td>\n",
       "      <td>0</td>\n",
       "      <td>0</td>\n",
       "      <td>3</td>\n",
       "      <td>3</td>\n",
       "      <td>2</td>\n",
       "      <td>0</td>\n",
       "      <td>3</td>\n",
       "      <td>3</td>\n",
       "    </tr>\n",
       "    <tr>\n",
       "      <th>4</th>\n",
       "      <td>Denver</td>\n",
       "      <td>0</td>\n",
       "      <td>0</td>\n",
       "      <td>0</td>\n",
       "      <td>0</td>\n",
       "      <td>2</td>\n",
       "      <td>0</td>\n",
       "      <td>4</td>\n",
       "      <td>2</td>\n",
       "      <td>0</td>\n",
       "      <td>8</td>\n",
       "    </tr>\n",
       "    <tr>\n",
       "      <th>5</th>\n",
       "      <td>Detroit</td>\n",
       "      <td>0</td>\n",
       "      <td>0</td>\n",
       "      <td>0</td>\n",
       "      <td>0</td>\n",
       "      <td>2</td>\n",
       "      <td>0</td>\n",
       "      <td>4</td>\n",
       "      <td>2</td>\n",
       "      <td>0</td>\n",
       "      <td>1</td>\n",
       "    </tr>\n",
       "    <tr>\n",
       "      <th>6</th>\n",
       "      <td>Hartford</td>\n",
       "      <td>0</td>\n",
       "      <td>0</td>\n",
       "      <td>1</td>\n",
       "      <td>1</td>\n",
       "      <td>1</td>\n",
       "      <td>4</td>\n",
       "      <td>3</td>\n",
       "      <td>4</td>\n",
       "      <td>4</td>\n",
       "      <td>6</td>\n",
       "    </tr>\n",
       "    <tr>\n",
       "      <th>7</th>\n",
       "      <td>Honolulu</td>\n",
       "      <td>0</td>\n",
       "      <td>0</td>\n",
       "      <td>1</td>\n",
       "      <td>1</td>\n",
       "      <td>1</td>\n",
       "      <td>1</td>\n",
       "      <td>1</td>\n",
       "      <td>5</td>\n",
       "      <td>1</td>\n",
       "      <td>2</td>\n",
       "    </tr>\n",
       "    <tr>\n",
       "      <th>8</th>\n",
       "      <td>Houston</td>\n",
       "      <td>0</td>\n",
       "      <td>0</td>\n",
       "      <td>0</td>\n",
       "      <td>0</td>\n",
       "      <td>3</td>\n",
       "      <td>3</td>\n",
       "      <td>2</td>\n",
       "      <td>0</td>\n",
       "      <td>3</td>\n",
       "      <td>3</td>\n",
       "    </tr>\n",
       "    <tr>\n",
       "      <th>9</th>\n",
       "      <td>KC</td>\n",
       "      <td>0</td>\n",
       "      <td>0</td>\n",
       "      <td>0</td>\n",
       "      <td>0</td>\n",
       "      <td>3</td>\n",
       "      <td>3</td>\n",
       "      <td>2</td>\n",
       "      <td>0</td>\n",
       "      <td>3</td>\n",
       "      <td>3</td>\n",
       "    </tr>\n",
       "    <tr>\n",
       "      <th>10</th>\n",
       "      <td>LA</td>\n",
       "      <td>0</td>\n",
       "      <td>0</td>\n",
       "      <td>0</td>\n",
       "      <td>0</td>\n",
       "      <td>2</td>\n",
       "      <td>0</td>\n",
       "      <td>4</td>\n",
       "      <td>2</td>\n",
       "      <td>7</td>\n",
       "      <td>7</td>\n",
       "    </tr>\n",
       "    <tr>\n",
       "      <th>11</th>\n",
       "      <td>NO</td>\n",
       "      <td>0</td>\n",
       "      <td>0</td>\n",
       "      <td>0</td>\n",
       "      <td>2</td>\n",
       "      <td>0</td>\n",
       "      <td>2</td>\n",
       "      <td>0</td>\n",
       "      <td>3</td>\n",
       "      <td>2</td>\n",
       "      <td>5</td>\n",
       "    </tr>\n",
       "    <tr>\n",
       "      <th>12</th>\n",
       "      <td>NY</td>\n",
       "      <td>0</td>\n",
       "      <td>0</td>\n",
       "      <td>0</td>\n",
       "      <td>0</td>\n",
       "      <td>2</td>\n",
       "      <td>0</td>\n",
       "      <td>4</td>\n",
       "      <td>2</td>\n",
       "      <td>0</td>\n",
       "      <td>1</td>\n",
       "    </tr>\n",
       "    <tr>\n",
       "      <th>13</th>\n",
       "      <td>Portland</td>\n",
       "      <td>0</td>\n",
       "      <td>0</td>\n",
       "      <td>1</td>\n",
       "      <td>1</td>\n",
       "      <td>1</td>\n",
       "      <td>1</td>\n",
       "      <td>1</td>\n",
       "      <td>5</td>\n",
       "      <td>1</td>\n",
       "      <td>2</td>\n",
       "    </tr>\n",
       "    <tr>\n",
       "      <th>14</th>\n",
       "      <td>Tucson</td>\n",
       "      <td>0</td>\n",
       "      <td>0</td>\n",
       "      <td>0</td>\n",
       "      <td>2</td>\n",
       "      <td>0</td>\n",
       "      <td>2</td>\n",
       "      <td>0</td>\n",
       "      <td>3</td>\n",
       "      <td>2</td>\n",
       "      <td>5</td>\n",
       "    </tr>\n",
       "    <tr>\n",
       "      <th>15</th>\n",
       "      <td>Washington</td>\n",
       "      <td>0</td>\n",
       "      <td>0</td>\n",
       "      <td>1</td>\n",
       "      <td>1</td>\n",
       "      <td>1</td>\n",
       "      <td>1</td>\n",
       "      <td>1</td>\n",
       "      <td>1</td>\n",
       "      <td>5</td>\n",
       "      <td>4</td>\n",
       "    </tr>\n",
       "  </tbody>\n",
       "</table>\n",
       "</div>"
      ],
      "text/plain": [
       "          city  0  1  2  3  4  5  6  7  8  9\n",
       "0      Atlanta  0  0  0  2  0  2  0  3  2  5\n",
       "1       Boston  0  0  0  2  0  2  0  6  2  0\n",
       "2      Chicago  0  0  0  2  0  2  5  6  6  0\n",
       "3       Dallas  0  0  0  0  3  3  2  0  3  3\n",
       "4       Denver  0  0  0  0  2  0  4  2  0  8\n",
       "5      Detroit  0  0  0  0  2  0  4  2  0  1\n",
       "6     Hartford  0  0  1  1  1  4  3  4  4  6\n",
       "7     Honolulu  0  0  1  1  1  1  1  5  1  2\n",
       "8      Houston  0  0  0  0  3  3  2  0  3  3\n",
       "9           KC  0  0  0  0  3  3  2  0  3  3\n",
       "10          LA  0  0  0  0  2  0  4  2  7  7\n",
       "11          NO  0  0  0  2  0  2  0  3  2  5\n",
       "12          NY  0  0  0  0  2  0  4  2  0  1\n",
       "13    Portland  0  0  1  1  1  1  1  5  1  2\n",
       "14      Tucson  0  0  0  2  0  2  0  3  2  5\n",
       "15  Washington  0  0  1  1  1  1  1  1  5  4"
      ]
     },
     "execution_count": 27,
     "metadata": {},
     "output_type": "execute_result"
    }
   ],
   "source": [
    "df_new = pd.concat([pd.DataFrame(df6.index), pd.DataFrame(cluster.T, dtype = int)], axis=1)\n",
    "df_new"
   ]
  }
 ],
 "metadata": {
  "kernelspec": {
   "display_name": "Python 3 (ipykernel)",
   "language": "python",
   "name": "python3"
  },
  "language_info": {
   "codemirror_mode": {
    "name": "ipython",
    "version": 3
   },
   "file_extension": ".py",
   "mimetype": "text/x-python",
   "name": "python",
   "nbconvert_exporter": "python",
   "pygments_lexer": "ipython3",
   "version": "3.9.7"
  }
 },
 "nbformat": 4,
 "nbformat_minor": 5
}
