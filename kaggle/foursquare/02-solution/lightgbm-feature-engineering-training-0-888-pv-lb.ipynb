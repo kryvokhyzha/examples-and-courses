{
 "cells": [
  {
   "cell_type": "code",
   "execution_count": 1,
   "id": "692d5898",
   "metadata": {
    "_cell_guid": "b1076dfc-b9ad-4769-8c92-a6c4dae69d19",
    "_uuid": "8f2839f25d086af736a60e9eeb907d3b93b6e0e5",
    "execution": {
     "iopub.execute_input": "2022-07-21T00:07:44.790492Z",
     "iopub.status.busy": "2022-07-21T00:07:44.789369Z",
     "iopub.status.idle": "2022-07-21T00:07:49.210849Z",
     "shell.execute_reply": "2022-07-21T00:07:49.209429Z"
    },
    "papermill": {
     "duration": 4.440423,
     "end_time": "2022-07-21T00:07:49.213919",
     "exception": false,
     "start_time": "2022-07-21T00:07:44.773496",
     "status": "completed"
    },
    "tags": []
   },
   "outputs": [
    {
     "name": "stderr",
     "output_type": "stream",
     "text": [
      "Intel(R) Extension for Scikit-learn* enabled (https://github.com/intel/scikit-learn-intelex)\n"
     ]
    },
    {
     "data": {
      "text/html": [
       "<style type='text/css'>\n",
       ".datatable table.frame { margin-bottom: 0; }\n",
       ".datatable table.frame thead { border-bottom: none; }\n",
       ".datatable table.frame tr.coltypes td {  color: #FFFFFF;  line-height: 6px;  padding: 0 0.5em;}\n",
       ".datatable .bool    { background: #DDDD99; }\n",
       ".datatable .object  { background: #565656; }\n",
       ".datatable .int     { background: #5D9E5D; }\n",
       ".datatable .float   { background: #4040CC; }\n",
       ".datatable .str     { background: #CC4040; }\n",
       ".datatable .time    { background: #40CC40; }\n",
       ".datatable .row_index {  background: var(--jp-border-color3);  border-right: 1px solid var(--jp-border-color0);  color: var(--jp-ui-font-color3);  font-size: 9px;}\n",
       ".datatable .frame tbody td { text-align: left; }\n",
       ".datatable .frame tr.coltypes .row_index {  background: var(--jp-border-color0);}\n",
       ".datatable th:nth-child(2) { padding-left: 12px; }\n",
       ".datatable .hellipsis {  color: var(--jp-cell-editor-border-color);}\n",
       ".datatable .vellipsis {  background: var(--jp-layout-color0);  color: var(--jp-cell-editor-border-color);}\n",
       ".datatable .na {  color: var(--jp-cell-editor-border-color);  font-size: 80%;}\n",
       ".datatable .sp {  opacity: 0.25;}\n",
       ".datatable .footer { font-size: 9px; }\n",
       ".datatable .frame_dimensions {  background: var(--jp-border-color3);  border-top: 1px solid var(--jp-border-color0);  color: var(--jp-ui-font-color3);  display: inline-block;  opacity: 0.6;  padding: 1px 10px 1px 5px;}\n",
       "</style>\n"
      ],
      "text/plain": [
       "<IPython.core.display.HTML object>"
      ]
     },
     "metadata": {},
     "output_type": "display_data"
    },
    {
     "name": "stdout",
     "output_type": "stream",
     "text": [
      "/kaggle/input/foursquare-location-matching/sample_submission.csv\n",
      "/kaggle/input/foursquare-location-matching/pairs.csv\n",
      "/kaggle/input/foursquare-location-matching/train.csv\n",
      "/kaggle/input/foursquare-location-matching/test.csv\n"
     ]
    }
   ],
   "source": [
    "from sklearnex import patch_sklearn\n",
    "\n",
    "patch_sklearn()\n",
    "\n",
    "# This Python 3 environment comes with many helpful analytics libraries installed\n",
    "# It is defined by the kaggle/python Docker image: https://github.com/kaggle/docker-python\n",
    "# For example, here's several helpful packages to load\n",
    "\n",
    "import numpy as np # linear algebra\n",
    "import pandas as pd # data processing, CSV file I/O (e.g. pd.read_csv)\n",
    "from sklearn.neighbors import KNeighborsRegressor\n",
    "from sklearn.feature_extraction.text import TfidfVectorizer,CountVectorizer\n",
    "from sklearn.decomposition import TruncatedSVD,LatentDirichletAllocation\n",
    "from sklearn.neighbors import NearestNeighbors\n",
    "import Levenshtein\n",
    "import matplotlib.pyplot as plt\n",
    "import seaborn as sns\n",
    "import gc\n",
    "from sklearn import preprocessing\n",
    "import lightgbm as lgb\n",
    "from sklearn.model_selection import StratifiedKFold\n",
    "from sklearn.model_selection import KFold\n",
    "from sklearn.model_selection import GroupKFold\n",
    "from sklearn.metrics import mean_squared_error\n",
    "from sklearn.metrics import mean_absolute_error\n",
    "from sklearn.metrics import precision_score\n",
    "from sklearn.metrics import recall_score\n",
    "from sklearn.metrics import f1_score\n",
    "from sklearn.metrics import roc_auc_score\n",
    "from IPython.display import display\n",
    "import collections\n",
    "from tqdm import tqdm\n",
    "import string\n",
    "import Levenshtein\n",
    "import difflib\n",
    "import unidecode\n",
    "import pickle\n",
    "\n",
    "tqdm.pandas()\n",
    "\n",
    "\n",
    "\n",
    "# Input data files are available in the read-only \"../input/\" directory\n",
    "# For example, running this (by clicking run or pressing Shift+Enter) will list all files under the input directory\n",
    "\n",
    "import os\n",
    "for dirname, _, filenames in os.walk('/kaggle/input'):\n",
    "    for filename in filenames:\n",
    "        print(os.path.join(dirname, filename))\n",
    "\n",
    "# You can write up to 20GB to the current directory (/kaggle/working/) that gets preserved as output when you create a version using \"Save & Run All\" \n",
    "# You can also write temporary files to /kaggle/temp/, but they won't be saved outside of the current session\n",
    "%load_ext Cython\n"
   ]
  },
  {
   "cell_type": "markdown",
   "id": "a84d12eb",
   "metadata": {
    "papermill": {
     "duration": 0.011576,
     "end_time": "2022-07-21T00:07:49.237715",
     "exception": false,
     "start_time": "2022-07-21T00:07:49.226139",
     "status": "completed"
    },
    "tags": []
   },
   "source": [
    "**References:**\n",
    "\n",
    "https://www.kaggle.com/code/ryotayoshinobu/foursquare-lightgbm-baseline\n",
    "\n",
    "https://www.kaggle.com/code/guoyonfan/binary-lgb-baseline-0-834\n"
   ]
  },
  {
   "cell_type": "code",
   "execution_count": 2,
   "id": "3081f161",
   "metadata": {
    "execution": {
     "iopub.execute_input": "2022-07-21T00:07:49.263315Z",
     "iopub.status.busy": "2022-07-21T00:07:49.262909Z",
     "iopub.status.idle": "2022-07-21T00:07:59.422186Z",
     "shell.execute_reply": "2022-07-21T00:07:59.420883Z"
    },
    "papermill": {
     "duration": 10.175926,
     "end_time": "2022-07-21T00:07:59.425512",
     "exception": false,
     "start_time": "2022-07-21T00:07:49.249586",
     "status": "completed"
    },
    "tags": []
   },
   "outputs": [],
   "source": [
    "df_train=pd.read_csv('../input/foursquare-location-matching/train.csv')\n",
    "\n"
   ]
  },
  {
   "cell_type": "code",
   "execution_count": 3,
   "id": "4a8d1c4a",
   "metadata": {
    "execution": {
     "iopub.execute_input": "2022-07-21T00:07:59.452417Z",
     "iopub.status.busy": "2022-07-21T00:07:59.451940Z",
     "iopub.status.idle": "2022-07-21T00:07:59.460446Z",
     "shell.execute_reply": "2022-07-21T00:07:59.459001Z"
    },
    "papermill": {
     "duration": 0.024954,
     "end_time": "2022-07-21T00:07:59.463014",
     "exception": false,
     "start_time": "2022-07-21T00:07:59.438060",
     "status": "completed"
    },
    "tags": []
   },
   "outputs": [
    {
     "data": {
      "text/plain": [
       "Index(['id', 'name', 'latitude', 'longitude', 'address', 'city', 'state',\n",
       "       'zip', 'country', 'url', 'phone', 'categories', 'point_of_interest'],\n",
       "      dtype='object')"
      ]
     },
     "execution_count": 3,
     "metadata": {},
     "output_type": "execute_result"
    }
   ],
   "source": [
    "df_train.columns"
   ]
  },
  {
   "cell_type": "code",
   "execution_count": 4,
   "id": "b01e3ba6",
   "metadata": {
    "execution": {
     "iopub.execute_input": "2022-07-21T00:07:59.489609Z",
     "iopub.status.busy": "2022-07-21T00:07:59.489221Z",
     "iopub.status.idle": "2022-07-21T00:07:59.506338Z",
     "shell.execute_reply": "2022-07-21T00:07:59.505197Z"
    },
    "papermill": {
     "duration": 0.033427,
     "end_time": "2022-07-21T00:07:59.508581",
     "exception": false,
     "start_time": "2022-07-21T00:07:59.475154",
     "status": "completed"
    },
    "tags": []
   },
   "outputs": [],
   "source": [
    "def reduce_mem_usage(df):\n",
    "    \"\"\" iterate through all the columns of a dataframe and modify the data type\n",
    "        to reduce memory usage.        \n",
    "    \"\"\"\n",
    "    start_mem = df.memory_usage().sum() / 1024**2\n",
    "    print('Memory usage of dataframe is {:.2f} MB'.format(start_mem))\n",
    "    \n",
    "    for col in df.columns:\n",
    "        col_type = df[col].dtype\n",
    "        \n",
    "        if col_type != object:\n",
    "            c_min = df[col].min()\n",
    "            c_max = df[col].max()\n",
    "            if str(col_type)[:3] == 'int':\n",
    "                if c_min > np.iinfo(np.int8).min and c_max < np.iinfo(np.int8).max:\n",
    "                    df[col] = df[col].astype(np.int8)\n",
    "                elif c_min > np.iinfo(np.int16).min and c_max < np.iinfo(np.int16).max:\n",
    "                    df[col] = df[col].astype(np.int16)\n",
    "                elif c_min > np.iinfo(np.int32).min and c_max < np.iinfo(np.int32).max:\n",
    "                    df[col] = df[col].astype(np.int32)\n",
    "                elif c_min > np.iinfo(np.int64).min and c_max < np.iinfo(np.int64).max:\n",
    "                    df[col] = df[col].astype(np.int64)  \n",
    "            else:\n",
    "                if c_min > np.finfo(np.float16).min and c_max < np.finfo(np.float16).max:\n",
    "                    df[col] = df[col].astype(np.float16)\n",
    "                elif c_min > np.finfo(np.float32).min and c_max < np.finfo(np.float32).max:\n",
    "                    df[col] = df[col].astype(np.float32)\n",
    "                else:\n",
    "                    df[col] = df[col].astype(np.float64)\n",
    "        #else:\n",
    "        #    df[col] = df[col].astype('category')\n",
    "\n",
    "    end_mem = df.memory_usage().sum() / 1024**2\n",
    "    print('Memory usage after optimization is: {:.2f} MB'.format(end_mem))\n",
    "    print('Decreased by {:.1f}%'.format(100 * (start_mem - end_mem) / start_mem))\n",
    "    \n",
    "    return df"
   ]
  },
  {
   "cell_type": "code",
   "execution_count": 5,
   "id": "c479f4ce",
   "metadata": {
    "execution": {
     "iopub.execute_input": "2022-07-21T00:07:59.535429Z",
     "iopub.status.busy": "2022-07-21T00:07:59.534913Z",
     "iopub.status.idle": "2022-07-21T00:09:13.865751Z",
     "shell.execute_reply": "2022-07-21T00:09:13.863853Z"
    },
    "papermill": {
     "duration": 74.350332,
     "end_time": "2022-07-21T00:09:13.871182",
     "exception": false,
     "start_time": "2022-07-21T00:07:59.520850",
     "status": "completed"
    },
    "tags": []
   },
   "outputs": [],
   "source": [
    "count_vectorizer = CountVectorizer(max_features=10,strip_accents=\"unicode\")\n",
    "count_vectorizer = count_vectorizer.fit(df_train[\"categories\"].dropna())\n",
    "\n",
    "\n",
    "def get_tsvd_transformers(data,variable,n_components):\n",
    "    \n",
    "    variable_vectorizer = TfidfVectorizer(strip_accents=\"unicode\")\n",
    "    variable_vectorizer = variable_vectorizer.fit(data[variable].fillna(\"\"))\n",
    "    variable_vectors=variable_vectorizer.transform(data[variable].fillna(\"\"))\n",
    "\n",
    "    tsvd_transformer=TruncatedSVD(n_components=n_components)\n",
    "    tsvd_transformer=tsvd_transformer.fit(variable_vectors)\n",
    "    #tsvd_vectors=tsvd_tranformer.transform(variable_vectors)\n",
    "    \n",
    "    return variable_vectorizer,tsvd_transformer\n",
    "\n",
    "def get_lda_transformers(data,variable,n_components):\n",
    "    \n",
    "    variable_vectorizer = TfidfVectorizer(strip_accents=\"unicode\")\n",
    "    variable_vectorizer = variable_vectorizer.fit(data[variable].fillna(\"\"))\n",
    "    variable_vectors=variable_vectorizer.transform(data[variable].fillna(\"\"))\n",
    "\n",
    "    lda_transformer=LatentDirichletAllocation(n_components=n_components)\n",
    "    lda_transformer=lda_transformer.fit(variable_vectors)\n",
    "    #tsvd_vectors=tsvd_tranformer.transform(variable_vectors)\n",
    "    \n",
    "    return variable_vectorizer,lda_transformer\n",
    "\n",
    "name_vectorizer,name_tsvd_transformer=get_tsvd_transformers(df_train,\"name\",7)\n",
    "#name_vectorizer,name_lda_transformer=get_lda_transformers(df_train,\"name\",7)\n",
    "\n",
    "categories_vectorizer,categories_tsvd_transformer=get_tsvd_transformers(df_train,\"categories\",7)\n",
    "#categories_vectorizer,categories_lda_transformer=get_lda_transformers(df_train,\"categories\",7)\n",
    "\n",
    "#address_vectorizer,address_tsvd_transformer=get_tsvd_transformers(df_train,\"address\",7)\n"
   ]
  },
  {
   "cell_type": "code",
   "execution_count": 6,
   "id": "933af104",
   "metadata": {
    "execution": {
     "iopub.execute_input": "2022-07-21T00:09:13.902856Z",
     "iopub.status.busy": "2022-07-21T00:09:13.901770Z",
     "iopub.status.idle": "2022-07-21T00:09:14.261266Z",
     "shell.execute_reply": "2022-07-21T00:09:14.260384Z"
    },
    "papermill": {
     "duration": 0.377003,
     "end_time": "2022-07-21T00:09:14.264080",
     "exception": false,
     "start_time": "2022-07-21T00:09:13.887077",
     "status": "completed"
    },
    "tags": []
   },
   "outputs": [],
   "source": [
    "with open('count_vectorizer_categories_foursquare_v10.pkl', 'wb') as f:\n",
    "    pickle.dump(count_vectorizer, f)\n",
    "    \n",
    "with open('variable_vectorizer_name_foursquare_v10.pkl', 'wb') as f:\n",
    "    pickle.dump(name_vectorizer, f)\n",
    "    \n",
    "with open('tsvd_vectorizer_name_foursquare_v10.pkl', 'wb') as f:\n",
    "    pickle.dump(name_tsvd_transformer, f)\n",
    "    \n",
    "with open('variable_vectorizer_categories_foursquare_v10.pkl', 'wb') as f:\n",
    "    pickle.dump(categories_vectorizer, f)\n",
    "    \n",
    "with open('tsvd_vectorizer_categories_foursquare_v10.pkl', 'wb') as f:\n",
    "    pickle.dump(categories_tsvd_transformer, f)\n",
    "    \n",
    "\n",
    "    \n",
    "    "
   ]
  },
  {
   "cell_type": "code",
   "execution_count": 7,
   "id": "040a4f24",
   "metadata": {
    "execution": {
     "iopub.execute_input": "2022-07-21T00:09:14.291796Z",
     "iopub.status.busy": "2022-07-21T00:09:14.291200Z",
     "iopub.status.idle": "2022-07-21T00:09:22.465902Z",
     "shell.execute_reply": "2022-07-21T00:09:22.463940Z"
    },
    "papermill": {
     "duration": 8.192607,
     "end_time": "2022-07-21T00:09:22.469503",
     "exception": false,
     "start_time": "2022-07-21T00:09:14.276896",
     "status": "completed"
    },
    "tags": []
   },
   "outputs": [],
   "source": [
    "%%cython\n",
    "import numpy as np  # noqa\n",
    "cpdef int FastLCS(str S, str T):\n",
    "    cdef int i, j\n",
    "    cdef int cost\n",
    "    cdef int v1,v2,v3,v4\n",
    "    cdef int[:, :] dp = np.zeros((len(S) + 1, len(T) + 1), dtype=np.int32)\n",
    "    for i in range(len(S)):\n",
    "        for j in range(len(T)):\n",
    "            cost = (int)(S[i] == T[j])\n",
    "            v1 = dp[i, j] + cost\n",
    "            v2 = dp[i + 1, j]\n",
    "            v3 = dp[i, j + 1]\n",
    "            v4 = dp[i + 1, j + 1]\n",
    "            dp[i + 1, j + 1] = max((v1,v2,v3,v4))\n",
    "    return dp[len(S)][len(T)]"
   ]
  },
  {
   "cell_type": "code",
   "execution_count": 8,
   "id": "59737902",
   "metadata": {
    "execution": {
     "iopub.execute_input": "2022-07-21T00:09:22.498581Z",
     "iopub.status.busy": "2022-07-21T00:09:22.497807Z",
     "iopub.status.idle": "2022-07-21T00:09:22.571517Z",
     "shell.execute_reply": "2022-07-21T00:09:22.570634Z"
    },
    "papermill": {
     "duration": 0.09173,
     "end_time": "2022-07-21T00:09:22.574324",
     "exception": false,
     "start_time": "2022-07-21T00:09:22.482594",
     "status": "completed"
    },
    "tags": []
   },
   "outputs": [],
   "source": [
    "def process_country(df_data):\n",
    "    \n",
    "    list_country=  ['US',\n",
    "     'TR',\n",
    "     'ID',\n",
    "     'JP',\n",
    "     'TH',\n",
    "     'RU',\n",
    "     'BR',\n",
    "     'MY',\n",
    "     'BE',\n",
    "     'GB',\n",
    "     'PH',\n",
    "     'MX',\n",
    "     'SG',\n",
    "     'KR',\n",
    "     'DE',\n",
    "     'FR',\n",
    "     'ES']\n",
    "        \n",
    "    df_data[\"country_popular\"]=df_data[\"country\"].copy()\n",
    "        \n",
    "    df_data.loc[~df_data[\"country\"].isin(list_country),\"country_popular\"]=\"OTHER\"\n",
    "        \n",
    "        \n",
    "    return df_data\n",
    "\n",
    "\n",
    "def create_n_words(data):\n",
    "\n",
    "    data.loc[data['name'].notnull(),'n_words_name']=data.loc[data['name'].notnull(),'name'].apply(lambda x: len(str(x).split()))\n",
    "\n",
    "    data.loc[data['name'].notnull(),'n_characters_name']=data.loc[data['name'].notnull(),'name'].apply(lambda x: len(str(x).replace(\" \",\"\")))\n",
    "    \n",
    "    data.loc[data['name_match_id'].notnull(),'n_words_name_match_id']=data.loc[data['name_match_id'].notnull(),'name_match_id'].apply(lambda x: len(str(x).split()))\n",
    "    \n",
    "    data.loc[data['name_match_id'].notnull(),'n_characters_name_match_id']=data.loc[data['name_match_id'].notnull(),'name_match_id'].apply(lambda x: len(str(x).replace(\" \",\"\")))\n",
    "    \n",
    "    data.loc[data['address'].notnull(),'n_words_address']=data.loc[data['address'].notnull(),'address'].apply(lambda x: len(str(x).split()))\n",
    "    \n",
    "    data.loc[data['address'].notnull(),'n_characters_address']=data.loc[data['address'].notnull(),'address'].apply(lambda x: len(str(x).replace(\" \",\"\")))\n",
    "    \n",
    "    data.loc[data['address_match_id'].notnull(),'n_words_address_match_id']=data.loc[data['address_match_id'].notnull(),'address_match_id'].apply(lambda x: len(str(x).split()))\n",
    "    \n",
    "    data.loc[data['address_match_id'].notnull(),'n_characters_address_match_id']=data.loc[data['address_match_id'].notnull(),'address_match_id'].apply(lambda x: len(str(x).replace(\" \",\"\")))\n",
    "    \n",
    "    data.loc[data['categories'].notnull(),'n_words_categories']=data.loc[data['categories'].notnull(),'categories'].apply(lambda x: len(str(x).split()))\n",
    "    \n",
    "    data.loc[data['categories_match_id'].notnull(),'n_words_categories_match_id']=data.loc[data['categories_match_id'].notnull(),'categories_match_id'].apply(lambda x: len(str(x).split()))\n",
    "    \n",
    "    return data\n",
    "\n",
    "    \n",
    "def create_equal_indicator_features(data,equal_variables):\n",
    "    \n",
    "    for name_variable in equal_variables:\n",
    "        \n",
    "        name_match_variable=f'{name_variable}_match_id'\n",
    "        name_equal_indicator=f'equal_{name_variable}'\n",
    "        \n",
    "        data[name_equal_indicator]=(data[name_variable]==data[name_match_variable]).astype('int8')\n",
    "        \n",
    "        condition=(data[name_variable]==np.nan)|(data[name_match_variable]==np.nan)\n",
    "        \n",
    "        data.loc[condition,name_equal_indicator]=np.nan\n",
    "        \n",
    "        print(name_variable)\n",
    "        \n",
    "    return data\n",
    "\n",
    "\n",
    "\n",
    "def jaccard_distance(id_str,id_match_str):\n",
    "\n",
    "    try :\n",
    "        score = len((id_str & id_match_str)) / len((id_str | id_match_str))\n",
    "        \n",
    "    except :\n",
    "        \n",
    "        score=np.nan\n",
    "    \n",
    "    return score\n",
    "\n",
    "def first_indicator(id_str,id_match_str):\n",
    "\n",
    "    try :\n",
    "        score = int(id_str.split()[0] in id_match_str)\n",
    "        \n",
    "    except :\n",
    "        \n",
    "        score=np.nan\n",
    "    \n",
    "    return score\n",
    "\n",
    "def last_indicator(id_str,id_match_str):\n",
    "\n",
    "    try :\n",
    "        score = int(id_str.split()[-1] in id_match_str)\n",
    "        \n",
    "    except :\n",
    "        \n",
    "        score=np.nan\n",
    "    \n",
    "    return score\n",
    "\n",
    "def first_match_indicator(id_str,id_match_str):\n",
    "\n",
    "    try :\n",
    "        score = len((id_str & id_match_str)) / len(id_str)\n",
    "        \n",
    "    except :\n",
    "        \n",
    "        score=np.nan\n",
    "    \n",
    "    return score\n",
    "\n",
    "def second_match_indicator(id_str,id_match_str):\n",
    "\n",
    "    try :\n",
    "        score = len((id_str & id_match_str)) / len(id_match_str)\n",
    "        \n",
    "    except :\n",
    "        \n",
    "        score=np.nan\n",
    "    \n",
    "    return score\n",
    "\n",
    "\n",
    "\n",
    "def levenshtein_distance(id_str,id_match_str):\n",
    "    \n",
    "    try :\n",
    "    \n",
    "        score=Levenshtein.distance(id_str, id_match_str)\n",
    "        \n",
    "    except :\n",
    "        \n",
    "        score=np.nan\n",
    "    \n",
    "    return score\n",
    "\n",
    "def jaro_winkler(id_str,id_match_str):\n",
    "    \n",
    "    try :\n",
    "    \n",
    "        score=Levenshtein.jaro_winkler(id_str, id_match_str)\n",
    "        \n",
    "    except :\n",
    "        \n",
    "        score=np.nan\n",
    "    \n",
    "    return score\n",
    "\n",
    "def sequence_matcher(id_str,id_match_str):\n",
    "    \n",
    "    try :\n",
    "    \n",
    "        score=difflib.SequenceMatcher(None, id_str,id_match_str).ratio()\n",
    "        \n",
    "    except :\n",
    "        \n",
    "        score=np.nan\n",
    "    \n",
    "    return score\n",
    "\n",
    "\n",
    "def metrics_similiarity(data,name_variable,name_match_variable=None,distances_list=[\"jaccard\"],suffix='',make_unidecode=0,remove_vowels=0):\n",
    "    ## check if there should be separation between words for some punctuations\n",
    "    \n",
    "    scores_jaccard = []\n",
    "    scores_levenshtein=[]\n",
    "    scores_jaro_winkler=[]\n",
    "    scores_sequence_matcher=[]\n",
    "    scores_lcs=[]\n",
    "    scores_first_match_indicator=[]\n",
    "    scores_second_match_indicator=[]\n",
    "    scores_first_indicator=[]\n",
    "    scores_last_indicator=[]\n",
    "    str_vowels=\"aeiou\"\n",
    "    \n",
    "    \n",
    "    if name_match_variable is None :\n",
    "    \n",
    "        name_match_variable=f'{name_variable}_match_id'\n",
    "    \n",
    "    for id_str, id_match_str in tqdm(zip(data[name_variable].fillna(\"nullvalue\").to_numpy(), data[name_match_variable].fillna(\"nullvalue_match\").to_numpy())):\n",
    "    \n",
    "        if make_unidecode==1 :\n",
    "            id_str=unidecode.unidecode(id_str)\n",
    "            id_match_str=unidecode.unidecode(id_match_str)\n",
    "            \n",
    "        id_str=id_str.lower().translate(str.maketrans(string.punctuation,' '*len(string.punctuation)))\n",
    "        if remove_vowels==1:\n",
    "            id_str=id_str.lower().translate(str.maketrans('', '',str_vowels))\n",
    "        id_str=\" \".join(id_str.split()) # this is new\n",
    "            \n",
    "        id_match_str=id_match_str.lower().translate(str.maketrans(string.punctuation,' '*len(string.punctuation)))\n",
    "        if remove_vowels==1:\n",
    "            id_match_str=id_match_str.lower().translate(str.maketrans('', '',str_vowels))\n",
    "        id_match_str=\" \".join(id_match_str.split())\n",
    "\n",
    "        \n",
    "        id_str_set=set(id_str.split())\n",
    "        id_match_str_set=set(id_match_str.split())\n",
    "        \n",
    "                \n",
    "        if \"jaccard\" in distances_list :\n",
    "                \n",
    "            score_jaccard=jaccard_distance(id_str_set,id_match_str_set)\n",
    "                \n",
    "            scores_jaccard.append(score_jaccard)\n",
    "            \n",
    "        if \"first_match_indicator\" in distances_list :\n",
    "                \n",
    "            score_first_match_indicator=first_match_indicator(id_str_set,id_match_str_set)\n",
    "                \n",
    "            scores_first_match_indicator.append(score_first_match_indicator)\n",
    "            \n",
    "        if \"second_match_indicator\" in distances_list :\n",
    "                \n",
    "            score_second_match_indicator=second_match_indicator(id_str_set,id_match_str_set)\n",
    "                \n",
    "            scores_second_match_indicator.append(score_second_match_indicator)\n",
    "            \n",
    "        if \"first_indicator\" in distances_list :\n",
    "                \n",
    "            score_first_indicator=first_indicator(id_str,id_match_str)\n",
    "                \n",
    "            scores_first_indicator.append(score_first_indicator)\n",
    "            \n",
    "        if \"last_indicator\" in distances_list :\n",
    "                \n",
    "            score_last_indicator=last_indicator(id_str,id_match_str)\n",
    "                \n",
    "            scores_last_indicator.append(score_last_indicator)\n",
    "            \n",
    "            \n",
    "        if \"levenshtein\" in distances_list:\n",
    "                \n",
    "            score_levenshtein=levenshtein_distance(id_str,id_match_str)\n",
    "                \n",
    "            scores_levenshtein.append(score_levenshtein)\n",
    "                \n",
    "        if \"jaro_winkler\" in distances_list:\n",
    "                \n",
    "            score_jaro_winkler=jaro_winkler(id_str,id_match_str)\n",
    "                \n",
    "            scores_jaro_winkler.append(score_jaro_winkler)\n",
    "            \n",
    "        if \"sequence_matcher\" in distances_list:\n",
    "            \n",
    "            score_sequence_matcher=sequence_matcher(id_str,id_match_str)\n",
    "                \n",
    "            scores_sequence_matcher.append(score_sequence_matcher)\n",
    "            \n",
    "        if \"lcs\" in distances_list:\n",
    "            \n",
    "            score_lcs=FastLCS(id_str,id_match_str)\n",
    "                \n",
    "            scores_lcs.append(score_lcs)\n",
    "                \n",
    "     \n",
    "    condition=data[name_variable].isnull() | data[name_match_variable].isnull()\n",
    "            \n",
    "            \n",
    "    if \"jaccard\" in distances_list :\n",
    "                            \n",
    "        scores_jaccard=np.array(scores_jaccard)\n",
    "        \n",
    "        data[f'jaccard_distance_match_{name_variable}_{suffix}']=scores_jaccard\n",
    "        \n",
    "        data.loc[condition,f'jaccard_distance_match_{name_variable}_{suffix}']=np.nan\n",
    "        \n",
    "    if \"first_match_indicator\" in distances_list :\n",
    "        \n",
    "        scores_first_match_indicator=np.array(scores_first_match_indicator)\n",
    "        \n",
    "        data[f'first_match_indicator_match_{name_variable}_{suffix}']=scores_first_match_indicator\n",
    "        \n",
    "        data.loc[condition,f'first_match_indicator_match_{name_variable}_{suffix}']=np.nan\n",
    "        \n",
    "    if \"second_match_indicator\" in distances_list :\n",
    "        \n",
    "        scores_second_match_indicator=np.array(scores_second_match_indicator)\n",
    "        \n",
    "        data[f'second_match_indicator_match_{name_variable}_{suffix}']=scores_second_match_indicator\n",
    "        \n",
    "        data.loc[condition,f'second_match_indicator_match_{name_variable}_{suffix}']=np.nan\n",
    "        \n",
    "        \n",
    "    if \"first_indicator\" in distances_list :\n",
    "                            \n",
    "        scores_first_indicator=np.array(scores_first_indicator)\n",
    "        \n",
    "        data[f'first_indicator_match_{name_variable}_{suffix}']=scores_first_indicator\n",
    "        \n",
    "        data.loc[condition,f'first_indicator_match_{name_variable}_{suffix}']=np.nan\n",
    "        \n",
    "    if \"last_indicator\" in distances_list :\n",
    "                            \n",
    "        scores_last_indicator=np.array(scores_last_indicator)\n",
    "        \n",
    "        data[f'last_indicator_match_{name_variable}_{suffix}']=scores_last_indicator\n",
    "        \n",
    "        data.loc[condition,f'last_indicator_match_{name_variable}_{suffix}']=np.nan\n",
    "            \n",
    "            \n",
    "    if \"levenshtein\" in distances_list:\n",
    "                \n",
    "        scores_levenshtein=np.array(scores_levenshtein)\n",
    "        \n",
    "        data[f'levenshtein_distance_match_{name_variable}_{suffix}']=scores_levenshtein\n",
    "        \n",
    "        data.loc[condition,f'levenshtein_distance_match_{name_variable}_{suffix}']=np.nan\n",
    "                \n",
    "    if \"jaro_winkler\" in distances_list:\n",
    "        \n",
    "        scores_jaro_winkler=np.array(scores_jaro_winkler)\n",
    "        \n",
    "        data[f'jaro_winkler_distance_match_{name_variable}_{suffix}']=scores_jaro_winkler\n",
    "        \n",
    "        data.loc[condition,f'jaro_winkler_distance_match_{name_variable}_{suffix}']=np.nan\n",
    "        \n",
    "    if \"sequence_matcher\" in distances_list:\n",
    "        \n",
    "        scores_sequence_matcher=np.array(scores_sequence_matcher)\n",
    "        \n",
    "        data[f'sequence_matcher_distance_match_{name_variable}_{suffix}']=scores_sequence_matcher\n",
    "        \n",
    "        data.loc[condition,f'sequence_matcher_distance_match_{name_variable}_{suffix}']=np.nan\n",
    "        \n",
    "    if \"lcs\" in distances_list:\n",
    "        \n",
    "        scores_lcs=np.array(scores_lcs)\n",
    "        \n",
    "        data[f'lcs_distance_match_{name_variable}_{suffix}']=scores_lcs\n",
    "        \n",
    "        data.loc[condition,f'lcs_distance_match_{name_variable}_{suffix}']=np.nan\n",
    "    \n",
    "    \n",
    "\n",
    "    return data\n",
    "\n",
    "\n",
    "def get_numbers_from_string(data,name_variable):\n",
    "    \n",
    "    name_number_variable=f'numbers_{name_variable}'\n",
    "    \n",
    "    data[name_number_variable]=data[name_variable].fillna('nullvalue').apply(lambda x: (\" \".join([''.join(filter(str.isdigit, string)) for string in x.split()])).strip())\n",
    "    \n",
    "    data.loc[data[name_number_variable]=='',name_number_variable]=np.nan\n",
    "    \n",
    "    return data\n",
    "\n",
    "def get_numbers_match(data,name_variable):\n",
    "\n",
    "    data=get_numbers_from_string(data,name_variable)\n",
    "\n",
    "    data=get_numbers_from_string(data,f'{name_variable}_match_id')\n",
    "\n",
    "    data=metrics_similiarity(data,f'numbers_{name_variable}')\n",
    "    \n",
    "    return data\n",
    "\n",
    "\n",
    "def get_categories_indicator(data,variable_name,transformer,n_features=10):\n",
    "    \n",
    "    data_result=transformer.transform(data[variable_name].fillna(\"null\"))\n",
    "    \n",
    "    data_result=data_result.toarray()\n",
    "    \n",
    "    data_result=pd.DataFrame(data_result)\n",
    "    \n",
    "    dict_names = {transformer.vocabulary_[k] : k for k in transformer.vocabulary_}\n",
    "\n",
    "    list_names=[f'{dict_names[x]}_{variable_name}' for x in range(0,n_features) ]\n",
    "    \n",
    "    data_result.columns=list_names\n",
    "    \n",
    "    data = pd.concat([data, data_result], axis=1)\n",
    "\n",
    "    \n",
    "    return data\n",
    "\n",
    "def get_tsvd_lda_vectors(data,variable_name,vector_transformer,tsvd_transformer):\n",
    "    \n",
    "    variable_vectors=vector_transformer.transform(data[variable_name].fillna(\"\"))\n",
    "    \n",
    "    data_result=tsvd_transformer.transform(variable_vectors)\n",
    "    \n",
    "    n_features=np.shape(data_result)[1]\n",
    "    \n",
    "    data_result=pd.DataFrame(data_result)\n",
    "        \n",
    "    list_names=[f'{variable_name}_component_{x}' for x in range(0,n_features) ]\n",
    "    \n",
    "    data_result.columns=list_names\n",
    "    \n",
    "    data = pd.concat([data, data_result], axis=1)\n",
    "\n",
    "    return data"
   ]
  },
  {
   "cell_type": "code",
   "execution_count": 9,
   "id": "e08c0db0",
   "metadata": {
    "execution": {
     "iopub.execute_input": "2022-07-21T00:09:22.602293Z",
     "iopub.status.busy": "2022-07-21T00:09:22.601607Z",
     "iopub.status.idle": "2022-07-21T00:09:22.646547Z",
     "shell.execute_reply": "2022-07-21T00:09:22.645286Z"
    },
    "papermill": {
     "duration": 0.062792,
     "end_time": "2022-07-21T00:09:22.649791",
     "exception": false,
     "start_time": "2022-07-21T00:09:22.586999",
     "status": "completed"
    },
    "tags": []
   },
   "outputs": [],
   "source": [
    "def nearest_neighbors(data,n_nearest):\n",
    "    \n",
    "    knn = NearestNeighbors(n_neighbors = n_nearest,metric='haversine')\n",
    "    knn.fit(data, data.index)\n",
    "    distances,nearest_ids = knn.kneighbors(data,return_distance = True)\n",
    "    \n",
    "    return distances,nearest_ids\n",
    "\n",
    "\n",
    "# based on this https://www.kaggle.com/competitions/coleridgeinitiative-show-us-the-data/discussion/228814#1253355\n",
    "def jaccard_similarity(row,variable):\n",
    "    \n",
    "    try : \n",
    "        l1 = row[variable].split(\" \")\n",
    "        l2 = row[f'{variable}_match_id'].split(\" \")    \n",
    "        intersection = len([s for s in l1 if s in l2])\n",
    "        union = (len(l1) + len(l2)) - intersection\n",
    "        return float(intersection) / union\n",
    "    \n",
    "    except :\n",
    "        return np.nan\n",
    "    \n",
    "    \n",
    "def jaccard_similarity_like(data,name_variable):\n",
    "    \n",
    "    name_match_variable=f'{name_variable}_match_id'\n",
    "    \n",
    "    count_vectorizer = CountVectorizer(binary=True,stop_words=['nullvalue'],token_pattern=r\"(?u)\\b\\w+\\b\",strip_accents=\"unicode\")\n",
    "    data_result = count_vectorizer.fit_transform(data[name_variable].fillna('nullvalue'))\n",
    "    dict_id_index = dict(zip(data[name_variable].values, data.index))\n",
    "    \n",
    "    index_match_id=[dict_id_index[element] for element in data[name_match_variable]]\n",
    "    \n",
    "    distance_vector=data_result.multiply(data_result[index_match_id]).sum(axis=1).A.ravel()\n",
    "    \n",
    "    return distance_vector\n",
    "\n",
    "\n",
    "def filter_candidates(data,n_neighbor):\n",
    "    \n",
    "    if n_neighbor > 1 :\n",
    "    \n",
    "        data=data.loc[(data['jaccard_distance_match_name_']>0)|(data['jaro_winkler_distance_match_name_']>0.7)|(data['jaccard_distance_match_name_unidecode']>0)|(data['jaro_winkler_distance_match_name_unidecode']>0.7)].reset_index(drop=True)\n",
    "    \n",
    "    return data\n",
    "\n",
    "\n",
    "def get_match_variables(data,data_variables):\n",
    "\n",
    "    data=data.merge(data_variables,on='id',how='left',suffixes=(None, '_id'))\n",
    "\n",
    "    data=data.merge(data_variables,left_on='id_match',right_on='id',how='left',suffixes=(None, '_match_id'))\n",
    "    \n",
    "    return data\n",
    "    \n",
    "    \n",
    "\n",
    "def create_candidates(data_position,measure_variables,n_nearest,data_features):\n",
    "    \n",
    "    data_position[\"longitude\"]=np.radians(data_position[\"longitude\"].values)\n",
    "    \n",
    "    data_position[\"latitude\"]=np.radians(data_position[\"latitude\"].values)\n",
    "    \n",
    "    distances,nearest_ids=nearest_neighbors(data_position[measure_variables],n_nearest=n_nearest)\n",
    "    \n",
    "    df_neighbors=[]\n",
    "    \n",
    "    \n",
    "    for n_neighbor in range(1,n_nearest):\n",
    "        \n",
    "        df_temp=data_position[['id']].copy()\n",
    "        \n",
    "        df_temp['distance']=distances[:,n_neighbor]\n",
    "        \n",
    "        index_id_match=nearest_ids[:,n_neighbor]\n",
    "        \n",
    "        df_temp['id_match']=df_temp[['id']].loc[index_id_match].values\n",
    "        \n",
    "        df_temp['n_neighbor']=n_neighbor\n",
    "        \n",
    "        df_temp=get_match_variables(df_temp,data_features[['id','name']])\n",
    "        \n",
    "        df_temp=metrics_similiarity(df_temp,'name',distances_list=[\"jaccard\",\"jaro_winkler\"])\n",
    "        \n",
    "        df_temp=metrics_similiarity(df_temp,'name',distances_list=[\"jaccard\",\"jaro_winkler\"],make_unidecode=1,suffix=\"unidecode\")\n",
    "        \n",
    "        print(len(df_temp))\n",
    "\n",
    "        df_temp=filter_candidates(df_temp,n_neighbor)\n",
    "\n",
    "        print(len(df_temp))\n",
    "        print(df_temp[\"distance\"].describe())\n",
    "\n",
    "        df_neighbors.append(df_temp)\n",
    "        \n",
    "        print(n_neighbor)\n",
    "        \n",
    "        print('')\n",
    "        \n",
    "        \n",
    "    df_neighbors=pd.concat(df_neighbors,ignore_index=True).reset_index(drop=True)\n",
    "    \n",
    "    df_neighbors=df_neighbors.drop([\"id_match_id\"],axis='columns')\n",
    "    \n",
    "    print(len(df_neighbors))\n",
    "    \n",
    "    df_temp=df_neighbors.copy()\n",
    "    \n",
    "    df_temp[[\"id\",\"id_match\"]]=df_temp[[\"id_match\",\"id\"]].copy()\n",
    "    \n",
    "    df_temp[\"n_neighbor\"]=99\n",
    "    \n",
    "    df_neighbors=pd.concat([df_neighbors,df_temp],ignore_index=True)\n",
    "    \n",
    "    del df_temp ; gc.collect()\n",
    "    \n",
    "    df_neighbors=df_neighbors.drop_duplicates(subset=[\"id\",\"id_match\"],keep=\"first\",ignore_index=True)\n",
    "    \n",
    "    print(len(df_neighbors))\n",
    "\n",
    "    return df_neighbors\n",
    "\n",
    "\n",
    "def get_perfect_jaccard_score(data):\n",
    "    \n",
    "    dict_predicted_matches=data.loc[data['target']==1].groupby('id')['id_match'].apply(list).to_dict()    \n",
    "    \n",
    "    scores = []\n",
    "    for id_str, matches in tqdm(zip(df_real_matches['id'].to_numpy(), df_real_matches['id_match'].to_numpy())):\n",
    "        \n",
    "        if id_str in dict_predicted_matches:\n",
    "            targets = dict_predicted_matches[id_str]\n",
    "            targets.append(id_str)\n",
    "            targets=set(targets)\n",
    "        else :\n",
    "            targets=set([id_str])\n",
    "        preds = set(matches)\n",
    "        score = len((targets & preds)) / len((targets | preds))\n",
    "        scores.append(score)\n",
    "    scores = np.array(scores)\n",
    "    \n",
    "    metric=scores.mean()\n",
    "    \n",
    "    print(metric)\n",
    "    \n",
    "    return metric\n",
    "\n",
    "\n",
    "def get_tsvd_vectors(data,variable,n_components):\n",
    "    \n",
    "    variable_vectorizer = CountVectorizer(strip_accents=\"unicode\",binary=True)\n",
    "    variable_vectorizer = variable_vectorizer.fit(data[variable].fillna(\"\"))\n",
    "    variable_vectors=variable_vectorizer.transform(data[variable].fillna(\"\"))\n",
    "\n",
    "    tsvd_tranformer=TruncatedSVD(n_components=n_components)\n",
    "    tsvd_tranformer=tsvd_tranformer.fit(variable_vectors)\n",
    "    tsvd_vectors=tsvd_tranformer.transform(variable_vectors)\n",
    "    \n",
    "    return tsvd_vectors\n",
    "\n",
    "\n",
    "def nearest_neighbors_arrays(data,n_nearest):\n",
    "    \n",
    "    knn = NearestNeighbors(n_neighbors = n_nearest)\n",
    "    knn.fit(data,[1]*len(data))\n",
    "    distances,nearest_ids = knn.kneighbors(data,return_distance = True)\n",
    "    \n",
    "    return distances,nearest_ids\n",
    "\n",
    "\n",
    "\n",
    "def create_candidates_strings_vectors(data_id,data_position,n_nearest,data_features,variable=\"name\"):\n",
    "    \n",
    "    distances,nearest_ids=nearest_neighbors_arrays(data_position,n_nearest=n_nearest)\n",
    "    \n",
    "    df_neighbors=[]\n",
    "    \n",
    "    \n",
    "    for n_neighbor in range(0,n_nearest):\n",
    "        \n",
    "        df_temp=data_id[['id']].copy()\n",
    "        \n",
    "        df_temp['distance_vectors']=distances[:,n_neighbor]\n",
    "        \n",
    "        index_id_match=nearest_ids[:,n_neighbor]\n",
    "        \n",
    "        df_temp['id_match']=df_temp[['id']].loc[index_id_match].values\n",
    "        \n",
    "        df_temp['n_neighbor']=n_neighbor\n",
    "        \n",
    "        print(len(df_temp))\n",
    "        \n",
    "        df_temp=get_match_variables(df_temp,data_features)\n",
    "        \n",
    "        df_temp=metrics_similiarity(df_temp,variable,distances_list=[\"jaccard\",\"jaro_winkler\"])\n",
    "        \n",
    "        df_temp=metrics_similiarity(df_temp,variable,distances_list=[\"jaccard\",\"jaro_winkler\"],make_unidecode=1,suffix=\"unidecode\")\n",
    "                \n",
    "        if variable == \"name\" :\n",
    "        \n",
    "            df_temp=filter_candidates_names(df_temp)\n",
    "            \n",
    "        elif variable==\"address\" :\n",
    "            \n",
    "            df_temp=filter_candidates_address(df_temp)\n",
    "            \n",
    "            \n",
    "        \n",
    "        print(len(df_temp))\n",
    "\n",
    "        df_neighbors.append(df_temp)\n",
    "        \n",
    "        print(n_neighbor)\n",
    "        \n",
    "        print('')\n",
    "        \n",
    "        \n",
    "    df_neighbors=pd.concat(df_neighbors,ignore_index=True).reset_index(drop=True)\n",
    "    \n",
    "    df_neighbors=df_neighbors.drop([\"id_match_id\"],axis='columns')\n",
    "    \n",
    "    print((df_neighbors[\"id\"]==df_neighbors[\"id_match\"]).mean())\n",
    "    \n",
    "    df_neighbors=df_neighbors.loc[df_neighbors[\"id\"]!=df_neighbors[\"id_match\"]].reset_index(drop=True)\n",
    "    \n",
    "    df_neighbors[\"n_neighbor\"]=999\n",
    "    \n",
    "    df_neighbors[\"distance\"]=999\n",
    "    \n",
    "    print(len(df_neighbors))\n",
    "\n",
    "    return df_neighbors\n",
    "\n",
    "  \n",
    "def filter_candidates_names(data):\n",
    "    \n",
    "    data=data.loc[(data['jaccard_distance_match_name_']>0.95)|(data['jaro_winkler_distance_match_name_']>0.975)|(data['jaccard_distance_match_name_unidecode']>0.95)|(data['jaro_winkler_distance_match_name_unidecode']>0.975)].reset_index(drop=True)\n",
    "    \n",
    "    return data\n",
    "\n",
    "\n",
    "def filter_candidates_address(data):\n",
    "    \n",
    "    data=data.loc[(data['jaccard_distance_match_address_']>0.95)|(data['jaro_winkler_distance_match_address_']>0.975)|(data['jaccard_distance_match_address_unidecode']>0.95)|(data['jaro_winkler_distance_match_address_unidecode']>0.975)].reset_index(drop=True)\n",
    "    \n",
    "    return data"
   ]
  },
  {
   "cell_type": "code",
   "execution_count": 10,
   "id": "c6245df1",
   "metadata": {
    "execution": {
     "iopub.execute_input": "2022-07-21T00:09:22.678076Z",
     "iopub.status.busy": "2022-07-21T00:09:22.677326Z",
     "iopub.status.idle": "2022-07-21T00:27:07.117908Z",
     "shell.execute_reply": "2022-07-21T00:27:07.116469Z"
    },
    "papermill": {
     "duration": 1064.458326,
     "end_time": "2022-07-21T00:27:07.121068",
     "exception": false,
     "start_time": "2022-07-21T00:09:22.662742",
     "status": "completed"
    },
    "tags": []
   },
   "outputs": [
    {
     "name": "stdout",
     "output_type": "stream",
     "text": [
      "742191\n"
     ]
    },
    {
     "name": "stderr",
     "output_type": "stream",
     "text": [
      "742191it [00:11, 62945.46it/s]\n",
      "742191it [00:19, 37931.47it/s]\n"
     ]
    },
    {
     "name": "stdout",
     "output_type": "stream",
     "text": [
      "709850\n",
      "0\n",
      "\n",
      "742191\n"
     ]
    },
    {
     "name": "stderr",
     "output_type": "stream",
     "text": [
      "742191it [00:12, 60926.10it/s]\n",
      "742191it [00:19, 38018.24it/s]\n"
     ]
    },
    {
     "name": "stdout",
     "output_type": "stream",
     "text": [
      "362823\n",
      "1\n",
      "\n",
      "742191\n"
     ]
    },
    {
     "name": "stderr",
     "output_type": "stream",
     "text": [
      "742191it [00:12, 61283.23it/s]\n",
      "742191it [00:19, 38118.16it/s]\n"
     ]
    },
    {
     "name": "stdout",
     "output_type": "stream",
     "text": [
      "252499\n",
      "2\n",
      "\n",
      "742191\n"
     ]
    },
    {
     "name": "stderr",
     "output_type": "stream",
     "text": [
      "742191it [00:12, 61714.96it/s]\n",
      "742191it [00:19, 38361.41it/s]\n"
     ]
    },
    {
     "name": "stdout",
     "output_type": "stream",
     "text": [
      "227232\n",
      "3\n",
      "\n",
      "742191\n"
     ]
    },
    {
     "name": "stderr",
     "output_type": "stream",
     "text": [
      "742191it [00:12, 60377.30it/s]\n",
      "742191it [00:19, 38704.04it/s]\n"
     ]
    },
    {
     "name": "stdout",
     "output_type": "stream",
     "text": [
      "210777\n",
      "4\n",
      "\n",
      "742191\n"
     ]
    },
    {
     "name": "stderr",
     "output_type": "stream",
     "text": [
      "742191it [00:12, 60885.05it/s]\n",
      "742191it [00:19, 38279.54it/s]\n"
     ]
    },
    {
     "name": "stdout",
     "output_type": "stream",
     "text": [
      "201161\n",
      "5\n",
      "\n",
      "742191\n"
     ]
    },
    {
     "name": "stderr",
     "output_type": "stream",
     "text": [
      "742191it [00:11, 62025.94it/s]\n",
      "742191it [00:19, 38401.49it/s]\n"
     ]
    },
    {
     "name": "stdout",
     "output_type": "stream",
     "text": [
      "193114\n",
      "6\n",
      "\n",
      "742191\n"
     ]
    },
    {
     "name": "stderr",
     "output_type": "stream",
     "text": [
      "742191it [00:12, 61408.96it/s]\n",
      "742191it [00:19, 38066.38it/s]\n"
     ]
    },
    {
     "name": "stdout",
     "output_type": "stream",
     "text": [
      "186486\n",
      "7\n",
      "\n",
      "742191\n"
     ]
    },
    {
     "name": "stderr",
     "output_type": "stream",
     "text": [
      "742191it [00:11, 61914.45it/s]\n",
      "742191it [00:19, 38551.77it/s]\n"
     ]
    },
    {
     "name": "stdout",
     "output_type": "stream",
     "text": [
      "181023\n",
      "8\n",
      "\n",
      "742191\n"
     ]
    },
    {
     "name": "stderr",
     "output_type": "stream",
     "text": [
      "742191it [00:12, 60423.31it/s]\n",
      "742191it [00:19, 38348.32it/s]\n"
     ]
    },
    {
     "name": "stdout",
     "output_type": "stream",
     "text": [
      "175488\n",
      "9\n",
      "\n",
      "742191\n"
     ]
    },
    {
     "name": "stderr",
     "output_type": "stream",
     "text": [
      "742191it [00:12, 61117.94it/s]\n",
      "742191it [00:19, 38494.56it/s]\n"
     ]
    },
    {
     "name": "stdout",
     "output_type": "stream",
     "text": [
      "171037\n",
      "10\n",
      "\n",
      "742191\n"
     ]
    },
    {
     "name": "stderr",
     "output_type": "stream",
     "text": [
      "742191it [00:12, 61601.81it/s]\n",
      "742191it [00:19, 38476.69it/s]\n"
     ]
    },
    {
     "name": "stdout",
     "output_type": "stream",
     "text": [
      "166565\n",
      "11\n",
      "\n",
      "742191\n"
     ]
    },
    {
     "name": "stderr",
     "output_type": "stream",
     "text": [
      "742191it [00:12, 60952.59it/s]\n",
      "742191it [00:19, 38811.95it/s]\n"
     ]
    },
    {
     "name": "stdout",
     "output_type": "stream",
     "text": [
      "164413\n",
      "12\n",
      "\n",
      "742191\n"
     ]
    },
    {
     "name": "stderr",
     "output_type": "stream",
     "text": [
      "742191it [00:11, 62347.55it/s]\n",
      "742191it [00:19, 38529.00it/s]\n"
     ]
    },
    {
     "name": "stdout",
     "output_type": "stream",
     "text": [
      "161680\n",
      "13\n",
      "\n",
      "742191\n"
     ]
    },
    {
     "name": "stderr",
     "output_type": "stream",
     "text": [
      "742191it [00:11, 62102.36it/s]\n",
      "742191it [00:19, 38750.23it/s]\n"
     ]
    },
    {
     "name": "stdout",
     "output_type": "stream",
     "text": [
      "158190\n",
      "14\n",
      "\n",
      "0.17873043416049225\n",
      "2892789\n",
      "742191\n"
     ]
    },
    {
     "name": "stderr",
     "output_type": "stream",
     "text": [
      "742191it [00:12, 59946.69it/s]\n",
      "742191it [00:19, 37351.03it/s]\n"
     ]
    },
    {
     "name": "stdout",
     "output_type": "stream",
     "text": [
      "698765\n",
      "0\n",
      "\n",
      "742191\n"
     ]
    },
    {
     "name": "stderr",
     "output_type": "stream",
     "text": [
      "742191it [00:12, 59192.76it/s]\n",
      "742191it [00:20, 37093.15it/s]\n"
     ]
    },
    {
     "name": "stdout",
     "output_type": "stream",
     "text": [
      "349514\n",
      "1\n",
      "\n",
      "742191\n"
     ]
    },
    {
     "name": "stderr",
     "output_type": "stream",
     "text": [
      "742191it [00:12, 58964.65it/s]\n",
      "742191it [00:19, 37114.98it/s]\n"
     ]
    },
    {
     "name": "stdout",
     "output_type": "stream",
     "text": [
      "199299\n",
      "2\n",
      "\n",
      "742191\n"
     ]
    },
    {
     "name": "stderr",
     "output_type": "stream",
     "text": [
      "742191it [00:12, 58330.21it/s]\n",
      "742191it [00:20, 36617.24it/s]\n"
     ]
    },
    {
     "name": "stdout",
     "output_type": "stream",
     "text": [
      "160589\n",
      "3\n",
      "\n",
      "742191\n"
     ]
    },
    {
     "name": "stderr",
     "output_type": "stream",
     "text": [
      "742191it [00:12, 59082.25it/s]\n",
      "742191it [00:20, 36767.15it/s]\n"
     ]
    },
    {
     "name": "stdout",
     "output_type": "stream",
     "text": [
      "137245\n",
      "4\n",
      "\n",
      "742191\n"
     ]
    },
    {
     "name": "stderr",
     "output_type": "stream",
     "text": [
      "742191it [00:12, 58417.56it/s]\n",
      "742191it [00:20, 36802.43it/s]\n"
     ]
    },
    {
     "name": "stdout",
     "output_type": "stream",
     "text": [
      "122025\n",
      "5\n",
      "\n",
      "742191\n"
     ]
    },
    {
     "name": "stderr",
     "output_type": "stream",
     "text": [
      "742191it [00:12, 57550.43it/s]\n",
      "742191it [00:20, 36812.59it/s]\n"
     ]
    },
    {
     "name": "stdout",
     "output_type": "stream",
     "text": [
      "109835\n",
      "6\n",
      "\n",
      "742191\n"
     ]
    },
    {
     "name": "stderr",
     "output_type": "stream",
     "text": [
      "742191it [00:12, 57635.14it/s]\n",
      "742191it [00:20, 36693.69it/s]\n"
     ]
    },
    {
     "name": "stdout",
     "output_type": "stream",
     "text": [
      "100875\n",
      "7\n",
      "\n",
      "742191\n"
     ]
    },
    {
     "name": "stderr",
     "output_type": "stream",
     "text": [
      "742191it [00:12, 59466.12it/s]\n",
      "742191it [00:20, 36426.88it/s]\n"
     ]
    },
    {
     "name": "stdout",
     "output_type": "stream",
     "text": [
      "93364\n",
      "8\n",
      "\n",
      "742191\n"
     ]
    },
    {
     "name": "stderr",
     "output_type": "stream",
     "text": [
      "742191it [00:12, 58699.49it/s]\n",
      "742191it [00:20, 36628.53it/s]\n"
     ]
    },
    {
     "name": "stdout",
     "output_type": "stream",
     "text": [
      "87078\n",
      "9\n",
      "\n",
      "0.3350663974207576\n",
      "1368825\n",
      "2892789\n",
      "74367\n"
     ]
    }
   ],
   "source": [
    "df_train_strings=df_train.dropna(subset=[\"address\"])[[\"id\",\"name\",\"address\",\"latitude\",\"longitude\",\"point_of_interest\"]].reset_index(drop=True)\n",
    "\n",
    "name_vectors=get_tsvd_vectors(df_train_strings,\"name\",7)\n",
    "\n",
    "address_vectors=get_tsvd_vectors(df_train_strings,\"address\",7)\n",
    "\n",
    "\n",
    "neighbors_strings=create_candidates_strings_vectors(df_train_strings[[\"id\"]],name_vectors,15,df_train_strings)\n",
    "\n",
    "del name_vectors ; gc.collect()\n",
    "\n",
    "\n",
    "address_neighbors_strings=create_candidates_strings_vectors(df_train_strings[[\"id\"]],address_vectors,10,df_train_strings,variable='address')\n",
    "\n",
    "del address_vectors\n",
    "del df_train_strings; gc.collect()\n",
    "\n",
    "\n",
    "print(len(neighbors_strings))\n",
    "\n",
    "neighbors_strings=neighbors_strings.merge(address_neighbors_strings[[\"id\",\"id_match\"]],on=[\"id\",\"id_match\"])\n",
    "\n",
    "print(len(neighbors_strings))\n",
    "\n",
    "del address_neighbors_strings ; gc.collect()\n",
    "\n",
    "neighbors_strings=neighbors_strings[['id','distance','id_match','n_neighbor','name','name_match_id','jaccard_distance_match_name_','jaro_winkler_distance_match_name_','jaccard_distance_match_name_unidecode','jaro_winkler_distance_match_name_unidecode']]"
   ]
  },
  {
   "cell_type": "code",
   "execution_count": null,
   "id": "3e25c167",
   "metadata": {
    "papermill": {
     "duration": 0.60312,
     "end_time": "2022-07-21T00:27:08.360260",
     "exception": false,
     "start_time": "2022-07-21T00:27:07.757140",
     "status": "completed"
    },
    "tags": []
   },
   "outputs": [],
   "source": []
  },
  {
   "cell_type": "code",
   "execution_count": 11,
   "id": "5bc433e1",
   "metadata": {
    "execution": {
     "iopub.execute_input": "2022-07-21T00:27:09.626592Z",
     "iopub.status.busy": "2022-07-21T00:27:09.626166Z",
     "iopub.status.idle": "2022-07-21T01:46:05.463511Z",
     "shell.execute_reply": "2022-07-21T01:46:05.462100Z"
    },
    "papermill": {
     "duration": 4736.522273,
     "end_time": "2022-07-21T01:46:05.466263",
     "exception": false,
     "start_time": "2022-07-21T00:27:08.943990",
     "status": "completed"
    },
    "tags": []
   },
   "outputs": [
    {
     "name": "stderr",
     "output_type": "stream",
     "text": [
      "/opt/conda/lib/python3.7/site-packages/ipykernel_launcher.py:60: SettingWithCopyWarning: \n",
      "A value is trying to be set on a copy of a slice from a DataFrame.\n",
      "Try using .loc[row_indexer,col_indexer] = value instead\n",
      "\n",
      "See the caveats in the documentation: https://pandas.pydata.org/pandas-docs/stable/user_guide/indexing.html#returning-a-view-versus-a-copy\n",
      "/opt/conda/lib/python3.7/site-packages/ipykernel_launcher.py:62: SettingWithCopyWarning: \n",
      "A value is trying to be set on a copy of a slice from a DataFrame.\n",
      "Try using .loc[row_indexer,col_indexer] = value instead\n",
      "\n",
      "See the caveats in the documentation: https://pandas.pydata.org/pandas-docs/stable/user_guide/indexing.html#returning-a-view-versus-a-copy\n",
      "1138812it [00:18, 61026.69it/s]\n",
      "1138812it [00:30, 37531.05it/s]\n"
     ]
    },
    {
     "name": "stdout",
     "output_type": "stream",
     "text": [
      "1138812\n",
      "1138812\n",
      "count    1.138812e+06\n",
      "mean     4.345595e-05\n",
      "std      6.851091e-04\n",
      "min      0.000000e+00\n",
      "25%      2.556714e-06\n",
      "50%      6.575051e-06\n",
      "75%      1.946656e-05\n",
      "max      3.025971e-01\n",
      "Name: distance, dtype: float64\n",
      "1\n",
      "\n"
     ]
    },
    {
     "name": "stderr",
     "output_type": "stream",
     "text": [
      "1138812it [00:18, 61241.44it/s]\n",
      "1138812it [00:30, 37718.08it/s]\n"
     ]
    },
    {
     "name": "stdout",
     "output_type": "stream",
     "text": [
      "1138812\n",
      "230808\n",
      "count    230808.000000\n",
      "mean          0.000066\n",
      "std           0.000602\n",
      "min           0.000000\n",
      "25%           0.000004\n",
      "50%           0.000011\n",
      "75%           0.000030\n",
      "max           0.087485\n",
      "Name: distance, dtype: float64\n",
      "2\n",
      "\n"
     ]
    },
    {
     "name": "stderr",
     "output_type": "stream",
     "text": [
      "1138812it [00:18, 62155.45it/s]\n",
      "1138812it [00:30, 37497.61it/s]\n"
     ]
    },
    {
     "name": "stdout",
     "output_type": "stream",
     "text": [
      "1138812\n",
      "189743\n",
      "count    189743.000000\n",
      "mean          0.000093\n",
      "std           0.000751\n",
      "min           0.000000\n",
      "25%           0.000006\n",
      "50%           0.000016\n",
      "75%           0.000047\n",
      "max           0.088757\n",
      "Name: distance, dtype: float64\n",
      "3\n",
      "\n"
     ]
    },
    {
     "name": "stderr",
     "output_type": "stream",
     "text": [
      "1138812it [00:18, 62206.86it/s]\n",
      "1138812it [00:30, 37926.16it/s]\n"
     ]
    },
    {
     "name": "stdout",
     "output_type": "stream",
     "text": [
      "1138812\n",
      "162571\n",
      "count    162571.000000\n",
      "mean          0.000118\n",
      "std           0.000911\n",
      "min           0.000000\n",
      "25%           0.000007\n",
      "50%           0.000019\n",
      "75%           0.000057\n",
      "max           0.104027\n",
      "Name: distance, dtype: float64\n",
      "4\n",
      "\n"
     ]
    },
    {
     "name": "stderr",
     "output_type": "stream",
     "text": [
      "1138812it [00:18, 61385.77it/s]\n",
      "1138812it [00:29, 38082.28it/s]\n"
     ]
    },
    {
     "name": "stdout",
     "output_type": "stream",
     "text": [
      "1138812\n",
      "147719\n",
      "count    147719.000000\n",
      "mean          0.000143\n",
      "std           0.001051\n",
      "min           0.000000\n",
      "25%           0.000009\n",
      "50%           0.000023\n",
      "75%           0.000070\n",
      "max           0.169527\n",
      "Name: distance, dtype: float64\n",
      "5\n",
      "\n"
     ]
    },
    {
     "name": "stderr",
     "output_type": "stream",
     "text": [
      "1138812it [00:18, 62145.28it/s]\n",
      "1138812it [00:30, 37846.34it/s]\n"
     ]
    },
    {
     "name": "stdout",
     "output_type": "stream",
     "text": [
      "1138812\n",
      "136858\n",
      "count    136858.000000\n",
      "mean          0.000170\n",
      "std           0.001283\n",
      "min           0.000000\n",
      "25%           0.000010\n",
      "50%           0.000026\n",
      "75%           0.000081\n",
      "max           0.169527\n",
      "Name: distance, dtype: float64\n",
      "6\n",
      "\n"
     ]
    },
    {
     "name": "stderr",
     "output_type": "stream",
     "text": [
      "1138812it [00:18, 62108.54it/s]\n",
      "1138812it [00:29, 37987.66it/s]\n"
     ]
    },
    {
     "name": "stdout",
     "output_type": "stream",
     "text": [
      "1138812\n",
      "128454\n",
      "count    128454.000000\n",
      "mean          0.000184\n",
      "std           0.001106\n",
      "min           0.000000\n",
      "25%           0.000011\n",
      "50%           0.000029\n",
      "75%           0.000091\n",
      "max           0.092030\n",
      "Name: distance, dtype: float64\n",
      "7\n",
      "\n"
     ]
    },
    {
     "name": "stderr",
     "output_type": "stream",
     "text": [
      "1138812it [00:18, 61629.63it/s]\n",
      "1138812it [00:29, 38278.80it/s]\n"
     ]
    },
    {
     "name": "stdout",
     "output_type": "stream",
     "text": [
      "1138812\n",
      "122341\n",
      "count    122341.000000\n",
      "mean          0.000214\n",
      "std           0.001429\n",
      "min           0.000000\n",
      "25%           0.000012\n",
      "50%           0.000032\n",
      "75%           0.000100\n",
      "max           0.182725\n",
      "Name: distance, dtype: float64\n",
      "8\n",
      "\n"
     ]
    },
    {
     "name": "stderr",
     "output_type": "stream",
     "text": [
      "1138812it [00:18, 61545.49it/s]\n",
      "1138812it [00:30, 37865.26it/s]\n"
     ]
    },
    {
     "name": "stdout",
     "output_type": "stream",
     "text": [
      "1138812\n",
      "117092\n",
      "count    117092.000000\n",
      "mean          0.000223\n",
      "std           0.001306\n",
      "min           0.000000\n",
      "25%           0.000013\n",
      "50%           0.000035\n",
      "75%           0.000109\n",
      "max           0.118887\n",
      "Name: distance, dtype: float64\n",
      "9\n",
      "\n"
     ]
    },
    {
     "name": "stderr",
     "output_type": "stream",
     "text": [
      "1138812it [00:18, 62147.40it/s]\n",
      "1138812it [00:30, 37819.41it/s]\n"
     ]
    },
    {
     "name": "stdout",
     "output_type": "stream",
     "text": [
      "1138812\n",
      "112923\n",
      "count    112923.000000\n",
      "mean          0.000245\n",
      "std           0.001403\n",
      "min           0.000000\n",
      "25%           0.000014\n",
      "50%           0.000038\n",
      "75%           0.000120\n",
      "max           0.167942\n",
      "Name: distance, dtype: float64\n",
      "10\n",
      "\n"
     ]
    },
    {
     "name": "stderr",
     "output_type": "stream",
     "text": [
      "1138812it [00:18, 61916.12it/s]\n",
      "1138812it [00:30, 37536.63it/s]\n"
     ]
    },
    {
     "name": "stdout",
     "output_type": "stream",
     "text": [
      "1138812\n",
      "109251\n",
      "count    109251.000000\n",
      "mean          0.000282\n",
      "std           0.001989\n",
      "min           0.000000\n",
      "25%           0.000015\n",
      "50%           0.000041\n",
      "75%           0.000132\n",
      "max           0.290887\n",
      "Name: distance, dtype: float64\n",
      "11\n",
      "\n"
     ]
    },
    {
     "name": "stderr",
     "output_type": "stream",
     "text": [
      "1138812it [00:18, 62373.04it/s]\n",
      "1138812it [00:30, 37871.83it/s]\n"
     ]
    },
    {
     "name": "stdout",
     "output_type": "stream",
     "text": [
      "1138812\n",
      "105889\n",
      "count    105889.000000\n",
      "mean          0.000306\n",
      "std           0.001984\n",
      "min           0.000000\n",
      "25%           0.000016\n",
      "50%           0.000043\n",
      "75%           0.000140\n",
      "max           0.183242\n",
      "Name: distance, dtype: float64\n",
      "12\n",
      "\n"
     ]
    },
    {
     "name": "stderr",
     "output_type": "stream",
     "text": [
      "1138812it [00:18, 61293.82it/s]\n",
      "1138812it [00:30, 37685.85it/s]\n"
     ]
    },
    {
     "name": "stdout",
     "output_type": "stream",
     "text": [
      "1138812\n",
      "103268\n",
      "count    103268.000000\n",
      "mean          0.000314\n",
      "std           0.001845\n",
      "min           0.000000\n",
      "25%           0.000017\n",
      "50%           0.000046\n",
      "75%           0.000150\n",
      "max           0.136290\n",
      "Name: distance, dtype: float64\n",
      "13\n",
      "\n"
     ]
    },
    {
     "name": "stderr",
     "output_type": "stream",
     "text": [
      "1138812it [00:18, 61866.09it/s]\n",
      "1138812it [00:29, 38060.42it/s]\n"
     ]
    },
    {
     "name": "stdout",
     "output_type": "stream",
     "text": [
      "1138812\n",
      "100392\n",
      "count    100392.000000\n",
      "mean          0.000339\n",
      "std           0.002592\n",
      "min           0.000000\n",
      "25%           0.000018\n",
      "50%           0.000048\n",
      "75%           0.000157\n",
      "max           0.497345\n",
      "Name: distance, dtype: float64\n",
      "14\n",
      "\n"
     ]
    },
    {
     "name": "stderr",
     "output_type": "stream",
     "text": [
      "1138812it [00:18, 61816.45it/s]\n",
      "1138812it [00:30, 37957.42it/s]\n"
     ]
    },
    {
     "name": "stdout",
     "output_type": "stream",
     "text": [
      "1138812\n",
      "98177\n",
      "count    98177.000000\n",
      "mean         0.000348\n",
      "std          0.002640\n",
      "min          0.000000\n",
      "25%          0.000019\n",
      "50%          0.000051\n",
      "75%          0.000169\n",
      "max          0.502337\n",
      "Name: distance, dtype: float64\n",
      "15\n",
      "\n"
     ]
    },
    {
     "name": "stderr",
     "output_type": "stream",
     "text": [
      "1138812it [00:18, 62006.18it/s]\n",
      "1138812it [00:29, 38068.36it/s]\n"
     ]
    },
    {
     "name": "stdout",
     "output_type": "stream",
     "text": [
      "1138812\n",
      "96527\n",
      "count    96527.000000\n",
      "mean         0.000379\n",
      "std          0.002396\n",
      "min          0.000000\n",
      "25%          0.000020\n",
      "50%          0.000054\n",
      "75%          0.000177\n",
      "max          0.198564\n",
      "Name: distance, dtype: float64\n",
      "16\n",
      "\n"
     ]
    },
    {
     "name": "stderr",
     "output_type": "stream",
     "text": [
      "1138812it [00:18, 61618.19it/s]\n",
      "1138812it [00:30, 37858.86it/s]\n"
     ]
    },
    {
     "name": "stdout",
     "output_type": "stream",
     "text": [
      "1138812\n",
      "94422\n",
      "count    94422.000000\n",
      "mean         0.000406\n",
      "std          0.003775\n",
      "min          0.000000\n",
      "25%          0.000021\n",
      "50%          0.000056\n",
      "75%          0.000184\n",
      "max          0.637220\n",
      "Name: distance, dtype: float64\n",
      "17\n",
      "\n"
     ]
    },
    {
     "name": "stderr",
     "output_type": "stream",
     "text": [
      "1138812it [00:18, 60998.96it/s]\n",
      "1138812it [00:29, 38102.80it/s]\n"
     ]
    },
    {
     "name": "stdout",
     "output_type": "stream",
     "text": [
      "1138812\n",
      "92445\n",
      "count    92445.000000\n",
      "mean         0.000399\n",
      "std          0.002491\n",
      "min          0.000000\n",
      "25%          0.000021\n",
      "50%          0.000059\n",
      "75%          0.000194\n",
      "max          0.198724\n",
      "Name: distance, dtype: float64\n",
      "18\n",
      "\n"
     ]
    },
    {
     "name": "stderr",
     "output_type": "stream",
     "text": [
      "1138812it [00:18, 62593.30it/s]\n",
      "1138812it [00:30, 37818.57it/s]\n"
     ]
    },
    {
     "name": "stdout",
     "output_type": "stream",
     "text": [
      "1138812\n",
      "91066\n",
      "count    91066.000000\n",
      "mean         0.000419\n",
      "std          0.002398\n",
      "min          0.000000\n",
      "25%          0.000022\n",
      "50%          0.000061\n",
      "75%          0.000204\n",
      "max          0.145392\n",
      "Name: distance, dtype: float64\n",
      "19\n",
      "\n"
     ]
    },
    {
     "name": "stderr",
     "output_type": "stream",
     "text": [
      "1138812it [00:18, 62379.03it/s]\n",
      "1138812it [00:29, 38086.57it/s]\n"
     ]
    },
    {
     "name": "stdout",
     "output_type": "stream",
     "text": [
      "1138812\n",
      "89972\n",
      "count    89972.000000\n",
      "mean         0.000443\n",
      "std          0.002631\n",
      "min          0.000000\n",
      "25%          0.000023\n",
      "50%          0.000064\n",
      "75%          0.000214\n",
      "max          0.180669\n",
      "Name: distance, dtype: float64\n",
      "20\n",
      "\n"
     ]
    },
    {
     "name": "stderr",
     "output_type": "stream",
     "text": [
      "1138812it [00:18, 62074.56it/s]\n",
      "1138812it [00:30, 37925.27it/s]\n"
     ]
    },
    {
     "name": "stdout",
     "output_type": "stream",
     "text": [
      "1138812\n",
      "88334\n",
      "count    88334.000000\n",
      "mean         0.000472\n",
      "std          0.002796\n",
      "min          0.000000\n",
      "25%          0.000024\n",
      "50%          0.000067\n",
      "75%          0.000224\n",
      "max          0.180811\n",
      "Name: distance, dtype: float64\n",
      "21\n",
      "\n"
     ]
    },
    {
     "name": "stderr",
     "output_type": "stream",
     "text": [
      "1138812it [00:18, 62103.69it/s]\n",
      "1138812it [00:29, 37993.99it/s]\n"
     ]
    },
    {
     "name": "stdout",
     "output_type": "stream",
     "text": [
      "1138812\n",
      "86787\n",
      "count    86787.000000\n",
      "mean         0.000487\n",
      "std          0.003322\n",
      "min          0.000000\n",
      "25%          0.000025\n",
      "50%          0.000068\n",
      "75%          0.000227\n",
      "max          0.439845\n",
      "Name: distance, dtype: float64\n",
      "22\n",
      "\n"
     ]
    },
    {
     "name": "stderr",
     "output_type": "stream",
     "text": [
      "1138812it [00:18, 61726.97it/s]\n",
      "1138812it [00:30, 37513.41it/s]\n"
     ]
    },
    {
     "name": "stdout",
     "output_type": "stream",
     "text": [
      "1138812\n",
      "85933\n",
      "count    85933.000000\n",
      "mean         0.000496\n",
      "std          0.003306\n",
      "min          0.000000\n",
      "25%          0.000026\n",
      "50%          0.000070\n",
      "75%          0.000234\n",
      "max          0.556267\n",
      "Name: distance, dtype: float64\n",
      "23\n",
      "\n"
     ]
    },
    {
     "name": "stderr",
     "output_type": "stream",
     "text": [
      "1138812it [00:18, 61244.40it/s]\n",
      "1138812it [00:30, 37613.44it/s]\n"
     ]
    },
    {
     "name": "stdout",
     "output_type": "stream",
     "text": [
      "1138812\n",
      "84768\n",
      "count    84768.000000\n",
      "mean         0.000529\n",
      "std          0.003212\n",
      "min          0.000000\n",
      "25%          0.000026\n",
      "50%          0.000072\n",
      "75%          0.000242\n",
      "max          0.238876\n",
      "Name: distance, dtype: float64\n",
      "24\n",
      "\n"
     ]
    },
    {
     "name": "stderr",
     "output_type": "stream",
     "text": [
      "1138812it [00:18, 61400.27it/s]\n",
      "1138812it [00:30, 37956.02it/s]\n"
     ]
    },
    {
     "name": "stdout",
     "output_type": "stream",
     "text": [
      "1138812\n",
      "83321\n",
      "count    83321.000000\n",
      "mean         0.000528\n",
      "std          0.003699\n",
      "min          0.000000\n",
      "25%          0.000027\n",
      "50%          0.000075\n",
      "75%          0.000253\n",
      "max          0.671636\n",
      "Name: distance, dtype: float64\n",
      "25\n",
      "\n"
     ]
    },
    {
     "name": "stderr",
     "output_type": "stream",
     "text": [
      "1138812it [00:18, 61797.09it/s]\n",
      "1138812it [00:29, 38258.82it/s]\n"
     ]
    },
    {
     "name": "stdout",
     "output_type": "stream",
     "text": [
      "1138812\n",
      "82945\n",
      "count    82945.000000\n",
      "mean         0.000543\n",
      "std          0.002887\n",
      "min          0.000000\n",
      "25%          0.000028\n",
      "50%          0.000078\n",
      "75%          0.000262\n",
      "max          0.174811\n",
      "Name: distance, dtype: float64\n",
      "26\n",
      "\n"
     ]
    },
    {
     "name": "stderr",
     "output_type": "stream",
     "text": [
      "1138812it [00:18, 62273.79it/s]\n",
      "1138812it [00:30, 37906.32it/s]\n"
     ]
    },
    {
     "name": "stdout",
     "output_type": "stream",
     "text": [
      "1138812\n",
      "81792\n",
      "count    81792.000000\n",
      "mean         0.000576\n",
      "std          0.003686\n",
      "min          0.000000\n",
      "25%          0.000029\n",
      "50%          0.000079\n",
      "75%          0.000270\n",
      "max          0.339810\n",
      "Name: distance, dtype: float64\n",
      "27\n",
      "\n"
     ]
    },
    {
     "name": "stderr",
     "output_type": "stream",
     "text": [
      "1138812it [00:18, 61782.86it/s]\n",
      "1138812it [00:30, 37736.57it/s]\n"
     ]
    },
    {
     "name": "stdout",
     "output_type": "stream",
     "text": [
      "1138812\n",
      "81297\n",
      "count    81297.000000\n",
      "mean         0.000571\n",
      "std          0.003323\n",
      "min          0.000000\n",
      "25%          0.000029\n",
      "50%          0.000080\n",
      "75%          0.000272\n",
      "max          0.339825\n",
      "Name: distance, dtype: float64\n",
      "28\n",
      "\n"
     ]
    },
    {
     "name": "stderr",
     "output_type": "stream",
     "text": [
      "1138812it [00:18, 61565.95it/s]\n",
      "1138812it [00:29, 38017.60it/s]\n"
     ]
    },
    {
     "name": "stdout",
     "output_type": "stream",
     "text": [
      "1138812\n",
      "79869\n",
      "count    79869.000000\n",
      "mean         0.000588\n",
      "std          0.003319\n",
      "min          0.000000\n",
      "25%          0.000030\n",
      "50%          0.000083\n",
      "75%          0.000282\n",
      "max          0.324853\n",
      "Name: distance, dtype: float64\n",
      "29\n",
      "\n"
     ]
    },
    {
     "name": "stderr",
     "output_type": "stream",
     "text": [
      "1138812it [00:18, 61785.47it/s]\n",
      "1138812it [00:30, 37773.66it/s]\n"
     ]
    },
    {
     "name": "stdout",
     "output_type": "stream",
     "text": [
      "1138812\n",
      "79114\n",
      "count    79114.000000\n",
      "mean         0.000602\n",
      "std          0.003174\n",
      "min          0.000000\n",
      "25%          0.000031\n",
      "50%          0.000085\n",
      "75%          0.000287\n",
      "max          0.193588\n",
      "Name: distance, dtype: float64\n",
      "30\n",
      "\n"
     ]
    },
    {
     "name": "stderr",
     "output_type": "stream",
     "text": [
      "1138812it [00:18, 61943.04it/s]\n",
      "1138812it [00:29, 38082.37it/s]\n"
     ]
    },
    {
     "name": "stdout",
     "output_type": "stream",
     "text": [
      "1138812\n",
      "78623\n",
      "count    78623.000000\n",
      "mean         0.000607\n",
      "std          0.003541\n",
      "min          0.000000\n",
      "25%          0.000032\n",
      "50%          0.000088\n",
      "75%          0.000302\n",
      "max          0.348614\n",
      "Name: distance, dtype: float64\n",
      "31\n",
      "\n"
     ]
    },
    {
     "name": "stderr",
     "output_type": "stream",
     "text": [
      "1138812it [00:18, 62053.52it/s]\n",
      "1138812it [00:30, 37819.79it/s]\n"
     ]
    },
    {
     "name": "stdout",
     "output_type": "stream",
     "text": [
      "1138812\n",
      "77750\n",
      "count    77750.000000\n",
      "mean         0.000622\n",
      "std          0.003159\n",
      "min          0.000000\n",
      "25%          0.000033\n",
      "50%          0.000090\n",
      "75%          0.000306\n",
      "max          0.233002\n",
      "Name: distance, dtype: float64\n",
      "32\n",
      "\n"
     ]
    },
    {
     "name": "stderr",
     "output_type": "stream",
     "text": [
      "1138812it [00:18, 61646.58it/s]\n",
      "1138812it [00:29, 38193.56it/s]\n"
     ]
    },
    {
     "name": "stdout",
     "output_type": "stream",
     "text": [
      "1138812\n",
      "77345\n",
      "count    77345.000000\n",
      "mean         0.000638\n",
      "std          0.003785\n",
      "min          0.000000\n",
      "25%          0.000033\n",
      "50%          0.000093\n",
      "75%          0.000316\n",
      "max          0.558826\n",
      "Name: distance, dtype: float64\n",
      "33\n",
      "\n"
     ]
    },
    {
     "name": "stderr",
     "output_type": "stream",
     "text": [
      "1138812it [00:18, 61598.60it/s]\n",
      "1138812it [00:30, 37758.84it/s]\n"
     ]
    },
    {
     "name": "stdout",
     "output_type": "stream",
     "text": [
      "1138812\n",
      "76459\n",
      "count    76459.000000\n",
      "mean         0.000669\n",
      "std          0.004292\n",
      "min          0.000000\n",
      "25%          0.000034\n",
      "50%          0.000095\n",
      "75%          0.000321\n",
      "max          0.608830\n",
      "Name: distance, dtype: float64\n",
      "34\n",
      "\n"
     ]
    },
    {
     "name": "stderr",
     "output_type": "stream",
     "text": [
      "1138812it [00:18, 60975.35it/s]\n",
      "1138812it [00:30, 37812.73it/s]\n"
     ]
    },
    {
     "name": "stdout",
     "output_type": "stream",
     "text": [
      "1138812\n",
      "75697\n",
      "count    75697.000000\n",
      "mean         0.000668\n",
      "std          0.004008\n",
      "min          0.000000\n",
      "25%          0.000035\n",
      "50%          0.000097\n",
      "75%          0.000333\n",
      "max          0.608831\n",
      "Name: distance, dtype: float64\n",
      "35\n",
      "\n"
     ]
    },
    {
     "name": "stderr",
     "output_type": "stream",
     "text": [
      "1138812it [00:18, 61698.24it/s]\n",
      "1138812it [00:30, 37604.61it/s]\n"
     ]
    },
    {
     "name": "stdout",
     "output_type": "stream",
     "text": [
      "1138812\n",
      "74997\n",
      "count    74997.000000\n",
      "mean         0.000667\n",
      "std          0.003423\n",
      "min          0.000000\n",
      "25%          0.000036\n",
      "50%          0.000100\n",
      "75%          0.000334\n",
      "max          0.387777\n",
      "Name: distance, dtype: float64\n",
      "36\n",
      "\n"
     ]
    },
    {
     "name": "stderr",
     "output_type": "stream",
     "text": [
      "1138812it [00:18, 62088.05it/s]\n",
      "1138812it [00:30, 37859.27it/s]\n"
     ]
    },
    {
     "name": "stdout",
     "output_type": "stream",
     "text": [
      "1138812\n",
      "74497\n",
      "count    74497.000000\n",
      "mean         0.000692\n",
      "std          0.003344\n",
      "min          0.000000\n",
      "25%          0.000036\n",
      "50%          0.000103\n",
      "75%          0.000347\n",
      "max          0.195352\n",
      "Name: distance, dtype: float64\n",
      "37\n",
      "\n"
     ]
    },
    {
     "name": "stderr",
     "output_type": "stream",
     "text": [
      "1138812it [00:18, 62183.24it/s]\n",
      "1138812it [00:30, 37934.75it/s]\n"
     ]
    },
    {
     "name": "stdout",
     "output_type": "stream",
     "text": [
      "1138812\n",
      "73944\n",
      "count    73944.000000\n",
      "mean         0.000741\n",
      "std          0.003996\n",
      "min          0.000000\n",
      "25%          0.000038\n",
      "50%          0.000105\n",
      "75%          0.000357\n",
      "max          0.410922\n",
      "Name: distance, dtype: float64\n",
      "38\n",
      "\n"
     ]
    },
    {
     "name": "stderr",
     "output_type": "stream",
     "text": [
      "1138812it [00:18, 61846.35it/s]\n",
      "1138812it [00:29, 38106.58it/s]\n"
     ]
    },
    {
     "name": "stdout",
     "output_type": "stream",
     "text": [
      "1138812\n",
      "73961\n",
      "count    73961.000000\n",
      "mean         0.000728\n",
      "std          0.003502\n",
      "min          0.000000\n",
      "25%          0.000038\n",
      "50%          0.000106\n",
      "75%          0.000362\n",
      "max          0.172347\n",
      "Name: distance, dtype: float64\n",
      "39\n",
      "\n"
     ]
    },
    {
     "name": "stderr",
     "output_type": "stream",
     "text": [
      "1138812it [00:18, 61249.47it/s]\n",
      "1138812it [00:30, 37933.95it/s]\n"
     ]
    },
    {
     "name": "stdout",
     "output_type": "stream",
     "text": [
      "1138812\n",
      "72731\n",
      "count    72731.000000\n",
      "mean         0.000734\n",
      "std          0.003967\n",
      "min          0.000000\n",
      "25%          0.000039\n",
      "50%          0.000110\n",
      "75%          0.000367\n",
      "max          0.351124\n",
      "Name: distance, dtype: float64\n",
      "40\n",
      "\n"
     ]
    },
    {
     "name": "stderr",
     "output_type": "stream",
     "text": [
      "1138812it [00:18, 61124.48it/s]\n",
      "1138812it [00:30, 37357.67it/s]\n"
     ]
    },
    {
     "name": "stdout",
     "output_type": "stream",
     "text": [
      "1138812\n",
      "72511\n",
      "count    72511.000000\n",
      "mean         0.000729\n",
      "std          0.004009\n",
      "min          0.000000\n",
      "25%          0.000039\n",
      "50%          0.000110\n",
      "75%          0.000373\n",
      "max          0.351409\n",
      "Name: distance, dtype: float64\n",
      "41\n",
      "\n"
     ]
    },
    {
     "name": "stderr",
     "output_type": "stream",
     "text": [
      "1138812it [00:18, 61529.14it/s]\n",
      "1138812it [00:30, 37510.94it/s]\n"
     ]
    },
    {
     "name": "stdout",
     "output_type": "stream",
     "text": [
      "1138812\n",
      "71771\n",
      "count    71771.000000\n",
      "mean         0.000743\n",
      "std          0.003705\n",
      "min          0.000000\n",
      "25%          0.000040\n",
      "50%          0.000114\n",
      "75%          0.000382\n",
      "max          0.351409\n",
      "Name: distance, dtype: float64\n",
      "42\n",
      "\n"
     ]
    },
    {
     "name": "stderr",
     "output_type": "stream",
     "text": [
      "1138812it [00:18, 61161.28it/s]\n",
      "1138812it [00:30, 37709.98it/s]\n"
     ]
    },
    {
     "name": "stdout",
     "output_type": "stream",
     "text": [
      "1138812\n",
      "71599\n",
      "count    71599.000000\n",
      "mean         0.000792\n",
      "std          0.004821\n",
      "min          0.000000\n",
      "25%          0.000041\n",
      "50%          0.000115\n",
      "75%          0.000388\n",
      "max          0.411603\n",
      "Name: distance, dtype: float64\n",
      "43\n",
      "\n"
     ]
    },
    {
     "name": "stderr",
     "output_type": "stream",
     "text": [
      "1138812it [00:18, 60932.49it/s]\n",
      "1138812it [00:30, 37908.36it/s]\n"
     ]
    },
    {
     "name": "stdout",
     "output_type": "stream",
     "text": [
      "1138812\n",
      "71258\n",
      "count    71258.000000\n",
      "mean         0.000805\n",
      "std          0.004449\n",
      "min          0.000000\n",
      "25%          0.000043\n",
      "50%          0.000121\n",
      "75%          0.000408\n",
      "max          0.398177\n",
      "Name: distance, dtype: float64\n",
      "44\n",
      "\n"
     ]
    },
    {
     "name": "stderr",
     "output_type": "stream",
     "text": [
      "1138812it [00:18, 61072.14it/s]\n",
      "1138812it [00:30, 37610.72it/s]\n"
     ]
    },
    {
     "name": "stdout",
     "output_type": "stream",
     "text": [
      "1138812\n",
      "70742\n",
      "count    70742.000000\n",
      "mean         0.000824\n",
      "std          0.005064\n",
      "min          0.000000\n",
      "25%          0.000043\n",
      "50%          0.000119\n",
      "75%          0.000405\n",
      "max          0.683675\n",
      "Name: distance, dtype: float64\n",
      "45\n",
      "\n"
     ]
    },
    {
     "name": "stderr",
     "output_type": "stream",
     "text": [
      "1138812it [00:18, 61275.93it/s]\n",
      "1138812it [00:30, 37894.71it/s]\n"
     ]
    },
    {
     "name": "stdout",
     "output_type": "stream",
     "text": [
      "1138812\n",
      "70124\n",
      "count    70124.000000\n",
      "mean         0.000832\n",
      "std          0.004640\n",
      "min          0.000000\n",
      "25%          0.000043\n",
      "50%          0.000121\n",
      "75%          0.000416\n",
      "max          0.683676\n",
      "Name: distance, dtype: float64\n",
      "46\n",
      "\n"
     ]
    },
    {
     "name": "stderr",
     "output_type": "stream",
     "text": [
      "1138812it [00:18, 61699.15it/s]\n",
      "1138812it [00:30, 37783.84it/s]\n"
     ]
    },
    {
     "name": "stdout",
     "output_type": "stream",
     "text": [
      "1138812\n",
      "69459\n",
      "count    69459.000000\n",
      "mean         0.000835\n",
      "std          0.004216\n",
      "min          0.000000\n",
      "25%          0.000044\n",
      "50%          0.000125\n",
      "75%          0.000428\n",
      "max          0.305602\n",
      "Name: distance, dtype: float64\n",
      "47\n",
      "\n"
     ]
    },
    {
     "name": "stderr",
     "output_type": "stream",
     "text": [
      "1138812it [00:18, 62125.67it/s]\n",
      "1138812it [00:30, 37945.65it/s]\n"
     ]
    },
    {
     "name": "stdout",
     "output_type": "stream",
     "text": [
      "1138812\n",
      "69709\n",
      "count    69709.000000\n",
      "mean         0.000834\n",
      "std          0.004412\n",
      "min          0.000000\n",
      "25%          0.000045\n",
      "50%          0.000126\n",
      "75%          0.000424\n",
      "max          0.395419\n",
      "Name: distance, dtype: float64\n",
      "48\n",
      "\n"
     ]
    },
    {
     "name": "stderr",
     "output_type": "stream",
     "text": [
      "1138812it [00:18, 61095.63it/s]\n",
      "1138812it [00:30, 37803.78it/s]\n"
     ]
    },
    {
     "name": "stdout",
     "output_type": "stream",
     "text": [
      "1138812\n",
      "68769\n",
      "count    68769.000000\n",
      "mean         0.000870\n",
      "std          0.004719\n",
      "min          0.000000\n",
      "25%          0.000045\n",
      "50%          0.000128\n",
      "75%          0.000434\n",
      "max          0.395420\n",
      "Name: distance, dtype: float64\n",
      "49\n",
      "\n"
     ]
    },
    {
     "name": "stderr",
     "output_type": "stream",
     "text": [
      "1138812it [00:18, 61957.92it/s]\n",
      "1138812it [00:29, 38081.94it/s]\n"
     ]
    },
    {
     "name": "stdout",
     "output_type": "stream",
     "text": [
      "1138812\n",
      "68291\n",
      "count    68291.000000\n",
      "mean         0.000890\n",
      "std          0.004786\n",
      "min          0.000000\n",
      "25%          0.000046\n",
      "50%          0.000129\n",
      "75%          0.000447\n",
      "max          0.374416\n",
      "Name: distance, dtype: float64\n",
      "50\n",
      "\n"
     ]
    },
    {
     "name": "stderr",
     "output_type": "stream",
     "text": [
      "1138812it [00:18, 61869.70it/s]\n",
      "1138812it [00:30, 37778.84it/s]\n"
     ]
    },
    {
     "name": "stdout",
     "output_type": "stream",
     "text": [
      "1138812\n",
      "67953\n",
      "count    67953.000000\n",
      "mean         0.000905\n",
      "std          0.004570\n",
      "min          0.000000\n",
      "25%          0.000047\n",
      "50%          0.000132\n",
      "75%          0.000456\n",
      "max          0.374433\n",
      "Name: distance, dtype: float64\n",
      "51\n",
      "\n"
     ]
    },
    {
     "name": "stderr",
     "output_type": "stream",
     "text": [
      "1138812it [00:18, 61661.48it/s]\n",
      "1138812it [00:29, 38093.70it/s]\n"
     ]
    },
    {
     "name": "stdout",
     "output_type": "stream",
     "text": [
      "1138812\n",
      "67616\n",
      "count    67616.000000\n",
      "mean         0.000908\n",
      "std          0.005309\n",
      "min          0.000000\n",
      "25%          0.000048\n",
      "50%          0.000134\n",
      "75%          0.000457\n",
      "max          0.515287\n",
      "Name: distance, dtype: float64\n",
      "52\n",
      "\n"
     ]
    },
    {
     "name": "stderr",
     "output_type": "stream",
     "text": [
      "1138812it [00:18, 61764.98it/s]\n",
      "1138812it [00:30, 37739.24it/s]\n"
     ]
    },
    {
     "name": "stdout",
     "output_type": "stream",
     "text": [
      "1138812\n",
      "66771\n",
      "count    66771.000000\n",
      "mean         0.000912\n",
      "std          0.004068\n",
      "min          0.000000\n",
      "25%          0.000048\n",
      "50%          0.000137\n",
      "75%          0.000471\n",
      "max          0.288612\n",
      "Name: distance, dtype: float64\n",
      "53\n",
      "\n"
     ]
    },
    {
     "name": "stderr",
     "output_type": "stream",
     "text": [
      "1138812it [00:18, 62306.42it/s]\n",
      "1138812it [00:29, 38223.32it/s]\n"
     ]
    },
    {
     "name": "stdout",
     "output_type": "stream",
     "text": [
      "1138812\n",
      "67072\n",
      "count    67072.000000\n",
      "mean         0.000963\n",
      "std          0.006278\n",
      "min          0.000000\n",
      "25%          0.000049\n",
      "50%          0.000138\n",
      "75%          0.000480\n",
      "max          0.559485\n",
      "Name: distance, dtype: float64\n",
      "54\n",
      "\n"
     ]
    },
    {
     "name": "stderr",
     "output_type": "stream",
     "text": [
      "1138812it [00:18, 62442.62it/s]\n",
      "1138812it [00:30, 37815.83it/s]\n"
     ]
    },
    {
     "name": "stdout",
     "output_type": "stream",
     "text": [
      "1138812\n",
      "67017\n",
      "count    67017.000000\n",
      "mean         0.000961\n",
      "std          0.004891\n",
      "min          0.000000\n",
      "25%          0.000050\n",
      "50%          0.000141\n",
      "75%          0.000482\n",
      "max          0.464168\n",
      "Name: distance, dtype: float64\n",
      "55\n",
      "\n"
     ]
    },
    {
     "name": "stderr",
     "output_type": "stream",
     "text": [
      "1138812it [00:18, 60733.13it/s]\n",
      "1138812it [00:30, 37945.22it/s]\n"
     ]
    },
    {
     "name": "stdout",
     "output_type": "stream",
     "text": [
      "1138812\n",
      "66551\n",
      "count    66551.000000\n",
      "mean         0.000958\n",
      "std          0.005160\n",
      "min          0.000000\n",
      "25%          0.000050\n",
      "50%          0.000143\n",
      "75%          0.000490\n",
      "max          0.517917\n",
      "Name: distance, dtype: float64\n",
      "56\n",
      "\n"
     ]
    },
    {
     "name": "stderr",
     "output_type": "stream",
     "text": [
      "1138812it [00:18, 62154.22it/s]\n",
      "1138812it [00:29, 38211.89it/s]\n"
     ]
    },
    {
     "name": "stdout",
     "output_type": "stream",
     "text": [
      "1138812\n",
      "65924\n",
      "count    65924.000000\n",
      "mean         0.001001\n",
      "std          0.004678\n",
      "min          0.000000\n",
      "25%          0.000051\n",
      "50%          0.000146\n",
      "75%          0.000501\n",
      "max          0.314467\n",
      "Name: distance, dtype: float64\n",
      "57\n",
      "\n"
     ]
    },
    {
     "name": "stderr",
     "output_type": "stream",
     "text": [
      "1138812it [00:18, 62469.38it/s]\n",
      "1138812it [00:29, 38176.78it/s]\n"
     ]
    },
    {
     "name": "stdout",
     "output_type": "stream",
     "text": [
      "1138812\n",
      "65544\n",
      "count    65544.000000\n",
      "mean         0.000958\n",
      "std          0.003842\n",
      "min          0.000000\n",
      "25%          0.000052\n",
      "50%          0.000148\n",
      "75%          0.000510\n",
      "max          0.311731\n",
      "Name: distance, dtype: float64\n",
      "58\n",
      "\n"
     ]
    },
    {
     "name": "stderr",
     "output_type": "stream",
     "text": [
      "1138812it [00:18, 61109.97it/s]\n",
      "1138812it [00:29, 38149.73it/s]\n"
     ]
    },
    {
     "name": "stdout",
     "output_type": "stream",
     "text": [
      "1138812\n",
      "65872\n",
      "count    65872.000000\n",
      "mean         0.001002\n",
      "std          0.005186\n",
      "min          0.000000\n",
      "25%          0.000052\n",
      "50%          0.000150\n",
      "75%          0.000513\n",
      "max          0.706729\n",
      "Name: distance, dtype: float64\n",
      "59\n",
      "\n"
     ]
    },
    {
     "name": "stderr",
     "output_type": "stream",
     "text": [
      "1138812it [00:18, 61549.54it/s]\n",
      "1138812it [00:29, 38065.03it/s]\n"
     ]
    },
    {
     "name": "stdout",
     "output_type": "stream",
     "text": [
      "1138812\n",
      "65242\n",
      "count    65242.000000\n",
      "mean         0.001003\n",
      "std          0.004740\n",
      "min          0.000000\n",
      "25%          0.000053\n",
      "50%          0.000151\n",
      "75%          0.000525\n",
      "max          0.378813\n",
      "Name: distance, dtype: float64\n",
      "60\n",
      "\n",
      "6428689\n",
      "7852163\n",
      "7852163\n"
     ]
    },
    {
     "data": {
      "text/plain": [
       "0"
      ]
     },
     "execution_count": 11,
     "metadata": {},
     "output_type": "execute_result"
    }
   ],
   "source": [
    "df_neighbors=create_candidates(df_train[['id','latitude','longitude']],measure_variables=[\"latitude\",\"longitude\"],n_nearest=61,data_features=df_train[[\"id\",\"name\"]])\n",
    "\n",
    "print(len(df_neighbors))\n",
    "\n",
    "df_neighbors=pd.concat([df_neighbors,neighbors_strings],ignore_index=True)\n",
    "\n",
    "df_neighbors=df_neighbors.drop_duplicates([\"id\",\"id_match\"]).reset_index(drop=True)\n",
    "\n",
    "del neighbors_strings ; gc.collect()"
   ]
  },
  {
   "cell_type": "code",
   "execution_count": 12,
   "id": "19bc3206",
   "metadata": {
    "execution": {
     "iopub.execute_input": "2022-07-21T01:46:10.993194Z",
     "iopub.status.busy": "2022-07-21T01:46:10.992286Z",
     "iopub.status.idle": "2022-07-21T01:46:11.000291Z",
     "shell.execute_reply": "2022-07-21T01:46:10.999339Z"
    },
    "papermill": {
     "duration": 2.78077,
     "end_time": "2022-07-21T01:46:11.003167",
     "exception": false,
     "start_time": "2022-07-21T01:46:08.222397",
     "status": "completed"
    },
    "tags": []
   },
   "outputs": [
    {
     "data": {
      "text/plain": [
       "7860353"
      ]
     },
     "execution_count": 12,
     "metadata": {},
     "output_type": "execute_result"
    }
   ],
   "source": [
    "len(df_neighbors)"
   ]
  },
  {
   "cell_type": "code",
   "execution_count": 13,
   "id": "77e16c8d",
   "metadata": {
    "execution": {
     "iopub.execute_input": "2022-07-21T01:46:16.662950Z",
     "iopub.status.busy": "2022-07-21T01:46:16.662559Z",
     "iopub.status.idle": "2022-07-21T01:46:16.668714Z",
     "shell.execute_reply": "2022-07-21T01:46:16.667938Z"
    },
    "papermill": {
     "duration": 2.840635,
     "end_time": "2022-07-21T01:46:16.671451",
     "exception": false,
     "start_time": "2022-07-21T01:46:13.830816",
     "status": "completed"
    },
    "tags": []
   },
   "outputs": [
    {
     "data": {
      "text/plain": [
       "Index(['id', 'distance', 'id_match', 'n_neighbor', 'name', 'name_match_id',\n",
       "       'jaccard_distance_match_name_', 'jaro_winkler_distance_match_name_',\n",
       "       'jaccard_distance_match_name_unidecode',\n",
       "       'jaro_winkler_distance_match_name_unidecode'],\n",
       "      dtype='object')"
      ]
     },
     "execution_count": 13,
     "metadata": {},
     "output_type": "execute_result"
    }
   ],
   "source": [
    "df_neighbors.columns"
   ]
  },
  {
   "cell_type": "code",
   "execution_count": 14,
   "id": "657aa184",
   "metadata": {
    "execution": {
     "iopub.execute_input": "2022-07-21T01:46:22.376104Z",
     "iopub.status.busy": "2022-07-21T01:46:22.375402Z",
     "iopub.status.idle": "2022-07-21T01:46:22.395363Z",
     "shell.execute_reply": "2022-07-21T01:46:22.394496Z"
    },
    "papermill": {
     "duration": 2.892114,
     "end_time": "2022-07-21T01:46:22.398127",
     "exception": false,
     "start_time": "2022-07-21T01:46:19.506013",
     "status": "completed"
    },
    "tags": []
   },
   "outputs": [
    {
     "data": {
      "text/html": [
       "<div>\n",
       "<style scoped>\n",
       "    .dataframe tbody tr th:only-of-type {\n",
       "        vertical-align: middle;\n",
       "    }\n",
       "\n",
       "    .dataframe tbody tr th {\n",
       "        vertical-align: top;\n",
       "    }\n",
       "\n",
       "    .dataframe thead th {\n",
       "        text-align: right;\n",
       "    }\n",
       "</style>\n",
       "<table border=\"1\" class=\"dataframe\">\n",
       "  <thead>\n",
       "    <tr style=\"text-align: right;\">\n",
       "      <th></th>\n",
       "      <th>id</th>\n",
       "      <th>distance</th>\n",
       "      <th>id_match</th>\n",
       "      <th>n_neighbor</th>\n",
       "      <th>name</th>\n",
       "      <th>name_match_id</th>\n",
       "      <th>jaccard_distance_match_name_</th>\n",
       "      <th>jaro_winkler_distance_match_name_</th>\n",
       "      <th>jaccard_distance_match_name_unidecode</th>\n",
       "      <th>jaro_winkler_distance_match_name_unidecode</th>\n",
       "    </tr>\n",
       "  </thead>\n",
       "  <tbody>\n",
       "    <tr>\n",
       "      <th>0</th>\n",
       "      <td>E_000001272c6c5d</td>\n",
       "      <td>0.000021</td>\n",
       "      <td>E_9e4a5adfe5b1c5</td>\n",
       "      <td>1</td>\n",
       "      <td>Café Stad Oudenaarde</td>\n",
       "      <td>Frituur De Groten Honger</td>\n",
       "      <td>0.000000</td>\n",
       "      <td>0.517929</td>\n",
       "      <td>0.000000</td>\n",
       "      <td>0.575000</td>\n",
       "    </tr>\n",
       "    <tr>\n",
       "      <th>1</th>\n",
       "      <td>E_000002eae2a589</td>\n",
       "      <td>0.000002</td>\n",
       "      <td>E_c12fb799a8a0e4</td>\n",
       "      <td>1</td>\n",
       "      <td>Carioca Manero</td>\n",
       "      <td>Claro</td>\n",
       "      <td>0.000000</td>\n",
       "      <td>0.725714</td>\n",
       "      <td>0.000000</td>\n",
       "      <td>0.725714</td>\n",
       "    </tr>\n",
       "    <tr>\n",
       "      <th>2</th>\n",
       "      <td>E_000007f24ebc95</td>\n",
       "      <td>0.000005</td>\n",
       "      <td>E_b664578fe0e8c2</td>\n",
       "      <td>1</td>\n",
       "      <td>ร้านตัดผมการาเกด</td>\n",
       "      <td>ร้านพี่นา</td>\n",
       "      <td>0.000000</td>\n",
       "      <td>0.773611</td>\n",
       "      <td>0.000000</td>\n",
       "      <td>0.792165</td>\n",
       "    </tr>\n",
       "    <tr>\n",
       "      <th>3</th>\n",
       "      <td>E_000008a8ba4f48</td>\n",
       "      <td>0.000003</td>\n",
       "      <td>E_40c486192f6105</td>\n",
       "      <td>1</td>\n",
       "      <td>Turkcell</td>\n",
       "      <td>ANker travel</td>\n",
       "      <td>0.000000</td>\n",
       "      <td>0.486111</td>\n",
       "      <td>0.000000</td>\n",
       "      <td>0.486111</td>\n",
       "    </tr>\n",
       "    <tr>\n",
       "      <th>4</th>\n",
       "      <td>E_00001d92066153</td>\n",
       "      <td>0.000002</td>\n",
       "      <td>E_7e0d8e9138dd56</td>\n",
       "      <td>1</td>\n",
       "      <td>Restaurante Casa Cofiño</td>\n",
       "      <td>Casa Cofiño</td>\n",
       "      <td>0.666667</td>\n",
       "      <td>0.356610</td>\n",
       "      <td>0.666667</td>\n",
       "      <td>0.429183</td>\n",
       "    </tr>\n",
       "  </tbody>\n",
       "</table>\n",
       "</div>"
      ],
      "text/plain": [
       "                 id  distance          id_match  n_neighbor  \\\n",
       "0  E_000001272c6c5d  0.000021  E_9e4a5adfe5b1c5           1   \n",
       "1  E_000002eae2a589  0.000002  E_c12fb799a8a0e4           1   \n",
       "2  E_000007f24ebc95  0.000005  E_b664578fe0e8c2           1   \n",
       "3  E_000008a8ba4f48  0.000003  E_40c486192f6105           1   \n",
       "4  E_00001d92066153  0.000002  E_7e0d8e9138dd56           1   \n",
       "\n",
       "                      name             name_match_id  \\\n",
       "0     Café Stad Oudenaarde  Frituur De Groten Honger   \n",
       "1           Carioca Manero                     Claro   \n",
       "2         ร้านตัดผมการาเกด                 ร้านพี่นา   \n",
       "3                 Turkcell              ANker travel   \n",
       "4  Restaurante Casa Cofiño               Casa Cofiño   \n",
       "\n",
       "   jaccard_distance_match_name_  jaro_winkler_distance_match_name_  \\\n",
       "0                      0.000000                           0.517929   \n",
       "1                      0.000000                           0.725714   \n",
       "2                      0.000000                           0.773611   \n",
       "3                      0.000000                           0.486111   \n",
       "4                      0.666667                           0.356610   \n",
       "\n",
       "   jaccard_distance_match_name_unidecode  \\\n",
       "0                               0.000000   \n",
       "1                               0.000000   \n",
       "2                               0.000000   \n",
       "3                               0.000000   \n",
       "4                               0.666667   \n",
       "\n",
       "   jaro_winkler_distance_match_name_unidecode  \n",
       "0                                    0.575000  \n",
       "1                                    0.725714  \n",
       "2                                    0.792165  \n",
       "3                                    0.486111  \n",
       "4                                    0.429183  "
      ]
     },
     "execution_count": 14,
     "metadata": {},
     "output_type": "execute_result"
    }
   ],
   "source": [
    "df_neighbors.head(5)"
   ]
  },
  {
   "cell_type": "code",
   "execution_count": 15,
   "id": "c13b32c8",
   "metadata": {
    "execution": {
     "iopub.execute_input": "2022-07-21T01:46:28.311518Z",
     "iopub.status.busy": "2022-07-21T01:46:28.311154Z",
     "iopub.status.idle": "2022-07-21T01:46:50.417948Z",
     "shell.execute_reply": "2022-07-21T01:46:50.416818Z"
    },
    "papermill": {
     "duration": 25.014441,
     "end_time": "2022-07-21T01:46:50.420821",
     "exception": false,
     "start_time": "2022-07-21T01:46:25.406380",
     "status": "completed"
    },
    "tags": []
   },
   "outputs": [
    {
     "data": {
      "text/plain": [
       "0"
      ]
     },
     "execution_count": 15,
     "metadata": {},
     "output_type": "execute_result"
    }
   ],
   "source": [
    "df_real_matches=df_train[['id','point_of_interest']].copy()\n",
    "\n",
    "df_points_matches=df_train.groupby('point_of_interest')['id'].apply(list).reset_index()\n",
    "\n",
    "df_points_matches=df_points_matches.rename(columns={'id':'id_match'})\n",
    "\n",
    "df_real_matches=df_real_matches.merge(df_points_matches,on='point_of_interest',how='left')\n",
    "\n",
    "df_real_matches=df_real_matches.drop('point_of_interest',axis='columns')\n",
    "\n",
    "del df_points_matches ; gc.collect()"
   ]
  },
  {
   "cell_type": "code",
   "execution_count": 16,
   "id": "c2f1643d",
   "metadata": {
    "execution": {
     "iopub.execute_input": "2022-07-21T01:46:56.135346Z",
     "iopub.status.busy": "2022-07-21T01:46:56.134597Z",
     "iopub.status.idle": "2022-07-21T03:18:36.123513Z",
     "shell.execute_reply": "2022-07-21T03:18:36.122045Z"
    },
    "papermill": {
     "duration": 5511.553043,
     "end_time": "2022-07-21T03:18:44.830057",
     "exception": false,
     "start_time": "2022-07-21T01:46:53.277014",
     "status": "completed"
    },
    "tags": []
   },
   "outputs": [
    {
     "name": "stdout",
     "output_type": "stream",
     "text": [
      "0.11520373194435415\n",
      "count    7.860353e+06\n",
      "mean     1.041436e+00\n",
      "std      3.222997e+01\n",
      "min      0.000000e+00\n",
      "25%      1.391294e-05\n",
      "50%      5.143858e-05\n",
      "75%      2.096843e-04\n",
      "max      9.990000e+02\n",
      "Name: distance, dtype: float64\n",
      "perfect jaccard score : \n"
     ]
    },
    {
     "name": "stderr",
     "output_type": "stream",
     "text": [
      "1138812it [00:03, 286109.95it/s]\n"
     ]
    },
    {
     "name": "stdout",
     "output_type": "stream",
     "text": [
      "0.9269549009883836\n",
      "0.9269549009883836\n",
      "zip\n",
      "country\n",
      "url\n",
      "phone\n",
      "categories\n"
     ]
    },
    {
     "name": "stderr",
     "output_type": "stream",
     "text": [
      "7860353it [13:43, 9547.86it/s] \n",
      "7860353it [04:24, 29701.26it/s]\n",
      "7860353it [05:12, 25176.35it/s]\n",
      "7860353it [10:58, 11940.74it/s]\n",
      "7860353it [04:03, 32310.40it/s]\n",
      "7860353it [10:03, 13032.05it/s]\n",
      "7860353it [01:28, 88819.74it/s]\n",
      "7860353it [02:04, 63070.41it/s]\n",
      "7860353it [01:24, 93241.49it/s]\n",
      "7860353it [01:56, 67274.84it/s]\n",
      "7860353it [01:23, 94127.13it/s]\n",
      "7860353it [01:32, 85214.35it/s]\n",
      "7860353it [05:16, 24830.15it/s]\n",
      "7860353it [01:52, 70103.84it/s]\n",
      "7860353it [01:52, 70059.26it/s]\n",
      "7860353it [01:53, 69331.39it/s]\n",
      "7860353it [01:52, 69593.04it/s]\n",
      "7860353it [01:55, 67860.06it/s]\n",
      "7860353it [01:57, 67038.80it/s]\n",
      "7860353it [01:22, 95002.88it/s]\n"
     ]
    },
    {
     "name": "stdout",
     "output_type": "stream",
     "text": [
      "Memory usage of dataframe is 5044.95 MB\n",
      "Memory usage after optimization is: 2391.29 MB\n",
      "Decreased by 52.6%\n"
     ]
    },
    {
     "data": {
      "text/plain": [
       "0"
      ]
     },
     "execution_count": 16,
     "metadata": {},
     "output_type": "execute_result"
    }
   ],
   "source": [
    "\n",
    "df_neighbors=get_match_variables(df_neighbors,df_train[['id',\"point_of_interest\",\"address\",'city', 'state', 'zip','country', 'url', 'phone','categories','latitude','longitude']])\n",
    "\n",
    "del df_train ; gc.collect()\n",
    "\n",
    "df_neighbors=df_neighbors.drop([\"id_match_id\"],axis='columns')\n",
    "\n",
    "df_neighbors['target']=(df_neighbors['point_of_interest']==df_neighbors['point_of_interest_match_id']).astype('int8')\n",
    "\n",
    "print(df_neighbors['target'].mean())\n",
    "\n",
    "print(df_neighbors['distance'].describe())\n",
    "\n",
    "print(\"perfect jaccard score : \")\n",
    "\n",
    "print(get_perfect_jaccard_score(data=df_neighbors[['id','id_match','target']]))\n",
    "\n",
    "df_neighbors=create_n_words(df_neighbors)\n",
    "\n",
    "df_neighbors=create_equal_indicator_features(df_neighbors,equal_variables=[ 'zip',\n",
    "       'country', 'url', 'phone','categories'])\n",
    "\n",
    "df_neighbors=metrics_similiarity(df_neighbors,'name',distances_list=[\"lcs\",\"levenshtein\",\"sequence_matcher\",\"first_match_indicator\",\"second_match_indicator\",\"first_indicator\",\"last_indicator\"])\n",
    "\n",
    "df_neighbors=metrics_similiarity(df_neighbors,'name',distances_list=[\"jaccard\"],remove_vowels=1,suffix=\"vowels_unicode\",make_unidecode=1)\n",
    "\n",
    "\n",
    "df_neighbors=metrics_similiarity(df_neighbors,'name',distances_list=[\"lcs\"],make_unidecode=1,suffix=\"unidecode\")\n",
    "\n",
    "df_neighbors=metrics_similiarity(df_neighbors,'address',distances_list=[\"jaccard\",\"levenshtein\",\"jaro_winkler\",\"sequence_matcher\"])\n",
    "\n",
    "df_neighbors=metrics_similiarity(df_neighbors,'address',distances_list=[\"jaccard\",\"jaro_winkler\"],make_unidecode=1,suffix=\"unidecode\")\n",
    "\n",
    "df_neighbors=metrics_similiarity(df_neighbors,'categories',distances_list=[\"jaccard\",\"levenshtein\",\"jaro_winkler\",\"sequence_matcher\"])\n",
    "\n",
    "df_neighbors=metrics_similiarity(df_neighbors,'city',distances_list=[\"jaccard\"])\n",
    "\n",
    "df_neighbors=metrics_similiarity(df_neighbors,'city',distances_list=[\"jaro_winkler\"],make_unidecode=1,suffix=\"unidecode\")\n",
    "\n",
    "df_neighbors=metrics_similiarity(df_neighbors,'state',distances_list=[\"jaccard\"])\n",
    "\n",
    "df_neighbors=metrics_similiarity(df_neighbors,'state',distances_list=[\"jaro_winkler\"],make_unidecode=1,suffix=\"unidecode\")\n",
    "\n",
    "df_neighbors=metrics_similiarity(df_neighbors,'zip',distances_list=[\"jaccard\"])\n",
    "\n",
    "df_neighbors=metrics_similiarity(df_neighbors,'zip',distances_list=[\"jaro_winkler\"],make_unidecode=1,suffix=\"unidecode\")\n",
    "\n",
    "\n",
    "df_neighbors=metrics_similiarity(df_neighbors,'phone',distances_list=[\"jaro_winkler\",\"sequence_matcher\"])\n",
    "\n",
    "df_neighbors=metrics_similiarity(df_neighbors,'name','url',distances_list=[\"jaro_winkler\"],suffix='url')\n",
    "\n",
    "df_neighbors=metrics_similiarity(df_neighbors,'name','url_match_id',distances_list=[\"jaro_winkler\"],suffix='url_match_id')\n",
    "\n",
    "df_neighbors=metrics_similiarity(df_neighbors,'name_match_id','url',distances_list=[\"jaro_winkler\"],suffix='url')\n",
    "\n",
    "df_neighbors=metrics_similiarity(df_neighbors,'name_match_id','url_match_id',distances_list=[\"jaro_winkler\"],suffix='url_match_id')\n",
    "\n",
    "df_neighbors=metrics_similiarity(df_neighbors,'name','address_match_id',distances_list=[\"jaccard\"],suffix='name_address')\n",
    "\n",
    "df_neighbors=metrics_similiarity(df_neighbors,'name_match_id','address',distances_list=[\"jaccard\"],suffix='name_match_id_address')\n",
    "\n",
    "\n",
    "df_neighbors=get_numbers_match(df_neighbors,'name')\n",
    "\n",
    "\n",
    "df_neighbors=reduce_mem_usage(df_neighbors)\n",
    "\n",
    "\n",
    "df_neighbors=get_categories_indicator(df_neighbors,\"categories\",count_vectorizer,10)\n",
    "\n",
    "df_neighbors=get_categories_indicator(df_neighbors,\"categories_match_id\",count_vectorizer,10)\n",
    "\n",
    "del count_vectorizer ; gc.collect()\n",
    "\n",
    "df_neighbors=get_tsvd_lda_vectors(df_neighbors,\"name\",name_vectorizer,name_tsvd_transformer)\n",
    "\n",
    "df_neighbors=get_tsvd_lda_vectors(df_neighbors,\"name_match_id\",name_vectorizer,name_tsvd_transformer)\n",
    "\n",
    "del name_vectorizer\n",
    "del name_tsvd_transformer ; gc.collect()\n",
    "\n",
    "df_neighbors=get_tsvd_lda_vectors(df_neighbors,\"categories\",categories_vectorizer,categories_tsvd_transformer)\n",
    "\n",
    "df_neighbors=get_tsvd_lda_vectors(df_neighbors,\"categories_match_id\",categories_vectorizer,categories_tsvd_transformer)\n",
    "\n",
    "del categories_vectorizer\n",
    "del categories_tsvd_transformer ; gc.collect()\n"
   ]
  },
  {
   "cell_type": "code",
   "execution_count": 17,
   "id": "16717b5b",
   "metadata": {
    "execution": {
     "iopub.execute_input": "2022-07-21T03:18:57.336815Z",
     "iopub.status.busy": "2022-07-21T03:18:57.336365Z",
     "iopub.status.idle": "2022-07-21T03:18:57.364626Z",
     "shell.execute_reply": "2022-07-21T03:18:57.363735Z"
    },
    "papermill": {
     "duration": 6.434465,
     "end_time": "2022-07-21T03:18:57.367397",
     "exception": false,
     "start_time": "2022-07-21T03:18:50.932932",
     "status": "completed"
    },
    "tags": []
   },
   "outputs": [],
   "source": [
    "def entrena_lgb(data,test,features,categorical,target):\n",
    "\n",
    "    kfold=GroupKFold(n_splits=5)\n",
    "\n",
    "\n",
    "    i=1\n",
    "\n",
    "    r=[]\n",
    "    \n",
    "    pred_test=np.zeros(len(test))\n",
    "\n",
    "    importancias=pd.DataFrame()\n",
    "\n",
    "    importancias['variable']=features\n",
    "    \n",
    "    list_models=[]\n",
    "    \n",
    "    \n",
    "    cat_ind=[features.index(x) for x in categorical if x in features]\n",
    "    \n",
    "    dict_cat={}\n",
    "    \n",
    "    categorical_numerical = data[categorical].dropna().select_dtypes(include=np.number).columns.tolist()\n",
    "    \n",
    "    categorical_transform=[x for x in categorical if x not in categorical_numerical]\n",
    "    \n",
    "    for l in categorical_transform:\n",
    "        le = preprocessing.LabelEncoder()\n",
    "        le.fit(list(data[l].dropna())+list(test[l].dropna()))\n",
    "\n",
    "        dict_cat[l]=le\n",
    "\n",
    "        data.loc[~data[l].isnull(),l]=le.transform(data.loc[~data[l].isnull(),l])\n",
    "        test.loc[~test[l].isnull(),l]=le.transform(test.loc[~test[l].isnull(),l])\n",
    "        \n",
    "        \n",
    "\n",
    "    for train_index,test_index in kfold.split(data,data[target],data['point_of_interest']):\n",
    "\n",
    "        lgb_data_train = lgb.Dataset(data.loc[train_index,features].values,data.loc[train_index,target].values)\n",
    "        lgb_data_eval = lgb.Dataset(data.loc[test_index,features].values,data.loc[test_index,target].values, reference=lgb_data_train)\n",
    "\n",
    "        params = {\n",
    "            'task': 'train',\n",
    "            'boosting_type': 'gbdt',\n",
    "            'objective': 'binary',\n",
    "            'metric': { 'auc'},\n",
    "            \"max_depth\":-1,\n",
    "            \"num_leaves\":256,\n",
    "            'learning_rate': 0.1,\n",
    "        \"min_child_samples\": 100,\n",
    "            'feature_fraction': 0.9,\n",
    "         \"bagging_freq\":1,\n",
    "            'bagging_fraction': 0.9,\n",
    "            \"lambda_l1\":10,\n",
    "            \"lambda_l2\":10,\n",
    "           # \"scale_pos_weight\":30,\n",
    "           # 'min_data_per_group':500,\n",
    "\n",
    "            'verbose': 1    \n",
    "        }\n",
    "\n",
    "\n",
    "\n",
    "\n",
    "        modelo = lgb.train(params,lgb_data_train,num_boost_round=13100,valid_sets=lgb_data_eval,early_stopping_rounds=50,verbose_eval=25,categorical_feature=cat_ind)\n",
    "\n",
    "        importancias['gain_'+str(i)]=modelo.feature_importance(importance_type=\"gain\")\n",
    "\n",
    "\n",
    "        data.loc[test_index,'estimator']=modelo.predict(data.loc[test_index,features].values, num_iteration=modelo.best_iteration)\n",
    "        \n",
    "        pred_test=pred_test+modelo.predict(test[features].values, num_iteration=modelo.best_iteration)\n",
    "        \n",
    "        list_models.append(modelo)\n",
    "\n",
    "        print (\"Fold_\"+str(i))\n",
    "        a= (roc_auc_score(data.loc[test_index,target],data.loc[test_index,'estimator']))\n",
    "        r.append(a)\n",
    "        print (a)\n",
    "        print (\"\")\n",
    "\n",
    "        i=i+1\n",
    "        \n",
    "    for l in categorical_transform:\n",
    "\n",
    "            data.loc[~data[l].isnull(),l]=dict_cat[l].inverse_transform(data.loc[~data[l].isnull(),l].astype(int))\n",
    "            \n",
    "            test.loc[~test[l].isnull(),l]=dict_cat[l].inverse_transform(test.loc[~test[l].isnull(),l].astype(int))\n",
    "            \n",
    "    var=[x for x in importancias.columns if 'gain_' in x]\n",
    "    importancias[\"gain_avg\"]=importancias[var].mean(axis=1)\n",
    "    importancias=importancias.sort_values(\"gain_avg\",ascending=False).reset_index(drop=True)\n",
    "    \n",
    "    pred_test=(pred_test/5)\n",
    "    \n",
    "    \n",
    "    oof=(roc_auc_score(data[target],data['estimator']))\n",
    "    \n",
    "    print (oof)\n",
    "    print (\"mean: \"+str(np.mean(np.array(r))))\n",
    "    print (\"std: \"+str(np.std(np.array(r))))\n",
    "    \n",
    "    dict_resultados={}\n",
    "    \n",
    "    dict_resultados['importancias']=importancias\n",
    "    \n",
    "    dict_resultados['predicciones']=pred_test\n",
    "    \n",
    "    dict_resultados['modelos']=list_models\n",
    "    \n",
    "    \n",
    "    \n",
    "    return dict_resultados"
   ]
  },
  {
   "cell_type": "code",
   "execution_count": 18,
   "id": "c2e64b38",
   "metadata": {
    "execution": {
     "iopub.execute_input": "2022-07-21T03:19:09.554430Z",
     "iopub.status.busy": "2022-07-21T03:19:09.553150Z",
     "iopub.status.idle": "2022-07-21T03:19:43.878989Z",
     "shell.execute_reply": "2022-07-21T03:19:43.872431Z"
    },
    "papermill": {
     "duration": 40.559645,
     "end_time": "2022-07-21T03:19:43.887511",
     "exception": false,
     "start_time": "2022-07-21T03:19:03.327866",
     "status": "completed"
    },
    "tags": []
   },
   "outputs": [],
   "source": [
    "variables_delete=['name', 'address', 'city', 'state', 'zip', 'country', 'url',\n",
    "       'phone', 'categories', \n",
    "       'name_match_id', \"latitude_match_id\",\"longitude_match_id\",\n",
    "       'address_match_id', 'city_match_id', 'state_match_id', 'zip_match_id',\n",
    "       'country_match_id', 'url_match_id', 'phone_match_id',\n",
    "       'categories_match_id', 'point_of_interest_match_id',\n",
    "         'numbers_name','numbers_name_match_id']\n",
    "    \n",
    "df_neighbors=df_neighbors.drop(variables_delete,axis=\"columns\")"
   ]
  },
  {
   "cell_type": "code",
   "execution_count": 19,
   "id": "44a38705",
   "metadata": {
    "execution": {
     "iopub.execute_input": "2022-07-21T03:19:56.527215Z",
     "iopub.status.busy": "2022-07-21T03:19:56.526715Z",
     "iopub.status.idle": "2022-07-21T03:20:51.521467Z",
     "shell.execute_reply": "2022-07-21T03:20:51.519880Z"
    },
    "papermill": {
     "duration": 61.418622,
     "end_time": "2022-07-21T03:20:51.524100",
     "exception": false,
     "start_time": "2022-07-21T03:19:50.105478",
     "status": "completed"
    },
    "tags": []
   },
   "outputs": [
    {
     "name": "stdout",
     "output_type": "stream",
     "text": [
      "Memory usage of dataframe is 3980.49 MB\n",
      "Memory usage after optimization is: 1671.66 MB\n",
      "Decreased by 58.0%\n"
     ]
    }
   ],
   "source": [
    "df_neighbors=reduce_mem_usage(df_neighbors)"
   ]
  },
  {
   "cell_type": "code",
   "execution_count": 20,
   "id": "5aa00327",
   "metadata": {
    "execution": {
     "iopub.execute_input": "2022-07-21T03:21:03.743311Z",
     "iopub.status.busy": "2022-07-21T03:21:03.742597Z",
     "iopub.status.idle": "2022-07-21T03:21:03.750080Z",
     "shell.execute_reply": "2022-07-21T03:21:03.749163Z"
    },
    "papermill": {
     "duration": 6.018428,
     "end_time": "2022-07-21T03:21:03.752362",
     "exception": false,
     "start_time": "2022-07-21T03:20:57.733934",
     "status": "completed"
    },
    "tags": []
   },
   "outputs": [],
   "source": [
    "no_usar=['id',  'id_match', 'name', 'address', 'city', 'state', 'zip', 'country', 'url',\n",
    "       'phone', 'categories', 'point_of_interest', 'id_match_id',\n",
    "       'name_match_id', \"latitude_match_id\",\"longitude_match_id\",\n",
    "       'address_match_id', 'city_match_id', 'state_match_id', 'zip_match_id',\n",
    "       'country_match_id', 'url_match_id', 'phone_match_id',\n",
    "       'categories_match_id', 'point_of_interest_match_id',\n",
    "         'numbers_name','numbers_name_match_id','numbers_address','numbers_address_match_id',\"estimator\",\"country_popular\",\n",
    "         'target']\n",
    "\n",
    "features=[x for x in df_neighbors.columns if x not in no_usar]\n",
    "\n",
    "categorical=[]\n",
    "\n",
    "target='target'"
   ]
  },
  {
   "cell_type": "code",
   "execution_count": null,
   "id": "c9f77523",
   "metadata": {
    "papermill": {
     "duration": 6.005869,
     "end_time": "2022-07-21T03:21:15.883944",
     "exception": false,
     "start_time": "2022-07-21T03:21:09.878075",
     "status": "completed"
    },
    "tags": []
   },
   "outputs": [],
   "source": []
  },
  {
   "cell_type": "code",
   "execution_count": 21,
   "id": "ceffdd61",
   "metadata": {
    "execution": {
     "iopub.execute_input": "2022-07-21T03:21:28.569679Z",
     "iopub.status.busy": "2022-07-21T03:21:28.569223Z",
     "iopub.status.idle": "2022-07-21T03:21:28.578768Z",
     "shell.execute_reply": "2022-07-21T03:21:28.577573Z"
    },
    "papermill": {
     "duration": 6.519973,
     "end_time": "2022-07-21T03:21:28.581185",
     "exception": false,
     "start_time": "2022-07-21T03:21:22.061212",
     "status": "completed"
    },
    "tags": []
   },
   "outputs": [
    {
     "data": {
      "text/plain": [
       "['distance',\n",
       " 'n_neighbor',\n",
       " 'jaccard_distance_match_name_',\n",
       " 'jaro_winkler_distance_match_name_',\n",
       " 'jaccard_distance_match_name_unidecode',\n",
       " 'jaro_winkler_distance_match_name_unidecode',\n",
       " 'latitude',\n",
       " 'longitude',\n",
       " 'n_words_name',\n",
       " 'n_characters_name',\n",
       " 'n_words_name_match_id',\n",
       " 'n_characters_name_match_id',\n",
       " 'n_words_address',\n",
       " 'n_characters_address',\n",
       " 'n_words_address_match_id',\n",
       " 'n_characters_address_match_id',\n",
       " 'n_words_categories',\n",
       " 'n_words_categories_match_id',\n",
       " 'equal_zip',\n",
       " 'equal_country',\n",
       " 'equal_url',\n",
       " 'equal_phone',\n",
       " 'equal_categories',\n",
       " 'first_match_indicator_match_name_',\n",
       " 'second_match_indicator_match_name_',\n",
       " 'first_indicator_match_name_',\n",
       " 'last_indicator_match_name_',\n",
       " 'levenshtein_distance_match_name_',\n",
       " 'sequence_matcher_distance_match_name_',\n",
       " 'lcs_distance_match_name_',\n",
       " 'jaccard_distance_match_name_vowels_unicode',\n",
       " 'lcs_distance_match_name_unidecode',\n",
       " 'jaccard_distance_match_address_',\n",
       " 'levenshtein_distance_match_address_',\n",
       " 'jaro_winkler_distance_match_address_',\n",
       " 'sequence_matcher_distance_match_address_',\n",
       " 'jaccard_distance_match_address_unidecode',\n",
       " 'jaro_winkler_distance_match_address_unidecode',\n",
       " 'jaccard_distance_match_categories_',\n",
       " 'levenshtein_distance_match_categories_',\n",
       " 'jaro_winkler_distance_match_categories_',\n",
       " 'sequence_matcher_distance_match_categories_',\n",
       " 'jaccard_distance_match_city_',\n",
       " 'jaro_winkler_distance_match_city_unidecode',\n",
       " 'jaccard_distance_match_state_',\n",
       " 'jaro_winkler_distance_match_state_unidecode',\n",
       " 'jaccard_distance_match_zip_',\n",
       " 'jaro_winkler_distance_match_zip_unidecode',\n",
       " 'jaro_winkler_distance_match_phone_',\n",
       " 'sequence_matcher_distance_match_phone_',\n",
       " 'jaro_winkler_distance_match_name_url',\n",
       " 'jaro_winkler_distance_match_name_url_match_id',\n",
       " 'jaro_winkler_distance_match_name_match_id_url',\n",
       " 'jaro_winkler_distance_match_name_match_id_url_match_id',\n",
       " 'jaccard_distance_match_name_name_address',\n",
       " 'jaccard_distance_match_name_match_id_name_match_id_address',\n",
       " 'jaccard_distance_match_numbers_name_',\n",
       " 'bars_categories',\n",
       " 'buildings_categories',\n",
       " 'cafes_categories',\n",
       " 'college_categories',\n",
       " 'food_categories',\n",
       " 'offices_categories',\n",
       " 'restaurants_categories',\n",
       " 'shops_categories',\n",
       " 'stations_categories',\n",
       " 'stores_categories',\n",
       " 'bars_categories_match_id',\n",
       " 'buildings_categories_match_id',\n",
       " 'cafes_categories_match_id',\n",
       " 'college_categories_match_id',\n",
       " 'food_categories_match_id',\n",
       " 'offices_categories_match_id',\n",
       " 'restaurants_categories_match_id',\n",
       " 'shops_categories_match_id',\n",
       " 'stations_categories_match_id',\n",
       " 'stores_categories_match_id',\n",
       " 'name_component_0',\n",
       " 'name_component_1',\n",
       " 'name_component_2',\n",
       " 'name_component_3',\n",
       " 'name_component_4',\n",
       " 'name_component_5',\n",
       " 'name_component_6',\n",
       " 'name_match_id_component_0',\n",
       " 'name_match_id_component_1',\n",
       " 'name_match_id_component_2',\n",
       " 'name_match_id_component_3',\n",
       " 'name_match_id_component_4',\n",
       " 'name_match_id_component_5',\n",
       " 'name_match_id_component_6',\n",
       " 'categories_component_0',\n",
       " 'categories_component_1',\n",
       " 'categories_component_2',\n",
       " 'categories_component_3',\n",
       " 'categories_component_4',\n",
       " 'categories_component_5',\n",
       " 'categories_component_6',\n",
       " 'categories_match_id_component_0',\n",
       " 'categories_match_id_component_1',\n",
       " 'categories_match_id_component_2',\n",
       " 'categories_match_id_component_3',\n",
       " 'categories_match_id_component_4',\n",
       " 'categories_match_id_component_5',\n",
       " 'categories_match_id_component_6']"
      ]
     },
     "execution_count": 21,
     "metadata": {},
     "output_type": "execute_result"
    }
   ],
   "source": [
    "features"
   ]
  },
  {
   "cell_type": "code",
   "execution_count": 22,
   "id": "0911f63c",
   "metadata": {
    "execution": {
     "iopub.execute_input": "2022-07-21T03:21:44.387607Z",
     "iopub.status.busy": "2022-07-21T03:21:44.385533Z",
     "iopub.status.idle": "2022-07-21T03:21:44.410125Z",
     "shell.execute_reply": "2022-07-21T03:21:44.407893Z"
    },
    "papermill": {
     "duration": 9.412762,
     "end_time": "2022-07-21T03:21:44.414058",
     "exception": false,
     "start_time": "2022-07-21T03:21:35.001296",
     "status": "completed"
    },
    "tags": []
   },
   "outputs": [
    {
     "data": {
      "text/plain": [
       "0.11520373194435415"
      ]
     },
     "execution_count": 22,
     "metadata": {},
     "output_type": "execute_result"
    }
   ],
   "source": [
    "df_neighbors['target'].mean()"
   ]
  },
  {
   "cell_type": "code",
   "execution_count": 23,
   "id": "bbc74b30",
   "metadata": {
    "execution": {
     "iopub.execute_input": "2022-07-21T03:22:00.743505Z",
     "iopub.status.busy": "2022-07-21T03:22:00.742893Z",
     "iopub.status.idle": "2022-07-21T03:22:00.751003Z",
     "shell.execute_reply": "2022-07-21T03:22:00.749899Z"
    },
    "papermill": {
     "duration": 7.1354,
     "end_time": "2022-07-21T03:22:00.753407",
     "exception": false,
     "start_time": "2022-07-21T03:21:53.618007",
     "status": "completed"
    },
    "tags": []
   },
   "outputs": [
    {
     "data": {
      "text/plain": [
       "105"
      ]
     },
     "execution_count": 23,
     "metadata": {},
     "output_type": "execute_result"
    }
   ],
   "source": [
    "len(features)"
   ]
  },
  {
   "cell_type": "code",
   "execution_count": 24,
   "id": "35586464",
   "metadata": {
    "execution": {
     "iopub.execute_input": "2022-07-21T03:22:13.303989Z",
     "iopub.status.busy": "2022-07-21T03:22:13.303556Z",
     "iopub.status.idle": "2022-07-21T03:22:13.309778Z",
     "shell.execute_reply": "2022-07-21T03:22:13.309016Z"
    },
    "papermill": {
     "duration": 6.390298,
     "end_time": "2022-07-21T03:22:13.311884",
     "exception": false,
     "start_time": "2022-07-21T03:22:06.921586",
     "status": "completed"
    },
    "tags": []
   },
   "outputs": [],
   "source": [
    "df_test=df_neighbors.head(200)"
   ]
  },
  {
   "cell_type": "code",
   "execution_count": 25,
   "id": "f0d0ab57",
   "metadata": {
    "execution": {
     "iopub.execute_input": "2022-07-21T03:22:25.928056Z",
     "iopub.status.busy": "2022-07-21T03:22:25.926572Z",
     "iopub.status.idle": "2022-07-21T07:35:35.940019Z",
     "shell.execute_reply": "2022-07-21T07:35:35.936396Z"
    },
    "papermill": {
     "duration": 15200.505417,
     "end_time": "2022-07-21T07:35:40.287296",
     "exception": false,
     "start_time": "2022-07-21T03:22:19.781879",
     "status": "completed"
    },
    "tags": []
   },
   "outputs": [
    {
     "name": "stderr",
     "output_type": "stream",
     "text": [
      "/opt/conda/lib/python3.7/site-packages/lightgbm/engine.py:181: UserWarning: 'early_stopping_rounds' argument is deprecated and will be removed in a future release of LightGBM. Pass 'early_stopping()' callback via 'callbacks' argument instead.\n",
      "  _log_warning(\"'early_stopping_rounds' argument is deprecated and will be removed in a future release of LightGBM. \"\n",
      "/opt/conda/lib/python3.7/site-packages/lightgbm/basic.py:2068: UserWarning: categorical_feature in Dataset is overridden.\n",
      "New categorical_feature is []\n",
      "  _log_warning('categorical_feature in Dataset is overridden.\\n'\n",
      "/opt/conda/lib/python3.7/site-packages/lightgbm/engine.py:239: UserWarning: 'verbose_eval' argument is deprecated and will be removed in a future release of LightGBM. Pass 'log_evaluation()' callback via 'callbacks' argument instead.\n",
      "  _log_warning(\"'verbose_eval' argument is deprecated and will be removed in a future release of LightGBM. \"\n"
     ]
    },
    {
     "name": "stdout",
     "output_type": "stream",
     "text": [
      "[LightGBM] [Info] Number of positive: 718649, number of negative: 5569633\n",
      "[LightGBM] [Warning] Auto-choosing row-wise multi-threading, the overhead of testing was 1.871817 seconds.\n",
      "You can set `force_row_wise=true` to remove the overhead.\n",
      "And if memory is not enough, you can set `force_col_wise=true`.\n",
      "[LightGBM] [Info] Total Bins 13787\n",
      "[LightGBM] [Info] Number of data points in the train set: 6288282, number of used features: 105\n",
      "[LightGBM] [Info] [binary:BoostFromScore]: pavg=0.114284 -> initscore=-2.047711\n",
      "[LightGBM] [Info] Start training from score -2.047711\n",
      "Training until validation scores don't improve for 50 rounds\n",
      "[25]\tvalid_0's auc: 0.957041\n",
      "[50]\tvalid_0's auc: 0.964791\n",
      "[75]\tvalid_0's auc: 0.968281\n",
      "[100]\tvalid_0's auc: 0.969865\n",
      "[125]\tvalid_0's auc: 0.970934\n",
      "[150]\tvalid_0's auc: 0.971571\n",
      "[175]\tvalid_0's auc: 0.972129\n",
      "[200]\tvalid_0's auc: 0.97239\n",
      "[225]\tvalid_0's auc: 0.972499\n",
      "[250]\tvalid_0's auc: 0.972676\n",
      "[275]\tvalid_0's auc: 0.972818\n",
      "[300]\tvalid_0's auc: 0.972895\n",
      "[325]\tvalid_0's auc: 0.972852\n",
      "[350]\tvalid_0's auc: 0.972958\n",
      "[375]\tvalid_0's auc: 0.973081\n",
      "[400]\tvalid_0's auc: 0.972987\n",
      "[425]\tvalid_0's auc: 0.973052\n",
      "Early stopping, best iteration is:\n",
      "[376]\tvalid_0's auc: 0.973089\n",
      "Fold_1\n",
      "0.9730886797546243\n",
      "\n"
     ]
    },
    {
     "name": "stderr",
     "output_type": "stream",
     "text": [
      "/opt/conda/lib/python3.7/site-packages/lightgbm/engine.py:181: UserWarning: 'early_stopping_rounds' argument is deprecated and will be removed in a future release of LightGBM. Pass 'early_stopping()' callback via 'callbacks' argument instead.\n",
      "  _log_warning(\"'early_stopping_rounds' argument is deprecated and will be removed in a future release of LightGBM. \"\n",
      "/opt/conda/lib/python3.7/site-packages/lightgbm/basic.py:2068: UserWarning: categorical_feature in Dataset is overridden.\n",
      "New categorical_feature is []\n",
      "  _log_warning('categorical_feature in Dataset is overridden.\\n'\n",
      "/opt/conda/lib/python3.7/site-packages/lightgbm/engine.py:239: UserWarning: 'verbose_eval' argument is deprecated and will be removed in a future release of LightGBM. Pass 'log_evaluation()' callback via 'callbacks' argument instead.\n",
      "  _log_warning(\"'verbose_eval' argument is deprecated and will be removed in a future release of LightGBM. \"\n"
     ]
    },
    {
     "name": "stdout",
     "output_type": "stream",
     "text": [
      "[LightGBM] [Info] Number of positive: 729027, number of negative: 5559255\n",
      "[LightGBM] [Warning] Auto-choosing row-wise multi-threading, the overhead of testing was 1.829441 seconds.\n",
      "You can set `force_row_wise=true` to remove the overhead.\n",
      "And if memory is not enough, you can set `force_col_wise=true`.\n",
      "[LightGBM] [Info] Total Bins 13785\n",
      "[LightGBM] [Info] Number of data points in the train set: 6288282, number of used features: 105\n",
      "[LightGBM] [Info] [binary:BoostFromScore]: pavg=0.115934 -> initscore=-2.031509\n",
      "[LightGBM] [Info] Start training from score -2.031509\n",
      "Training until validation scores don't improve for 50 rounds\n",
      "[25]\tvalid_0's auc: 0.961919\n",
      "[50]\tvalid_0's auc: 0.968539\n",
      "[75]\tvalid_0's auc: 0.971516\n",
      "[100]\tvalid_0's auc: 0.973438\n",
      "[125]\tvalid_0's auc: 0.974604\n",
      "[150]\tvalid_0's auc: 0.97542\n",
      "[175]\tvalid_0's auc: 0.975968\n",
      "[200]\tvalid_0's auc: 0.976378\n",
      "[225]\tvalid_0's auc: 0.976719\n",
      "[250]\tvalid_0's auc: 0.977007\n",
      "[275]\tvalid_0's auc: 0.977223\n",
      "[300]\tvalid_0's auc: 0.977397\n",
      "[325]\tvalid_0's auc: 0.977542\n",
      "[350]\tvalid_0's auc: 0.977673\n",
      "[375]\tvalid_0's auc: 0.977811\n",
      "[400]\tvalid_0's auc: 0.977913\n",
      "[425]\tvalid_0's auc: 0.978039\n",
      "[450]\tvalid_0's auc: 0.978132\n",
      "[475]\tvalid_0's auc: 0.978201\n",
      "[500]\tvalid_0's auc: 0.978283\n",
      "[525]\tvalid_0's auc: 0.97837\n",
      "[550]\tvalid_0's auc: 0.978433\n",
      "[575]\tvalid_0's auc: 0.978491\n",
      "[600]\tvalid_0's auc: 0.978533\n",
      "[625]\tvalid_0's auc: 0.97858\n",
      "[650]\tvalid_0's auc: 0.978649\n",
      "[675]\tvalid_0's auc: 0.978694\n",
      "[700]\tvalid_0's auc: 0.978765\n",
      "[725]\tvalid_0's auc: 0.978812\n",
      "[750]\tvalid_0's auc: 0.978863\n",
      "[775]\tvalid_0's auc: 0.978908\n",
      "[800]\tvalid_0's auc: 0.97894\n",
      "[825]\tvalid_0's auc: 0.978979\n",
      "[850]\tvalid_0's auc: 0.979027\n",
      "[875]\tvalid_0's auc: 0.979064\n",
      "[900]\tvalid_0's auc: 0.979103\n",
      "[925]\tvalid_0's auc: 0.979146\n",
      "[950]\tvalid_0's auc: 0.979179\n",
      "[975]\tvalid_0's auc: 0.979209\n",
      "[1000]\tvalid_0's auc: 0.979219\n",
      "[1025]\tvalid_0's auc: 0.979233\n",
      "[1050]\tvalid_0's auc: 0.979266\n",
      "[1075]\tvalid_0's auc: 0.979293\n",
      "[1100]\tvalid_0's auc: 0.979301\n",
      "[1125]\tvalid_0's auc: 0.979333\n",
      "[1150]\tvalid_0's auc: 0.979352\n",
      "[1175]\tvalid_0's auc: 0.979363\n",
      "[1200]\tvalid_0's auc: 0.979385\n",
      "[1225]\tvalid_0's auc: 0.979416\n",
      "[1250]\tvalid_0's auc: 0.979442\n",
      "[1275]\tvalid_0's auc: 0.979458\n",
      "[1300]\tvalid_0's auc: 0.979485\n",
      "[1325]\tvalid_0's auc: 0.979515\n",
      "[1350]\tvalid_0's auc: 0.979536\n",
      "[1375]\tvalid_0's auc: 0.979559\n",
      "[1400]\tvalid_0's auc: 0.979574\n",
      "[1425]\tvalid_0's auc: 0.979588\n",
      "[1450]\tvalid_0's auc: 0.979602\n",
      "[1475]\tvalid_0's auc: 0.979622\n",
      "[1500]\tvalid_0's auc: 0.979637\n",
      "[1525]\tvalid_0's auc: 0.979639\n",
      "[1550]\tvalid_0's auc: 0.97964\n",
      "[1575]\tvalid_0's auc: 0.979659\n",
      "[1600]\tvalid_0's auc: 0.97967\n",
      "[1625]\tvalid_0's auc: 0.979669\n",
      "[1650]\tvalid_0's auc: 0.979675\n",
      "[1675]\tvalid_0's auc: 0.979692\n",
      "[1700]\tvalid_0's auc: 0.979705\n",
      "[1725]\tvalid_0's auc: 0.979705\n",
      "[1750]\tvalid_0's auc: 0.979713\n",
      "[1775]\tvalid_0's auc: 0.979721\n",
      "[1800]\tvalid_0's auc: 0.979742\n",
      "[1825]\tvalid_0's auc: 0.979746\n",
      "[1850]\tvalid_0's auc: 0.97976\n",
      "[1875]\tvalid_0's auc: 0.979771\n",
      "[1900]\tvalid_0's auc: 0.979773\n",
      "[1925]\tvalid_0's auc: 0.97977\n",
      "[1950]\tvalid_0's auc: 0.979793\n",
      "[1975]\tvalid_0's auc: 0.979802\n",
      "[2000]\tvalid_0's auc: 0.979803\n",
      "[2025]\tvalid_0's auc: 0.979814\n",
      "[2050]\tvalid_0's auc: 0.979823\n",
      "[2075]\tvalid_0's auc: 0.979829\n",
      "[2100]\tvalid_0's auc: 0.979843\n",
      "[2125]\tvalid_0's auc: 0.979853\n",
      "[2150]\tvalid_0's auc: 0.979862\n",
      "[2175]\tvalid_0's auc: 0.97987\n",
      "[2200]\tvalid_0's auc: 0.97988\n",
      "[2225]\tvalid_0's auc: 0.97989\n",
      "[2250]\tvalid_0's auc: 0.979903\n",
      "[2275]\tvalid_0's auc: 0.979908\n",
      "[2300]\tvalid_0's auc: 0.97992\n",
      "[2325]\tvalid_0's auc: 0.979924\n",
      "[2350]\tvalid_0's auc: 0.979924\n",
      "[2375]\tvalid_0's auc: 0.979935\n",
      "[2400]\tvalid_0's auc: 0.979938\n",
      "[2425]\tvalid_0's auc: 0.979944\n",
      "[2450]\tvalid_0's auc: 0.979957\n",
      "[2475]\tvalid_0's auc: 0.97997\n",
      "[2500]\tvalid_0's auc: 0.979977\n",
      "[2525]\tvalid_0's auc: 0.979989\n",
      "[2550]\tvalid_0's auc: 0.979994\n",
      "[2575]\tvalid_0's auc: 0.979995\n",
      "[2600]\tvalid_0's auc: 0.979998\n",
      "[2625]\tvalid_0's auc: 0.98\n",
      "[2650]\tvalid_0's auc: 0.980014\n",
      "[2675]\tvalid_0's auc: 0.980024\n",
      "[2700]\tvalid_0's auc: 0.980019\n",
      "[2725]\tvalid_0's auc: 0.980031\n",
      "[2750]\tvalid_0's auc: 0.980028\n",
      "[2775]\tvalid_0's auc: 0.980037\n",
      "[2800]\tvalid_0's auc: 0.98004\n",
      "[2825]\tvalid_0's auc: 0.980041\n",
      "[2850]\tvalid_0's auc: 0.980048\n",
      "[2875]\tvalid_0's auc: 0.980059\n",
      "[2900]\tvalid_0's auc: 0.980072\n",
      "[2925]\tvalid_0's auc: 0.980067\n",
      "[2950]\tvalid_0's auc: 0.980076\n",
      "[2975]\tvalid_0's auc: 0.980062\n",
      "[3000]\tvalid_0's auc: 0.980068\n",
      "Early stopping, best iteration is:\n",
      "[2952]\tvalid_0's auc: 0.980078\n",
      "Fold_2\n",
      "0.9800780293015672\n",
      "\n"
     ]
    },
    {
     "name": "stderr",
     "output_type": "stream",
     "text": [
      "/opt/conda/lib/python3.7/site-packages/lightgbm/engine.py:181: UserWarning: 'early_stopping_rounds' argument is deprecated and will be removed in a future release of LightGBM. Pass 'early_stopping()' callback via 'callbacks' argument instead.\n",
      "  _log_warning(\"'early_stopping_rounds' argument is deprecated and will be removed in a future release of LightGBM. \"\n",
      "/opt/conda/lib/python3.7/site-packages/lightgbm/basic.py:2068: UserWarning: categorical_feature in Dataset is overridden.\n",
      "New categorical_feature is []\n",
      "  _log_warning('categorical_feature in Dataset is overridden.\\n'\n",
      "/opt/conda/lib/python3.7/site-packages/lightgbm/engine.py:239: UserWarning: 'verbose_eval' argument is deprecated and will be removed in a future release of LightGBM. Pass 'log_evaluation()' callback via 'callbacks' argument instead.\n",
      "  _log_warning(\"'verbose_eval' argument is deprecated and will be removed in a future release of LightGBM. \"\n"
     ]
    },
    {
     "name": "stdout",
     "output_type": "stream",
     "text": [
      "[LightGBM] [Info] Number of positive: 725737, number of negative: 5562545\n",
      "[LightGBM] [Warning] Auto-choosing row-wise multi-threading, the overhead of testing was 1.848965 seconds.\n",
      "You can set `force_row_wise=true` to remove the overhead.\n",
      "And if memory is not enough, you can set `force_col_wise=true`.\n",
      "[LightGBM] [Info] Total Bins 13770\n",
      "[LightGBM] [Info] Number of data points in the train set: 6288282, number of used features: 105\n",
      "[LightGBM] [Info] [binary:BoostFromScore]: pavg=0.115411 -> initscore=-2.036623\n",
      "[LightGBM] [Info] Start training from score -2.036623\n",
      "Training until validation scores don't improve for 50 rounds\n",
      "[25]\tvalid_0's auc: 0.962066\n",
      "[50]\tvalid_0's auc: 0.968882\n",
      "[75]\tvalid_0's auc: 0.971781\n",
      "[100]\tvalid_0's auc: 0.973438\n",
      "[125]\tvalid_0's auc: 0.974574\n",
      "[150]\tvalid_0's auc: 0.975206\n",
      "[175]\tvalid_0's auc: 0.97573\n",
      "[200]\tvalid_0's auc: 0.9761\n",
      "[225]\tvalid_0's auc: 0.976368\n",
      "[250]\tvalid_0's auc: 0.976653\n",
      "[275]\tvalid_0's auc: 0.976832\n",
      "[300]\tvalid_0's auc: 0.977033\n",
      "[325]\tvalid_0's auc: 0.977172\n",
      "[350]\tvalid_0's auc: 0.977298\n",
      "[375]\tvalid_0's auc: 0.977436\n",
      "[400]\tvalid_0's auc: 0.977593\n",
      "[425]\tvalid_0's auc: 0.977694\n",
      "[450]\tvalid_0's auc: 0.977817\n",
      "[475]\tvalid_0's auc: 0.977925\n",
      "[500]\tvalid_0's auc: 0.977993\n",
      "[525]\tvalid_0's auc: 0.97806\n",
      "[550]\tvalid_0's auc: 0.978143\n",
      "[575]\tvalid_0's auc: 0.978211\n",
      "[600]\tvalid_0's auc: 0.978297\n",
      "[625]\tvalid_0's auc: 0.978371\n",
      "[650]\tvalid_0's auc: 0.978467\n",
      "[675]\tvalid_0's auc: 0.978499\n",
      "[700]\tvalid_0's auc: 0.97856\n",
      "[725]\tvalid_0's auc: 0.978618\n",
      "[750]\tvalid_0's auc: 0.978671\n",
      "[775]\tvalid_0's auc: 0.9787\n",
      "[800]\tvalid_0's auc: 0.978753\n",
      "[825]\tvalid_0's auc: 0.978806\n",
      "[850]\tvalid_0's auc: 0.978851\n",
      "[875]\tvalid_0's auc: 0.978865\n",
      "[900]\tvalid_0's auc: 0.978926\n",
      "[925]\tvalid_0's auc: 0.978948\n",
      "[950]\tvalid_0's auc: 0.978972\n",
      "[975]\tvalid_0's auc: 0.978979\n",
      "[1000]\tvalid_0's auc: 0.979003\n",
      "[1025]\tvalid_0's auc: 0.979012\n",
      "[1050]\tvalid_0's auc: 0.97904\n",
      "[1075]\tvalid_0's auc: 0.979066\n",
      "[1100]\tvalid_0's auc: 0.979076\n",
      "[1125]\tvalid_0's auc: 0.97909\n",
      "[1150]\tvalid_0's auc: 0.979123\n",
      "[1175]\tvalid_0's auc: 0.979148\n",
      "[1200]\tvalid_0's auc: 0.979153\n",
      "[1225]\tvalid_0's auc: 0.979178\n",
      "[1250]\tvalid_0's auc: 0.979191\n",
      "[1275]\tvalid_0's auc: 0.979204\n",
      "[1300]\tvalid_0's auc: 0.979208\n",
      "[1325]\tvalid_0's auc: 0.979249\n",
      "[1350]\tvalid_0's auc: 0.979255\n",
      "[1375]\tvalid_0's auc: 0.979273\n",
      "[1400]\tvalid_0's auc: 0.979263\n",
      "Early stopping, best iteration is:\n",
      "[1372]\tvalid_0's auc: 0.979281\n",
      "Fold_3\n",
      "0.9792808039804165\n",
      "\n"
     ]
    },
    {
     "name": "stderr",
     "output_type": "stream",
     "text": [
      "/opt/conda/lib/python3.7/site-packages/lightgbm/engine.py:181: UserWarning: 'early_stopping_rounds' argument is deprecated and will be removed in a future release of LightGBM. Pass 'early_stopping()' callback via 'callbacks' argument instead.\n",
      "  _log_warning(\"'early_stopping_rounds' argument is deprecated and will be removed in a future release of LightGBM. \"\n",
      "/opt/conda/lib/python3.7/site-packages/lightgbm/basic.py:2068: UserWarning: categorical_feature in Dataset is overridden.\n",
      "New categorical_feature is []\n",
      "  _log_warning('categorical_feature in Dataset is overridden.\\n'\n",
      "/opt/conda/lib/python3.7/site-packages/lightgbm/engine.py:239: UserWarning: 'verbose_eval' argument is deprecated and will be removed in a future release of LightGBM. Pass 'log_evaluation()' callback via 'callbacks' argument instead.\n",
      "  _log_warning(\"'verbose_eval' argument is deprecated and will be removed in a future release of LightGBM. \"\n"
     ]
    },
    {
     "name": "stdout",
     "output_type": "stream",
     "text": [
      "[LightGBM] [Info] Number of positive: 725365, number of negative: 5562918\n",
      "[LightGBM] [Warning] Auto-choosing row-wise multi-threading, the overhead of testing was 1.837358 seconds.\n",
      "You can set `force_row_wise=true` to remove the overhead.\n",
      "And if memory is not enough, you can set `force_col_wise=true`.\n",
      "[LightGBM] [Info] Total Bins 13778\n",
      "[LightGBM] [Info] Number of data points in the train set: 6288283, number of used features: 105\n",
      "[LightGBM] [Info] [binary:BoostFromScore]: pavg=0.115352 -> initscore=-2.037203\n",
      "[LightGBM] [Info] Start training from score -2.037203\n",
      "Training until validation scores don't improve for 50 rounds\n",
      "[25]\tvalid_0's auc: 0.95956\n",
      "[50]\tvalid_0's auc: 0.966891\n",
      "[75]\tvalid_0's auc: 0.970087\n",
      "[100]\tvalid_0's auc: 0.972025\n",
      "[125]\tvalid_0's auc: 0.973202\n",
      "[150]\tvalid_0's auc: 0.973937\n",
      "[175]\tvalid_0's auc: 0.974583\n",
      "[200]\tvalid_0's auc: 0.974955\n",
      "[225]\tvalid_0's auc: 0.975333\n",
      "[250]\tvalid_0's auc: 0.975595\n",
      "[275]\tvalid_0's auc: 0.97579\n",
      "[300]\tvalid_0's auc: 0.976005\n",
      "[325]\tvalid_0's auc: 0.97619\n",
      "[350]\tvalid_0's auc: 0.976345\n",
      "[375]\tvalid_0's auc: 0.976443\n",
      "[400]\tvalid_0's auc: 0.976568\n",
      "[425]\tvalid_0's auc: 0.976564\n",
      "[450]\tvalid_0's auc: 0.976662\n",
      "[475]\tvalid_0's auc: 0.976744\n",
      "[500]\tvalid_0's auc: 0.976807\n",
      "[525]\tvalid_0's auc: 0.976897\n",
      "[550]\tvalid_0's auc: 0.97696\n",
      "[575]\tvalid_0's auc: 0.977019\n",
      "[600]\tvalid_0's auc: 0.977102\n",
      "[625]\tvalid_0's auc: 0.977151\n",
      "[650]\tvalid_0's auc: 0.977214\n",
      "[675]\tvalid_0's auc: 0.977247\n",
      "[700]\tvalid_0's auc: 0.977284\n",
      "[725]\tvalid_0's auc: 0.977339\n",
      "[750]\tvalid_0's auc: 0.977353\n",
      "[775]\tvalid_0's auc: 0.977388\n",
      "[800]\tvalid_0's auc: 0.97743\n",
      "[825]\tvalid_0's auc: 0.977486\n",
      "[850]\tvalid_0's auc: 0.977508\n",
      "[875]\tvalid_0's auc: 0.977531\n",
      "[900]\tvalid_0's auc: 0.977555\n",
      "[925]\tvalid_0's auc: 0.977586\n",
      "[950]\tvalid_0's auc: 0.977605\n",
      "[975]\tvalid_0's auc: 0.977629\n",
      "[1000]\tvalid_0's auc: 0.97765\n",
      "[1025]\tvalid_0's auc: 0.977691\n",
      "[1050]\tvalid_0's auc: 0.977733\n",
      "[1075]\tvalid_0's auc: 0.97775\n",
      "[1100]\tvalid_0's auc: 0.977767\n",
      "[1125]\tvalid_0's auc: 0.97779\n",
      "[1150]\tvalid_0's auc: 0.977805\n",
      "[1175]\tvalid_0's auc: 0.977826\n",
      "[1200]\tvalid_0's auc: 0.977847\n",
      "[1225]\tvalid_0's auc: 0.977879\n",
      "[1250]\tvalid_0's auc: 0.977897\n",
      "[1275]\tvalid_0's auc: 0.977929\n",
      "[1300]\tvalid_0's auc: 0.977944\n",
      "[1325]\tvalid_0's auc: 0.977966\n",
      "[1350]\tvalid_0's auc: 0.977945\n",
      "[1375]\tvalid_0's auc: 0.977967\n",
      "[1400]\tvalid_0's auc: 0.977988\n",
      "[1425]\tvalid_0's auc: 0.977975\n",
      "[1450]\tvalid_0's auc: 0.978005\n",
      "[1475]\tvalid_0's auc: 0.978016\n",
      "[1500]\tvalid_0's auc: 0.978021\n",
      "[1525]\tvalid_0's auc: 0.978031\n",
      "[1550]\tvalid_0's auc: 0.978049\n",
      "[1575]\tvalid_0's auc: 0.978065\n",
      "[1600]\tvalid_0's auc: 0.978074\n",
      "[1625]\tvalid_0's auc: 0.978094\n",
      "[1650]\tvalid_0's auc: 0.978116\n",
      "[1675]\tvalid_0's auc: 0.978119\n",
      "[1700]\tvalid_0's auc: 0.978134\n",
      "[1725]\tvalid_0's auc: 0.978141\n",
      "[1750]\tvalid_0's auc: 0.978126\n",
      "[1775]\tvalid_0's auc: 0.978148\n",
      "[1800]\tvalid_0's auc: 0.978149\n",
      "[1825]\tvalid_0's auc: 0.978167\n",
      "[1850]\tvalid_0's auc: 0.97818\n",
      "[1875]\tvalid_0's auc: 0.978173\n",
      "[1900]\tvalid_0's auc: 0.978184\n",
      "[1925]\tvalid_0's auc: 0.978194\n",
      "[1950]\tvalid_0's auc: 0.978195\n",
      "[1975]\tvalid_0's auc: 0.978191\n",
      "[2000]\tvalid_0's auc: 0.978202\n",
      "[2025]\tvalid_0's auc: 0.978194\n",
      "[2050]\tvalid_0's auc: 0.978192\n",
      "Early stopping, best iteration is:\n",
      "[2006]\tvalid_0's auc: 0.978205\n",
      "Fold_4\n",
      "0.9782047023981936\n",
      "\n"
     ]
    },
    {
     "name": "stderr",
     "output_type": "stream",
     "text": [
      "/opt/conda/lib/python3.7/site-packages/lightgbm/engine.py:181: UserWarning: 'early_stopping_rounds' argument is deprecated and will be removed in a future release of LightGBM. Pass 'early_stopping()' callback via 'callbacks' argument instead.\n",
      "  _log_warning(\"'early_stopping_rounds' argument is deprecated and will be removed in a future release of LightGBM. \"\n",
      "/opt/conda/lib/python3.7/site-packages/lightgbm/basic.py:2068: UserWarning: categorical_feature in Dataset is overridden.\n",
      "New categorical_feature is []\n",
      "  _log_warning('categorical_feature in Dataset is overridden.\\n'\n",
      "/opt/conda/lib/python3.7/site-packages/lightgbm/engine.py:239: UserWarning: 'verbose_eval' argument is deprecated and will be removed in a future release of LightGBM. Pass 'log_evaluation()' callback via 'callbacks' argument instead.\n",
      "  _log_warning(\"'verbose_eval' argument is deprecated and will be removed in a future release of LightGBM. \"\n"
     ]
    },
    {
     "name": "stdout",
     "output_type": "stream",
     "text": [
      "[LightGBM] [Info] Number of positive: 723390, number of negative: 5564893\n",
      "[LightGBM] [Warning] Auto-choosing row-wise multi-threading, the overhead of testing was 1.868375 seconds.\n",
      "You can set `force_row_wise=true` to remove the overhead.\n",
      "And if memory is not enough, you can set `force_col_wise=true`.\n",
      "[LightGBM] [Info] Total Bins 13759\n",
      "[LightGBM] [Info] Number of data points in the train set: 6288283, number of used features: 105\n",
      "[LightGBM] [Info] [binary:BoostFromScore]: pavg=0.115038 -> initscore=-2.040285\n",
      "[LightGBM] [Info] Start training from score -2.040285\n",
      "Training until validation scores don't improve for 50 rounds\n",
      "[25]\tvalid_0's auc: 0.959621\n",
      "[50]\tvalid_0's auc: 0.966215\n",
      "[75]\tvalid_0's auc: 0.969115\n",
      "[100]\tvalid_0's auc: 0.970602\n",
      "[125]\tvalid_0's auc: 0.971651\n",
      "[150]\tvalid_0's auc: 0.972323\n",
      "[175]\tvalid_0's auc: 0.972669\n",
      "[200]\tvalid_0's auc: 0.973022\n",
      "[225]\tvalid_0's auc: 0.973254\n",
      "[250]\tvalid_0's auc: 0.973534\n",
      "[275]\tvalid_0's auc: 0.973767\n",
      "[300]\tvalid_0's auc: 0.973863\n",
      "[325]\tvalid_0's auc: 0.973892\n",
      "[350]\tvalid_0's auc: 0.973988\n",
      "[375]\tvalid_0's auc: 0.974075\n",
      "[400]\tvalid_0's auc: 0.974149\n",
      "[425]\tvalid_0's auc: 0.974215\n",
      "[450]\tvalid_0's auc: 0.974295\n",
      "[475]\tvalid_0's auc: 0.974404\n",
      "[500]\tvalid_0's auc: 0.974453\n",
      "[525]\tvalid_0's auc: 0.974444\n",
      "[550]\tvalid_0's auc: 0.974399\n",
      "Early stopping, best iteration is:\n",
      "[510]\tvalid_0's auc: 0.974501\n",
      "Fold_5\n",
      "0.9745009259343299\n",
      "\n",
      "0.9769778776703911\n",
      "mean: 0.9770306282738263\n",
      "std: 0.0027446947312371865\n"
     ]
    }
   ],
   "source": [
    "dict_results=entrena_lgb(data=df_neighbors,test=df_test,features=features,categorical=categorical,target=target)"
   ]
  },
  {
   "cell_type": "code",
   "execution_count": 26,
   "id": "f7e6c85f",
   "metadata": {
    "execution": {
     "iopub.execute_input": "2022-07-21T07:35:52.803527Z",
     "iopub.status.busy": "2022-07-21T07:35:52.802685Z",
     "iopub.status.idle": "2022-07-21T07:35:52.844542Z",
     "shell.execute_reply": "2022-07-21T07:35:52.843439Z"
    },
    "papermill": {
     "duration": 6.257292,
     "end_time": "2022-07-21T07:35:52.847084",
     "exception": false,
     "start_time": "2022-07-21T07:35:46.589792",
     "status": "completed"
    },
    "tags": []
   },
   "outputs": [
    {
     "data": {
      "text/html": [
       "<div>\n",
       "<style scoped>\n",
       "    .dataframe tbody tr th:only-of-type {\n",
       "        vertical-align: middle;\n",
       "    }\n",
       "\n",
       "    .dataframe tbody tr th {\n",
       "        vertical-align: top;\n",
       "    }\n",
       "\n",
       "    .dataframe thead th {\n",
       "        text-align: right;\n",
       "    }\n",
       "</style>\n",
       "<table border=\"1\" class=\"dataframe\">\n",
       "  <thead>\n",
       "    <tr style=\"text-align: right;\">\n",
       "      <th></th>\n",
       "      <th>variable</th>\n",
       "      <th>gain_1</th>\n",
       "      <th>gain_2</th>\n",
       "      <th>gain_3</th>\n",
       "      <th>gain_4</th>\n",
       "      <th>gain_5</th>\n",
       "      <th>gain_avg</th>\n",
       "    </tr>\n",
       "  </thead>\n",
       "  <tbody>\n",
       "    <tr>\n",
       "      <th>0</th>\n",
       "      <td>jaccard_distance_match_name_unidecode</td>\n",
       "      <td>2.284978e+06</td>\n",
       "      <td>2.016912e+06</td>\n",
       "      <td>2.005112e+06</td>\n",
       "      <td>2.274163e+06</td>\n",
       "      <td>2.251148e+06</td>\n",
       "      <td>2.166463e+06</td>\n",
       "    </tr>\n",
       "    <tr>\n",
       "      <th>1</th>\n",
       "      <td>jaccard_distance_match_name_vowels_unicode</td>\n",
       "      <td>1.999607e+06</td>\n",
       "      <td>2.164301e+06</td>\n",
       "      <td>2.217146e+06</td>\n",
       "      <td>1.967384e+06</td>\n",
       "      <td>2.016329e+06</td>\n",
       "      <td>2.072953e+06</td>\n",
       "    </tr>\n",
       "    <tr>\n",
       "      <th>2</th>\n",
       "      <td>n_neighbor</td>\n",
       "      <td>1.516226e+06</td>\n",
       "      <td>1.586145e+06</td>\n",
       "      <td>1.591575e+06</td>\n",
       "      <td>1.583429e+06</td>\n",
       "      <td>1.485779e+06</td>\n",
       "      <td>1.552631e+06</td>\n",
       "    </tr>\n",
       "    <tr>\n",
       "      <th>3</th>\n",
       "      <td>jaro_winkler_distance_match_name_unidecode</td>\n",
       "      <td>1.044517e+06</td>\n",
       "      <td>1.142161e+06</td>\n",
       "      <td>1.048885e+06</td>\n",
       "      <td>1.200674e+06</td>\n",
       "      <td>1.094354e+06</td>\n",
       "      <td>1.106118e+06</td>\n",
       "    </tr>\n",
       "    <tr>\n",
       "      <th>4</th>\n",
       "      <td>jaccard_distance_match_categories_</td>\n",
       "      <td>1.100839e+06</td>\n",
       "      <td>1.059117e+06</td>\n",
       "      <td>1.093707e+06</td>\n",
       "      <td>1.047284e+06</td>\n",
       "      <td>1.184951e+06</td>\n",
       "      <td>1.097180e+06</td>\n",
       "    </tr>\n",
       "    <tr>\n",
       "      <th>...</th>\n",
       "      <td>...</td>\n",
       "      <td>...</td>\n",
       "      <td>...</td>\n",
       "      <td>...</td>\n",
       "      <td>...</td>\n",
       "      <td>...</td>\n",
       "      <td>...</td>\n",
       "    </tr>\n",
       "    <tr>\n",
       "      <th>100</th>\n",
       "      <td>equal_categories</td>\n",
       "      <td>1.268451e+02</td>\n",
       "      <td>1.312344e+02</td>\n",
       "      <td>1.427668e+02</td>\n",
       "      <td>5.443633e+01</td>\n",
       "      <td>9.654420e+01</td>\n",
       "      <td>1.103654e+02</td>\n",
       "    </tr>\n",
       "    <tr>\n",
       "      <th>101</th>\n",
       "      <td>buildings_categories</td>\n",
       "      <td>1.043960e+01</td>\n",
       "      <td>1.457557e+02</td>\n",
       "      <td>7.914022e+01</td>\n",
       "      <td>2.044988e+02</td>\n",
       "      <td>2.157750e+01</td>\n",
       "      <td>9.228237e+01</td>\n",
       "    </tr>\n",
       "    <tr>\n",
       "      <th>102</th>\n",
       "      <td>offices_categories</td>\n",
       "      <td>0.000000e+00</td>\n",
       "      <td>3.630400e+01</td>\n",
       "      <td>2.552999e+02</td>\n",
       "      <td>2.889244e+01</td>\n",
       "      <td>4.516040e+00</td>\n",
       "      <td>6.500247e+01</td>\n",
       "    </tr>\n",
       "    <tr>\n",
       "      <th>103</th>\n",
       "      <td>buildings_categories_match_id</td>\n",
       "      <td>4.248200e+01</td>\n",
       "      <td>8.288935e+01</td>\n",
       "      <td>5.490738e+01</td>\n",
       "      <td>8.582721e+01</td>\n",
       "      <td>5.031821e+01</td>\n",
       "      <td>6.328483e+01</td>\n",
       "    </tr>\n",
       "    <tr>\n",
       "      <th>104</th>\n",
       "      <td>offices_categories_match_id</td>\n",
       "      <td>0.000000e+00</td>\n",
       "      <td>3.676038e+01</td>\n",
       "      <td>1.564769e+01</td>\n",
       "      <td>4.052402e+01</td>\n",
       "      <td>1.822459e+02</td>\n",
       "      <td>5.503560e+01</td>\n",
       "    </tr>\n",
       "  </tbody>\n",
       "</table>\n",
       "<p>105 rows × 7 columns</p>\n",
       "</div>"
      ],
      "text/plain": [
       "                                       variable        gain_1        gain_2  \\\n",
       "0         jaccard_distance_match_name_unidecode  2.284978e+06  2.016912e+06   \n",
       "1    jaccard_distance_match_name_vowels_unicode  1.999607e+06  2.164301e+06   \n",
       "2                                    n_neighbor  1.516226e+06  1.586145e+06   \n",
       "3    jaro_winkler_distance_match_name_unidecode  1.044517e+06  1.142161e+06   \n",
       "4            jaccard_distance_match_categories_  1.100839e+06  1.059117e+06   \n",
       "..                                          ...           ...           ...   \n",
       "100                            equal_categories  1.268451e+02  1.312344e+02   \n",
       "101                        buildings_categories  1.043960e+01  1.457557e+02   \n",
       "102                          offices_categories  0.000000e+00  3.630400e+01   \n",
       "103               buildings_categories_match_id  4.248200e+01  8.288935e+01   \n",
       "104                 offices_categories_match_id  0.000000e+00  3.676038e+01   \n",
       "\n",
       "           gain_3        gain_4        gain_5      gain_avg  \n",
       "0    2.005112e+06  2.274163e+06  2.251148e+06  2.166463e+06  \n",
       "1    2.217146e+06  1.967384e+06  2.016329e+06  2.072953e+06  \n",
       "2    1.591575e+06  1.583429e+06  1.485779e+06  1.552631e+06  \n",
       "3    1.048885e+06  1.200674e+06  1.094354e+06  1.106118e+06  \n",
       "4    1.093707e+06  1.047284e+06  1.184951e+06  1.097180e+06  \n",
       "..            ...           ...           ...           ...  \n",
       "100  1.427668e+02  5.443633e+01  9.654420e+01  1.103654e+02  \n",
       "101  7.914022e+01  2.044988e+02  2.157750e+01  9.228237e+01  \n",
       "102  2.552999e+02  2.889244e+01  4.516040e+00  6.500247e+01  \n",
       "103  5.490738e+01  8.582721e+01  5.031821e+01  6.328483e+01  \n",
       "104  1.564769e+01  4.052402e+01  1.822459e+02  5.503560e+01  \n",
       "\n",
       "[105 rows x 7 columns]"
      ]
     },
     "execution_count": 26,
     "metadata": {},
     "output_type": "execute_result"
    }
   ],
   "source": [
    "dict_results['importancias']\n",
    "\n"
   ]
  },
  {
   "cell_type": "code",
   "execution_count": 27,
   "id": "971c4420",
   "metadata": {
    "execution": {
     "iopub.execute_input": "2022-07-21T07:36:05.537661Z",
     "iopub.status.busy": "2022-07-21T07:36:05.537194Z",
     "iopub.status.idle": "2022-07-21T07:36:05.548266Z",
     "shell.execute_reply": "2022-07-21T07:36:05.547044Z"
    },
    "papermill": {
     "duration": 6.53813,
     "end_time": "2022-07-21T07:36:05.550985",
     "exception": false,
     "start_time": "2022-07-21T07:35:59.012855",
     "status": "completed"
    },
    "tags": []
   },
   "outputs": [
    {
     "data": {
      "text/plain": [
       "['jaccard_distance_match_name_unidecode',\n",
       " 'jaccard_distance_match_name_vowels_unicode',\n",
       " 'n_neighbor',\n",
       " 'jaro_winkler_distance_match_name_unidecode',\n",
       " 'jaccard_distance_match_categories_',\n",
       " 'distance',\n",
       " 'latitude',\n",
       " 'jaccard_distance_match_numbers_name_',\n",
       " 'longitude',\n",
       " 'sequence_matcher_distance_match_name_',\n",
       " 'jaccard_distance_match_address_',\n",
       " 'jaro_winkler_distance_match_name_',\n",
       " 'second_match_indicator_match_name_',\n",
       " 'first_match_indicator_match_name_',\n",
       " 'jaccard_distance_match_name_',\n",
       " 'categories_match_id_component_4',\n",
       " 'categories_match_id_component_1',\n",
       " 'categories_component_1',\n",
       " 'categories_component_4',\n",
       " 'sequence_matcher_distance_match_phone_',\n",
       " 'jaro_winkler_distance_match_categories_',\n",
       " 'lcs_distance_match_name_unidecode',\n",
       " 'categories_component_0',\n",
       " 'categories_match_id_component_0',\n",
       " 'last_indicator_match_name_',\n",
       " 'sequence_matcher_distance_match_address_',\n",
       " 'levenshtein_distance_match_name_',\n",
       " 'categories_match_id_component_2',\n",
       " 'name_match_id_component_4',\n",
       " 'categories_component_2',\n",
       " 'sequence_matcher_distance_match_categories_',\n",
       " 'jaccard_distance_match_address_unidecode',\n",
       " 'name_match_id_component_5',\n",
       " 'jaro_winkler_distance_match_address_',\n",
       " 'name_match_id_component_0',\n",
       " 'name_component_2',\n",
       " 'name_component_5',\n",
       " 'name_match_id_component_2',\n",
       " 'categories_match_id_component_6',\n",
       " 'name_component_0',\n",
       " 'categories_component_3',\n",
       " 'categories_match_id_component_3',\n",
       " 'categories_component_6',\n",
       " 'first_indicator_match_name_',\n",
       " 'name_match_id_component_6',\n",
       " 'name_component_1',\n",
       " 'categories_component_5',\n",
       " 'name_component_6',\n",
       " 'name_component_4',\n",
       " 'categories_match_id_component_5',\n",
       " 'name_match_id_component_1',\n",
       " 'levenshtein_distance_match_categories_',\n",
       " 'name_component_3',\n",
       " 'lcs_distance_match_name_',\n",
       " 'name_match_id_component_3',\n",
       " 'n_characters_name_match_id',\n",
       " 'n_characters_address',\n",
       " 'n_characters_name',\n",
       " 'n_characters_address_match_id',\n",
       " 'jaro_winkler_distance_match_state_unidecode',\n",
       " 'jaccard_distance_match_zip_',\n",
       " 'jaro_winkler_distance_match_city_unidecode',\n",
       " 'jaro_winkler_distance_match_zip_unidecode',\n",
       " 'jaccard_distance_match_name_name_address',\n",
       " 'jaccard_distance_match_name_match_id_name_match_id_address',\n",
       " 'jaro_winkler_distance_match_address_unidecode',\n",
       " 'jaro_winkler_distance_match_name_url_match_id',\n",
       " 'jaro_winkler_distance_match_name_url',\n",
       " 'jaccard_distance_match_city_',\n",
       " 'n_words_name_match_id',\n",
       " 'levenshtein_distance_match_address_',\n",
       " 'jaro_winkler_distance_match_name_match_id_url_match_id',\n",
       " 'n_words_name',\n",
       " 'n_words_categories',\n",
       " 'jaro_winkler_distance_match_name_match_id_url',\n",
       " 'n_words_categories_match_id',\n",
       " 'jaccard_distance_match_state_',\n",
       " 'n_words_address_match_id',\n",
       " 'college_categories_match_id',\n",
       " 'n_words_address',\n",
       " 'jaro_winkler_distance_match_phone_',\n",
       " 'college_categories',\n",
       " 'equal_url',\n",
       " 'stations_categories',\n",
       " 'stations_categories_match_id',\n",
       " 'cafes_categories_match_id',\n",
       " 'food_categories',\n",
       " 'food_categories_match_id',\n",
       " 'cafes_categories',\n",
       " 'stores_categories',\n",
       " 'stores_categories_match_id',\n",
       " 'bars_categories_match_id',\n",
       " 'shops_categories_match_id',\n",
       " 'equal_zip',\n",
       " 'bars_categories',\n",
       " 'equal_phone',\n",
       " 'restaurants_categories',\n",
       " 'equal_country',\n",
       " 'shops_categories',\n",
       " 'restaurants_categories_match_id',\n",
       " 'equal_categories',\n",
       " 'buildings_categories',\n",
       " 'offices_categories',\n",
       " 'buildings_categories_match_id',\n",
       " 'offices_categories_match_id']"
      ]
     },
     "execution_count": 27,
     "metadata": {},
     "output_type": "execute_result"
    }
   ],
   "source": [
    "dict_results['importancias'][\"variable\"].tolist()\n"
   ]
  },
  {
   "cell_type": "code",
   "execution_count": 28,
   "id": "6112032f",
   "metadata": {
    "execution": {
     "iopub.execute_input": "2022-07-21T07:36:18.168794Z",
     "iopub.status.busy": "2022-07-21T07:36:18.167323Z",
     "iopub.status.idle": "2022-07-21T07:36:18.200239Z",
     "shell.execute_reply": "2022-07-21T07:36:18.198835Z"
    },
    "papermill": {
     "duration": 6.395544,
     "end_time": "2022-07-21T07:36:18.202940",
     "exception": false,
     "start_time": "2022-07-21T07:36:11.807396",
     "status": "completed"
    },
    "tags": []
   },
   "outputs": [
    {
     "data": {
      "text/plain": [
       "0.1633994045814482"
      ]
     },
     "execution_count": 28,
     "metadata": {},
     "output_type": "execute_result"
    }
   ],
   "source": [
    "(df_neighbors['estimator']>0.1).mean()"
   ]
  },
  {
   "cell_type": "code",
   "execution_count": null,
   "id": "87c03bca",
   "metadata": {
    "papermill": {
     "duration": 6.436447,
     "end_time": "2022-07-21T07:36:30.874808",
     "exception": false,
     "start_time": "2022-07-21T07:36:24.438361",
     "status": "completed"
    },
    "tags": []
   },
   "outputs": [],
   "source": []
  },
  {
   "cell_type": "code",
   "execution_count": 29,
   "id": "3ba6bdf0",
   "metadata": {
    "execution": {
     "iopub.execute_input": "2022-07-21T07:36:43.117185Z",
     "iopub.status.busy": "2022-07-21T07:36:43.116406Z",
     "iopub.status.idle": "2022-07-21T07:36:43.138396Z",
     "shell.execute_reply": "2022-07-21T07:36:43.137456Z"
    },
    "papermill": {
     "duration": 6.180507,
     "end_time": "2022-07-21T07:36:43.141118",
     "exception": false,
     "start_time": "2022-07-21T07:36:36.960611",
     "status": "completed"
    },
    "tags": []
   },
   "outputs": [],
   "source": [
    "def adjust_results(df_results):\n",
    "\n",
    "    df_results_adjusted=df_results.merge(df_results,left_on=[\"id\",\"id_match\"],right_on=[\"id_match\",\"id\"],suffixes=(\"_prob_1\",\"_prob_2\"))\n",
    "\n",
    "    del df_results ; gc.collect()\n",
    "\n",
    "    df_results_adjusted=df_results_adjusted.drop(['id_prob_2','id_match_prob_2'],axis='columns')\n",
    "\n",
    "    df_results_adjusted=df_results_adjusted.rename(columns={\"id_prob_1\":\"id\",\"id_match_prob_1\":\"id_match\"})\n",
    "\n",
    "    df_results_adjusted[\"estimator\"]=(df_results_adjusted[\"estimator_prob_1\"]+df_results_adjusted[\"estimator_prob_2\"])/2\n",
    "    \n",
    "    return df_results_adjusted\n",
    "\n",
    "\n",
    "def get_transitive_matches(df_matches):\n",
    "    \n",
    "    df_extra_matches=df_matches.merge(df_matches,left_on=\"id_match\",right_on=\"id\",how=\"left\")\n",
    "        \n",
    "    df_extra_matches=df_extra_matches.drop(['id_match_x','id_y'],axis=\"columns\")\n",
    "    \n",
    "    df_extra_matches=df_extra_matches.rename(columns={\"id_x\":\"id\",\"id_match_y\":\"id_match\"})\n",
    "    \n",
    "    df_extra_matches=pd.concat([df_matches,df_extra_matches],ignore_index=True)\n",
    "    \n",
    "    df_extra_matches=df_extra_matches.drop_duplicates([\"id\",\"id_match\"],ignore_index=True)\n",
    "    \n",
    "    return df_extra_matches\n",
    "\n",
    "\n",
    "\n",
    "def get_jaccard_score(data):\n",
    "    \n",
    "    #dict_predicted_matches=data.loc[condition].groupby('id')['id_match'].apply(list).to_dict()\n",
    "    dict_predicted_matches=data.groupby('id')['id_match'].apply(list).to_dict()\n",
    "    #df_real_matchs=data.loc[data['target']==1].groupby('id')['id_match'].apply(list).reset_index()\n",
    "    \n",
    "    scores = []\n",
    "    for id_str, matches in tqdm(zip(df_real_matches['id'].to_numpy(), df_real_matches['id_match'].to_numpy())):\n",
    "        \n",
    "        if id_str in dict_predicted_matches:\n",
    "            targets = dict_predicted_matches[id_str]\n",
    "            if id_str not in targets :\n",
    "                targets.append(id_str)\n",
    "            targets=set(targets)\n",
    "        else :\n",
    "            targets=set([id_str])\n",
    "        preds = set(matches)\n",
    "        score = len((targets & preds)) / len((targets | preds))\n",
    "        scores.append(score)\n",
    "    scores = np.array(scores)\n",
    "    \n",
    "    metric=scores.mean()\n",
    "    \n",
    "    print(metric)\n",
    "    \n",
    "    return metric"
   ]
  },
  {
   "cell_type": "code",
   "execution_count": 30,
   "id": "9041b51f",
   "metadata": {
    "execution": {
     "iopub.execute_input": "2022-07-21T07:36:55.903890Z",
     "iopub.status.busy": "2022-07-21T07:36:55.903060Z",
     "iopub.status.idle": "2022-07-21T07:37:29.811047Z",
     "shell.execute_reply": "2022-07-21T07:37:29.809727Z"
    },
    "papermill": {
     "duration": 40.041059,
     "end_time": "2022-07-21T07:37:29.814102",
     "exception": false,
     "start_time": "2022-07-21T07:36:49.773043",
     "status": "completed"
    },
    "tags": []
   },
   "outputs": [],
   "source": [
    "df_results=df_neighbors[['id','id_match','estimator']].copy()\n",
    "\n",
    "df_results_adjusted=adjust_results(df_results)\n",
    "\n",
    "\n",
    "condition=df_results_adjusted[\"estimator\"]>0.5\n",
    "\n",
    "df_matches=df_results_adjusted.loc[condition,[\"id\",\"id_match\"]].reset_index(drop=True)\n",
    "\n",
    "\n",
    "df_extra_matches=get_transitive_matches(df_matches)"
   ]
  },
  {
   "cell_type": "code",
   "execution_count": 31,
   "id": "0cba83cf",
   "metadata": {
    "execution": {
     "iopub.execute_input": "2022-07-21T07:37:42.306222Z",
     "iopub.status.busy": "2022-07-21T07:37:42.305241Z",
     "iopub.status.idle": "2022-07-21T07:38:03.301745Z",
     "shell.execute_reply": "2022-07-21T07:38:03.300735Z"
    },
    "papermill": {
     "duration": 27.346245,
     "end_time": "2022-07-21T07:38:03.304028",
     "exception": false,
     "start_time": "2022-07-21T07:37:35.957783",
     "status": "completed"
    },
    "tags": []
   },
   "outputs": [
    {
     "name": "stderr",
     "output_type": "stream",
     "text": [
      "1138812it [00:04, 229160.56it/s]\n"
     ]
    },
    {
     "name": "stdout",
     "output_type": "stream",
     "text": [
      "0.8503682081826215\n"
     ]
    },
    {
     "data": {
      "text/plain": [
       "0.8503682081826215"
      ]
     },
     "execution_count": 31,
     "metadata": {},
     "output_type": "execute_result"
    }
   ],
   "source": [
    "    \n",
    "get_jaccard_score(data=df_matches)\n",
    "\n"
   ]
  },
  {
   "cell_type": "code",
   "execution_count": 32,
   "id": "fb9ec685",
   "metadata": {
    "execution": {
     "iopub.execute_input": "2022-07-21T07:38:16.048624Z",
     "iopub.status.busy": "2022-07-21T07:38:16.048191Z",
     "iopub.status.idle": "2022-07-21T07:38:36.913086Z",
     "shell.execute_reply": "2022-07-21T07:38:36.911511Z"
    },
    "papermill": {
     "duration": 27.079911,
     "end_time": "2022-07-21T07:38:36.915665",
     "exception": false,
     "start_time": "2022-07-21T07:38:09.835754",
     "status": "completed"
    },
    "tags": []
   },
   "outputs": [
    {
     "name": "stderr",
     "output_type": "stream",
     "text": [
      "1138812it [00:04, 263653.82it/s]\n"
     ]
    },
    {
     "name": "stdout",
     "output_type": "stream",
     "text": [
      "0.8526496851590587\n"
     ]
    },
    {
     "data": {
      "text/plain": [
       "0.8526496851590587"
      ]
     },
     "execution_count": 32,
     "metadata": {},
     "output_type": "execute_result"
    }
   ],
   "source": [
    "get_jaccard_score(data=df_extra_matches)\n"
   ]
  },
  {
   "cell_type": "code",
   "execution_count": 33,
   "id": "3d21fb2d",
   "metadata": {
    "execution": {
     "iopub.execute_input": "2022-07-21T07:38:49.402272Z",
     "iopub.status.busy": "2022-07-21T07:38:49.401795Z",
     "iopub.status.idle": "2022-07-21T07:38:49.407429Z",
     "shell.execute_reply": "2022-07-21T07:38:49.406530Z"
    },
    "papermill": {
     "duration": 6.268698,
     "end_time": "2022-07-21T07:38:49.409934",
     "exception": false,
     "start_time": "2022-07-21T07:38:43.141236",
     "status": "completed"
    },
    "tags": []
   },
   "outputs": [],
   "source": [
    "list_models=dict_results[\"modelos\"]"
   ]
  },
  {
   "cell_type": "code",
   "execution_count": 34,
   "id": "c6fd23bd",
   "metadata": {
    "execution": {
     "iopub.execute_input": "2022-07-21T07:39:01.940555Z",
     "iopub.status.busy": "2022-07-21T07:39:01.940127Z",
     "iopub.status.idle": "2022-07-21T07:39:07.448906Z",
     "shell.execute_reply": "2022-07-21T07:39:07.447452Z"
    },
    "papermill": {
     "duration": 11.647945,
     "end_time": "2022-07-21T07:39:07.452144",
     "exception": false,
     "start_time": "2022-07-21T07:38:55.804199",
     "status": "completed"
    },
    "tags": []
   },
   "outputs": [],
   "source": [
    "with open('list_models_baseline_foursquare_v17.pkl', 'wb') as f:\n",
    "    pickle.dump(list_models, f)"
   ]
  },
  {
   "cell_type": "code",
   "execution_count": 35,
   "id": "9c760f2d",
   "metadata": {
    "execution": {
     "iopub.execute_input": "2022-07-21T07:39:20.111642Z",
     "iopub.status.busy": "2022-07-21T07:39:20.111236Z",
     "iopub.status.idle": "2022-07-21T07:39:25.722530Z",
     "shell.execute_reply": "2022-07-21T07:39:25.721534Z"
    },
    "papermill": {
     "duration": 11.999141,
     "end_time": "2022-07-21T07:39:25.725169",
     "exception": false,
     "start_time": "2022-07-21T07:39:13.726028",
     "status": "completed"
    },
    "tags": []
   },
   "outputs": [],
   "source": [
    "df_results.to_pickle(\"df_probas_train_foursquare.pkl\")"
   ]
  },
  {
   "cell_type": "code",
   "execution_count": 36,
   "id": "6ba15ba5",
   "metadata": {
    "execution": {
     "iopub.execute_input": "2022-07-21T07:39:38.193760Z",
     "iopub.status.busy": "2022-07-21T07:39:38.193325Z",
     "iopub.status.idle": "2022-07-21T07:39:38.209898Z",
     "shell.execute_reply": "2022-07-21T07:39:38.208703Z"
    },
    "papermill": {
     "duration": 6.228567,
     "end_time": "2022-07-21T07:39:38.212287",
     "exception": false,
     "start_time": "2022-07-21T07:39:31.983720",
     "status": "completed"
    },
    "tags": []
   },
   "outputs": [
    {
     "data": {
      "text/html": [
       "<div>\n",
       "<style scoped>\n",
       "    .dataframe tbody tr th:only-of-type {\n",
       "        vertical-align: middle;\n",
       "    }\n",
       "\n",
       "    .dataframe tbody tr th {\n",
       "        vertical-align: top;\n",
       "    }\n",
       "\n",
       "    .dataframe thead th {\n",
       "        text-align: right;\n",
       "    }\n",
       "</style>\n",
       "<table border=\"1\" class=\"dataframe\">\n",
       "  <thead>\n",
       "    <tr style=\"text-align: right;\">\n",
       "      <th></th>\n",
       "      <th>id</th>\n",
       "      <th>id_match</th>\n",
       "      <th>estimator</th>\n",
       "    </tr>\n",
       "  </thead>\n",
       "  <tbody>\n",
       "    <tr>\n",
       "      <th>0</th>\n",
       "      <td>E_000001272c6c5d</td>\n",
       "      <td>E_9e4a5adfe5b1c5</td>\n",
       "      <td>0.011882</td>\n",
       "    </tr>\n",
       "    <tr>\n",
       "      <th>1</th>\n",
       "      <td>E_000002eae2a589</td>\n",
       "      <td>E_c12fb799a8a0e4</td>\n",
       "      <td>0.013435</td>\n",
       "    </tr>\n",
       "    <tr>\n",
       "      <th>2</th>\n",
       "      <td>E_000007f24ebc95</td>\n",
       "      <td>E_b664578fe0e8c2</td>\n",
       "      <td>0.089090</td>\n",
       "    </tr>\n",
       "    <tr>\n",
       "      <th>3</th>\n",
       "      <td>E_000008a8ba4f48</td>\n",
       "      <td>E_40c486192f6105</td>\n",
       "      <td>0.001762</td>\n",
       "    </tr>\n",
       "    <tr>\n",
       "      <th>4</th>\n",
       "      <td>E_00001d92066153</td>\n",
       "      <td>E_7e0d8e9138dd56</td>\n",
       "      <td>0.977308</td>\n",
       "    </tr>\n",
       "    <tr>\n",
       "      <th>...</th>\n",
       "      <td>...</td>\n",
       "      <td>...</td>\n",
       "      <td>...</td>\n",
       "    </tr>\n",
       "    <tr>\n",
       "      <th>7860348</th>\n",
       "      <td>E_f969a1f489442f</td>\n",
       "      <td>E_72f3ffecce328e</td>\n",
       "      <td>0.980889</td>\n",
       "    </tr>\n",
       "    <tr>\n",
       "      <th>7860349</th>\n",
       "      <td>E_faafa70d4d283f</td>\n",
       "      <td>E_e2bd3c766fa711</td>\n",
       "      <td>0.097540</td>\n",
       "    </tr>\n",
       "    <tr>\n",
       "      <th>7860350</th>\n",
       "      <td>E_fad0d7f7ec42ef</td>\n",
       "      <td>E_720482f0fd4487</td>\n",
       "      <td>0.004149</td>\n",
       "    </tr>\n",
       "    <tr>\n",
       "      <th>7860351</th>\n",
       "      <td>E_fca59242aa5ef3</td>\n",
       "      <td>E_77d2dee5525cf0</td>\n",
       "      <td>0.738150</td>\n",
       "    </tr>\n",
       "    <tr>\n",
       "      <th>7860352</th>\n",
       "      <td>E_fdb87db44fc165</td>\n",
       "      <td>E_fd9f2d81225e82</td>\n",
       "      <td>0.984468</td>\n",
       "    </tr>\n",
       "  </tbody>\n",
       "</table>\n",
       "<p>7860353 rows × 3 columns</p>\n",
       "</div>"
      ],
      "text/plain": [
       "                       id          id_match  estimator\n",
       "0        E_000001272c6c5d  E_9e4a5adfe5b1c5   0.011882\n",
       "1        E_000002eae2a589  E_c12fb799a8a0e4   0.013435\n",
       "2        E_000007f24ebc95  E_b664578fe0e8c2   0.089090\n",
       "3        E_000008a8ba4f48  E_40c486192f6105   0.001762\n",
       "4        E_00001d92066153  E_7e0d8e9138dd56   0.977308\n",
       "...                   ...               ...        ...\n",
       "7860348  E_f969a1f489442f  E_72f3ffecce328e   0.980889\n",
       "7860349  E_faafa70d4d283f  E_e2bd3c766fa711   0.097540\n",
       "7860350  E_fad0d7f7ec42ef  E_720482f0fd4487   0.004149\n",
       "7860351  E_fca59242aa5ef3  E_77d2dee5525cf0   0.738150\n",
       "7860352  E_fdb87db44fc165  E_fd9f2d81225e82   0.984468\n",
       "\n",
       "[7860353 rows x 3 columns]"
      ]
     },
     "execution_count": 36,
     "metadata": {},
     "output_type": "execute_result"
    }
   ],
   "source": [
    "df_results"
   ]
  }
 ],
 "metadata": {
  "kernelspec": {
   "display_name": "Python 3",
   "language": "python",
   "name": "python3"
  },
  "language_info": {
   "codemirror_mode": {
    "name": "ipython",
    "version": 3
   },
   "file_extension": ".py",
   "mimetype": "text/x-python",
   "name": "python",
   "nbconvert_exporter": "python",
   "pygments_lexer": "ipython3",
   "version": "3.7.12"
  },
  "papermill": {
   "default_parameters": {},
   "duration": 27133.285741,
   "end_time": "2022-07-21T07:39:47.260912",
   "environment_variables": {},
   "exception": null,
   "input_path": "__notebook__.ipynb",
   "output_path": "__notebook__.ipynb",
   "parameters": {},
   "start_time": "2022-07-21T00:07:33.975171",
   "version": "2.3.4"
  }
 },
 "nbformat": 4,
 "nbformat_minor": 5
}
