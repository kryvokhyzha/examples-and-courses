{
  "cells": [
    {
      "cell_type": "markdown",
      "metadata": {
        "id": "view-in-github",
        "colab_type": "text"
      },
      "source": [
        "<a href=\"https://colab.research.google.com/github/art-glazunov/MegaFon_RecSys_Workshop/blob/main/Part_6_2_Basic_convolutional_DSSM_recommender_v1.ipynb\" target=\"_parent\"><img src=\"https://colab.research.google.com/assets/colab-badge.svg\" alt=\"Open In Colab\"/></a>"
      ]
    },
    {
      "cell_type": "markdown",
      "source": [
        "# MegaFon RecSys workshop\n",
        "by Artyom Glazunov\n",
        "\n",
        "## Part 6.2. Basic convolutional DSSM recommender v1"
      ],
      "metadata": {
        "id": "qor5mQ7R-fRb"
      }
    },
    {
      "cell_type": "markdown",
      "source": [
        "## The plan\n",
        "\n",
        "- ### Data loading\n",
        "- ### Useful classes and methods\n",
        "- ### Data preparation\n",
        "- ### Training\n",
        "- ### Evaluation"
      ],
      "metadata": {
        "id": "rHAJmOYr-pUG"
      }
    },
    {
      "cell_type": "code",
      "execution_count": null,
      "metadata": {
        "id": "Jzlutim01rz8"
      },
      "outputs": [],
      "source": [
        "pip install -q lightfm==1.16"
      ]
    },
    {
      "cell_type": "code",
      "execution_count": null,
      "metadata": {
        "id": "70ceNWcRrg_I"
      },
      "outputs": [],
      "source": [
        "import random\n",
        "\n",
        "import pandas as pd\n",
        "import numpy as np\n",
        "import scipy\n",
        "from scipy.sparse import csr_matrix\n",
        "\n",
        "import sklearn\n",
        "from sklearn.base import TransformerMixin, BaseEstimator\n",
        "from lightfm import data\n",
        "\n",
        "import tensorflow as tf\n",
        "import tensorflow.keras.backend as K\n",
        "from tensorflow import keras\n",
        "\n",
        "from sklearn.metrics import roc_auc_score\n",
        "\n",
        "from matplotlib import pyplot as plt\n",
        "\n",
        "import gc\n",
        "import copy"
      ]
    },
    {
      "cell_type": "markdown",
      "source": [
        "### Data loading"
      ],
      "metadata": {
        "id": "eL8vrFAo_XVr"
      }
    },
    {
      "cell_type": "code",
      "execution_count": null,
      "metadata": {
        "colab": {
          "base_uri": "https://localhost:8080/"
        },
        "id": "fUBYZjrq24eQ",
        "outputId": "3b5115af-acab-447b-d598-8d9e09fe437c"
      },
      "outputs": [
        {
          "output_type": "stream",
          "name": "stdout",
          "text": [
            "/content/drive/MyDrive/Colab_Notebooks/datafest_22/data\n"
          ]
        }
      ],
      "source": [
        "cd /content/drive/MyDrive/Colab_Notebooks/datafest_22/data"
      ]
    },
    {
      "cell_type": "code",
      "source": [
        "tf.test.gpu_device_name()"
      ],
      "metadata": {
        "id": "kpeYVHCM1Axz",
        "colab": {
          "base_uri": "https://localhost:8080/",
          "height": 35
        },
        "outputId": "08a3b819-e735-40f5-9bb8-a90b2744a608"
      },
      "execution_count": null,
      "outputs": [
        {
          "output_type": "execute_result",
          "data": {
            "text/plain": [
              "''"
            ],
            "application/vnd.google.colaboratory.intrinsic+json": {
              "type": "string"
            }
          },
          "metadata": {},
          "execution_count": 9
        }
      ]
    },
    {
      "cell_type": "code",
      "execution_count": null,
      "metadata": {
        "id": "Owjd4KGR28f8"
      },
      "outputs": [],
      "source": [
        "data_train_all = pd.read_csv(\"train.csv\")\n",
        "data_val = pd.read_csv(\"validation.csv\")\n",
        "data_test = pd.read_csv(\"test.csv\")\n",
        "cold_users_data = pd.read_csv(\"cold_users_data.csv\")\n",
        "cold_items_data = pd.read_csv(\"cold_items_data.csv\")"
      ]
    },
    {
      "cell_type": "code",
      "execution_count": null,
      "metadata": {
        "id": "e5SWZ4IxYmIw",
        "colab": {
          "base_uri": "https://localhost:8080/",
          "height": 374
        },
        "outputId": "f99d5957-c8a1-4459-dfdf-6b8c6aee7d51"
      },
      "outputs": [
        {
          "output_type": "execute_result",
          "data": {
            "text/plain": [
              "                                           msno  \\\n",
              "0  xvCGZ5McgEJlkYx2HNO1/CkD1CYjlA/gQL36iX8TYBY=   \n",
              "1  jOlB9i8NKGG2oudUKq9ObRyt3sXQnWWwcei1+s8sNIA=   \n",
              "2  fe+6batTKL/NxXhhzfDO3yBUmFmQUQAgRpYmF2T0t4E=   \n",
              "3  GVcP7SPQ/IgiEt2uxaXaRH5lFA5tBe8T74/Etk7cnG8=   \n",
              "4  XIfoYUt6vkAqVDRKJRVEHkV0jsaD+fif2EqxsobpEqg=   \n",
              "\n",
              "                                        song_id source_system_tab  \\\n",
              "0  868uXMrBS8WwQulNX0W+vk6sJA6Hs35YNtFYceXgX/I=             radio   \n",
              "1  a4TbK5V15pj3YZUOGa9h2U3t0OsE+3aiFw41mNlcgcw=        my library   \n",
              "2  5RLsVkl6PTt3pIyWvojM0z2LblVysXHxoc7Mc4LIFL8=        my library   \n",
              "3  7Xxzo9Z584Z1AhkaLLWEcpzcEuxcquGE52Ztc4879YI=          discover   \n",
              "4  rA+H/y66yC2qK0v926aWRFWngwJmL+IhGhJN4fBS0XM=             radio   \n",
              "\n",
              "     source_screen_name      source_type  target  song_length genre_ids  \\\n",
              "0                 Radio            radio       0     255373.0       465   \n",
              "1   Local playlist more    local-library       1     248790.0       465   \n",
              "2   Local playlist more    local-library       1     178887.0       921   \n",
              "3  Online playlist more  online-playlist       1     275136.0       465   \n",
              "4                 Radio            radio       0     243983.0       465   \n",
              "\n",
              "           artist_name composer lyricist  language  \\\n",
              "0                  張震嶽      NaN      NaN       3.0   \n",
              "1        吳汶芳 (Fang Wu)      吳汶芳      吳汶芳       3.0   \n",
              "2          Noel Coward      NaN      NaN      52.0   \n",
              "3           田馥甄 (Hebe)      楊子樸      施人誠       3.0   \n",
              "4  范瑋琪 (Christine Fan)      陳小霞      姚若龍       3.0   \n",
              "\n",
              "                             name          isrc  city  bd  gender  \\\n",
              "0                              勇氣  TWA450479802     1   0     NaN   \n",
              "1  孤獨的總和 (Accumulated Loneliness)  TWA211328806    13  31  female   \n",
              "2           Poor Little Rich Girl  USV291338277     5  33  female   \n",
              "3                          寂寞寂寞就好  TWD951043107     1   0     NaN   \n",
              "4                          最重要的決定  TWA211125202     5  22  female   \n",
              "\n",
              "   registered_via registration_init_time expiration_date  \n",
              "0               7             2013-05-14      2017-09-24  \n",
              "1               9             2011-04-19      2017-06-20  \n",
              "2               9             2008-08-05      2017-10-06  \n",
              "3               7             2011-02-25      2017-09-12  \n",
              "4               7             2013-07-29      2017-09-30  "
            ],
            "text/html": [
              "\n",
              "  <div id=\"df-3c186b15-1327-438b-80b6-51d92d24d2b2\">\n",
              "    <div class=\"colab-df-container\">\n",
              "      <div>\n",
              "<style scoped>\n",
              "    .dataframe tbody tr th:only-of-type {\n",
              "        vertical-align: middle;\n",
              "    }\n",
              "\n",
              "    .dataframe tbody tr th {\n",
              "        vertical-align: top;\n",
              "    }\n",
              "\n",
              "    .dataframe thead th {\n",
              "        text-align: right;\n",
              "    }\n",
              "</style>\n",
              "<table border=\"1\" class=\"dataframe\">\n",
              "  <thead>\n",
              "    <tr style=\"text-align: right;\">\n",
              "      <th></th>\n",
              "      <th>msno</th>\n",
              "      <th>song_id</th>\n",
              "      <th>source_system_tab</th>\n",
              "      <th>source_screen_name</th>\n",
              "      <th>source_type</th>\n",
              "      <th>target</th>\n",
              "      <th>song_length</th>\n",
              "      <th>genre_ids</th>\n",
              "      <th>artist_name</th>\n",
              "      <th>composer</th>\n",
              "      <th>lyricist</th>\n",
              "      <th>language</th>\n",
              "      <th>name</th>\n",
              "      <th>isrc</th>\n",
              "      <th>city</th>\n",
              "      <th>bd</th>\n",
              "      <th>gender</th>\n",
              "      <th>registered_via</th>\n",
              "      <th>registration_init_time</th>\n",
              "      <th>expiration_date</th>\n",
              "    </tr>\n",
              "  </thead>\n",
              "  <tbody>\n",
              "    <tr>\n",
              "      <th>0</th>\n",
              "      <td>xvCGZ5McgEJlkYx2HNO1/CkD1CYjlA/gQL36iX8TYBY=</td>\n",
              "      <td>868uXMrBS8WwQulNX0W+vk6sJA6Hs35YNtFYceXgX/I=</td>\n",
              "      <td>radio</td>\n",
              "      <td>Radio</td>\n",
              "      <td>radio</td>\n",
              "      <td>0</td>\n",
              "      <td>255373.0</td>\n",
              "      <td>465</td>\n",
              "      <td>張震嶽</td>\n",
              "      <td>NaN</td>\n",
              "      <td>NaN</td>\n",
              "      <td>3.0</td>\n",
              "      <td>勇氣</td>\n",
              "      <td>TWA450479802</td>\n",
              "      <td>1</td>\n",
              "      <td>0</td>\n",
              "      <td>NaN</td>\n",
              "      <td>7</td>\n",
              "      <td>2013-05-14</td>\n",
              "      <td>2017-09-24</td>\n",
              "    </tr>\n",
              "    <tr>\n",
              "      <th>1</th>\n",
              "      <td>jOlB9i8NKGG2oudUKq9ObRyt3sXQnWWwcei1+s8sNIA=</td>\n",
              "      <td>a4TbK5V15pj3YZUOGa9h2U3t0OsE+3aiFw41mNlcgcw=</td>\n",
              "      <td>my library</td>\n",
              "      <td>Local playlist more</td>\n",
              "      <td>local-library</td>\n",
              "      <td>1</td>\n",
              "      <td>248790.0</td>\n",
              "      <td>465</td>\n",
              "      <td>吳汶芳 (Fang Wu)</td>\n",
              "      <td>吳汶芳</td>\n",
              "      <td>吳汶芳</td>\n",
              "      <td>3.0</td>\n",
              "      <td>孤獨的總和 (Accumulated Loneliness)</td>\n",
              "      <td>TWA211328806</td>\n",
              "      <td>13</td>\n",
              "      <td>31</td>\n",
              "      <td>female</td>\n",
              "      <td>9</td>\n",
              "      <td>2011-04-19</td>\n",
              "      <td>2017-06-20</td>\n",
              "    </tr>\n",
              "    <tr>\n",
              "      <th>2</th>\n",
              "      <td>fe+6batTKL/NxXhhzfDO3yBUmFmQUQAgRpYmF2T0t4E=</td>\n",
              "      <td>5RLsVkl6PTt3pIyWvojM0z2LblVysXHxoc7Mc4LIFL8=</td>\n",
              "      <td>my library</td>\n",
              "      <td>Local playlist more</td>\n",
              "      <td>local-library</td>\n",
              "      <td>1</td>\n",
              "      <td>178887.0</td>\n",
              "      <td>921</td>\n",
              "      <td>Noel Coward</td>\n",
              "      <td>NaN</td>\n",
              "      <td>NaN</td>\n",
              "      <td>52.0</td>\n",
              "      <td>Poor Little Rich Girl</td>\n",
              "      <td>USV291338277</td>\n",
              "      <td>5</td>\n",
              "      <td>33</td>\n",
              "      <td>female</td>\n",
              "      <td>9</td>\n",
              "      <td>2008-08-05</td>\n",
              "      <td>2017-10-06</td>\n",
              "    </tr>\n",
              "    <tr>\n",
              "      <th>3</th>\n",
              "      <td>GVcP7SPQ/IgiEt2uxaXaRH5lFA5tBe8T74/Etk7cnG8=</td>\n",
              "      <td>7Xxzo9Z584Z1AhkaLLWEcpzcEuxcquGE52Ztc4879YI=</td>\n",
              "      <td>discover</td>\n",
              "      <td>Online playlist more</td>\n",
              "      <td>online-playlist</td>\n",
              "      <td>1</td>\n",
              "      <td>275136.0</td>\n",
              "      <td>465</td>\n",
              "      <td>田馥甄 (Hebe)</td>\n",
              "      <td>楊子樸</td>\n",
              "      <td>施人誠</td>\n",
              "      <td>3.0</td>\n",
              "      <td>寂寞寂寞就好</td>\n",
              "      <td>TWD951043107</td>\n",
              "      <td>1</td>\n",
              "      <td>0</td>\n",
              "      <td>NaN</td>\n",
              "      <td>7</td>\n",
              "      <td>2011-02-25</td>\n",
              "      <td>2017-09-12</td>\n",
              "    </tr>\n",
              "    <tr>\n",
              "      <th>4</th>\n",
              "      <td>XIfoYUt6vkAqVDRKJRVEHkV0jsaD+fif2EqxsobpEqg=</td>\n",
              "      <td>rA+H/y66yC2qK0v926aWRFWngwJmL+IhGhJN4fBS0XM=</td>\n",
              "      <td>radio</td>\n",
              "      <td>Radio</td>\n",
              "      <td>radio</td>\n",
              "      <td>0</td>\n",
              "      <td>243983.0</td>\n",
              "      <td>465</td>\n",
              "      <td>范瑋琪 (Christine Fan)</td>\n",
              "      <td>陳小霞</td>\n",
              "      <td>姚若龍</td>\n",
              "      <td>3.0</td>\n",
              "      <td>最重要的決定</td>\n",
              "      <td>TWA211125202</td>\n",
              "      <td>5</td>\n",
              "      <td>22</td>\n",
              "      <td>female</td>\n",
              "      <td>7</td>\n",
              "      <td>2013-07-29</td>\n",
              "      <td>2017-09-30</td>\n",
              "    </tr>\n",
              "  </tbody>\n",
              "</table>\n",
              "</div>\n",
              "      <button class=\"colab-df-convert\" onclick=\"convertToInteractive('df-3c186b15-1327-438b-80b6-51d92d24d2b2')\"\n",
              "              title=\"Convert this dataframe to an interactive table.\"\n",
              "              style=\"display:none;\">\n",
              "        \n",
              "  <svg xmlns=\"http://www.w3.org/2000/svg\" height=\"24px\"viewBox=\"0 0 24 24\"\n",
              "       width=\"24px\">\n",
              "    <path d=\"M0 0h24v24H0V0z\" fill=\"none\"/>\n",
              "    <path d=\"M18.56 5.44l.94 2.06.94-2.06 2.06-.94-2.06-.94-.94-2.06-.94 2.06-2.06.94zm-11 1L8.5 8.5l.94-2.06 2.06-.94-2.06-.94L8.5 2.5l-.94 2.06-2.06.94zm10 10l.94 2.06.94-2.06 2.06-.94-2.06-.94-.94-2.06-.94 2.06-2.06.94z\"/><path d=\"M17.41 7.96l-1.37-1.37c-.4-.4-.92-.59-1.43-.59-.52 0-1.04.2-1.43.59L10.3 9.45l-7.72 7.72c-.78.78-.78 2.05 0 2.83L4 21.41c.39.39.9.59 1.41.59.51 0 1.02-.2 1.41-.59l7.78-7.78 2.81-2.81c.8-.78.8-2.07 0-2.86zM5.41 20L4 18.59l7.72-7.72 1.47 1.35L5.41 20z\"/>\n",
              "  </svg>\n",
              "      </button>\n",
              "      \n",
              "  <style>\n",
              "    .colab-df-container {\n",
              "      display:flex;\n",
              "      flex-wrap:wrap;\n",
              "      gap: 12px;\n",
              "    }\n",
              "\n",
              "    .colab-df-convert {\n",
              "      background-color: #E8F0FE;\n",
              "      border: none;\n",
              "      border-radius: 50%;\n",
              "      cursor: pointer;\n",
              "      display: none;\n",
              "      fill: #1967D2;\n",
              "      height: 32px;\n",
              "      padding: 0 0 0 0;\n",
              "      width: 32px;\n",
              "    }\n",
              "\n",
              "    .colab-df-convert:hover {\n",
              "      background-color: #E2EBFA;\n",
              "      box-shadow: 0px 1px 2px rgba(60, 64, 67, 0.3), 0px 1px 3px 1px rgba(60, 64, 67, 0.15);\n",
              "      fill: #174EA6;\n",
              "    }\n",
              "\n",
              "    [theme=dark] .colab-df-convert {\n",
              "      background-color: #3B4455;\n",
              "      fill: #D2E3FC;\n",
              "    }\n",
              "\n",
              "    [theme=dark] .colab-df-convert:hover {\n",
              "      background-color: #434B5C;\n",
              "      box-shadow: 0px 1px 3px 1px rgba(0, 0, 0, 0.15);\n",
              "      filter: drop-shadow(0px 1px 2px rgba(0, 0, 0, 0.3));\n",
              "      fill: #FFFFFF;\n",
              "    }\n",
              "  </style>\n",
              "\n",
              "      <script>\n",
              "        const buttonEl =\n",
              "          document.querySelector('#df-3c186b15-1327-438b-80b6-51d92d24d2b2 button.colab-df-convert');\n",
              "        buttonEl.style.display =\n",
              "          google.colab.kernel.accessAllowed ? 'block' : 'none';\n",
              "\n",
              "        async function convertToInteractive(key) {\n",
              "          const element = document.querySelector('#df-3c186b15-1327-438b-80b6-51d92d24d2b2');\n",
              "          const dataTable =\n",
              "            await google.colab.kernel.invokeFunction('convertToInteractive',\n",
              "                                                     [key], {});\n",
              "          if (!dataTable) return;\n",
              "\n",
              "          const docLinkHtml = 'Like what you see? Visit the ' +\n",
              "            '<a target=\"_blank\" href=https://colab.research.google.com/notebooks/data_table.ipynb>data table notebook</a>'\n",
              "            + ' to learn more about interactive tables.';\n",
              "          element.innerHTML = '';\n",
              "          dataTable['output_type'] = 'display_data';\n",
              "          await google.colab.output.renderOutput(dataTable, element);\n",
              "          const docLink = document.createElement('div');\n",
              "          docLink.innerHTML = docLinkHtml;\n",
              "          element.appendChild(docLink);\n",
              "        }\n",
              "      </script>\n",
              "    </div>\n",
              "  </div>\n",
              "  "
            ]
          },
          "metadata": {},
          "execution_count": 11
        }
      ],
      "source": [
        "data_train_all.head()"
      ]
    },
    {
      "cell_type": "markdown",
      "source": [
        "### Useful classes and methods"
      ],
      "metadata": {
        "id": "d0msSS6g_crG"
      }
    },
    {
      "cell_type": "code",
      "source": [
        "class ColumnCategorizer(TransformerMixin, BaseEstimator):\n",
        "    \"\"\"Creates new categorical features using continuous columns\n",
        "    \n",
        "    Requires \n",
        "    - quantiles list\n",
        "    - columns to transform\n",
        "    - new columns names\n",
        "    \"\"\"\n",
        "    \n",
        "\n",
        "    def __init__(self, qs, new_columns, old_columns):\n",
        "        self.qs = qs #quantile list\n",
        "        self.new_columns = new_columns #columns to create\n",
        "        self.old_columns = old_columns #initial continuous columns\n",
        "        self.transformers = {} #transformers storage\n",
        "        \n",
        "\n",
        "    def fit(self, X, y=None):\n",
        "        \"\"\"Fit transformers on a part of the columns\n",
        "        X - train data\n",
        "        \"\"\"\n",
        "        \n",
        "        for column in self.old_columns:\n",
        "            bins = np.unique([X[column].quantile(q=q) for q in self.qs])\n",
        "            labels = [f\"{column}_bin_{l_edge}_{r_edge}\" for (l_edge, r_edge) in zip(bins[:-1], bins[1:])]\n",
        "            self.transformers[column] = sklearn.preprocessing.FunctionTransformer(\n",
        "                                             pd.cut, kw_args={'bins': bins, \n",
        "                                                              'include_lowest': True,\n",
        "                                                              'labels': labels, \n",
        "                                                              'retbins': False}\n",
        "                                                              ) \n",
        "            self.transformers[column].fit(X[column])\n",
        "        return self\n",
        "    \n",
        "\n",
        "    def transform(self, X):\n",
        "        \"\"\"Transform data and return Pandas DataFrame\n",
        "        X - data to transform\n",
        "        \"\"\"\n",
        "        \n",
        "        data_new = X.copy()\n",
        "        for column_old, column_new in zip(self.old_columns, self.new_columns):\n",
        "            data_new[column_new] = self.transformers[column_old].transform(data_new[column_old]).values\n",
        "        return data_new\n",
        "\n",
        "\n",
        "def names_to_cats(data_to_transform, cols):\n",
        "    \"\"\"Transform numeric categories using names of features\n",
        "    \n",
        "    data_to_transform - data to transform\n",
        "    cols - columns to change\n",
        "    \"\"\"\n",
        "\n",
        "    data_new = data_to_transform.copy()\n",
        "    for col in cols:\n",
        "        data_new[col] = data_new[col].apply(lambda x: f\"{col}_{x}\").values\n",
        "    return data_new"
      ],
      "metadata": {
        "id": "DezJQmrH_uvW"
      },
      "execution_count": null,
      "outputs": []
    },
    {
      "cell_type": "code",
      "execution_count": null,
      "metadata": {
        "id": "7qzUVOIYwu_U"
      },
      "outputs": [],
      "source": [
        "def get_lfm_dataset_obj(data_in, \n",
        "                        cat_cols_to_change,\n",
        "                        user_fe_cols,\n",
        "                        item_fe_cols,\n",
        "                        user_id_column,\n",
        "                        item_id_column,\n",
        "                        user_identity_features=True,\n",
        "                        item_identity_features=True):\n",
        "    \"\"\"Get lightfm dataset object from initial data\n",
        "    It's useful for further getting mappings \n",
        "\n",
        "    data_in - initial pandas DataFrame to use\n",
        "    cat_cols_to_change - columns to change via names_to_cats() method\n",
        "    user_fe_cols - user features columns WITHOUT the id columns\n",
        "    item_fe_cols - item features columns WITHOUT the id columns\n",
        "    user_id_column - user id column\n",
        "    item_id_column - item id column\n",
        "    user_identity_features - consider user id as a feature?\n",
        "    item_identity_features - consider item id as a feature?\n",
        "    \"\"\"\n",
        "\n",
        "    data_prep = names_to_cats(data_in, cat_cols_to_change)\n",
        "\n",
        "    user_fe_data = data_prep[user_fe_cols].values\n",
        "    item_fe_data = data_prep[item_fe_cols].values\n",
        "    user_id = data_prep[user_id_column].values.ravel()\n",
        "    item_id = data_prep[item_id_column].values.ravel()\n",
        "\n",
        "\n",
        "    dataset = data.Dataset(user_identity_features=user_identity_features,\n",
        "                           item_identity_features=item_identity_features)\n",
        "    dataset.fit(users=user_id, items=item_id,\n",
        "                user_features=user_fe_data.T.ravel(),\n",
        "                item_features=item_fe_data.T.ravel())\n",
        "    \n",
        "    return dataset\n",
        "\n",
        "\n",
        "def get_mappings(dataset):\n",
        "    \"\"\"Prepare the mappings\n",
        "\n",
        "    dataset - lightfm dataset object\n",
        "    \"\"\"\n",
        "\n",
        "    result_dict = {}\n",
        "    result_dict[\"user_id_mapping\"] = dataset.mapping()[0]\n",
        "    result_dict[\"item_id_mapping\"] = dataset.mapping()[2]\n",
        "    result_dict[\"user_fename_intid_mapping\"] = dataset._user_feature_mapping\n",
        "    result_dict[\"item_fename_intid_mapping\"] = dataset._item_feature_mapping\n",
        "    return result_dict\n",
        "\n",
        "\n",
        "def get_user_item_interactions(data_in, dataset,\n",
        "                               user_id_column,\n",
        "                               item_id_column):\n",
        "    \"\"\"Get users-items interaction matrix\n",
        "\n",
        "    data_in - train data\n",
        "    dataset - lightfm dataset object\n",
        "    user_id_column/item_id_column - user/item id columnd\n",
        "    \"\"\"\n",
        "    \n",
        "    user_id = data_in[user_id_column].values.ravel()\n",
        "    item_id = data_in[item_id_column].values.ravel()\n",
        "    interactions, _ = dataset.build_interactions(((x[0], x[1]) for x \\\n",
        "                                                    in zip(user_id, item_id)))\n",
        "    return interactions.tocsr()\n",
        "\n",
        "\n",
        "def features_to_indices(df, columns, feature_to_index, unknown_id):  \n",
        "    \"\"\"Convert initial dataframe into sequences of indices \n",
        "    from feature_to_index vocab\n",
        "\n",
        "    df - data to convert\n",
        "    columns - columns to use\n",
        "    feature_to_index - vocabulary\n",
        "    unknown_id - the value in feature_to_index for unknown values\n",
        "    \"\"\"\n",
        "\n",
        "    X = df[columns].values\n",
        "    m = X.shape[0]   # number of examples\n",
        "    max_len = X.shape[1] \n",
        "    X_indices = np.zeros((m, max_len))\n",
        "    \n",
        "    for i in range(m):\n",
        "        j = 0\n",
        "        for feature in X[i]:\n",
        "            # Set the (i,j)th entry of X_indices to the index of the correct token.\n",
        "            try:\n",
        "              X_indices[i, j] = feature_to_index[feature]\n",
        "            except:\n",
        "              X_indices[i, j] = feature_to_index[unknown_id]\n",
        "            j = j + 1\n",
        "       \n",
        "    return X_indices\n",
        "\n",
        "\n",
        "def get_interactions_train_id_mappings(mappings, \n",
        "                                     users_unique, \n",
        "                                     items_unique,\n",
        "                                     user_id_column,\n",
        "                                     item_id_column):\n",
        "    \"\"\"Get mappings between interactions ids \n",
        "    and ohe features ids\n",
        "\n",
        "    mappings - mappings from lfm dataset\n",
        "    users_unique - unique users features DataFrame (WITH id column)\n",
        "    items_unique - unique items features DataFrame (WITH id column)\n",
        "    user_id_column - user id column name\n",
        "    item_id_column - item id column name\n",
        "    \"\"\"\n",
        "    \n",
        "    result_dict = {}\n",
        "\n",
        "    users_iid_eid_mapping = {value: key for key, value in mappings[\"user_id_mapping\"].items()}\n",
        "    items_iid_eid_mapping = {value: key for key, value in mappings[\"item_id_mapping\"].items()}\n",
        "\n",
        "    users_eid_train_id_mapping = {value: key for key, value in users_unique[user_id_column].to_dict().items()}\n",
        "    items_eid_train_id_mapping = {value: key for key, value in items_unique[item_id_column].to_dict().items()}\n",
        "\n",
        "    result_dict[\"users_iid_train_id_mapping\"] = {key: users_eid_train_id_mapping[value] \\\n",
        "                                              for key, value in users_iid_eid_mapping.items()}\n",
        "    result_dict[\"items_iid_train_id_mapping\"] = {key: items_eid_train_id_mapping[value] \\\n",
        "                                              for key, value in items_iid_eid_mapping.items()}\n",
        "    \n",
        "    return result_dict"
      ]
    },
    {
      "cell_type": "markdown",
      "source": [
        "### Data preparation"
      ],
      "metadata": {
        "id": "aPduyY0iAhIH"
      }
    },
    {
      "cell_type": "code",
      "execution_count": null,
      "metadata": {
        "id": "Bj3IusjkslCf"
      },
      "outputs": [],
      "source": [
        "user_fe_cols = [\"city\", \"gender\", \"bd\"]\n",
        "item_fe_cols = [\"genre_ids\", \"artist_name\", \"composer\", \"language\"]\n",
        "user_id_column = \"msno\"\n",
        "item_id_column = \"song_id\"\n",
        "\n",
        "#Other lists of features\n",
        "cat_cols_to_change = [\"genre_ids\", \"language\", \"city\"] #columns to add name to value\n",
        "numeric_cols = [\"bd\"] #this columns will be categorized\n",
        "\n",
        "#Columns in the result dataframe\n",
        "result_cols = [user_id_column, item_id_column, \"target\"]"
      ]
    },
    {
      "cell_type": "code",
      "execution_count": null,
      "metadata": {
        "id": "6a2dwjY_LeOe",
        "colab": {
          "base_uri": "https://localhost:8080/"
        },
        "outputId": "e204b50b-abd8-4a82-d93f-4992f078f89d"
      },
      "outputs": [
        {
          "output_type": "execute_result",
          "data": {
            "text/plain": [
              "ColumnCategorizer(new_columns=['bd'], old_columns=['bd'],\n",
              "                  qs=array([0. , 0.1, 0.2, 0.3, 0.4, 0.5, 0.6, 0.7, 0.8, 0.9, 1. ]))"
            ]
          },
          "metadata": {},
          "execution_count": 15
        }
      ],
      "source": [
        "#####\n",
        "#quantile list for categorization\n",
        "QS = np.linspace(0, 1, 11, endpoint=True)\n",
        "#####\n",
        "\n",
        "categorizer = ColumnCategorizer(qs=QS, \n",
        "                                new_columns=numeric_cols, \n",
        "                                old_columns=numeric_cols)\n",
        "categorizer.fit(data_train_all)"
      ]
    },
    {
      "cell_type": "markdown",
      "source": [
        "Numeric features preparation"
      ],
      "metadata": {
        "id": "1Tpsa2RFAlwr"
      }
    },
    {
      "cell_type": "code",
      "execution_count": null,
      "metadata": {
        "id": "nL3Qi8RZAw8q",
        "colab": {
          "base_uri": "https://localhost:8080/",
          "height": 374
        },
        "outputId": "d04081d7-e507-421b-9301-381905323cac"
      },
      "outputs": [
        {
          "output_type": "execute_result",
          "data": {
            "text/plain": [
              "                                           msno  \\\n",
              "0  xvCGZ5McgEJlkYx2HNO1/CkD1CYjlA/gQL36iX8TYBY=   \n",
              "1  jOlB9i8NKGG2oudUKq9ObRyt3sXQnWWwcei1+s8sNIA=   \n",
              "2  fe+6batTKL/NxXhhzfDO3yBUmFmQUQAgRpYmF2T0t4E=   \n",
              "3  GVcP7SPQ/IgiEt2uxaXaRH5lFA5tBe8T74/Etk7cnG8=   \n",
              "4  XIfoYUt6vkAqVDRKJRVEHkV0jsaD+fif2EqxsobpEqg=   \n",
              "\n",
              "                                        song_id source_system_tab  \\\n",
              "0  868uXMrBS8WwQulNX0W+vk6sJA6Hs35YNtFYceXgX/I=             radio   \n",
              "1  a4TbK5V15pj3YZUOGa9h2U3t0OsE+3aiFw41mNlcgcw=        my library   \n",
              "2  5RLsVkl6PTt3pIyWvojM0z2LblVysXHxoc7Mc4LIFL8=        my library   \n",
              "3  7Xxzo9Z584Z1AhkaLLWEcpzcEuxcquGE52Ztc4879YI=          discover   \n",
              "4  rA+H/y66yC2qK0v926aWRFWngwJmL+IhGhJN4fBS0XM=             radio   \n",
              "\n",
              "     source_screen_name      source_type  target  song_length genre_ids  \\\n",
              "0                 Radio            radio       0     255373.0       465   \n",
              "1   Local playlist more    local-library       1     248790.0       465   \n",
              "2   Local playlist more    local-library       1     178887.0       921   \n",
              "3  Online playlist more  online-playlist       1     275136.0       465   \n",
              "4                 Radio            radio       0     243983.0       465   \n",
              "\n",
              "           artist_name composer lyricist  language  \\\n",
              "0                  張震嶽      NaN      NaN       3.0   \n",
              "1        吳汶芳 (Fang Wu)      吳汶芳      吳汶芳       3.0   \n",
              "2          Noel Coward      NaN      NaN      52.0   \n",
              "3           田馥甄 (Hebe)      楊子樸      施人誠       3.0   \n",
              "4  范瑋琪 (Christine Fan)      陳小霞      姚若龍       3.0   \n",
              "\n",
              "                             name          isrc  city  bd  gender  \\\n",
              "0                              勇氣  TWA450479802     1   0     NaN   \n",
              "1  孤獨的總和 (Accumulated Loneliness)  TWA211328806    13  31  female   \n",
              "2           Poor Little Rich Girl  USV291338277     5  33  female   \n",
              "3                          寂寞寂寞就好  TWD951043107     1   0     NaN   \n",
              "4                          最重要的決定  TWA211125202     5  22  female   \n",
              "\n",
              "   registered_via registration_init_time expiration_date  \n",
              "0               7             2013-05-14      2017-09-24  \n",
              "1               9             2011-04-19      2017-06-20  \n",
              "2               9             2008-08-05      2017-10-06  \n",
              "3               7             2011-02-25      2017-09-12  \n",
              "4               7             2013-07-29      2017-09-30  "
            ],
            "text/html": [
              "\n",
              "  <div id=\"df-b9f247c2-20fb-4106-aad2-6da25e24a6e1\">\n",
              "    <div class=\"colab-df-container\">\n",
              "      <div>\n",
              "<style scoped>\n",
              "    .dataframe tbody tr th:only-of-type {\n",
              "        vertical-align: middle;\n",
              "    }\n",
              "\n",
              "    .dataframe tbody tr th {\n",
              "        vertical-align: top;\n",
              "    }\n",
              "\n",
              "    .dataframe thead th {\n",
              "        text-align: right;\n",
              "    }\n",
              "</style>\n",
              "<table border=\"1\" class=\"dataframe\">\n",
              "  <thead>\n",
              "    <tr style=\"text-align: right;\">\n",
              "      <th></th>\n",
              "      <th>msno</th>\n",
              "      <th>song_id</th>\n",
              "      <th>source_system_tab</th>\n",
              "      <th>source_screen_name</th>\n",
              "      <th>source_type</th>\n",
              "      <th>target</th>\n",
              "      <th>song_length</th>\n",
              "      <th>genre_ids</th>\n",
              "      <th>artist_name</th>\n",
              "      <th>composer</th>\n",
              "      <th>lyricist</th>\n",
              "      <th>language</th>\n",
              "      <th>name</th>\n",
              "      <th>isrc</th>\n",
              "      <th>city</th>\n",
              "      <th>bd</th>\n",
              "      <th>gender</th>\n",
              "      <th>registered_via</th>\n",
              "      <th>registration_init_time</th>\n",
              "      <th>expiration_date</th>\n",
              "    </tr>\n",
              "  </thead>\n",
              "  <tbody>\n",
              "    <tr>\n",
              "      <th>0</th>\n",
              "      <td>xvCGZ5McgEJlkYx2HNO1/CkD1CYjlA/gQL36iX8TYBY=</td>\n",
              "      <td>868uXMrBS8WwQulNX0W+vk6sJA6Hs35YNtFYceXgX/I=</td>\n",
              "      <td>radio</td>\n",
              "      <td>Radio</td>\n",
              "      <td>radio</td>\n",
              "      <td>0</td>\n",
              "      <td>255373.0</td>\n",
              "      <td>465</td>\n",
              "      <td>張震嶽</td>\n",
              "      <td>NaN</td>\n",
              "      <td>NaN</td>\n",
              "      <td>3.0</td>\n",
              "      <td>勇氣</td>\n",
              "      <td>TWA450479802</td>\n",
              "      <td>1</td>\n",
              "      <td>0</td>\n",
              "      <td>NaN</td>\n",
              "      <td>7</td>\n",
              "      <td>2013-05-14</td>\n",
              "      <td>2017-09-24</td>\n",
              "    </tr>\n",
              "    <tr>\n",
              "      <th>1</th>\n",
              "      <td>jOlB9i8NKGG2oudUKq9ObRyt3sXQnWWwcei1+s8sNIA=</td>\n",
              "      <td>a4TbK5V15pj3YZUOGa9h2U3t0OsE+3aiFw41mNlcgcw=</td>\n",
              "      <td>my library</td>\n",
              "      <td>Local playlist more</td>\n",
              "      <td>local-library</td>\n",
              "      <td>1</td>\n",
              "      <td>248790.0</td>\n",
              "      <td>465</td>\n",
              "      <td>吳汶芳 (Fang Wu)</td>\n",
              "      <td>吳汶芳</td>\n",
              "      <td>吳汶芳</td>\n",
              "      <td>3.0</td>\n",
              "      <td>孤獨的總和 (Accumulated Loneliness)</td>\n",
              "      <td>TWA211328806</td>\n",
              "      <td>13</td>\n",
              "      <td>31</td>\n",
              "      <td>female</td>\n",
              "      <td>9</td>\n",
              "      <td>2011-04-19</td>\n",
              "      <td>2017-06-20</td>\n",
              "    </tr>\n",
              "    <tr>\n",
              "      <th>2</th>\n",
              "      <td>fe+6batTKL/NxXhhzfDO3yBUmFmQUQAgRpYmF2T0t4E=</td>\n",
              "      <td>5RLsVkl6PTt3pIyWvojM0z2LblVysXHxoc7Mc4LIFL8=</td>\n",
              "      <td>my library</td>\n",
              "      <td>Local playlist more</td>\n",
              "      <td>local-library</td>\n",
              "      <td>1</td>\n",
              "      <td>178887.0</td>\n",
              "      <td>921</td>\n",
              "      <td>Noel Coward</td>\n",
              "      <td>NaN</td>\n",
              "      <td>NaN</td>\n",
              "      <td>52.0</td>\n",
              "      <td>Poor Little Rich Girl</td>\n",
              "      <td>USV291338277</td>\n",
              "      <td>5</td>\n",
              "      <td>33</td>\n",
              "      <td>female</td>\n",
              "      <td>9</td>\n",
              "      <td>2008-08-05</td>\n",
              "      <td>2017-10-06</td>\n",
              "    </tr>\n",
              "    <tr>\n",
              "      <th>3</th>\n",
              "      <td>GVcP7SPQ/IgiEt2uxaXaRH5lFA5tBe8T74/Etk7cnG8=</td>\n",
              "      <td>7Xxzo9Z584Z1AhkaLLWEcpzcEuxcquGE52Ztc4879YI=</td>\n",
              "      <td>discover</td>\n",
              "      <td>Online playlist more</td>\n",
              "      <td>online-playlist</td>\n",
              "      <td>1</td>\n",
              "      <td>275136.0</td>\n",
              "      <td>465</td>\n",
              "      <td>田馥甄 (Hebe)</td>\n",
              "      <td>楊子樸</td>\n",
              "      <td>施人誠</td>\n",
              "      <td>3.0</td>\n",
              "      <td>寂寞寂寞就好</td>\n",
              "      <td>TWD951043107</td>\n",
              "      <td>1</td>\n",
              "      <td>0</td>\n",
              "      <td>NaN</td>\n",
              "      <td>7</td>\n",
              "      <td>2011-02-25</td>\n",
              "      <td>2017-09-12</td>\n",
              "    </tr>\n",
              "    <tr>\n",
              "      <th>4</th>\n",
              "      <td>XIfoYUt6vkAqVDRKJRVEHkV0jsaD+fif2EqxsobpEqg=</td>\n",
              "      <td>rA+H/y66yC2qK0v926aWRFWngwJmL+IhGhJN4fBS0XM=</td>\n",
              "      <td>radio</td>\n",
              "      <td>Radio</td>\n",
              "      <td>radio</td>\n",
              "      <td>0</td>\n",
              "      <td>243983.0</td>\n",
              "      <td>465</td>\n",
              "      <td>范瑋琪 (Christine Fan)</td>\n",
              "      <td>陳小霞</td>\n",
              "      <td>姚若龍</td>\n",
              "      <td>3.0</td>\n",
              "      <td>最重要的決定</td>\n",
              "      <td>TWA211125202</td>\n",
              "      <td>5</td>\n",
              "      <td>22</td>\n",
              "      <td>female</td>\n",
              "      <td>7</td>\n",
              "      <td>2013-07-29</td>\n",
              "      <td>2017-09-30</td>\n",
              "    </tr>\n",
              "  </tbody>\n",
              "</table>\n",
              "</div>\n",
              "      <button class=\"colab-df-convert\" onclick=\"convertToInteractive('df-b9f247c2-20fb-4106-aad2-6da25e24a6e1')\"\n",
              "              title=\"Convert this dataframe to an interactive table.\"\n",
              "              style=\"display:none;\">\n",
              "        \n",
              "  <svg xmlns=\"http://www.w3.org/2000/svg\" height=\"24px\"viewBox=\"0 0 24 24\"\n",
              "       width=\"24px\">\n",
              "    <path d=\"M0 0h24v24H0V0z\" fill=\"none\"/>\n",
              "    <path d=\"M18.56 5.44l.94 2.06.94-2.06 2.06-.94-2.06-.94-.94-2.06-.94 2.06-2.06.94zm-11 1L8.5 8.5l.94-2.06 2.06-.94-2.06-.94L8.5 2.5l-.94 2.06-2.06.94zm10 10l.94 2.06.94-2.06 2.06-.94-2.06-.94-.94-2.06-.94 2.06-2.06.94z\"/><path d=\"M17.41 7.96l-1.37-1.37c-.4-.4-.92-.59-1.43-.59-.52 0-1.04.2-1.43.59L10.3 9.45l-7.72 7.72c-.78.78-.78 2.05 0 2.83L4 21.41c.39.39.9.59 1.41.59.51 0 1.02-.2 1.41-.59l7.78-7.78 2.81-2.81c.8-.78.8-2.07 0-2.86zM5.41 20L4 18.59l7.72-7.72 1.47 1.35L5.41 20z\"/>\n",
              "  </svg>\n",
              "      </button>\n",
              "      \n",
              "  <style>\n",
              "    .colab-df-container {\n",
              "      display:flex;\n",
              "      flex-wrap:wrap;\n",
              "      gap: 12px;\n",
              "    }\n",
              "\n",
              "    .colab-df-convert {\n",
              "      background-color: #E8F0FE;\n",
              "      border: none;\n",
              "      border-radius: 50%;\n",
              "      cursor: pointer;\n",
              "      display: none;\n",
              "      fill: #1967D2;\n",
              "      height: 32px;\n",
              "      padding: 0 0 0 0;\n",
              "      width: 32px;\n",
              "    }\n",
              "\n",
              "    .colab-df-convert:hover {\n",
              "      background-color: #E2EBFA;\n",
              "      box-shadow: 0px 1px 2px rgba(60, 64, 67, 0.3), 0px 1px 3px 1px rgba(60, 64, 67, 0.15);\n",
              "      fill: #174EA6;\n",
              "    }\n",
              "\n",
              "    [theme=dark] .colab-df-convert {\n",
              "      background-color: #3B4455;\n",
              "      fill: #D2E3FC;\n",
              "    }\n",
              "\n",
              "    [theme=dark] .colab-df-convert:hover {\n",
              "      background-color: #434B5C;\n",
              "      box-shadow: 0px 1px 3px 1px rgba(0, 0, 0, 0.15);\n",
              "      filter: drop-shadow(0px 1px 2px rgba(0, 0, 0, 0.3));\n",
              "      fill: #FFFFFF;\n",
              "    }\n",
              "  </style>\n",
              "\n",
              "      <script>\n",
              "        const buttonEl =\n",
              "          document.querySelector('#df-b9f247c2-20fb-4106-aad2-6da25e24a6e1 button.colab-df-convert');\n",
              "        buttonEl.style.display =\n",
              "          google.colab.kernel.accessAllowed ? 'block' : 'none';\n",
              "\n",
              "        async function convertToInteractive(key) {\n",
              "          const element = document.querySelector('#df-b9f247c2-20fb-4106-aad2-6da25e24a6e1');\n",
              "          const dataTable =\n",
              "            await google.colab.kernel.invokeFunction('convertToInteractive',\n",
              "                                                     [key], {});\n",
              "          if (!dataTable) return;\n",
              "\n",
              "          const docLinkHtml = 'Like what you see? Visit the ' +\n",
              "            '<a target=\"_blank\" href=https://colab.research.google.com/notebooks/data_table.ipynb>data table notebook</a>'\n",
              "            + ' to learn more about interactive tables.';\n",
              "          element.innerHTML = '';\n",
              "          dataTable['output_type'] = 'display_data';\n",
              "          await google.colab.output.renderOutput(dataTable, element);\n",
              "          const docLink = document.createElement('div');\n",
              "          docLink.innerHTML = docLinkHtml;\n",
              "          element.appendChild(docLink);\n",
              "        }\n",
              "      </script>\n",
              "    </div>\n",
              "  </div>\n",
              "  "
            ]
          },
          "metadata": {},
          "execution_count": 16
        }
      ],
      "source": [
        "data_train_fin = categorizer.transform(data_train_all)\n",
        "data_test_fin = categorizer.transform(data_test)\n",
        "data_val_fin = categorizer.transform(data_val)\n",
        "cold_users_data_fin = categorizer.transform(cold_users_data)\n",
        "cold_items_data_fin = categorizer.transform(cold_items_data)\n",
        "data_train_all.head()"
      ]
    },
    {
      "cell_type": "markdown",
      "source": [
        "Get interactions matrix and prepare train categorical columns"
      ],
      "metadata": {
        "id": "rNDnDBJXAp7h"
      }
    },
    {
      "cell_type": "code",
      "execution_count": null,
      "metadata": {
        "id": "nXfEzZmS2YyL"
      },
      "outputs": [],
      "source": [
        "lfm_dataset = get_lfm_dataset_obj(data_train_fin[data_train_fin.target==1], \n",
        "                                  cat_cols_to_change,\n",
        "                                  user_fe_cols,\n",
        "                                  item_fe_cols,\n",
        "                                  user_id_column,\n",
        "                                  item_id_column,\n",
        "                                  user_identity_features=True,\n",
        "                                  item_identity_features=False)"
      ]
    },
    {
      "cell_type": "code",
      "execution_count": null,
      "metadata": {
        "colab": {
          "base_uri": "https://localhost:8080/"
        },
        "id": "eqWEkUPt-Qjg",
        "outputId": "1f846184-e2b9-45cb-b476-1d6062ae7bee"
      },
      "outputs": [
        {
          "output_type": "execute_result",
          "data": {
            "text/plain": [
              "<24035x180541 sparse matrix of type '<class 'numpy.int32'>'\n",
              "\twith 2539875 stored elements in Compressed Sparse Row format>"
            ]
          },
          "metadata": {},
          "execution_count": 18
        }
      ],
      "source": [
        "interactions = get_user_item_interactions(data_train_fin[data_train_fin.target==1], lfm_dataset,\n",
        "                                          user_id_column,\n",
        "                                          item_id_column)\n",
        "interactions"
      ]
    },
    {
      "cell_type": "code",
      "execution_count": null,
      "metadata": {
        "id": "ERSlNs-P21OF",
        "colab": {
          "base_uri": "https://localhost:8080/"
        },
        "outputId": "b41dec46-f50a-490a-aa3d-95b70bd84f23"
      },
      "outputs": [
        {
          "output_type": "execute_result",
          "data": {
            "text/plain": [
              "(24067, 64079)"
            ]
          },
          "metadata": {},
          "execution_count": 19
        }
      ],
      "source": [
        "mappings = get_mappings(lfm_dataset)\n",
        "len(mappings[\"user_fename_intid_mapping\"]), len(mappings[\"item_fename_intid_mapping\"])"
      ]
    },
    {
      "cell_type": "code",
      "execution_count": null,
      "metadata": {
        "id": "eJC0-wRHtEtJ",
        "colab": {
          "base_uri": "https://localhost:8080/",
          "height": 354
        },
        "outputId": "e578f102-8b1f-4f55-bb9f-2fca3babf962"
      },
      "outputs": [
        {
          "output_type": "execute_result",
          "data": {
            "text/plain": [
              "               genre_ids               artist_name  \\\n",
              "0          genre_ids_465             吳汶芳 (Fang Wu)   \n",
              "1          genre_ids_921               Noel Coward   \n",
              "2          genre_ids_465                田馥甄 (Hebe)   \n",
              "3  genre_ids_139|125|109                  Al Green   \n",
              "4          genre_ids_444  Girls' Generation (少女時代)   \n",
              "\n",
              "                                            composer       language  \\\n",
              "0                                                吳汶芳   language_3.0   \n",
              "1                                                NaN  language_52.0   \n",
              "2                                                楊子樸   language_3.0   \n",
              "3                                           Al Green  language_52.0   \n",
              "4  Cho Yun Kyoung| Kim Hee Jung| Harvey Mason Jr....  language_31.0   \n",
              "\n",
              "                                        song_id  \n",
              "0  a4TbK5V15pj3YZUOGa9h2U3t0OsE+3aiFw41mNlcgcw=  \n",
              "1  5RLsVkl6PTt3pIyWvojM0z2LblVysXHxoc7Mc4LIFL8=  \n",
              "2  7Xxzo9Z584Z1AhkaLLWEcpzcEuxcquGE52Ztc4879YI=  \n",
              "3  XywiBSwrlFPkeg1pNJcH99AxP8loYVD8Twr+WrjjqxM=  \n",
              "4  yiaUAbtf5E8J/aLzeDe3V/zT/sXzbZiIE3m/JvEB1jI=  "
            ],
            "text/html": [
              "\n",
              "  <div id=\"df-7ce49687-42c3-4a10-84d3-ce39893b9e36\">\n",
              "    <div class=\"colab-df-container\">\n",
              "      <div>\n",
              "<style scoped>\n",
              "    .dataframe tbody tr th:only-of-type {\n",
              "        vertical-align: middle;\n",
              "    }\n",
              "\n",
              "    .dataframe tbody tr th {\n",
              "        vertical-align: top;\n",
              "    }\n",
              "\n",
              "    .dataframe thead th {\n",
              "        text-align: right;\n",
              "    }\n",
              "</style>\n",
              "<table border=\"1\" class=\"dataframe\">\n",
              "  <thead>\n",
              "    <tr style=\"text-align: right;\">\n",
              "      <th></th>\n",
              "      <th>genre_ids</th>\n",
              "      <th>artist_name</th>\n",
              "      <th>composer</th>\n",
              "      <th>language</th>\n",
              "      <th>song_id</th>\n",
              "    </tr>\n",
              "  </thead>\n",
              "  <tbody>\n",
              "    <tr>\n",
              "      <th>0</th>\n",
              "      <td>genre_ids_465</td>\n",
              "      <td>吳汶芳 (Fang Wu)</td>\n",
              "      <td>吳汶芳</td>\n",
              "      <td>language_3.0</td>\n",
              "      <td>a4TbK5V15pj3YZUOGa9h2U3t0OsE+3aiFw41mNlcgcw=</td>\n",
              "    </tr>\n",
              "    <tr>\n",
              "      <th>1</th>\n",
              "      <td>genre_ids_921</td>\n",
              "      <td>Noel Coward</td>\n",
              "      <td>NaN</td>\n",
              "      <td>language_52.0</td>\n",
              "      <td>5RLsVkl6PTt3pIyWvojM0z2LblVysXHxoc7Mc4LIFL8=</td>\n",
              "    </tr>\n",
              "    <tr>\n",
              "      <th>2</th>\n",
              "      <td>genre_ids_465</td>\n",
              "      <td>田馥甄 (Hebe)</td>\n",
              "      <td>楊子樸</td>\n",
              "      <td>language_3.0</td>\n",
              "      <td>7Xxzo9Z584Z1AhkaLLWEcpzcEuxcquGE52Ztc4879YI=</td>\n",
              "    </tr>\n",
              "    <tr>\n",
              "      <th>3</th>\n",
              "      <td>genre_ids_139|125|109</td>\n",
              "      <td>Al Green</td>\n",
              "      <td>Al Green</td>\n",
              "      <td>language_52.0</td>\n",
              "      <td>XywiBSwrlFPkeg1pNJcH99AxP8loYVD8Twr+WrjjqxM=</td>\n",
              "    </tr>\n",
              "    <tr>\n",
              "      <th>4</th>\n",
              "      <td>genre_ids_444</td>\n",
              "      <td>Girls' Generation (少女時代)</td>\n",
              "      <td>Cho Yun Kyoung| Kim Hee Jung| Harvey Mason Jr....</td>\n",
              "      <td>language_31.0</td>\n",
              "      <td>yiaUAbtf5E8J/aLzeDe3V/zT/sXzbZiIE3m/JvEB1jI=</td>\n",
              "    </tr>\n",
              "  </tbody>\n",
              "</table>\n",
              "</div>\n",
              "      <button class=\"colab-df-convert\" onclick=\"convertToInteractive('df-7ce49687-42c3-4a10-84d3-ce39893b9e36')\"\n",
              "              title=\"Convert this dataframe to an interactive table.\"\n",
              "              style=\"display:none;\">\n",
              "        \n",
              "  <svg xmlns=\"http://www.w3.org/2000/svg\" height=\"24px\"viewBox=\"0 0 24 24\"\n",
              "       width=\"24px\">\n",
              "    <path d=\"M0 0h24v24H0V0z\" fill=\"none\"/>\n",
              "    <path d=\"M18.56 5.44l.94 2.06.94-2.06 2.06-.94-2.06-.94-.94-2.06-.94 2.06-2.06.94zm-11 1L8.5 8.5l.94-2.06 2.06-.94-2.06-.94L8.5 2.5l-.94 2.06-2.06.94zm10 10l.94 2.06.94-2.06 2.06-.94-2.06-.94-.94-2.06-.94 2.06-2.06.94z\"/><path d=\"M17.41 7.96l-1.37-1.37c-.4-.4-.92-.59-1.43-.59-.52 0-1.04.2-1.43.59L10.3 9.45l-7.72 7.72c-.78.78-.78 2.05 0 2.83L4 21.41c.39.39.9.59 1.41.59.51 0 1.02-.2 1.41-.59l7.78-7.78 2.81-2.81c.8-.78.8-2.07 0-2.86zM5.41 20L4 18.59l7.72-7.72 1.47 1.35L5.41 20z\"/>\n",
              "  </svg>\n",
              "      </button>\n",
              "      \n",
              "  <style>\n",
              "    .colab-df-container {\n",
              "      display:flex;\n",
              "      flex-wrap:wrap;\n",
              "      gap: 12px;\n",
              "    }\n",
              "\n",
              "    .colab-df-convert {\n",
              "      background-color: #E8F0FE;\n",
              "      border: none;\n",
              "      border-radius: 50%;\n",
              "      cursor: pointer;\n",
              "      display: none;\n",
              "      fill: #1967D2;\n",
              "      height: 32px;\n",
              "      padding: 0 0 0 0;\n",
              "      width: 32px;\n",
              "    }\n",
              "\n",
              "    .colab-df-convert:hover {\n",
              "      background-color: #E2EBFA;\n",
              "      box-shadow: 0px 1px 2px rgba(60, 64, 67, 0.3), 0px 1px 3px 1px rgba(60, 64, 67, 0.15);\n",
              "      fill: #174EA6;\n",
              "    }\n",
              "\n",
              "    [theme=dark] .colab-df-convert {\n",
              "      background-color: #3B4455;\n",
              "      fill: #D2E3FC;\n",
              "    }\n",
              "\n",
              "    [theme=dark] .colab-df-convert:hover {\n",
              "      background-color: #434B5C;\n",
              "      box-shadow: 0px 1px 3px 1px rgba(0, 0, 0, 0.15);\n",
              "      filter: drop-shadow(0px 1px 2px rgba(0, 0, 0, 0.3));\n",
              "      fill: #FFFFFF;\n",
              "    }\n",
              "  </style>\n",
              "\n",
              "      <script>\n",
              "        const buttonEl =\n",
              "          document.querySelector('#df-7ce49687-42c3-4a10-84d3-ce39893b9e36 button.colab-df-convert');\n",
              "        buttonEl.style.display =\n",
              "          google.colab.kernel.accessAllowed ? 'block' : 'none';\n",
              "\n",
              "        async function convertToInteractive(key) {\n",
              "          const element = document.querySelector('#df-7ce49687-42c3-4a10-84d3-ce39893b9e36');\n",
              "          const dataTable =\n",
              "            await google.colab.kernel.invokeFunction('convertToInteractive',\n",
              "                                                     [key], {});\n",
              "          if (!dataTable) return;\n",
              "\n",
              "          const docLinkHtml = 'Like what you see? Visit the ' +\n",
              "            '<a target=\"_blank\" href=https://colab.research.google.com/notebooks/data_table.ipynb>data table notebook</a>'\n",
              "            + ' to learn more about interactive tables.';\n",
              "          element.innerHTML = '';\n",
              "          dataTable['output_type'] = 'display_data';\n",
              "          await google.colab.output.renderOutput(dataTable, element);\n",
              "          const docLink = document.createElement('div');\n",
              "          docLink.innerHTML = docLinkHtml;\n",
              "          element.appendChild(docLink);\n",
              "        }\n",
              "      </script>\n",
              "    </div>\n",
              "  </div>\n",
              "  "
            ]
          },
          "metadata": {},
          "execution_count": 20
        }
      ],
      "source": [
        "data_train_prep = names_to_cats(data_train_fin[data_train_fin.target==1], cols=cat_cols_to_change)\n",
        "users_unique = data_train_prep[user_fe_cols + [user_id_column]].drop_duplicates().reset_index(drop=True)\n",
        "items_unique = data_train_prep[item_fe_cols + [item_id_column]].drop_duplicates().reset_index(drop=True)\n",
        "items_unique.head()"
      ]
    },
    {
      "cell_type": "markdown",
      "source": [
        "Augment the mappings with the unknown tokens patches"
      ],
      "metadata": {
        "id": "Bd8VRkfkN2Rn"
      }
    },
    {
      "cell_type": "code",
      "source": [
        "users_f2i = copy.deepcopy(mappings[\"user_fename_intid_mapping\"])\n",
        "users_f2i[\"USER_UNKN\"] = len(mappings[\"user_fename_intid_mapping\"])\n",
        "items_f2i = copy.deepcopy(mappings[\"item_fename_intid_mapping\"])\n",
        "items_f2i[\"ITEM_UNKN\"] = len(mappings[\"item_fename_intid_mapping\"])"
      ],
      "metadata": {
        "id": "fjQK0BedY9s2"
      },
      "execution_count": null,
      "outputs": []
    },
    {
      "cell_type": "markdown",
      "source": [
        "Get mappings for the batch generation"
      ],
      "metadata": {
        "id": "ys-snIu3BgBw"
      }
    },
    {
      "cell_type": "code",
      "execution_count": null,
      "metadata": {
        "id": "_9lnwLYS81ot",
        "colab": {
          "base_uri": "https://localhost:8080/"
        },
        "outputId": "67528db3-04bb-4bb7-e530-541b96393da4"
      },
      "outputs": [
        {
          "output_type": "execute_result",
          "data": {
            "text/plain": [
              "(24035, 180541)"
            ]
          },
          "metadata": {},
          "execution_count": 22
        }
      ],
      "source": [
        "interactions_train_id_mappings = get_interactions_train_id_mappings(mappings, \n",
        "                                                                    users_unique, \n",
        "                                                                    items_unique,\n",
        "                                                                    user_id_column,\n",
        "                                                                    item_id_column)\n",
        "users_iid_train_id_mapping = interactions_train_id_mappings['users_iid_train_id_mapping']\n",
        "items_iid_train_id_mapping = interactions_train_id_mappings['items_iid_train_id_mapping']\n",
        "len(users_iid_train_id_mapping), len(items_iid_train_id_mapping)"
      ]
    },
    {
      "cell_type": "markdown",
      "source": [
        "### Get matrices with ids - our final model inputs"
      ],
      "metadata": {
        "id": "skglwLJ3BQA6"
      }
    },
    {
      "cell_type": "code",
      "source": [
        "users_feats_ids = features_to_indices(users_unique, user_fe_cols+[user_id_column],\n",
        "                                feature_to_index=users_f2i, \n",
        "                                unknown_id=\"USER_UNKN\")\n",
        "items_feats_ids = features_to_indices(items_unique, item_fe_cols,\n",
        "                                feature_to_index=items_f2i,\n",
        "                                unknown_id=\"ITEM_UNKN\")\n",
        "users_feats_ids"
      ],
      "metadata": {
        "id": "5LnKla4_VHzh",
        "colab": {
          "base_uri": "https://localhost:8080/"
        },
        "outputId": "a9e726a0-548e-41e6-bdb4-05d60b144c51"
      },
      "execution_count": null,
      "outputs": [
        {
          "output_type": "execute_result",
          "data": {
            "text/plain": [
              "array([[2.4035e+04, 2.4056e+04, 2.4059e+04, 0.0000e+00],\n",
              "       [2.4036e+04, 2.4056e+04, 2.4059e+04, 1.0000e+00],\n",
              "       [2.4037e+04, 2.4057e+04, 2.4060e+04, 2.0000e+00],\n",
              "       ...,\n",
              "       [2.4037e+04, 2.4057e+04, 2.4060e+04, 2.4032e+04],\n",
              "       [2.4037e+04, 2.4057e+04, 2.4060e+04, 2.4033e+04],\n",
              "       [2.4037e+04, 2.4057e+04, 2.4060e+04, 2.4034e+04]])"
            ]
          },
          "metadata": {},
          "execution_count": 23
        }
      ]
    },
    {
      "cell_type": "code",
      "execution_count": null,
      "metadata": {
        "colab": {
          "base_uri": "https://localhost:8080/"
        },
        "id": "oYW6nH4851-9",
        "outputId": "fea2c46c-556a-4319-ad79-86ae785eef5e"
      },
      "outputs": [
        {
          "output_type": "execute_result",
          "data": {
            "text/plain": [
              "203"
            ]
          },
          "metadata": {},
          "execution_count": 24
        }
      ],
      "source": [
        "del data_train_all, data_train_prep, data_train_fin\n",
        "gc.collect()"
      ]
    },
    {
      "cell_type": "markdown",
      "source": [
        "### Training"
      ],
      "metadata": {
        "id": "N23EvlluB2Io"
      }
    },
    {
      "cell_type": "markdown",
      "source": [
        "First of all, choose embeddings size"
      ],
      "metadata": {
        "id": "iywK3yzCB5lb"
      }
    },
    {
      "cell_type": "code",
      "source": [
        "####\n",
        "EMBEDDINGS_DIM = 200\n",
        "####"
      ],
      "metadata": {
        "id": "CEHSyLcRNgrI"
      },
      "execution_count": null,
      "outputs": []
    },
    {
      "cell_type": "markdown",
      "source": [
        "Then, initialize the loss function and  the batch generator (here are some changes for the previous lesson) "
      ],
      "metadata": {
        "id": "2LGRLK4eCD9x"
      }
    },
    {
      "cell_type": "code",
      "execution_count": null,
      "metadata": {
        "id": "V1NbeYen3ur_"
      },
      "outputs": [],
      "source": [
        "def triplet_loss(y_true, y_pred, n=EMBEDDINGS_DIM, alpha=0.5):\n",
        "    \"\"\"Basic triplet loss implementation, \n",
        "    input params and their order should fit the keras loss interface\n",
        "\n",
        "    y_true- keras interface param, only a patch for correct work\n",
        "    y_pred - keras interface param, concatenated vector\n",
        "    n - embedding dim size\n",
        "    alpha - training parameter\n",
        "    \"\"\"\n",
        "\n",
        "    input_vec = y_pred\n",
        "    anchor = input_vec[:, 0 : n]\n",
        "    positive = input_vec[:, n : 2*n]\n",
        "    negative = input_vec[:, 2*n : 3*n]\n",
        "\n",
        "    p_dist = K.sum(K.square(anchor - positive), axis=1)\n",
        "    n_dist = K.sum(K.square(anchor - negative), axis=1)\n",
        "\n",
        "    loss = K.maximum(p_dist - n_dist + alpha, 0.0)\n",
        " \n",
        "    return loss"
      ]
    },
    {
      "cell_type": "code",
      "source": [
        "def batch_generator_v2(items, users, \n",
        "                      interactions, \n",
        "                      users_iid_train_id_mapping,\n",
        "                      items_iid_train_id_mapping,\n",
        "                      batch_size=512):\n",
        "  \n",
        "    \"\"\"Batch generator method (version for cnn models)\n",
        "    The function randomly chooses the user id, positive and negative items ids\n",
        "    \"batch_size\" times\n",
        "\n",
        "    items - items features\n",
        "    users - users features\n",
        "    interactions - users-items sparse interactions matrix\n",
        "    users_iid_train_id_mapping/items_iid_train_id_mapping - interaction matrix ids \n",
        "          -> features ids mappings \n",
        "    batch_size - the numbers of triplets in a batch\n",
        "    \"\"\"\n",
        "\n",
        "\n",
        "    while True:\n",
        "        uid_features = []\n",
        "        pos = []\n",
        "        neg = []\n",
        "        uid_sample = random.sample(list(range(0, interactions.shape[0] - 1)), batch_size)\n",
        "        user_sample_interactions = interactions[uid_sample].toarray()\n",
        "        prob_dists = user_sample_interactions / np.sum(user_sample_interactions, axis=1, keepdims=True)\n",
        "        pos_i_sample = []\n",
        "        for i in range(batch_size):\n",
        "            pos_i_sample.append(np.random.choice(range(interactions.shape[1]), p=prob_dists[i]))         \n",
        "        neg_i_sample = random.choices(range(interactions.shape[1]), k=batch_size)\n",
        "\n",
        "        user_oheid_sample = []\n",
        "        pos_i_oheid_sample = []\n",
        "        neg_i_oheid_sample = []\n",
        "        for i in range(batch_size):\n",
        "            user_oheid_sample.append(users_iid_train_id_mapping[uid_sample[i]])\n",
        "            pos_i_oheid_sample.append(items_iid_train_id_mapping[pos_i_sample[i]])\n",
        "            neg_i_oheid_sample.append(items_iid_train_id_mapping[neg_i_sample[i]])\n",
        "        \n",
        "        #users features\n",
        "        uid_features.extend(users[user_oheid_sample])\n",
        "        #items features\n",
        "        pos.extend(items[pos_i_oheid_sample])\n",
        "        neg.extend(items[neg_i_oheid_sample])\n",
        "        \n",
        "        gc.collect()\n",
        "            \n",
        "        yield [np.array(uid_features), np.array(pos), np.array(neg)], [np.zeros((batch_size, 1))]"
      ],
      "metadata": {
        "id": "l4AJj7qaJHLI"
      },
      "execution_count": null,
      "outputs": []
    },
    {
      "cell_type": "markdown",
      "source": [
        "#### Check out how the generator works"
      ],
      "metadata": {
        "id": "cxLSxSh7DVEi"
      }
    },
    {
      "cell_type": "code",
      "source": [
        "generator_ex = batch_generator_v2(items=items_feats_ids, \n",
        "                                  users=users_feats_ids, \n",
        "                                  interactions=interactions,\n",
        "                                  users_iid_train_id_mapping=users_iid_train_id_mapping,\n",
        "                                  items_iid_train_id_mapping=items_iid_train_id_mapping)\n",
        "\n",
        "result = next(generator_ex)\n",
        "\n",
        "\n",
        "print(f\"Users batch shape: {result[0][0].shape}\")\n",
        "print(f\"Positive items batch shape: {result[0][1].shape}\")\n",
        "print(f\"Negative items batch shape: {result[0][2].shape}\")\n",
        "print()\n",
        "print(f\"Patch to fit the keras interface: {result[1][0].shape}\")"
      ],
      "metadata": {
        "colab": {
          "base_uri": "https://localhost:8080/"
        },
        "id": "nXpRmawSPr1L",
        "outputId": "c16aca89-f1c0-4faf-9d84-63ee530447c3"
      },
      "execution_count": null,
      "outputs": [
        {
          "output_type": "stream",
          "name": "stdout",
          "text": [
            "Users batch shape: (512, 4)\n",
            "Positive items batch shape: (512, 4)\n",
            "Negative items batch shape: (512, 4)\n",
            "\n",
            "Patch to fit the keras interface: (512, 1)\n"
          ]
        }
      ]
    },
    {
      "cell_type": "markdown",
      "source": [
        "### Initialize our simple dssm model graph"
      ],
      "metadata": {
        "id": "2O1gz02KD1DK"
      }
    },
    {
      "cell_type": "markdown",
      "source": [
        "Here, we'll use 1D convolutional and pooling layers. If you have no experience with such networks, don't worry. Here, are some great links to research :)\n",
        "- https://towardsdatascience.com/intuitively-understanding-convolutions-for-deep-learning-1f6f42faee1\n",
        "- https://towardsdatascience.com/understanding-1d-and-3d-convolution-neural-network-keras-9d8f76e29610\n",
        "- https://www.geeksforgeeks.org/cnn-introduction-to-pooling-layer/#:~:text=Pooling%20layers%20are%20used%20to,generated%20by%20a%20convolution%20layer."
      ],
      "metadata": {
        "id": "9npJVTWTHS7C"
      }
    },
    {
      "cell_type": "markdown",
      "source": [
        "Some input params"
      ],
      "metadata": {
        "id": "zmXFBKH8D4e9"
      }
    },
    {
      "cell_type": "code",
      "source": [
        "####\n",
        "#internal embeddings layer dim size (not the resulting embeddings)\n",
        "INT_EMB_DIM = 300\n",
        "#Conv layers params\n",
        "conv_sc_param = 3\n",
        "kernel_size = 2\n",
        "#Pooling param\n",
        "pool_size = 2\n",
        "####\n",
        "\n",
        "USER_INPUT_SHAPE = (users_feats_ids.shape[1], )\n",
        "USER_VOCAB_LEN = len(users_f2i)\n",
        "ITEM_INPUT_SHAPE = (items_feats_ids.shape[1], )\n",
        "ITEM_VOCAB_LEN = len(items_f2i)"
      ],
      "metadata": {
        "id": "l3_cSaJhSLe4"
      },
      "execution_count": null,
      "outputs": []
    },
    {
      "cell_type": "markdown",
      "source": [
        "Our architecture is pretty simple here. For example, the user model:"
      ],
      "metadata": {
        "id": "llDfyCsHH_3I"
      }
    },
    {
      "cell_type": "markdown",
      "source": [
        "![image.png](data:image/png;base64,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)"
      ],
      "metadata": {
        "id": "F8Kb8XaZIM4L"
      }
    },
    {
      "cell_type": "code",
      "source": [
        "# User model\n",
        "u2v = keras.Sequential(\n",
        "    [\n",
        "        keras.layers.Input(shape=USER_INPUT_SHAPE, name=\"u2v_input\", dtype='int32'),\n",
        "        keras.layers.Embedding(input_dim=USER_VOCAB_LEN, output_dim=INT_EMB_DIM, name=\"u2v_embeddings\"),\n",
        "        keras.layers.Conv1D(conv_sc_param * EMBEDDINGS_DIM, kernel_size, activation='relu', name=\"u2v_conv_layer\"),\n",
        "        keras.layers.MaxPooling1D(pool_size, name=\"u2v_pooling_layer\"),\n",
        "        keras.layers.Flatten(name=\"u2v_reshape\"),\n",
        "        keras.layers.Dense(EMBEDDINGS_DIM, activation='linear', name=\"u2v_output_layer\")\n",
        "    ],\n",
        "    name=\"u2v_model\"\n",
        ")\n",
        "# Item model\n",
        "i2v = keras.Sequential(\n",
        "    [\n",
        "        keras.layers.Input(shape=ITEM_INPUT_SHAPE, name=\"i2v_input\", dtype='int32'),\n",
        "        keras.layers.Embedding(input_dim=ITEM_VOCAB_LEN, output_dim=INT_EMB_DIM, name=\"i2v_embeddings\"),\n",
        "        keras.layers.Conv1D(conv_sc_param * EMBEDDINGS_DIM, kernel_size, activation='relu', name=\"i2v_conv_layer\"),\n",
        "        keras.layers.MaxPooling1D(pool_size, name=\"i2v_pooling_layer\"),\n",
        "        keras.layers.Flatten(name=\"i2v_reshape\"),\n",
        "        keras.layers.Dense(EMBEDDINGS_DIM, activation='linear', name=\"i2v_output_layer\")\n",
        "    ],\n",
        "    name=\"i2v_model\"\n",
        ")\n",
        "\n",
        "ancor_inp = keras.layers.Input(shape=USER_INPUT_SHAPE)\n",
        "pos_inp = keras.layers.Input(shape=ITEM_INPUT_SHAPE)\n",
        "neg_inp = keras.layers.Input(shape=ITEM_INPUT_SHAPE)\n",
        "ancor = u2v(ancor_inp)\n",
        "positive = i2v(pos_inp)\n",
        "negative = i2v(neg_inp)\n",
        "merged_vecs = keras.layers.Concatenate(name=\"anc_pos_neg_concat\")([ancor, positive, negative])\n",
        "model = keras.models.Model([ancor_inp, pos_inp, neg_inp], merged_vecs, name=\"my_model\")"
      ],
      "metadata": {
        "id": "H_Ao2D3_SSJC"
      },
      "execution_count": null,
      "outputs": []
    },
    {
      "cell_type": "markdown",
      "source": [
        "### Define the optimizer, some callbacks and compile our model"
      ],
      "metadata": {
        "id": "q7nMy-C9FHv4"
      }
    },
    {
      "cell_type": "code",
      "source": [
        "name = 'dssm_cnn_basic'\n",
        "optimizer = keras.optimizers.Adam(learning_rate=0.001)\n",
        "\n",
        "lr_reduce = keras.callbacks.ReduceLROnPlateau(monitor='loss', patience=1, factor=0.7, verbose=1)\n",
        "saving = keras.callbacks.ModelCheckpoint(filepath=\"../models/\" + name + '/best_model.h5', monitor=\"loss\")\n",
        "\n",
        "model.compile(loss=triplet_loss, optimizer=optimizer)"
      ],
      "metadata": {
        "id": "0Epkpnx8FIYw"
      },
      "execution_count": null,
      "outputs": []
    },
    {
      "cell_type": "code",
      "execution_count": null,
      "metadata": {
        "colab": {
          "base_uri": "https://localhost:8080/"
        },
        "id": "94hKY3y5fqD-",
        "outputId": "6b17b6eb-4455-479a-d2b2-6c9a680d8952"
      },
      "outputs": [
        {
          "output_type": "stream",
          "name": "stdout",
          "text": [
            "Model: \"my_model\"\n",
            "__________________________________________________________________________________________________\n",
            " Layer (type)                   Output Shape         Param #     Connected to                     \n",
            "==================================================================================================\n",
            " input_1 (InputLayer)           [(None, 4)]          0           []                               \n",
            "                                                                                                  \n",
            " input_2 (InputLayer)           [(None, 4)]          0           []                               \n",
            "                                                                                                  \n",
            " input_3 (InputLayer)           [(None, 4)]          0           []                               \n",
            "                                                                                                  \n",
            " u2v_model (Sequential)         (None, 200)          7701200     ['input_1[0][0]']                \n",
            "                                                                                                  \n",
            " i2v_model (Sequential)         (None, 200)          19704800    ['input_2[0][0]',                \n",
            "                                                                  'input_3[0][0]']                \n",
            "                                                                                                  \n",
            " anc_pos_neg_concat (Concatenat  (None, 600)         0           ['u2v_model[0][0]',              \n",
            " e)                                                               'i2v_model[0][0]',              \n",
            "                                                                  'i2v_model[1][0]']              \n",
            "                                                                                                  \n",
            "==================================================================================================\n",
            "Total params: 27,406,000\n",
            "Trainable params: 27,406,000\n",
            "Non-trainable params: 0\n",
            "__________________________________________________________________________________________________\n"
          ]
        }
      ],
      "source": [
        "model.summary()"
      ]
    },
    {
      "cell_type": "markdown",
      "source": [
        "Look at the total number of parameters, it is much less than in the previous architecture. Thanks to our conv layers!:)"
      ],
      "metadata": {
        "id": "-HYXPiNsJsUp"
      }
    },
    {
      "cell_type": "code",
      "execution_count": null,
      "metadata": {
        "colab": {
          "base_uri": "https://localhost:8080/"
        },
        "id": "TmuIJZnHz6F-",
        "outputId": "d3f29763-2040-43de-d38d-d7f71d80a1b4"
      },
      "outputs": [
        {
          "output_type": "stream",
          "name": "stdout",
          "text": [
            "Model: \"i2v_model\"\n",
            "_________________________________________________________________\n",
            " Layer (type)                Output Shape              Param #   \n",
            "=================================================================\n",
            " i2v_embeddings (Embedding)  (None, 4, 300)            19224000  \n",
            "                                                                 \n",
            " i2v_conv_layer (Conv1D)     (None, 3, 600)            360600    \n",
            "                                                                 \n",
            " i2v_pooling_layer (MaxPooli  (None, 1, 600)           0         \n",
            " ng1D)                                                           \n",
            "                                                                 \n",
            " i2v_reshape (Flatten)       (None, 600)               0         \n",
            "                                                                 \n",
            " i2v_output_layer (Dense)    (None, 200)               120200    \n",
            "                                                                 \n",
            "=================================================================\n",
            "Total params: 19,704,800\n",
            "Trainable params: 19,704,800\n",
            "Non-trainable params: 0\n",
            "_________________________________________________________________\n"
          ]
        }
      ],
      "source": [
        "i2v.summary()"
      ]
    },
    {
      "cell_type": "code",
      "execution_count": null,
      "metadata": {
        "colab": {
          "base_uri": "https://localhost:8080/"
        },
        "id": "xlALBc7X0CkG",
        "outputId": "514fb8ff-cc7e-479d-c2ce-1d2cce068985"
      },
      "outputs": [
        {
          "output_type": "stream",
          "name": "stdout",
          "text": [
            "Model: \"u2v_model\"\n",
            "_________________________________________________________________\n",
            " Layer (type)                Output Shape              Param #   \n",
            "=================================================================\n",
            " u2v_embeddings (Embedding)  (None, 4, 300)            7220400   \n",
            "                                                                 \n",
            " u2v_conv_layer (Conv1D)     (None, 3, 600)            360600    \n",
            "                                                                 \n",
            " u2v_pooling_layer (MaxPooli  (None, 1, 600)           0         \n",
            " ng1D)                                                           \n",
            "                                                                 \n",
            " u2v_reshape (Flatten)       (None, 600)               0         \n",
            "                                                                 \n",
            " u2v_output_layer (Dense)    (None, 200)               120200    \n",
            "                                                                 \n",
            "=================================================================\n",
            "Total params: 7,701,200\n",
            "Trainable params: 7,701,200\n",
            "Non-trainable params: 0\n",
            "_________________________________________________________________\n"
          ]
        }
      ],
      "source": [
        "u2v.summary()"
      ]
    },
    {
      "cell_type": "code",
      "execution_count": null,
      "metadata": {
        "colab": {
          "base_uri": "https://localhost:8080/"
        },
        "id": "NzNq9bb6fqLJ",
        "outputId": "8c1632f3-337f-4b28-d1e2-c0429b90a9bb"
      },
      "outputs": [
        {
          "output_type": "stream",
          "name": "stdout",
          "text": [
            "Epoch 1/15\n",
            "20/20 [==============================] - 257s 13s/step - loss: 0.2639 - lr: 0.0010\n",
            "Epoch 2/15\n",
            "20/20 [==============================] - 262s 13s/step - loss: 0.1764 - lr: 0.0010\n",
            "Epoch 3/15\n",
            "20/20 [==============================] - 262s 13s/step - loss: 0.1673 - lr: 0.0010\n",
            "Epoch 4/15\n",
            "20/20 [==============================] - 271s 14s/step - loss: 0.1480 - lr: 0.0010\n",
            "Epoch 5/15\n",
            "20/20 [==============================] - 262s 13s/step - loss: 0.1429 - lr: 0.0010\n",
            "Epoch 6/15\n",
            "20/20 [==============================] - 272s 14s/step - loss: 0.1400 - lr: 0.0010\n",
            "Epoch 7/15\n",
            "20/20 [==============================] - ETA: 0s - loss: 0.1400 \n",
            "Epoch 7: ReduceLROnPlateau reducing learning rate to 0.0007000000332482159.\n",
            "20/20 [==============================] - 267s 13s/step - loss: 0.1400 - lr: 0.0010\n",
            "Epoch 8/15\n",
            "20/20 [==============================] - 273s 14s/step - loss: 0.1387 - lr: 7.0000e-04\n",
            "Epoch 9/15\n",
            "20/20 [==============================] - 269s 13s/step - loss: 0.1343 - lr: 7.0000e-04\n",
            "Epoch 10/15\n",
            "20/20 [==============================] - ETA: 0s - loss: 0.1349 \n",
            "Epoch 10: ReduceLROnPlateau reducing learning rate to 0.0004900000232737511.\n",
            "20/20 [==============================] - 268s 13s/step - loss: 0.1349 - lr: 7.0000e-04\n",
            "Epoch 11/15\n",
            "20/20 [==============================] - 270s 14s/step - loss: 0.1285 - lr: 4.9000e-04\n",
            "Epoch 12/15\n",
            "20/20 [==============================] - ETA: 0s - loss: 0.1292 \n",
            "Epoch 12: ReduceLROnPlateau reducing learning rate to 0.00034300000406801696.\n",
            "20/20 [==============================] - 263s 13s/step - loss: 0.1292 - lr: 4.9000e-04\n",
            "Epoch 13/15\n",
            "20/20 [==============================] - 271s 14s/step - loss: 0.1248 - lr: 3.4300e-04\n",
            "Epoch 14/15\n",
            "20/20 [==============================] - ETA: 0s - loss: 0.1304 \n",
            "Epoch 14: ReduceLROnPlateau reducing learning rate to 0.00024009999469853935.\n",
            "20/20 [==============================] - 266s 13s/step - loss: 0.1304 - lr: 3.4300e-04\n",
            "Epoch 15/15\n",
            "20/20 [==============================] - ETA: 0s - loss: 0.1254 \n",
            "Epoch 15: ReduceLROnPlateau reducing learning rate to 0.00016806999628897755.\n",
            "20/20 [==============================] - 268s 13s/step - loss: 0.1254 - lr: 2.4010e-04\n"
          ]
        },
        {
          "output_type": "execute_result",
          "data": {
            "text/plain": [
              "<keras.callbacks.History at 0x7f8c8e7b6c90>"
            ]
          },
          "metadata": {},
          "execution_count": 36
        }
      ],
      "source": [
        "model.fit(batch_generator_v2(items=items_feats_ids, \n",
        "                            users=users_feats_ids, \n",
        "                            interactions=interactions,\n",
        "                            users_iid_train_id_mapping=users_iid_train_id_mapping,\n",
        "                            items_iid_train_id_mapping=items_iid_train_id_mapping,\n",
        "                            batch_size=512), \n",
        "          steps_per_epoch=20, \n",
        "          epochs=15, \n",
        "          initial_epoch=0,\n",
        "          callbacks=[lr_reduce, saving]\n",
        "        )"
      ]
    },
    {
      "cell_type": "markdown",
      "source": [
        "### Evaluation"
      ],
      "metadata": {
        "id": "jvm-FaNIH1wi"
      }
    },
    {
      "cell_type": "markdown",
      "source": [
        "#### Useful evaluation methods"
      ],
      "metadata": {
        "id": "otutqXSwH6NR"
      }
    },
    {
      "cell_type": "code",
      "execution_count": null,
      "metadata": {
        "id": "WCIQ8uxMm3q0"
      },
      "outputs": [],
      "source": [
        "def get_result_df(data_val, result_cols, scores):\n",
        "    \"\"\"Get resulting dataframe\n",
        "\n",
        "    data_val - initial data with features\n",
        "    result_cols - columns without scores (ids, other useful info)\n",
        "    scores - predicted scores\n",
        "    \"\"\"\n",
        "    \n",
        "    real_pred_df = data_val[result_cols].copy()\n",
        "    real_pred_df['score'] = scores\n",
        "    return real_pred_df\n",
        "\n",
        "\n",
        "def users_roc_auc_scores(real_pred_data, id_col=\"msno\", \n",
        "                         target_col=\"target\", score_col=\"score\"):\n",
        "    \"\"\"Compute ROC AUC scores\n",
        "    for users\n",
        "\n",
        "    real_pred_data - data with target and score\n",
        "    id_col - user_id column\n",
        "    target_col, score_col - columns with target values and model's scores\n",
        "    \"\"\"\n",
        "\n",
        "    roc_auc_scores = []\n",
        "    for _, data_us in real_pred_data.groupby(id_col):\n",
        "        roc_auc_scores.append(roc_auc_score(data_us[target_col], data_us[score_col]))\n",
        "    return roc_auc_scores\n",
        "\n",
        "\n",
        "def users_rr_scores(real_pred_data, id_col=\"msno\", \n",
        "        target_col=\"target\", score_col=\"score\"):\n",
        "    \"\"\"Compute RR scores for users\n",
        "\n",
        "    real_pred_data - data with target and score\n",
        "    id_col - user_id column\n",
        "    target_col, score_col - columns with target values and model's scores\n",
        "    \"\"\"\n",
        "\n",
        "    rr_scores = []\n",
        "    for _, data_us in real_pred_data.groupby(id_col):\n",
        "        data_us_sorted = data_us.sort_values(by=[score_col], ascending=False)\\\n",
        "                                .reset_index(drop=True)\n",
        "        rr_score = 1 / ((data_us_sorted.target == 1).argmax() + 1)\n",
        "        rr_scores.append(rr_score)\n",
        "    return rr_scores\n",
        "\n",
        "\n",
        "def precision_at_k(real_pred_data, k=5, id_col=\"msno\", \n",
        "        target_col=\"target\", score_col=\"score\"):\n",
        "    \"\"\"Compute precision@k scores for users\n",
        "\n",
        "    real_pred_data - data with target and score\n",
        "    k - size of the top \n",
        "    id_col- user_id column\n",
        "    target_col, score_col - columns with target values and model's scores\n",
        "    \"\"\"\n",
        "\n",
        "    precision_scores = []\n",
        "    for _, data_us in real_pred_data.groupby(id_col):\n",
        "        data_us_sorted = data_us.sort_values(by=[score_col], ascending=False)\n",
        "        precision_score = data_us_sorted.iloc[:k].target.sum() / k\n",
        "        precision_scores.append(precision_score)\n",
        "    return precision_scores\n",
        "\n",
        "\n",
        "def test_data_preprocessing(data_test, id=\"msno\", k=10, \n",
        "                            min_prop=0.05, max_prop=0.95):\n",
        "    \"\"\"Pick only users \n",
        "    with both positive and negative responces\n",
        "\n",
        "    data_test - data to transform\n",
        "    id - user id column name\n",
        "    k - minimum number of songs that a user interacted with\n",
        "    min/max_prop - minimum/maximum limits for the proportion of \n",
        "        positive interactions in users histories\n",
        "    \"\"\"\n",
        "\n",
        "    data_new = data_test.copy()\n",
        "    val_users = []\n",
        "    for user_id, data_us in data_new.groupby([id]):\n",
        "        pos_cnt = data_us.target.sum()\n",
        "        cnt = data_us.shape[0]\n",
        "        pos_prop = pos_cnt / cnt\n",
        "        if cnt >= k and pos_prop > min_prop and pos_prop < max_prop:\n",
        "            val_users.append(user_id)    \n",
        "\n",
        "    data_prep = data_new[data_new[id].isin(val_users)].reset_index(drop=True)\n",
        "    return data_prep\n",
        "\n",
        "\n",
        "def dssm_evaluation_v2(i2v,u2v, data_test,\n",
        "                      cat_cols_to_change,\n",
        "                      users_f2i,\n",
        "                      items_f2i,\n",
        "                      result_cols,\n",
        "                      user_fe_cols,\n",
        "                      item_fe_cols,\n",
        "                      user_id_column,\n",
        "                      batch_size=512,\n",
        "                      n=100, k=5,\n",
        "                      min_prop=0.25, max_prop=0.75):\n",
        "    \"\"\"DSSM model evaluation (version for cnn and WITHOUT item id feature)\n",
        "\n",
        "    u2v/i2v - user/item models\n",
        "    data_test - test dataframe (initial dataframe with ALL the columns, \n",
        "        the needed features will be selected via the mappings and columns sets)\n",
        "    cat_cols_to_change - columns to change via names_to_cats() method\n",
        "    users_f2i/items_f2i - mappings from get_mappings() method, augmented with the\n",
        "        USER_UNKN/ITEN_UNKN keys\n",
        "    result_cols - columns in the resulting dataframe (without score column)\n",
        "    user_fe_cols/item_fe_cols - user/item feature columns\n",
        "    user_id_column - user id column\n",
        "    batch_size - the size of chunk for the models processing\n",
        "    n - test_data_preprocessing() parameter (the min size of user's history)\n",
        "    k - precision_at_k() method parameter\n",
        "    min/max_prop - minimum/maximum limits for the proportion of \n",
        "        positive interactions in users histories\n",
        "    \"\"\"\n",
        "\n",
        "\n",
        "    data_select = test_data_preprocessing(data_test, id=user_id_column, k=n,\n",
        "                                          min_prop=min_prop, max_prop=max_prop)\n",
        "    data_test_prep = names_to_cats(data_select, cols=cat_cols_to_change)\n",
        "    users_ids = features_to_indices(data_test_prep, user_fe_cols+[user_id_column],\n",
        "                                  feature_to_index=users_f2i,\n",
        "                                  unknown_id=\"USER_UNKN\")\n",
        "    items_ids = features_to_indices(data_test_prep, item_fe_cols,\n",
        "                                  feature_to_index=items_f2i,\n",
        "                                  unknown_id=\"ITEM_UNKN\")\n",
        "\n",
        "    data_size = data_test_prep.shape[0]\n",
        "    start = 0\n",
        "    stop = batch_size\n",
        "    rows_left = data_size\n",
        "    sims = []\n",
        "    while rows_left > 0:\n",
        "        users_feats = users_ids[start:stop]\n",
        "        items_feats = items_ids[start:stop]\n",
        "        users_vecs = u2v.predict(users_feats)\n",
        "        items_vecs = i2v.predict(items_feats)\n",
        "        dists = np.linalg.norm(users_vecs - items_vecs, axis=1)\n",
        "        sims.extend(1 / dists)\n",
        "        \n",
        "        start += batch_size\n",
        "        stop += batch_size\n",
        "        rows_left -= batch_size\n",
        "        gc.collect()\n",
        "\n",
        "    test_real_pred = get_result_df(data_test_prep, result_cols, sims)\n",
        "    roc_auc_scores = users_roc_auc_scores(test_real_pred)\n",
        "    rr_scores = users_rr_scores(test_real_pred)\n",
        "    p_at_k_scores = precision_at_k(test_real_pred, k=k)\n",
        "    print(f\"Users mean AUC ROC on test: {np.mean(roc_auc_scores)}\")\n",
        "    print(f\"Users mean reciprocal rank on test: {np.mean(rr_scores)}\")\n",
        "    print(f\"Users mean precision@{k} on test: {np.mean(p_at_k_scores)}\")\n",
        "    plt.figure()\n",
        "    plt.hist(roc_auc_scores)\n",
        "    plt.title(\"USERS AUC ROC SCORES\")\n",
        "    plt.grid()\n",
        "    plt.figure()\n",
        "    plt.hist(rr_scores)\n",
        "    plt.title(f\"USERS RECIPROCAL RANK SCORES\")\n",
        "    plt.grid()\n",
        "    plt.figure()\n",
        "    plt.hist(p_at_k_scores)\n",
        "    plt.title(f\"USERS PRECISION@{k} SCORES\")\n",
        "    plt.grid()\n",
        "    return test_real_pred"
      ]
    },
    {
      "cell_type": "markdown",
      "source": [
        "### So, let's evaluate our model on different sets"
      ],
      "metadata": {
        "id": "sL64wNx0I82X"
      }
    },
    {
      "cell_type": "code",
      "execution_count": null,
      "metadata": {
        "id": "IQtxVoELNJ4m",
        "colab": {
          "base_uri": "https://localhost:8080/",
          "height": 861
        },
        "outputId": "5960a67f-cba5-4443-bb40-9d1c8d5c54b7"
      },
      "outputs": [
        {
          "output_type": "stream",
          "name": "stdout",
          "text": [
            "Users mean AUC ROC on test: 0.5919630965126753\n",
            "Users mean reciprocal rank on test: 0.8317089932816936\n",
            "Users mean precision@5 on test: 0.6845697329376854\n"
          ]
        },
        {
          "output_type": "display_data",
          "data": {
            "text/plain": [
              "<Figure size 432x288 with 1 Axes>"
            ],
            "image/png": "[encoded data removed]"
          },
          "metadata": {
            "needs_background": "light"
          }
        },
        {
          "output_type": "display_data",
          "data": {
            "text/plain": [
              "<Figure size 432x288 with 1 Axes>"
            ],
            "image/png": "[encoded data removed]"
          },
          "metadata": {
            "needs_background": "light"
          }
        },
        {
          "output_type": "display_data",
          "data": {
            "text/plain": [
              "<Figure size 432x288 with 1 Axes>"
            ],
            "image/png": "[encoded data removed]"
          },
          "metadata": {
            "needs_background": "light"
          }
        }
      ],
      "source": [
        "val_real_pred = dssm_evaluation_v2(i2v, u2v, data_val_fin,\n",
        "                                  cat_cols_to_change, \n",
        "                                  users_f2i,\n",
        "                                  items_f2i,\n",
        "                                  result_cols,\n",
        "                                  user_fe_cols,\n",
        "                                  item_fe_cols,\n",
        "                                  user_id_column,\n",
        "                                  batch_size=300000,\n",
        "                                  n=100, k=5,\n",
        "                                  min_prop=0.25, max_prop=0.75)"
      ]
    },
    {
      "cell_type": "code",
      "source": [
        "val_real_pred.head()"
      ],
      "metadata": {
        "colab": {
          "base_uri": "https://localhost:8080/",
          "height": 270
        },
        "id": "Qi0Tfdy8LwF5",
        "outputId": "2a5b205c-b20b-4a7a-ec41-c9e0151ba82b"
      },
      "execution_count": null,
      "outputs": [
        {
          "output_type": "execute_result",
          "data": {
            "text/plain": [
              "                                           msno  \\\n",
              "0  BGo4Oilb0i8FCeZOLUPIFGkW3RWDwNuMoixfq+Mmekk=   \n",
              "1  y+rCSbVwnDOFjVwVE2s0m6oMKuTdift2dczOFoCUls8=   \n",
              "2  nIbXtHhahnJnRyA8FjlOQDlCJ9HGVCds8PGG9oMsf6I=   \n",
              "3  YMK9IDA6yFUBJxwm1SxYNM6nFrMcDAXunV/8dzGFdlo=   \n",
              "4  w4SNbHDAMuMbulkgcHGYOl/datijVua3CR5D73DylLs=   \n",
              "\n",
              "                                        song_id  target     score  \n",
              "0  6DacXyIfstje6EynOjN4eLKbp95UWPZ0N+8EctMV5bw=       0  0.717162  \n",
              "1  DpMV43WD2Ev8pT8uIcVrfw0tqU4r/T7RQuBhgelYefA=       0  0.754188  \n",
              "2  t+IofZpz3Fa/kh9rA1huUtyeJITnrToaH35PdyQUzcw=       1  0.766304  \n",
              "3  D1tFsBLd9VWbonfb6Vek0BI2EJB6udLOuV/x+ptYpOI=       0  1.039077  \n",
              "4  7vGvrf5l1XzNbeLZXzQgaNvc2VBmncarpN3LQpLUZiY=       1  0.961444  "
            ],
            "text/html": [
              "\n",
              "  <div id=\"df-deac8337-5a9b-4a3e-8584-47c5c630a6ee\">\n",
              "    <div class=\"colab-df-container\">\n",
              "      <div>\n",
              "<style scoped>\n",
              "    .dataframe tbody tr th:only-of-type {\n",
              "        vertical-align: middle;\n",
              "    }\n",
              "\n",
              "    .dataframe tbody tr th {\n",
              "        vertical-align: top;\n",
              "    }\n",
              "\n",
              "    .dataframe thead th {\n",
              "        text-align: right;\n",
              "    }\n",
              "</style>\n",
              "<table border=\"1\" class=\"dataframe\">\n",
              "  <thead>\n",
              "    <tr style=\"text-align: right;\">\n",
              "      <th></th>\n",
              "      <th>msno</th>\n",
              "      <th>song_id</th>\n",
              "      <th>target</th>\n",
              "      <th>score</th>\n",
              "    </tr>\n",
              "  </thead>\n",
              "  <tbody>\n",
              "    <tr>\n",
              "      <th>0</th>\n",
              "      <td>BGo4Oilb0i8FCeZOLUPIFGkW3RWDwNuMoixfq+Mmekk=</td>\n",
              "      <td>6DacXyIfstje6EynOjN4eLKbp95UWPZ0N+8EctMV5bw=</td>\n",
              "      <td>0</td>\n",
              "      <td>0.717162</td>\n",
              "    </tr>\n",
              "    <tr>\n",
              "      <th>1</th>\n",
              "      <td>y+rCSbVwnDOFjVwVE2s0m6oMKuTdift2dczOFoCUls8=</td>\n",
              "      <td>DpMV43WD2Ev8pT8uIcVrfw0tqU4r/T7RQuBhgelYefA=</td>\n",
              "      <td>0</td>\n",
              "      <td>0.754188</td>\n",
              "    </tr>\n",
              "    <tr>\n",
              "      <th>2</th>\n",
              "      <td>nIbXtHhahnJnRyA8FjlOQDlCJ9HGVCds8PGG9oMsf6I=</td>\n",
              "      <td>t+IofZpz3Fa/kh9rA1huUtyeJITnrToaH35PdyQUzcw=</td>\n",
              "      <td>1</td>\n",
              "      <td>0.766304</td>\n",
              "    </tr>\n",
              "    <tr>\n",
              "      <th>3</th>\n",
              "      <td>YMK9IDA6yFUBJxwm1SxYNM6nFrMcDAXunV/8dzGFdlo=</td>\n",
              "      <td>D1tFsBLd9VWbonfb6Vek0BI2EJB6udLOuV/x+ptYpOI=</td>\n",
              "      <td>0</td>\n",
              "      <td>1.039077</td>\n",
              "    </tr>\n",
              "    <tr>\n",
              "      <th>4</th>\n",
              "      <td>w4SNbHDAMuMbulkgcHGYOl/datijVua3CR5D73DylLs=</td>\n",
              "      <td>7vGvrf5l1XzNbeLZXzQgaNvc2VBmncarpN3LQpLUZiY=</td>\n",
              "      <td>1</td>\n",
              "      <td>0.961444</td>\n",
              "    </tr>\n",
              "  </tbody>\n",
              "</table>\n",
              "</div>\n",
              "      <button class=\"colab-df-convert\" onclick=\"convertToInteractive('df-deac8337-5a9b-4a3e-8584-47c5c630a6ee')\"\n",
              "              title=\"Convert this dataframe to an interactive table.\"\n",
              "              style=\"display:none;\">\n",
              "        \n",
              "  <svg xmlns=\"http://www.w3.org/2000/svg\" height=\"24px\"viewBox=\"0 0 24 24\"\n",
              "       width=\"24px\">\n",
              "    <path d=\"M0 0h24v24H0V0z\" fill=\"none\"/>\n",
              "    <path d=\"M18.56 5.44l.94 2.06.94-2.06 2.06-.94-2.06-.94-.94-2.06-.94 2.06-2.06.94zm-11 1L8.5 8.5l.94-2.06 2.06-.94-2.06-.94L8.5 2.5l-.94 2.06-2.06.94zm10 10l.94 2.06.94-2.06 2.06-.94-2.06-.94-.94-2.06-.94 2.06-2.06.94z\"/><path d=\"M17.41 7.96l-1.37-1.37c-.4-.4-.92-.59-1.43-.59-.52 0-1.04.2-1.43.59L10.3 9.45l-7.72 7.72c-.78.78-.78 2.05 0 2.83L4 21.41c.39.39.9.59 1.41.59.51 0 1.02-.2 1.41-.59l7.78-7.78 2.81-2.81c.8-.78.8-2.07 0-2.86zM5.41 20L4 18.59l7.72-7.72 1.47 1.35L5.41 20z\"/>\n",
              "  </svg>\n",
              "      </button>\n",
              "      \n",
              "  <style>\n",
              "    .colab-df-container {\n",
              "      display:flex;\n",
              "      flex-wrap:wrap;\n",
              "      gap: 12px;\n",
              "    }\n",
              "\n",
              "    .colab-df-convert {\n",
              "      background-color: #E8F0FE;\n",
              "      border: none;\n",
              "      border-radius: 50%;\n",
              "      cursor: pointer;\n",
              "      display: none;\n",
              "      fill: #1967D2;\n",
              "      height: 32px;\n",
              "      padding: 0 0 0 0;\n",
              "      width: 32px;\n",
              "    }\n",
              "\n",
              "    .colab-df-convert:hover {\n",
              "      background-color: #E2EBFA;\n",
              "      box-shadow: 0px 1px 2px rgba(60, 64, 67, 0.3), 0px 1px 3px 1px rgba(60, 64, 67, 0.15);\n",
              "      fill: #174EA6;\n",
              "    }\n",
              "\n",
              "    [theme=dark] .colab-df-convert {\n",
              "      background-color: #3B4455;\n",
              "      fill: #D2E3FC;\n",
              "    }\n",
              "\n",
              "    [theme=dark] .colab-df-convert:hover {\n",
              "      background-color: #434B5C;\n",
              "      box-shadow: 0px 1px 3px 1px rgba(0, 0, 0, 0.15);\n",
              "      filter: drop-shadow(0px 1px 2px rgba(0, 0, 0, 0.3));\n",
              "      fill: #FFFFFF;\n",
              "    }\n",
              "  </style>\n",
              "\n",
              "      <script>\n",
              "        const buttonEl =\n",
              "          document.querySelector('#df-deac8337-5a9b-4a3e-8584-47c5c630a6ee button.colab-df-convert');\n",
              "        buttonEl.style.display =\n",
              "          google.colab.kernel.accessAllowed ? 'block' : 'none';\n",
              "\n",
              "        async function convertToInteractive(key) {\n",
              "          const element = document.querySelector('#df-deac8337-5a9b-4a3e-8584-47c5c630a6ee');\n",
              "          const dataTable =\n",
              "            await google.colab.kernel.invokeFunction('convertToInteractive',\n",
              "                                                     [key], {});\n",
              "          if (!dataTable) return;\n",
              "\n",
              "          const docLinkHtml = 'Like what you see? Visit the ' +\n",
              "            '<a target=\"_blank\" href=https://colab.research.google.com/notebooks/data_table.ipynb>data table notebook</a>'\n",
              "            + ' to learn more about interactive tables.';\n",
              "          element.innerHTML = '';\n",
              "          dataTable['output_type'] = 'display_data';\n",
              "          await google.colab.output.renderOutput(dataTable, element);\n",
              "          const docLink = document.createElement('div');\n",
              "          docLink.innerHTML = docLinkHtml;\n",
              "          element.appendChild(docLink);\n",
              "        }\n",
              "      </script>\n",
              "    </div>\n",
              "  </div>\n",
              "  "
            ]
          },
          "metadata": {},
          "execution_count": 43
        }
      ]
    },
    {
      "cell_type": "code",
      "execution_count": null,
      "metadata": {
        "id": "5Rgpb8k8u4-M",
        "colab": {
          "base_uri": "https://localhost:8080/",
          "height": 861
        },
        "outputId": "46f47089-a3d2-4378-8423-0a81466a8b51"
      },
      "outputs": [
        {
          "output_type": "stream",
          "name": "stdout",
          "text": [
            "Users mean AUC ROC on test: 0.5913024267620243\n",
            "Users mean reciprocal rank on test: 0.8368059964726632\n",
            "Users mean precision@5 on test: 0.693037037037037\n"
          ]
        },
        {
          "output_type": "display_data",
          "data": {
            "text/plain": [
              "<Figure size 432x288 with 1 Axes>"
            ],
            "image/png": "[encoded data removed]"
          },
          "metadata": {
            "needs_background": "light"
          }
        },
        {
          "output_type": "display_data",
          "data": {
            "text/plain": [
              "<Figure size 432x288 with 1 Axes>"
            ],
            "image/png": "[encoded data removed]"
          },
          "metadata": {
            "needs_background": "light"
          }
        },
        {
          "output_type": "display_data",
          "data": {
            "text/plain": [
              "<Figure size 432x288 with 1 Axes>"
            ],
            "image/png": "[encoded data removed]"
          },
          "metadata": {
            "needs_background": "light"
          }
        }
      ],
      "source": [
        "_ = dssm_evaluation_v2(i2v, u2v, data_test_fin,\n",
        "                      cat_cols_to_change, \n",
        "                      users_f2i,\n",
        "                      items_f2i,\n",
        "                      result_cols,\n",
        "                      user_fe_cols,\n",
        "                      item_fe_cols,\n",
        "                      user_id_column,\n",
        "                      batch_size=300000,\n",
        "                      n=100, k=5,\n",
        "                      min_prop=0.25, max_prop=0.75)"
      ]
    },
    {
      "cell_type": "code",
      "execution_count": null,
      "metadata": {
        "id": "stQGqNJlBFHN",
        "colab": {
          "base_uri": "https://localhost:8080/",
          "height": 861
        },
        "outputId": "86756e09-72cf-4ca4-e3d8-5e876042fe3c"
      },
      "outputs": [
        {
          "output_type": "stream",
          "name": "stdout",
          "text": [
            "Users mean AUC ROC on test: 0.5838243495793533\n",
            "Users mean reciprocal rank on test: 0.8074591477072393\n",
            "Users mean precision@5 on test: 0.6569465648854962\n"
          ]
        },
        {
          "output_type": "display_data",
          "data": {
            "text/plain": [
              "<Figure size 432x288 with 1 Axes>"
            ],
            "image/png": "[encoded data removed]"
          },
          "metadata": {
            "needs_background": "light"
          }
        },
        {
          "output_type": "display_data",
          "data": {
            "text/plain": [
              "<Figure size 432x288 with 1 Axes>"
            ],
            "image/png": "[encoded data removed]"
          },
          "metadata": {
            "needs_background": "light"
          }
        },
        {
          "output_type": "display_data",
          "data": {
            "text/plain": [
              "<Figure size 432x288 with 1 Axes>"
            ],
            "image/png": "[encoded data removed]"
          },
          "metadata": {
            "needs_background": "light"
          }
        }
      ],
      "source": [
        "_ = dssm_evaluation_v2(i2v, u2v, cold_users_data_fin,\n",
        "                        cat_cols_to_change, \n",
        "                        users_f2i,\n",
        "                        items_f2i,\n",
        "                        result_cols,\n",
        "                        user_fe_cols,\n",
        "                        item_fe_cols,\n",
        "                        user_id_column,\n",
        "                        batch_size=300000,\n",
        "                        n=100, k=5,\n",
        "                        min_prop=0.25, max_prop=0.75)"
      ]
    },
    {
      "cell_type": "code",
      "execution_count": null,
      "metadata": {
        "id": "Sgc3hvWBBJ4O",
        "colab": {
          "base_uri": "https://localhost:8080/",
          "height": 861
        },
        "outputId": "21c65409-3264-4046-b8b7-fca830f21577"
      },
      "outputs": [
        {
          "output_type": "stream",
          "name": "stdout",
          "text": [
            "Users mean AUC ROC on test: 0.5797432377794919\n",
            "Users mean reciprocal rank on test: 0.7481638721216185\n",
            "Users mean precision@5 on test: 0.6225352112676056\n"
          ]
        },
        {
          "output_type": "display_data",
          "data": {
            "text/plain": [
              "<Figure size 432x288 with 1 Axes>"
            ],
            "image/png": "[encoded data removed]"
          },
          "metadata": {
            "needs_background": "light"
          }
        },
        {
          "output_type": "display_data",
          "data": {
            "text/plain": [
              "<Figure size 432x288 with 1 Axes>"
            ],
            "image/png": "[encoded data removed]"
          },
          "metadata": {
            "needs_background": "light"
          }
        },
        {
          "output_type": "display_data",
          "data": {
            "text/plain": [
              "<Figure size 432x288 with 1 Axes>"
            ],
            "image/png": "[encoded data removed]"
          },
          "metadata": {
            "needs_background": "light"
          }
        }
      ],
      "source": [
        "_ = dssm_evaluation_v2(i2v, u2v, cold_items_data_fin,\n",
        "                      cat_cols_to_change, \n",
        "                      users_f2i,\n",
        "                      items_f2i,\n",
        "                      result_cols,\n",
        "                      user_fe_cols,\n",
        "                      item_fe_cols,\n",
        "                      user_id_column,\n",
        "                      batch_size=300000,\n",
        "                      n=40, k=5,\n",
        "                      min_prop=0.25, max_prop=0.75)"
      ]
    },
    {
      "cell_type": "markdown",
      "source": [
        "### With more complex architecture we have better results, but Light FM model still outperforms our DSSM. There is some space for experimentation! :)"
      ],
      "metadata": {
        "id": "eNbQ5L0XHPyR"
      }
    },
    {
      "cell_type": "markdown",
      "source": [
        "### Stay tuned :)"
      ],
      "metadata": {
        "id": "t5j5PYUBHOVw"
      }
    },
    {
      "cell_type": "code",
      "source": [
        ""
      ],
      "metadata": {
        "id": "xoJPeQLml1bu"
      },
      "execution_count": null,
      "outputs": []
    }
  ],
  "metadata": {
    "colab": {
      "collapsed_sections": [],
      "name": "Part 6.2. Basic convolutional DSSM recommender v1.ipynb",
      "provenance": [],
      "mount_file_id": "1cS1K9dz2JDcBvucKI7tLa4-ds7ACg87o",
      "authorship_tag": "ABX9TyP+XhOxQcInWGcnO+8KXWCB",
      "include_colab_link": true
    },
    "kernelspec": {
      "display_name": "Python 3",
      "name": "python3"
    },
    "language_info": {
      "name": "python"
    }
  },
  "nbformat": 4,
  "nbformat_minor": 0
}