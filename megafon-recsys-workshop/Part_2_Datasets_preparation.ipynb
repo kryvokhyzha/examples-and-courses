{
  "nbformat": 4,
  "nbformat_minor": 0,
  "metadata": {
    "colab": {
      "name": "Part 2. Datasets preparation.ipynb",
      "provenance": [],
      "collapsed_sections": [],
      "machine_shape": "hm",
      "mount_file_id": "1bd8Nz8aVLhLCQdDt03zIawVfat36g5Ke",
      "authorship_tag": "ABX9TyP0zPMbGMqWR9ZgT4LT6D1W",
      "include_colab_link": true
    },
    "kernelspec": {
      "name": "python3",
      "display_name": "Python 3"
    },
    "language_info": {
      "name": "python"
    }
  },
  "cells": [
    {
      "cell_type": "markdown",
      "metadata": {
        "id": "view-in-github",
        "colab_type": "text"
      },
      "source": [
        "<a href=\"https://colab.research.google.com/github/art-glazunov/MegaFon_RecSys_Workshop/blob/main/Part_2_Datasets_preparation.ipynb\" target=\"_parent\"><img src=\"https://colab.research.google.com/assets/colab-badge.svg\" alt=\"Open In Colab\"/></a>"
      ]
    },
    {
      "cell_type": "markdown",
      "source": [
        "# MegaFon RecSys workshop\n",
        "by Artyom Glazunov\n",
        "\n",
        "## Part 2. Train, validation and test datasets preparation"
      ],
      "metadata": {
        "id": "6bNEMJ2_nQBX"
      }
    },
    {
      "cell_type": "markdown",
      "source": [
        "## The plan\n",
        "\n",
        "- ### Data loading\n",
        "- ### Types preparations\n",
        "- ### Train, validation and test sets construction\n",
        "- ### Final datasets saving"
      ],
      "metadata": {
        "id": "X1qX-soEnpPd"
      }
    },
    {
      "cell_type": "code",
      "source": [
        "import numpy as np\n",
        "import pandas as pd"
      ],
      "metadata": {
        "id": "LBjIb75dhyvo"
      },
      "execution_count": null,
      "outputs": []
    },
    {
      "cell_type": "code",
      "source": [
        "cd /content/drive/MyDrive/Colab_Notebooks/datafest_22/data"
      ],
      "metadata": {
        "colab": {
          "base_uri": "https://localhost:8080/"
        },
        "id": "Y3rKHiTVhaLe",
        "outputId": "b9b3bf55-9f8d-48ad-faa1-129a25c31621"
      },
      "execution_count": null,
      "outputs": [
        {
          "output_type": "stream",
          "name": "stdout",
          "text": [
            "/content/drive/MyDrive/Colab_Notebooks/datafest_22/data\n"
          ]
        }
      ]
    },
    {
      "cell_type": "markdown",
      "source": [
        "### Let's load our data"
      ],
      "metadata": {
        "id": "-zxj7El3oBPq"
      }
    },
    {
      "cell_type": "code",
      "source": [
        "data = pd.read_csv(\"data_all.csv\")\n",
        "data.head()"
      ],
      "metadata": {
        "colab": {
          "base_uri": "https://localhost:8080/",
          "height": 540
        },
        "id": "jJqE9nfthw1Y",
        "outputId": "a61166bc-700f-4b8c-eeef-6218ace92021"
      },
      "execution_count": null,
      "outputs": [
        {
          "output_type": "execute_result",
          "data": {
            "text/plain": [
              "                                           msno  \\\n",
              "0  FGtllVqz18RPiwJj/edr2gV78zirAiY/9SmYvia+kCg=   \n",
              "1  Xumu+NIjS6QYVxDS4/t3SawvJ7viT9hPKXmf0RtLNx8=   \n",
              "2  Xumu+NIjS6QYVxDS4/t3SawvJ7viT9hPKXmf0RtLNx8=   \n",
              "3  Xumu+NIjS6QYVxDS4/t3SawvJ7viT9hPKXmf0RtLNx8=   \n",
              "4  FGtllVqz18RPiwJj/edr2gV78zirAiY/9SmYvia+kCg=   \n",
              "\n",
              "                                        song_id source_system_tab  \\\n",
              "0  BBzumQNXUHKdEBOB7mAJuzok+IJA1c2Ryg/yzTF6tik=           explore   \n",
              "1  bhp/MpSNoqoxOIB+/l8WPqu6jldth4DIpCm3ayXnJqM=        my library   \n",
              "2  JNWfrrC7zNN7BdMpsISKa4Mw+xVJYNnxXh3/Epw7QgY=        my library   \n",
              "3  2A87tzfnJTSWqD7gIZHisolhe4DMdzkbd6LzO1KHjNs=        my library   \n",
              "4  3qm6XTZ6MOCU11x8FIVbAGH5l5uMkT3/ZalWG1oo2Gc=           explore   \n",
              "\n",
              "    source_screen_name      source_type  target  song_length genre_ids  \\\n",
              "0              Explore  online-playlist       1     206471.0       359   \n",
              "1  Local playlist more   local-playlist       1     284584.0      1259   \n",
              "2  Local playlist more   local-playlist       1     225396.0      1259   \n",
              "3  Local playlist more   local-playlist       1     255512.0      1019   \n",
              "4              Explore  online-playlist       1     187802.0      1011   \n",
              "\n",
              "       artist_name                                 composer lyricist  \\\n",
              "0         Bastille                     Dan Smith| Mark Crew      NaN   \n",
              "1  Various Artists                                      NaN      NaN   \n",
              "2              Nas     N. Jones、W. Adams、J. Lordan、D. Ingle      NaN   \n",
              "3         Soundway                            Kwadwo Donkoh      NaN   \n",
              "4      Brett Young  Brett Young| Kelly Archer| Justin Ebach      NaN   \n",
              "\n",
              "   language                                     name          isrc  city  bd  \\\n",
              "0      52.0                               Good Grief  GBUM71602854     1   0   \n",
              "1      52.0                       Lords of Cardboard  US3C69910183    13  24   \n",
              "2      52.0  Hip Hop Is Dead(Album Version (Edited))  USUM70618761    13  24   \n",
              "3      -1.0                             Disco Africa  GBUQH1000063    13  24   \n",
              "4      52.0                        Sleep Without You  QM3E21606003     1   0   \n",
              "\n",
              "   gender  registered_via  registration_init_time  expiration_date  \n",
              "0     NaN               7                20120102         20171005  \n",
              "1  female               9                20110525         20170911  \n",
              "2  female               9                20110525         20170911  \n",
              "3  female               9                20110525         20170911  \n",
              "4     NaN               7                20120102         20171005  "
            ],
            "text/html": [
              "\n",
              "  <div id=\"df-e2021cd7-0de8-4615-abb1-7e07a5e1e7a3\">\n",
              "    <div class=\"colab-df-container\">\n",
              "      <div>\n",
              "<style scoped>\n",
              "    .dataframe tbody tr th:only-of-type {\n",
              "        vertical-align: middle;\n",
              "    }\n",
              "\n",
              "    .dataframe tbody tr th {\n",
              "        vertical-align: top;\n",
              "    }\n",
              "\n",
              "    .dataframe thead th {\n",
              "        text-align: right;\n",
              "    }\n",
              "</style>\n",
              "<table border=\"1\" class=\"dataframe\">\n",
              "  <thead>\n",
              "    <tr style=\"text-align: right;\">\n",
              "      <th></th>\n",
              "      <th>msno</th>\n",
              "      <th>song_id</th>\n",
              "      <th>source_system_tab</th>\n",
              "      <th>source_screen_name</th>\n",
              "      <th>source_type</th>\n",
              "      <th>target</th>\n",
              "      <th>song_length</th>\n",
              "      <th>genre_ids</th>\n",
              "      <th>artist_name</th>\n",
              "      <th>composer</th>\n",
              "      <th>lyricist</th>\n",
              "      <th>language</th>\n",
              "      <th>name</th>\n",
              "      <th>isrc</th>\n",
              "      <th>city</th>\n",
              "      <th>bd</th>\n",
              "      <th>gender</th>\n",
              "      <th>registered_via</th>\n",
              "      <th>registration_init_time</th>\n",
              "      <th>expiration_date</th>\n",
              "    </tr>\n",
              "  </thead>\n",
              "  <tbody>\n",
              "    <tr>\n",
              "      <th>0</th>\n",
              "      <td>FGtllVqz18RPiwJj/edr2gV78zirAiY/9SmYvia+kCg=</td>\n",
              "      <td>BBzumQNXUHKdEBOB7mAJuzok+IJA1c2Ryg/yzTF6tik=</td>\n",
              "      <td>explore</td>\n",
              "      <td>Explore</td>\n",
              "      <td>online-playlist</td>\n",
              "      <td>1</td>\n",
              "      <td>206471.0</td>\n",
              "      <td>359</td>\n",
              "      <td>Bastille</td>\n",
              "      <td>Dan Smith| Mark Crew</td>\n",
              "      <td>NaN</td>\n",
              "      <td>52.0</td>\n",
              "      <td>Good Grief</td>\n",
              "      <td>GBUM71602854</td>\n",
              "      <td>1</td>\n",
              "      <td>0</td>\n",
              "      <td>NaN</td>\n",
              "      <td>7</td>\n",
              "      <td>20120102</td>\n",
              "      <td>20171005</td>\n",
              "    </tr>\n",
              "    <tr>\n",
              "      <th>1</th>\n",
              "      <td>Xumu+NIjS6QYVxDS4/t3SawvJ7viT9hPKXmf0RtLNx8=</td>\n",
              "      <td>bhp/MpSNoqoxOIB+/l8WPqu6jldth4DIpCm3ayXnJqM=</td>\n",
              "      <td>my library</td>\n",
              "      <td>Local playlist more</td>\n",
              "      <td>local-playlist</td>\n",
              "      <td>1</td>\n",
              "      <td>284584.0</td>\n",
              "      <td>1259</td>\n",
              "      <td>Various Artists</td>\n",
              "      <td>NaN</td>\n",
              "      <td>NaN</td>\n",
              "      <td>52.0</td>\n",
              "      <td>Lords of Cardboard</td>\n",
              "      <td>US3C69910183</td>\n",
              "      <td>13</td>\n",
              "      <td>24</td>\n",
              "      <td>female</td>\n",
              "      <td>9</td>\n",
              "      <td>20110525</td>\n",
              "      <td>20170911</td>\n",
              "    </tr>\n",
              "    <tr>\n",
              "      <th>2</th>\n",
              "      <td>Xumu+NIjS6QYVxDS4/t3SawvJ7viT9hPKXmf0RtLNx8=</td>\n",
              "      <td>JNWfrrC7zNN7BdMpsISKa4Mw+xVJYNnxXh3/Epw7QgY=</td>\n",
              "      <td>my library</td>\n",
              "      <td>Local playlist more</td>\n",
              "      <td>local-playlist</td>\n",
              "      <td>1</td>\n",
              "      <td>225396.0</td>\n",
              "      <td>1259</td>\n",
              "      <td>Nas</td>\n",
              "      <td>N. Jones、W. Adams、J. Lordan、D. Ingle</td>\n",
              "      <td>NaN</td>\n",
              "      <td>52.0</td>\n",
              "      <td>Hip Hop Is Dead(Album Version (Edited))</td>\n",
              "      <td>USUM70618761</td>\n",
              "      <td>13</td>\n",
              "      <td>24</td>\n",
              "      <td>female</td>\n",
              "      <td>9</td>\n",
              "      <td>20110525</td>\n",
              "      <td>20170911</td>\n",
              "    </tr>\n",
              "    <tr>\n",
              "      <th>3</th>\n",
              "      <td>Xumu+NIjS6QYVxDS4/t3SawvJ7viT9hPKXmf0RtLNx8=</td>\n",
              "      <td>2A87tzfnJTSWqD7gIZHisolhe4DMdzkbd6LzO1KHjNs=</td>\n",
              "      <td>my library</td>\n",
              "      <td>Local playlist more</td>\n",
              "      <td>local-playlist</td>\n",
              "      <td>1</td>\n",
              "      <td>255512.0</td>\n",
              "      <td>1019</td>\n",
              "      <td>Soundway</td>\n",
              "      <td>Kwadwo Donkoh</td>\n",
              "      <td>NaN</td>\n",
              "      <td>-1.0</td>\n",
              "      <td>Disco Africa</td>\n",
              "      <td>GBUQH1000063</td>\n",
              "      <td>13</td>\n",
              "      <td>24</td>\n",
              "      <td>female</td>\n",
              "      <td>9</td>\n",
              "      <td>20110525</td>\n",
              "      <td>20170911</td>\n",
              "    </tr>\n",
              "    <tr>\n",
              "      <th>4</th>\n",
              "      <td>FGtllVqz18RPiwJj/edr2gV78zirAiY/9SmYvia+kCg=</td>\n",
              "      <td>3qm6XTZ6MOCU11x8FIVbAGH5l5uMkT3/ZalWG1oo2Gc=</td>\n",
              "      <td>explore</td>\n",
              "      <td>Explore</td>\n",
              "      <td>online-playlist</td>\n",
              "      <td>1</td>\n",
              "      <td>187802.0</td>\n",
              "      <td>1011</td>\n",
              "      <td>Brett Young</td>\n",
              "      <td>Brett Young| Kelly Archer| Justin Ebach</td>\n",
              "      <td>NaN</td>\n",
              "      <td>52.0</td>\n",
              "      <td>Sleep Without You</td>\n",
              "      <td>QM3E21606003</td>\n",
              "      <td>1</td>\n",
              "      <td>0</td>\n",
              "      <td>NaN</td>\n",
              "      <td>7</td>\n",
              "      <td>20120102</td>\n",
              "      <td>20171005</td>\n",
              "    </tr>\n",
              "  </tbody>\n",
              "</table>\n",
              "</div>\n",
              "      <button class=\"colab-df-convert\" onclick=\"convertToInteractive('df-e2021cd7-0de8-4615-abb1-7e07a5e1e7a3')\"\n",
              "              title=\"Convert this dataframe to an interactive table.\"\n",
              "              style=\"display:none;\">\n",
              "        \n",
              "  <svg xmlns=\"http://www.w3.org/2000/svg\" height=\"24px\"viewBox=\"0 0 24 24\"\n",
              "       width=\"24px\">\n",
              "    <path d=\"M0 0h24v24H0V0z\" fill=\"none\"/>\n",
              "    <path d=\"M18.56 5.44l.94 2.06.94-2.06 2.06-.94-2.06-.94-.94-2.06-.94 2.06-2.06.94zm-11 1L8.5 8.5l.94-2.06 2.06-.94-2.06-.94L8.5 2.5l-.94 2.06-2.06.94zm10 10l.94 2.06.94-2.06 2.06-.94-2.06-.94-.94-2.06-.94 2.06-2.06.94z\"/><path d=\"M17.41 7.96l-1.37-1.37c-.4-.4-.92-.59-1.43-.59-.52 0-1.04.2-1.43.59L10.3 9.45l-7.72 7.72c-.78.78-.78 2.05 0 2.83L4 21.41c.39.39.9.59 1.41.59.51 0 1.02-.2 1.41-.59l7.78-7.78 2.81-2.81c.8-.78.8-2.07 0-2.86zM5.41 20L4 18.59l7.72-7.72 1.47 1.35L5.41 20z\"/>\n",
              "  </svg>\n",
              "      </button>\n",
              "      \n",
              "  <style>\n",
              "    .colab-df-container {\n",
              "      display:flex;\n",
              "      flex-wrap:wrap;\n",
              "      gap: 12px;\n",
              "    }\n",
              "\n",
              "    .colab-df-convert {\n",
              "      background-color: #E8F0FE;\n",
              "      border: none;\n",
              "      border-radius: 50%;\n",
              "      cursor: pointer;\n",
              "      display: none;\n",
              "      fill: #1967D2;\n",
              "      height: 32px;\n",
              "      padding: 0 0 0 0;\n",
              "      width: 32px;\n",
              "    }\n",
              "\n",
              "    .colab-df-convert:hover {\n",
              "      background-color: #E2EBFA;\n",
              "      box-shadow: 0px 1px 2px rgba(60, 64, 67, 0.3), 0px 1px 3px 1px rgba(60, 64, 67, 0.15);\n",
              "      fill: #174EA6;\n",
              "    }\n",
              "\n",
              "    [theme=dark] .colab-df-convert {\n",
              "      background-color: #3B4455;\n",
              "      fill: #D2E3FC;\n",
              "    }\n",
              "\n",
              "    [theme=dark] .colab-df-convert:hover {\n",
              "      background-color: #434B5C;\n",
              "      box-shadow: 0px 1px 3px 1px rgba(0, 0, 0, 0.15);\n",
              "      filter: drop-shadow(0px 1px 2px rgba(0, 0, 0, 0.3));\n",
              "      fill: #FFFFFF;\n",
              "    }\n",
              "  </style>\n",
              "\n",
              "      <script>\n",
              "        const buttonEl =\n",
              "          document.querySelector('#df-e2021cd7-0de8-4615-abb1-7e07a5e1e7a3 button.colab-df-convert');\n",
              "        buttonEl.style.display =\n",
              "          google.colab.kernel.accessAllowed ? 'block' : 'none';\n",
              "\n",
              "        async function convertToInteractive(key) {\n",
              "          const element = document.querySelector('#df-e2021cd7-0de8-4615-abb1-7e07a5e1e7a3');\n",
              "          const dataTable =\n",
              "            await google.colab.kernel.invokeFunction('convertToInteractive',\n",
              "                                                     [key], {});\n",
              "          if (!dataTable) return;\n",
              "\n",
              "          const docLinkHtml = 'Like what you see? Visit the ' +\n",
              "            '<a target=\"_blank\" href=https://colab.research.google.com/notebooks/data_table.ipynb>data table notebook</a>'\n",
              "            + ' to learn more about interactive tables.';\n",
              "          element.innerHTML = '';\n",
              "          dataTable['output_type'] = 'display_data';\n",
              "          await google.colab.output.renderOutput(dataTable, element);\n",
              "          const docLink = document.createElement('div');\n",
              "          docLink.innerHTML = docLinkHtml;\n",
              "          element.appendChild(docLink);\n",
              "        }\n",
              "      </script>\n",
              "    </div>\n",
              "  </div>\n",
              "  "
            ]
          },
          "metadata": {},
          "execution_count": 6
        }
      ]
    },
    {
      "cell_type": "markdown",
      "source": [
        "### Change some formats to minimize memory consumption during further data operations"
      ],
      "metadata": {
        "id": "YksI456noIXh"
      }
    },
    {
      "cell_type": "code",
      "source": [
        "def num_bytes_format(num_bytes, float_prec=4):\n",
        "    \"\"\"Useful pandas df memory consumption formatter\n",
        "    Thanks to\n",
        "    https://www.kaggle.com/sharthz23/pandas-scipy-for-recsys\n",
        "    \"\"\"\n",
        "\n",
        "    units = ['bytes', 'Kb', 'Mb', 'Gb', 'Tb', 'Pb', 'Eb']\n",
        "    for unit in units[:-1]:\n",
        "        if abs(num_bytes) < 1000:\n",
        "            return f'{num_bytes:.{float_prec}f} {unit}'\n",
        "        num_bytes /= 1000\n",
        "    return f'{num_bytes:.4f} {units[-1]}'"
      ],
      "metadata": {
        "id": "4REsmUptjXWE"
      },
      "execution_count": null,
      "outputs": []
    },
    {
      "cell_type": "code",
      "source": [
        "num_bytes = data.memory_usage(deep=True).sum()\n",
        "num_bytes_format(num_bytes)"
      ],
      "metadata": {
        "colab": {
          "base_uri": "https://localhost:8080/",
          "height": 37
        },
        "id": "qNjNqxyclI-m",
        "outputId": "b8f9735f-0b75-4b9f-e252-ad66cb65268a"
      },
      "execution_count": null,
      "outputs": [
        {
          "output_type": "execute_result",
          "data": {
            "text/plain": [
              "'7.1789 Gb'"
            ],
            "application/vnd.google.colaboratory.intrinsic+json": {
              "type": "string"
            }
          },
          "metadata": {},
          "execution_count": 8
        }
      ]
    },
    {
      "cell_type": "code",
      "source": [
        "dt_columns = [\"registration_init_time\", \"expiration_date\"]\n",
        "num_columns = [\"song_length\", \"bd\"]\n",
        "cat_columns = [col for col in data.columns if col not in num_columns + dt_columns + ['target']]"
      ],
      "metadata": {
        "id": "MFM7kIV3mB5e"
      },
      "execution_count": null,
      "outputs": []
    },
    {
      "cell_type": "code",
      "source": [
        "for col in cat_columns:\n",
        "    data[col] = data[col].astype('category')\n",
        "for col in dt_columns:\n",
        "    data[col] = pd.to_datetime(data[col], format='%Y%m%d')\n",
        "data.head()"
      ],
      "metadata": {
        "colab": {
          "base_uri": "https://localhost:8080/",
          "height": 540
        },
        "id": "VtWl1RmtlOd6",
        "outputId": "dd3a2a97-e093-4a16-a109-2bd95aeedd6c"
      },
      "execution_count": null,
      "outputs": [
        {
          "output_type": "execute_result",
          "data": {
            "text/plain": [
              "                                           msno  \\\n",
              "0  FGtllVqz18RPiwJj/edr2gV78zirAiY/9SmYvia+kCg=   \n",
              "1  Xumu+NIjS6QYVxDS4/t3SawvJ7viT9hPKXmf0RtLNx8=   \n",
              "2  Xumu+NIjS6QYVxDS4/t3SawvJ7viT9hPKXmf0RtLNx8=   \n",
              "3  Xumu+NIjS6QYVxDS4/t3SawvJ7viT9hPKXmf0RtLNx8=   \n",
              "4  FGtllVqz18RPiwJj/edr2gV78zirAiY/9SmYvia+kCg=   \n",
              "\n",
              "                                        song_id source_system_tab  \\\n",
              "0  BBzumQNXUHKdEBOB7mAJuzok+IJA1c2Ryg/yzTF6tik=           explore   \n",
              "1  bhp/MpSNoqoxOIB+/l8WPqu6jldth4DIpCm3ayXnJqM=        my library   \n",
              "2  JNWfrrC7zNN7BdMpsISKa4Mw+xVJYNnxXh3/Epw7QgY=        my library   \n",
              "3  2A87tzfnJTSWqD7gIZHisolhe4DMdzkbd6LzO1KHjNs=        my library   \n",
              "4  3qm6XTZ6MOCU11x8FIVbAGH5l5uMkT3/ZalWG1oo2Gc=           explore   \n",
              "\n",
              "    source_screen_name      source_type  target  song_length genre_ids  \\\n",
              "0              Explore  online-playlist       1     206471.0       359   \n",
              "1  Local playlist more   local-playlist       1     284584.0      1259   \n",
              "2  Local playlist more   local-playlist       1     225396.0      1259   \n",
              "3  Local playlist more   local-playlist       1     255512.0      1019   \n",
              "4              Explore  online-playlist       1     187802.0      1011   \n",
              "\n",
              "       artist_name                                 composer lyricist language  \\\n",
              "0         Bastille                     Dan Smith| Mark Crew      NaN     52.0   \n",
              "1  Various Artists                                      NaN      NaN     52.0   \n",
              "2              Nas     N. Jones、W. Adams、J. Lordan、D. Ingle      NaN     52.0   \n",
              "3         Soundway                            Kwadwo Donkoh      NaN     -1.0   \n",
              "4      Brett Young  Brett Young| Kelly Archer| Justin Ebach      NaN     52.0   \n",
              "\n",
              "                                      name          isrc city  bd  gender  \\\n",
              "0                               Good Grief  GBUM71602854    1   0     NaN   \n",
              "1                       Lords of Cardboard  US3C69910183   13  24  female   \n",
              "2  Hip Hop Is Dead(Album Version (Edited))  USUM70618761   13  24  female   \n",
              "3                             Disco Africa  GBUQH1000063   13  24  female   \n",
              "4                        Sleep Without You  QM3E21606003    1   0     NaN   \n",
              "\n",
              "  registered_via registration_init_time expiration_date  \n",
              "0              7             2012-01-02      2017-10-05  \n",
              "1              9             2011-05-25      2017-09-11  \n",
              "2              9             2011-05-25      2017-09-11  \n",
              "3              9             2011-05-25      2017-09-11  \n",
              "4              7             2012-01-02      2017-10-05  "
            ],
            "text/html": [
              "\n",
              "  <div id=\"df-e3ab310c-b701-4d28-831f-7a5c073688e0\">\n",
              "    <div class=\"colab-df-container\">\n",
              "      <div>\n",
              "<style scoped>\n",
              "    .dataframe tbody tr th:only-of-type {\n",
              "        vertical-align: middle;\n",
              "    }\n",
              "\n",
              "    .dataframe tbody tr th {\n",
              "        vertical-align: top;\n",
              "    }\n",
              "\n",
              "    .dataframe thead th {\n",
              "        text-align: right;\n",
              "    }\n",
              "</style>\n",
              "<table border=\"1\" class=\"dataframe\">\n",
              "  <thead>\n",
              "    <tr style=\"text-align: right;\">\n",
              "      <th></th>\n",
              "      <th>msno</th>\n",
              "      <th>song_id</th>\n",
              "      <th>source_system_tab</th>\n",
              "      <th>source_screen_name</th>\n",
              "      <th>source_type</th>\n",
              "      <th>target</th>\n",
              "      <th>song_length</th>\n",
              "      <th>genre_ids</th>\n",
              "      <th>artist_name</th>\n",
              "      <th>composer</th>\n",
              "      <th>lyricist</th>\n",
              "      <th>language</th>\n",
              "      <th>name</th>\n",
              "      <th>isrc</th>\n",
              "      <th>city</th>\n",
              "      <th>bd</th>\n",
              "      <th>gender</th>\n",
              "      <th>registered_via</th>\n",
              "      <th>registration_init_time</th>\n",
              "      <th>expiration_date</th>\n",
              "    </tr>\n",
              "  </thead>\n",
              "  <tbody>\n",
              "    <tr>\n",
              "      <th>0</th>\n",
              "      <td>FGtllVqz18RPiwJj/edr2gV78zirAiY/9SmYvia+kCg=</td>\n",
              "      <td>BBzumQNXUHKdEBOB7mAJuzok+IJA1c2Ryg/yzTF6tik=</td>\n",
              "      <td>explore</td>\n",
              "      <td>Explore</td>\n",
              "      <td>online-playlist</td>\n",
              "      <td>1</td>\n",
              "      <td>206471.0</td>\n",
              "      <td>359</td>\n",
              "      <td>Bastille</td>\n",
              "      <td>Dan Smith| Mark Crew</td>\n",
              "      <td>NaN</td>\n",
              "      <td>52.0</td>\n",
              "      <td>Good Grief</td>\n",
              "      <td>GBUM71602854</td>\n",
              "      <td>1</td>\n",
              "      <td>0</td>\n",
              "      <td>NaN</td>\n",
              "      <td>7</td>\n",
              "      <td>2012-01-02</td>\n",
              "      <td>2017-10-05</td>\n",
              "    </tr>\n",
              "    <tr>\n",
              "      <th>1</th>\n",
              "      <td>Xumu+NIjS6QYVxDS4/t3SawvJ7viT9hPKXmf0RtLNx8=</td>\n",
              "      <td>bhp/MpSNoqoxOIB+/l8WPqu6jldth4DIpCm3ayXnJqM=</td>\n",
              "      <td>my library</td>\n",
              "      <td>Local playlist more</td>\n",
              "      <td>local-playlist</td>\n",
              "      <td>1</td>\n",
              "      <td>284584.0</td>\n",
              "      <td>1259</td>\n",
              "      <td>Various Artists</td>\n",
              "      <td>NaN</td>\n",
              "      <td>NaN</td>\n",
              "      <td>52.0</td>\n",
              "      <td>Lords of Cardboard</td>\n",
              "      <td>US3C69910183</td>\n",
              "      <td>13</td>\n",
              "      <td>24</td>\n",
              "      <td>female</td>\n",
              "      <td>9</td>\n",
              "      <td>2011-05-25</td>\n",
              "      <td>2017-09-11</td>\n",
              "    </tr>\n",
              "    <tr>\n",
              "      <th>2</th>\n",
              "      <td>Xumu+NIjS6QYVxDS4/t3SawvJ7viT9hPKXmf0RtLNx8=</td>\n",
              "      <td>JNWfrrC7zNN7BdMpsISKa4Mw+xVJYNnxXh3/Epw7QgY=</td>\n",
              "      <td>my library</td>\n",
              "      <td>Local playlist more</td>\n",
              "      <td>local-playlist</td>\n",
              "      <td>1</td>\n",
              "      <td>225396.0</td>\n",
              "      <td>1259</td>\n",
              "      <td>Nas</td>\n",
              "      <td>N. Jones、W. Adams、J. Lordan、D. Ingle</td>\n",
              "      <td>NaN</td>\n",
              "      <td>52.0</td>\n",
              "      <td>Hip Hop Is Dead(Album Version (Edited))</td>\n",
              "      <td>USUM70618761</td>\n",
              "      <td>13</td>\n",
              "      <td>24</td>\n",
              "      <td>female</td>\n",
              "      <td>9</td>\n",
              "      <td>2011-05-25</td>\n",
              "      <td>2017-09-11</td>\n",
              "    </tr>\n",
              "    <tr>\n",
              "      <th>3</th>\n",
              "      <td>Xumu+NIjS6QYVxDS4/t3SawvJ7viT9hPKXmf0RtLNx8=</td>\n",
              "      <td>2A87tzfnJTSWqD7gIZHisolhe4DMdzkbd6LzO1KHjNs=</td>\n",
              "      <td>my library</td>\n",
              "      <td>Local playlist more</td>\n",
              "      <td>local-playlist</td>\n",
              "      <td>1</td>\n",
              "      <td>255512.0</td>\n",
              "      <td>1019</td>\n",
              "      <td>Soundway</td>\n",
              "      <td>Kwadwo Donkoh</td>\n",
              "      <td>NaN</td>\n",
              "      <td>-1.0</td>\n",
              "      <td>Disco Africa</td>\n",
              "      <td>GBUQH1000063</td>\n",
              "      <td>13</td>\n",
              "      <td>24</td>\n",
              "      <td>female</td>\n",
              "      <td>9</td>\n",
              "      <td>2011-05-25</td>\n",
              "      <td>2017-09-11</td>\n",
              "    </tr>\n",
              "    <tr>\n",
              "      <th>4</th>\n",
              "      <td>FGtllVqz18RPiwJj/edr2gV78zirAiY/9SmYvia+kCg=</td>\n",
              "      <td>3qm6XTZ6MOCU11x8FIVbAGH5l5uMkT3/ZalWG1oo2Gc=</td>\n",
              "      <td>explore</td>\n",
              "      <td>Explore</td>\n",
              "      <td>online-playlist</td>\n",
              "      <td>1</td>\n",
              "      <td>187802.0</td>\n",
              "      <td>1011</td>\n",
              "      <td>Brett Young</td>\n",
              "      <td>Brett Young| Kelly Archer| Justin Ebach</td>\n",
              "      <td>NaN</td>\n",
              "      <td>52.0</td>\n",
              "      <td>Sleep Without You</td>\n",
              "      <td>QM3E21606003</td>\n",
              "      <td>1</td>\n",
              "      <td>0</td>\n",
              "      <td>NaN</td>\n",
              "      <td>7</td>\n",
              "      <td>2012-01-02</td>\n",
              "      <td>2017-10-05</td>\n",
              "    </tr>\n",
              "  </tbody>\n",
              "</table>\n",
              "</div>\n",
              "      <button class=\"colab-df-convert\" onclick=\"convertToInteractive('df-e3ab310c-b701-4d28-831f-7a5c073688e0')\"\n",
              "              title=\"Convert this dataframe to an interactive table.\"\n",
              "              style=\"display:none;\">\n",
              "        \n",
              "  <svg xmlns=\"http://www.w3.org/2000/svg\" height=\"24px\"viewBox=\"0 0 24 24\"\n",
              "       width=\"24px\">\n",
              "    <path d=\"M0 0h24v24H0V0z\" fill=\"none\"/>\n",
              "    <path d=\"M18.56 5.44l.94 2.06.94-2.06 2.06-.94-2.06-.94-.94-2.06-.94 2.06-2.06.94zm-11 1L8.5 8.5l.94-2.06 2.06-.94-2.06-.94L8.5 2.5l-.94 2.06-2.06.94zm10 10l.94 2.06.94-2.06 2.06-.94-2.06-.94-.94-2.06-.94 2.06-2.06.94z\"/><path d=\"M17.41 7.96l-1.37-1.37c-.4-.4-.92-.59-1.43-.59-.52 0-1.04.2-1.43.59L10.3 9.45l-7.72 7.72c-.78.78-.78 2.05 0 2.83L4 21.41c.39.39.9.59 1.41.59.51 0 1.02-.2 1.41-.59l7.78-7.78 2.81-2.81c.8-.78.8-2.07 0-2.86zM5.41 20L4 18.59l7.72-7.72 1.47 1.35L5.41 20z\"/>\n",
              "  </svg>\n",
              "      </button>\n",
              "      \n",
              "  <style>\n",
              "    .colab-df-container {\n",
              "      display:flex;\n",
              "      flex-wrap:wrap;\n",
              "      gap: 12px;\n",
              "    }\n",
              "\n",
              "    .colab-df-convert {\n",
              "      background-color: #E8F0FE;\n",
              "      border: none;\n",
              "      border-radius: 50%;\n",
              "      cursor: pointer;\n",
              "      display: none;\n",
              "      fill: #1967D2;\n",
              "      height: 32px;\n",
              "      padding: 0 0 0 0;\n",
              "      width: 32px;\n",
              "    }\n",
              "\n",
              "    .colab-df-convert:hover {\n",
              "      background-color: #E2EBFA;\n",
              "      box-shadow: 0px 1px 2px rgba(60, 64, 67, 0.3), 0px 1px 3px 1px rgba(60, 64, 67, 0.15);\n",
              "      fill: #174EA6;\n",
              "    }\n",
              "\n",
              "    [theme=dark] .colab-df-convert {\n",
              "      background-color: #3B4455;\n",
              "      fill: #D2E3FC;\n",
              "    }\n",
              "\n",
              "    [theme=dark] .colab-df-convert:hover {\n",
              "      background-color: #434B5C;\n",
              "      box-shadow: 0px 1px 3px 1px rgba(0, 0, 0, 0.15);\n",
              "      filter: drop-shadow(0px 1px 2px rgba(0, 0, 0, 0.3));\n",
              "      fill: #FFFFFF;\n",
              "    }\n",
              "  </style>\n",
              "\n",
              "      <script>\n",
              "        const buttonEl =\n",
              "          document.querySelector('#df-e3ab310c-b701-4d28-831f-7a5c073688e0 button.colab-df-convert');\n",
              "        buttonEl.style.display =\n",
              "          google.colab.kernel.accessAllowed ? 'block' : 'none';\n",
              "\n",
              "        async function convertToInteractive(key) {\n",
              "          const element = document.querySelector('#df-e3ab310c-b701-4d28-831f-7a5c073688e0');\n",
              "          const dataTable =\n",
              "            await google.colab.kernel.invokeFunction('convertToInteractive',\n",
              "                                                     [key], {});\n",
              "          if (!dataTable) return;\n",
              "\n",
              "          const docLinkHtml = 'Like what you see? Visit the ' +\n",
              "            '<a target=\"_blank\" href=https://colab.research.google.com/notebooks/data_table.ipynb>data table notebook</a>'\n",
              "            + ' to learn more about interactive tables.';\n",
              "          element.innerHTML = '';\n",
              "          dataTable['output_type'] = 'display_data';\n",
              "          await google.colab.output.renderOutput(dataTable, element);\n",
              "          const docLink = document.createElement('div');\n",
              "          docLink.innerHTML = docLinkHtml;\n",
              "          element.appendChild(docLink);\n",
              "        }\n",
              "      </script>\n",
              "    </div>\n",
              "  </div>\n",
              "  "
            ]
          },
          "metadata": {},
          "execution_count": 10
        }
      ]
    },
    {
      "cell_type": "code",
      "source": [
        "num_bytes = data.memory_usage(deep=True).sum()\n",
        "num_bytes_format(num_bytes)"
      ],
      "metadata": {
        "colab": {
          "base_uri": "https://localhost:8080/",
          "height": 37
        },
        "id": "9rJf9Bqjn7Ns",
        "outputId": "1e6b0a4e-f608-4081-ceab-a0b09f3af5db"
      },
      "execution_count": null,
      "outputs": [
        {
          "output_type": "execute_result",
          "data": {
            "text/plain": [
              "'676.5065 Mb'"
            ],
            "application/vnd.google.colaboratory.intrinsic+json": {
              "type": "string"
            }
          },
          "metadata": {},
          "execution_count": 11
        }
      ]
    },
    {
      "cell_type": "markdown",
      "source": [
        "### Not bad, isn't it? :)"
      ],
      "metadata": {
        "id": "zD_W71FqoZvb"
      }
    },
    {
      "cell_type": "markdown",
      "source": [
        "## How to construct train, validation and test sets?\n",
        "- ### extract random 5% of items and associated responses to consider them as cold\n",
        "- ### extract random 10% of the data - for cold users test set\n",
        "- ### drop cold items and users from the remaining data\n",
        "- ### extract random 20% of the remaining data for the validation and test sets\n",
        "- ### let's costruct two train sets - one with both 1 and 0 target values and the second - with only positives values (for some recommender algorithms) "
      ],
      "metadata": {
        "id": "yrupbqIw0CXE"
      }
    },
    {
      "cell_type": "markdown",
      "source": [
        "### Extract 5% of items and associated responses to consider them as cold"
      ],
      "metadata": {
        "id": "Awg4fuUH516g"
      }
    },
    {
      "cell_type": "code",
      "source": [
        "seed = 42"
      ],
      "metadata": {
        "id": "7syMu-c5G9BT"
      },
      "execution_count": null,
      "outputs": []
    },
    {
      "cell_type": "code",
      "source": [
        "unique_songs = data.song_id.unique()\n",
        "unique_songs_num = unique_songs.shape[0]\n",
        "unique_songs_num"
      ],
      "metadata": {
        "id": "BC8gHTITpB66",
        "colab": {
          "base_uri": "https://localhost:8080/"
        },
        "outputId": "74422260-1b0d-4aaa-9ff0-2b85361df3f2"
      },
      "execution_count": null,
      "outputs": [
        {
          "output_type": "execute_result",
          "data": {
            "text/plain": [
              "359966"
            ]
          },
          "metadata": {},
          "execution_count": 13
        }
      ]
    },
    {
      "cell_type": "code",
      "source": [
        "np.random.seed(seed)\n",
        "n = int(unique_songs_num * 5e-2)\n",
        "indices = np.random.choice(unique_songs_num, n, replace=False)"
      ],
      "metadata": {
        "id": "6Piry9B10H-p"
      },
      "execution_count": null,
      "outputs": []
    },
    {
      "cell_type": "code",
      "source": [
        "assert indices.shape[0] == np.unique(indices).shape[0], \"there are some duplicates\""
      ],
      "metadata": {
        "id": "BahnGs_c1ZGO"
      },
      "execution_count": null,
      "outputs": []
    },
    {
      "cell_type": "code",
      "source": [
        "cold_items = unique_songs[indices]\n",
        "cold_items"
      ],
      "metadata": {
        "colab": {
          "base_uri": "https://localhost:8080/"
        },
        "id": "dZmeqyLM40VP",
        "outputId": "b279801c-a31b-4542-c1cb-dce526bfbeb3"
      },
      "execution_count": null,
      "outputs": [
        {
          "output_type": "execute_result",
          "data": {
            "text/plain": [
              "['5RvNrR96qBoGqxO3X8AQ7EFRH5ZIK5HQVna1zURxBiE=', 'LbA1w5aj+kWCY35fJZXGrTXNXWFO/UlMDstRT1l1A+Q=', 'WHiXHHkWYzs39dbsTShGO1qfaE+W8pqmQPOwpTIsC/M=', 'vU7VJkXkaiY4EDNM2jAG7QlT+mFj9wSqU1suAOz6l/8=', 'BhKSr7dYWpmSfhd9ZteTbcRVTk4kuMpmDsiHJokVubU=', ..., 'DF2uobf+CDt95j+YRUWx8bBqV/FVqi/828bep9YKoPw=', '0xxFT6k5POZKiuHGKxqs5BToK1157HKEdAQo0uO+72s=', 'eo0Y0yhNjis+bv+ApvoWCGnlFOwKSLVg7ZemR5cKz7E=', '/P8khdW9dQZfvUA9dntWB5esjPgNhnbKB87tP4XWPwU=', 'NTcPlt+Sn4AtnpLWsoEJs/06SbU5+1a/dl5pmVCzsSI=']\n",
              "Length: 17998\n",
              "Categories (359966, object): ['+++2AEoM0d8iZTdbnAjUm35bnGKGMXdZJSv4rrWK6JQ=', '++/ACCkEN/+VtgrJxEqeRgRmV4y8pcarDJ9T/yRAi1E=',\n",
              "                              '++/lJNswCU+za2pYB0cWIbGL5UzWIKtfweX20+GImZA=', '++4/NK5qpbTZWln/6UmykB8cLfRTCCj8E36IKZVzBjM=',\n",
              "                              ..., 'zzwCHrZc0TezilVRRTbsiWY6ORNpBq1Zv8GGtHT2xlk=',\n",
              "                              'zzwePOl2yF8NLVL7ZfTU2CmtlwnjSruAOpcYiod9iHs=', 'zzxGtSW9L/V3sRNKZbkOgziHtftZ9/oNvETOTY/QHr8=',\n",
              "                              'zzzkIR9d2ggpCr5ofvGZu0JFdjScoIxMgcV3dR4yKh0=']"
            ]
          },
          "metadata": {},
          "execution_count": 16
        }
      ]
    },
    {
      "cell_type": "code",
      "source": [
        "cold_items_data = data[data[\"song_id\"].isin(cold_items)]\\\n",
        "                      .sample(frac=1, random_state=seed).reset_index(drop=True)\n",
        "cold_items_data.shape"
      ],
      "metadata": {
        "colab": {
          "base_uri": "https://localhost:8080/"
        },
        "id": "6K6bgedB2DBb",
        "outputId": "3bdd06f8-7eca-4f15-9399-ed064bf6c082"
      },
      "execution_count": null,
      "outputs": [
        {
          "output_type": "execute_result",
          "data": {
            "text/plain": [
              "(392174, 20)"
            ]
          },
          "metadata": {},
          "execution_count": 17
        }
      ]
    },
    {
      "cell_type": "code",
      "source": [
        "cold_items_data.genre_ids.value_counts()[:10]"
      ],
      "metadata": {
        "colab": {
          "base_uri": "https://localhost:8080/"
        },
        "id": "ViYuGqM45V7B",
        "outputId": "24d8e272-81ce-4fad-fd53-013627b7e847"
      },
      "execution_count": null,
      "outputs": [
        {
          "output_type": "execute_result",
          "data": {
            "text/plain": [
              "465     193596\n",
              "458      85704\n",
              "444      21590\n",
              "1609     15084\n",
              "921      14685\n",
              "2022      7368\n",
              "1259      6350\n",
              "359       4050\n",
              "2122      3607\n",
              "958       3190\n",
              "Name: genre_ids, dtype: int64"
            ]
          },
          "metadata": {},
          "execution_count": 18
        }
      ]
    },
    {
      "cell_type": "code",
      "source": [
        "cold_items_data.head()"
      ],
      "metadata": {
        "colab": {
          "base_uri": "https://localhost:8080/",
          "height": 472
        },
        "id": "qEgxQSvm3Ib5",
        "outputId": "3a6bc62a-9037-4495-f6ab-5439b6438944"
      },
      "execution_count": null,
      "outputs": [
        {
          "output_type": "execute_result",
          "data": {
            "text/plain": [
              "                                           msno  \\\n",
              "0  gLotRgEt5+ISFcoM/5pv0PH4wl+M4O2cxbSqGSWPN2g=   \n",
              "1  jYCD4lsV1pcA8mnYAXR18R8ZUMxP8B+3Nc7inSjdx/U=   \n",
              "2  nE9hJlIOASHA2um8GseS5W+Pi0MupQn0u5pIbflmu90=   \n",
              "3  SIkJtZ/oYjk+LMyzAf2GEFMwnUvvxpy03JzuObWqxrk=   \n",
              "4  w5REazVOQB6mcBXC6SG+fbYq0xZ54IuLz6FwhuUN1SI=   \n",
              "\n",
              "                                        song_id source_system_tab  \\\n",
              "0  brIQuNCXBSpWhUw9hCkoYv1ZQVIB3kyL8pwvb8dcKS4=            search   \n",
              "1  podlycp3c6tOEDw7q8iQBVgvFjiMpkWWXTlXljGdbTY=          discover   \n",
              "2  u3Cep8rYmeaOLq3xdjNHg8iFVXwT5RNArzQj2+VjWGM=            search   \n",
              "3  AxnJSdFWF/yEBP2VvZonrvzTTIiuwdsMXolQFpG71/w=        my library   \n",
              "4  GdRVw2uQu6JZUNPa0rdAkFoUoIdJz64mHOU0PuizP78=          discover   \n",
              "\n",
              "     source_screen_name          source_type  target  song_length genre_ids  \\\n",
              "0           Artist more  top-hits-for-artist       0     219149.0       465   \n",
              "1  Online playlist more      online-playlist       0     212973.0       444   \n",
              "2                Search                 song       0     758491.0       465   \n",
              "3   Local playlist more        local-library       0     227892.0       465   \n",
              "4  Online playlist more      online-playlist       1     286824.0       465   \n",
              "\n",
              "    artist_name                                           composer  \\\n",
              "0  Gareth Gates                                                NaN   \n",
              "1         TWICE                                               Rado   \n",
              "2  古巨基 (Leo Ku)  Asuka Ryou| Bobby Chen| Cai De Cai| Chang Chen...   \n",
              "3  五月天 (Mayday)                                                 怪獸   \n",
              "4  五月天 (Mayday)                                                 阿信   \n",
              "\n",
              "                                            lyricist language  \\\n",
              "0                                                NaN     52.0   \n",
              "1                                                NaN     31.0   \n",
              "2  An Jeong Hun| Bobby Chen| Chang Chen-yue| Chen...      3.0   \n",
              "3                                                 阿信      3.0   \n",
              "4                                                 阿信      3.0   \n",
              "\n",
              "               name          isrc city  bd  gender registered_via  \\\n",
              "0          Sunshine  GBCTA0300153    1   0     NaN              7   \n",
              "1                TT  US5TA1600082    5  30  female              9   \n",
              "2       勁歌金曲2 - 情歌王  HKG580800062    1   0     NaN              7   \n",
              "3  有些事現在不做 一輩子都不會做了  TWK231105502   13  33    male              7   \n",
              "4                擁抱  TWK231307402    4  19    male              9   \n",
              "\n",
              "  registration_init_time expiration_date  \n",
              "0             2014-04-16      2017-09-23  \n",
              "1             2010-12-20      2017-11-01  \n",
              "2             2015-09-22      2017-04-27  \n",
              "3             2015-12-17      2017-09-17  \n",
              "4             2011-06-11      2018-02-15  "
            ],
            "text/html": [
              "\n",
              "  <div id=\"df-223a3048-af60-4d36-9ff3-6405092b64b6\">\n",
              "    <div class=\"colab-df-container\">\n",
              "      <div>\n",
              "<style scoped>\n",
              "    .dataframe tbody tr th:only-of-type {\n",
              "        vertical-align: middle;\n",
              "    }\n",
              "\n",
              "    .dataframe tbody tr th {\n",
              "        vertical-align: top;\n",
              "    }\n",
              "\n",
              "    .dataframe thead th {\n",
              "        text-align: right;\n",
              "    }\n",
              "</style>\n",
              "<table border=\"1\" class=\"dataframe\">\n",
              "  <thead>\n",
              "    <tr style=\"text-align: right;\">\n",
              "      <th></th>\n",
              "      <th>msno</th>\n",
              "      <th>song_id</th>\n",
              "      <th>source_system_tab</th>\n",
              "      <th>source_screen_name</th>\n",
              "      <th>source_type</th>\n",
              "      <th>target</th>\n",
              "      <th>song_length</th>\n",
              "      <th>genre_ids</th>\n",
              "      <th>artist_name</th>\n",
              "      <th>composer</th>\n",
              "      <th>lyricist</th>\n",
              "      <th>language</th>\n",
              "      <th>name</th>\n",
              "      <th>isrc</th>\n",
              "      <th>city</th>\n",
              "      <th>bd</th>\n",
              "      <th>gender</th>\n",
              "      <th>registered_via</th>\n",
              "      <th>registration_init_time</th>\n",
              "      <th>expiration_date</th>\n",
              "    </tr>\n",
              "  </thead>\n",
              "  <tbody>\n",
              "    <tr>\n",
              "      <th>0</th>\n",
              "      <td>gLotRgEt5+ISFcoM/5pv0PH4wl+M4O2cxbSqGSWPN2g=</td>\n",
              "      <td>brIQuNCXBSpWhUw9hCkoYv1ZQVIB3kyL8pwvb8dcKS4=</td>\n",
              "      <td>search</td>\n",
              "      <td>Artist more</td>\n",
              "      <td>top-hits-for-artist</td>\n",
              "      <td>0</td>\n",
              "      <td>219149.0</td>\n",
              "      <td>465</td>\n",
              "      <td>Gareth Gates</td>\n",
              "      <td>NaN</td>\n",
              "      <td>NaN</td>\n",
              "      <td>52.0</td>\n",
              "      <td>Sunshine</td>\n",
              "      <td>GBCTA0300153</td>\n",
              "      <td>1</td>\n",
              "      <td>0</td>\n",
              "      <td>NaN</td>\n",
              "      <td>7</td>\n",
              "      <td>2014-04-16</td>\n",
              "      <td>2017-09-23</td>\n",
              "    </tr>\n",
              "    <tr>\n",
              "      <th>1</th>\n",
              "      <td>jYCD4lsV1pcA8mnYAXR18R8ZUMxP8B+3Nc7inSjdx/U=</td>\n",
              "      <td>podlycp3c6tOEDw7q8iQBVgvFjiMpkWWXTlXljGdbTY=</td>\n",
              "      <td>discover</td>\n",
              "      <td>Online playlist more</td>\n",
              "      <td>online-playlist</td>\n",
              "      <td>0</td>\n",
              "      <td>212973.0</td>\n",
              "      <td>444</td>\n",
              "      <td>TWICE</td>\n",
              "      <td>Rado</td>\n",
              "      <td>NaN</td>\n",
              "      <td>31.0</td>\n",
              "      <td>TT</td>\n",
              "      <td>US5TA1600082</td>\n",
              "      <td>5</td>\n",
              "      <td>30</td>\n",
              "      <td>female</td>\n",
              "      <td>9</td>\n",
              "      <td>2010-12-20</td>\n",
              "      <td>2017-11-01</td>\n",
              "    </tr>\n",
              "    <tr>\n",
              "      <th>2</th>\n",
              "      <td>nE9hJlIOASHA2um8GseS5W+Pi0MupQn0u5pIbflmu90=</td>\n",
              "      <td>u3Cep8rYmeaOLq3xdjNHg8iFVXwT5RNArzQj2+VjWGM=</td>\n",
              "      <td>search</td>\n",
              "      <td>Search</td>\n",
              "      <td>song</td>\n",
              "      <td>0</td>\n",
              "      <td>758491.0</td>\n",
              "      <td>465</td>\n",
              "      <td>古巨基 (Leo Ku)</td>\n",
              "      <td>Asuka Ryou| Bobby Chen| Cai De Cai| Chang Chen...</td>\n",
              "      <td>An Jeong Hun| Bobby Chen| Chang Chen-yue| Chen...</td>\n",
              "      <td>3.0</td>\n",
              "      <td>勁歌金曲2 - 情歌王</td>\n",
              "      <td>HKG580800062</td>\n",
              "      <td>1</td>\n",
              "      <td>0</td>\n",
              "      <td>NaN</td>\n",
              "      <td>7</td>\n",
              "      <td>2015-09-22</td>\n",
              "      <td>2017-04-27</td>\n",
              "    </tr>\n",
              "    <tr>\n",
              "      <th>3</th>\n",
              "      <td>SIkJtZ/oYjk+LMyzAf2GEFMwnUvvxpy03JzuObWqxrk=</td>\n",
              "      <td>AxnJSdFWF/yEBP2VvZonrvzTTIiuwdsMXolQFpG71/w=</td>\n",
              "      <td>my library</td>\n",
              "      <td>Local playlist more</td>\n",
              "      <td>local-library</td>\n",
              "      <td>0</td>\n",
              "      <td>227892.0</td>\n",
              "      <td>465</td>\n",
              "      <td>五月天 (Mayday)</td>\n",
              "      <td>怪獸</td>\n",
              "      <td>阿信</td>\n",
              "      <td>3.0</td>\n",
              "      <td>有些事現在不做 一輩子都不會做了</td>\n",
              "      <td>TWK231105502</td>\n",
              "      <td>13</td>\n",
              "      <td>33</td>\n",
              "      <td>male</td>\n",
              "      <td>7</td>\n",
              "      <td>2015-12-17</td>\n",
              "      <td>2017-09-17</td>\n",
              "    </tr>\n",
              "    <tr>\n",
              "      <th>4</th>\n",
              "      <td>w5REazVOQB6mcBXC6SG+fbYq0xZ54IuLz6FwhuUN1SI=</td>\n",
              "      <td>GdRVw2uQu6JZUNPa0rdAkFoUoIdJz64mHOU0PuizP78=</td>\n",
              "      <td>discover</td>\n",
              "      <td>Online playlist more</td>\n",
              "      <td>online-playlist</td>\n",
              "      <td>1</td>\n",
              "      <td>286824.0</td>\n",
              "      <td>465</td>\n",
              "      <td>五月天 (Mayday)</td>\n",
              "      <td>阿信</td>\n",
              "      <td>阿信</td>\n",
              "      <td>3.0</td>\n",
              "      <td>擁抱</td>\n",
              "      <td>TWK231307402</td>\n",
              "      <td>4</td>\n",
              "      <td>19</td>\n",
              "      <td>male</td>\n",
              "      <td>9</td>\n",
              "      <td>2011-06-11</td>\n",
              "      <td>2018-02-15</td>\n",
              "    </tr>\n",
              "  </tbody>\n",
              "</table>\n",
              "</div>\n",
              "      <button class=\"colab-df-convert\" onclick=\"convertToInteractive('df-223a3048-af60-4d36-9ff3-6405092b64b6')\"\n",
              "              title=\"Convert this dataframe to an interactive table.\"\n",
              "              style=\"display:none;\">\n",
              "        \n",
              "  <svg xmlns=\"http://www.w3.org/2000/svg\" height=\"24px\"viewBox=\"0 0 24 24\"\n",
              "       width=\"24px\">\n",
              "    <path d=\"M0 0h24v24H0V0z\" fill=\"none\"/>\n",
              "    <path d=\"M18.56 5.44l.94 2.06.94-2.06 2.06-.94-2.06-.94-.94-2.06-.94 2.06-2.06.94zm-11 1L8.5 8.5l.94-2.06 2.06-.94-2.06-.94L8.5 2.5l-.94 2.06-2.06.94zm10 10l.94 2.06.94-2.06 2.06-.94-2.06-.94-.94-2.06-.94 2.06-2.06.94z\"/><path d=\"M17.41 7.96l-1.37-1.37c-.4-.4-.92-.59-1.43-.59-.52 0-1.04.2-1.43.59L10.3 9.45l-7.72 7.72c-.78.78-.78 2.05 0 2.83L4 21.41c.39.39.9.59 1.41.59.51 0 1.02-.2 1.41-.59l7.78-7.78 2.81-2.81c.8-.78.8-2.07 0-2.86zM5.41 20L4 18.59l7.72-7.72 1.47 1.35L5.41 20z\"/>\n",
              "  </svg>\n",
              "      </button>\n",
              "      \n",
              "  <style>\n",
              "    .colab-df-container {\n",
              "      display:flex;\n",
              "      flex-wrap:wrap;\n",
              "      gap: 12px;\n",
              "    }\n",
              "\n",
              "    .colab-df-convert {\n",
              "      background-color: #E8F0FE;\n",
              "      border: none;\n",
              "      border-radius: 50%;\n",
              "      cursor: pointer;\n",
              "      display: none;\n",
              "      fill: #1967D2;\n",
              "      height: 32px;\n",
              "      padding: 0 0 0 0;\n",
              "      width: 32px;\n",
              "    }\n",
              "\n",
              "    .colab-df-convert:hover {\n",
              "      background-color: #E2EBFA;\n",
              "      box-shadow: 0px 1px 2px rgba(60, 64, 67, 0.3), 0px 1px 3px 1px rgba(60, 64, 67, 0.15);\n",
              "      fill: #174EA6;\n",
              "    }\n",
              "\n",
              "    [theme=dark] .colab-df-convert {\n",
              "      background-color: #3B4455;\n",
              "      fill: #D2E3FC;\n",
              "    }\n",
              "\n",
              "    [theme=dark] .colab-df-convert:hover {\n",
              "      background-color: #434B5C;\n",
              "      box-shadow: 0px 1px 3px 1px rgba(0, 0, 0, 0.15);\n",
              "      filter: drop-shadow(0px 1px 2px rgba(0, 0, 0, 0.3));\n",
              "      fill: #FFFFFF;\n",
              "    }\n",
              "  </style>\n",
              "\n",
              "      <script>\n",
              "        const buttonEl =\n",
              "          document.querySelector('#df-223a3048-af60-4d36-9ff3-6405092b64b6 button.colab-df-convert');\n",
              "        buttonEl.style.display =\n",
              "          google.colab.kernel.accessAllowed ? 'block' : 'none';\n",
              "\n",
              "        async function convertToInteractive(key) {\n",
              "          const element = document.querySelector('#df-223a3048-af60-4d36-9ff3-6405092b64b6');\n",
              "          const dataTable =\n",
              "            await google.colab.kernel.invokeFunction('convertToInteractive',\n",
              "                                                     [key], {});\n",
              "          if (!dataTable) return;\n",
              "\n",
              "          const docLinkHtml = 'Like what you see? Visit the ' +\n",
              "            '<a target=\"_blank\" href=https://colab.research.google.com/notebooks/data_table.ipynb>data table notebook</a>'\n",
              "            + ' to learn more about interactive tables.';\n",
              "          element.innerHTML = '';\n",
              "          dataTable['output_type'] = 'display_data';\n",
              "          await google.colab.output.renderOutput(dataTable, element);\n",
              "          const docLink = document.createElement('div');\n",
              "          docLink.innerHTML = docLinkHtml;\n",
              "          element.appendChild(docLink);\n",
              "        }\n",
              "      </script>\n",
              "    </div>\n",
              "  </div>\n",
              "  "
            ]
          },
          "metadata": {},
          "execution_count": 19
        }
      ]
    },
    {
      "cell_type": "markdown",
      "source": [
        "### Extract 10% users as cold"
      ],
      "metadata": {
        "id": "2Haja2-l6Zjh"
      }
    },
    {
      "cell_type": "code",
      "source": [
        "unique_users = data.msno.unique()\n",
        "unique_users_num = unique_users.shape[0]\n",
        "unique_users_num"
      ],
      "metadata": {
        "colab": {
          "base_uri": "https://localhost:8080/"
        },
        "id": "8aWdNVFA3eD4",
        "outputId": "cfc8153f-3058-4171-e579-a62e09855abe"
      },
      "execution_count": null,
      "outputs": [
        {
          "output_type": "execute_result",
          "data": {
            "text/plain": [
              "30755"
            ]
          },
          "metadata": {},
          "execution_count": 20
        }
      ]
    },
    {
      "cell_type": "code",
      "source": [
        "np.random.seed(seed)\n",
        "n = int(unique_users_num * 10e-2)\n",
        "indices = np.random.choice(unique_users_num, n, replace=False)\n",
        "cold_users = unique_users[indices]\n",
        "cold_users"
      ],
      "metadata": {
        "colab": {
          "base_uri": "https://localhost:8080/"
        },
        "id": "rGW5LXxU7Wn6",
        "outputId": "7b3c1f66-8757-43fd-b564-625a45ebec22"
      },
      "execution_count": null,
      "outputs": [
        {
          "output_type": "execute_result",
          "data": {
            "text/plain": [
              "['5hebwI9Q5dTNBNh81QjKXhv2y+2AbR+4hAFZcCQgL0g=', 'E9jsIxPWhebfnR8cbqPgS+FxCt0zBSXP+72mYRFg0+U=', 'Mt3Ac1nS394uSrrQEHaiMUsR/bFNTMU9ko0D/OAShCg=', 'JJBNvtYwPGa74MdMy7V8to5wvsG+O4+BTX4qJotW8pQ=', 'M6rqdn4hhc+IZyHuRfBcf/zcxrq1koy/gY/c7hgz2so=', ..., 'CFubhd9pCFCcwgpqj+ZkMuGSJSzXg4dEeOiDoURqY3A=', 'Whz2TUfD7b6BBt43Ka2uXV1cvfK7Pc9c0L8K3cC9pco=', 'L8ghWRKIjvED5R+yBIIMhmXpCyIce7+J3rB0AZ5TWgI=', 'FeHK362Hi6ZpM5/MXkQEaD4uuC8EkoWfkB6/kLYEQng=', 'lNMg/h7T/40zQpB0ddclHG4W6jbNpJPcPIV1YJOy2gk=']\n",
              "Length: 3075\n",
              "Categories (30755, object): ['++5wYjoMgQHoRuD3GbbvmphZbBBwymzv5Q4l8sywtuU=', '++AH7m/EQ4iKe6wSlfO/xXAJx50p+fCeTyF90GoE9Pg=',\n",
              "                             '++e+jsxuQ8UEnmW40od9Rq3rW7+wAum4wooXyZTKJpk=', '++xWL5Pbi2CpG4uUugigQahauM0J/sBIRloTNPBybIU=', ...,\n",
              "                             'zzZBJUYXrb168A4Ff4sA8L2iOH0x4ciKdD6WkV53XaE=', 'zzompfSaMamqvjyCMYvgUBwYrxh8fHE40z3f73CQoak=',\n",
              "                             'zzqc2ja7z10FtSpagYVcAZXg/gPRq7wcDZuNFj+zJSU=', 'zzzRi5ek1YCKTGns8C77xwAutE05PAPmz8T/pIIQhzE=']"
            ]
          },
          "metadata": {},
          "execution_count": 21
        }
      ]
    },
    {
      "cell_type": "code",
      "source": [
        "cold_users_data = data[data[\"msno\"].isin(cold_users)]\\\n",
        "                      .sample(frac=1, random_state=seed).reset_index(drop=True)\n",
        "cold_users_data.shape"
      ],
      "metadata": {
        "colab": {
          "base_uri": "https://localhost:8080/"
        },
        "id": "2_0rBXQK9HIS",
        "outputId": "767122be-380d-4693-ebdb-017a358d6b9a"
      },
      "execution_count": null,
      "outputs": [
        {
          "output_type": "execute_result",
          "data": {
            "text/plain": [
              "(715482, 20)"
            ]
          },
          "metadata": {},
          "execution_count": 22
        }
      ]
    },
    {
      "cell_type": "code",
      "source": [
        "cold_users_data.genre_ids.value_counts()[:10]"
      ],
      "metadata": {
        "colab": {
          "base_uri": "https://localhost:8080/"
        },
        "id": "Epk2TxyD9SXC",
        "outputId": "76664b45-38e0-45e2-a232-8533f7dd0908"
      },
      "execution_count": null,
      "outputs": [
        {
          "output_type": "execute_result",
          "data": {
            "text/plain": [
              "465     363491\n",
              "458     120939\n",
              "921      34856\n",
              "1609     29737\n",
              "444      24290\n",
              "1259     17700\n",
              "2022     14465\n",
              "359       9875\n",
              "139       6294\n",
              "451       6241\n",
              "Name: genre_ids, dtype: int64"
            ]
          },
          "metadata": {},
          "execution_count": 23
        }
      ]
    },
    {
      "cell_type": "markdown",
      "source": [
        "### Drop cold items and users from the data"
      ],
      "metadata": {
        "id": "vVYWjFMYDetM"
      }
    },
    {
      "cell_type": "code",
      "source": [
        "data_new = data[~data[\"song_id\"].isin(cold_items)]\n",
        "data_new = data_new[~data_new[\"msno\"].isin(cold_users)]\n",
        "\n",
        "data_new = data_new.sample(frac=1, random_state=seed).reset_index(drop=True)\n",
        "data_new.shape"
      ],
      "metadata": {
        "colab": {
          "base_uri": "https://localhost:8080/"
        },
        "id": "PZJ13Ro29fc4",
        "outputId": "1ea40b4f-eec4-4720-b4ec-9232f024134a"
      },
      "execution_count": null,
      "outputs": [
        {
          "output_type": "execute_result",
          "data": {
            "text/plain": [
              "(6307916, 20)"
            ]
          },
          "metadata": {},
          "execution_count": 24
        }
      ]
    },
    {
      "cell_type": "code",
      "source": [
        "data_new.head()"
      ],
      "metadata": {
        "colab": {
          "base_uri": "https://localhost:8080/",
          "height": 353
        },
        "id": "Aeti_FAIFFQg",
        "outputId": "9389a278-5e30-4d9b-c5ce-04ebcfb52def"
      },
      "execution_count": null,
      "outputs": [
        {
          "output_type": "execute_result",
          "data": {
            "text/plain": [
              "                                           msno  \\\n",
              "0  xvCGZ5McgEJlkYx2HNO1/CkD1CYjlA/gQL36iX8TYBY=   \n",
              "1  jOlB9i8NKGG2oudUKq9ObRyt3sXQnWWwcei1+s8sNIA=   \n",
              "2  fe+6batTKL/NxXhhzfDO3yBUmFmQUQAgRpYmF2T0t4E=   \n",
              "3  GVcP7SPQ/IgiEt2uxaXaRH5lFA5tBe8T74/Etk7cnG8=   \n",
              "4  XIfoYUt6vkAqVDRKJRVEHkV0jsaD+fif2EqxsobpEqg=   \n",
              "\n",
              "                                        song_id source_system_tab  \\\n",
              "0  868uXMrBS8WwQulNX0W+vk6sJA6Hs35YNtFYceXgX/I=             radio   \n",
              "1  a4TbK5V15pj3YZUOGa9h2U3t0OsE+3aiFw41mNlcgcw=        my library   \n",
              "2  5RLsVkl6PTt3pIyWvojM0z2LblVysXHxoc7Mc4LIFL8=        my library   \n",
              "3  7Xxzo9Z584Z1AhkaLLWEcpzcEuxcquGE52Ztc4879YI=          discover   \n",
              "4  rA+H/y66yC2qK0v926aWRFWngwJmL+IhGhJN4fBS0XM=             radio   \n",
              "\n",
              "     source_screen_name      source_type  target  song_length genre_ids  \\\n",
              "0                 Radio            radio       0     255373.0       465   \n",
              "1   Local playlist more    local-library       1     248790.0       465   \n",
              "2   Local playlist more    local-library       1     178887.0       921   \n",
              "3  Online playlist more  online-playlist       1     275136.0       465   \n",
              "4                 Radio            radio       0     243983.0       465   \n",
              "\n",
              "           artist_name composer lyricist language  \\\n",
              "0                  張震嶽      NaN      NaN      3.0   \n",
              "1        吳汶芳 (Fang Wu)      吳汶芳      吳汶芳      3.0   \n",
              "2          Noel Coward      NaN      NaN     52.0   \n",
              "3           田馥甄 (Hebe)      楊子樸      施人誠      3.0   \n",
              "4  范瑋琪 (Christine Fan)      陳小霞      姚若龍      3.0   \n",
              "\n",
              "                             name          isrc city  bd  gender  \\\n",
              "0                              勇氣  TWA450479802    1   0     NaN   \n",
              "1  孤獨的總和 (Accumulated Loneliness)  TWA211328806   13  31  female   \n",
              "2           Poor Little Rich Girl  USV291338277    5  33  female   \n",
              "3                          寂寞寂寞就好  TWD951043107    1   0     NaN   \n",
              "4                          最重要的決定  TWA211125202    5  22  female   \n",
              "\n",
              "  registered_via registration_init_time expiration_date  \n",
              "0              7             2013-05-14      2017-09-24  \n",
              "1              9             2011-04-19      2017-06-20  \n",
              "2              9             2008-08-05      2017-10-06  \n",
              "3              7             2011-02-25      2017-09-12  \n",
              "4              7             2013-07-29      2017-09-30  "
            ],
            "text/html": [
              "\n",
              "  <div id=\"df-851f08e8-8b2e-4b6d-b00f-4291bb9449a0\">\n",
              "    <div class=\"colab-df-container\">\n",
              "      <div>\n",
              "<style scoped>\n",
              "    .dataframe tbody tr th:only-of-type {\n",
              "        vertical-align: middle;\n",
              "    }\n",
              "\n",
              "    .dataframe tbody tr th {\n",
              "        vertical-align: top;\n",
              "    }\n",
              "\n",
              "    .dataframe thead th {\n",
              "        text-align: right;\n",
              "    }\n",
              "</style>\n",
              "<table border=\"1\" class=\"dataframe\">\n",
              "  <thead>\n",
              "    <tr style=\"text-align: right;\">\n",
              "      <th></th>\n",
              "      <th>msno</th>\n",
              "      <th>song_id</th>\n",
              "      <th>source_system_tab</th>\n",
              "      <th>source_screen_name</th>\n",
              "      <th>source_type</th>\n",
              "      <th>target</th>\n",
              "      <th>song_length</th>\n",
              "      <th>genre_ids</th>\n",
              "      <th>artist_name</th>\n",
              "      <th>composer</th>\n",
              "      <th>lyricist</th>\n",
              "      <th>language</th>\n",
              "      <th>name</th>\n",
              "      <th>isrc</th>\n",
              "      <th>city</th>\n",
              "      <th>bd</th>\n",
              "      <th>gender</th>\n",
              "      <th>registered_via</th>\n",
              "      <th>registration_init_time</th>\n",
              "      <th>expiration_date</th>\n",
              "    </tr>\n",
              "  </thead>\n",
              "  <tbody>\n",
              "    <tr>\n",
              "      <th>0</th>\n",
              "      <td>xvCGZ5McgEJlkYx2HNO1/CkD1CYjlA/gQL36iX8TYBY=</td>\n",
              "      <td>868uXMrBS8WwQulNX0W+vk6sJA6Hs35YNtFYceXgX/I=</td>\n",
              "      <td>radio</td>\n",
              "      <td>Radio</td>\n",
              "      <td>radio</td>\n",
              "      <td>0</td>\n",
              "      <td>255373.0</td>\n",
              "      <td>465</td>\n",
              "      <td>張震嶽</td>\n",
              "      <td>NaN</td>\n",
              "      <td>NaN</td>\n",
              "      <td>3.0</td>\n",
              "      <td>勇氣</td>\n",
              "      <td>TWA450479802</td>\n",
              "      <td>1</td>\n",
              "      <td>0</td>\n",
              "      <td>NaN</td>\n",
              "      <td>7</td>\n",
              "      <td>2013-05-14</td>\n",
              "      <td>2017-09-24</td>\n",
              "    </tr>\n",
              "    <tr>\n",
              "      <th>1</th>\n",
              "      <td>jOlB9i8NKGG2oudUKq9ObRyt3sXQnWWwcei1+s8sNIA=</td>\n",
              "      <td>a4TbK5V15pj3YZUOGa9h2U3t0OsE+3aiFw41mNlcgcw=</td>\n",
              "      <td>my library</td>\n",
              "      <td>Local playlist more</td>\n",
              "      <td>local-library</td>\n",
              "      <td>1</td>\n",
              "      <td>248790.0</td>\n",
              "      <td>465</td>\n",
              "      <td>吳汶芳 (Fang Wu)</td>\n",
              "      <td>吳汶芳</td>\n",
              "      <td>吳汶芳</td>\n",
              "      <td>3.0</td>\n",
              "      <td>孤獨的總和 (Accumulated Loneliness)</td>\n",
              "      <td>TWA211328806</td>\n",
              "      <td>13</td>\n",
              "      <td>31</td>\n",
              "      <td>female</td>\n",
              "      <td>9</td>\n",
              "      <td>2011-04-19</td>\n",
              "      <td>2017-06-20</td>\n",
              "    </tr>\n",
              "    <tr>\n",
              "      <th>2</th>\n",
              "      <td>fe+6batTKL/NxXhhzfDO3yBUmFmQUQAgRpYmF2T0t4E=</td>\n",
              "      <td>5RLsVkl6PTt3pIyWvojM0z2LblVysXHxoc7Mc4LIFL8=</td>\n",
              "      <td>my library</td>\n",
              "      <td>Local playlist more</td>\n",
              "      <td>local-library</td>\n",
              "      <td>1</td>\n",
              "      <td>178887.0</td>\n",
              "      <td>921</td>\n",
              "      <td>Noel Coward</td>\n",
              "      <td>NaN</td>\n",
              "      <td>NaN</td>\n",
              "      <td>52.0</td>\n",
              "      <td>Poor Little Rich Girl</td>\n",
              "      <td>USV291338277</td>\n",
              "      <td>5</td>\n",
              "      <td>33</td>\n",
              "      <td>female</td>\n",
              "      <td>9</td>\n",
              "      <td>2008-08-05</td>\n",
              "      <td>2017-10-06</td>\n",
              "    </tr>\n",
              "    <tr>\n",
              "      <th>3</th>\n",
              "      <td>GVcP7SPQ/IgiEt2uxaXaRH5lFA5tBe8T74/Etk7cnG8=</td>\n",
              "      <td>7Xxzo9Z584Z1AhkaLLWEcpzcEuxcquGE52Ztc4879YI=</td>\n",
              "      <td>discover</td>\n",
              "      <td>Online playlist more</td>\n",
              "      <td>online-playlist</td>\n",
              "      <td>1</td>\n",
              "      <td>275136.0</td>\n",
              "      <td>465</td>\n",
              "      <td>田馥甄 (Hebe)</td>\n",
              "      <td>楊子樸</td>\n",
              "      <td>施人誠</td>\n",
              "      <td>3.0</td>\n",
              "      <td>寂寞寂寞就好</td>\n",
              "      <td>TWD951043107</td>\n",
              "      <td>1</td>\n",
              "      <td>0</td>\n",
              "      <td>NaN</td>\n",
              "      <td>7</td>\n",
              "      <td>2011-02-25</td>\n",
              "      <td>2017-09-12</td>\n",
              "    </tr>\n",
              "    <tr>\n",
              "      <th>4</th>\n",
              "      <td>XIfoYUt6vkAqVDRKJRVEHkV0jsaD+fif2EqxsobpEqg=</td>\n",
              "      <td>rA+H/y66yC2qK0v926aWRFWngwJmL+IhGhJN4fBS0XM=</td>\n",
              "      <td>radio</td>\n",
              "      <td>Radio</td>\n",
              "      <td>radio</td>\n",
              "      <td>0</td>\n",
              "      <td>243983.0</td>\n",
              "      <td>465</td>\n",
              "      <td>范瑋琪 (Christine Fan)</td>\n",
              "      <td>陳小霞</td>\n",
              "      <td>姚若龍</td>\n",
              "      <td>3.0</td>\n",
              "      <td>最重要的決定</td>\n",
              "      <td>TWA211125202</td>\n",
              "      <td>5</td>\n",
              "      <td>22</td>\n",
              "      <td>female</td>\n",
              "      <td>7</td>\n",
              "      <td>2013-07-29</td>\n",
              "      <td>2017-09-30</td>\n",
              "    </tr>\n",
              "  </tbody>\n",
              "</table>\n",
              "</div>\n",
              "      <button class=\"colab-df-convert\" onclick=\"convertToInteractive('df-851f08e8-8b2e-4b6d-b00f-4291bb9449a0')\"\n",
              "              title=\"Convert this dataframe to an interactive table.\"\n",
              "              style=\"display:none;\">\n",
              "        \n",
              "  <svg xmlns=\"http://www.w3.org/2000/svg\" height=\"24px\"viewBox=\"0 0 24 24\"\n",
              "       width=\"24px\">\n",
              "    <path d=\"M0 0h24v24H0V0z\" fill=\"none\"/>\n",
              "    <path d=\"M18.56 5.44l.94 2.06.94-2.06 2.06-.94-2.06-.94-.94-2.06-.94 2.06-2.06.94zm-11 1L8.5 8.5l.94-2.06 2.06-.94-2.06-.94L8.5 2.5l-.94 2.06-2.06.94zm10 10l.94 2.06.94-2.06 2.06-.94-2.06-.94-.94-2.06-.94 2.06-2.06.94z\"/><path d=\"M17.41 7.96l-1.37-1.37c-.4-.4-.92-.59-1.43-.59-.52 0-1.04.2-1.43.59L10.3 9.45l-7.72 7.72c-.78.78-.78 2.05 0 2.83L4 21.41c.39.39.9.59 1.41.59.51 0 1.02-.2 1.41-.59l7.78-7.78 2.81-2.81c.8-.78.8-2.07 0-2.86zM5.41 20L4 18.59l7.72-7.72 1.47 1.35L5.41 20z\"/>\n",
              "  </svg>\n",
              "      </button>\n",
              "      \n",
              "  <style>\n",
              "    .colab-df-container {\n",
              "      display:flex;\n",
              "      flex-wrap:wrap;\n",
              "      gap: 12px;\n",
              "    }\n",
              "\n",
              "    .colab-df-convert {\n",
              "      background-color: #E8F0FE;\n",
              "      border: none;\n",
              "      border-radius: 50%;\n",
              "      cursor: pointer;\n",
              "      display: none;\n",
              "      fill: #1967D2;\n",
              "      height: 32px;\n",
              "      padding: 0 0 0 0;\n",
              "      width: 32px;\n",
              "    }\n",
              "\n",
              "    .colab-df-convert:hover {\n",
              "      background-color: #E2EBFA;\n",
              "      box-shadow: 0px 1px 2px rgba(60, 64, 67, 0.3), 0px 1px 3px 1px rgba(60, 64, 67, 0.15);\n",
              "      fill: #174EA6;\n",
              "    }\n",
              "\n",
              "    [theme=dark] .colab-df-convert {\n",
              "      background-color: #3B4455;\n",
              "      fill: #D2E3FC;\n",
              "    }\n",
              "\n",
              "    [theme=dark] .colab-df-convert:hover {\n",
              "      background-color: #434B5C;\n",
              "      box-shadow: 0px 1px 3px 1px rgba(0, 0, 0, 0.15);\n",
              "      filter: drop-shadow(0px 1px 2px rgba(0, 0, 0, 0.3));\n",
              "      fill: #FFFFFF;\n",
              "    }\n",
              "  </style>\n",
              "\n",
              "      <script>\n",
              "        const buttonEl =\n",
              "          document.querySelector('#df-851f08e8-8b2e-4b6d-b00f-4291bb9449a0 button.colab-df-convert');\n",
              "        buttonEl.style.display =\n",
              "          google.colab.kernel.accessAllowed ? 'block' : 'none';\n",
              "\n",
              "        async function convertToInteractive(key) {\n",
              "          const element = document.querySelector('#df-851f08e8-8b2e-4b6d-b00f-4291bb9449a0');\n",
              "          const dataTable =\n",
              "            await google.colab.kernel.invokeFunction('convertToInteractive',\n",
              "                                                     [key], {});\n",
              "          if (!dataTable) return;\n",
              "\n",
              "          const docLinkHtml = 'Like what you see? Visit the ' +\n",
              "            '<a target=\"_blank\" href=https://colab.research.google.com/notebooks/data_table.ipynb>data table notebook</a>'\n",
              "            + ' to learn more about interactive tables.';\n",
              "          element.innerHTML = '';\n",
              "          dataTable['output_type'] = 'display_data';\n",
              "          await google.colab.output.renderOutput(dataTable, element);\n",
              "          const docLink = document.createElement('div');\n",
              "          docLink.innerHTML = docLinkHtml;\n",
              "          element.appendChild(docLink);\n",
              "        }\n",
              "      </script>\n",
              "    </div>\n",
              "  </div>\n",
              "  "
            ]
          },
          "metadata": {},
          "execution_count": 25
        }
      ]
    },
    {
      "cell_type": "markdown",
      "source": [
        "### Extract 10% of remaining data for validation and 10% for test"
      ],
      "metadata": {
        "id": "M_OVnWi398rs"
      }
    },
    {
      "cell_type": "code",
      "source": [
        "row_num = data_new.shape[0] \n",
        "data_train_all = data_new.iloc[:int(0.8*row_num)]\n",
        "data_val = data_new.iloc[int(0.8*row_num):int(0.9*row_num)]\n",
        "data_test = data_new.iloc[int(0.9*row_num):]\n",
        "data_val.shape, data_test.shape"
      ],
      "metadata": {
        "colab": {
          "base_uri": "https://localhost:8080/"
        },
        "id": "dmE_wE8PCAD_",
        "outputId": "ef00c7bf-6f2a-41a1-8543-d892fedf0a2e"
      },
      "execution_count": null,
      "outputs": [
        {
          "output_type": "execute_result",
          "data": {
            "text/plain": [
              "((630792, 20), (630792, 20))"
            ]
          },
          "metadata": {},
          "execution_count": 26
        }
      ]
    },
    {
      "cell_type": "markdown",
      "source": [
        "### Extract positive train set"
      ],
      "metadata": {
        "id": "ArDL9JOV2Vfj"
      }
    },
    {
      "cell_type": "code",
      "source": [
        "data_train_pos = data_train_all[data_train_all.target == 1]\n",
        "data_train_all.shape, data_train_pos.shape"
      ],
      "metadata": {
        "colab": {
          "base_uri": "https://localhost:8080/"
        },
        "id": "fbamtmQyB_9t",
        "outputId": "6fe8f6af-4c85-452c-d30e-d2c4f40e3ee8"
      },
      "execution_count": null,
      "outputs": [
        {
          "output_type": "execute_result",
          "data": {
            "text/plain": [
              "((5046332, 20), (2539875, 20))"
            ]
          },
          "metadata": {},
          "execution_count": 27
        }
      ]
    },
    {
      "cell_type": "markdown",
      "source": [
        "### Clear the folder if needed"
      ],
      "metadata": {
        "id": "Qnj2VsvCpqOx"
      }
    },
    {
      "cell_type": "code",
      "source": [
        "!rm train.csv train_pos.csv validation.csv test.csv cold_users_data.csv cold_items_data.csv"
      ],
      "metadata": {
        "id": "PROnPH2Y7yCo"
      },
      "execution_count": null,
      "outputs": []
    },
    {
      "cell_type": "markdown",
      "source": [
        "### Check pos/neg proportion"
      ],
      "metadata": {
        "id": "VP0JlP_p2f-f"
      }
    },
    {
      "cell_type": "code",
      "source": [
        "data.target.value_counts()"
      ],
      "metadata": {
        "colab": {
          "base_uri": "https://localhost:8080/"
        },
        "id": "SC2NkzmP4Ha3",
        "outputId": "f9d657e7-9c81-401c-b9c7-6222fbd80df0"
      },
      "execution_count": null,
      "outputs": [
        {
          "output_type": "execute_result",
          "data": {
            "text/plain": [
              "1    3714656\n",
              "0    3662762\n",
              "Name: target, dtype: int64"
            ]
          },
          "metadata": {},
          "execution_count": 39
        }
      ]
    },
    {
      "cell_type": "code",
      "source": [
        "data_new.target.value_counts()"
      ],
      "metadata": {
        "colab": {
          "base_uri": "https://localhost:8080/"
        },
        "id": "4O22Jt2_5N9-",
        "outputId": "d0db9d9f-3ece-4fd6-fc79-8f3d807c7a65"
      },
      "execution_count": null,
      "outputs": [
        {
          "output_type": "execute_result",
          "data": {
            "text/plain": [
              "1    3174752\n",
              "0    3133164\n",
              "Name: target, dtype: int64"
            ]
          },
          "metadata": {},
          "execution_count": 40
        }
      ]
    },
    {
      "cell_type": "code",
      "source": [
        "data_train_all.target.value_counts()"
      ],
      "metadata": {
        "colab": {
          "base_uri": "https://localhost:8080/"
        },
        "id": "0CRqF8JO0tIm",
        "outputId": "67ec518d-2e1d-44c6-be03-91769e112af7"
      },
      "execution_count": null,
      "outputs": [
        {
          "output_type": "execute_result",
          "data": {
            "text/plain": [
              "1    2539875\n",
              "0    2506457\n",
              "Name: target, dtype: int64"
            ]
          },
          "metadata": {},
          "execution_count": 41
        }
      ]
    },
    {
      "cell_type": "code",
      "source": [
        "data_val.target.value_counts()"
      ],
      "metadata": {
        "colab": {
          "base_uri": "https://localhost:8080/"
        },
        "id": "7_BV6XiE33_M",
        "outputId": "cafd305b-02f3-4ce9-9e20-3c262f9c2b90"
      },
      "execution_count": null,
      "outputs": [
        {
          "output_type": "execute_result",
          "data": {
            "text/plain": [
              "1    317904\n",
              "0    312888\n",
              "Name: target, dtype: int64"
            ]
          },
          "metadata": {},
          "execution_count": 42
        }
      ]
    },
    {
      "cell_type": "code",
      "source": [
        "data_test.target.value_counts()"
      ],
      "metadata": {
        "colab": {
          "base_uri": "https://localhost:8080/"
        },
        "id": "SqYUY87N3336",
        "outputId": "a2c6127e-b681-4039-fd37-2d266dc30ba1"
      },
      "execution_count": null,
      "outputs": [
        {
          "output_type": "execute_result",
          "data": {
            "text/plain": [
              "1    316973\n",
              "0    313819\n",
              "Name: target, dtype: int64"
            ]
          },
          "metadata": {},
          "execution_count": 43
        }
      ]
    },
    {
      "cell_type": "code",
      "source": [
        "cold_users_data.target.value_counts()"
      ],
      "metadata": {
        "colab": {
          "base_uri": "https://localhost:8080/"
        },
        "id": "UVIwUFQ802wW",
        "outputId": "5df7009e-a846-4a85-8581-e53161bd1da1"
      },
      "execution_count": null,
      "outputs": [
        {
          "output_type": "execute_result",
          "data": {
            "text/plain": [
              "1    360046\n",
              "0    355436\n",
              "Name: target, dtype: int64"
            ]
          },
          "metadata": {},
          "execution_count": 44
        }
      ]
    },
    {
      "cell_type": "code",
      "source": [
        "cold_items_data.target.value_counts()"
      ],
      "metadata": {
        "colab": {
          "base_uri": "https://localhost:8080/"
        },
        "id": "MW2QP1gG38bH",
        "outputId": "15dbdf21-603f-4582-d54e-3df2550bb7a8"
      },
      "execution_count": null,
      "outputs": [
        {
          "output_type": "execute_result",
          "data": {
            "text/plain": [
              "1    199104\n",
              "0    193070\n",
              "Name: target, dtype: int64"
            ]
          },
          "metadata": {},
          "execution_count": 45
        }
      ]
    },
    {
      "cell_type": "markdown",
      "source": [
        "### Save the data"
      ],
      "metadata": {
        "id": "4kGWLqMypgF6"
      }
    },
    {
      "cell_type": "code",
      "source": [
        "data_train_all.to_csv(\"train.csv\", index=False)\n",
        "data_train_pos.to_csv(\"train_pos.csv\", index=False)\n",
        "data_val.to_csv(\"validation.csv\", index=False)\n",
        "data_test.to_csv(\"test.csv\", index=False)\n",
        "cold_users_data.to_csv(\"cold_users_data.csv\", index=False)\n",
        "cold_items_data.to_csv(\"cold_items_data.csv\", index=False)"
      ],
      "metadata": {
        "id": "iaWAC4EyQI50"
      },
      "execution_count": null,
      "outputs": []
    },
    {
      "cell_type": "markdown",
      "source": [
        "### Stay tuned! :)"
      ],
      "metadata": {
        "id": "8qiaxxompjvy"
      }
    }
  ]
}