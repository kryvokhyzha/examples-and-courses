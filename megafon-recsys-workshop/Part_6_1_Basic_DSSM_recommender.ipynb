{
  "cells": [
    {
      "cell_type": "markdown",
      "metadata": {
        "id": "view-in-github",
        "colab_type": "text"
      },
      "source": [
        "<a href=\"https://colab.research.google.com/github/art-glazunov/MegaFon_RecSys_Workshop/blob/main/Part_6_1_Basic_DSSM_recommender.ipynb\" target=\"_parent\"><img src=\"https://colab.research.google.com/assets/colab-badge.svg\" alt=\"Open In Colab\"/></a>"
      ]
    },
    {
      "cell_type": "markdown",
      "metadata": {
        "id": "l5g7bvxaAG1i"
      },
      "source": [
        "# MegaFon RecSys workshop\n",
        "by Artyom Glazunov\n",
        "\n",
        "## Part 6.1. Basic DSSM recommender"
      ]
    },
    {
      "cell_type": "markdown",
      "metadata": {
        "id": "sZ5I9mJ5q6vj"
      },
      "source": [
        "## The plan\n",
        "\n",
        "- ### Data loading\n",
        "- ### Useful classes and methods\n",
        "- ### Data preparation\n",
        "- ### Training\n",
        "- ### Evaluation"
      ]
    },
    {
      "cell_type": "code",
      "execution_count": null,
      "metadata": {
        "id": "Jzlutim01rz8",
        "colab": {
          "base_uri": "https://localhost:8080/"
        },
        "outputId": "ae4fb5cc-d372-4062-f2f0-e5ac8eecb6a1"
      },
      "outputs": [
        {
          "output_type": "stream",
          "name": "stdout",
          "text": [
            "\u001b[?25l\r\u001b[K     |█                               | 10 kB 20.1 MB/s eta 0:00:01\r\u001b[K     |██▏                             | 20 kB 23.8 MB/s eta 0:00:01\r\u001b[K     |███▏                            | 30 kB 27.6 MB/s eta 0:00:01\r\u001b[K     |████▎                           | 40 kB 12.9 MB/s eta 0:00:01\r\u001b[K     |█████▎                          | 51 kB 12.2 MB/s eta 0:00:01\r\u001b[K     |██████▍                         | 61 kB 14.1 MB/s eta 0:00:01\r\u001b[K     |███████▍                        | 71 kB 11.5 MB/s eta 0:00:01\r\u001b[K     |████████▌                       | 81 kB 12.6 MB/s eta 0:00:01\r\u001b[K     |█████████▌                      | 92 kB 13.6 MB/s eta 0:00:01\r\u001b[K     |██████████▋                     | 102 kB 12.7 MB/s eta 0:00:01\r\u001b[K     |███████████▋                    | 112 kB 12.7 MB/s eta 0:00:01\r\u001b[K     |████████████▊                   | 122 kB 12.7 MB/s eta 0:00:01\r\u001b[K     |█████████████▊                  | 133 kB 12.7 MB/s eta 0:00:01\r\u001b[K     |██████████████▉                 | 143 kB 12.7 MB/s eta 0:00:01\r\u001b[K     |███████████████▉                | 153 kB 12.7 MB/s eta 0:00:01\r\u001b[K     |█████████████████               | 163 kB 12.7 MB/s eta 0:00:01\r\u001b[K     |██████████████████              | 174 kB 12.7 MB/s eta 0:00:01\r\u001b[K     |███████████████████             | 184 kB 12.7 MB/s eta 0:00:01\r\u001b[K     |████████████████████            | 194 kB 12.7 MB/s eta 0:00:01\r\u001b[K     |█████████████████████▏          | 204 kB 12.7 MB/s eta 0:00:01\r\u001b[K     |██████████████████████▏         | 215 kB 12.7 MB/s eta 0:00:01\r\u001b[K     |███████████████████████▎        | 225 kB 12.7 MB/s eta 0:00:01\r\u001b[K     |████████████████████████▎       | 235 kB 12.7 MB/s eta 0:00:01\r\u001b[K     |█████████████████████████▍      | 245 kB 12.7 MB/s eta 0:00:01\r\u001b[K     |██████████████████████████▍     | 256 kB 12.7 MB/s eta 0:00:01\r\u001b[K     |███████████████████████████▌    | 266 kB 12.7 MB/s eta 0:00:01\r\u001b[K     |████████████████████████████▌   | 276 kB 12.7 MB/s eta 0:00:01\r\u001b[K     |█████████████████████████████▋  | 286 kB 12.7 MB/s eta 0:00:01\r\u001b[K     |██████████████████████████████▋ | 296 kB 12.7 MB/s eta 0:00:01\r\u001b[K     |███████████████████████████████▊| 307 kB 12.7 MB/s eta 0:00:01\r\u001b[K     |████████████████████████████████| 310 kB 12.7 MB/s \n",
            "\u001b[?25h  Building wheel for lightfm (setup.py) ... \u001b[?25l\u001b[?25hdone\n"
          ]
        }
      ],
      "source": [
        "pip install -q lightfm==1.16"
      ]
    },
    {
      "cell_type": "code",
      "execution_count": null,
      "metadata": {
        "id": "70ceNWcRrg_I"
      },
      "outputs": [],
      "source": [
        "import random\n",
        "\n",
        "import pandas as pd\n",
        "import numpy as np\n",
        "import scipy\n",
        "from scipy.sparse import csr_matrix\n",
        "\n",
        "import sklearn\n",
        "from sklearn.base import TransformerMixin, BaseEstimator\n",
        "\n",
        "from lightfm import data\n",
        "\n",
        "import tensorflow as tf\n",
        "import tensorflow.keras.backend as K\n",
        "from tensorflow import keras\n",
        "\n",
        "from sklearn.metrics import roc_auc_score\n",
        "\n",
        "from matplotlib import pyplot as plt\n",
        "\n",
        "import gc"
      ]
    },
    {
      "cell_type": "markdown",
      "metadata": {
        "id": "1BPIZqEYqzj8"
      },
      "source": [
        "### Data loading"
      ]
    },
    {
      "cell_type": "code",
      "execution_count": null,
      "metadata": {
        "colab": {
          "base_uri": "https://localhost:8080/"
        },
        "id": "fUBYZjrq24eQ",
        "outputId": "f2c87b2b-b477-43ff-c999-0f0f70437d7d"
      },
      "outputs": [
        {
          "output_type": "stream",
          "name": "stdout",
          "text": [
            "/content/drive/MyDrive/Colab_Notebooks/datafest_22/data\n"
          ]
        }
      ],
      "source": [
        "cd /content/drive/MyDrive/Colab_Notebooks/datafest_22/data"
      ]
    },
    {
      "cell_type": "code",
      "execution_count": null,
      "metadata": {
        "colab": {
          "base_uri": "https://localhost:8080/",
          "height": 35
        },
        "id": "kpeYVHCM1Axz",
        "outputId": "30f6f1fc-4378-4242-a76a-f013e77565ac"
      },
      "outputs": [
        {
          "output_type": "execute_result",
          "data": {
            "text/plain": [
              "'/device:GPU:0'"
            ],
            "application/vnd.google.colaboratory.intrinsic+json": {
              "type": "string"
            }
          },
          "metadata": {},
          "execution_count": 4
        }
      ],
      "source": [
        "tf.test.gpu_device_name()"
      ]
    },
    {
      "cell_type": "code",
      "execution_count": null,
      "metadata": {
        "id": "Owjd4KGR28f8"
      },
      "outputs": [],
      "source": [
        "data_train_all = pd.read_csv(\"train.csv\")\n",
        "data_val = pd.read_csv(\"validation.csv\")\n",
        "data_test = pd.read_csv(\"test.csv\")\n",
        "cold_users_data = pd.read_csv(\"cold_users_data.csv\")\n",
        "cold_items_data = pd.read_csv(\"cold_items_data.csv\")"
      ]
    },
    {
      "cell_type": "code",
      "execution_count": null,
      "metadata": {
        "colab": {
          "base_uri": "https://localhost:8080/",
          "height": 374
        },
        "id": "e5SWZ4IxYmIw",
        "outputId": "c48ea250-d9f1-47fc-cd07-1dca31f3744d"
      },
      "outputs": [
        {
          "output_type": "execute_result",
          "data": {
            "text/plain": [
              "                                           msno  \\\n",
              "0  xvCGZ5McgEJlkYx2HNO1/CkD1CYjlA/gQL36iX8TYBY=   \n",
              "1  jOlB9i8NKGG2oudUKq9ObRyt3sXQnWWwcei1+s8sNIA=   \n",
              "2  fe+6batTKL/NxXhhzfDO3yBUmFmQUQAgRpYmF2T0t4E=   \n",
              "3  GVcP7SPQ/IgiEt2uxaXaRH5lFA5tBe8T74/Etk7cnG8=   \n",
              "4  XIfoYUt6vkAqVDRKJRVEHkV0jsaD+fif2EqxsobpEqg=   \n",
              "\n",
              "                                        song_id source_system_tab  \\\n",
              "0  868uXMrBS8WwQulNX0W+vk6sJA6Hs35YNtFYceXgX/I=             radio   \n",
              "1  a4TbK5V15pj3YZUOGa9h2U3t0OsE+3aiFw41mNlcgcw=        my library   \n",
              "2  5RLsVkl6PTt3pIyWvojM0z2LblVysXHxoc7Mc4LIFL8=        my library   \n",
              "3  7Xxzo9Z584Z1AhkaLLWEcpzcEuxcquGE52Ztc4879YI=          discover   \n",
              "4  rA+H/y66yC2qK0v926aWRFWngwJmL+IhGhJN4fBS0XM=             radio   \n",
              "\n",
              "     source_screen_name      source_type  target  song_length genre_ids  \\\n",
              "0                 Radio            radio       0     255373.0       465   \n",
              "1   Local playlist more    local-library       1     248790.0       465   \n",
              "2   Local playlist more    local-library       1     178887.0       921   \n",
              "3  Online playlist more  online-playlist       1     275136.0       465   \n",
              "4                 Radio            radio       0     243983.0       465   \n",
              "\n",
              "           artist_name composer lyricist  language  \\\n",
              "0                  張震嶽      NaN      NaN       3.0   \n",
              "1        吳汶芳 (Fang Wu)      吳汶芳      吳汶芳       3.0   \n",
              "2          Noel Coward      NaN      NaN      52.0   \n",
              "3           田馥甄 (Hebe)      楊子樸      施人誠       3.0   \n",
              "4  范瑋琪 (Christine Fan)      陳小霞      姚若龍       3.0   \n",
              "\n",
              "                             name          isrc  city  bd  gender  \\\n",
              "0                              勇氣  TWA450479802     1   0     NaN   \n",
              "1  孤獨的總和 (Accumulated Loneliness)  TWA211328806    13  31  female   \n",
              "2           Poor Little Rich Girl  USV291338277     5  33  female   \n",
              "3                          寂寞寂寞就好  TWD951043107     1   0     NaN   \n",
              "4                          最重要的決定  TWA211125202     5  22  female   \n",
              "\n",
              "   registered_via registration_init_time expiration_date  \n",
              "0               7             2013-05-14      2017-09-24  \n",
              "1               9             2011-04-19      2017-06-20  \n",
              "2               9             2008-08-05      2017-10-06  \n",
              "3               7             2011-02-25      2017-09-12  \n",
              "4               7             2013-07-29      2017-09-30  "
            ],
            "text/html": [
              "\n",
              "  <div id=\"df-37fd1063-c696-4cc7-81e7-0403a5fd7baf\">\n",
              "    <div class=\"colab-df-container\">\n",
              "      <div>\n",
              "<style scoped>\n",
              "    .dataframe tbody tr th:only-of-type {\n",
              "        vertical-align: middle;\n",
              "    }\n",
              "\n",
              "    .dataframe tbody tr th {\n",
              "        vertical-align: top;\n",
              "    }\n",
              "\n",
              "    .dataframe thead th {\n",
              "        text-align: right;\n",
              "    }\n",
              "</style>\n",
              "<table border=\"1\" class=\"dataframe\">\n",
              "  <thead>\n",
              "    <tr style=\"text-align: right;\">\n",
              "      <th></th>\n",
              "      <th>msno</th>\n",
              "      <th>song_id</th>\n",
              "      <th>source_system_tab</th>\n",
              "      <th>source_screen_name</th>\n",
              "      <th>source_type</th>\n",
              "      <th>target</th>\n",
              "      <th>song_length</th>\n",
              "      <th>genre_ids</th>\n",
              "      <th>artist_name</th>\n",
              "      <th>composer</th>\n",
              "      <th>lyricist</th>\n",
              "      <th>language</th>\n",
              "      <th>name</th>\n",
              "      <th>isrc</th>\n",
              "      <th>city</th>\n",
              "      <th>bd</th>\n",
              "      <th>gender</th>\n",
              "      <th>registered_via</th>\n",
              "      <th>registration_init_time</th>\n",
              "      <th>expiration_date</th>\n",
              "    </tr>\n",
              "  </thead>\n",
              "  <tbody>\n",
              "    <tr>\n",
              "      <th>0</th>\n",
              "      <td>xvCGZ5McgEJlkYx2HNO1/CkD1CYjlA/gQL36iX8TYBY=</td>\n",
              "      <td>868uXMrBS8WwQulNX0W+vk6sJA6Hs35YNtFYceXgX/I=</td>\n",
              "      <td>radio</td>\n",
              "      <td>Radio</td>\n",
              "      <td>radio</td>\n",
              "      <td>0</td>\n",
              "      <td>255373.0</td>\n",
              "      <td>465</td>\n",
              "      <td>張震嶽</td>\n",
              "      <td>NaN</td>\n",
              "      <td>NaN</td>\n",
              "      <td>3.0</td>\n",
              "      <td>勇氣</td>\n",
              "      <td>TWA450479802</td>\n",
              "      <td>1</td>\n",
              "      <td>0</td>\n",
              "      <td>NaN</td>\n",
              "      <td>7</td>\n",
              "      <td>2013-05-14</td>\n",
              "      <td>2017-09-24</td>\n",
              "    </tr>\n",
              "    <tr>\n",
              "      <th>1</th>\n",
              "      <td>jOlB9i8NKGG2oudUKq9ObRyt3sXQnWWwcei1+s8sNIA=</td>\n",
              "      <td>a4TbK5V15pj3YZUOGa9h2U3t0OsE+3aiFw41mNlcgcw=</td>\n",
              "      <td>my library</td>\n",
              "      <td>Local playlist more</td>\n",
              "      <td>local-library</td>\n",
              "      <td>1</td>\n",
              "      <td>248790.0</td>\n",
              "      <td>465</td>\n",
              "      <td>吳汶芳 (Fang Wu)</td>\n",
              "      <td>吳汶芳</td>\n",
              "      <td>吳汶芳</td>\n",
              "      <td>3.0</td>\n",
              "      <td>孤獨的總和 (Accumulated Loneliness)</td>\n",
              "      <td>TWA211328806</td>\n",
              "      <td>13</td>\n",
              "      <td>31</td>\n",
              "      <td>female</td>\n",
              "      <td>9</td>\n",
              "      <td>2011-04-19</td>\n",
              "      <td>2017-06-20</td>\n",
              "    </tr>\n",
              "    <tr>\n",
              "      <th>2</th>\n",
              "      <td>fe+6batTKL/NxXhhzfDO3yBUmFmQUQAgRpYmF2T0t4E=</td>\n",
              "      <td>5RLsVkl6PTt3pIyWvojM0z2LblVysXHxoc7Mc4LIFL8=</td>\n",
              "      <td>my library</td>\n",
              "      <td>Local playlist more</td>\n",
              "      <td>local-library</td>\n",
              "      <td>1</td>\n",
              "      <td>178887.0</td>\n",
              "      <td>921</td>\n",
              "      <td>Noel Coward</td>\n",
              "      <td>NaN</td>\n",
              "      <td>NaN</td>\n",
              "      <td>52.0</td>\n",
              "      <td>Poor Little Rich Girl</td>\n",
              "      <td>USV291338277</td>\n",
              "      <td>5</td>\n",
              "      <td>33</td>\n",
              "      <td>female</td>\n",
              "      <td>9</td>\n",
              "      <td>2008-08-05</td>\n",
              "      <td>2017-10-06</td>\n",
              "    </tr>\n",
              "    <tr>\n",
              "      <th>3</th>\n",
              "      <td>GVcP7SPQ/IgiEt2uxaXaRH5lFA5tBe8T74/Etk7cnG8=</td>\n",
              "      <td>7Xxzo9Z584Z1AhkaLLWEcpzcEuxcquGE52Ztc4879YI=</td>\n",
              "      <td>discover</td>\n",
              "      <td>Online playlist more</td>\n",
              "      <td>online-playlist</td>\n",
              "      <td>1</td>\n",
              "      <td>275136.0</td>\n",
              "      <td>465</td>\n",
              "      <td>田馥甄 (Hebe)</td>\n",
              "      <td>楊子樸</td>\n",
              "      <td>施人誠</td>\n",
              "      <td>3.0</td>\n",
              "      <td>寂寞寂寞就好</td>\n",
              "      <td>TWD951043107</td>\n",
              "      <td>1</td>\n",
              "      <td>0</td>\n",
              "      <td>NaN</td>\n",
              "      <td>7</td>\n",
              "      <td>2011-02-25</td>\n",
              "      <td>2017-09-12</td>\n",
              "    </tr>\n",
              "    <tr>\n",
              "      <th>4</th>\n",
              "      <td>XIfoYUt6vkAqVDRKJRVEHkV0jsaD+fif2EqxsobpEqg=</td>\n",
              "      <td>rA+H/y66yC2qK0v926aWRFWngwJmL+IhGhJN4fBS0XM=</td>\n",
              "      <td>radio</td>\n",
              "      <td>Radio</td>\n",
              "      <td>radio</td>\n",
              "      <td>0</td>\n",
              "      <td>243983.0</td>\n",
              "      <td>465</td>\n",
              "      <td>范瑋琪 (Christine Fan)</td>\n",
              "      <td>陳小霞</td>\n",
              "      <td>姚若龍</td>\n",
              "      <td>3.0</td>\n",
              "      <td>最重要的決定</td>\n",
              "      <td>TWA211125202</td>\n",
              "      <td>5</td>\n",
              "      <td>22</td>\n",
              "      <td>female</td>\n",
              "      <td>7</td>\n",
              "      <td>2013-07-29</td>\n",
              "      <td>2017-09-30</td>\n",
              "    </tr>\n",
              "  </tbody>\n",
              "</table>\n",
              "</div>\n",
              "      <button class=\"colab-df-convert\" onclick=\"convertToInteractive('df-37fd1063-c696-4cc7-81e7-0403a5fd7baf')\"\n",
              "              title=\"Convert this dataframe to an interactive table.\"\n",
              "              style=\"display:none;\">\n",
              "        \n",
              "  <svg xmlns=\"http://www.w3.org/2000/svg\" height=\"24px\"viewBox=\"0 0 24 24\"\n",
              "       width=\"24px\">\n",
              "    <path d=\"M0 0h24v24H0V0z\" fill=\"none\"/>\n",
              "    <path d=\"M18.56 5.44l.94 2.06.94-2.06 2.06-.94-2.06-.94-.94-2.06-.94 2.06-2.06.94zm-11 1L8.5 8.5l.94-2.06 2.06-.94-2.06-.94L8.5 2.5l-.94 2.06-2.06.94zm10 10l.94 2.06.94-2.06 2.06-.94-2.06-.94-.94-2.06-.94 2.06-2.06.94z\"/><path d=\"M17.41 7.96l-1.37-1.37c-.4-.4-.92-.59-1.43-.59-.52 0-1.04.2-1.43.59L10.3 9.45l-7.72 7.72c-.78.78-.78 2.05 0 2.83L4 21.41c.39.39.9.59 1.41.59.51 0 1.02-.2 1.41-.59l7.78-7.78 2.81-2.81c.8-.78.8-2.07 0-2.86zM5.41 20L4 18.59l7.72-7.72 1.47 1.35L5.41 20z\"/>\n",
              "  </svg>\n",
              "      </button>\n",
              "      \n",
              "  <style>\n",
              "    .colab-df-container {\n",
              "      display:flex;\n",
              "      flex-wrap:wrap;\n",
              "      gap: 12px;\n",
              "    }\n",
              "\n",
              "    .colab-df-convert {\n",
              "      background-color: #E8F0FE;\n",
              "      border: none;\n",
              "      border-radius: 50%;\n",
              "      cursor: pointer;\n",
              "      display: none;\n",
              "      fill: #1967D2;\n",
              "      height: 32px;\n",
              "      padding: 0 0 0 0;\n",
              "      width: 32px;\n",
              "    }\n",
              "\n",
              "    .colab-df-convert:hover {\n",
              "      background-color: #E2EBFA;\n",
              "      box-shadow: 0px 1px 2px rgba(60, 64, 67, 0.3), 0px 1px 3px 1px rgba(60, 64, 67, 0.15);\n",
              "      fill: #174EA6;\n",
              "    }\n",
              "\n",
              "    [theme=dark] .colab-df-convert {\n",
              "      background-color: #3B4455;\n",
              "      fill: #D2E3FC;\n",
              "    }\n",
              "\n",
              "    [theme=dark] .colab-df-convert:hover {\n",
              "      background-color: #434B5C;\n",
              "      box-shadow: 0px 1px 3px 1px rgba(0, 0, 0, 0.15);\n",
              "      filter: drop-shadow(0px 1px 2px rgba(0, 0, 0, 0.3));\n",
              "      fill: #FFFFFF;\n",
              "    }\n",
              "  </style>\n",
              "\n",
              "      <script>\n",
              "        const buttonEl =\n",
              "          document.querySelector('#df-37fd1063-c696-4cc7-81e7-0403a5fd7baf button.colab-df-convert');\n",
              "        buttonEl.style.display =\n",
              "          google.colab.kernel.accessAllowed ? 'block' : 'none';\n",
              "\n",
              "        async function convertToInteractive(key) {\n",
              "          const element = document.querySelector('#df-37fd1063-c696-4cc7-81e7-0403a5fd7baf');\n",
              "          const dataTable =\n",
              "            await google.colab.kernel.invokeFunction('convertToInteractive',\n",
              "                                                     [key], {});\n",
              "          if (!dataTable) return;\n",
              "\n",
              "          const docLinkHtml = 'Like what you see? Visit the ' +\n",
              "            '<a target=\"_blank\" href=https://colab.research.google.com/notebooks/data_table.ipynb>data table notebook</a>'\n",
              "            + ' to learn more about interactive tables.';\n",
              "          element.innerHTML = '';\n",
              "          dataTable['output_type'] = 'display_data';\n",
              "          await google.colab.output.renderOutput(dataTable, element);\n",
              "          const docLink = document.createElement('div');\n",
              "          docLink.innerHTML = docLinkHtml;\n",
              "          element.appendChild(docLink);\n",
              "        }\n",
              "      </script>\n",
              "    </div>\n",
              "  </div>\n",
              "  "
            ]
          },
          "metadata": {},
          "execution_count": 6
        }
      ],
      "source": [
        "data_train_all.head()"
      ]
    },
    {
      "cell_type": "markdown",
      "metadata": {
        "id": "XAzoPZ6ity0i"
      },
      "source": [
        "### Useful classes and methods"
      ]
    },
    {
      "cell_type": "code",
      "execution_count": null,
      "metadata": {
        "id": "cPFJ2oMMLWR4"
      },
      "outputs": [],
      "source": [
        "class ColumnCategorizer(TransformerMixin, BaseEstimator):\n",
        "    \"\"\"Creates new categorical features using continuous columns\n",
        "    \n",
        "    Requires \n",
        "    - quantiles list\n",
        "    - columns to transform\n",
        "    - new columns names\n",
        "    \"\"\"\n",
        "    \n",
        "\n",
        "    def __init__(self, qs, new_columns, old_columns):\n",
        "        self.qs = qs #quantile list\n",
        "        self.new_columns = new_columns #columns to create\n",
        "        self.old_columns = old_columns #initial continuous columns\n",
        "        self.transformers = {} #transformers storage\n",
        "        \n",
        "\n",
        "    def fit(self, X, y=None):\n",
        "        \"\"\"Fit transformers on a part of the columns\n",
        "        X - train data\n",
        "        \"\"\"\n",
        "        \n",
        "        for column in self.old_columns:\n",
        "            bins = np.unique([X[column].quantile(q=q) for q in self.qs])\n",
        "            labels = [f\"{column}_bin_{l_edge}_{r_edge}\" for (l_edge, r_edge) in zip(bins[:-1], bins[1:])]\n",
        "            self.transformers[column] = sklearn.preprocessing.FunctionTransformer(\n",
        "                                             pd.cut, kw_args={'bins': bins, \n",
        "                                                              'include_lowest': True,\n",
        "                                                              'labels': labels, \n",
        "                                                              'retbins': False}\n",
        "                                                              ) \n",
        "            self.transformers[column].fit(X[column])\n",
        "        return self\n",
        "    \n",
        "\n",
        "    def transform(self, X):\n",
        "        \"\"\"Transform data and return Pandas DataFrame\n",
        "        X - data to transform\n",
        "        \"\"\"\n",
        "        \n",
        "        data_new = X.copy()\n",
        "        for column_old, column_new in zip(self.old_columns, self.new_columns):\n",
        "            data_new[column_new] = self.transformers[column_old].transform(data_new[column_old]).values\n",
        "        return data_new\n",
        "\n",
        "\n",
        "def names_to_cats(data_to_transform, cols):\n",
        "    \"\"\"Transform numeric categories using names of features\n",
        "    \n",
        "    data_to_transform - data to transform\n",
        "    cols - columns to change\n",
        "    \"\"\"\n",
        "\n",
        "\n",
        "    data_new = data_to_transform.copy()\n",
        "    for col in cols:\n",
        "        data_new[col] = data_new[col].apply(lambda x: f\"{col}_{x}\").values\n",
        "    return data_new"
      ]
    },
    {
      "cell_type": "code",
      "execution_count": null,
      "metadata": {
        "id": "EcLsasiPwCN-"
      },
      "outputs": [],
      "source": [
        "def get_lfm_dataset_obj(data_in, \n",
        "                        cat_cols_to_change,\n",
        "                        user_fe_cols,\n",
        "                        item_fe_cols,\n",
        "                        user_id_column,\n",
        "                        item_id_column,\n",
        "                        user_identity_features=True,\n",
        "                        item_identity_features=True):\n",
        "    \"\"\"Get lightfm dataset object from initial data\n",
        "    It's useful for further getting mappings \n",
        "\n",
        "    data_in - initial pandas DataFrame to use\n",
        "    cat_cols_to_change - columns to change via names_to_cats() method\n",
        "    user_fe_cols - user features columns WITHOUT the id columns\n",
        "    item_fe_cols - item features columns WITHOUT the id columns\n",
        "    user_id_column - user id column\n",
        "    item_id_column - item id column\n",
        "    user_identity_features - consider user id as a feature?\n",
        "    item_identity_features - consider item id as a feature?\n",
        "    \"\"\"\n",
        "\n",
        "    data_prep = names_to_cats(data_in, cat_cols_to_change)\n",
        "\n",
        "    user_fe_data = data_prep[user_fe_cols].values\n",
        "    item_fe_data = data_prep[item_fe_cols].values\n",
        "    user_id = data_prep[user_id_column].values.ravel()\n",
        "    item_id = data_prep[item_id_column].values.ravel()\n",
        "\n",
        "\n",
        "    dataset = data.Dataset(user_identity_features=user_identity_features,\n",
        "                           item_identity_features=item_identity_features)\n",
        "    dataset.fit(users=user_id, items=item_id,\n",
        "                user_features=user_fe_data.T.ravel(),\n",
        "                item_features=item_fe_data.T.ravel())\n",
        "    \n",
        "    return dataset\n",
        "\n",
        "\n",
        "def get_mappings(dataset):\n",
        "    \"\"\"Prepare the mappings\n",
        "\n",
        "    dataset - lightfm dataset object\n",
        "    \"\"\"\n",
        "\n",
        "    result_dict = {}\n",
        "    result_dict[\"user_id_mapping\"] = dataset.mapping()[0]\n",
        "    result_dict[\"item_id_mapping\"] = dataset.mapping()[2]\n",
        "    result_dict[\"user_fename_intid_mapping\"] = dataset._user_feature_mapping\n",
        "    result_dict[\"item_fename_intid_mapping\"] = dataset._item_feature_mapping\n",
        "    return result_dict\n",
        "\n",
        "\n",
        "def get_user_item_interactions(data_in, dataset,\n",
        "                               user_id_column,\n",
        "                               item_id_column):\n",
        "    \"\"\"Get users-items interaction matrix\n",
        "\n",
        "    data_in - train data\n",
        "    dataset - lightfm dataset object\n",
        "    user_id_column/item_id_column - user/item id columnd\n",
        "    \"\"\"\n",
        "    \n",
        "    user_id = data_in[user_id_column].values.ravel()\n",
        "    item_id = data_in[item_id_column].values.ravel()\n",
        "    interactions, _ = dataset.build_interactions(((x[0], x[1]) for x \\\n",
        "                                                    in zip(user_id, item_id)))\n",
        "    return interactions.tocsr()\n",
        "\n",
        "\n",
        "def get_interactions_ohe_id_mappings(mappings, \n",
        "                                     users_unique, \n",
        "                                     items_unique,\n",
        "                                     user_id_column,\n",
        "                                     item_id_column):\n",
        "    \"\"\"Get mappings between interactions ids \n",
        "    and ohe features ids\n",
        "\n",
        "    mappings - mappings from lfm dataset\n",
        "    users_unique - unique users features DataFrame (WITH id column)\n",
        "    items_unique - unique items features DataFrame (WITH id column)\n",
        "    user_id_column - user id column name\n",
        "    item_id_column - item id column name\n",
        "    \"\"\"\n",
        "    \n",
        "    result_dict = {}\n",
        "\n",
        "    users_iid_eid_mapping = {value: key for key, value in mappings[\"user_id_mapping\"].items()}\n",
        "    items_iid_eid_mapping = {value: key for key, value in mappings[\"item_id_mapping\"].items()}\n",
        "\n",
        "    users_eid_oheid_mapping = {value: key for key, value in users_unique[user_id_column].to_dict().items()}\n",
        "    items_eid_oheid_mapping = {value: key for key, value in items_unique[item_id_column].to_dict().items()}\n",
        "\n",
        "    result_dict[\"users_iid_oheid_mapping\"] = {key: users_eid_oheid_mapping[value] \\\n",
        "                                              for key, value in users_iid_eid_mapping.items()}\n",
        "    result_dict[\"items_iid_oheid_mapping\"] = {key: items_eid_oheid_mapping[value] \\\n",
        "                                              for key, value in items_iid_eid_mapping.items()}\n",
        "    \n",
        "    return result_dict\n",
        "\n",
        "\n",
        "def get_sparse_ohe_vectors(data_in, fename_intid_mapping):\n",
        "    \"\"\"Get sparse one-hot encoding matrix\n",
        "\n",
        "    data_in - our data with features\n",
        "    fename_intid_mapping - mapping with ids and category names\n",
        "    \"\"\"\n",
        "\n",
        "    row_ids = []\n",
        "    col_ids = []\n",
        "    for ind_r, features in enumerate(data_in.values):\n",
        "        for cat_name in features:\n",
        "            if cat_name in fename_intid_mapping:\n",
        "                row_ids.append(ind_r)\n",
        "                col_ids.append(fename_intid_mapping[cat_name])\n",
        "    values = [1] * len(col_ids)\n",
        "\n",
        "    result =  sklearn.preprocessing.\\\n",
        "                      normalize(scipy.sparse.csr.\\\n",
        "                                csr_matrix((values, (row_ids, col_ids)),\n",
        "                                            shape = (data_in.shape[0],\n",
        "                                                    len(fename_intid_mapping))),\n",
        "                                norm=\"l1\", copy=False)\n",
        "    return result"
      ]
    },
    {
      "cell_type": "markdown",
      "metadata": {
        "id": "z7EBVmgJOKqP"
      },
      "source": [
        "### Data preparation"
      ]
    },
    {
      "cell_type": "code",
      "execution_count": null,
      "metadata": {
        "id": "Bj3IusjkslCf"
      },
      "outputs": [],
      "source": [
        "user_fe_cols = [\"city\", \"gender\", \"bd\"]\n",
        "item_fe_cols = [\"genre_ids\", \"artist_name\", \"composer\", \"language\"]\n",
        "user_id_column = \"msno\"\n",
        "item_id_column = \"song_id\"\n",
        "\n",
        "#Other lists of features\n",
        "cat_cols_to_change = [\"genre_ids\", \"language\", \"city\"] #columns to add name to value\n",
        "numeric_cols = [\"bd\"] #this columns will be categorized\n",
        "\n",
        "#Columns in the result dataframe with targets and scores\n",
        "result_cols = [user_id_column, item_id_column, \"target\"]"
      ]
    },
    {
      "cell_type": "code",
      "execution_count": null,
      "metadata": {
        "colab": {
          "base_uri": "https://localhost:8080/"
        },
        "id": "6a2dwjY_LeOe",
        "outputId": "418f75a3-28b3-4a51-e0b1-56d297b7fb83"
      },
      "outputs": [
        {
          "output_type": "execute_result",
          "data": {
            "text/plain": [
              "ColumnCategorizer(new_columns=['bd'], old_columns=['bd'],\n",
              "                  qs=array([0. , 0.1, 0.2, 0.3, 0.4, 0.5, 0.6, 0.7, 0.8, 0.9, 1. ]))"
            ]
          },
          "metadata": {},
          "execution_count": 10
        }
      ],
      "source": [
        "#####\n",
        "#quantile list for categorization\n",
        "QS = np.linspace(0, 1, 11, endpoint=True)\n",
        "#####\n",
        "\n",
        "categorizer = ColumnCategorizer(qs=QS, \n",
        "                                new_columns=numeric_cols, \n",
        "                                old_columns=numeric_cols)\n",
        "categorizer.fit(data_train_all)"
      ]
    },
    {
      "cell_type": "markdown",
      "metadata": {
        "id": "myQ9PqcCraM6"
      },
      "source": [
        "Numeric features preparation (categorization)"
      ]
    },
    {
      "cell_type": "code",
      "execution_count": null,
      "metadata": {
        "colab": {
          "base_uri": "https://localhost:8080/",
          "height": 374
        },
        "id": "nL3Qi8RZAw8q",
        "outputId": "a2779970-ab2b-4071-fee1-21256558b1e2"
      },
      "outputs": [
        {
          "output_type": "execute_result",
          "data": {
            "text/plain": [
              "                                           msno  \\\n",
              "0  xvCGZ5McgEJlkYx2HNO1/CkD1CYjlA/gQL36iX8TYBY=   \n",
              "1  jOlB9i8NKGG2oudUKq9ObRyt3sXQnWWwcei1+s8sNIA=   \n",
              "2  fe+6batTKL/NxXhhzfDO3yBUmFmQUQAgRpYmF2T0t4E=   \n",
              "3  GVcP7SPQ/IgiEt2uxaXaRH5lFA5tBe8T74/Etk7cnG8=   \n",
              "4  XIfoYUt6vkAqVDRKJRVEHkV0jsaD+fif2EqxsobpEqg=   \n",
              "\n",
              "                                        song_id source_system_tab  \\\n",
              "0  868uXMrBS8WwQulNX0W+vk6sJA6Hs35YNtFYceXgX/I=             radio   \n",
              "1  a4TbK5V15pj3YZUOGa9h2U3t0OsE+3aiFw41mNlcgcw=        my library   \n",
              "2  5RLsVkl6PTt3pIyWvojM0z2LblVysXHxoc7Mc4LIFL8=        my library   \n",
              "3  7Xxzo9Z584Z1AhkaLLWEcpzcEuxcquGE52Ztc4879YI=          discover   \n",
              "4  rA+H/y66yC2qK0v926aWRFWngwJmL+IhGhJN4fBS0XM=             radio   \n",
              "\n",
              "     source_screen_name      source_type  target  song_length genre_ids  \\\n",
              "0                 Radio            radio       0     255373.0       465   \n",
              "1   Local playlist more    local-library       1     248790.0       465   \n",
              "2   Local playlist more    local-library       1     178887.0       921   \n",
              "3  Online playlist more  online-playlist       1     275136.0       465   \n",
              "4                 Radio            radio       0     243983.0       465   \n",
              "\n",
              "           artist_name composer lyricist  language  \\\n",
              "0                  張震嶽      NaN      NaN       3.0   \n",
              "1        吳汶芳 (Fang Wu)      吳汶芳      吳汶芳       3.0   \n",
              "2          Noel Coward      NaN      NaN      52.0   \n",
              "3           田馥甄 (Hebe)      楊子樸      施人誠       3.0   \n",
              "4  范瑋琪 (Christine Fan)      陳小霞      姚若龍       3.0   \n",
              "\n",
              "                             name          isrc  city                bd  \\\n",
              "0                              勇氣  TWA450479802     1  bd_bin_-43.0_0.0   \n",
              "1  孤獨的總和 (Accumulated Loneliness)  TWA211328806    13  bd_bin_30.0_36.0   \n",
              "2           Poor Little Rich Girl  USV291338277     5  bd_bin_30.0_36.0   \n",
              "3                          寂寞寂寞就好  TWD951043107     1  bd_bin_-43.0_0.0   \n",
              "4                          最重要的決定  TWA211125202     5  bd_bin_21.0_24.0   \n",
              "\n",
              "   gender  registered_via registration_init_time expiration_date  \n",
              "0     NaN               7             2013-05-14      2017-09-24  \n",
              "1  female               9             2011-04-19      2017-06-20  \n",
              "2  female               9             2008-08-05      2017-10-06  \n",
              "3     NaN               7             2011-02-25      2017-09-12  \n",
              "4  female               7             2013-07-29      2017-09-30  "
            ],
            "text/html": [
              "\n",
              "  <div id=\"df-51bc39a7-ac97-42f3-9a00-3b29a9b962ff\">\n",
              "    <div class=\"colab-df-container\">\n",
              "      <div>\n",
              "<style scoped>\n",
              "    .dataframe tbody tr th:only-of-type {\n",
              "        vertical-align: middle;\n",
              "    }\n",
              "\n",
              "    .dataframe tbody tr th {\n",
              "        vertical-align: top;\n",
              "    }\n",
              "\n",
              "    .dataframe thead th {\n",
              "        text-align: right;\n",
              "    }\n",
              "</style>\n",
              "<table border=\"1\" class=\"dataframe\">\n",
              "  <thead>\n",
              "    <tr style=\"text-align: right;\">\n",
              "      <th></th>\n",
              "      <th>msno</th>\n",
              "      <th>song_id</th>\n",
              "      <th>source_system_tab</th>\n",
              "      <th>source_screen_name</th>\n",
              "      <th>source_type</th>\n",
              "      <th>target</th>\n",
              "      <th>song_length</th>\n",
              "      <th>genre_ids</th>\n",
              "      <th>artist_name</th>\n",
              "      <th>composer</th>\n",
              "      <th>lyricist</th>\n",
              "      <th>language</th>\n",
              "      <th>name</th>\n",
              "      <th>isrc</th>\n",
              "      <th>city</th>\n",
              "      <th>bd</th>\n",
              "      <th>gender</th>\n",
              "      <th>registered_via</th>\n",
              "      <th>registration_init_time</th>\n",
              "      <th>expiration_date</th>\n",
              "    </tr>\n",
              "  </thead>\n",
              "  <tbody>\n",
              "    <tr>\n",
              "      <th>0</th>\n",
              "      <td>xvCGZ5McgEJlkYx2HNO1/CkD1CYjlA/gQL36iX8TYBY=</td>\n",
              "      <td>868uXMrBS8WwQulNX0W+vk6sJA6Hs35YNtFYceXgX/I=</td>\n",
              "      <td>radio</td>\n",
              "      <td>Radio</td>\n",
              "      <td>radio</td>\n",
              "      <td>0</td>\n",
              "      <td>255373.0</td>\n",
              "      <td>465</td>\n",
              "      <td>張震嶽</td>\n",
              "      <td>NaN</td>\n",
              "      <td>NaN</td>\n",
              "      <td>3.0</td>\n",
              "      <td>勇氣</td>\n",
              "      <td>TWA450479802</td>\n",
              "      <td>1</td>\n",
              "      <td>bd_bin_-43.0_0.0</td>\n",
              "      <td>NaN</td>\n",
              "      <td>7</td>\n",
              "      <td>2013-05-14</td>\n",
              "      <td>2017-09-24</td>\n",
              "    </tr>\n",
              "    <tr>\n",
              "      <th>1</th>\n",
              "      <td>jOlB9i8NKGG2oudUKq9ObRyt3sXQnWWwcei1+s8sNIA=</td>\n",
              "      <td>a4TbK5V15pj3YZUOGa9h2U3t0OsE+3aiFw41mNlcgcw=</td>\n",
              "      <td>my library</td>\n",
              "      <td>Local playlist more</td>\n",
              "      <td>local-library</td>\n",
              "      <td>1</td>\n",
              "      <td>248790.0</td>\n",
              "      <td>465</td>\n",
              "      <td>吳汶芳 (Fang Wu)</td>\n",
              "      <td>吳汶芳</td>\n",
              "      <td>吳汶芳</td>\n",
              "      <td>3.0</td>\n",
              "      <td>孤獨的總和 (Accumulated Loneliness)</td>\n",
              "      <td>TWA211328806</td>\n",
              "      <td>13</td>\n",
              "      <td>bd_bin_30.0_36.0</td>\n",
              "      <td>female</td>\n",
              "      <td>9</td>\n",
              "      <td>2011-04-19</td>\n",
              "      <td>2017-06-20</td>\n",
              "    </tr>\n",
              "    <tr>\n",
              "      <th>2</th>\n",
              "      <td>fe+6batTKL/NxXhhzfDO3yBUmFmQUQAgRpYmF2T0t4E=</td>\n",
              "      <td>5RLsVkl6PTt3pIyWvojM0z2LblVysXHxoc7Mc4LIFL8=</td>\n",
              "      <td>my library</td>\n",
              "      <td>Local playlist more</td>\n",
              "      <td>local-library</td>\n",
              "      <td>1</td>\n",
              "      <td>178887.0</td>\n",
              "      <td>921</td>\n",
              "      <td>Noel Coward</td>\n",
              "      <td>NaN</td>\n",
              "      <td>NaN</td>\n",
              "      <td>52.0</td>\n",
              "      <td>Poor Little Rich Girl</td>\n",
              "      <td>USV291338277</td>\n",
              "      <td>5</td>\n",
              "      <td>bd_bin_30.0_36.0</td>\n",
              "      <td>female</td>\n",
              "      <td>9</td>\n",
              "      <td>2008-08-05</td>\n",
              "      <td>2017-10-06</td>\n",
              "    </tr>\n",
              "    <tr>\n",
              "      <th>3</th>\n",
              "      <td>GVcP7SPQ/IgiEt2uxaXaRH5lFA5tBe8T74/Etk7cnG8=</td>\n",
              "      <td>7Xxzo9Z584Z1AhkaLLWEcpzcEuxcquGE52Ztc4879YI=</td>\n",
              "      <td>discover</td>\n",
              "      <td>Online playlist more</td>\n",
              "      <td>online-playlist</td>\n",
              "      <td>1</td>\n",
              "      <td>275136.0</td>\n",
              "      <td>465</td>\n",
              "      <td>田馥甄 (Hebe)</td>\n",
              "      <td>楊子樸</td>\n",
              "      <td>施人誠</td>\n",
              "      <td>3.0</td>\n",
              "      <td>寂寞寂寞就好</td>\n",
              "      <td>TWD951043107</td>\n",
              "      <td>1</td>\n",
              "      <td>bd_bin_-43.0_0.0</td>\n",
              "      <td>NaN</td>\n",
              "      <td>7</td>\n",
              "      <td>2011-02-25</td>\n",
              "      <td>2017-09-12</td>\n",
              "    </tr>\n",
              "    <tr>\n",
              "      <th>4</th>\n",
              "      <td>XIfoYUt6vkAqVDRKJRVEHkV0jsaD+fif2EqxsobpEqg=</td>\n",
              "      <td>rA+H/y66yC2qK0v926aWRFWngwJmL+IhGhJN4fBS0XM=</td>\n",
              "      <td>radio</td>\n",
              "      <td>Radio</td>\n",
              "      <td>radio</td>\n",
              "      <td>0</td>\n",
              "      <td>243983.0</td>\n",
              "      <td>465</td>\n",
              "      <td>范瑋琪 (Christine Fan)</td>\n",
              "      <td>陳小霞</td>\n",
              "      <td>姚若龍</td>\n",
              "      <td>3.0</td>\n",
              "      <td>最重要的決定</td>\n",
              "      <td>TWA211125202</td>\n",
              "      <td>5</td>\n",
              "      <td>bd_bin_21.0_24.0</td>\n",
              "      <td>female</td>\n",
              "      <td>7</td>\n",
              "      <td>2013-07-29</td>\n",
              "      <td>2017-09-30</td>\n",
              "    </tr>\n",
              "  </tbody>\n",
              "</table>\n",
              "</div>\n",
              "      <button class=\"colab-df-convert\" onclick=\"convertToInteractive('df-51bc39a7-ac97-42f3-9a00-3b29a9b962ff')\"\n",
              "              title=\"Convert this dataframe to an interactive table.\"\n",
              "              style=\"display:none;\">\n",
              "        \n",
              "  <svg xmlns=\"http://www.w3.org/2000/svg\" height=\"24px\"viewBox=\"0 0 24 24\"\n",
              "       width=\"24px\">\n",
              "    <path d=\"M0 0h24v24H0V0z\" fill=\"none\"/>\n",
              "    <path d=\"M18.56 5.44l.94 2.06.94-2.06 2.06-.94-2.06-.94-.94-2.06-.94 2.06-2.06.94zm-11 1L8.5 8.5l.94-2.06 2.06-.94-2.06-.94L8.5 2.5l-.94 2.06-2.06.94zm10 10l.94 2.06.94-2.06 2.06-.94-2.06-.94-.94-2.06-.94 2.06-2.06.94z\"/><path d=\"M17.41 7.96l-1.37-1.37c-.4-.4-.92-.59-1.43-.59-.52 0-1.04.2-1.43.59L10.3 9.45l-7.72 7.72c-.78.78-.78 2.05 0 2.83L4 21.41c.39.39.9.59 1.41.59.51 0 1.02-.2 1.41-.59l7.78-7.78 2.81-2.81c.8-.78.8-2.07 0-2.86zM5.41 20L4 18.59l7.72-7.72 1.47 1.35L5.41 20z\"/>\n",
              "  </svg>\n",
              "      </button>\n",
              "      \n",
              "  <style>\n",
              "    .colab-df-container {\n",
              "      display:flex;\n",
              "      flex-wrap:wrap;\n",
              "      gap: 12px;\n",
              "    }\n",
              "\n",
              "    .colab-df-convert {\n",
              "      background-color: #E8F0FE;\n",
              "      border: none;\n",
              "      border-radius: 50%;\n",
              "      cursor: pointer;\n",
              "      display: none;\n",
              "      fill: #1967D2;\n",
              "      height: 32px;\n",
              "      padding: 0 0 0 0;\n",
              "      width: 32px;\n",
              "    }\n",
              "\n",
              "    .colab-df-convert:hover {\n",
              "      background-color: #E2EBFA;\n",
              "      box-shadow: 0px 1px 2px rgba(60, 64, 67, 0.3), 0px 1px 3px 1px rgba(60, 64, 67, 0.15);\n",
              "      fill: #174EA6;\n",
              "    }\n",
              "\n",
              "    [theme=dark] .colab-df-convert {\n",
              "      background-color: #3B4455;\n",
              "      fill: #D2E3FC;\n",
              "    }\n",
              "\n",
              "    [theme=dark] .colab-df-convert:hover {\n",
              "      background-color: #434B5C;\n",
              "      box-shadow: 0px 1px 3px 1px rgba(0, 0, 0, 0.15);\n",
              "      filter: drop-shadow(0px 1px 2px rgba(0, 0, 0, 0.3));\n",
              "      fill: #FFFFFF;\n",
              "    }\n",
              "  </style>\n",
              "\n",
              "      <script>\n",
              "        const buttonEl =\n",
              "          document.querySelector('#df-51bc39a7-ac97-42f3-9a00-3b29a9b962ff button.colab-df-convert');\n",
              "        buttonEl.style.display =\n",
              "          google.colab.kernel.accessAllowed ? 'block' : 'none';\n",
              "\n",
              "        async function convertToInteractive(key) {\n",
              "          const element = document.querySelector('#df-51bc39a7-ac97-42f3-9a00-3b29a9b962ff');\n",
              "          const dataTable =\n",
              "            await google.colab.kernel.invokeFunction('convertToInteractive',\n",
              "                                                     [key], {});\n",
              "          if (!dataTable) return;\n",
              "\n",
              "          const docLinkHtml = 'Like what you see? Visit the ' +\n",
              "            '<a target=\"_blank\" href=https://colab.research.google.com/notebooks/data_table.ipynb>data table notebook</a>'\n",
              "            + ' to learn more about interactive tables.';\n",
              "          element.innerHTML = '';\n",
              "          dataTable['output_type'] = 'display_data';\n",
              "          await google.colab.output.renderOutput(dataTable, element);\n",
              "          const docLink = document.createElement('div');\n",
              "          docLink.innerHTML = docLinkHtml;\n",
              "          element.appendChild(docLink);\n",
              "        }\n",
              "      </script>\n",
              "    </div>\n",
              "  </div>\n",
              "  "
            ]
          },
          "metadata": {},
          "execution_count": 11
        }
      ],
      "source": [
        "data_train_fin = categorizer.transform(data_train_all)\n",
        "data_test_fin = categorizer.transform(data_test)\n",
        "data_val_fin = categorizer.transform(data_val)\n",
        "cold_users_data_fin = categorizer.transform(cold_users_data)\n",
        "cold_items_data_fin = categorizer.transform(cold_items_data)\n",
        "data_train_fin.head()"
      ]
    },
    {
      "cell_type": "markdown",
      "metadata": {
        "id": "0vq7PRoErlKj"
      },
      "source": [
        "Get the interactions matrix and prepare train categorical columns"
      ]
    },
    {
      "cell_type": "code",
      "execution_count": null,
      "metadata": {
        "id": "nXfEzZmS2YyL"
      },
      "outputs": [],
      "source": [
        "lfm_dataset = get_lfm_dataset_obj(data_train_fin[data_train_fin.target==1], \n",
        "                                  cat_cols_to_change,\n",
        "                                  user_fe_cols,\n",
        "                                  item_fe_cols,\n",
        "                                  user_id_column,\n",
        "                                  item_id_column,\n",
        "                                  user_identity_features=True,\n",
        "                                  item_identity_features=False)"
      ]
    },
    {
      "cell_type": "code",
      "execution_count": null,
      "metadata": {
        "colab": {
          "base_uri": "https://localhost:8080/"
        },
        "id": "eqWEkUPt-Qjg",
        "outputId": "76dca915-15bd-4f13-8a46-1c5c32436a5b"
      },
      "outputs": [
        {
          "output_type": "execute_result",
          "data": {
            "text/plain": [
              "<24035x180541 sparse matrix of type '<class 'numpy.int32'>'\n",
              "\twith 2539875 stored elements in Compressed Sparse Row format>"
            ]
          },
          "metadata": {},
          "execution_count": 13
        }
      ],
      "source": [
        "interactions = get_user_item_interactions(data_train_fin[data_train_fin.target==1], lfm_dataset,\n",
        "                                          user_id_column,\n",
        "                                          item_id_column)\n",
        "interactions"
      ]
    },
    {
      "cell_type": "code",
      "execution_count": null,
      "metadata": {
        "colab": {
          "base_uri": "https://localhost:8080/"
        },
        "id": "ERSlNs-P21OF",
        "outputId": "479073b9-a35d-4533-e30f-1908720125f9"
      },
      "outputs": [
        {
          "output_type": "execute_result",
          "data": {
            "text/plain": [
              "(24067, 64079)"
            ]
          },
          "metadata": {},
          "execution_count": 14
        }
      ],
      "source": [
        "mappings = get_mappings(lfm_dataset)\n",
        "len(mappings[\"user_fename_intid_mapping\"]), len(mappings[\"item_fename_intid_mapping\"])"
      ]
    },
    {
      "cell_type": "markdown",
      "source": [
        "Get unique users and items entries"
      ],
      "metadata": {
        "id": "twlyCUhhJN6x"
      }
    },
    {
      "cell_type": "code",
      "execution_count": null,
      "metadata": {
        "colab": {
          "base_uri": "https://localhost:8080/",
          "height": 206
        },
        "id": "eJC0-wRHtEtJ",
        "outputId": "f0b46057-1e4c-4242-b321-d27ebdfa4c0e"
      },
      "outputs": [
        {
          "output_type": "execute_result",
          "data": {
            "text/plain": [
              "      city  gender                bd  \\\n",
              "0  city_13  female  bd_bin_30.0_36.0   \n",
              "1   city_5  female  bd_bin_30.0_36.0   \n",
              "2   city_1     NaN  bd_bin_-43.0_0.0   \n",
              "3   city_1     NaN  bd_bin_-43.0_0.0   \n",
              "4   city_1     NaN  bd_bin_-43.0_0.0   \n",
              "\n",
              "                                           msno  \n",
              "0  jOlB9i8NKGG2oudUKq9ObRyt3sXQnWWwcei1+s8sNIA=  \n",
              "1  fe+6batTKL/NxXhhzfDO3yBUmFmQUQAgRpYmF2T0t4E=  \n",
              "2  GVcP7SPQ/IgiEt2uxaXaRH5lFA5tBe8T74/Etk7cnG8=  \n",
              "3  73q3/E5FIUwCSo9uPyhKcc1FNO9DqnaZqX7uDK5Rr7E=  \n",
              "4  M6fFPRO/pOaaWoergvHHsFzEUbW4YU6DKxqBDyYSbYU=  "
            ],
            "text/html": [
              "\n",
              "  <div id=\"df-698f95b0-f2d3-4eb3-aec9-5171124308e3\">\n",
              "    <div class=\"colab-df-container\">\n",
              "      <div>\n",
              "<style scoped>\n",
              "    .dataframe tbody tr th:only-of-type {\n",
              "        vertical-align: middle;\n",
              "    }\n",
              "\n",
              "    .dataframe tbody tr th {\n",
              "        vertical-align: top;\n",
              "    }\n",
              "\n",
              "    .dataframe thead th {\n",
              "        text-align: right;\n",
              "    }\n",
              "</style>\n",
              "<table border=\"1\" class=\"dataframe\">\n",
              "  <thead>\n",
              "    <tr style=\"text-align: right;\">\n",
              "      <th></th>\n",
              "      <th>city</th>\n",
              "      <th>gender</th>\n",
              "      <th>bd</th>\n",
              "      <th>msno</th>\n",
              "    </tr>\n",
              "  </thead>\n",
              "  <tbody>\n",
              "    <tr>\n",
              "      <th>0</th>\n",
              "      <td>city_13</td>\n",
              "      <td>female</td>\n",
              "      <td>bd_bin_30.0_36.0</td>\n",
              "      <td>jOlB9i8NKGG2oudUKq9ObRyt3sXQnWWwcei1+s8sNIA=</td>\n",
              "    </tr>\n",
              "    <tr>\n",
              "      <th>1</th>\n",
              "      <td>city_5</td>\n",
              "      <td>female</td>\n",
              "      <td>bd_bin_30.0_36.0</td>\n",
              "      <td>fe+6batTKL/NxXhhzfDO3yBUmFmQUQAgRpYmF2T0t4E=</td>\n",
              "    </tr>\n",
              "    <tr>\n",
              "      <th>2</th>\n",
              "      <td>city_1</td>\n",
              "      <td>NaN</td>\n",
              "      <td>bd_bin_-43.0_0.0</td>\n",
              "      <td>GVcP7SPQ/IgiEt2uxaXaRH5lFA5tBe8T74/Etk7cnG8=</td>\n",
              "    </tr>\n",
              "    <tr>\n",
              "      <th>3</th>\n",
              "      <td>city_1</td>\n",
              "      <td>NaN</td>\n",
              "      <td>bd_bin_-43.0_0.0</td>\n",
              "      <td>73q3/E5FIUwCSo9uPyhKcc1FNO9DqnaZqX7uDK5Rr7E=</td>\n",
              "    </tr>\n",
              "    <tr>\n",
              "      <th>4</th>\n",
              "      <td>city_1</td>\n",
              "      <td>NaN</td>\n",
              "      <td>bd_bin_-43.0_0.0</td>\n",
              "      <td>M6fFPRO/pOaaWoergvHHsFzEUbW4YU6DKxqBDyYSbYU=</td>\n",
              "    </tr>\n",
              "  </tbody>\n",
              "</table>\n",
              "</div>\n",
              "      <button class=\"colab-df-convert\" onclick=\"convertToInteractive('df-698f95b0-f2d3-4eb3-aec9-5171124308e3')\"\n",
              "              title=\"Convert this dataframe to an interactive table.\"\n",
              "              style=\"display:none;\">\n",
              "        \n",
              "  <svg xmlns=\"http://www.w3.org/2000/svg\" height=\"24px\"viewBox=\"0 0 24 24\"\n",
              "       width=\"24px\">\n",
              "    <path d=\"M0 0h24v24H0V0z\" fill=\"none\"/>\n",
              "    <path d=\"M18.56 5.44l.94 2.06.94-2.06 2.06-.94-2.06-.94-.94-2.06-.94 2.06-2.06.94zm-11 1L8.5 8.5l.94-2.06 2.06-.94-2.06-.94L8.5 2.5l-.94 2.06-2.06.94zm10 10l.94 2.06.94-2.06 2.06-.94-2.06-.94-.94-2.06-.94 2.06-2.06.94z\"/><path d=\"M17.41 7.96l-1.37-1.37c-.4-.4-.92-.59-1.43-.59-.52 0-1.04.2-1.43.59L10.3 9.45l-7.72 7.72c-.78.78-.78 2.05 0 2.83L4 21.41c.39.39.9.59 1.41.59.51 0 1.02-.2 1.41-.59l7.78-7.78 2.81-2.81c.8-.78.8-2.07 0-2.86zM5.41 20L4 18.59l7.72-7.72 1.47 1.35L5.41 20z\"/>\n",
              "  </svg>\n",
              "      </button>\n",
              "      \n",
              "  <style>\n",
              "    .colab-df-container {\n",
              "      display:flex;\n",
              "      flex-wrap:wrap;\n",
              "      gap: 12px;\n",
              "    }\n",
              "\n",
              "    .colab-df-convert {\n",
              "      background-color: #E8F0FE;\n",
              "      border: none;\n",
              "      border-radius: 50%;\n",
              "      cursor: pointer;\n",
              "      display: none;\n",
              "      fill: #1967D2;\n",
              "      height: 32px;\n",
              "      padding: 0 0 0 0;\n",
              "      width: 32px;\n",
              "    }\n",
              "\n",
              "    .colab-df-convert:hover {\n",
              "      background-color: #E2EBFA;\n",
              "      box-shadow: 0px 1px 2px rgba(60, 64, 67, 0.3), 0px 1px 3px 1px rgba(60, 64, 67, 0.15);\n",
              "      fill: #174EA6;\n",
              "    }\n",
              "\n",
              "    [theme=dark] .colab-df-convert {\n",
              "      background-color: #3B4455;\n",
              "      fill: #D2E3FC;\n",
              "    }\n",
              "\n",
              "    [theme=dark] .colab-df-convert:hover {\n",
              "      background-color: #434B5C;\n",
              "      box-shadow: 0px 1px 3px 1px rgba(0, 0, 0, 0.15);\n",
              "      filter: drop-shadow(0px 1px 2px rgba(0, 0, 0, 0.3));\n",
              "      fill: #FFFFFF;\n",
              "    }\n",
              "  </style>\n",
              "\n",
              "      <script>\n",
              "        const buttonEl =\n",
              "          document.querySelector('#df-698f95b0-f2d3-4eb3-aec9-5171124308e3 button.colab-df-convert');\n",
              "        buttonEl.style.display =\n",
              "          google.colab.kernel.accessAllowed ? 'block' : 'none';\n",
              "\n",
              "        async function convertToInteractive(key) {\n",
              "          const element = document.querySelector('#df-698f95b0-f2d3-4eb3-aec9-5171124308e3');\n",
              "          const dataTable =\n",
              "            await google.colab.kernel.invokeFunction('convertToInteractive',\n",
              "                                                     [key], {});\n",
              "          if (!dataTable) return;\n",
              "\n",
              "          const docLinkHtml = 'Like what you see? Visit the ' +\n",
              "            '<a target=\"_blank\" href=https://colab.research.google.com/notebooks/data_table.ipynb>data table notebook</a>'\n",
              "            + ' to learn more about interactive tables.';\n",
              "          element.innerHTML = '';\n",
              "          dataTable['output_type'] = 'display_data';\n",
              "          await google.colab.output.renderOutput(dataTable, element);\n",
              "          const docLink = document.createElement('div');\n",
              "          docLink.innerHTML = docLinkHtml;\n",
              "          element.appendChild(docLink);\n",
              "        }\n",
              "      </script>\n",
              "    </div>\n",
              "  </div>\n",
              "  "
            ]
          },
          "metadata": {},
          "execution_count": 15
        }
      ],
      "source": [
        "data_train_prep = names_to_cats(data_train_fin[data_train_fin.target==1], cols=cat_cols_to_change)\n",
        "users_unique = data_train_prep[user_fe_cols + [user_id_column]].drop_duplicates().reset_index(drop=True)\n",
        "items_unique = data_train_prep[item_fe_cols + [item_id_column]].drop_duplicates().reset_index(drop=True)\n",
        "users_unique.head()"
      ]
    },
    {
      "cell_type": "markdown",
      "source": [
        "Get the mapping for the batch generation"
      ],
      "metadata": {
        "id": "ImWrEqo7Bm-s"
      }
    },
    {
      "cell_type": "code",
      "execution_count": null,
      "metadata": {
        "colab": {
          "base_uri": "https://localhost:8080/"
        },
        "id": "_9lnwLYS81ot",
        "outputId": "52feaa48-d076-4a08-e400-7b6d8fcd149c"
      },
      "outputs": [
        {
          "output_type": "execute_result",
          "data": {
            "text/plain": [
              "(24035, 180541)"
            ]
          },
          "metadata": {},
          "execution_count": 16
        }
      ],
      "source": [
        "interactions_ohe_id_mappings = get_interactions_ohe_id_mappings(mappings, \n",
        "                                                                users_unique, \n",
        "                                                                items_unique,\n",
        "                                                                user_id_column,\n",
        "                                                                item_id_column)\n",
        "users_iid_oheid_mapping = interactions_ohe_id_mappings['users_iid_oheid_mapping']\n",
        "items_iid_oheid_mapping = interactions_ohe_id_mappings['items_iid_oheid_mapping']\n",
        "len(users_iid_oheid_mapping), len(items_iid_oheid_mapping)"
      ]
    },
    {
      "cell_type": "code",
      "execution_count": null,
      "metadata": {
        "colab": {
          "base_uri": "https://localhost:8080/"
        },
        "id": "oYW6nH4851-9",
        "outputId": "acbd2a04-794e-411f-fe27-93538267e268"
      },
      "outputs": [
        {
          "output_type": "execute_result",
          "data": {
            "text/plain": [
              "125"
            ]
          },
          "metadata": {},
          "execution_count": 17
        }
      ],
      "source": [
        "del data_train_all, data_train_prep, data_train_fin\n",
        "gc.collect()"
      ]
    },
    {
      "cell_type": "markdown",
      "metadata": {
        "id": "8FhbwUHRuvBh"
      },
      "source": [
        "Final users and items features"
      ]
    },
    {
      "cell_type": "code",
      "execution_count": null,
      "metadata": {
        "colab": {
          "base_uri": "https://localhost:8080/"
        },
        "id": "Brg9oDYq3Mwv",
        "outputId": "6a4db9a9-722d-4cc2-9b39-216a1f579652"
      },
      "outputs": [
        {
          "output_type": "execute_result",
          "data": {
            "text/plain": [
              "((24035, 24067), (180541, 64079))"
            ]
          },
          "metadata": {},
          "execution_count": 18
        }
      ],
      "source": [
        "data_users_ohe = get_sparse_ohe_vectors(users_unique,\n",
        "                                        mappings[\"user_fename_intid_mapping\"])\n",
        "data_items_ohe = get_sparse_ohe_vectors(items_unique,\n",
        "                                        mappings[\"item_fename_intid_mapping\"])\n",
        "data_users_ohe.shape, data_items_ohe.shape"
      ]
    },
    {
      "cell_type": "markdown",
      "metadata": {
        "id": "ncgiz91yOix3"
      },
      "source": [
        "### Training"
      ]
    },
    {
      "cell_type": "markdown",
      "metadata": {
        "id": "hDx6gnj8OlS1"
      },
      "source": [
        "First of all, choose embeddings size"
      ]
    },
    {
      "cell_type": "code",
      "execution_count": null,
      "metadata": {
        "id": "CEHSyLcRNgrI"
      },
      "outputs": [],
      "source": [
        "####\n",
        "EMBEDDINGS_DIM = 150\n",
        "####"
      ]
    },
    {
      "cell_type": "markdown",
      "metadata": {
        "id": "ybKItOEYO_Io"
      },
      "source": [
        "### Now let's describe the training and inference processes"
      ]
    },
    {
      "cell_type": "markdown",
      "metadata": {
        "id": "zPev__LIgAIF"
      },
      "source": [
        "![training graph.jpg](data:image/jpeg;base64,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)"
      ]
    },
    {
      "cell_type": "markdown",
      "metadata": {
        "id": "51VW8jzVgsjf"
      },
      "source": [
        "![image.png](data:image/png;base64,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)"
      ]
    },
    {
      "cell_type": "markdown",
      "metadata": {
        "id": "Dw-da00vjzny"
      },
      "source": [
        "![inference graph.jpg](data:image/jpeg;base64,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)"
      ]
    },
    {
      "cell_type": "markdown",
      "metadata": {
        "id": "C3BbVnvRkAdH"
      },
      "source": [
        "### ... and initialize the methods for those processes"
      ]
    },
    {
      "cell_type": "code",
      "execution_count": null,
      "metadata": {
        "id": "V1NbeYen3ur_"
      },
      "outputs": [],
      "source": [
        "def triplet_loss(y_true, y_pred, n=EMBEDDINGS_DIM, alpha=0.5):\n",
        "    \"\"\"Basic triplet loss implementation, \n",
        "    input params and their order should fit the keras loss interface\n",
        "\n",
        "    y_true- keras interface param, only a patch for correct work\n",
        "    y_pred - keras interface param, concatenated vector\n",
        "    n - embedding dim size\n",
        "    alpha - training parameter\n",
        "    \"\"\"\n",
        "\n",
        "    input_vec = y_pred\n",
        "    anchor = input_vec[:, 0 : n]\n",
        "    positive = input_vec[:, n : 2*n]\n",
        "    negative = input_vec[:, 2*n : 3*n]\n",
        "\n",
        "    p_dist = K.sum(K.square(anchor - positive), axis=1)\n",
        "    n_dist = K.sum(K.square(anchor - negative), axis=1)\n",
        "\n",
        "    loss = K.maximum(p_dist - n_dist + alpha, 0.0)\n",
        " \n",
        "    return loss"
      ]
    },
    {
      "cell_type": "code",
      "execution_count": null,
      "metadata": {
        "id": "QtunvRQDVX7M"
      },
      "outputs": [],
      "source": [
        "def batch_generator_v1(items, users, \n",
        "                      interactions, \n",
        "                      users_iid_oheid_mapping,\n",
        "                      items_iid_oheid_mapping,\n",
        "                      batch_size=512):\n",
        "    \"\"\"Batch generator method\n",
        "    The function randomly chooses the user id, positive and negative items ids\n",
        "    \"batch_size\" times\n",
        "\n",
        "    items - items features\n",
        "    users - users features\n",
        "    interactions - users-items sparse interactions matrix\n",
        "    users_iid_oheid_mapping/items_iid_oheid_mapping - interaction matrix ids \n",
        "          -> features ids mappings \n",
        "    batch_size - the numbers of triplets in a batch\n",
        "    \"\"\"\n",
        "\n",
        "\n",
        "    while True:\n",
        "        uid_features = []\n",
        "        pos = []\n",
        "        neg = []\n",
        "        uid_sample = random.sample(list(range(0, interactions.shape[0] - 1)), batch_size)\n",
        "        user_sample_interactions = interactions[uid_sample].toarray()\n",
        "        prob_dists = user_sample_interactions / np.sum(user_sample_interactions, axis=1, keepdims=True)\n",
        "        pos_i_sample = []\n",
        "        for i in range(batch_size):\n",
        "            pos_i_sample.append(np.random.choice(range(interactions.shape[1]), p=prob_dists[i]))         \n",
        "        neg_i_sample = random.choices(range(interactions.shape[1]), k=batch_size)\n",
        "\n",
        "        user_oheid_sample = []\n",
        "        pos_i_oheid_sample = []\n",
        "        neg_i_oheid_sample = []\n",
        "        for i in range(batch_size):\n",
        "            user_oheid_sample.append(users_iid_oheid_mapping[uid_sample[i]])\n",
        "            pos_i_oheid_sample.append(items_iid_oheid_mapping[pos_i_sample[i]])\n",
        "            neg_i_oheid_sample.append(items_iid_oheid_mapping[neg_i_sample[i]])\n",
        "        \n",
        "        #users features\n",
        "        uid_features.extend(users[user_oheid_sample].toarray())\n",
        "        #items features\n",
        "        pos.extend(items[pos_i_oheid_sample].toarray())\n",
        "        neg.extend(items[neg_i_oheid_sample].toarray())\n",
        "        \n",
        "        gc.collect()\n",
        "            \n",
        "        yield [np.array(uid_features), np.array(pos), np.array(neg)], [np.zeros((batch_size, 1))]"
      ]
    },
    {
      "cell_type": "markdown",
      "metadata": {
        "id": "A0naOFX7Sy0C"
      },
      "source": [
        "### Check out how the generator works"
      ]
    },
    {
      "cell_type": "code",
      "execution_count": null,
      "metadata": {
        "colab": {
          "base_uri": "https://localhost:8080/"
        },
        "id": "qhpRlNZoVFIS",
        "outputId": "cc45016f-0dfb-4690-e670-3a721dcd8f77"
      },
      "outputs": [
        {
          "output_type": "stream",
          "name": "stdout",
          "text": [
            "Users batch shape: (512, 24067)\n",
            "Positive items batch shape: (512, 64079)\n",
            "Negative items batch shape: (512, 64079)\n",
            "\n",
            "Patch to fit the keras interface: (512, 1)\n"
          ]
        }
      ],
      "source": [
        "generator_ex = batch_generator_v1(items=data_items_ohe, \n",
        "                                  users=data_users_ohe, \n",
        "                                  interactions=interactions,\n",
        "                                  users_iid_oheid_mapping=users_iid_oheid_mapping,\n",
        "                                  items_iid_oheid_mapping=items_iid_oheid_mapping)\n",
        "\n",
        "result = next(generator_ex)\n",
        "\n",
        "\n",
        "print(f\"Users batch shape: {result[0][0].shape}\")\n",
        "print(f\"Positive items batch shape: {result[0][1].shape}\")\n",
        "print(f\"Negative items batch shape: {result[0][2].shape}\")\n",
        "print()\n",
        "print(f\"Patch to fit the keras interface: {result[1][0].shape}\")"
      ]
    },
    {
      "cell_type": "markdown",
      "metadata": {
        "id": "na0r52hSS4gq"
      },
      "source": [
        "### Initialize our simple dssm model graph"
      ]
    },
    {
      "cell_type": "markdown",
      "metadata": {
        "id": "xGMH7TpZsolT"
      },
      "source": [
        "Input and output sizes:"
      ]
    },
    {
      "cell_type": "code",
      "execution_count": null,
      "metadata": {
        "colab": {
          "base_uri": "https://localhost:8080/"
        },
        "id": "BeN5f_VhVFM4",
        "outputId": "d181f710-e89f-4f7a-aab5-3fb6fb4eca9d"
      },
      "outputs": [
        {
          "output_type": "stream",
          "name": "stdout",
          "text": [
            "EMBEDDINGS_DIM: 150\n",
            "USER_MODEL_SHAPE: (24067,)\n",
            "ITEM_MODEL_SHAPE: (64079,)\n"
          ]
        }
      ],
      "source": [
        "#######\n",
        "#Dence layers size parameters\n",
        "size_param_1 = 3\n",
        "size_param_2 = 2\n",
        "#######\n",
        "\n",
        "ITEM_MODEL_INPUT_SHAPE = (data_items_ohe.shape[1], ) \n",
        "USER_MODEL_INPUT_SHAPE = (data_users_ohe.shape[1], ) \n",
        "\n",
        "print(f\"EMBEDDINGS_DIM: {EMBEDDINGS_DIM}\")\n",
        "print(f\"USER_MODEL_SHAPE: {USER_MODEL_INPUT_SHAPE}\")\n",
        "print(f\"ITEM_MODEL_SHAPE: {ITEM_MODEL_INPUT_SHAPE}\")"
      ]
    },
    {
      "cell_type": "markdown",
      "source": [
        "Here, we'll use a simple fully connected architecture. For example, the user model inputs and outputs:"
      ],
      "metadata": {
        "id": "Pk5RS_qHKfYe"
      }
    },
    {
      "cell_type": "markdown",
      "source": [
        "![image.png](data:image/png;base64,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)"
      ],
      "metadata": {
        "id": "B-0uV6rYKnj7"
      }
    },
    {
      "cell_type": "code",
      "execution_count": null,
      "metadata": {
        "id": "Pk5CLoBwRCP6"
      },
      "outputs": [],
      "source": [
        "# User model\n",
        "u2v = keras.Sequential(\n",
        "    [\n",
        "        keras.layers.Input(shape=USER_MODEL_INPUT_SHAPE, name=\"u2v_input\"),\n",
        "        keras.layers.Dense(size_param_1 * EMBEDDINGS_DIM, activation='relu', name=\"u2v_1st_layer\"),\n",
        "        keras.layers.Dense(size_param_2 * EMBEDDINGS_DIM, activation='relu', name=\"u2v_2nd_layer\"),\n",
        "        keras.layers.Dense(EMBEDDINGS_DIM, activation='linear', name=\"u2v_3rd_layer_output\")\n",
        "    ],\n",
        "    name=\"u2v_model\"\n",
        ")\n",
        "\n",
        "#Item model\n",
        "i2v = keras.Sequential(\n",
        "    [\n",
        "        keras.layers.Input(shape=ITEM_MODEL_INPUT_SHAPE, name=\"i2v_input\"),\n",
        "        keras.layers.Dense(size_param_1 * EMBEDDINGS_DIM, activation='relu', name=\"i2v_1st_layer\"),\n",
        "        keras.layers.Dense(size_param_2 * EMBEDDINGS_DIM, activation='relu', name=\"i2v_2nd_layer\"),\n",
        "        keras.layers.Dense(EMBEDDINGS_DIM, activation='linear', name=\"i2v_3rd_layer_output\")\n",
        "    ],\n",
        "    name=\"i2v_model\"\n",
        ")\n",
        "\n",
        "ancor_inp = keras.layers.Input(shape=USER_MODEL_INPUT_SHAPE)\n",
        "pos_inp = keras.layers.Input(shape=ITEM_MODEL_INPUT_SHAPE)\n",
        "neg_inp = keras.layers.Input(shape=ITEM_MODEL_INPUT_SHAPE)\n",
        "ancor = u2v(ancor_inp)\n",
        "positive = i2v(pos_inp)\n",
        "negative = i2v(neg_inp)\n",
        "merged_vecs = keras.layers.Concatenate(name=\"anc_pos_neg_concat\")([ancor, positive, negative])\n",
        "model = keras.models.Model([ancor_inp, pos_inp, neg_inp], merged_vecs, name=\"my_model\")"
      ]
    },
    {
      "cell_type": "markdown",
      "metadata": {
        "id": "XIoLNb4tl9Af"
      },
      "source": [
        "### Define the optimizer, some callbacks and compile our model"
      ]
    },
    {
      "cell_type": "code",
      "execution_count": null,
      "metadata": {
        "id": "-smeh7gGd9h9"
      },
      "outputs": [],
      "source": [
        "name = 'dssm_linear_basic'\n",
        "optimizer = keras.optimizers.Adam(learning_rate=0.001)\n",
        "\n",
        "lr_reduce = keras.callbacks.ReduceLROnPlateau(monitor='loss', patience=1, factor=0.7, verbose=1)\n",
        "saving = keras.callbacks.ModelCheckpoint(filepath=\"../models/\" + name + '/best_model.h5', monitor=\"loss\")\n",
        "\n",
        "model.compile(loss=triplet_loss, optimizer=optimizer)"
      ]
    },
    {
      "cell_type": "code",
      "execution_count": null,
      "metadata": {
        "colab": {
          "base_uri": "https://localhost:8080/"
        },
        "id": "94hKY3y5fqD-",
        "outputId": "8343fcfa-77ff-44c1-c869-986970482e35"
      },
      "outputs": [
        {
          "output_type": "stream",
          "name": "stdout",
          "text": [
            "Model: \"my_model\"\n",
            "__________________________________________________________________________________________________\n",
            " Layer (type)                   Output Shape         Param #     Connected to                     \n",
            "==================================================================================================\n",
            " input_1 (InputLayer)           [(None, 24067)]      0           []                               \n",
            "                                                                                                  \n",
            " input_2 (InputLayer)           [(None, 64079)]      0           []                               \n",
            "                                                                                                  \n",
            " input_3 (InputLayer)           [(None, 64079)]      0           []                               \n",
            "                                                                                                  \n",
            " u2v_model (Sequential)         (None, 150)          11011050    ['input_1[0][0]']                \n",
            "                                                                                                  \n",
            " i2v_model (Sequential)         (None, 150)          29016450    ['input_2[0][0]',                \n",
            "                                                                  'input_3[0][0]']                \n",
            "                                                                                                  \n",
            " anc_pos_neg_concat (Concatenat  (None, 450)         0           ['u2v_model[0][0]',              \n",
            " e)                                                               'i2v_model[0][0]',              \n",
            "                                                                  'i2v_model[1][0]']              \n",
            "                                                                                                  \n",
            "==================================================================================================\n",
            "Total params: 40,027,500\n",
            "Trainable params: 40,027,500\n",
            "Non-trainable params: 0\n",
            "__________________________________________________________________________________________________\n"
          ]
        }
      ],
      "source": [
        "model.summary()"
      ]
    },
    {
      "cell_type": "code",
      "execution_count": null,
      "metadata": {
        "colab": {
          "base_uri": "https://localhost:8080/"
        },
        "id": "TmuIJZnHz6F-",
        "outputId": "f2a3932e-8751-41be-a533-c5bc1df4269b"
      },
      "outputs": [
        {
          "output_type": "stream",
          "name": "stdout",
          "text": [
            "Model: \"i2v_model\"\n",
            "_________________________________________________________________\n",
            " Layer (type)                Output Shape              Param #   \n",
            "=================================================================\n",
            " i2v_1st_layer (Dense)       (None, 450)               28836000  \n",
            "                                                                 \n",
            " i2v_2nd_layer (Dense)       (None, 300)               135300    \n",
            "                                                                 \n",
            " i2v_3rd_layer_output (Dense  (None, 150)              45150     \n",
            " )                                                               \n",
            "                                                                 \n",
            "=================================================================\n",
            "Total params: 29,016,450\n",
            "Trainable params: 29,016,450\n",
            "Non-trainable params: 0\n",
            "_________________________________________________________________\n"
          ]
        }
      ],
      "source": [
        "i2v.summary()"
      ]
    },
    {
      "cell_type": "code",
      "execution_count": null,
      "metadata": {
        "colab": {
          "base_uri": "https://localhost:8080/"
        },
        "id": "xlALBc7X0CkG",
        "outputId": "916fda0e-57e1-43bf-c620-b9490e1297c8"
      },
      "outputs": [
        {
          "output_type": "stream",
          "name": "stdout",
          "text": [
            "Model: \"u2v_model\"\n",
            "_________________________________________________________________\n",
            " Layer (type)                Output Shape              Param #   \n",
            "=================================================================\n",
            " u2v_1st_layer (Dense)       (None, 450)               10830600  \n",
            "                                                                 \n",
            " u2v_2nd_layer (Dense)       (None, 300)               135300    \n",
            "                                                                 \n",
            " u2v_3rd_layer_output (Dense  (None, 150)              45150     \n",
            " )                                                               \n",
            "                                                                 \n",
            "=================================================================\n",
            "Total params: 11,011,050\n",
            "Trainable params: 11,011,050\n",
            "Non-trainable params: 0\n",
            "_________________________________________________________________\n"
          ]
        }
      ],
      "source": [
        "u2v.summary()"
      ]
    },
    {
      "cell_type": "markdown",
      "metadata": {
        "id": "aRlz0jSbTl6Z"
      },
      "source": [
        "### Let's train our model"
      ]
    },
    {
      "cell_type": "code",
      "execution_count": null,
      "metadata": {
        "colab": {
          "base_uri": "https://localhost:8080/"
        },
        "id": "NzNq9bb6fqLJ",
        "outputId": "621ab8cf-7675-4c2c-9a85-ef06e236324e"
      },
      "outputs": [
        {
          "output_type": "stream",
          "name": "stdout",
          "text": [
            "Epoch 1/5\n",
            "20/20 [==============================] - 112s 6s/step - loss: 0.3232 - lr: 0.0010\n",
            "Epoch 2/5\n",
            "20/20 [==============================] - 105s 5s/step - loss: 0.1770 - lr: 0.0010\n",
            "Epoch 3/5\n",
            "20/20 [==============================] - 106s 5s/step - loss: 0.1702 - lr: 0.0010\n",
            "Epoch 4/5\n",
            "20/20 [==============================] - 105s 5s/step - loss: 0.1589 - lr: 0.0010\n",
            "Epoch 5/5\n",
            "20/20 [==============================] - 105s 5s/step - loss: 0.1569 - lr: 0.0010\n"
          ]
        },
        {
          "output_type": "execute_result",
          "data": {
            "text/plain": [
              "<keras.callbacks.History at 0x7fa2d10ce650>"
            ]
          },
          "metadata": {},
          "execution_count": 29
        }
      ],
      "source": [
        "model.fit(batch_generator_v1(items=data_items_ohe, \n",
        "                            users=data_users_ohe, \n",
        "                            interactions=interactions,\n",
        "                            users_iid_oheid_mapping=users_iid_oheid_mapping,\n",
        "                            items_iid_oheid_mapping=items_iid_oheid_mapping,\n",
        "                            batch_size=256), \n",
        "          steps_per_epoch=20, \n",
        "          epochs=5, \n",
        "          initial_epoch=0,\n",
        "          callbacks=[lr_reduce, saving]\n",
        "        )"
      ]
    },
    {
      "cell_type": "markdown",
      "metadata": {
        "id": "HyZsO9jfrMMg"
      },
      "source": [
        "### Evaluation"
      ]
    },
    {
      "cell_type": "markdown",
      "metadata": {
        "id": "OalNrVJWTvO5"
      },
      "source": [
        "#### Useful evaluation methods"
      ]
    },
    {
      "cell_type": "code",
      "execution_count": null,
      "metadata": {
        "id": "WCIQ8uxMm3q0"
      },
      "outputs": [],
      "source": [
        "def get_result_df(data_val, result_cols, scores):\n",
        "    \"\"\"Get resulting dataframe\n",
        "\n",
        "    data_val - initial data with features\n",
        "    result_cols - columns without scores (ids, other useful info)\n",
        "    scores - predicted scores\n",
        "    \"\"\"\n",
        "    \n",
        "    real_pred_df = data_val[result_cols].copy()\n",
        "    real_pred_df['score'] = scores\n",
        "    return real_pred_df\n",
        "\n",
        "\n",
        "def users_roc_auc_scores(real_pred_data, id_col=\"msno\", \n",
        "                         target_col=\"target\", score_col=\"score\"):\n",
        "    \"\"\"Compute ROC AUC scores\n",
        "    for users\n",
        "\n",
        "    real_pred_data - data with target and score\n",
        "    id_col - user_id column\n",
        "    target_col, score_col - columns with target values and model's scores\n",
        "    \"\"\"\n",
        "\n",
        "    roc_auc_scores = []\n",
        "    for _, data_us in real_pred_data.groupby(id_col):\n",
        "        roc_auc_scores.append(roc_auc_score(data_us[target_col], data_us[score_col]))\n",
        "    return roc_auc_scores\n",
        "\n",
        "\n",
        "def users_rr_scores(real_pred_data, id_col=\"msno\", \n",
        "        target_col=\"target\", score_col=\"score\"):\n",
        "    \"\"\"Compute RR scores for users\n",
        "\n",
        "    real_pred_data - data with target and score\n",
        "    id_col - user_id column\n",
        "    target_col, score_col - columns with target values and model's scores\n",
        "    \"\"\"\n",
        "\n",
        "    rr_scores = []\n",
        "    for _, data_us in real_pred_data.groupby(id_col):\n",
        "        data_us_sorted = data_us.sort_values(by=[score_col], ascending=False)\\\n",
        "                                .reset_index(drop=True)\n",
        "        rr_score = 1 / ((data_us_sorted.target == 1).argmax() + 1)\n",
        "        rr_scores.append(rr_score)\n",
        "    return rr_scores\n",
        "\n",
        "\n",
        "def precision_at_k(real_pred_data, k=5, id_col=\"msno\", \n",
        "        target_col=\"target\", score_col=\"score\"):\n",
        "    \"\"\"Compute precision@k scores for users\n",
        "\n",
        "    real_pred_data - data with target and score\n",
        "    k - size of the top \n",
        "    id_col- user_id column\n",
        "    target_col, score_col - columns with target values and model's scores\n",
        "    \"\"\"\n",
        "\n",
        "    precision_scores = []\n",
        "    for _, data_us in real_pred_data.groupby(id_col):\n",
        "        data_us_sorted = data_us.sort_values(by=[score_col], ascending=False)\n",
        "        precision_score = data_us_sorted.iloc[:k].target.sum() / k\n",
        "        precision_scores.append(precision_score)\n",
        "    return precision_scores\n",
        "\n",
        "\n",
        "def test_data_preprocessing(data_test, id=\"msno\", k=10, \n",
        "                            min_prop=0.05, max_prop=0.95):\n",
        "    \"\"\"Pick only users \n",
        "    with both positive and negative responces\n",
        "\n",
        "    data_test - data to transform\n",
        "    id - user id column name\n",
        "    k - minimum number of songs that a user interacted with\n",
        "    min/max_prop - minimum/maximum limits for the proportion of \n",
        "        positive interactions in users histories\n",
        "    \"\"\"\n",
        "\n",
        "    data_new = data_test.copy()\n",
        "    val_users = []\n",
        "    for user_id, data_us in data_new.groupby([id]):\n",
        "        pos_cnt = data_us.target.sum()\n",
        "        cnt = data_us.shape[0]\n",
        "        pos_prop = pos_cnt / cnt\n",
        "        if cnt >= k and pos_prop > min_prop and pos_prop < max_prop:\n",
        "            val_users.append(user_id)    \n",
        "\n",
        "    data_prep = data_new[data_new[id].isin(val_users)].reset_index(drop=True)\n",
        "    return data_prep\n",
        "\n",
        "\n",
        "\n",
        "def dssm_evaluation(i2v,u2v, data_test,\n",
        "                    cat_cols_to_change,\n",
        "                    mappings,\n",
        "                    result_cols,\n",
        "                    user_id_column,\n",
        "                    batch_size=512,\n",
        "                    n=100, k=5,\n",
        "                    min_prop=0.25, max_prop=0.75):\n",
        "    \"\"\"DSSM model evaluation\n",
        "\n",
        "    i2v/u2v - user/item models\n",
        "    data_test - test dataframe (initial dataframe with ALL the columns, \n",
        "        the needed features will be automatically selected via the mappings)\n",
        "    cat_cols_to_change - columns to change via names_to_cats() method\n",
        "    mappings - mappings from get_mappings() method\n",
        "    result_cols - columns in the resulting dataframe (without score column)\n",
        "    user_id_column - user id column\n",
        "    batch_size - the size of chunk for the models processing\n",
        "    n - test_data_preprocessing() parameter (the min size of user's history)\n",
        "    k - precision_at_k() method parameter\n",
        "    min/max_prop - minimum/maximum limits for the proportion of \n",
        "        positive interactions in users histories\n",
        "    \"\"\"\n",
        "\n",
        "    data_select = test_data_preprocessing(data_test, id=user_id_column, k=n,\n",
        "                                          min_prop=min_prop, max_prop=max_prop)\n",
        "    data_test_prep = names_to_cats(data_select, cols=cat_cols_to_change)\n",
        "    data_users_ohe = get_sparse_ohe_vectors(data_test_prep, mappings[\"user_fename_intid_mapping\"])\n",
        "    data_items_ohe = get_sparse_ohe_vectors(data_test_prep, mappings[\"item_fename_intid_mapping\"])\n",
        "    \n",
        "    data_size = data_test_prep.shape[0]\n",
        "    start = 0\n",
        "    stop = batch_size\n",
        "    rows_left = data_size\n",
        "    sims = []\n",
        "    while rows_left > 0:\n",
        "        users_feats = data_users_ohe[start:stop]\n",
        "        items_feats = data_items_ohe[start:stop]\n",
        "        users_vecs = u2v.predict(users_feats)\n",
        "        items_vecs = i2v.predict(items_feats)\n",
        "        dists = np.linalg.norm(users_vecs - items_vecs, axis=1)\n",
        "        sims.extend(1 / dists)\n",
        "        \n",
        "        start += batch_size\n",
        "        stop += batch_size\n",
        "        rows_left -= batch_size\n",
        "        gc.collect()\n",
        "\n",
        "    test_real_pred = get_result_df(data_test_prep, result_cols, sims)\n",
        "    roc_auc_scores = users_roc_auc_scores(test_real_pred)\n",
        "    rr_scores = users_rr_scores(test_real_pred)\n",
        "    p_at_k_scores = precision_at_k(test_real_pred, k=k)\n",
        "    print(f\"Users mean AUC ROC on test: {np.mean(roc_auc_scores)}\")\n",
        "    print(f\"Users mean reciprocal rank on test: {np.mean(rr_scores)}\")\n",
        "    print(f\"Users mean precision@{k} on test: {np.mean(p_at_k_scores)}\")\n",
        "    plt.figure()\n",
        "    plt.hist(roc_auc_scores)\n",
        "    plt.title(\"USERS AUC ROC SCORES\")\n",
        "    plt.grid()\n",
        "    plt.figure()\n",
        "    plt.hist(rr_scores)\n",
        "    plt.title(f\"USERS RECIPROCAL RANK SCORES\")\n",
        "    plt.grid()\n",
        "    plt.figure()\n",
        "    plt.hist(p_at_k_scores)\n",
        "    plt.title(f\"USERS PRECISION@{k} SCORES\")\n",
        "    plt.grid()\n",
        "    return test_real_pred"
      ]
    },
    {
      "cell_type": "markdown",
      "metadata": {
        "id": "HpFFRoDsT0m2"
      },
      "source": [
        "### So, let's evaluate our model on different sets"
      ]
    },
    {
      "cell_type": "code",
      "execution_count": null,
      "metadata": {
        "colab": {
          "base_uri": "https://localhost:8080/",
          "height": 861
        },
        "id": "IQtxVoELNJ4m",
        "outputId": "e0631e16-1155-4893-f47c-856cc1967a26"
      },
      "outputs": [
        {
          "output_type": "stream",
          "name": "stdout",
          "text": [
            "Users mean AUC ROC on test: 0.5811760512670814\n",
            "Users mean reciprocal rank on test: 0.7958898544581037\n",
            "Users mean precision@5 on test: 0.6439169139465876\n"
          ]
        },
        {
          "output_type": "display_data",
          "data": {
            "text/plain": [
              "<Figure size 432x288 with 1 Axes>"
            ],
            "image/png": "[encoded data removed]"
          },
          "metadata": {
            "needs_background": "light"
          }
        },
        {
          "output_type": "display_data",
          "data": {
            "text/plain": [
              "<Figure size 432x288 with 1 Axes>"
            ],
            "image/png": "[encoded data removed]"
          },
          "metadata": {
            "needs_background": "light"
          }
        },
        {
          "output_type": "display_data",
          "data": {
            "text/plain": [
              "<Figure size 432x288 with 1 Axes>"
            ],
            "image/png": "[encoded data removed]"
          },
          "metadata": {
            "needs_background": "light"
          }
        }
      ],
      "source": [
        "val_real_pred = dssm_evaluation(i2v, u2v, data_val_fin,\n",
        "                                cat_cols_to_change, \n",
        "                                mappings,\n",
        "                                result_cols,\n",
        "                                user_id_column,\n",
        "                                batch_size=300000,\n",
        "                                n=100, k=5,\n",
        "                                min_prop=0.25, max_prop=0.75)"
      ]
    },
    {
      "cell_type": "code",
      "source": [
        "val_real_pred.head()"
      ],
      "metadata": {
        "id": "ns8h1KjsL1Nv",
        "colab": {
          "base_uri": "https://localhost:8080/",
          "height": 206
        },
        "outputId": "f42d0433-af9f-46f5-ce7e-e5076fc28ae7"
      },
      "execution_count": null,
      "outputs": [
        {
          "output_type": "execute_result",
          "data": {
            "text/plain": [
              "                                           msno  \\\n",
              "0  BGo4Oilb0i8FCeZOLUPIFGkW3RWDwNuMoixfq+Mmekk=   \n",
              "1  y+rCSbVwnDOFjVwVE2s0m6oMKuTdift2dczOFoCUls8=   \n",
              "2  nIbXtHhahnJnRyA8FjlOQDlCJ9HGVCds8PGG9oMsf6I=   \n",
              "3  YMK9IDA6yFUBJxwm1SxYNM6nFrMcDAXunV/8dzGFdlo=   \n",
              "4  w4SNbHDAMuMbulkgcHGYOl/datijVua3CR5D73DylLs=   \n",
              "\n",
              "                                        song_id  target     score  \n",
              "0  6DacXyIfstje6EynOjN4eLKbp95UWPZ0N+8EctMV5bw=       0  0.750632  \n",
              "1  DpMV43WD2Ev8pT8uIcVrfw0tqU4r/T7RQuBhgelYefA=       0  0.741841  \n",
              "2  t+IofZpz3Fa/kh9rA1huUtyeJITnrToaH35PdyQUzcw=       1  0.666024  \n",
              "3  D1tFsBLd9VWbonfb6Vek0BI2EJB6udLOuV/x+ptYpOI=       0  0.800900  \n",
              "4  7vGvrf5l1XzNbeLZXzQgaNvc2VBmncarpN3LQpLUZiY=       1  0.764327  "
            ],
            "text/html": [
              "\n",
              "  <div id=\"df-5d1e2c87-63db-4240-9832-9c75f3c6ffab\">\n",
              "    <div class=\"colab-df-container\">\n",
              "      <div>\n",
              "<style scoped>\n",
              "    .dataframe tbody tr th:only-of-type {\n",
              "        vertical-align: middle;\n",
              "    }\n",
              "\n",
              "    .dataframe tbody tr th {\n",
              "        vertical-align: top;\n",
              "    }\n",
              "\n",
              "    .dataframe thead th {\n",
              "        text-align: right;\n",
              "    }\n",
              "</style>\n",
              "<table border=\"1\" class=\"dataframe\">\n",
              "  <thead>\n",
              "    <tr style=\"text-align: right;\">\n",
              "      <th></th>\n",
              "      <th>msno</th>\n",
              "      <th>song_id</th>\n",
              "      <th>target</th>\n",
              "      <th>score</th>\n",
              "    </tr>\n",
              "  </thead>\n",
              "  <tbody>\n",
              "    <tr>\n",
              "      <th>0</th>\n",
              "      <td>BGo4Oilb0i8FCeZOLUPIFGkW3RWDwNuMoixfq+Mmekk=</td>\n",
              "      <td>6DacXyIfstje6EynOjN4eLKbp95UWPZ0N+8EctMV5bw=</td>\n",
              "      <td>0</td>\n",
              "      <td>0.750632</td>\n",
              "    </tr>\n",
              "    <tr>\n",
              "      <th>1</th>\n",
              "      <td>y+rCSbVwnDOFjVwVE2s0m6oMKuTdift2dczOFoCUls8=</td>\n",
              "      <td>DpMV43WD2Ev8pT8uIcVrfw0tqU4r/T7RQuBhgelYefA=</td>\n",
              "      <td>0</td>\n",
              "      <td>0.741841</td>\n",
              "    </tr>\n",
              "    <tr>\n",
              "      <th>2</th>\n",
              "      <td>nIbXtHhahnJnRyA8FjlOQDlCJ9HGVCds8PGG9oMsf6I=</td>\n",
              "      <td>t+IofZpz3Fa/kh9rA1huUtyeJITnrToaH35PdyQUzcw=</td>\n",
              "      <td>1</td>\n",
              "      <td>0.666024</td>\n",
              "    </tr>\n",
              "    <tr>\n",
              "      <th>3</th>\n",
              "      <td>YMK9IDA6yFUBJxwm1SxYNM6nFrMcDAXunV/8dzGFdlo=</td>\n",
              "      <td>D1tFsBLd9VWbonfb6Vek0BI2EJB6udLOuV/x+ptYpOI=</td>\n",
              "      <td>0</td>\n",
              "      <td>0.800900</td>\n",
              "    </tr>\n",
              "    <tr>\n",
              "      <th>4</th>\n",
              "      <td>w4SNbHDAMuMbulkgcHGYOl/datijVua3CR5D73DylLs=</td>\n",
              "      <td>7vGvrf5l1XzNbeLZXzQgaNvc2VBmncarpN3LQpLUZiY=</td>\n",
              "      <td>1</td>\n",
              "      <td>0.764327</td>\n",
              "    </tr>\n",
              "  </tbody>\n",
              "</table>\n",
              "</div>\n",
              "      <button class=\"colab-df-convert\" onclick=\"convertToInteractive('df-5d1e2c87-63db-4240-9832-9c75f3c6ffab')\"\n",
              "              title=\"Convert this dataframe to an interactive table.\"\n",
              "              style=\"display:none;\">\n",
              "        \n",
              "  <svg xmlns=\"http://www.w3.org/2000/svg\" height=\"24px\"viewBox=\"0 0 24 24\"\n",
              "       width=\"24px\">\n",
              "    <path d=\"M0 0h24v24H0V0z\" fill=\"none\"/>\n",
              "    <path d=\"M18.56 5.44l.94 2.06.94-2.06 2.06-.94-2.06-.94-.94-2.06-.94 2.06-2.06.94zm-11 1L8.5 8.5l.94-2.06 2.06-.94-2.06-.94L8.5 2.5l-.94 2.06-2.06.94zm10 10l.94 2.06.94-2.06 2.06-.94-2.06-.94-.94-2.06-.94 2.06-2.06.94z\"/><path d=\"M17.41 7.96l-1.37-1.37c-.4-.4-.92-.59-1.43-.59-.52 0-1.04.2-1.43.59L10.3 9.45l-7.72 7.72c-.78.78-.78 2.05 0 2.83L4 21.41c.39.39.9.59 1.41.59.51 0 1.02-.2 1.41-.59l7.78-7.78 2.81-2.81c.8-.78.8-2.07 0-2.86zM5.41 20L4 18.59l7.72-7.72 1.47 1.35L5.41 20z\"/>\n",
              "  </svg>\n",
              "      </button>\n",
              "      \n",
              "  <style>\n",
              "    .colab-df-container {\n",
              "      display:flex;\n",
              "      flex-wrap:wrap;\n",
              "      gap: 12px;\n",
              "    }\n",
              "\n",
              "    .colab-df-convert {\n",
              "      background-color: #E8F0FE;\n",
              "      border: none;\n",
              "      border-radius: 50%;\n",
              "      cursor: pointer;\n",
              "      display: none;\n",
              "      fill: #1967D2;\n",
              "      height: 32px;\n",
              "      padding: 0 0 0 0;\n",
              "      width: 32px;\n",
              "    }\n",
              "\n",
              "    .colab-df-convert:hover {\n",
              "      background-color: #E2EBFA;\n",
              "      box-shadow: 0px 1px 2px rgba(60, 64, 67, 0.3), 0px 1px 3px 1px rgba(60, 64, 67, 0.15);\n",
              "      fill: #174EA6;\n",
              "    }\n",
              "\n",
              "    [theme=dark] .colab-df-convert {\n",
              "      background-color: #3B4455;\n",
              "      fill: #D2E3FC;\n",
              "    }\n",
              "\n",
              "    [theme=dark] .colab-df-convert:hover {\n",
              "      background-color: #434B5C;\n",
              "      box-shadow: 0px 1px 3px 1px rgba(0, 0, 0, 0.15);\n",
              "      filter: drop-shadow(0px 1px 2px rgba(0, 0, 0, 0.3));\n",
              "      fill: #FFFFFF;\n",
              "    }\n",
              "  </style>\n",
              "\n",
              "      <script>\n",
              "        const buttonEl =\n",
              "          document.querySelector('#df-5d1e2c87-63db-4240-9832-9c75f3c6ffab button.colab-df-convert');\n",
              "        buttonEl.style.display =\n",
              "          google.colab.kernel.accessAllowed ? 'block' : 'none';\n",
              "\n",
              "        async function convertToInteractive(key) {\n",
              "          const element = document.querySelector('#df-5d1e2c87-63db-4240-9832-9c75f3c6ffab');\n",
              "          const dataTable =\n",
              "            await google.colab.kernel.invokeFunction('convertToInteractive',\n",
              "                                                     [key], {});\n",
              "          if (!dataTable) return;\n",
              "\n",
              "          const docLinkHtml = 'Like what you see? Visit the ' +\n",
              "            '<a target=\"_blank\" href=https://colab.research.google.com/notebooks/data_table.ipynb>data table notebook</a>'\n",
              "            + ' to learn more about interactive tables.';\n",
              "          element.innerHTML = '';\n",
              "          dataTable['output_type'] = 'display_data';\n",
              "          await google.colab.output.renderOutput(dataTable, element);\n",
              "          const docLink = document.createElement('div');\n",
              "          docLink.innerHTML = docLinkHtml;\n",
              "          element.appendChild(docLink);\n",
              "        }\n",
              "      </script>\n",
              "    </div>\n",
              "  </div>\n",
              "  "
            ]
          },
          "metadata": {},
          "execution_count": 32
        }
      ]
    },
    {
      "cell_type": "code",
      "execution_count": null,
      "metadata": {
        "colab": {
          "base_uri": "https://localhost:8080/",
          "height": 861
        },
        "id": "5Rgpb8k8u4-M",
        "outputId": "fd4e07b7-371c-4f56-f454-3071cfaeff75"
      },
      "outputs": [
        {
          "output_type": "stream",
          "name": "stdout",
          "text": [
            "Users mean AUC ROC on test: 0.5801055413777827\n",
            "Users mean reciprocal rank on test: 0.8061746031746031\n",
            "Users mean precision@5 on test: 0.6619259259259258\n"
          ]
        },
        {
          "output_type": "display_data",
          "data": {
            "text/plain": [
              "<Figure size 432x288 with 1 Axes>"
            ],
            "image/png": "[encoded data removed]"
          },
          "metadata": {
            "needs_background": "light"
          }
        },
        {
          "output_type": "display_data",
          "data": {
            "text/plain": [
              "<Figure size 432x288 with 1 Axes>"
            ],
            "image/png": "[encoded data removed]"
          },
          "metadata": {
            "needs_background": "light"
          }
        },
        {
          "output_type": "display_data",
          "data": {
            "text/plain": [
              "<Figure size 432x288 with 1 Axes>"
            ],
            "image/png": "[encoded data removed]"
          },
          "metadata": {
            "needs_background": "light"
          }
        }
      ],
      "source": [
        "_ = dssm_evaluation(i2v, u2v, data_test_fin,\n",
        "                    cat_cols_to_change, \n",
        "                    mappings,\n",
        "                    result_cols,\n",
        "                    user_id_column,\n",
        "                    batch_size=300000,\n",
        "                    n=100, k=5,\n",
        "                    min_prop=0.25, max_prop=0.75)"
      ]
    },
    {
      "cell_type": "code",
      "execution_count": null,
      "metadata": {
        "colab": {
          "base_uri": "https://localhost:8080/",
          "height": 861
        },
        "id": "stQGqNJlBFHN",
        "outputId": "7386db8b-d441-4a92-c6ef-b461a3470071"
      },
      "outputs": [
        {
          "output_type": "stream",
          "name": "stdout",
          "text": [
            "Users mean AUC ROC on test: 0.5773377133381055\n",
            "Users mean reciprocal rank on test: 0.7783091464637768\n",
            "Users mean precision@5 on test: 0.6341984732824427\n"
          ]
        },
        {
          "output_type": "display_data",
          "data": {
            "text/plain": [
              "<Figure size 432x288 with 1 Axes>"
            ],
            "image/png": "[encoded data removed]"
          },
          "metadata": {
            "needs_background": "light"
          }
        },
        {
          "output_type": "display_data",
          "data": {
            "text/plain": [
              "<Figure size 432x288 with 1 Axes>"
            ],
            "image/png": "[encoded data removed]"
          },
          "metadata": {
            "needs_background": "light"
          }
        },
        {
          "output_type": "display_data",
          "data": {
            "text/plain": [
              "<Figure size 432x288 with 1 Axes>"
            ],
            "image/png": "[encoded data removed]"
          },
          "metadata": {
            "needs_background": "light"
          }
        }
      ],
      "source": [
        "_ = dssm_evaluation(i2v, u2v, cold_users_data_fin,\n",
        "                    cat_cols_to_change, \n",
        "                    mappings,\n",
        "                    result_cols,\n",
        "                    user_id_column,\n",
        "                    batch_size=300000,\n",
        "                    n=100, k=5,\n",
        "                    min_prop=0.25, max_prop=0.75)"
      ]
    },
    {
      "cell_type": "code",
      "execution_count": null,
      "metadata": {
        "colab": {
          "base_uri": "https://localhost:8080/",
          "height": 861
        },
        "id": "Sgc3hvWBBJ4O",
        "outputId": "d61296be-52f5-4646-c44a-76acef417ccc"
      },
      "outputs": [
        {
          "output_type": "stream",
          "name": "stdout",
          "text": [
            "Users mean AUC ROC on test: 0.5742935344627186\n",
            "Users mean reciprocal rank on test: 0.7703370424567608\n",
            "Users mean precision@5 on test: 0.6143098591549296\n"
          ]
        },
        {
          "output_type": "display_data",
          "data": {
            "text/plain": [
              "<Figure size 432x288 with 1 Axes>"
            ],
            "image/png": "[encoded data removed]"
          },
          "metadata": {
            "needs_background": "light"
          }
        },
        {
          "output_type": "display_data",
          "data": {
            "text/plain": [
              "<Figure size 432x288 with 1 Axes>"
            ],
            "image/png": "[encoded data removed]"
          },
          "metadata": {
            "needs_background": "light"
          }
        },
        {
          "output_type": "display_data",
          "data": {
            "text/plain": [
              "<Figure size 432x288 with 1 Axes>"
            ],
            "image/png": "[encoded data removed]"
          },
          "metadata": {
            "needs_background": "light"
          }
        }
      ],
      "source": [
        "_ = dssm_evaluation(i2v, u2v, cold_items_data_fin,\n",
        "                    cat_cols_to_change, \n",
        "                    mappings,\n",
        "                    result_cols,\n",
        "                    user_id_column,\n",
        "                    batch_size=300000,\n",
        "                    n=40, k=5,\n",
        "                    min_prop=0.25, max_prop=0.75)"
      ]
    },
    {
      "cell_type": "markdown",
      "metadata": {
        "id": "w_u61m7TT8W9"
      },
      "source": [
        "### Although our model is simple and has been trained for a limited time, we have some interesting results. To get better quality, try using more complex architectures and be patient :)"
      ]
    },
    {
      "cell_type": "markdown",
      "metadata": {
        "id": "YK7ALvW0UzLO"
      },
      "source": [
        "### Stay tuned :)"
      ]
    },
    {
      "cell_type": "code",
      "execution_count": null,
      "metadata": {
        "id": "xoJPeQLml1bu"
      },
      "outputs": [],
      "source": [
        ""
      ]
    }
  ],
  "metadata": {
    "accelerator": "GPU",
    "colab": {
      "collapsed_sections": [],
      "name": "Part 6.1. Basic DSSM recommender.ipynb",
      "provenance": [],
      "mount_file_id": "1pQZBQ-MqBHiiBNS51njheVe6YC2KtbRC",
      "authorship_tag": "ABX9TyMW2QQV3/VBN7YsCYmZ/RvO",
      "include_colab_link": true
    },
    "kernelspec": {
      "display_name": "Python 3",
      "name": "python3"
    },
    "language_info": {
      "name": "python"
    }
  },
  "nbformat": 4,
  "nbformat_minor": 0
}