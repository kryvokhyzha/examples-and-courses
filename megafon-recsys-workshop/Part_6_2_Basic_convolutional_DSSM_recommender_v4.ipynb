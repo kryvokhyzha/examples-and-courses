{
  "cells": [
    {
      "cell_type": "markdown",
      "metadata": {
        "id": "view-in-github",
        "colab_type": "text"
      },
      "source": [
        "<a href=\"https://colab.research.google.com/github/art-glazunov/MegaFon_RecSys_Workshop/blob/main/Part_6_2_Basic_convolutional_DSSM_recommender_v4.ipynb\" target=\"_parent\"><img src=\"https://colab.research.google.com/assets/colab-badge.svg\" alt=\"Open In Colab\"/></a>"
      ]
    },
    {
      "cell_type": "markdown",
      "source": [
        "# MegaFon RecSys workshop\n",
        "by Artyom Glazunov\n",
        "\n",
        "## Part 6.2. Basic convolutional DSSM recommender"
      ],
      "metadata": {
        "id": "qor5mQ7R-fRb"
      }
    },
    {
      "cell_type": "markdown",
      "source": [
        "## The plan\n",
        "\n",
        "- ### Data loading\n",
        "- ### Useful classes and methods\n",
        "- ### Data preparation\n",
        "- ### Training\n",
        "- ### Evaluation"
      ],
      "metadata": {
        "id": "rHAJmOYr-pUG"
      }
    },
    {
      "cell_type": "code",
      "execution_count": null,
      "metadata": {
        "id": "Jzlutim01rz8",
        "colab": {
          "base_uri": "https://localhost:8080/"
        },
        "outputId": "ef2b3e6a-a377-42c1-e45d-e3a47d937a7e"
      },
      "outputs": [
        {
          "output_type": "stream",
          "name": "stdout",
          "text": [
            "\u001b[?25l\r\u001b[K     |█                               | 10 kB 17.5 MB/s eta 0:00:01\r\u001b[K     |██▏                             | 20 kB 16.7 MB/s eta 0:00:01\r\u001b[K     |███▏                            | 30 kB 9.6 MB/s eta 0:00:01\r\u001b[K     |████▎                           | 40 kB 8.1 MB/s eta 0:00:01\r\u001b[K     |█████▎                          | 51 kB 5.0 MB/s eta 0:00:01\r\u001b[K     |██████▍                         | 61 kB 5.8 MB/s eta 0:00:01\r\u001b[K     |███████▍                        | 71 kB 5.8 MB/s eta 0:00:01\r\u001b[K     |████████▌                       | 81 kB 5.7 MB/s eta 0:00:01\r\u001b[K     |█████████▌                      | 92 kB 6.3 MB/s eta 0:00:01\r\u001b[K     |██████████▋                     | 102 kB 5.5 MB/s eta 0:00:01\r\u001b[K     |███████████▋                    | 112 kB 5.5 MB/s eta 0:00:01\r\u001b[K     |████████████▊                   | 122 kB 5.5 MB/s eta 0:00:01\r\u001b[K     |█████████████▊                  | 133 kB 5.5 MB/s eta 0:00:01\r\u001b[K     |██████████████▉                 | 143 kB 5.5 MB/s eta 0:00:01\r\u001b[K     |███████████████▉                | 153 kB 5.5 MB/s eta 0:00:01\r\u001b[K     |█████████████████               | 163 kB 5.5 MB/s eta 0:00:01\r\u001b[K     |██████████████████              | 174 kB 5.5 MB/s eta 0:00:01\r\u001b[K     |███████████████████             | 184 kB 5.5 MB/s eta 0:00:01\r\u001b[K     |████████████████████            | 194 kB 5.5 MB/s eta 0:00:01\r\u001b[K     |█████████████████████▏          | 204 kB 5.5 MB/s eta 0:00:01\r\u001b[K     |██████████████████████▏         | 215 kB 5.5 MB/s eta 0:00:01\r\u001b[K     |███████████████████████▎        | 225 kB 5.5 MB/s eta 0:00:01\r\u001b[K     |████████████████████████▎       | 235 kB 5.5 MB/s eta 0:00:01\r\u001b[K     |█████████████████████████▍      | 245 kB 5.5 MB/s eta 0:00:01\r\u001b[K     |██████████████████████████▍     | 256 kB 5.5 MB/s eta 0:00:01\r\u001b[K     |███████████████████████████▌    | 266 kB 5.5 MB/s eta 0:00:01\r\u001b[K     |████████████████████████████▌   | 276 kB 5.5 MB/s eta 0:00:01\r\u001b[K     |█████████████████████████████▋  | 286 kB 5.5 MB/s eta 0:00:01\r\u001b[K     |██████████████████████████████▋ | 296 kB 5.5 MB/s eta 0:00:01\r\u001b[K     |███████████████████████████████▊| 307 kB 5.5 MB/s eta 0:00:01\r\u001b[K     |████████████████████████████████| 310 kB 5.5 MB/s \n",
            "\u001b[?25h  Building wheel for lightfm (setup.py) ... \u001b[?25l\u001b[?25hdone\n"
          ]
        }
      ],
      "source": [
        "pip install -q lightfm==1.16"
      ]
    },
    {
      "cell_type": "code",
      "execution_count": null,
      "metadata": {
        "id": "70ceNWcRrg_I"
      },
      "outputs": [],
      "source": [
        "import random\n",
        "\n",
        "import pandas as pd\n",
        "import numpy as np\n",
        "import scipy\n",
        "from scipy.sparse import csr_matrix\n",
        "\n",
        "import sklearn\n",
        "from sklearn.base import TransformerMixin, BaseEstimator\n",
        "from lightfm import data\n",
        "\n",
        "import tensorflow as tf\n",
        "import tensorflow.keras.backend as K\n",
        "from tensorflow import keras\n",
        "\n",
        "from sklearn.metrics import roc_auc_score\n",
        "\n",
        "from matplotlib import pyplot as plt\n",
        "\n",
        "import gc\n",
        "import copy"
      ]
    },
    {
      "cell_type": "markdown",
      "source": [
        "### Data loading"
      ],
      "metadata": {
        "id": "eL8vrFAo_XVr"
      }
    },
    {
      "cell_type": "code",
      "execution_count": null,
      "metadata": {
        "colab": {
          "base_uri": "https://localhost:8080/"
        },
        "id": "fUBYZjrq24eQ",
        "outputId": "5e9a570d-836b-4277-e3ad-3fcee5b34739"
      },
      "outputs": [
        {
          "output_type": "stream",
          "name": "stdout",
          "text": [
            "/content/drive/MyDrive/Colab_Notebooks/datafest_22/data\n"
          ]
        }
      ],
      "source": [
        "cd /content/drive/MyDrive/Colab_Notebooks/datafest_22/data"
      ]
    },
    {
      "cell_type": "code",
      "source": [
        "tf.test.gpu_device_name()"
      ],
      "metadata": {
        "id": "kpeYVHCM1Axz",
        "colab": {
          "base_uri": "https://localhost:8080/",
          "height": 35
        },
        "outputId": "b10531e3-8918-4fc6-f151-d282d78a5b80"
      },
      "execution_count": null,
      "outputs": [
        {
          "output_type": "execute_result",
          "data": {
            "text/plain": [
              "'/device:GPU:0'"
            ],
            "application/vnd.google.colaboratory.intrinsic+json": {
              "type": "string"
            }
          },
          "metadata": {},
          "execution_count": 4
        }
      ]
    },
    {
      "cell_type": "code",
      "execution_count": null,
      "metadata": {
        "id": "Owjd4KGR28f8"
      },
      "outputs": [],
      "source": [
        "data_train_all = pd.read_csv(\"train.csv\")\n",
        "data_val = pd.read_csv(\"validation.csv\")\n",
        "data_test = pd.read_csv(\"test.csv\")\n",
        "cold_users_data = pd.read_csv(\"cold_users_data.csv\")\n",
        "cold_items_data = pd.read_csv(\"cold_items_data.csv\")"
      ]
    },
    {
      "cell_type": "code",
      "execution_count": null,
      "metadata": {
        "id": "e5SWZ4IxYmIw",
        "colab": {
          "base_uri": "https://localhost:8080/",
          "height": 374
        },
        "outputId": "dcefce81-ab53-4b3e-d43f-b8df80c928c9"
      },
      "outputs": [
        {
          "output_type": "execute_result",
          "data": {
            "text/plain": [
              "                                           msno  \\\n",
              "0  xvCGZ5McgEJlkYx2HNO1/CkD1CYjlA/gQL36iX8TYBY=   \n",
              "1  jOlB9i8NKGG2oudUKq9ObRyt3sXQnWWwcei1+s8sNIA=   \n",
              "2  fe+6batTKL/NxXhhzfDO3yBUmFmQUQAgRpYmF2T0t4E=   \n",
              "3  GVcP7SPQ/IgiEt2uxaXaRH5lFA5tBe8T74/Etk7cnG8=   \n",
              "4  XIfoYUt6vkAqVDRKJRVEHkV0jsaD+fif2EqxsobpEqg=   \n",
              "\n",
              "                                        song_id source_system_tab  \\\n",
              "0  868uXMrBS8WwQulNX0W+vk6sJA6Hs35YNtFYceXgX/I=             radio   \n",
              "1  a4TbK5V15pj3YZUOGa9h2U3t0OsE+3aiFw41mNlcgcw=        my library   \n",
              "2  5RLsVkl6PTt3pIyWvojM0z2LblVysXHxoc7Mc4LIFL8=        my library   \n",
              "3  7Xxzo9Z584Z1AhkaLLWEcpzcEuxcquGE52Ztc4879YI=          discover   \n",
              "4  rA+H/y66yC2qK0v926aWRFWngwJmL+IhGhJN4fBS0XM=             radio   \n",
              "\n",
              "     source_screen_name      source_type  target  song_length genre_ids  \\\n",
              "0                 Radio            radio       0     255373.0       465   \n",
              "1   Local playlist more    local-library       1     248790.0       465   \n",
              "2   Local playlist more    local-library       1     178887.0       921   \n",
              "3  Online playlist more  online-playlist       1     275136.0       465   \n",
              "4                 Radio            radio       0     243983.0       465   \n",
              "\n",
              "           artist_name composer lyricist  language  \\\n",
              "0                  張震嶽      NaN      NaN       3.0   \n",
              "1        吳汶芳 (Fang Wu)      吳汶芳      吳汶芳       3.0   \n",
              "2          Noel Coward      NaN      NaN      52.0   \n",
              "3           田馥甄 (Hebe)      楊子樸      施人誠       3.0   \n",
              "4  范瑋琪 (Christine Fan)      陳小霞      姚若龍       3.0   \n",
              "\n",
              "                             name          isrc  city  bd  gender  \\\n",
              "0                              勇氣  TWA450479802     1   0     NaN   \n",
              "1  孤獨的總和 (Accumulated Loneliness)  TWA211328806    13  31  female   \n",
              "2           Poor Little Rich Girl  USV291338277     5  33  female   \n",
              "3                          寂寞寂寞就好  TWD951043107     1   0     NaN   \n",
              "4                          最重要的決定  TWA211125202     5  22  female   \n",
              "\n",
              "   registered_via registration_init_time expiration_date  \n",
              "0               7             2013-05-14      2017-09-24  \n",
              "1               9             2011-04-19      2017-06-20  \n",
              "2               9             2008-08-05      2017-10-06  \n",
              "3               7             2011-02-25      2017-09-12  \n",
              "4               7             2013-07-29      2017-09-30  "
            ],
            "text/html": [
              "\n",
              "  <div id=\"df-290609e1-8f16-4fdf-bb69-047914b88b88\">\n",
              "    <div class=\"colab-df-container\">\n",
              "      <div>\n",
              "<style scoped>\n",
              "    .dataframe tbody tr th:only-of-type {\n",
              "        vertical-align: middle;\n",
              "    }\n",
              "\n",
              "    .dataframe tbody tr th {\n",
              "        vertical-align: top;\n",
              "    }\n",
              "\n",
              "    .dataframe thead th {\n",
              "        text-align: right;\n",
              "    }\n",
              "</style>\n",
              "<table border=\"1\" class=\"dataframe\">\n",
              "  <thead>\n",
              "    <tr style=\"text-align: right;\">\n",
              "      <th></th>\n",
              "      <th>msno</th>\n",
              "      <th>song_id</th>\n",
              "      <th>source_system_tab</th>\n",
              "      <th>source_screen_name</th>\n",
              "      <th>source_type</th>\n",
              "      <th>target</th>\n",
              "      <th>song_length</th>\n",
              "      <th>genre_ids</th>\n",
              "      <th>artist_name</th>\n",
              "      <th>composer</th>\n",
              "      <th>lyricist</th>\n",
              "      <th>language</th>\n",
              "      <th>name</th>\n",
              "      <th>isrc</th>\n",
              "      <th>city</th>\n",
              "      <th>bd</th>\n",
              "      <th>gender</th>\n",
              "      <th>registered_via</th>\n",
              "      <th>registration_init_time</th>\n",
              "      <th>expiration_date</th>\n",
              "    </tr>\n",
              "  </thead>\n",
              "  <tbody>\n",
              "    <tr>\n",
              "      <th>0</th>\n",
              "      <td>xvCGZ5McgEJlkYx2HNO1/CkD1CYjlA/gQL36iX8TYBY=</td>\n",
              "      <td>868uXMrBS8WwQulNX0W+vk6sJA6Hs35YNtFYceXgX/I=</td>\n",
              "      <td>radio</td>\n",
              "      <td>Radio</td>\n",
              "      <td>radio</td>\n",
              "      <td>0</td>\n",
              "      <td>255373.0</td>\n",
              "      <td>465</td>\n",
              "      <td>張震嶽</td>\n",
              "      <td>NaN</td>\n",
              "      <td>NaN</td>\n",
              "      <td>3.0</td>\n",
              "      <td>勇氣</td>\n",
              "      <td>TWA450479802</td>\n",
              "      <td>1</td>\n",
              "      <td>0</td>\n",
              "      <td>NaN</td>\n",
              "      <td>7</td>\n",
              "      <td>2013-05-14</td>\n",
              "      <td>2017-09-24</td>\n",
              "    </tr>\n",
              "    <tr>\n",
              "      <th>1</th>\n",
              "      <td>jOlB9i8NKGG2oudUKq9ObRyt3sXQnWWwcei1+s8sNIA=</td>\n",
              "      <td>a4TbK5V15pj3YZUOGa9h2U3t0OsE+3aiFw41mNlcgcw=</td>\n",
              "      <td>my library</td>\n",
              "      <td>Local playlist more</td>\n",
              "      <td>local-library</td>\n",
              "      <td>1</td>\n",
              "      <td>248790.0</td>\n",
              "      <td>465</td>\n",
              "      <td>吳汶芳 (Fang Wu)</td>\n",
              "      <td>吳汶芳</td>\n",
              "      <td>吳汶芳</td>\n",
              "      <td>3.0</td>\n",
              "      <td>孤獨的總和 (Accumulated Loneliness)</td>\n",
              "      <td>TWA211328806</td>\n",
              "      <td>13</td>\n",
              "      <td>31</td>\n",
              "      <td>female</td>\n",
              "      <td>9</td>\n",
              "      <td>2011-04-19</td>\n",
              "      <td>2017-06-20</td>\n",
              "    </tr>\n",
              "    <tr>\n",
              "      <th>2</th>\n",
              "      <td>fe+6batTKL/NxXhhzfDO3yBUmFmQUQAgRpYmF2T0t4E=</td>\n",
              "      <td>5RLsVkl6PTt3pIyWvojM0z2LblVysXHxoc7Mc4LIFL8=</td>\n",
              "      <td>my library</td>\n",
              "      <td>Local playlist more</td>\n",
              "      <td>local-library</td>\n",
              "      <td>1</td>\n",
              "      <td>178887.0</td>\n",
              "      <td>921</td>\n",
              "      <td>Noel Coward</td>\n",
              "      <td>NaN</td>\n",
              "      <td>NaN</td>\n",
              "      <td>52.0</td>\n",
              "      <td>Poor Little Rich Girl</td>\n",
              "      <td>USV291338277</td>\n",
              "      <td>5</td>\n",
              "      <td>33</td>\n",
              "      <td>female</td>\n",
              "      <td>9</td>\n",
              "      <td>2008-08-05</td>\n",
              "      <td>2017-10-06</td>\n",
              "    </tr>\n",
              "    <tr>\n",
              "      <th>3</th>\n",
              "      <td>GVcP7SPQ/IgiEt2uxaXaRH5lFA5tBe8T74/Etk7cnG8=</td>\n",
              "      <td>7Xxzo9Z584Z1AhkaLLWEcpzcEuxcquGE52Ztc4879YI=</td>\n",
              "      <td>discover</td>\n",
              "      <td>Online playlist more</td>\n",
              "      <td>online-playlist</td>\n",
              "      <td>1</td>\n",
              "      <td>275136.0</td>\n",
              "      <td>465</td>\n",
              "      <td>田馥甄 (Hebe)</td>\n",
              "      <td>楊子樸</td>\n",
              "      <td>施人誠</td>\n",
              "      <td>3.0</td>\n",
              "      <td>寂寞寂寞就好</td>\n",
              "      <td>TWD951043107</td>\n",
              "      <td>1</td>\n",
              "      <td>0</td>\n",
              "      <td>NaN</td>\n",
              "      <td>7</td>\n",
              "      <td>2011-02-25</td>\n",
              "      <td>2017-09-12</td>\n",
              "    </tr>\n",
              "    <tr>\n",
              "      <th>4</th>\n",
              "      <td>XIfoYUt6vkAqVDRKJRVEHkV0jsaD+fif2EqxsobpEqg=</td>\n",
              "      <td>rA+H/y66yC2qK0v926aWRFWngwJmL+IhGhJN4fBS0XM=</td>\n",
              "      <td>radio</td>\n",
              "      <td>Radio</td>\n",
              "      <td>radio</td>\n",
              "      <td>0</td>\n",
              "      <td>243983.0</td>\n",
              "      <td>465</td>\n",
              "      <td>范瑋琪 (Christine Fan)</td>\n",
              "      <td>陳小霞</td>\n",
              "      <td>姚若龍</td>\n",
              "      <td>3.0</td>\n",
              "      <td>最重要的決定</td>\n",
              "      <td>TWA211125202</td>\n",
              "      <td>5</td>\n",
              "      <td>22</td>\n",
              "      <td>female</td>\n",
              "      <td>7</td>\n",
              "      <td>2013-07-29</td>\n",
              "      <td>2017-09-30</td>\n",
              "    </tr>\n",
              "  </tbody>\n",
              "</table>\n",
              "</div>\n",
              "      <button class=\"colab-df-convert\" onclick=\"convertToInteractive('df-290609e1-8f16-4fdf-bb69-047914b88b88')\"\n",
              "              title=\"Convert this dataframe to an interactive table.\"\n",
              "              style=\"display:none;\">\n",
              "        \n",
              "  <svg xmlns=\"http://www.w3.org/2000/svg\" height=\"24px\"viewBox=\"0 0 24 24\"\n",
              "       width=\"24px\">\n",
              "    <path d=\"M0 0h24v24H0V0z\" fill=\"none\"/>\n",
              "    <path d=\"M18.56 5.44l.94 2.06.94-2.06 2.06-.94-2.06-.94-.94-2.06-.94 2.06-2.06.94zm-11 1L8.5 8.5l.94-2.06 2.06-.94-2.06-.94L8.5 2.5l-.94 2.06-2.06.94zm10 10l.94 2.06.94-2.06 2.06-.94-2.06-.94-.94-2.06-.94 2.06-2.06.94z\"/><path d=\"M17.41 7.96l-1.37-1.37c-.4-.4-.92-.59-1.43-.59-.52 0-1.04.2-1.43.59L10.3 9.45l-7.72 7.72c-.78.78-.78 2.05 0 2.83L4 21.41c.39.39.9.59 1.41.59.51 0 1.02-.2 1.41-.59l7.78-7.78 2.81-2.81c.8-.78.8-2.07 0-2.86zM5.41 20L4 18.59l7.72-7.72 1.47 1.35L5.41 20z\"/>\n",
              "  </svg>\n",
              "      </button>\n",
              "      \n",
              "  <style>\n",
              "    .colab-df-container {\n",
              "      display:flex;\n",
              "      flex-wrap:wrap;\n",
              "      gap: 12px;\n",
              "    }\n",
              "\n",
              "    .colab-df-convert {\n",
              "      background-color: #E8F0FE;\n",
              "      border: none;\n",
              "      border-radius: 50%;\n",
              "      cursor: pointer;\n",
              "      display: none;\n",
              "      fill: #1967D2;\n",
              "      height: 32px;\n",
              "      padding: 0 0 0 0;\n",
              "      width: 32px;\n",
              "    }\n",
              "\n",
              "    .colab-df-convert:hover {\n",
              "      background-color: #E2EBFA;\n",
              "      box-shadow: 0px 1px 2px rgba(60, 64, 67, 0.3), 0px 1px 3px 1px rgba(60, 64, 67, 0.15);\n",
              "      fill: #174EA6;\n",
              "    }\n",
              "\n",
              "    [theme=dark] .colab-df-convert {\n",
              "      background-color: #3B4455;\n",
              "      fill: #D2E3FC;\n",
              "    }\n",
              "\n",
              "    [theme=dark] .colab-df-convert:hover {\n",
              "      background-color: #434B5C;\n",
              "      box-shadow: 0px 1px 3px 1px rgba(0, 0, 0, 0.15);\n",
              "      filter: drop-shadow(0px 1px 2px rgba(0, 0, 0, 0.3));\n",
              "      fill: #FFFFFF;\n",
              "    }\n",
              "  </style>\n",
              "\n",
              "      <script>\n",
              "        const buttonEl =\n",
              "          document.querySelector('#df-290609e1-8f16-4fdf-bb69-047914b88b88 button.colab-df-convert');\n",
              "        buttonEl.style.display =\n",
              "          google.colab.kernel.accessAllowed ? 'block' : 'none';\n",
              "\n",
              "        async function convertToInteractive(key) {\n",
              "          const element = document.querySelector('#df-290609e1-8f16-4fdf-bb69-047914b88b88');\n",
              "          const dataTable =\n",
              "            await google.colab.kernel.invokeFunction('convertToInteractive',\n",
              "                                                     [key], {});\n",
              "          if (!dataTable) return;\n",
              "\n",
              "          const docLinkHtml = 'Like what you see? Visit the ' +\n",
              "            '<a target=\"_blank\" href=https://colab.research.google.com/notebooks/data_table.ipynb>data table notebook</a>'\n",
              "            + ' to learn more about interactive tables.';\n",
              "          element.innerHTML = '';\n",
              "          dataTable['output_type'] = 'display_data';\n",
              "          await google.colab.output.renderOutput(dataTable, element);\n",
              "          const docLink = document.createElement('div');\n",
              "          docLink.innerHTML = docLinkHtml;\n",
              "          element.appendChild(docLink);\n",
              "        }\n",
              "      </script>\n",
              "    </div>\n",
              "  </div>\n",
              "  "
            ]
          },
          "metadata": {},
          "execution_count": 6
        }
      ],
      "source": [
        "data_train_all.head()"
      ]
    },
    {
      "cell_type": "markdown",
      "source": [
        "### Useful classes and methods"
      ],
      "metadata": {
        "id": "d0msSS6g_crG"
      }
    },
    {
      "cell_type": "code",
      "source": [
        "class ColumnCategorizer(TransformerMixin, BaseEstimator):\n",
        "    \"\"\"Creates new categorical features using continuous columns\n",
        "    \n",
        "    Requires \n",
        "    - quantiles list\n",
        "    - columns to transform\n",
        "    - new columns names\n",
        "    \"\"\"\n",
        "    \n",
        "\n",
        "    def __init__(self, qs, new_columns, old_columns):\n",
        "        self.qs = qs #quantile list\n",
        "        self.new_columns = new_columns #columns to create\n",
        "        self.old_columns = old_columns #initial continuous columns\n",
        "        self.transformers = {} #transformers storage\n",
        "        \n",
        "\n",
        "    def fit(self, X, y=None):\n",
        "        \"\"\"Fit transformers on a part of the columns\n",
        "        X - train data\n",
        "        \"\"\"\n",
        "        \n",
        "        for column in self.old_columns:\n",
        "            bins = np.unique([X[column].quantile(q=q) for q in self.qs])\n",
        "            labels = [f\"{column}_bin_{l_edge}_{r_edge}\" for (l_edge, r_edge) in zip(bins[:-1], bins[1:])]\n",
        "            self.transformers[column] = sklearn.preprocessing.FunctionTransformer(\n",
        "                                             pd.cut, kw_args={'bins': bins, \n",
        "                                                              'include_lowest': True,\n",
        "                                                              'labels': labels, \n",
        "                                                              'retbins': False}\n",
        "                                                              ) \n",
        "            self.transformers[column].fit(X[column])\n",
        "        return self\n",
        "    \n",
        "\n",
        "    def transform(self, X):\n",
        "        \"\"\"Transform data and return Pandas DataFrame\n",
        "        X - data to transform\n",
        "        \"\"\"\n",
        "        \n",
        "        data_new = X.copy()\n",
        "        for column_old, column_new in zip(self.old_columns, self.new_columns):\n",
        "            data_new[column_new] = self.transformers[column_old].transform(data_new[column_old]).values\n",
        "        return data_new\n",
        "\n",
        "\n",
        "def names_to_cats(data_to_transform, cols):\n",
        "    \"\"\"Transform numeric categories using names of features\n",
        "    \n",
        "    data_to_transform - data to transform\n",
        "    cols - columns to change\n",
        "    \"\"\"\n",
        "\n",
        "    data_new = data_to_transform.copy()\n",
        "    for col in cols:\n",
        "        data_new[col] = data_new[col].apply(lambda x: f\"{col}_{x}\").values\n",
        "    return data_new"
      ],
      "metadata": {
        "id": "DezJQmrH_uvW"
      },
      "execution_count": null,
      "outputs": []
    },
    {
      "cell_type": "code",
      "execution_count": null,
      "metadata": {
        "id": "7qzUVOIYwu_U"
      },
      "outputs": [],
      "source": [
        "def get_lfm_dataset_obj(data_in, \n",
        "                        cat_cols_to_change,\n",
        "                        user_fe_cols,\n",
        "                        item_fe_cols,\n",
        "                        user_id_column,\n",
        "                        item_id_column,\n",
        "                        user_identity_features=True,\n",
        "                        item_identity_features=True):\n",
        "    \"\"\"Get lightfm dataset object from initial data\n",
        "    It's useful for further getting mappings \n",
        "\n",
        "    data_in - initial pandas DataFrame to use\n",
        "    cat_cols_to_change - columns to change via names_to_cats() method\n",
        "    user_fe_cols - user features columns WITHOUT the id columns\n",
        "    item_fe_cols - item features columns WITHOUT the id columns\n",
        "    user_id_column - user id column\n",
        "    item_id_column - item id column\n",
        "    user_identity_features - consider user id as a feature?\n",
        "    item_identity_features - consider item id as a feature?\n",
        "    \"\"\"\n",
        "\n",
        "    data_prep = names_to_cats(data_in, cat_cols_to_change)\n",
        "\n",
        "    user_fe_data = data_prep[user_fe_cols].values\n",
        "    item_fe_data = data_prep[item_fe_cols].values\n",
        "    user_id = data_prep[user_id_column].values.ravel()\n",
        "    item_id = data_prep[item_id_column].values.ravel()\n",
        "\n",
        "\n",
        "    dataset = data.Dataset(user_identity_features=user_identity_features,\n",
        "                           item_identity_features=item_identity_features)\n",
        "    dataset.fit(users=user_id, items=item_id,\n",
        "                user_features=user_fe_data.T.ravel(),\n",
        "                item_features=item_fe_data.T.ravel())\n",
        "    \n",
        "    return dataset\n",
        "\n",
        "\n",
        "def get_mappings(dataset):\n",
        "    \"\"\"Prepare the mappings\n",
        "\n",
        "    dataset - lightfm dataset object\n",
        "    \"\"\"\n",
        "\n",
        "    result_dict = {}\n",
        "    result_dict[\"user_id_mapping\"] = dataset.mapping()[0]\n",
        "    result_dict[\"item_id_mapping\"] = dataset.mapping()[2]\n",
        "    result_dict[\"user_fename_intid_mapping\"] = dataset._user_feature_mapping\n",
        "    result_dict[\"item_fename_intid_mapping\"] = dataset._item_feature_mapping\n",
        "    return result_dict\n",
        "\n",
        "\n",
        "def get_user_item_interactions(data_in, dataset,\n",
        "                               user_id_column,\n",
        "                               item_id_column):\n",
        "    \"\"\"Get users-items interaction matrix\n",
        "\n",
        "    data_in - train data\n",
        "    dataset - lightfm dataset object\n",
        "    user_id_column/item_id_column - user/item id columnd\n",
        "    \"\"\"\n",
        "    \n",
        "    user_id = data_in[user_id_column].values.ravel()\n",
        "    item_id = data_in[item_id_column].values.ravel()\n",
        "    interactions, _ = dataset.build_interactions(((x[0], x[1]) for x \\\n",
        "                                                    in zip(user_id, item_id)))\n",
        "    return interactions.tocsr()\n",
        "\n",
        "\n",
        "def features_to_indices(df, columns, feature_to_index, unknown_id):  \n",
        "    \"\"\"Convert initial dataframe into sequences of indices \n",
        "    from feature_to_index vocab\n",
        "\n",
        "    df - data to convert\n",
        "    columns - columns to use\n",
        "    feature_to_index - vocabulary\n",
        "    unknown_id - the value in feature_to_index for unknown values\n",
        "    \"\"\"\n",
        "\n",
        "    X = df[columns].values\n",
        "    m = X.shape[0]   # number of examples\n",
        "    max_len = X.shape[1] \n",
        "    X_indices = np.zeros((m, max_len))\n",
        "    \n",
        "    for i in range(m):\n",
        "        j = 0\n",
        "        for feature in X[i]:\n",
        "            # Set the (i,j)th entry of X_indices to the index of the correct token.\n",
        "            try:\n",
        "              X_indices[i, j] = feature_to_index[feature]\n",
        "            except:\n",
        "              X_indices[i, j] = feature_to_index[unknown_id]\n",
        "            j = j + 1\n",
        "       \n",
        "    return X_indices\n",
        "\n",
        "\n",
        "def get_interactions_train_id_mappings(mappings, \n",
        "                                     users_unique, \n",
        "                                     items_unique,\n",
        "                                     user_id_column,\n",
        "                                     item_id_column):\n",
        "    \"\"\"Get mappings between interactions ids \n",
        "    and ohe features ids\n",
        "\n",
        "    mappings - mappings from lfm dataset\n",
        "    users_unique - unique users features DataFrame (WITH id column)\n",
        "    items_unique - unique items features DataFrame (WITH id column)\n",
        "    user_id_column - user id column name\n",
        "    item_id_column - item id column name\n",
        "    \"\"\"\n",
        "    \n",
        "    result_dict = {}\n",
        "\n",
        "    users_iid_eid_mapping = {value: key for key, value in mappings[\"user_id_mapping\"].items()}\n",
        "    items_iid_eid_mapping = {value: key for key, value in mappings[\"item_id_mapping\"].items()}\n",
        "\n",
        "    users_eid_train_id_mapping = {value: key for key, value in users_unique[user_id_column].to_dict().items()}\n",
        "    items_eid_train_id_mapping = {value: key for key, value in items_unique[item_id_column].to_dict().items()}\n",
        "\n",
        "    result_dict[\"users_iid_train_id_mapping\"] = {key: users_eid_train_id_mapping[value] \\\n",
        "                                              for key, value in users_iid_eid_mapping.items()}\n",
        "    result_dict[\"items_iid_train_id_mapping\"] = {key: items_eid_train_id_mapping[value] \\\n",
        "                                              for key, value in items_iid_eid_mapping.items()}\n",
        "    \n",
        "    return result_dict"
      ]
    },
    {
      "cell_type": "markdown",
      "source": [
        "### Data preparation"
      ],
      "metadata": {
        "id": "aPduyY0iAhIH"
      }
    },
    {
      "cell_type": "code",
      "execution_count": null,
      "metadata": {
        "id": "Bj3IusjkslCf"
      },
      "outputs": [],
      "source": [
        "user_fe_cols = [\"city\", \"gender\", \"bd\"]\n",
        "item_fe_cols = [\"genre_ids\", \"artist_name\", \"composer\", \"language\"]\n",
        "user_id_column = \"msno\"\n",
        "item_id_column = \"song_id\"\n",
        "\n",
        "#Other lists of features\n",
        "cat_cols_to_change = [\"genre_ids\", \"language\", \"city\"] #columns to add name to value\n",
        "numeric_cols = [\"bd\"] #this columns will be categorized\n",
        "\n",
        "#Columns in the result dataframe\n",
        "result_cols = [user_id_column, item_id_column, \"target\"]"
      ]
    },
    {
      "cell_type": "code",
      "execution_count": null,
      "metadata": {
        "id": "6a2dwjY_LeOe",
        "colab": {
          "base_uri": "https://localhost:8080/"
        },
        "outputId": "fe66cf6b-ca5a-4e1f-dc14-a1f1b10d2aab"
      },
      "outputs": [
        {
          "output_type": "execute_result",
          "data": {
            "text/plain": [
              "ColumnCategorizer(new_columns=['bd'], old_columns=['bd'],\n",
              "                  qs=array([0. , 0.1, 0.2, 0.3, 0.4, 0.5, 0.6, 0.7, 0.8, 0.9, 1. ]))"
            ]
          },
          "metadata": {},
          "execution_count": 10
        }
      ],
      "source": [
        "#####\n",
        "#quantile list for categorization\n",
        "QS = np.linspace(0, 1, 11, endpoint=True)\n",
        "#####\n",
        "\n",
        "categorizer = ColumnCategorizer(qs=QS, \n",
        "                                new_columns=numeric_cols, \n",
        "                                old_columns=numeric_cols)\n",
        "categorizer.fit(data_train_all)"
      ]
    },
    {
      "cell_type": "markdown",
      "source": [
        "Numeric features preparation"
      ],
      "metadata": {
        "id": "1Tpsa2RFAlwr"
      }
    },
    {
      "cell_type": "code",
      "execution_count": null,
      "metadata": {
        "id": "nL3Qi8RZAw8q",
        "colab": {
          "base_uri": "https://localhost:8080/",
          "height": 374
        },
        "outputId": "5ee292c3-ca71-439b-b95f-bf79af3b0dc6"
      },
      "outputs": [
        {
          "output_type": "execute_result",
          "data": {
            "text/plain": [
              "                                           msno  \\\n",
              "0  xvCGZ5McgEJlkYx2HNO1/CkD1CYjlA/gQL36iX8TYBY=   \n",
              "1  jOlB9i8NKGG2oudUKq9ObRyt3sXQnWWwcei1+s8sNIA=   \n",
              "2  fe+6batTKL/NxXhhzfDO3yBUmFmQUQAgRpYmF2T0t4E=   \n",
              "3  GVcP7SPQ/IgiEt2uxaXaRH5lFA5tBe8T74/Etk7cnG8=   \n",
              "4  XIfoYUt6vkAqVDRKJRVEHkV0jsaD+fif2EqxsobpEqg=   \n",
              "\n",
              "                                        song_id source_system_tab  \\\n",
              "0  868uXMrBS8WwQulNX0W+vk6sJA6Hs35YNtFYceXgX/I=             radio   \n",
              "1  a4TbK5V15pj3YZUOGa9h2U3t0OsE+3aiFw41mNlcgcw=        my library   \n",
              "2  5RLsVkl6PTt3pIyWvojM0z2LblVysXHxoc7Mc4LIFL8=        my library   \n",
              "3  7Xxzo9Z584Z1AhkaLLWEcpzcEuxcquGE52Ztc4879YI=          discover   \n",
              "4  rA+H/y66yC2qK0v926aWRFWngwJmL+IhGhJN4fBS0XM=             radio   \n",
              "\n",
              "     source_screen_name      source_type  target  song_length genre_ids  \\\n",
              "0                 Radio            radio       0     255373.0       465   \n",
              "1   Local playlist more    local-library       1     248790.0       465   \n",
              "2   Local playlist more    local-library       1     178887.0       921   \n",
              "3  Online playlist more  online-playlist       1     275136.0       465   \n",
              "4                 Radio            radio       0     243983.0       465   \n",
              "\n",
              "           artist_name composer lyricist  language  \\\n",
              "0                  張震嶽      NaN      NaN       3.0   \n",
              "1        吳汶芳 (Fang Wu)      吳汶芳      吳汶芳       3.0   \n",
              "2          Noel Coward      NaN      NaN      52.0   \n",
              "3           田馥甄 (Hebe)      楊子樸      施人誠       3.0   \n",
              "4  范瑋琪 (Christine Fan)      陳小霞      姚若龍       3.0   \n",
              "\n",
              "                             name          isrc  city  bd  gender  \\\n",
              "0                              勇氣  TWA450479802     1   0     NaN   \n",
              "1  孤獨的總和 (Accumulated Loneliness)  TWA211328806    13  31  female   \n",
              "2           Poor Little Rich Girl  USV291338277     5  33  female   \n",
              "3                          寂寞寂寞就好  TWD951043107     1   0     NaN   \n",
              "4                          最重要的決定  TWA211125202     5  22  female   \n",
              "\n",
              "   registered_via registration_init_time expiration_date  \n",
              "0               7             2013-05-14      2017-09-24  \n",
              "1               9             2011-04-19      2017-06-20  \n",
              "2               9             2008-08-05      2017-10-06  \n",
              "3               7             2011-02-25      2017-09-12  \n",
              "4               7             2013-07-29      2017-09-30  "
            ],
            "text/html": [
              "\n",
              "  <div id=\"df-51d0c101-500a-4151-9a90-29da7a445dfa\">\n",
              "    <div class=\"colab-df-container\">\n",
              "      <div>\n",
              "<style scoped>\n",
              "    .dataframe tbody tr th:only-of-type {\n",
              "        vertical-align: middle;\n",
              "    }\n",
              "\n",
              "    .dataframe tbody tr th {\n",
              "        vertical-align: top;\n",
              "    }\n",
              "\n",
              "    .dataframe thead th {\n",
              "        text-align: right;\n",
              "    }\n",
              "</style>\n",
              "<table border=\"1\" class=\"dataframe\">\n",
              "  <thead>\n",
              "    <tr style=\"text-align: right;\">\n",
              "      <th></th>\n",
              "      <th>msno</th>\n",
              "      <th>song_id</th>\n",
              "      <th>source_system_tab</th>\n",
              "      <th>source_screen_name</th>\n",
              "      <th>source_type</th>\n",
              "      <th>target</th>\n",
              "      <th>song_length</th>\n",
              "      <th>genre_ids</th>\n",
              "      <th>artist_name</th>\n",
              "      <th>composer</th>\n",
              "      <th>lyricist</th>\n",
              "      <th>language</th>\n",
              "      <th>name</th>\n",
              "      <th>isrc</th>\n",
              "      <th>city</th>\n",
              "      <th>bd</th>\n",
              "      <th>gender</th>\n",
              "      <th>registered_via</th>\n",
              "      <th>registration_init_time</th>\n",
              "      <th>expiration_date</th>\n",
              "    </tr>\n",
              "  </thead>\n",
              "  <tbody>\n",
              "    <tr>\n",
              "      <th>0</th>\n",
              "      <td>xvCGZ5McgEJlkYx2HNO1/CkD1CYjlA/gQL36iX8TYBY=</td>\n",
              "      <td>868uXMrBS8WwQulNX0W+vk6sJA6Hs35YNtFYceXgX/I=</td>\n",
              "      <td>radio</td>\n",
              "      <td>Radio</td>\n",
              "      <td>radio</td>\n",
              "      <td>0</td>\n",
              "      <td>255373.0</td>\n",
              "      <td>465</td>\n",
              "      <td>張震嶽</td>\n",
              "      <td>NaN</td>\n",
              "      <td>NaN</td>\n",
              "      <td>3.0</td>\n",
              "      <td>勇氣</td>\n",
              "      <td>TWA450479802</td>\n",
              "      <td>1</td>\n",
              "      <td>0</td>\n",
              "      <td>NaN</td>\n",
              "      <td>7</td>\n",
              "      <td>2013-05-14</td>\n",
              "      <td>2017-09-24</td>\n",
              "    </tr>\n",
              "    <tr>\n",
              "      <th>1</th>\n",
              "      <td>jOlB9i8NKGG2oudUKq9ObRyt3sXQnWWwcei1+s8sNIA=</td>\n",
              "      <td>a4TbK5V15pj3YZUOGa9h2U3t0OsE+3aiFw41mNlcgcw=</td>\n",
              "      <td>my library</td>\n",
              "      <td>Local playlist more</td>\n",
              "      <td>local-library</td>\n",
              "      <td>1</td>\n",
              "      <td>248790.0</td>\n",
              "      <td>465</td>\n",
              "      <td>吳汶芳 (Fang Wu)</td>\n",
              "      <td>吳汶芳</td>\n",
              "      <td>吳汶芳</td>\n",
              "      <td>3.0</td>\n",
              "      <td>孤獨的總和 (Accumulated Loneliness)</td>\n",
              "      <td>TWA211328806</td>\n",
              "      <td>13</td>\n",
              "      <td>31</td>\n",
              "      <td>female</td>\n",
              "      <td>9</td>\n",
              "      <td>2011-04-19</td>\n",
              "      <td>2017-06-20</td>\n",
              "    </tr>\n",
              "    <tr>\n",
              "      <th>2</th>\n",
              "      <td>fe+6batTKL/NxXhhzfDO3yBUmFmQUQAgRpYmF2T0t4E=</td>\n",
              "      <td>5RLsVkl6PTt3pIyWvojM0z2LblVysXHxoc7Mc4LIFL8=</td>\n",
              "      <td>my library</td>\n",
              "      <td>Local playlist more</td>\n",
              "      <td>local-library</td>\n",
              "      <td>1</td>\n",
              "      <td>178887.0</td>\n",
              "      <td>921</td>\n",
              "      <td>Noel Coward</td>\n",
              "      <td>NaN</td>\n",
              "      <td>NaN</td>\n",
              "      <td>52.0</td>\n",
              "      <td>Poor Little Rich Girl</td>\n",
              "      <td>USV291338277</td>\n",
              "      <td>5</td>\n",
              "      <td>33</td>\n",
              "      <td>female</td>\n",
              "      <td>9</td>\n",
              "      <td>2008-08-05</td>\n",
              "      <td>2017-10-06</td>\n",
              "    </tr>\n",
              "    <tr>\n",
              "      <th>3</th>\n",
              "      <td>GVcP7SPQ/IgiEt2uxaXaRH5lFA5tBe8T74/Etk7cnG8=</td>\n",
              "      <td>7Xxzo9Z584Z1AhkaLLWEcpzcEuxcquGE52Ztc4879YI=</td>\n",
              "      <td>discover</td>\n",
              "      <td>Online playlist more</td>\n",
              "      <td>online-playlist</td>\n",
              "      <td>1</td>\n",
              "      <td>275136.0</td>\n",
              "      <td>465</td>\n",
              "      <td>田馥甄 (Hebe)</td>\n",
              "      <td>楊子樸</td>\n",
              "      <td>施人誠</td>\n",
              "      <td>3.0</td>\n",
              "      <td>寂寞寂寞就好</td>\n",
              "      <td>TWD951043107</td>\n",
              "      <td>1</td>\n",
              "      <td>0</td>\n",
              "      <td>NaN</td>\n",
              "      <td>7</td>\n",
              "      <td>2011-02-25</td>\n",
              "      <td>2017-09-12</td>\n",
              "    </tr>\n",
              "    <tr>\n",
              "      <th>4</th>\n",
              "      <td>XIfoYUt6vkAqVDRKJRVEHkV0jsaD+fif2EqxsobpEqg=</td>\n",
              "      <td>rA+H/y66yC2qK0v926aWRFWngwJmL+IhGhJN4fBS0XM=</td>\n",
              "      <td>radio</td>\n",
              "      <td>Radio</td>\n",
              "      <td>radio</td>\n",
              "      <td>0</td>\n",
              "      <td>243983.0</td>\n",
              "      <td>465</td>\n",
              "      <td>范瑋琪 (Christine Fan)</td>\n",
              "      <td>陳小霞</td>\n",
              "      <td>姚若龍</td>\n",
              "      <td>3.0</td>\n",
              "      <td>最重要的決定</td>\n",
              "      <td>TWA211125202</td>\n",
              "      <td>5</td>\n",
              "      <td>22</td>\n",
              "      <td>female</td>\n",
              "      <td>7</td>\n",
              "      <td>2013-07-29</td>\n",
              "      <td>2017-09-30</td>\n",
              "    </tr>\n",
              "  </tbody>\n",
              "</table>\n",
              "</div>\n",
              "      <button class=\"colab-df-convert\" onclick=\"convertToInteractive('df-51d0c101-500a-4151-9a90-29da7a445dfa')\"\n",
              "              title=\"Convert this dataframe to an interactive table.\"\n",
              "              style=\"display:none;\">\n",
              "        \n",
              "  <svg xmlns=\"http://www.w3.org/2000/svg\" height=\"24px\"viewBox=\"0 0 24 24\"\n",
              "       width=\"24px\">\n",
              "    <path d=\"M0 0h24v24H0V0z\" fill=\"none\"/>\n",
              "    <path d=\"M18.56 5.44l.94 2.06.94-2.06 2.06-.94-2.06-.94-.94-2.06-.94 2.06-2.06.94zm-11 1L8.5 8.5l.94-2.06 2.06-.94-2.06-.94L8.5 2.5l-.94 2.06-2.06.94zm10 10l.94 2.06.94-2.06 2.06-.94-2.06-.94-.94-2.06-.94 2.06-2.06.94z\"/><path d=\"M17.41 7.96l-1.37-1.37c-.4-.4-.92-.59-1.43-.59-.52 0-1.04.2-1.43.59L10.3 9.45l-7.72 7.72c-.78.78-.78 2.05 0 2.83L4 21.41c.39.39.9.59 1.41.59.51 0 1.02-.2 1.41-.59l7.78-7.78 2.81-2.81c.8-.78.8-2.07 0-2.86zM5.41 20L4 18.59l7.72-7.72 1.47 1.35L5.41 20z\"/>\n",
              "  </svg>\n",
              "      </button>\n",
              "      \n",
              "  <style>\n",
              "    .colab-df-container {\n",
              "      display:flex;\n",
              "      flex-wrap:wrap;\n",
              "      gap: 12px;\n",
              "    }\n",
              "\n",
              "    .colab-df-convert {\n",
              "      background-color: #E8F0FE;\n",
              "      border: none;\n",
              "      border-radius: 50%;\n",
              "      cursor: pointer;\n",
              "      display: none;\n",
              "      fill: #1967D2;\n",
              "      height: 32px;\n",
              "      padding: 0 0 0 0;\n",
              "      width: 32px;\n",
              "    }\n",
              "\n",
              "    .colab-df-convert:hover {\n",
              "      background-color: #E2EBFA;\n",
              "      box-shadow: 0px 1px 2px rgba(60, 64, 67, 0.3), 0px 1px 3px 1px rgba(60, 64, 67, 0.15);\n",
              "      fill: #174EA6;\n",
              "    }\n",
              "\n",
              "    [theme=dark] .colab-df-convert {\n",
              "      background-color: #3B4455;\n",
              "      fill: #D2E3FC;\n",
              "    }\n",
              "\n",
              "    [theme=dark] .colab-df-convert:hover {\n",
              "      background-color: #434B5C;\n",
              "      box-shadow: 0px 1px 3px 1px rgba(0, 0, 0, 0.15);\n",
              "      filter: drop-shadow(0px 1px 2px rgba(0, 0, 0, 0.3));\n",
              "      fill: #FFFFFF;\n",
              "    }\n",
              "  </style>\n",
              "\n",
              "      <script>\n",
              "        const buttonEl =\n",
              "          document.querySelector('#df-51d0c101-500a-4151-9a90-29da7a445dfa button.colab-df-convert');\n",
              "        buttonEl.style.display =\n",
              "          google.colab.kernel.accessAllowed ? 'block' : 'none';\n",
              "\n",
              "        async function convertToInteractive(key) {\n",
              "          const element = document.querySelector('#df-51d0c101-500a-4151-9a90-29da7a445dfa');\n",
              "          const dataTable =\n",
              "            await google.colab.kernel.invokeFunction('convertToInteractive',\n",
              "                                                     [key], {});\n",
              "          if (!dataTable) return;\n",
              "\n",
              "          const docLinkHtml = 'Like what you see? Visit the ' +\n",
              "            '<a target=\"_blank\" href=https://colab.research.google.com/notebooks/data_table.ipynb>data table notebook</a>'\n",
              "            + ' to learn more about interactive tables.';\n",
              "          element.innerHTML = '';\n",
              "          dataTable['output_type'] = 'display_data';\n",
              "          await google.colab.output.renderOutput(dataTable, element);\n",
              "          const docLink = document.createElement('div');\n",
              "          docLink.innerHTML = docLinkHtml;\n",
              "          element.appendChild(docLink);\n",
              "        }\n",
              "      </script>\n",
              "    </div>\n",
              "  </div>\n",
              "  "
            ]
          },
          "metadata": {},
          "execution_count": 11
        }
      ],
      "source": [
        "data_train_fin = categorizer.transform(data_train_all)\n",
        "data_test_fin = categorizer.transform(data_test)\n",
        "data_val_fin = categorizer.transform(data_val)\n",
        "cold_users_data_fin = categorizer.transform(cold_users_data)\n",
        "cold_items_data_fin = categorizer.transform(cold_items_data)\n",
        "data_train_all.head()"
      ]
    },
    {
      "cell_type": "markdown",
      "source": [
        "Get interactions matrix and prepare train categorical columns"
      ],
      "metadata": {
        "id": "rNDnDBJXAp7h"
      }
    },
    {
      "cell_type": "code",
      "execution_count": null,
      "metadata": {
        "id": "nXfEzZmS2YyL"
      },
      "outputs": [],
      "source": [
        "lfm_dataset = get_lfm_dataset_obj(data_train_fin[data_train_fin.target==1], \n",
        "                                  cat_cols_to_change,\n",
        "                                  user_fe_cols,\n",
        "                                  item_fe_cols,\n",
        "                                  user_id_column,\n",
        "                                  item_id_column,\n",
        "                                  user_identity_features=True,\n",
        "                                  item_identity_features=True)"
      ]
    },
    {
      "cell_type": "code",
      "execution_count": null,
      "metadata": {
        "colab": {
          "base_uri": "https://localhost:8080/"
        },
        "id": "eqWEkUPt-Qjg",
        "outputId": "caca294f-4221-4503-d9de-6ad3932a5f63"
      },
      "outputs": [
        {
          "output_type": "execute_result",
          "data": {
            "text/plain": [
              "<24035x180541 sparse matrix of type '<class 'numpy.int32'>'\n",
              "\twith 2539875 stored elements in Compressed Sparse Row format>"
            ]
          },
          "metadata": {},
          "execution_count": 13
        }
      ],
      "source": [
        "interactions = get_user_item_interactions(data_train_fin[data_train_fin.target==1], lfm_dataset,\n",
        "                                          user_id_column,\n",
        "                                          item_id_column)\n",
        "interactions"
      ]
    },
    {
      "cell_type": "code",
      "execution_count": null,
      "metadata": {
        "id": "ERSlNs-P21OF",
        "colab": {
          "base_uri": "https://localhost:8080/"
        },
        "outputId": "241d22b5-380f-4acb-9eff-2f3fc6e2d39e"
      },
      "outputs": [
        {
          "output_type": "execute_result",
          "data": {
            "text/plain": [
              "(24067, 244620)"
            ]
          },
          "metadata": {},
          "execution_count": 14
        }
      ],
      "source": [
        "mappings = get_mappings(lfm_dataset)\n",
        "len(mappings[\"user_fename_intid_mapping\"]), len(mappings[\"item_fename_intid_mapping\"])"
      ]
    },
    {
      "cell_type": "code",
      "execution_count": null,
      "metadata": {
        "id": "eJC0-wRHtEtJ",
        "colab": {
          "base_uri": "https://localhost:8080/",
          "height": 354
        },
        "outputId": "3171afc4-931a-4274-c233-acb8ab2f9b95"
      },
      "outputs": [
        {
          "output_type": "execute_result",
          "data": {
            "text/plain": [
              "               genre_ids               artist_name  \\\n",
              "0          genre_ids_465             吳汶芳 (Fang Wu)   \n",
              "1          genre_ids_921               Noel Coward   \n",
              "2          genre_ids_465                田馥甄 (Hebe)   \n",
              "3  genre_ids_139|125|109                  Al Green   \n",
              "4          genre_ids_444  Girls' Generation (少女時代)   \n",
              "\n",
              "                                            composer       language  \\\n",
              "0                                                吳汶芳   language_3.0   \n",
              "1                                                NaN  language_52.0   \n",
              "2                                                楊子樸   language_3.0   \n",
              "3                                           Al Green  language_52.0   \n",
              "4  Cho Yun Kyoung| Kim Hee Jung| Harvey Mason Jr....  language_31.0   \n",
              "\n",
              "                                        song_id  \n",
              "0  a4TbK5V15pj3YZUOGa9h2U3t0OsE+3aiFw41mNlcgcw=  \n",
              "1  5RLsVkl6PTt3pIyWvojM0z2LblVysXHxoc7Mc4LIFL8=  \n",
              "2  7Xxzo9Z584Z1AhkaLLWEcpzcEuxcquGE52Ztc4879YI=  \n",
              "3  XywiBSwrlFPkeg1pNJcH99AxP8loYVD8Twr+WrjjqxM=  \n",
              "4  yiaUAbtf5E8J/aLzeDe3V/zT/sXzbZiIE3m/JvEB1jI=  "
            ],
            "text/html": [
              "\n",
              "  <div id=\"df-186aee3f-7578-4086-9a07-6329041f9755\">\n",
              "    <div class=\"colab-df-container\">\n",
              "      <div>\n",
              "<style scoped>\n",
              "    .dataframe tbody tr th:only-of-type {\n",
              "        vertical-align: middle;\n",
              "    }\n",
              "\n",
              "    .dataframe tbody tr th {\n",
              "        vertical-align: top;\n",
              "    }\n",
              "\n",
              "    .dataframe thead th {\n",
              "        text-align: right;\n",
              "    }\n",
              "</style>\n",
              "<table border=\"1\" class=\"dataframe\">\n",
              "  <thead>\n",
              "    <tr style=\"text-align: right;\">\n",
              "      <th></th>\n",
              "      <th>genre_ids</th>\n",
              "      <th>artist_name</th>\n",
              "      <th>composer</th>\n",
              "      <th>language</th>\n",
              "      <th>song_id</th>\n",
              "    </tr>\n",
              "  </thead>\n",
              "  <tbody>\n",
              "    <tr>\n",
              "      <th>0</th>\n",
              "      <td>genre_ids_465</td>\n",
              "      <td>吳汶芳 (Fang Wu)</td>\n",
              "      <td>吳汶芳</td>\n",
              "      <td>language_3.0</td>\n",
              "      <td>a4TbK5V15pj3YZUOGa9h2U3t0OsE+3aiFw41mNlcgcw=</td>\n",
              "    </tr>\n",
              "    <tr>\n",
              "      <th>1</th>\n",
              "      <td>genre_ids_921</td>\n",
              "      <td>Noel Coward</td>\n",
              "      <td>NaN</td>\n",
              "      <td>language_52.0</td>\n",
              "      <td>5RLsVkl6PTt3pIyWvojM0z2LblVysXHxoc7Mc4LIFL8=</td>\n",
              "    </tr>\n",
              "    <tr>\n",
              "      <th>2</th>\n",
              "      <td>genre_ids_465</td>\n",
              "      <td>田馥甄 (Hebe)</td>\n",
              "      <td>楊子樸</td>\n",
              "      <td>language_3.0</td>\n",
              "      <td>7Xxzo9Z584Z1AhkaLLWEcpzcEuxcquGE52Ztc4879YI=</td>\n",
              "    </tr>\n",
              "    <tr>\n",
              "      <th>3</th>\n",
              "      <td>genre_ids_139|125|109</td>\n",
              "      <td>Al Green</td>\n",
              "      <td>Al Green</td>\n",
              "      <td>language_52.0</td>\n",
              "      <td>XywiBSwrlFPkeg1pNJcH99AxP8loYVD8Twr+WrjjqxM=</td>\n",
              "    </tr>\n",
              "    <tr>\n",
              "      <th>4</th>\n",
              "      <td>genre_ids_444</td>\n",
              "      <td>Girls' Generation (少女時代)</td>\n",
              "      <td>Cho Yun Kyoung| Kim Hee Jung| Harvey Mason Jr....</td>\n",
              "      <td>language_31.0</td>\n",
              "      <td>yiaUAbtf5E8J/aLzeDe3V/zT/sXzbZiIE3m/JvEB1jI=</td>\n",
              "    </tr>\n",
              "  </tbody>\n",
              "</table>\n",
              "</div>\n",
              "      <button class=\"colab-df-convert\" onclick=\"convertToInteractive('df-186aee3f-7578-4086-9a07-6329041f9755')\"\n",
              "              title=\"Convert this dataframe to an interactive table.\"\n",
              "              style=\"display:none;\">\n",
              "        \n",
              "  <svg xmlns=\"http://www.w3.org/2000/svg\" height=\"24px\"viewBox=\"0 0 24 24\"\n",
              "       width=\"24px\">\n",
              "    <path d=\"M0 0h24v24H0V0z\" fill=\"none\"/>\n",
              "    <path d=\"M18.56 5.44l.94 2.06.94-2.06 2.06-.94-2.06-.94-.94-2.06-.94 2.06-2.06.94zm-11 1L8.5 8.5l.94-2.06 2.06-.94-2.06-.94L8.5 2.5l-.94 2.06-2.06.94zm10 10l.94 2.06.94-2.06 2.06-.94-2.06-.94-.94-2.06-.94 2.06-2.06.94z\"/><path d=\"M17.41 7.96l-1.37-1.37c-.4-.4-.92-.59-1.43-.59-.52 0-1.04.2-1.43.59L10.3 9.45l-7.72 7.72c-.78.78-.78 2.05 0 2.83L4 21.41c.39.39.9.59 1.41.59.51 0 1.02-.2 1.41-.59l7.78-7.78 2.81-2.81c.8-.78.8-2.07 0-2.86zM5.41 20L4 18.59l7.72-7.72 1.47 1.35L5.41 20z\"/>\n",
              "  </svg>\n",
              "      </button>\n",
              "      \n",
              "  <style>\n",
              "    .colab-df-container {\n",
              "      display:flex;\n",
              "      flex-wrap:wrap;\n",
              "      gap: 12px;\n",
              "    }\n",
              "\n",
              "    .colab-df-convert {\n",
              "      background-color: #E8F0FE;\n",
              "      border: none;\n",
              "      border-radius: 50%;\n",
              "      cursor: pointer;\n",
              "      display: none;\n",
              "      fill: #1967D2;\n",
              "      height: 32px;\n",
              "      padding: 0 0 0 0;\n",
              "      width: 32px;\n",
              "    }\n",
              "\n",
              "    .colab-df-convert:hover {\n",
              "      background-color: #E2EBFA;\n",
              "      box-shadow: 0px 1px 2px rgba(60, 64, 67, 0.3), 0px 1px 3px 1px rgba(60, 64, 67, 0.15);\n",
              "      fill: #174EA6;\n",
              "    }\n",
              "\n",
              "    [theme=dark] .colab-df-convert {\n",
              "      background-color: #3B4455;\n",
              "      fill: #D2E3FC;\n",
              "    }\n",
              "\n",
              "    [theme=dark] .colab-df-convert:hover {\n",
              "      background-color: #434B5C;\n",
              "      box-shadow: 0px 1px 3px 1px rgba(0, 0, 0, 0.15);\n",
              "      filter: drop-shadow(0px 1px 2px rgba(0, 0, 0, 0.3));\n",
              "      fill: #FFFFFF;\n",
              "    }\n",
              "  </style>\n",
              "\n",
              "      <script>\n",
              "        const buttonEl =\n",
              "          document.querySelector('#df-186aee3f-7578-4086-9a07-6329041f9755 button.colab-df-convert');\n",
              "        buttonEl.style.display =\n",
              "          google.colab.kernel.accessAllowed ? 'block' : 'none';\n",
              "\n",
              "        async function convertToInteractive(key) {\n",
              "          const element = document.querySelector('#df-186aee3f-7578-4086-9a07-6329041f9755');\n",
              "          const dataTable =\n",
              "            await google.colab.kernel.invokeFunction('convertToInteractive',\n",
              "                                                     [key], {});\n",
              "          if (!dataTable) return;\n",
              "\n",
              "          const docLinkHtml = 'Like what you see? Visit the ' +\n",
              "            '<a target=\"_blank\" href=https://colab.research.google.com/notebooks/data_table.ipynb>data table notebook</a>'\n",
              "            + ' to learn more about interactive tables.';\n",
              "          element.innerHTML = '';\n",
              "          dataTable['output_type'] = 'display_data';\n",
              "          await google.colab.output.renderOutput(dataTable, element);\n",
              "          const docLink = document.createElement('div');\n",
              "          docLink.innerHTML = docLinkHtml;\n",
              "          element.appendChild(docLink);\n",
              "        }\n",
              "      </script>\n",
              "    </div>\n",
              "  </div>\n",
              "  "
            ]
          },
          "metadata": {},
          "execution_count": 15
        }
      ],
      "source": [
        "data_train_prep = names_to_cats(data_train_fin[data_train_fin.target==1], cols=cat_cols_to_change)\n",
        "users_unique = data_train_prep[user_fe_cols + [user_id_column]].drop_duplicates().reset_index(drop=True)\n",
        "items_unique = data_train_prep[item_fe_cols + [item_id_column]].drop_duplicates().reset_index(drop=True)\n",
        "items_unique.head()"
      ]
    },
    {
      "cell_type": "markdown",
      "source": [
        "Augment our mappings with unknown tokens"
      ],
      "metadata": {
        "id": "fxOXJSo7L3Cf"
      }
    },
    {
      "cell_type": "code",
      "source": [
        "users_f2i = copy.deepcopy(mappings[\"user_fename_intid_mapping\"])\n",
        "users_f2i[\"USER_UNKN\"] = len(mappings[\"user_fename_intid_mapping\"])\n",
        "items_f2i = copy.deepcopy(mappings[\"item_fename_intid_mapping\"])\n",
        "items_f2i[\"ITEM_UNKN\"] = len(mappings[\"item_fename_intid_mapping\"])"
      ],
      "metadata": {
        "id": "fjQK0BedY9s2"
      },
      "execution_count": null,
      "outputs": []
    },
    {
      "cell_type": "markdown",
      "source": [
        "Get mappings for the batch generation"
      ],
      "metadata": {
        "id": "ys-snIu3BgBw"
      }
    },
    {
      "cell_type": "code",
      "execution_count": null,
      "metadata": {
        "id": "_9lnwLYS81ot",
        "colab": {
          "base_uri": "https://localhost:8080/"
        },
        "outputId": "d5cd6da7-e862-48b4-bf20-5a698933a822"
      },
      "outputs": [
        {
          "output_type": "execute_result",
          "data": {
            "text/plain": [
              "(24035, 180541)"
            ]
          },
          "metadata": {},
          "execution_count": 17
        }
      ],
      "source": [
        "interactions_train_id_mappings = get_interactions_train_id_mappings(mappings, \n",
        "                                                                    users_unique, \n",
        "                                                                    items_unique,\n",
        "                                                                    user_id_column,\n",
        "                                                                    item_id_column)\n",
        "users_iid_train_id_mapping = interactions_train_id_mappings['users_iid_train_id_mapping']\n",
        "items_iid_train_id_mapping = interactions_train_id_mappings['items_iid_train_id_mapping']\n",
        "len(users_iid_train_id_mapping), len(items_iid_train_id_mapping)"
      ]
    },
    {
      "cell_type": "markdown",
      "source": [
        "### Get matrices with ids - our final model inputs"
      ],
      "metadata": {
        "id": "skglwLJ3BQA6"
      }
    },
    {
      "cell_type": "code",
      "source": [
        "users_feats_ids = features_to_indices(users_unique, user_fe_cols+[user_id_column],\n",
        "                                feature_to_index=users_f2i, \n",
        "                                unknown_id=\"USER_UNKN\")\n",
        "items_feats_ids = features_to_indices(items_unique, item_fe_cols+[item_id_column],\n",
        "                                feature_to_index=items_f2i,\n",
        "                                unknown_id=\"ITEM_UNKN\")\n",
        "users_feats_ids.shape, items_feats_ids.shape"
      ],
      "metadata": {
        "id": "5LnKla4_VHzh",
        "colab": {
          "base_uri": "https://localhost:8080/"
        },
        "outputId": "722f4661-723c-47e3-a83f-db7183778f2d"
      },
      "execution_count": null,
      "outputs": [
        {
          "output_type": "execute_result",
          "data": {
            "text/plain": [
              "((24035, 4), (180541, 5))"
            ]
          },
          "metadata": {},
          "execution_count": 18
        }
      ]
    },
    {
      "cell_type": "code",
      "execution_count": null,
      "metadata": {
        "colab": {
          "base_uri": "https://localhost:8080/"
        },
        "id": "oYW6nH4851-9",
        "outputId": "d67731d3-8355-4446-9890-be4f45c128c6"
      },
      "outputs": [
        {
          "output_type": "execute_result",
          "data": {
            "text/plain": [
              "203"
            ]
          },
          "metadata": {},
          "execution_count": 19
        }
      ],
      "source": [
        "del data_train_all, data_train_prep, data_train_fin\n",
        "gc.collect()"
      ]
    },
    {
      "cell_type": "markdown",
      "source": [
        "### Training"
      ],
      "metadata": {
        "id": "N23EvlluB2Io"
      }
    },
    {
      "cell_type": "markdown",
      "source": [
        "First of all, choose embeddings size"
      ],
      "metadata": {
        "id": "iywK3yzCB5lb"
      }
    },
    {
      "cell_type": "code",
      "source": [
        "####\n",
        "EMBEDDINGS_DIM = 200\n",
        "####"
      ],
      "metadata": {
        "id": "CEHSyLcRNgrI"
      },
      "execution_count": null,
      "outputs": []
    },
    {
      "cell_type": "markdown",
      "source": [
        "Then, initialize the loss function and  the batch generator (here are some changes to the previous lesson) "
      ],
      "metadata": {
        "id": "2LGRLK4eCD9x"
      }
    },
    {
      "cell_type": "code",
      "execution_count": null,
      "metadata": {
        "id": "V1NbeYen3ur_"
      },
      "outputs": [],
      "source": [
        "def triplet_loss(y_true, y_pred, n=EMBEDDINGS_DIM, alpha=0.5):\n",
        "    \"\"\"Basic triplet loss implementation, \n",
        "    input params and their order should fit the keras loss interface\n",
        "\n",
        "    y_true- keras interface param, only a patch for correct work\n",
        "    y_pred - keras interface param, concatenated vector\n",
        "    n - embedding dim size\n",
        "    alpha - training parameter\n",
        "    \"\"\"\n",
        "\n",
        "    input_vec = y_pred\n",
        "    anchor = input_vec[:, 0 : n]\n",
        "    positive = input_vec[:, n : 2*n]\n",
        "    negative = input_vec[:, 2*n : 3*n]\n",
        "\n",
        "    p_dist = K.sum(K.square(anchor - positive), axis=1)\n",
        "    n_dist = K.sum(K.square(anchor - negative), axis=1)\n",
        "\n",
        "    loss = K.maximum(p_dist - n_dist + alpha, 0.0)\n",
        " \n",
        "    return loss"
      ]
    },
    {
      "cell_type": "code",
      "source": [
        "def batch_generator_v2(items, users, \n",
        "                      interactions, \n",
        "                      users_iid_train_id_mapping,\n",
        "                      items_iid_train_id_mapping,\n",
        "                      batch_size=512):\n",
        "  \n",
        "    \"\"\"Batch generator method (version for cnn models)\n",
        "    The function randomly chooses the user id, positive and negative items ids\n",
        "    \"batch_size\" times\n",
        "\n",
        "    items - items features\n",
        "    users - users features\n",
        "    interactions - users-items sparse interactions matrix\n",
        "    users_iid_train_id_mapping/items_iid_train_id_mapping - interaction matrix ids \n",
        "          -> features ids mappings \n",
        "    batch_size - the numbers of triplets in a batch\n",
        "    \"\"\"\n",
        "\n",
        "\n",
        "    while True:\n",
        "        uid_features = []\n",
        "        pos = []\n",
        "        neg = []\n",
        "        uid_sample = random.sample(list(range(0, interactions.shape[0] - 1)), batch_size)\n",
        "        user_sample_interactions = interactions[uid_sample].toarray()\n",
        "        prob_dists = user_sample_interactions / np.sum(user_sample_interactions, axis=1, keepdims=True)\n",
        "        pos_i_sample = []\n",
        "        for i in range(batch_size):\n",
        "            pos_i_sample.append(np.random.choice(range(interactions.shape[1]), p=prob_dists[i]))         \n",
        "        neg_i_sample = random.choices(range(interactions.shape[1]), k=batch_size)\n",
        "\n",
        "        user_oheid_sample = []\n",
        "        pos_i_oheid_sample = []\n",
        "        neg_i_oheid_sample = []\n",
        "        for i in range(batch_size):\n",
        "            user_oheid_sample.append(users_iid_train_id_mapping[uid_sample[i]])\n",
        "            pos_i_oheid_sample.append(items_iid_train_id_mapping[pos_i_sample[i]])\n",
        "            neg_i_oheid_sample.append(items_iid_train_id_mapping[neg_i_sample[i]])\n",
        "        \n",
        "        #users features\n",
        "        uid_features.extend(users[user_oheid_sample])\n",
        "        #items features\n",
        "        pos.extend(items[pos_i_oheid_sample])\n",
        "        neg.extend(items[neg_i_oheid_sample])\n",
        "        \n",
        "        gc.collect()\n",
        "            \n",
        "        yield [np.array(uid_features), np.array(pos), np.array(neg)], [np.zeros((batch_size, 1))]"
      ],
      "metadata": {
        "id": "l4AJj7qaJHLI"
      },
      "execution_count": null,
      "outputs": []
    },
    {
      "cell_type": "markdown",
      "source": [
        "#### Check out how the generator works"
      ],
      "metadata": {
        "id": "cxLSxSh7DVEi"
      }
    },
    {
      "cell_type": "code",
      "source": [
        "generator_ex = batch_generator_v2(items=items_feats_ids, \n",
        "                                  users=users_feats_ids, \n",
        "                                  interactions=interactions,\n",
        "                                  users_iid_train_id_mapping=users_iid_train_id_mapping,\n",
        "                                  items_iid_train_id_mapping=items_iid_train_id_mapping)\n",
        "\n",
        "result = next(generator_ex)\n",
        "\n",
        "\n",
        "print(f\"Users batch shape: {result[0][0].shape}\")\n",
        "print(f\"Positive items batch shape: {result[0][1].shape}\")\n",
        "print(f\"Negative items batch shape: {result[0][2].shape}\")\n",
        "print()\n",
        "print(f\"Patch to fit the keras interface: {result[1][0].shape}\")"
      ],
      "metadata": {
        "colab": {
          "base_uri": "https://localhost:8080/"
        },
        "id": "nXpRmawSPr1L",
        "outputId": "90b8dc21-cee8-4eae-ea55-bd0cbdb6462d"
      },
      "execution_count": null,
      "outputs": [
        {
          "output_type": "stream",
          "name": "stdout",
          "text": [
            "Users batch shape: (512, 4)\n",
            "Positive items batch shape: (512, 5)\n",
            "Negative items batch shape: (512, 5)\n",
            "\n",
            "Patch to fit the keras interface: (512, 1)\n"
          ]
        }
      ]
    },
    {
      "cell_type": "markdown",
      "source": [
        "### Initialize our simple dssm model graph"
      ],
      "metadata": {
        "id": "2O1gz02KD1DK"
      }
    },
    {
      "cell_type": "markdown",
      "source": [
        "Here, we'll use 1D convolutional and pooling layers. If you have no experience with such networks, don't worry. Here, are some great links to research :)\n",
        "- https://towardsdatascience.com/intuitively-understanding-convolutions-for-deep-learning-1f6f42faee1\n",
        "- https://towardsdatascience.com/understanding-1d-and-3d-convolution-neural-network-keras-9d8f76e29610\n",
        "- https://www.geeksforgeeks.org/cnn-introduction-to-pooling-layer/#:~:text=Pooling%20layers%20are%20used%20to,generated%20by%20a%20convolution%20layer."
      ],
      "metadata": {
        "id": "9npJVTWTHS7C"
      }
    },
    {
      "cell_type": "markdown",
      "source": [
        "Some input params"
      ],
      "metadata": {
        "id": "zmXFBKH8D4e9"
      }
    },
    {
      "cell_type": "code",
      "source": [
        "####\n",
        "#internal embeddings layer dim size (not the resulting embeddings)\n",
        "INT_EMB_DIM = 300\n",
        "#Conv layers params\n",
        "conv_sc_param = 3\n",
        "kernel_size = 2\n",
        "padding_c = 'same'\n",
        "#Pooling param\n",
        "pool_size = 2\n",
        "strides = 1\n",
        "padding_p = 'same'\n",
        "#Dense scale param\n",
        "sc_param = 3\n",
        "####\n",
        "\n",
        "USER_INPUT_SHAPE = (users_feats_ids.shape[1], )\n",
        "USER_VOCAB_LEN = len(users_f2i)\n",
        "ITEM_INPUT_SHAPE = (items_feats_ids.shape[1], )\n",
        "ITEM_VOCAB_LEN = len(items_f2i)"
      ],
      "metadata": {
        "id": "l3_cSaJhSLe4"
      },
      "execution_count": null,
      "outputs": []
    },
    {
      "cell_type": "markdown",
      "source": [
        "Our architecture is pretty simple here. For example, the user model:"
      ],
      "metadata": {
        "id": "llDfyCsHH_3I"
      }
    },
    {
      "cell_type": "markdown",
      "source": [
        "![image.png](data:image/png;base64,iVBORw0KGgoAAAANSUhEUgAABLoAAAIVCAYAAADWApZhAAAgAElEQVR4nOzdd3yN5//H8fc52SKCELupvVdrZ1htKVozZouW0urwU21RLaWNotVqq3T5trVHUaVG0dqiRoxYpUKIHStDJOfc9++PBEGokIgcr+fjcR7ffs+5cl+f6z7HOG+f674tpmmaAgAAAAAAALI5a1YXAAAAAAAAAGQEgi4AAAAAAAA4BIIuAAAAAAAAOASCLgAAAAAAADgEgi4AAAAAAAA4BIIuAAAAAAAAOASCLgAAAAAAADgEgi4AAAAAAAA4BIIuAAAAAAAAOASCLgAAAAAAADgEgi4AAAAAAAA4BIIuAAAAAAAAOASCLgAAAAAAADgEgi4AAAAAAAA4BIIuAAAAAAAAOASCLgAAAAAAADgEgi4AAAAAAAA4BIIuAAAAAAAAOASCLgAAAAAAADgEgi4AAAAAAAA4BIIuAAAAAAAAOASCLgAAAAAAADgEgi4AAAAAAAA4BIIuAAAAAAAAOASCLgAAAAAAADgEgi4AAAAAAAA4BIIuAAAAAAAAOASCLgAAAAAAADgEgi4AAAAAAAA4BIIuAAAAAAAAOASCLgAAAAAAADgEgi4AAAAAAAA4BIIuAAAAAAAAOASCLgAAAAAAADgEgi4AAAAAAAA4BIIuAAAAAAAAOASCLgAAAAAAADgEgi4AAAAAAAA4BIIuAAAAAAAAOASCLgDA7dkvKHLHBq1Zv10RZy9ndTXJ7Od1YO0cfTP8dXV6oroq9/pVCVld012IjQhT+PHEB3tO44QWD+2gdkOXKtrIvLquStyuLzsFKcC/vrp+t1f2TJ/QUPTGierfuqZK5POUq0c+VWg3QeG2qwXpwOy31KS8rzzdc6pg5Wc1ZFHUzXUlHtDst5qovK+n3HMWVOVnh2hR1A2jYtbo4w5tNWBe5H1YFwAAwMOJoAsAcAvx2j2trxqXLqri1eopyL+aShbyU82n/PVo0Tb66dj9SD3SkqBFvSuqXFA7vTJ0nGas2K6jsTalrsY49pNa+zjJYrGkPKxycs2lolWeVp8J63U6q0pPzbZTY4Jrq06vqYp+YOc0dHJOf70UMkehEXGZXJwk2bV3fD8NmbVG69Zv0LbIWJmZOl+i9v2vs2o3fElf/HlOfk88r15dGqhkblc5pYyIXzdU7bp9rrW2aur4YrAqxC5TSOfnNHaXLdVx4rVuaDt1+3ytbNU66sXgCopdFqLOz43VdcMsCTqy5Td92ruvJkU+CB9CAAAAx+Oc1QUAAB5Eho7NfElPd5+hsyWe1TvjOqhmvnhFbF6o/307X4cvVdbBU4ZUOCv+vcRVNboP04flnVS51jlNaPq21t8wwupTV8/1aqBNn6xSUt1u6u6fX0b8Ke35a76+f62Ztp1aoj+G1lHOLKj+KuOiLsaYSsp5QXGG5HM/TmV657wcqjEfzNZxr6c0fnjLTK/ROPyzBoSsUmyu3PK+mPnBWuzqwQp+bbZOlOmtmXPHqm0JtxsKOqmZo79RuHtTjV/+m3r5Ocm2p7wa1nhXn45aoP6TWqcMm6nR34TLvel4Lf+tl/ycbNpTvqFqvPupRi3oqUmtvZOPl7Oxhgxrpbldf1XIqL8U/HXjrP0MAgAAOCA6ugAAN0vcqLEfzFJUoU6a+Occfdyno9q0f1H9R8/WnHdry83iqZw5LcljjfPaNnmQguuWVD5Pd3n5llFApyGaER6TcrAYrfqwlYIC/BX4TE+93qmWinq5ys27mGp2HK1VpwxJNm0Z20ENAvzl7+8v/4BG6vbtLsVvGav2DQKSn/MPUIP2Y7Ul0SrfgJ4a1P8FtXi8oNwtadTvVlatujZSEatVvoEvK2TkSH3y5f+0cNNqfdrYWRtH9dUXO21p/OBt/Nc6z63Q0JZBCvD3V1Cnr7TTJsWtH6k29ZPrD2o/VttskmTo9NKhatPkNc06apdt+zi1DUxed0BgI7UfvU4XT/6ugc0DFeDvr/rPfaTvP+qsuqXyydMjj/xqtNXgOfuSt2pm4JyxaSw5ZvG3mrzXkF/n/nr+Uac0RmQg46TmvDtEv58rqk6De6hUJk8n44RmffKddlnr6r1JIaoZs01bDp7TdZs6Ezfor/UX5R7YXsF+yQU5l+2kdrWcdHr18lTD/tL6i+4KbB+s5GHOKtupnWo5ndbq5VtSHdCqgsFvqXs5KWLaOM09RVcXAABARiPoAgDcxB6xUqv/lUq2e0WtruvaclK5vjMUun6qXi3lJClW6z54SvW7j9ayc6XVokcfdW/qp9OLQtQlsKmGh6Z05ZgJOh4eqrUL/6cJSy+rZufX9HJLPx2b+646vjlP51KObkTv198bQrXzaKwSkwzJlqikmMPatmGDNh08L0PmvW1lc6+olwd21COJYfp90aF0/GA61rkrVBu2HtLFKxmGmahTu0O1YWtEqudMmbdYiGGYkkzJvKSo8FCtnvq+eoesk0vtDurVo5mKRy/Rxx0aKvjbvbJl6Jw3uqz1i1fotKWImrQOUI50nK27cW7pEA2adUL5W49QSNPcSiu/zFBJYVq/NU5WX1N/tPNT8Wp1VKNUEVVs85k2nEs5aQlndTZG8srnI48rP2f1ka+Pi8wLZ68eKuHsWcXIS/l8ro6S1cdXPi6mLpy9Nk6S5FpdrZqXkvXiai1Zcylz1wgAAPAwMgEAuEHSxoFmRWcXs/aIPabtNuNsBz43G+SwmrkbjDTDYq89H7s5xAz0tppeT35tHrabpmn71/wkwMW0egeYH21KGWjbb46s62I6l+lvrruc/JT9+BSzbX4n06N2iLkzyTRN87K5aXBV09WpiPn8nOibC4ibarbxtJq5O802426sbfdHZi0XF7PSoL/NpNTP7xtp1nVxNsu/E3rH5yO963Qu86a5NmVNpj3K/KqRq+lc8g1z1eVUB7281nyzjLPpWv/z5J+9adLd5ke1XEyLc0nzhXnHzCtD7GeWmH3KuphW3y7mL+czeM7U7FHmlw1dTbk2Nscd+6/B9yh2tflWRVfTmvdpc8K/NtO260OzhouLWXnwpuveuwwVN9Ns720xJYvpUqSx+c63U81v3qxvFnByNv16LDDPmaZpnptoNnezmgVfXGheuvaD5rS2OU1r7o5Xnzk3sbnpZi1ovrjwUqrjTzPb5rSauTvOumnq8z89a3pYXMzaIbf/9QUAAID0o6MLAHAzdze5WaT4uNtfDPzylg0KS8ihhj36qJrntec9H++j7gGuigsL1dZUe8GsBWqpQZWUgRZXublaJHuSrmwitBYM1qBXqsrYPEFjFp2XcWqOPvk+XE41X9WAZ/NmyNLMCxcUI4vc3N3v+GfSu86M5FSilXo2K3S1Bdvq01g9g8vL6Vy4tkekc/tluiTKZpdkcZaLc2b+dcHQ4R+Ha8LuJFmdIvTz80EK6jpR++x2HZzytgYvPJk50zrlVV5vqywu5fX6tHka1auzen8ySYODnHX097lamyDJJYc8XKVLMbGp7pKYoLj4JFk8rn0QXHJ4yFWXFBOb6l6KCXGKT7LIwzPVByaFs4uznCTZkpIy+WL7AAAADx+CLgDATZxL1VGNgob2zp2kVedueDF+j+Z9/aPWnjDkXKCAfKyXtXfzVsWkHnNuozbts8mar4AKpOtPGldVf22A2vge16xPvtG8r8dofnQhdRz0sipmxO1TjNNaNnGO9hm+qlG71B3/2L2t0640dwamcruX7ZErNG/DuWt3lYzdqvnL/pXdvZj8Ct1q0nubU5Jk9dUjRXPKaj+igxG3SfGMU9rx5xItXrpW/1z4r4OmXYnd8xE9XreuapXOe8NfTG6x3fKe55TkUlmPVXSXxaOEKpRJCaOs3sqb21VmXKziDEnu1VWjsotiNy7TyivzRC/Xn1tt8qha8+qh3KvXUGWXWG1ctlLXhv2prTYPVa1Z7YaJ7ToccUSX5aYijxblrkAAAAAZjL9fAQBuluNJDfyotRb1+FptA6P0cq/Wql08l2yn92j5/z7X/zbY1M63nQJa99Ir/pM1YFwb1Y9+Q6+0qKq88bv027gxmnIwlxp/0VO1nE9q5YQvtPSwISN+vSZ+/psK9W8my+If9cchQ8bFjZo+PUxB3apLkqz522hQn8c1b+hwddtyWc71Rumd5nlSFWcoavk4fbPimJJs/2h3oqmEnTM0dOBmObsW01OvvKKGeffr10l/KsowlLTmGw0eOEcWW6yObFqoeWui5Nv6ew1qcnOnza24+t/BOl0lyVs+edxkhK3W9KlzdCRxj1bNnaSpq5JkeG/UtKmbFfRCjeSDOuVW7lwW2fcu0g9Ti6umx0VF7lyl+TPma0/1L7RlcvL5MBO2aczT1RT6bDPVKJCgPUvnadl+Z9V8/111LGDN2DmndU4V2LmrXv3ayjF9uVYs3S9brYpp/qXBvvc79Wg6RNvLvqPVmwLu/DN2lZNKvDBRq16QpHiFzxqrqSuW6/C2I7L5Vddjxb0yYU5J1vxq+Xxzvb90nob3HCbnno/L7d/ZGvlHrDzrBKqWmySn0ur2Rht91WWK+vUsrQsd8mvXxKH65UxhdekdfG0FpbvpjTZfqcuUfupZ+oI65N+liUN/0ZnCXdQ7uPANxUfqj+XhsrnVVP3AXHdXOwAAAG4tq/dOAgAeVLHmrmn9zKfK5DZdLEq5QrrFdM1XxWwbssI8kXLZJvvJVeYnHR8zfV0tV8e4FahhPjd2nXnGbprm5XXmwIrupiXlNedC3c1fL0abMzv6mk6W5Oe8AkZdP3X0PLNbESdTTn7mS4vO31DXJfP3nkVS1XTtYXEpbr66LMG0R/1otsxrTfWaxbQ4e5h5Hq1pth++yDx02Uy3/1xniovrQ8yGBVyS12txNnOXrW/WKOpkShYzZ90RqY9oHvutr/l4HueUcyPTYnU3C1RpYb7zywEzKeUaXc7FW5iv9mhsVizibXrkzG+WrNXWHDxjh5n6rGTYnDcu+swss1NBq+lU4mXzj4tpnhXz8BcNTXenAmb7aSfMe76Sl+1fc9yTuU3rlffNmtt8cty/mTenPcpc0L+u6euS8p5anMzclbqZP+1J9QGxnzAXv1XbzOtsSfmMFTSD3l9x3XuePGyx+VbtvKZzymfapWCQ+f6KMzfVd2nd22YFF6uZu8X35tFMvvQZAADAw8himre6BxMAAJKUoFP/7NH+Yxck70dUoXIJ5UmjtScx+oB27D6qhBzFVKFqSeV10J7hO1mnERup7WGHlJivjCqVLSjP22zfNOKiFB62V6dsnipctorKFcqRvH3Pvkch9apq2OWB+nvzcFX7j/OZIXPexKbwkUGqM3ibyr23WuuG1ZDbda9H66eWJdTnxNsKXfeeqtyX9zzj50w4Hq6te07K5l1S1as9Ki+nG0cYijm8Xdsi4uRd5jFVKXyLe1AaMTq8fZsi4rxV5rEqummYbbc+bVxXAzYW18CVoQqpc+fXiQMAAMCdIegCAOBBE79bs8d+pQnjv9dqu7+6d62nR6t0UN8u1XTzRr5MlrBZo5q31NgcQxU6v5f8UidicfP0fMl+cv0uTBOfzXPLQ2SorJgzgxinp6lz9Td1tMcvWjws4P6/lwAAAA8Bgi4AAB4w9oPj1ezx1/XH+SuXoLfIK+gTbfyzv8rf1G2UhS6Ha87Uk6rTvbGK3K/b22TFnAAAAMg2CLoAAAAAAADgEPi3UAAAAAAAADgEgi4AAAAAAAA4BIIuAAAAAAAAOASCLgAAAAAAADgEgi4AAAAAAAA4BIIuAAAAAAAAOASCLgAAAAAAADgEgi4AAAAAAAA4BIIuAAAAAAAAOASCLgAAAAAAADgEgi4AAAAAAAA4BIIuAAAAAAAAOASCLgAAAAAAADgEgi4AAAAAAAA4BOesLgAAAAD3YE0Rybyo7Pnvl4ZU95Dk4pPVhQAAAAdB0AUAeCAcObc/q0vAfVYsT+msLsExmBcla2HJ6p3VlaRf0ibJSMzqKgAAgAMh6AIAZLlle6dr0e6fs7oM3GdPlO2o5hW7Z3UZDsCaHHJZc2d1IXfBNasLAAAADoagCwAAIFuzpHoAAAA83LLjxRwAAAAAAACAmxB0AQAAAAAAwCGwdREAACBbM1M9AAAAHm50dAEAAAAAAMAhEHQBAAAAAADAIbB1EQAAwCGwdREAAICOLgAAAAAAADgEgi4AAAAAAAA4BLYuAgAAZHvcdREAAECiowsAAAAAAAAOgqALAAAAAAAADoGtiwAAANkeWxcBAAAkOroAAAAAAADgIAi6AAAAAAAA4BDYuggAAJDtsXURAABAoqMLAAAAAAAADoKgCwAAAAAAAA6BrYsAAADZ2pVti0ZWF3IX2G4JAAAyFh1dAAAAAAAAcAgEXQAAAAAAAHAIBF0AAAAAAABwCFyjCwAAINu7cp0uAACAhxsdXQAAAAAAAHAIBF0AAAAAAABwCGxdBAAAyPbYuggAACDR0QUAAAAAAAAHQdAFAAAAAAAAh8DWRQAAgGzNFFsXAQAAktHRBQAAAAAAAIdA0AUAAAAAAACHwNZFAAAAh8DWRQAAADq6AAAAAAAA4BAIugAAAAAAAOAQ2LoIAACQ7XHXRQAAAImOLgAAAAAAADgIgi4AAAAAAAA4BLYuAgAAZHtsXQQAAJDo6AIAAAAAAICDIOgCAAAAAACAQ2DrIgAAQLbH1kUAAACJji4AAAAAAAA4CIIuAAAAAAAAOAS2LgIAAGRrpti6CAAAkIyOLgAAAAAAADgEgi4AAAAAAAA4BLYuAgAAOAS2LgIAANDRBQAAAAAAAIdA0AUAAAAAAACHwNZFAACAbC+73nUxO9YMAAAeZHR0AQAAAAAAwCEQdAEAAAAAAMAhEHQBAAAAAADAIXCNLgAAgGzPSHkAAAA83OjoAgAAAAAAgEMg6AIAAAAAAIBDYOsiAABAtmbe8L8AAAAPLzq6AAAAAAAA4BAIugAAAAAAAOAQ2LoIAACQ7Zli6yIAAAAdXcgujGOa9+bTCvT3l3/9npp02J4Jc5zSokEtFBjgL//63fT9vrTnME4t0qAWgQrw91f9bt/r+mE2bf+ig4L8G6rfr+cyvsbsJjZCYeHHlfhAz2noxOKh6tBuqJZGG5lY2BWJ2v5lJwUF+Kt+1++0NxM+ysnsOr5qrF56opKK5HaTq1tuFavRTsMWH9FNUyYe0Oy3mqi8r6fccxZU5WeHaFHUjaMSdWD2W2pS3lee7jlVsPKzGrIo6qZjxaz5WB3aDtC8yExbGAAAAADcEkEXMpGhYz+3UT4nqywWS5oPl0qD9PcdJxKG4o/uUOiGnToSnzkVmzJ0KWqnQjdsU2T8rf5l3JSMS4raGaoN2yJ1y2EPPZt2jglW7Tq9NDX6wZ3TODlH/V8K0ZzQCMVlbnGSJPve8eo3ZJbWrFuvDdsiFZtJnx8j6ge9+Myb+mm7s2oG99HrvZ5RidO/a3hwW4WE2VKNjNe6oe3U7fO1slXrqBeDKyh2WYg6PzdWu1INi183VO26fa61tmrq+GKwKsQuU0jn5zQ29SBJloQj2vLbp+rdd5Ii70duCAAAAACpsHURmcgqn7rP6+2XL2jct6uUVLebuvnnl0WSzPP6e+oPWnPHhyqs1p/9ruI5a6jWyMwq11fNP/5Nj+aoo+ofJt1mWHN9/NujylGnum4e5qyqfWdqdd9MqjFbMXTxYozMpJy6EGdIPvcjV0/vnJcVOuYDzT7upafGD1fLzK7ROKyfB4RoVWwu5fa+mKnBmrXAE3r1wy/0aotealHSTZJ0uX1+VWk0TgsX/aPB1SvISZJxcqZGfxMu96bjtfy3XvJzsmlP+Yaq8e6nGrWgpya19paMk5o5+huFuzfV+OW/qZefk2x7yqthjXf16agF6j+p9dV5czYeomGt5qrrryEa9Vewvm6cMxNXCeAati4CAABIdHQhk7mVaa233nhSRa1W+dZ/RSEhveWfz1vVu7yh5iWcZXF11rGfeqhxgL8CgloruGlZ5c1TTIE9B+iVJ8vKJ2cuFavTS1P+SdU1Yp7VxnEvqlGFIsrt4aE8j9ZUu/fn6Z+EVBNfPqRFI7qqftkCyunmJq9CFdSo63D9+s/1rWAJ++bovbY15ZfHQx65i6hCox76+u9zN3xVSNC+Oe+pbU0/5fHwUO4iFdSox9f6+9wNozZ+orb1A+Tv7y9//0A9E7Luhu1zMVr1YSsFBfgr8Jmeer1TLRX1cpWbdzHV7Dhaq06lbn85ry0TX1fTSoWVy91TPsVrq0O/Pmob5C9//wA17TdHRwxJxkmtGdtTjcoXlJebmzx9HlWNZm3UqsNIrUt3imLo/LbJGhRcVyXzecrdy1dlAjppyIxwxUiSzmnF0JYKCvCXf1AnfbXTJsWt18g29RXg7y//oPYauy35fTJOL9XQNk302qyjstu2a1zbwOTzEhCoRu1Ha93Fk/p9YPOUbaLP6aPvP1LnuqWUz9NDefxqqO3gOdqXkMFzxqax5JjF+nbyXhl+ndX/+UfllN5Tls7ze3LOuxry+zkV7TRYPUpl7mxyLqkWfV+/GnIZsQe1/Le1OmbkUKEi+ZIDZ0mJG/7S+ovuCmwfLD8nSXJW2U7tVMvptFYv33JlkP5af1Huge0VnDxIzmU7qV0tJ51evfz6ea0FFfxWd5VThKaNm6tTdHUBAAAAuI/o6MJ9YujUqgka9OohzfhhtbxON9T6n1epblJpea9+U+f/3aSwE3blrtJSreqGa+r/Rmt9rkp6tn2Adk2dqP4jWqjdT82SD2U7oAUTIlWk9rNq3yOvLoQt1vyQ9goN/1arfnlRJc19+r5DY/X57ZR8HmuuTi8/IsvRDVo48wMF/xWuH9dO13N+TrL/8706NOqjBWcLqe6zXfWMd7Q2L5qhb6ISZbpUSanbrn++76BGfRbobKG6erbrM/KO3qxFM75RVKKpq8NSJHerRWvfxv1yLntWN33HNxN0PDxUBy5s0IY8lfVM59f0yKW/9cuMd9XRuaR2T2mrPErU9k9a6cmBq5VYoqHavFhWln+Wa+4XExRrWpSjaDUF1Eo+pycm9VbL/kuUo3ZLPfdqYenEdi1fOF9bE6JU84O35V/+zsOU2HUf6KlmIdpiKa0nW/VQS6/z2vnHfIV0WaIV/yzWH0PKSjKVcHyXtkSeUZ2LV1ZnKvHUbm05dFI1Uj1nmrfoLDCMlL4DU5eiwhV2aL3Wr3HXIwFt1KFXHp0P+12/ftxBG3Z8rT/ntc/QOW90ef1irThtUZGXWisgxx2fqrtzbqmGDJqlE/lb6+eQpopo+24mT5jMODlVnaq9oNknkmTKqtxBIzS8k+/Vf+VIOHtWMfJSPh+Pqz9j9fGVj4upbWfPXhmkszGSVz4feVwbJF8fF5nbzt40p2v1VmpeaozGrF6iNZe6qq1npi4RAAAAAK4i6MJ9YtfJtf/Tp2slyVnlZVGO4rVVT5LKfKOhaxer9YyqCln6i17c9rL++OOwSn3wu+a8sku9//hDk0+e1NVeLIuLyvSapzXjm8nXKsmI1rK+QWoxYYhGLO6gsbYRGrLghAq0+1Frpz2vR52T54+c/rwCnp+l90etVLvxtbV0xFD9fqaMXl24Wl886SOrJOPEAvUOaquJh1Lmil2oEUN/15kyr2rh6i/0pI9VkqETC3orqO1EHUq1Qvfab+uXVW9L8ZPVKm93hd50DrxUf/B49V5WTgN21tawP5ZocA1PyX5AhQ9U0HubNmhPYlvVu/SbRo1eo/jKb2nZqtEK9JakC+r1biM9MXKH/DpP0IJRteUquw6cOq04eahEyXIqV7mSyga/pP7dftX7P1oUVCwdHUP2f/XDe2O0xRqkEX8t1IBqKclE3BaNeLqx3v90iH7uvkR9hs3TDK8GKjfoVPLrnvU0cO5KdR33pIr3O3z1cNb8TTV8XiM16V9ZDcYV0mtz/tT/PXJDA+nIBSrpVU9V39+q4t2na80PrVTIKskYpqWv++uZb4boo/kdNSUj57yOoeh/9uu03UmBlSrK5c7P1l2I05oRb+uniFx66utR6lgkQR9n6nzXWH3qqdvb/eW7fauWzV+h/WGzNSP0ZVWt7339QIvS+P83xoNpDrqZa3lVLOMi89+D2nfELpXL5O41AGLrIgAAQDK2LuI+cVHlwZuUcGKK2uW3yt3dXdb4Q/p73T6dv9KQY/GUV64rH0mLPL1yXfcBvfrXd+dyCu75VHLIJUlWHzXsFaxK1lMK27RPkTt3K9qwK2p2VxV3uXLhe2f5dZ6uI3a7ov5eq/0J+7U57IyslYL1UkOfq/NYCzZRzzalr25hs+3frLAzVlUKfkkNr16/yaqCTXqqTem7//JuLVBLDaqkhEkWV7m5WiR7kmySbEd2658LTirTooPqXs0ivFW74zOqcF007aQSPUdqWMvCipj5of7vxfZ6ul4llW37nU4WKaui7uko6PIWbQhLUI6GPdSnWqr2G8/H1ad7gFzjwhS6NZPunehUQq16NksOuSTJ6qPGPYNV3umcwrdHZM6cKRJtdkkWObs4Z+pvhsbhHzV8wm4lWZ0U8fPzCgrqqon77LIfnKK3By/MxJklORdXszc/1lc/L9WWv4bL3xKmr0ZM17GUX3cuOTzkqkuKiU11l8SEOMUnWeTh6XllkDxcpUsxsanuspiguPgkWTzSatdylouzkySbkpL44g0AAADg/qGjC/eVU4Eumn2qiyRDR8Y9qfpvntFbG9apZnoOYpxRZGSMVCPP1afiIo/qtGFVyTx5lC+nr1wtLiry5EvqUN0rjRpqK69TbuXxtsiIOKLDcVKVq4FSrCKPnJUhX0mSJXceeVsMRRw5rDhV0bVhkTpy1lDKsAxlzV9Ivq52bdgepuPG4ypmlSRDp7Zu12F76iltili3RTl6LtSxH511YM8/2r9/tzbN+1pjx/bQm1UDNKer750FOM4FVMDHqst7N2trzHOqf/W0ndPGTftks+ZTgQK3PpLd+I8w43Yv2yO1Yt4GnatTX3mskvBdus8AACAASURBVBSrrfOX6V+7uxr6FcqcOSVJVvk+UlQ5ret15GCEEpVfrmmOM3Rqx0ptjUpSzpJ1FFDGO81Rty3F7qlHHq+rurY0Xktzu+W9z5kWz8rN1LDEBwo9fVxnDKmwVXKvXkOVXeZp47KVutChubwlRS//U1ttHqpes1ryD7pXV43KLpq3cZlWXuig5smD9OdWmzyqp/Gr135YEUcuS25F9GhR/pgBAAAAcP/wDQSZ6vI/8zT2y2U6ahhKWjVBgwem3HVRpmK2HlCS6aFzm3/UL9vjZNr3aP53K+RfRpLs2v/791rWsIIkyX5gvj4c+I/iNpyUYT+p6a+2lNehXnqyTE7F7V+h7z+dpGM+LfRhWz/lz/GyOn28TD9u3qioer30TPUi8kiKVuTeHdq6JVzRLg3k7vSI2nZvqpEvTdbLrTz1b89GKuUZo71LvtEnM0/KkKlVX4/U7NfaqHvTkXpp8stq5fmvejYqJc+YvVryzSeaedKQzFX6euQM9X0jUCd//kYropJk2vdqr91UXNgUvT9wnZws7irZ4lX1qGto9TdfaOlhQ0b8ek38/DcV6t9MlsU/6o9DhoyLGzV9epiCnm+lXsEhWjbpLTXrEqX/a11elr3zNfaz3xRtWK8FXbY9mjLsHQ0/8KM29O2jVo8XVQ6PHPJwd5VVSboUn0aqciuu/ur1ir8mDxinNvWj9cYrLVQ1b7x2/TZOY6YcVK7GX6hnreQYyNsnj9yMMK2ePlVzjiRqz6q5mjR1lZIMb22cNlWbq76gGt6S5KTcuXPJYt+rRT9MVfGaHroYuVOr5s/Q/D3V9cWWyaouSWaCto15WtVCn1WzGgWUsGep5i3bL+ea7+vdjgUyeM5p6pwqsHOvV1+1c0zX8hVLtd9WSxXT+h3Rvlff9WiqIdvL6p3VmxRw52f1KqcSL2jiqhckSfHhszR26gotP7xNR2x+qv5Y8UyY066DU99Q/wVuCmwepLL5XGW7GKWdS7/X1zuk4m80VpmUtTqV7qY32nylLlP6qWfpC+qQf5cmDv1FZwp3Ue/gwlcGqdsbbfRVlynq17O0LnTIr10Th+qXM4XVpXfwzbNH/qHl4Ta51ayvwFzpLh5Aupli6yIAAEAyi3nLqzcD98rQsZ/aqkqP+Yq+VfeNc1l16mjVvKl7lGBa5FKsl34ZZ6hPm+91zFJEPWaNk15vpx+ipFwFXRVz4pJMpwKq/LiXDm/5VxftpmRxVu6KbTXku/HqWzevrJLid0/W270H6X/ropRwZWqLVe75yqvxa19p8pCGymNEa+1nr6h3yDztOW+TKYvcijVQuwqHNXPpQdms3mr42d9a/twpffZKb4XM26PzNlOyuKlYg3aqcHimlh60yerdUJ+tfVO7n26j748m3fw1w+KuSgNWaMswaehjjTVqV4JMWeRcqJt+2TdGl3uVV+eZp2Q3LfIKGKmLa96RYrfpu1df0KBp23XWZkoWV/mWLirbgUgVeGutto2qLVfjuH4OflxvbzQVf/yk4lLOscW9iPxfHKXvxnRR+fRsXzROafVnfdXvk7kKO5UoU5LFrYAeDx6kL8a+rnpXtm7GbNCIlq31wcqTSjItcs5dRv6l4rR281EZOesqZN1qDaqSnKIYxxfozWe66eut52QzU94D30p6otsQjQ1ppcRR9VT1g9Nq0ruRLq1cos0HL8i1cAUFdXxTQ9/uoMpXGpkybM62KnldmBWt2Z0rqeOsHOq1eJsmPHlzB6AR+aWeKPumdj87Wdund9JtGtvugF0Hv35aj7+xLGXLrlW5n/xS5/54NYPntCti6kt69rXJ2nXedvUzaXHJq8rthumHCa+pZqomMePkEg1o2UVj/z4rm2mRS8FADZw6Vx80uratV8ZJLRnQUl3G/q2zNlMWl4IKHDhVcz9oJJ/r6kvQ+nceV4Mxx9Tk23DN71nkjroKl+2drkW7f07vQpHNPVG2o5pX7J7VZWR/q3NIzoUlaza888Pl3VKdSMnt1h28AAAA6UHQhWzKrpgjexT+7xkpfzlVr1hQN2c6dp2P2KHwiLNKdPGS7yOlVdovj9xuHBZ/XLu271O0czFVqlpSedPev6b447u0fV+0nItVUtWSeW+xzS1jxR8L17Z/ouVUoJwqxH6hev6fymXQJv09rGqqdkxDsVG7tGPfSSW4+qh4pcoqnvsemjUTo3Vgx24dTcihYhWqqmTeNI5lxCpye5gOJeZTmUplVdDzNlGGEaeo8DDtPWWTZ+GyqlKukHJYJcmuPSH1VHXYZQ38e7OGV/uPmjNkzpvZwkcqqM5gbSv3nlavG6YaN3xAon9qqRJ9Tujt0HV6r8r9aYLNsDkvR+tA+B5Fnr0k0z2PipWrrDL5b/oVkMyI0eHt2xQR560yj1VR4TTvQmko5vB2bYuIk3eZx1QljUG23Z+qcd0B2lh8oFaGhqjOHYatBF0PJ4KuDELQBQAAcBVBF/CASvz3d42ftE4nLxsyLp/Wtt9nafmREhr4198KqXOLsCLbiNfu2WP11YTx+n61Xf7du6reo1XUoW8XVbu5qSqTJWjzqOZqOTaHhobOVy+/1IlYnOY9X1L9XL9T2MRnleeWx8hIWTFnRjF0elpnVX/zqHr8sljDAu78zSToejgRdGWQq0FXmgn1g+3yHoIuAACQobhGF/BAMnR69USN/PhXnUqSLC45Vajykxo8c4zey/YhlyT7Ca384RN999d5GZJWTxytNV5Byte2o6qVv/u7Wd4dd9UYsEJRA9J6zVmlW43QxDot7mPglBVzZhSr8neeoaOds7oOAAAAAA8rOroAAFmOjq6HEx1dGYSOLgAAgKvo6AIAAMj2uOsiAACApDu6GRYAAAAAAADwwCPoAgAAAAAAgENg6yIAAEC2x9ZFAAAAiY4uAAAAAAAAOAiCLgAAAAAAADgEgi4AAAAAAAA4BK7RBQAAkO1l12t0ZceaAQDAg4yOLgAAAAAAADgEgi4AAAAAAAA4BLYuAgAAZGtXti0aWV0IAABAliPoAtIpbP95JSTyZQL3rmRhT/nmccvqMgAAAADAYRB0Aen0/g+75eXhLA83p6wuBdnYkTMJ6t+hlJrWKpDVpQAAAACAwyDoAtLJ1cWqRlXyKlcOfvng7q0KP5fVJQBwKNn1rosAHmgJG/XpcwP06/EkmZKs3k004tchCnS9h2PGRijskLsqViqk2x0mNiJMh9wrqlKhe5nswZcV68ysOY0TizWs70TpxW81rIlPhh77qpgdmjzsfX0+c5X2nLIrdyl/tR/wiUK6VlbOtMYnbteX3V7XrEiLSnT7Vj/2KqfU7QqJB2br3VeHaNLaCMV7lVajXqM0YWgzFbmupyFRB2a/q1eHTNLaiHh5lW6kXqMmaGizIqmOFaM1H/fU2PMd9fmI1nqEnogsxcXoAQAAAOAhYgv7ULVyWmWxWG7xcFPjccdkSDJTgvTofaFa//cBRd/TFTxs2jkmWLXr9NLU6NsN26kxwbVVp9dU3W5YtpcV68ysOY2TmtP/JYXMCVVEXEYeOPUckZrUvYle+PxPxZRtqRdfClY1I1TjXnxaPacdS+MH7No7vp+GzFqjdes3aFtk7PX/JBS/TkPbddPna22q1vFFBVeI1bKQznpu7C7Zrhs2VO26fa61tmrq+GKwKsQuU0jn5zR2V+pRFiUc2aLfPu2tvpMiuWpmFqMlBQAAAAAeItbiTdSn/z6N+3K6tvs8rVfbVZJ7ymvGsb/0w9Rtyf/Hvbbe/mWV3la8JrfKq+5r73VmQxcvxshMyqkLcYbkc4u+C+OiLsaYSsp5Qbcblu1lxTozac7LoWP0wezj8npqvIa3zJxuLvuhWfp+4WkVem62Qn9snVz7uVZ6sUobTZ84V+r82nXjjcM/a0DIKsXmyi3vizemb4ZOzhytb8Ld1XT8cv3Wy09Otj0q37CG3v10lBb0nKTW3pKMk5o5+huFuzfV+OW/qZefk2x7yqthjXf16agF6j+pdcrxcqrxkGFqNberfg0Zpb+Cv1bjNFvMcD846m8ZAAAADxEzmz4AZAVr7lrq/u4LqpXLIqdSz2jwyBHq/9zTatdnmD7qU18FnZzl5nbnPRFxYRP1Rpv6qlwsjzxcXeSe51HVDB6uJVH2q2OM00s1tE0TvTbrqOy27RrXNlD+/v7yDwhUo/ajtS5WkgydXjpUbZq8pllH7bJtH6e2gf7y9/dXQGAjtR+9TrFXDnj5kBaN6Kr6ZQsop5ubvApVUKOuw/XrP/EpA2K06sNWCgrwV+AzPfV6p1oq6uUqN+9iqtlxtFaduoueG+O8tk0epOC6JZXP011evmUU0GmIZoTHJL9+boWGtgxSgL+/gjp9pZ02KW79SLWpHyB/f38FtR+rbbY7W+fFk79rYPNABfj7q/5zH+n7jzqrbql88vTII78abTV4zj4lZPCcsbda93+K0eJvJ2uv4afO/Z/Xo5m0bc/pkdYaMPozfTvs2asBnZGUoAS7KXvi5esHGyc1590h+v1cUXUa3EOlbqopURv+Wq+L7oFqH+yXvAXRuaw6taslp9OrtXxLyvESN+iv9RflHthewX7JB3Eu20ntajnp9Orl1x3RWjBYb3UvJ0VM07i5p+jqykIEXQAAAADwkDLO7tPKhRPU95knVP+VybpQc6Dm/LlSE7r63uGXRUNnNv2qmX8elEuFp9Xttf/Ty61L6PSCYer8+lRdy5NMmeYtAm7DuBZ9m6ZuPSzlBds+fd8hQC3fm6F9XvXU6eWX1aleTu2d+YGCG3fXlMMpAZuZoOPhoVq78H+asPSyanZ+TS+39NOxue+q45vzlL4rpsZq3QdPqX730Vp2rrRa9Oij7k39dHpRiLoENtXw0Lhrc+4K1Yath3TxytrNRJ3aHaoNWyNSPfdf6zQl85KiwkO1eur76h2yTi61O6hXj2YqHr1EH3doqOBv9yZvscuwOe/S5fVavOK0LEWaqHVAjrs/zn9xLqkWfd9Qs5QkzTi7ViEdXtWsk7lUv32L64aeWzpEg2adUP7WIxTSNLcsNx0sQWfPxkhe+eTjceU5q3x8feRiXtDZsymfoYSzSh7mo2vDfOTr4yLzwtkbjumq6q2aq5T1olYvWaNLGbVupBtbF4G7YJq65R8SAAAAQHaRtOlztX8m+b9dS16WzZJX5QPypuMIVvn1mq9/GqzUwqUb9c+peFl8/PVYsTVasHeXImySr6tkzd9Uw+c1UpP+ldVgXCG9NudP/d8jN0ZpVuVvOlzzGjVR/8oNNK7Qa5rz5//pxmExC0doyIITKtDuR62d9rwedZYkuyKnP6+A52fp/VEr1W58Y9UfPF69l5XTgJ21NeyPJRpcw1OyH1DhAxX03qYN2pPYVvXu8Hrs9n9/0HtjtsgaNEJ/LRygap7Jz8dtGaGnG7+vT4f8rO5L+mjYvBnyalBOg04lv+5Zb6DmruyqcU8WV7/D6VvnyAUl5VWvqt7fWlzdp6/RD60KySrJGLZUr/s/o2+GfKT5Hadk6Jx3w4j+R/tP2+UUWEkVXe79eHfCdnie+rV5QeO3SdX/b7omv1r22otxazTi7Z8UkespfT2qo4okfHzbY90YglmkNJqO0xx1E9fyFVXGxdS/B/fpiF0qx0XpswQdXQAAANlaVm8/ZOsikJ251OynWQvGqXNxZzm7uck53d8Qz2v9x01VsdITeu6NdzX8o4807L2PNO+ALbmDKMMrtity525FG3ZFze6q4i5XLqDvLL/O03XEblfU32u1P9V1wq0FaqlBlZRkyuIqN1eLZE+67oLj/+Xylg0KS8ihhj36XA25JMnz8T7qHuCquLBQbU3MkAXexKlEK/VsVujql3erT2P1DC4vp3Ph2h6RnlVkkkSb7JIszi538flJL0PnN36mNkEd9fVOLzUduVjLPnlaBa3XXj/843BN2J0kq1OEfn4+SEFdJ2qf3a6DU97W4IUnU8a5KIeHq3QpRrHXdtgqIS5eSRYPeXqmHNAlh5KHxerasATFxSfJ4pHqg3CFs4ucnSTZkpTEH3NZho4uAAAAAHhIWfOWVYMWL6nBo5XUL1dd5U/nz9u2fKY+Q1coodb/acqnfdW8WkFZojdoxDNP6bPb7d26wxDg5mEW5SvkK1eLi4o8+ZI6VPe6aYRTgdrKa73zOe6Ec4EC8rFe1t7NWxXzXH1dnfXcRm3aZ5M1XwEVuGXIY9d/7Qy83cv2yBWat+Gc6tTPkxx2xW7V/GX/yu7eUH6FbjXpvc2ZHlbfR1Q0p1XrjxxURKKU/xZdcsapHVq5NUpJOUuqTkAZead7pss6MKOvgl/+XjusNdR31kx90urRG0INU3bPR/R43bppBJmpt266q3qNynKZt1HLVl5Qh+bekqK1/M+tsnlUV81qKYtwr64alV00b+MyrbzQQcnDluvPrTZ5VK950wz2wxE6cllyK/KoipK2ZBlOPQAAAAA8RIzzmzT58x/190VT9gMLFDIwQh5OPqrzQh3VuDZKx/8cr/HLjirJtGvvXrvMS9s17f2BCnWyyK1kC73Ww1+5Lp7VRcOinD4+Mk+EacmP27RizhTN2J4kI+9afffxFLm9+ZyS8ygn5c6dSxb7Xi36YaqK1/TQxcidWjV/hubvqa4vtkxT5wJWySm3cueyyL53kX6YWlw1PS4qcucqzZ8xX3uqf6FNX72sTh8v04+bNyqqXi89U72IPJKiFbl3h7ZuCVe0SwO5Gye18tsvtPSwISN+vSZ+/psK9W8my+If9cchQ8bFjZo+PUxB3arf0Tlz9e+lV/wna8C4Nqof/YZeaVFVeeN36bdxYzTlYC41/qKnarlKkrd88rjJCFut6VPn6EjiHq2aO0lTVyXJ8N6oaVM3K+iFlLP8H+vcMjm5NjNhm8Y8XU2hzzZTjQIJ2rN0npbtd1bN999VxwLWjJ1zWufbBHa34F5P9Wvn0PTlK7R0v021KqYVM9i197seajpku8q+s1qbAtI5hwxFTuqioB5zddzwUuXWdeQW+o3eC5WMC4d1uEBPzfygsSQnlXhhola9IEnxCp81VlNXLNfhbUdk86uux4pfiSidVLrbG2rzVRdN6ddTpS90UP5dEzX0lzMq3KW3ggunnASn0ur2Rht91WWK+vUsrQsd8mvXxKH65UxhdekdfNMaI/9YrnCbm2rWD1Su9C4RGcZi3vKKgADS0ua9UDWtnk+5cpAT4+6t3nVOzwYVVtNaBbK6lAfCsr3TtWj3z1ldBu6zJ8p2VPOK3bO6jOxvtbvknF+yumd1Jel3OUKqc0RyK5TVlQAPFVvYh6oXOFSb4q59FbRY86n1Tzs1+/mCKVvkLmtZn7Jq/s3hNLZgWeRecYBWbP1Y9ZyOaF6/NnppwhZF20xZrDn0SP02qhQ1Q7//Y5PFK0AjN/yld1LCD+P4Ar35TDd9vfWcbKYki1XuvpX0RLchGhvSViWdJcnQ8QVv6pluX2vrOZuSh7nLt9IT6jZkrELallTi7sl6u/cg/W9dlBLMq4uQe77yavzaV5o80E2jH2usUbsSZMoi50Ld9Mu+Mbrcq7w6zzwlu2mRV8BIXVzzzh2fN+PUan3Wt58+mRumU4mmJIvcCjyu4EFfaOzr9a7eCTBmwwi1bP2BVp5MkmlxVu4y/ioVt1abjxrKWTdEMesHXTni7dfZKlGj6lXVB6ebqHejS1q5ZLMOXnBV4QpB6vjmUL3dofLVrqgMm7Ntybvqhome3VmVOs5Sjl6LtW3Ck7qpz86I1JdPlNWbu5/V5O3T1SndaZpN24fWUs3hYUpK41WXKu8pcfuH1z9pP6ivn35cbyw7n3wHRGtuPfnlFv3xaokrRenkkgFq2WWs/j5rk2lxUcHAgZo69wM18klVn3FSSwa0VJexf+uszZTFpaACB07V3A8aKfUwJazXO4830JhjTfRt+Hz1LMKVorIKQReQTslBlw9BF+5JctBVhKArBUHXwym7BV2macpiSfvis1mKoAtAljMUG7lDYQcuyKN4VVUvnlu3vQa3Eaeo8DDtPWWTZ+GyqlKukHKkkQkYcVEKD9urUzZPFS5bReUK5bjhItN2nY/YofCIs0p08ZLvI6VV2i+P3DJ0bTdLjD6gHbuPKiFHMVWoWlJ50/haYMRGanvYISXmK6NKZQvK8zaZxy3Xad+jkHpVNezyQP29ebiq/cfXjwyZ827ZwjUyqI4Gbyun91av07AaN7wL0T+pZYk+OvF2qNa9V+WB2lpmxBzW9m0RivMuo8eqFFba9400FHN4u7ZFxMm7zGOqUvjGUTbt/rSx6g7YqOIDVyo0pI6y4Z/KDuNB+nwB2QaX0MW94vMDZD8PZMgFAA8Eq3I+Uk2Bj9zpcE8VqRKgIv85rIiqBNxulJNyF6+ugOJ3OG8GcfUppRqBpW47xprzEVW/wxOS5jrjd2v22K+0IsqQYV+lcYMH6dEqHdS3S7Wbu6Uyas574VxJ//fl+1rWcqy2bj0h1fC77uW41Su0MU8nfffqgxVySZLVy0/VA/3+a5S8/KrrlsOMc9q2+V951B2gcQMJubLag/YZAwAAQHqZpkSTPgA4DPuJlfrhk+/013lD0mpNHL1GXkH51LZjNZW/bbtc1nGvMUArogak+Zpz6VYaMbGOWuS5z0XdL9b86jzjqDpndR2QRNAFAACQLg/sFkYAgMNwKtFHS8/1yeoyMoxbpbZ6sVJWV4GHBUEXkF6m2LsIAA8xQi4AAIAHF7cBAAAAuEM7d+6UlNzV9WAxs+kje3nw3ncAAHAjgi4AAIA7dOLECR05coSuroeMzWZTdHQ07zsAANkAQRcAAEA6bNmyRTabLavLwH22efNmmaZJVxcAAA84gi4AAIB0iI+P1549e7K6jBtk9RZEx9+6GB0drYiICLq6AAB4wBF0AemU1V8JeDjGA0D2tnv3bsXFxWV1GbjPtm3bpqSkpKwuAwAA3AZBFwAAQDrZ7XZt3bpVktjK9hBJSEi4ekMCAADwYHLO6gIAAACyUkJCwh2PNQzj6n8fOXJEJ06cUMGCBTOjLDyg9u3bp1KlSilXrlxZXUqmSbLZ9fKwuVldBgDgAdawdkk91+KxrC4jTQRdwN1g/xnuFZ8f4IGwd+/eq51Zd2PLli16+umnZbFYsvDaTWyMvp9M09SWLVvUsGFDmabpkNfsMk1TW3ZHyersJlcPxw30AAB3JyHmtEoU88nqMm6JoAsAAOAuXbhwQfv371fZsmWzuhSkU0REhI4fP35HY2/cnnr8+HEdPXpURYsWzYzSHhg58xaTW448WV0GAOABY0+88274rEDQBQAAcA927NghPz8/ubu7Z3UpSIdDhw7dcdCVlq1bt6pQoUKyWq0O2dUFAEB2xcXogbuQ1Xfs45H9HwAcR1JSknbs2CFJWXxh+qz+ne3h+h0xNjZWe/bsIeQCAOABQ9AFAABwjw4cOKCzZ88Sejxkdu3apfj4+KwuAwAApELQBdyVrP7Xbx7Z/wHA0WzevFmmaWZxVxfuJ7vdrrCwMEnifQcA4AFB0AUAAJABzpw5o0OHDmVRV1dWh/cPb+h/+PBhnTp1im4+APh/9u48Lspy7+P4d2bYF1FREFwQN1wARdBUNtMMWzWX3EqtTDs+7Z1SKzUrSy3LyvbMcyrTFjPLFlPLfSkBd3HJfcWDiggizPL8AZoLKqvDwOfda44HuOa+fgMzMPOd33XdQDlB0AUAAFBKkpOTlZuba+8ycJ3RzQcAQPlB0AUUl73fBOfi2BcAFVJ2drZ27txp7zJwnZ08eVI7duygqwsAgHKAoAsAAKAUubm52WFWq4NeKo4NGzYoJyfH3mUAAFDpEXQBAACUkurVq6t+/fosYauEcnJyOAMjAADlgJO9CwAcEavPUFLcf4CKKTIykuVrlZSvr698fHxks9m4DwAAYEcEXQAAAKUgODhYNWvWtEPQYbvkX9hDVFQUARcAAOUASxcBAABKyMnJSa1atZIkwo5KqEGDBvL19WXJKgAA5QBBFwAAQAmFhobK3d3d3mXADpydnQk5AQAoR1i6CAAAUALe3t4KCQmx895M7B5pL2FhYXY60yYAACgIHV0AAAAlEBkZKZPJRDdPJVSlShU1adKEJYsAAJQjdHQBxcEb5wBQIVSpUkVVqlQp9PjMzExZLJbzH9euXVuBgYGcaa+SioqKktFYcd83PpW6094lAABQZARdAACg0goMDFRgYGChxy9YsEDHjh2TJBmNRrVu3VpSedibiXdgrrc6deqoVq1aFTLkdDKZNOGJW+xdBgCgHKsXUNXeJVwRQRdQTLycAIDKrWnTpvL29rZ3GSimG2+8UYcPHy7UWIvFoqVLl57/uHyFnKXPaDSoa0yIvcsAAKBYCLqAYuGdcwCozNzd3RUaGmrvMlBCAQEBhRpnNpsv+rh58+by8vIqi5IAAEAJEXQBAAAUUUREhJycytPTKN6AuV48PDzUvHlze5cBAACuoOLungkAAFAGatSoofr163OmvUqqdevW5SzkBAAAFyLoAgAAKCSDwaCoqKjz/x+Vi5+fn+rVq0fICQBAOcbbUQAAAIXUsGFDVa9evZydac8mli6WPUJOAAAcA0EXUAw2W94FKDbuP4BDCg4OlkTQURk1btxYVatWLWchJwAAuBRLFwEAAICrcHJyUnh4uCRCTgAAyjs6ugAAACoEWkXLkouLi71LAAAAhUBHFwAAAHANbEAPAIBjIOgCAAAAroEliwAAOAaCLgAAAAAAAFQI7NEFAADg8GxyzD26HLFmAABQntHRBQAAAAAAgAqBji6gGGy2vAtQXNx9AAAAAKD0VdKOrtPanbxJh3PsXcf1ZNWRX8aqT6+xmp9mLfvpctbr7X5xiomO18CPUmS54EsZy15Vn54jNGef5YpXBwAARWFz0AsAAEDpKpugK/NHPVDHWUaDQYaLLka5Nnm8TKYsCvPGyep9QzsNnZF2+Rctuz+i6gAAIABJREFUu/XBLdVkuqhuk6olvKddDpzLWI/O1lMPjtfs1buVWeazWZTy3hMa8/UyrVi5Suv2nb7oqawhe78Sf3hdwx77TPuuQ+YGAAAAAAAqh7JZuujWSnf/e6T8juTKnPK9pvywX817DdctDZzkGtS1TKYsCuupU8qw5corPVNW+V6c9pn8FXvfMxoRvksrP5+u5bZoDR4YrQat4+RvslfFJXVWqye/oG8Oe+vm915UN9+ybeSz7v2vRoxfotNVqsrn1OWxmlfnMRrX/TsN/H68Jv7RW+929irTegAAAAAAQOVQNomHqa4SHn9Jr06YoHE9m8pkcFfL/i9pwoRXNe5f8XljMpbope5xiomO1R1DHlG/tnXk7eIqn7pt1HfSEqVarTr600jdFhuj6Oh43fPyx3q5f3s1quEp92pBiur5nGZvy8471olFGtstTjHR0Yrr9442mqXMlRPUIz5G0dHRirt7itaZJVmPaf7YHkp4+GsdsJi1fmpPxUZHKzo6RrGd7takFacleajF3aP0yvhH1DHAKGNARz0y/hU92ydUnpfezsxkTXu0h+LD6qqau4uc3aqpfpveevHXg/lL9cxKfruvOsbkzdHpvk+01SyZk99W3xvzaou5sb+mrjdLks7u+VmvDIxXiL+XXF29FdC8kwa++L22Z52b0Kq0BaN1R2zedePvm6pfvhqt3u0ayrdKDTW7bbR+2l9A21nGL/rw8xRZg/rrqXvrq0zzOutRzX52jH46UUf9nntAjQqazFhLvf89WE21W19O/U6pDtnVZe+lHlwqxgUASou9f5/xexAAAJQPdt2M3pZ9WJtW71T6qlWqFnaH+j9cT2f+/Faznu0rp4abNNlVsp05qE3Je7Ry5TK51YtRjz5DVe1ksn76/lX1WbVB7/4+R8P8JdmydXhzovb9r51OnQtObDlK3ZKoPUej8j5nlGw22xWeVlllLeLzLev//tL3X/2uXbVv0C2Dequ220klfv+lxvW3qH7KtxroJ1lyT2v/htXafcZX4Y3O33LlHtmi1SnpqtLET2arZN72sfp0Hq4fUn3V+rZ+eqieQQdWzdNXL/TWH5uma/nMexRkkmSVZDujQxvXae+ff2rlfy1yCeqoHj0MWjZzkl6ecY9uGxlyUZ1nV/6iRccMqv3gXYrxKNptLKoT88do1NdHVPOu/2p8193q+WzB41wiuuu2RpM1eemvWnZmoHpeliICAAAAwPWTnZ1d7Ou6ubmVYiUASsJ+QZd3vJ57b5gWNB2hjTeM02+/PqcoT8myM1A7mz+vv1ZtU7XXJ+jHht7q0HK0koIHa+ayT9Q9wCjJqnHzH1H0HR9ozMtzNeyLnho3Z5a8OzbVqNS8w3t2GKnvFg/U1C7BemJv/pzGmur64hx1SnhKYR2nKuDh2fr98XrFbmszBg3V3O0dtXjefK3Znqosg6+iW9fVsh9TtHm3WfJzUdRT32vOmWi1e2GXGnS6VSFOkjH8dt1YZ6y+Pxir0T98q8dDsvT9oDH68Yi/ek1fri/vrZ/3g7Hs08x7Y3Tv16M1cXEvvdfZTb4JL+nHzn31UrsIjUn2UPP73tBnb9yvlj5mpT6zRWfqh1xSpVVp23fomMWk2NAWci7mbS2UzGV65en/aHeVm/XuxL6qnf3qlce6NFOLJs6y/b1L2/ZbpKaOtS6U96EBAACAiiMlJUVJSUnFvv7tt9+uKlWqlGJFAIrLrh1deYzyb9tR4fkdPQYXV7kYJEuu+YIxJjXoPkS3BhjPX8e38xD1bvaxJm5aL6nndao1TV/1a6Ghh55W+pKndHLlq7r77rFaeDD34tDDqals5z/hpPBHXtC9n96hT8e/qj96vqWIReM16Y8sNX5knIaFmCTLPm3ckiarJVffDAzWNwMvnddZfy7fIXUOu/iz4Y/pvx/er5ZOefP4NQ8vsOocs0WSQU7OTmV4mk2r9k5/Ue9vyZWxxm799944fX72kLZZLLJ+8bSeazdLE2/3v2C8k5ydTJLMys0lMgIAoPhsl/wLAABQeZWDoKswLNq3aI5WnWin+Gp5Uc3ppLla8LdFbjcGXfV6V1+OWNS1ipk6fPiEso4cksyJemP4WC3KbqvHv3hdj93WSrUMaVr1yh26+Y0zF1/P52Y9OzJB3/xrusa82V4d53ypQ7536j/PxObt+2WooQA/Fxmca6vLg30U4X3pxCb531D98nqMhkIEV0b51asjL+NK7d+1WzmqKZcCb1uqNixO0sFcLzVsF6MmPoX6jlzAJotnPUW2by9zAV+zXfqttuzV7v1nJdfaql/HQe6GAAAAAACgXCubhMGyX/OnfqTFh3NlTkmRxXZG678crZGr8866OO5f8bIeXawP3pqvvVarslZO05s/BOipWw36Zfpv2mO16tSamZqZHKF73CTJpux1k3VLq9W689Yo+Wdv1fw5C7TDqY1GP9s3b06Tj3yrucqavFQzZ8zW/pytWvLdZ5qxJFdWnzX6csZaxd0XlTe0alVVMViU8vMnmhHcRu6n9mnjkrmaNXerIt5apuedZ+nLtbu08rBVVttivfPcSNUwSNJpJe+xSq6SLKd0/JRVBi9f+dqOKPnX6Vq3aLa+mLVeudbqWv7Rq/rC9UndE+EtyaSgQS/o/96P1fiXBusvs7PavDxWfc91qBlr6q6H+unVBdO1ds1BdRh6hyJquys3bZ9SNiQpcVOanDu6ScrUxllvaWbyHq26oDZfg0HGKi3V79G+CivgBIZuHeJ1g8dMLVw0XzvMbdWigJ+6JeUjPdB1jNaHPKOlf8UU44duUoP7pmnJfZKUpU1fT9GMRQu1d91+mYMi1Dr44vTOsu83LdxklmubeMU6YocvaxdRUtx/AAAAAKDUGWy2y3ptSi7zBz0Q0lPTD5oveS1nkEvjR3V2+xTlrByl1p0nanO2TTI4KWDQt9o2+ayGNuuvr1Itshm8FTNhlRbf8b06tHxBxxKGqdOZxfp17S6luwSqeVxfPTn2afUJ+6f1KGPVK+p21wtafDRXNoOTqjaJVqPM5Vp7wCqv9uOVsXJU3kDrYf345B0a9G6STphtkgwyuvkp9KZBGjN5iFIfbauH55/UlU4G6NTkSeVum6T9c55QjwffV2KaWTaDUR714tUj9KBm/bRd5vz6lz3T4vz10r69R2F9Zyi13jDNS/5AXS/qmsrSls+f1rBRn2rFwezz3zeD0U01mnXWw+98rjFxaXo7IUpPLEq/rDajz416488FeqxJQXtdpemb/qHq+7WHhv6yTu93ubRlzKp9b9+kkCe36M7P12tmP/+SLXG07NK7t0Tq0QX530NjVXV5O1G//V+D/AHZWvlMpDpOPqSEDzdp7pDaZbiksvTd9dxqdQqtKm93OtFQfKu2peuuG+uoa1v/aw+uBBakzNTPW/5r7zJwnd0U0le3tRhs7zIc31InyeQuGR3w71JOutTuoOQaYO9KAFRy7NEFVBxlE3SVIsvW8erQcpzOjvxTa19sdc0WNOvpfVqfvEc5NZooNKSWPK+YoFiVeXCTklNSZfYMVEh4UwV4FD1usZ7epw3JO5XuHqyWEcGqesU91c1a/1IHtX9hpzp9sE4/PHiFTfAtJ7V7wybtPp4jZ28/1WvcWEHVXItc12Wzb5qguHbPaV3T57V0xThFXXTINP2nWwMNP/K0Vq94XuFl/DzZvOV1dW4/QmuCR2rx6vFq52AnKCHoQmkg6LoYQVflRNBVSgi6AKDECLqAiqNcPyPK2vKNpryzSAetVlmWTNVzo+orvM9jGtDqsk2szjN61VNEbL1CHN0oz9rhiqldshqNXvXU6orzWXVo0bt6f+FB5VoOa/G0RGW7t5BX+lYdttZT7YKSLlNVBUfEKLhkZV3GKfRxvT16gbpNSVLSEauigi6YPHOpFq2ppn4f/V+Zh1ySVSfWrdXf7u01YupIhwu5AAAAAABA+VWOgy6Ljiz+RK999IdOWiUtnaZJy7wVV6On+rZqpis2TpUrudr4zWua+NF+/XNiwU367oOfNPSRBNUueaNWEbgpasQiHRxRwJecGqv7K9PU7vZq16EOo2r2n6UD/a/DVAAAVBpsHgkAACCV66DLpAbD5+vEcHvXURKuSvhgn3I+sHcd1+Aaqp73h9q7CofCywmUFPcfAAAAACh9jrQHOAAAAAAAAHBF5bijCwAAAIVDrzEAAIBE0AUUD68nAAAAAAAod1i6CAAAAAAAgAqBji5USjabTQaDwd5lAA6DxwxQntku+RcAAKDyIuhCpVSSF+y2C/4DKgtCLgAAUBGsX7++wM+npaWV6LgpKSlydXW97POurq5q2rRpiY4NoGgIulDpmM1m5eTkyMPDw96lAA4hKytLzs7OcnZ2tncpAAAAxXKuO71mzZpasWKFcnNzS/X4O3fuvOxzVatWVXx8/EXzAyh77NGFSsdsNis5OVlS3h8cAFeXnZ2tjRs3SuIxA5RfNge9AMD1YTAYZLPZFBgYqJtvvlleXl5lOl+dOnV08803y9PT8/z8AK4Pgi5USnv37lVqaip/cIBC2rZtm9LT03nMAAAAh3XueYyPj48SEhLk7+9fJvO0aNFCsbGxcnJiARVgD6X6yHt7xgrtO3SiNA+JSqpeYDU9OiC6TOdYu3atbrnlFklFfIeFN6JRCdlsNiUmJqpTp0603gMAAIfn6uqqG2+8UYmJidqxY0epHNNoNKpdu3aqX78+XfCAHZVq0PXZvM0y52TJ1aNaaR4WlczZrBNq0dBfKuOg6+TJk9qxY4eaNGlSpvMAFcWRI0e0f/9+1a1b196lAAAAlJjRaFSbNm3k4+OjxMTEEoVT7u7uiouLk6+vL28KAnZWyr2UBrlXqSWv6rwIQvGdPr5P1+vvwoYNGxQUFFTgGVIAXC4xMVEBAQG04gPlDq3GAFAcNptNTZo0kY+Pj5YtW6acnJwiH6N69eqKi4uTh4cHIRdQDrBHFyq1nJwcbdiwQVLRNtm299a9XBz/4qiysrK0ZcsWe5cBAABQKs5tUu/v76+EhARVqVKlSNcPCgpSly5dzp/RnZALsD/ekkeFkJqaqtTU1EKNtVgsF328c+dONWrUSNWqseQWlUdKSorMZnOhxp45c+aij7ds2aIGDRqU+dmKAAAArodz4ZS3t7cSEhK0YsUKHTp06JrXCw8PV2hoaFmXB6CICLpQIaxfv17Hjh0r1nVtNpvWrl2rLl260GqMSmP9+vWXhb6FZbValZSUpLi4OB4zQLnhqP2ijlgzgIrM2dlZ8fHxSk5OVkpKSoFjnJyc1L59e9WtW5fnQkA5xNJFQNKxY8e0d+9e/kgBhXTgwAEdPnyYxwwAAKiQWrdurXbt2slovPgls4eHh7p06ULIBZRjBF1AvqSkpEIv5QIgrV27VlarldNnAwCACuXcvl0NGjRQ586d5ebmJkmqWbOmunbtqmrVqhFyAeUYQReQ78yZM9q8ebO9ywAcRkZGhrZt28aTPMDubBf862gXACifzoVdNWvWVEJCgiIjIy8KvXj+A5RfBF3ABbZu3arTp0/buwzAYWzcuPGyzeoBAAAqgnNhlqenp0JCQi5bxgigfOKRClzAarUqMTFRkq69HMveb4JzcfxLBWA2m5WcnCxJLGEEAAAV1j/Pc05rd/ImHc65nrOX1ZxWHfllrPr0Gqv5adbSPvhlc6Wtmaan7mqjBjU85eJeQ817va9NF+wck7PzG/07oZn8PN3kVStMd475WQcvO3dSjnZ+828lNPOTp5uXaoXdqTE/H9TFwzK07NU+6jlijvYV79xLcHAEXcAlDh48qEOHDl2zHdneGQkXx79UFHv27NGxY8do4Qfsyt6/0Sr7b0LAgVgP6T93+cpkMMiQfzGaXFSlTrhuGf6+Vh4r68DDMZ17nmPeOFm9b2inoTPSrtvcZTWn9ehsPfXgeM1evVuZpXrkS+Vo26f9dcOND+qt308o6KZ7NXRARzWs6iLTuSFZKzS21yC9udysVn3vV+/mp7VgfH/dM2WzLtxFOWvFWPUa9KaWm1up7/291fz0Ao3vf4+mbL5wlEHZ+xP1w+vD9Nhn+8Q9uvIh6AIKkJSUxCbbQBGsXbtWNpuNxwwAAOWd0Vft7xmqjrVNMvnF6P5nRuiZJx9Sr1Y2/fnxw7q120tazU4eV2Q9dUoZtlxlpGdetwClbOY8q9WTX9A3h7118+gX1c237KKB00ufU++Hv9GRJsP0VfJm/THrA0395Fv9+MkDauYkSVYd/WqSPtjkpq5vLtQv097T9N9+1rgOuVr2+kT9mJ5/IOtRfTXpA21y66o3F/6iae9N128/j1OH3GV6feKPF8zopc5jxql7zTTNGz9Rf3B/rnQIuoACnDp1SpmZmdfoULH3u+BcHP9ScZw4cULZ2dl0dQEAUO65KqT7QHWqbZTRL1YPjZ+gCa+9rU/n/aWlr3eW05qJeuytjfldNGe15+dXNDA+RP5ernL1DlDzTgP14vfblZV/tIwlL6l7XIyiY+/QkEf6qW0db7m4+qhum76atCT1omDGenSZpgzppGa1vOXq6inf+lG6tUd39Zmw4oKOomvPWRTWk+v0+ajeat+whjzdvOXXJEb9xszSpoy8r59YNFbd4mIUHR2nfu9slFmZWjmhh+JjohUdHae7p6zL+15Yj2n+2B5KePhrHbCYtX5qT8VGRys6Okaxne7WpBWndPSnkbotNkbR0fG65+WP9XL/9mpUw1Pu1YIU1fM5zd6WXcpzliDByfhFH36eImtQfz11b/1/OqtKm/WIvn7tI202ttfzn41Xm4x1Stx1QhevwszRqj9W6pRbrO7uHZRXi1OI+vVqK9OxpVqYeDZ/2Cr9sfKU3GLvVu+gvIqdQvqpV1uTji1deNERjbV669+Dm0q7v9TU71Lp6qpkCLqAAvj4+MjLy4vuFKCQfH195ebmxmMGsBt7B/cE/oDjc1OLh0aqb70cJf/0s/ZYzNr2cR/FdHtes7Z5q0O/h/RQvw7ySvlKL/TurMFf7M3fF8mm7MObtHr5PH36/nydbdNfDz/UTUGHvtOzfZ/UnBP5h7ce0WfDuumpL7arWvw9+r/hA5XQIF3L5/6gOXMW5++lVNg5C+n0Cr1wc7wGT1qgE41v1wPDB6tr0DH9PH6AYru+qNX56Zot+7A2r16lpD2nzgcitpxUbVm9Skm7L/iczXaF31xWWfN/rdnOHNSm1Us1Y/QwjV/hrBv6DNUDtwYr7ddX1efG3vowxVy6cxbT2ZW/aNExg2on3KUYj+If55pyk7UyKVNGP5t+6xWk4FbtFNWotlr0eEOrTpy7ldk6fjxD8q4hX/dzVzTK189XzrZ0HT+e/1PPPq68Yb76Z5iv/HydZUs/fsnELorofpsaGU9p6a/LxKmTKhen0j2cTWdOHVFudkbpHhaVijknU7aa/natISoqis4UoAh4zAAAUAE41VHdAKNsJ48r7eQ8vTfmRx3x76Xpy7/UvfXzXjpa9s3UvTH36uvRE7W413vqHP+c3hu2QE1HbNQN437Tr89FyVMW7QzcqebP/6VVW3PUs4OLZDut1GOZknsDNWzaVGGhIer94FMa9P1oTTfEqa5JUsY8vVKYOd0Kc2Ms+vuT5zU50ai4V/7QvBGt5ClJylTiK7eo8+jXNea/g/Xb8HGaM8tbHZuOUqokyVMdRn6nxQOnqkvwE9p77nDGmur64hx1SnhKYR2nKuDh2fr98XqXdI5M0I8NvdWh5WglBQ/WzGWfqHuAUZJV4+Y/oug7PtCYl+dq2BelOWdxWJW2fYeOWUyKDW0h5xIf7yosGcrItMp8aJWW1+6kf394vxps+0hj3xqhfk830bpPblfVC4Zf+mzSIBXwvkiBoy7j0qyFmjjb9PeubdpvkZqWWdsayptSDbqeuretDh87VZqHRCUVULOK3eauV6+e/P39ZbPZeOEOFELDhg3l6+vLYwYAAEdnS1d6hmRwdZPzgY3akmaVJfcbDQz+RgMvHev8p5bvMKtzWP7ffqO/2nYMzw+TDHJxdZFBFuWe2yPc1EBDJozT6ode01cvPa4vbJIMRnnWi9ewN+rITZJlX2HnLMzL2LNKXJWsbI9OemD4uZBLkjwVOXywYl56UGtWJ0nD6xX1u1QIJjXoPkS3BpyLpIzy7TxEvZt9rImb1kvqWQZzFk2O2SLJICdnp7Jd5mWqruo+RhmyQvTIl3M0Mc5bssYoJzlET/z0nZZn367b3Zzl4e4incnQ6Qta9rIzs5RrcJenZ36Fzh7KG3b6gs6+bGVm5crg7qnLODnLySTJnKtcmogrlVINuvrd2qo0DwdcdyaTSREREZJ01RfsNlveBajsnJ2d1bJlS0lXf8wAKGvsPgKgpKw6tmCaZm+zym/QDWpc65D8XAxyrt1FD/aJkPelw03+uqG6UYVehmzerRWJHhoy75CmO+3U1u07tGPLX5rz7hRNeeBJtYyZrXtqBBRyzsJwkr+/r4xnU7Q2KUP3xP9ztBNr/tI2s1E1/K+yisRivcYtu9pXLdq3aI5WnWin+Gp59Z5OmqsFf1vkdmNQGc1ZFEb51asjL+NK7d+1WzmqKZcCx1mVumGxkg7myqthO8U08Sn6VM5hat3CTYaTDdS8SX4YZfRR9aousmWeVqZVktwUERUm5zlrtGBxuvrc5iMpTQt/T5LZPUJtWuVX5xahqDBnzVmzQIvT+yhv2EL9nmSWe0Sby6a27N2t/Wcl19r1VaeU17KhfOPHDVygefPm8vQs4N0AAAUKDw+Xm1uh1g8AAIBy4ay2ff+Zfj9olTV3mT54bqRmG8w6vf8vzZuzTAf97tLHoxLkXfOkHur3qhZMX6s1Bzto6B0Rqu2eq7R9KdqQlKhNac7q6GbV0cUf6q35e2W1ZmnltDf1Q8BTutXwi6b/tkdW6ymtmTlTyRGDFLbnC4175kXtnL5Kjw3vrsg6HnL3cJebi1HKPaMss2SsdVch5izs7XRR9NB/KfrzEZraI15pj/5Lt7esrqzNP2jq5C+0q0pnvTWkrSTJ5OOraq5WJS+dqRmz9ytn6xJ999kMLcm1ymfNl5qxtqXui8oLeUxVq6qKwaKUnz/RjOA2cj+1TxuXzNWsuVsV8VaiPo+QJJuy103WLa1W685bo+SfvVXz5yzQDqc2Gv1s31Kf88v+/kXuynLrEK8bPGZq4aL52mFuqxYFJQOWFH30QFeNWR+iZ5b+pZgiziFJMtZUt3tv0+j5c/TikHFyGhIp17+/0YTfTsuzXazaukqSSY0HPaoe7wzQF08MUeP0Pqq5eZrGfvs/BQ4Ypt6B+bfO1FiDHu2hdwZ8oSeGNFZ6n5raPG2svv1foAYM631p8dr320JtMruqTXys7LdeCPZA0AXk8/T0VPPmzVl+BRSSj4+PmjRpwmMGAABHYk3Tqs8/0uKDFlm1XJ9OWi6DwUluVeso9I5xen/SCN0SZJLkqzve+lHTXIZp1KfjNOyLc91EBhndaqhZ51ZyNVr19/z39dGi/bLYpDWfv6U53YYr5uyXeu+3fTJbbfpzxida8PAAtaxRX0E1fHUk9Ue9/K9Z+RupG+RWO1oPffimBgcaCzln4SMdp9An9fVc6bEnXtPX44bmL5d0lX9kf73x1hQND8nftMm3l0aN+lx/vvCe7u/1rgxOVdUkOkSBu9bqwJ8z9PGC4bovKlySZGo2RGOGz9Wgd8dr4AJbfm1+Cr1pkHrf4CtjjiQ5Kfj2Yep0ZrF+nfmh0l0C1fymUfpy7NPqE+ZZ+nMW425gDOip++4Yq/lf/0dT/3hc73e5rH9O1oML9fsmq/zuelZPtC3uG5tG+fV5U58k7tcDb7+kwT/ZJINJVVvcq3emDlNw/o/AWKu33vxkrXYNmKJRA76VzeCsWrHPasbrd6r6Bceq1ftNfbJ2lwZMGaUB39pkcK6l2Gdn6PU7q188bfYavf/xCp31SdC9fcrwrJIolww2TpGFCmDBggU6duxYiY4RGxurunXrXnNc92dXKb55VXm58esSxffnzlPq2amuura1z4kXvvrqK1ksRTpv0WU6d+4s/6u1/BfBgpSZ+nnLf0vlWHAcN4X01W0tBtu7DMe31CCZTJLRAQPnHLPU7pDkGmDvSgBcheXkbm3YtFvHc5zl7VdPjRsHqZprMQ9mPa2Dmzdo29FsufgGKzQsWFULaL8o1TmVo7SdG7TlQLY86jZXy4bVC+j4sOr0vvVK3pOjGk1CFVLL8yoBklWZBzcpOSVVZs9AhYQ3VYBH3mjL1vHq0HKczo78U2tfbHWNzpLSmbO4zJsmKK7dc1rX9HktXTFOUZd8f9P+000Nhh/R06tX6PnwkvfIZB/epKStR2X2aaiIVvXlXcDLKWvGXq1ft1uZPk3UOjxQBZ8Q0qqMveu1bnemfJq0VnjgpaPM2vJ6Z7UfsUbBIxdr9fh2Yv1B5UJHFyCpVq1aqlu3Lp0pQCFx0gYAACoPU9VgRcQEl87BjF6qHdZBtcOu45xykW+jKMU2umph8qoXodhC7U1vlGftcMXUvvizWVu+0ZR3Fumg1SrLkql6blR9hfd5TANaXd4tVVpzloRT6ON6e/QCdZuSpKQjVkUFXRicZWrpojWq1u8j/V8phFyS5BYQqg4BoVcdY/QOUkTsVfYxyxsl76AIXXGY9YTWrf1b7u1HaOpIQq7KiKALFUJkZKRSU1MLNdZsNmvDhg3nPzYYDIqMjDz//4HKIDIyUmaz+doDJWVlZSklJeX8xyaTSa1bt5bEYwYAACCPRUcWf6LXPvpDJ62Slk7TpGXeiqvRU31bNSunS+fcFDVikQ6OKOhrTmrc/RVNa3e7ql3vskrKWFP9Zx1Qf3vXAbsh6EKFUL16dVWvXv3aAyVlZ2dfFHQ1adJEPj4+dKagUmnU6KpvaV7k+PHjFwVdLVq0kIdHwY3kAOyFnSgAwL5MajB8vk4Mt3eFoOXoAAAgAElEQVQdpcVVoT3v19X7r4DyiaALlZqrq6vCwvL6posSctnESwpUTl5eXmrWrBnBMAAAAIByiaALlVqrVq3k4uJS9CuSdKGSioyMlMlUPpvvAQAAAICgC5VW9erV1aBBAzpTgEIKDAxU7dq1ecwA5RLvvgAAAEgEXajEoqKieLEOFJLRaOSkDQAAAADKPeO1hwAVT3BwsGrUqCGbjXfAgcJo2rSpvL2vdGpsAAAAACgfCLpQ6Tg7O6tVq1aS6EwBCsPd3V2hoZxzBwAAAED5x9JFVDomk0nu7u4lOgZ70aOkHOn+U9LHC4DrwZF+qwAAAJQdOrpQKbFkESgaHjMAAAAAHAEdXaiUWLIIFA2PGQBAZfH5D4lav+2wvcsA4AAeGRCtoMBq9i4DlyDoAoqDtYsoKe4/AEodv1iA0rB+22EtXL1Trh68eAVQMIslV+azp3XPHa0Jusohgi6gGMi5AAAAKi5Xj2qq4tfI3mUAKKcs5hwdP7De3mXgCtijCwAAAAAAABUCQRcAAAAAAAAqBIIuAAAAAAAAVAgEXQAAAAAAAKgQ2IweKCKb2IweJcf9B0BpsZ37Hwf9xWKwdwEAAKBCoaMLAAAAAAAAFQIdXUBxOPA75wAAAAAAVFR0dAEAAAAAAKBCIOgCAAAAAABAhUDQBQAAAAAAgAqBPbqAYmCLLgBAeeKof5M44yIAAChtdHQBAAAAAACgQqCjCygWeroAAAAAAChvCLqA4iDnQklx/wEAAACAUsfSRQAAAAAAAFQIdHQBxURDDgAAQMV0NuuE/rcv2d5lACinbFazvUvAVRB0AQAAODLbJf8CKJG7bgpVZIs69i4DgAOo4+9j7xJQAIIuAAAAAMgXHVFf0RH2rgIAUFzs0QUAAAAAAIAKgY4uAAAAB+eoqxYN9i4AAABUOARdQDHY5LgvKlA+cP8BAAAAgNJH0AUUlU0kXQAAAAAAlEPs0QUAAAAAAIAKgaALAAAAAAAAFQJBFwAAAAAAACoEgi4AAAAAAABUCGxGDxQDe9EDAMoT/iYBAADkoaMLAACgEGw24iQAAIDyjqALAADgGiwWiwwGg73LAAAAwDUQdAHFZePCpQQXAA4lMTFRkujqqqT4uQMA4DjYowsoBrIKlBT3H8CxpKamau/evQoKCrJ3KbiOMjMzlZWVpZo1a9q7FAAAUEh0dAEAABRCcnKyzGazvcvAdZaYmCibzUZXFwAADoKgCwAAoBCysrK0efNme5dRMHsvx67Ay7iPHz+uXbt2sUcbAAAOgqALAACgkLZu3arTp0/buwxcZ+vWrVNOTo69ywAAAIVA0AUAAFBIVqtVSUlJktigvDI5e/asNm7cKImfOwAA5R2b0QPF4EArLgAAV5CamlrosRfuzXXgwAEdPnxYAQEBZVFWkdku+RdlY/v27WrUqJF8fHzsXQoAALgKgi4AAFDprF+/vkT7bSUmJurWW2+VwWBg76ZKwmazKTExUZ06dZLNZuPnDgBAOUXQBRQHLV0oKe4/gEM7deqUtm/frqZNm9q7FBTRn3/+qePHjxdqrMViuejjI0eOaP/+/apbt25ZlAYAAEoBQRcAAEAxbNiwQUFBQXJ3d7d3KSiC48ePFzroKkhSUpICAwNlMplKsSoAAFBa2IweAACgGMxms9avXy+JDcork8zMTG3ZssXeZQAAgCsg6AIAACimXbt26X//+x/7NVUyW7ZsUWZmpr3LAAAABWDpIlAMbNEFADgnMTFRN998syTZLfDi79L1ZbFYlJycrJiYGDamByqIlJQUJSUlFfv6t99+u6pUqVKKFQEoLjq6AAAASiAtLU27d+8m7Khk9u3bp6NHj/JzBwCgnCHoAorDxoVLCS8AKpR169YpNzfX3mXgOlu7dq1sNht7tAEAUI4QdAEAAJRQdna29u/fb78C7B3eV9LQPz09Xdu3b6erCwCAcoSgCwAAoBT4+PjYuwTYwcaNG2U2m+1dBgAAyMdm9EARVaA3omFH3H+AiiU4OFi+vr5sTF4J5eTkyGKxyMmJp9UAAJQHdHQBAACUgJOTk1q1aiXJfmddhP00bNhQrq6u7NMFAEA5QdAFAABQAqGhoXJ3d7d3GbADZ2dntWzZUhIhJwAA5QVBFwAAQDF5e3srJCSEbp5KKiwsTG5ubvYuAwAAXIDNBIDiYJMuAICkyMhImUwme5fBnyU7qFKlipo0acK+bAAAlDN0dAEAABRDYGCgAgMD6eaqpKKiomQ0Ggm5AAAoZ+joAoqBd84BoHIzGo2KjIyUxN5MlVGdOnVUq1YturkAACiHCLoAAEClU7duXaWnpxd6/JEjR2Q2m89/3LRpU3l7e5dFaSjnjEajWrduLYmQEwCA8oigCwAAVDrVq1dXXFxcocfPmzdPp06dkiS5u7srNDS0rEpDOde8eXN5eXnZuwwAAHAFBF0AAABFEBERIScnnkI5qq5duyozM7NQY7OysrRgwYLzH3t4eKh58+ZlVRqA6yAlJaXAzx89erREx921a1eBZ2F1dnZWw4YNS3RsAEXDszQAAIBCqlGjhurXr8/eTA7O09OzWNdr3bo1ISfgoM793nZ1ddWaNWtktVpL9fhbtmy57HOenp6Kj4+/aH4AZY+/1EAxsRk9AFQ+UVFRksrf3kw2G3+Xypqfn5/q1avHi1XAQRkMBtlsNgUHB8vb21tLly5VdnZ2mc3n5+en2NhYubq6np8fwPVB0AUUB6ddRElx/wEcTqNGjVS9enWCjkrIYDCU25ATQOGdC7tq1Kihrl27asmSJTpx4kSpz9OwYUO1adNGRqOx1I8N4Np45AEAAFyDi4uLwsPDJRF0VEaNGzdW1apVZbPxLgXg6M79Dvfw8FCXLl1Ur169Uj12ZGSkbrjhBkIuwI549AEAAFxDeHh4gZsMo+JzdXUl5AQqKCcnJ8XExCgsLKzEx3J2dlbHjh0VEhJCKA7YGUsXgWKw5f8HFBf3HsCx1KpViyWLlVTLli3l4uJi7zIAlBGbzaawsDD5+Pho1apVslgsRT6Gt7e34uPjVaVKFf5WAOUAQRcAAEAh8MKl8vH09FTDhg154QpUYOf27apXr568vb21ZMkSZWVlFfr6AQEBio6OPh+I87sCsD+WLgIAADg4m4NeHIHBYOCFK1DBnQu7qlWrpoSEBNWoUaNQ1wsJCVHHjh3p+gTKGYIuAAAA4ArYaweoHM4F2u7u7urcubOCg4OvOrZt27aKjIy8XuUBKAKWLgIAAABXQDcXUPmYTCa1b99eVatWVXJy8kVfc3V1VWxsrPz8/FjWDJRTBF1AcTjSmgsAAAAARWKz2dSsWTNVqVJFK1askNlslo+Pj+Lj4+Xl5UXIBZRjBF0AAAAAAFzg3L5dtWvXVkJCgv7++2+FhYXJ2dn5/NcBlE8EXUAx0NAFAAAAVGznwiwfHx+1bt3aztUAKCyCLgAAgIqAd2AAoMywVBFwHJx1EQAAAACAqyDkAhwHQRcAAAAAAAAqBJYuAsXAHl0oKe4/AEqL7ZJ/AQAAKjM6ugAAAAAAAFAh0NEFFActXSgp7j8AAAAAUOro6AIAAAAAAECFQNAFAAAAAACACoGli0AxsHIRAAAAAIDyh6ALAADAwTnqGzA2SQZ7FwEAACoUli4CAAAAAACgQiDoAgAAAAAAQIXA0kWgiGw2yWa1yWpxxEUiKC9sNu4/AAAAAFDaCLqAIrLabFq1M509RVAiNkkmI/ciAKWA3BwAAOA8gi6giH6a2MHeJQAAAAAAgAKwRxcAAAAAAAAqBIIuAAAAAAAAVAgEXQAAAACASui0didv0uGc6znlbiVvOqzCT2nVkV/Gqk+vsZqfZi27ujI26PN/d1PrulXl7uqtgBZd9dhnG3X60nE5O/XNvxPUzM9Tbl61FHbnGP180HLZ4XJ2fqN/JzSTn6ebvGqF6c4xP+vSYRnLXlWfniM0Z9/l1wdKgqALAAAAAByQ9dB/dJevSQaDIf9ilMmliuqE36Lh76/UsTLMRSoC88bJ6n1DOw2dkXa9ZtTGyb11Q7uhKuyU1qOz9dSD4zV79W5lllVZ1n36bHCC7nvzd2WEdNP9D/ZWK+tqTb3/Fg358tAFA7O0YmwvDXpzucyt+ur+3s11esF49b9nijabLxy2QmN7DdKby81q1fd+9W5+WgvG99c9UzbrwmGG7P1K/OF1DXvsM+3jvopSRNAFAADg4GwOegFQMkbf9rpnaEfVNpnkF3O/nhnxjJ58qJda2f7Uxw/fqm4vrb68IwfnWU+dUoYtVxnpmbo+OYtVp05lyJabofTMwsx4Vqsnv6BvDnvr5tEvqptv2bx8t+z5Wh/PO6aAez7T6t/+q3enfqpfVn6mQQFHNHfad/9Uf/QrTfpgk9y6vqmFv0zTe9N/08/jOih32eua+GP6+dt49KtJ+mCTm7q+uVC/THtP03/7WeM65GrZ6xN1fpgkr85jNK57TaXNG6+Jf3BPRekh6AIAAAAAR+Qaou4DO6m20Si/2Ic0fsIEvfb2p5r311K93tlJayY+prc2nuuhOas9P7+igfEh8vdylat3gJp3GqgXv9+urPwRGUteUve4GEXH3qEhj/RT2zrecnH1Ud02fTVpSepFYZD16DJNGdJJzWp5y9XVU771o3Rrj+7qM2HFBZ1H156zKKwn1+nzUb3VvmENebp5y69JjPqNmaVNGZJ0QovGdlNcTLSi4/rpnY1mKXOlJvSIV0x0tKLj7taUdfnfC+sxzR/bQwkPf60DFrPWT+2p2OhoRUfHKLbT3Zq0bJd+GnmbYmOiFR1/j17++GX1b99INTzdVS0oSj2fm61t2XmHOrForLrFxSg6Ok793tkoszK1ckIPxcdEKzo6TndPWSezJOux+RrbI0EPf31AFvN6Te0Zq+joaEXHxKrT3ZO0oqCcJ+MXffh5iqxB/fXUvfVlKsb3rDBM9e7SiElv6MNxd+pclmbNzVa2xSZLztnz43JW/aGVp9wUe3dvBZkkyUkh/XqpremYli5MPDdKq/5YqVNusbq7d1BezU4h6terrUzHlmph4j/Hk7GWev97sJpqt76c+p1S6epCKSHoAgAAAICKxK2FHhrZV/VykvXTz3skmbXt4z6K6fa8Zm3zVod+D+mhfh3klfKVXujdWYO/2Ku8XZJsyj68SauXz9On78/X2Tb99fBD3RR06Ds92/dJzTmRf3zrEX02rJue+mK7qsXfo/8bPlAJDdK1fO4PmjNnsfK2XCrsnIV0eoVeuDlegyct0InGt+uB4YPVNeiYfh4/QLFdX9TqzHP1b9bqVUnac+pcamJTTuoWrV6VpN2n/klSbDbbFTpLrbLaJJtsOnNwk1YvnaHRw8ZrhfMN6jP0Ad0anKZfX+2jG3t/qJT83MyWfVibV69S0p5T58NAW06qtqxepaTd5z5nk812hV5Wq7XAWs6u/EWLjhlUO+EuxXgU5ZtVRE4Ndftjj+rW+nlRmvX4co3v83/6+mgVxd99+/lh2cePK0PequHrfv5zRl8/+TrblH78+LlROn48Q/KuoX+GGeXr5ytnW7qOH7/4p+4S0V23NTLq1NJftexMGd5GVCpO9i4AAAAAAFC6nOrUVYDRppPH06SMTXplzI864t9L05d/qXvr570MtOybqXtj7tXXoydqca/31Dn+Ob03bIGajtioG8b9pl+fi5KnLNoZuFPNn/9Lq7bmqGcHF8l2WqnHMiX3BmrYtKnCQkPU+8GnNOj70ZpuiFNdk6SMeYWb060wt8aivz95XpMTjYp75Q/NG9FKnpKkTCW+cos6j35dY/47WL+Nm6NZ3h3VdFRq3tU8O2jkd4s1cGoXBT+x95/DGWuq64tz1CnhKYV1nKqAh2fr98frXdwFEvejGnp3UMvRSQoePFPLPumuAKMk6zjNfyRad3wwRi/P7asveo7TnFne6th0lPJm9VSHkd9p8cCp6hL8hPaen7KrXpzTSQlPhanj1AA9PPt3PV7van0nVqVt36FjFpNiQ1vIuTDfplJg3jtHT/S4T++tkyIen6nP/y/k8kGGgj6+PKor1DCXZmrRxFm2v3dp236L1LSs+tZQmdDRBQAAAAAVjC09XRkyyNXNTZZ9G7UlzSrLwW80MNj5/Ob1TkH9NXO/RZaDf2r5jgu2CTf6q23H8PwwySAXVxcZZFHuuSGmBhoyYZy6Be7WVy89rvvvvkUdQkPU86Ojqh1SR25S0ee8qrNKXJWsbI8b9cDwcyGXJHkqcvhgxbhkKnl1Uql83y5jaqDuQ27NC7kkyeirzkN6q5nphDat3102c+bLMVskGeTk7HQdXrhbdXLNG+oR11fvbvRW1wm/aMFrt6jWBRM7e7jLRWeUcfqCrqzsTGXlGuTuee6n4iwPdxfpTIYuHpalXIO7PD0vvSVOcnYySTIrN5fdG1E66OgCAAAAgIrEekwLps3WNqufBt3QSIYaAfJzMci5dhc92CdC3peON/nrhupGFfo0EebdWpHooSHzDmm6005t3b5DO7b8pTnvTtGUB55Uy5jZuqfQcxaGk/z9fWU8m6K1SRm6J/6fo51Y85e2mY2q4e9/xWtbrNe6XVf5umWfFs1ZpRPt4lXNKEmnlTR3gf62uOnGoICrXK/g5YiFmTKPUX716sjLuFL7d+1WjmrK5QojrakbtDjpoHK9GqpdTBP5XOvQlzmrnbMeU++HPtYGY5Qe+/orvda9/mVhgVtElMKc52jNgsVK73ObfCSlLfxdSWZ3RbRpdW6UIqLC5DxnjRYsTlef23wkpWnh70kyu0eoTatLboVlr3bvPyu51lb9OsQTKB3ckwAAAByczeagZzG8dF0LgKI5u03ff/a7Dlqtyl32gZ4bOVsG82nt/2ue5iw7KL+7PtaoBE8ZDXfpoX6vasH0tVpzsIOG3hGh2u65StuXog1JidqU5qyOblYdXfyh3pq/V1ZrllZOe1M/BDylWw2/aPpve2S1ntKamTOVHDFIYXu+0LhnXtTO6av02PDuiqzjIXcPd7m5GKXcM8oyS8ZahZmzsDfURdFD/6Xoz0doao94pT36L93esrqyNv+gqZO/0K4qnfXWkLaSTPLxrSZXa7KWzpyh2ftztHXJd/psxhLlWn205ssZWtvyPkXlJ0GmqlVVxWBRys+faEZwG7mf2qeNS+Zq1tytinjrT42WJFu21k2+Ra1W36lbo/yVvXW+5izYIac2o/Vs37xwzeTjq2quViUvnakZs/crZ+sSfffZDC3JtcpnzZeasbal7ovykWRS1apVZLCk6OdPZii4jbtO7duoJXNnae7WCL2V+KX6+/8T/rl1iNcNHjO1cNF87TC3VYsCX71blPLRA+o6Zr1Cnlmqv2KKeieyat9nAxT3wHc6bPVW2F3t5Lr6Az2/WrKm79Ve/yH66oXOebez8SA92uMdDfjiCQ1pnK4+NTdr2thv9b/AARrWOzD/eCY1HvSoerwzQF88MUSN0/uo5uZpGvvt/xQ4YJh6B14cblr2/aaFm8xybROv2CpFrR0omMF2xR3xAAC4PhakzNTPW/5r7zJwnd0U0le3tRhs7zIcnmWxQdk2yRFPVuVpkIztD0muV+mKAHBF1kP/UY+wBzT3+LnfAAYZnNxUtU6outw/TpNG3KKgcw00WVv0+dPDNOrTFTqYbTs/3uhWQ806P6x3Ph8p10mt1XniZmXbJINTgAZ9u02Tzw5Vs/5fKdVik8E7RhNW/aF/V5+h3pFPa40tS4ePZiqvYcogt9rRun/iR5o8oJncCjXnGN1YrdC3VqlL39BjT7ym75JTlWOTZHCVf2RvjXprih7p4Ju3vC9jlV7pdpdeWHxUuTaDnKo2UXSjTC1fe0BWr/Yav2KpRoXnJ0bWw/rxyTs06N0knTDb8mvzU+hNgzRmyotqPitOLV84poRhnXRm8a9auytdLoHNFdf3SY19uo/CzrdOZWjVK9101wuLdTTXJoNTVTWJbqTM5Wt1wOql9uNXaOWo8Pwpf9STdwzSu0knlDelUW5+obpp0BhNGd9TDS8Ks9L0Tf9Q9f3aQ0N/Waf3u1zWFydZ9+ntm0L05JY79fn6mernX9RFjmatH9tWbV5MVm4BX3UOf14561/6Z7qjv2pEtwGa8udxmW0GOdeK1cgZ3+mFTr4XLK+06uivI9RtwBT9edwsm8FZtWJHasZ3L6iT74X1ZWvlM5HqOPmQEj7cpLlDarO3EkoFQRcAwO4Iuiongq7SQdAFoCgsJ3drw6bdOp7jLG+/emrcOEjVXIt5MOtpHdy8QduOZsvFN1ihYcGqWkDXUanOqRyl7dygLQey5VG3uVo2rH75MiXrae1bn6w9OTXUJDREtS7bF+qiwco8uEnJKakyewYqJLypAjyMkizaOr6DWo47q5F/rtWLra61GMqq0/vWK3lPjmo0CVVILc8rhzbWTB3clKyUVLM8A0MU3jRAHlcYbN40QXHtntO6ps9r6Ypxirr0+5b2H3VrMFxHnl6tFc+HX58lW9YM7V2/TrszfdSkdbgCr3BGSGvGXq1ft1uZPk3UOjxQlw4zb3ldnduP0JrgkVq8erzaFbrDD7g6gi4AgN0RdFVOBF2lg6ALAEpblrZ8M0XvvP+ePl5qUfTggepQP1x9HhugVgU0VZWtbK2deJu6TfHQ2NVzNTTo4kQsc869aviEiz5KnqY7C90dVx5YdezL/op48oAe+PYXjYu57t9YVGDs0QUAAAAAwDmWI1r8yWv66I+TskpaOm2SlnnHqUbPvmrVzHSdi3FT1IhFOjii4K86Ne6uV6a10+0OFXJJklE1+8/Sgf72rgMVEUEXAAAAAADnmBpo+PwTGm7vOgrBNbSn7g+1dxVA+cJebwAAAAAAAKgQCLoAAAAAAABQIRB0AQAAAAAAoEJgjy4AAAAHZrvkXwAAgMqMji4AAAAAAABUCARdAAAAAAAAqBBYuggAAODoHHXdosHeBQAAgIqGoAsAAAAAcFWJmw8ox2yxdxn/396dh9lc938cf511NpphmBH62YqQLXszZrjVnVAk+1LErRJaLaWITCmESNvtrltIJBWRbFmGkTLU2LpJ9q1pLDPMcs75/P6YwRjbKGOab8/HdZ3LdZ35nO/7/f2c43Lm5fP5fpFPKpUtrqLBgfndBpArBF0AAAAAgMt6+vX5Op6cmt9tIJ+MH3yvGtetkN9tALlC0AUAAFDAGRXc3YsACo7AkJIKKBye323gejJGifs25ncXwFUh6AIAAAAAXJbdbpPd7pTdwa+QfyfG+PK7BeCqcddFAAAAAAAAWAJBFwAAAAAAACyBoAsAAAAAAACWQNAFAAAAAAAASyDoAgAAAAAAgCUQdAEAAAAAAMASCLoAAAAAAABgCQRdAAAAAAAAsARnfjcAAACAP8cYyeR3EwAAAH8BrOgCAAAAAACAJRB0AQAAAAAAwBIIugAAAAAAAGAJBF0AAAAAAACwBIIuAAAAAAAAWAJ3XQQAACjgjLjrIoC8leHx6lTKQfm8GfndCq4jY/jXBQUPQRcAAAAA4LIqlS2u34+flt2ent+t4DozNxRVUIA7v9sAco2gCwAAAABwWVNebpffLQBArnCNLgAAAAAAAFgCQRcAAAAAAAAsgaALAAAAAAAAlsA1ugAAAAoyk+NPAACAvzFWdAEAAAAAAMASCLoAAAAAAABgCWxdBAAAKOCM2LkIAAAgsaILAAAAAAAAFkHQBQAAAAAAAEsg6AIAAAAAAIAlEHQBAAAAAADAEgi6AAAAAAAAYAkEXQAAAAAAALAEZ343AAAAgD/O5PgTAADg74wVXQAAAAAAALAEgi4AAAAAAABYAlsXAQAACjoj9i4CAACIFV0AAAAAAACwCIIuAAAAAAAAWAJBFwAAAAAAACyBoAsAAAAAAACWQNAFAAAAAAAAS+CuiwAAAAUcN10EAADIxIouAAAAAAAAWAJBFwAAAAAAACyBoAsAAAAAAACWQNAFAAAAAAAASyDoAgAAAAAAgCVw10UAAIACzpjMBwAAwN8dK7oAAAAAAABgCQRdAAAAAAAAsASCLgAAAAAAAFgCQRcAAAAAAAAsgaALAAAAAAAAlsBdFwEAAAo4k/UoaApizwAA4K+NFV0AAAAAAACwBIIuAAAAAAAAWAJBFwAAAAAAACyBoAsAAAAAAACWQNAFAAAAAAAASyDoAgAAAAAAgCU487sBAAAA/Ekm6wEAAPA3x4ouAAAAAAAAWAJBFwAAAAAAACyBrYsAAAAWwM5FAAAAVnQBAAAAAADAIgi6AAAAAAAAYAkEXQAAAAAAALAEgi4AAAAAAABYAkEXAAAAAAAALIG7LgIAABRgJtsDAADg744VXQAAAAAAALAEgi4AAAAAAABYAlsXAQAACjr2LgIAAEhiRRcAAAAAAAAsgqALAAAAAAAAlkDQBQAAAAAAAEsg6AIAAAAAAIAlEHQBAAAAAADAErjrIgAAQAHHTRcBAAAysaILAAAAAAAAlkDQBQAAAAAAAEsg6AIAAAAAAIAlcI0uAEC+czv95Xb45XcbuM78nP753QIAAAAsxmaM4dqlAAAABVTGcpuMJI8vvzu5eoFOSQ0OSH435ncrAADAIljRBQAAUIC5qs+XMo7Ind+N/FHOkPzuAAAAWAgrugAAAAAAAGAJXIweAAAAAAAAlkDQBQAAAAAAAEsg6AIAAAAAAIAlEHQBAAAAAADAEgi6AAAAAAAAYAkEXQAAAAAAALAEgi4AAAAAAABYAkEXAAAAAAAALIGgCwAAAAAAAJZA0AUAAAAAAABLIOgCAAAAAACAJRB0AQAAAAAAwBIIugAAAAAAAGAJBF0AAAAAAACwBIIuAAAAAAAAWAJBFwAAAAAAACyBoAsAAAAAAACWQNAFAAAAAAAASyDoAgAAAAAAgCUQdAEAAAAAAMASCLoAAAAAAABgCQRdAAAAAAAAsASCLgAAAAAAAFgCQRcAAJSHuVwAABUPSURBVAAAAAAsgaALAAAAAAAAlkDQBQAAoFStG9NWjSMjFBERoYhGzTViVfolR3s2TVCHqAg1eepzJeV5b14d27Fac94ZoX6d7lStar31eWqeF732kncpPuGgLj2rf4WaPh1aOEwd2g7TokRfHjaWJX2T3uwUpciIaD343jZ587ygT4nrpuiZ++uqfLEguQOKqUrbt5XgydbSjtl69u7KCgvyV6ES1XTf0AXaf0Fj6dox+1ndXTlMQf6FVKLafRq6YH+O/k9q1asd9MCgudqT9ycGAMBZBF0AAOAivNrx5p0KcdhkszlV5l8LdPzsz5K16NFyctpsstmD1Xjs1mta+dicbrrRaZfNZst62GV3BSq0wh3q/OoSHcirX5qNZCSZxO2KW/OddlyPoCMXUhc8oqq3RqntY8M0aeZSbdqXLE/21nwH9OH9oXKcnS+b7A63bihdXff0eVtrjv4VzsOjn8a2U/0GvTU98a9b03d4jp75V4zmxO1SSt42J8mrbZOf0tBZqxS7Zq027kmWydN66dr+n86q3+RfmrAsSWXu7KbeXRqrQohbjjNDTsVqWNuHNG61RzU7Pqx2VZK1OKazuo7frGxZmE7FDlPbh8ZptaemOj7cTlWSFyumc1eN35x9lE2pe3/Ql2Me0RNT9+iv8CkEAPw9EHQBAICLcKhEVDe1quInm7zaO3OMPtyZmTB5f52qsR/vllc2uW5tqYcal76mlQvV7qgB/ZupvNOuInW7asCggRr4RA/dFb5Hc164X61Hfn9N62XyV/0Bn2rF6lgtGRIp1xVGO2s8oU9Wxmr5uNYqkgfdZOeu013DXx6t/8xbqbHNA2XLOcAeqoZde6txKYccYZF6eOAgDXz6UbWtafTd+33VvNXLikvO4yavyKcTJ07KZJzU8ZTrFXlcbc00xY19SbMPFtY/XxyhVqF5+zXZt/u/GhSzQsk3hCj4OnwjT145RO36ztahio/ok/jNWj7zHU3696ea9++equyUJJ8Of/K63knwV7NxS7RwymR98M0CDb8jQ6vGvKZ5Z5Ju32F98vo7SvBvpnFLFmrK5A/0zYLhuiNjlca8Ni9bxUJqOnS4WhdP1PyY17Q83z+DAIC/C4IuAABwUYVqtlPLqgGSzSalrNLEcd8qRalaO/FNLT+Z+bS7cgt1qF1YSonXlP5tFF3tJhUJcMvlX0Rl67bTiK/PbWfy/PiuHr47WpGRkYq+p69m/JKmbR8+ombRkYqMjFbzxz/Sz17JWbaFnhzQQuXsNhVp0FMvjxqlUWPe0sxv52lQjTTFfzIr64g+Hdv4kZ5r11AVigXJv3CYKkZ20tCZCTqZ/UR8x7Txo+fUrmEFFQvyV+GwiorsNFQzE07qqqWu0+gHohUZkbnFsdG9MYrNsS/u5IqX1ToqUhGN7lWvfp1Ur3Rhuf2CdVPdjnp9xZHzVrYc+2GK+jW7TSVv8FdQaDnV7/CU+jwQpYiICEU2e0pz9vpkD4tUr+eeUY+WtVXC/4KYS5KfKrV+UP8oZZc9rJEejRmlUaPf1H/mr9fKMU3lXPeanpjw03krcq7sCnObtFTDWkUpMiJCUZ0m6iePlLJmlNpERyoiIkJR7cdrY1ZB39FFGtbmbvWdtU9ezyZNeqBR5vbQyEb6R/vXFXvisL4a3EKNIiMUEd1VI98fqc4Nb1axoAAVKVNHDwyZo+2pkpSkpcNaKSoyQhFRnTQxs6hGtcl6P6Laa3xW0SvWvFjocnKh3v1om3xlOuuZbmXPrXLKC77DmvP8UH2VVFqdhvTUzXlaTJLvkGaNfk+b7Q31wtQY1T25UT/8kpRjS2e61i5foxP+jdS+XZnM83dWUqe29eQ4ulJLfkjLGrZWy9eckH+j9mpXJrNxZ6VOalvPoaMrl5x3RHuJdnq2+63Srhma9NkRVnUBAK4Lgi4AAHBZtkIN1KSen3ZNG63/rp+pN/77P7lub6I7gs+FLr7f1uvzT5bpF1cV3fNQXz356P0qf3Sehnfup+lHsn69NT6dPrhZcWtitWrFeu065dWJn9do2apYrfnuZx1N811+69ap3/RbspHN7S9JSo59Sf+M7q7XFyfplpY91ad7M5U5ukAxXRqp2Yi4rK1nyYp96Z+K7v66FifdopY9+6h7szI6uiBGXRo104i4P7BBzSZJRonb47Rm/U79fsFv70apBxMUt3q+/vP2IqXV7ay+j7ZSmQOf6fmOT2tu1kW90jeNVuu7euut1Wmq3PphPdSygpIWTNDbn63S2o17dOpP72PzV9VHB6vj/6Ur/qsF+vUqtnzmam5Nqg5ujtPaDb/qxJk5MOk6siVOazfsOvecjIy5xMn4Mt9zI6PT+xMUt3K6XnwkRrGu+urQu6eal0vU1692UJN272qbJ/NYqQc3K27tBv16rqjSj2xR3NoN2pXtuSvVzCltzUItPWpTqbvvV2Rg7ufqj0haNFTPzTqk4ve/ophmIReu0rvWMuK1ZkOK7GFG37Qto3I1G6jOzaVUtc0bWpt0Zs5S9fvvJ6XCxRQacOaFdoWGhcpljuv337M+QKm/K3NYqM4NC1VYqEvm+O85CrtVq3UL3Ww/oZVfr9LpvD5PAAAkyQAAAFxUipnVIcTYQ9qbKTMfNKUcTlOidEnjcoSbjlM/MF1D7SaozXSTkjXae2y7WTrtTfPK0BfMC8NGmhfuv9k4nZXNwLi0c4c8vdV81LOaKWx3mVKRzU39MKexF6lnnpy7y2Rkq+w9MMk0ddtNkbpdzYBBg8yzfbuZprcUNnZHCdPy3e3GeHaYcY0DjT2ksRkVn3zuhcnfm5hGwcZe+C7z1m6v8ewYZxoH2k1I41Hm/GExplGw3RS+6y2z25vjrKe2Mn72UNNt7unLzs3UVn7GHt7DfHnBMI/ZOTrSuOzBJnLkepOc9dz/RjU0LmdF80xsmjHmmJndqZix+9UwA1YeO/vKY6ufM7f724yz8kCTfdrO1JzeJsjYQzqZ2Sk5fuTZYkbWcxnXbc+Z77JPpGe7GdXQdYnjXUIu59Z4dprRkS7jrPi0WX3m2N79ZuI/3MZZob9ZcV69NLP66YrG6Y4243JOeNb8bBlZz7hsTlOhx1xz4MwQ72/m6z6VjMseZrp8esycnVtnRfP0uaJm/8R/GLezgul/XtEr1czOa/a/2cS45TZNJx0wVxr9pySvNM9WdRt70XvM2zs9xrP5ZVPH5TLVhqw/7+/ANZXyiWkfbDOSzbhKNTUD351u3nk62oQ7nKZMz3kmyRhjTJKZ0sLP2Es8bOZn+0ynzHjAFLKHmI6zsj50SVNMCz+7KfHwfHNuWIqZ8UAhYw/peGHtYx+a+wJsxlU/xmz15NUJAgBwDiu6AADAFdhUuPlT6lXTrsP7DkqVe+jJ+85fhXJszatqVvU23dm1v54fMVIjh7+gkXN3yCOj8xbW+N+qru/N0/iWwTq4eoHWJYap/eQvNLZ1WTkvqOtT0vppGv3a63rj3c+1tfDdGvrZKn3Su6KU9oPWxqcqsElP9akZdO4lQbXVp3uk3CnxituQrrQf1io+NVBNevbR+cP6qHukWynxcdqQV7cBtIerXuPqyixrk9vPLZu8yvBI8uzVlp+Py1GxpTo0DD77kuD6HXVvlQtn4g8zx3X8pGTz85d/br/15XJu84SjvFr3aq4bz/RqD1XTXu1U2ZGkhE278qZmlnSPV5JNTpczD7c8+LT7gxF6e0uG7I5d+m+3KEU9OEXbvV79Mm2Ahsw/nDdlHUVVNNgum6uy+s2Yq9d6d9Yjo6dqSJRT+776TKtTJcmlwAC3dPqkkrOt/ktNOaUMW4CCgrJmxRWozGHJ2e6ymKqUUxmyBQTpAk6XnA5Jngxl5O3V9gEAkMTWRQAAkBuO6npsYA/Vve12dR3YV3X9sv3M84Pe6DNMS1Pr6clpa/Vr0mmlHtun5QNrXXhR9/Rf9Gm/B/TM/GMqXreJat5wSLP63Ken5u7ShdGJQ+X7LVeq8cmbfkL7f5itYffdrEBJcoYrPNSutG3fa8N5l9pK0rr12+WxF1N4uF3O8HCF2tO07fsN51+3K2md1m/3yF4sXOH58W3IXlw3hrnl3btJ8QfP7X30HdmgTbuv1W0lfTq6eIrmbPcprE593Zzb/CyXc3txXvmuFGZc7ufePVo6d63O7qZTsjZ8sVg7vf66qcyNl37ZlYpeMWCxK+z/SquQ3au9v1zss3iGT0d+XKavFy7S6p+PX3LU5RrxBv2fajdsqHq3FM3xRTxHKHzNakpyVdPtVf1lCyivKhWzwih7sIqGuGVSkpV5rX5/1apTTa7kdVr87Zk6iVqybIM8ATVUt6Y78yn/WqpTzaXkdYt1btgSLdvgUUCNuheU9u7epb1pkl+psip9DTNcAAAuhX9uAADARfh06Nt/67OE0zKnEzRz2HAl3jtca38qrsTYKRo+dLE2nTZK3/q53lvSXr+f8MlWKFSh5pDiv/5AG5fO0bSZm5ThK6rV772qaX5P6p7UWXrp+Zf07oqD8pXsqLe/mKoGC9qobu95mtihkX56dLheGdZDdU5+rTff/Eq7fEZJcVP04uCv5QiopNb9H1L9IlnRgDtCvR+L0EeDJqlNdKL6P9ZSNYqe0uYvJ2nstF90Q9MJ6lXPLbfprcciPtKgSW0Undhfj7WsoaKnNuvLSWM17Zcb1HRCL9VzS76DyzR58mLtyzDybtsmrzmtTTNe1OA4h2x+FdSyb09FFJf2L3lL7yzdrwzj1bZtXpmUeE17cbBiHTb5V2ipx3s2lG/lO5qwaLd8vlNaM2WcvrzxGTW3LdQH3/wqn++E1n38seJrdVPr3u0Us3iqnm3eRfufvF+Vbdv0xfg39GWiT/awbO/E/iWa9M5SHcjw6Oct6TKpP2nmsMH63unWTf98TI83Kartn0/Vsv0++TJW6Z0hgzXH5lHy3vWaP3eV9ofdr/efu1sXWWtzcbmcWzmCFVrET774lfp4+hztTd+qFZ9N1fQVGfIFr9OM6d8rqkedrIM6FBJyg2zebVrw7+kqVzdAJ/b8pBVfzNQXW2tpwg8fqZYkmVRtHHuPasbdp+Z1wpW6dZHmLv6fnHVf1PMdwyVJwaFF5OeL18qPp2vO3nRtXfGZpk5foQxfsNbNmK7va/RQneDc1JyhztkCO/87olU/8GMtWbpI//PUU9WLfUv2btN7PZtp6KZKGrhyvSKv5q9U1jyU7zFFK3pI0iklzBqv6UuXaPfGvfKUqaXbyxXOg5qS7MXVqlsLvbhorkb0Gi5nr9ry2zlbo75JVlCDRqrnl9nbLQ/1V5uJXTTtqV665XgHFd88RcM+/U0luzyidiWz5spxix7q30YTu0zTU71u0fEOxbV5yjB9+ltJdXmkXc7mteebJUrw+KludCPd8Ed6BwDgauX33kkAAPBXlGqWPXGLcduyrhVuc5uKT39r0kyaWT2oqvE/+7zLlHlsodnzWT9TJ9RpbJKRzW4CyzQxXVtUNE7JyFbYRL4Wb759tqoJcmReJ8heqLYZuu6kWTHgNlMo6zlHoepm8Ko0kzS7qynhsGUeP+thC6hthq7PcQUj72GzYnRHc3uYO7OuZGx+4aZO1/Em9jdvtmErzOiOt5sw95lj2oxfeB3TdXysOTMs9ZvHTBnX+TXP1vavagbHphljUs2C3qWNy3bhGMlm/G8bbGLT0kzs4HPzY3PeaLp/fsIkftLRhGWdk61wpHktIcMYc9LEv/ugqVk0a95kM+6wiqZ8Uft519Q6/VUvU+pivdlcptzji43x7jcftCpq7Nl7tjlNQJGypm77EWbBr7m9ONfVz+2JNTGmSbgr6313mpBK0aZOaYeRbKZQw1fOP+SBL80TtYsY59nPjt34h1c3LQd+anZkZF2jy1nOtHy8p2latZQJDihkileoZx4YMtP8eCzbgU6sMTFNwrPeB5txhlQy0XVKG4dkbIUamlc2ZeSyZs6T/s3M6lTC2B3lzaPfnLj4tOyeYJr4O0x4+xnm0J+9kJdnp5l0V8i5980eYu6atDPvanr3m3nPNDRhZz5LNocJue0h8+HW7J8Przm08FlT/8xn0uYyJaJeNEt/y1HYe8gsfLa+KerM+ky7SpioF5eanMPM6VgzoIrL2ENamvf35emVzwAAOMtmzKVuSQMAAJB7vuQ9+jF+h44HlFONWuUU4rhOhdMTtePHLdqXGqibqtRQhaIXX7CenrhDP27Zp9TAm1SlRgVdYtj1d+qAEjb+rERHuG6tkqwJd0RojOs5rf9uuGrkd4+5mFtf8h5tiv9V6cUq6rZKJRR0ua2gvhTtT4jXtiMeBZWspOq33qhAuyR5tTXmDtUYnqbB332vETWvcOK+ZO3ZFK9f04up4m2VVOJyRS9Z80KehFGKajBEG299QStjh6uO3/k/T/ywlcr3OaQBcbF6ofr1eXOudc3UgwnasPWwPMEVVKtmWRW+yN9T38nd2rRxl1KCK+r26iV18ZtQ+nRy9yZt3JWi4Iq3q3rJnKM82jKmqRoOWqdyg79VXEwD+f/p7gEAuDKCLgAAgPySvlNfTZ6q2MNp8vnSdHTjV5q1ZK/KD16u72IayO/KR7CAU9oye7wmvj1Z76/0KqL7g7qjbHV1eKKLal5kJ1/eStX3r7VQq/GBGhb3hXqXyZ6IpWhutwp6yv2e4qfcpyLXpZ/8qHmN+I5qRudaenpfT326cLgir/t7CQD4uyLoAgAAyCe+/R+obe1H9PmRDMnmUqEbq+nOh4dp7Av3qZw7v7u7Try/aHLz2ur3zTGduQa9rXCURq9bpmcqX69lgbmRpoQ503W4QXc1LXW97mCQHzUBACjYCLoAAAAAAABgCfzXEAAAAAAAACyBoAsAAAAAAACWQNAFAAAAAAAASyDoAgAAAAAAgCUQdAEAAAAAAMASCLoAAAAAAABgCQRdAAAAAAAAsASCLgAAAAAAAFgCQRcAAAAAAAAsgaALAAAAAAAAlkDQBQAAAAAAAEsg6AIAAAAAAIAlEHQBAAAAAADAEgi6AAAAAAAAYAkEXQAAAAAAALAEgi4AAAAAAABYAkEXAAAAAAAALIGgCwAAAAAAAJZA0AUAAAAAAABLIOgCAAAAAACAJRB0AQAAAAAAwBIIugAAAAAAAGAJBF0AAAAAAACwBIIuAAAAAAAAWAJBFwAAAAAAACyBoAsAAAAAAACWQNAFAAAAAAAAS/h/4dHypDCquWoAAAAASUVORK5CYII=)"
      ],
      "metadata": {
        "id": "F8Kb8XaZIM4L"
      }
    },
    {
      "cell_type": "code",
      "source": [
        "# User model\n",
        "u2v = keras.Sequential(\n",
        "    [\n",
        "        keras.layers.Input(shape=USER_INPUT_SHAPE, name=\"u2v_input\", dtype='int32'),\n",
        "        keras.layers.Embedding(input_dim=USER_VOCAB_LEN, output_dim=INT_EMB_DIM, name=\"u2v_embeddings\"),\n",
        "        keras.layers.Conv1D(conv_sc_param * EMBEDDINGS_DIM, kernel_size, padding=padding_c, activation='relu', name=\"u2v_conv_layer\"),\n",
        "        keras.layers.MaxPooling1D(pool_size, strides, padding_p, name=\"u2v_pooling_layer\"),\n",
        "        keras.layers.Flatten(name=\"u2v_reshape\"),\n",
        "        keras.layers.Dense(sc_param * EMBEDDINGS_DIM, activation='linear', name=\"u2v_dense_layer\"),\n",
        "        keras.layers.Dense(EMBEDDINGS_DIM, activation='linear', name=\"u2v_output_layer\")\n",
        "    ],\n",
        "    name=\"u2v_model\"\n",
        ")\n",
        "# Item model\n",
        "i2v = keras.Sequential(\n",
        "    [\n",
        "        keras.layers.Input(shape=ITEM_INPUT_SHAPE, name=\"i2v_input\", dtype='int32'),\n",
        "        keras.layers.Embedding(input_dim=ITEM_VOCAB_LEN, output_dim=INT_EMB_DIM, name=\"i2v_embeddings\"),\n",
        "        keras.layers.Conv1D(conv_sc_param * EMBEDDINGS_DIM, kernel_size, padding=padding_c, activation='relu', name=\"i2v_conv_layer\"),\n",
        "        keras.layers.MaxPooling1D(pool_size, strides, padding_p, name=\"i2v_pooling_layer\"),\n",
        "        keras.layers.Flatten(name=\"i2v_reshape\"),\n",
        "        keras.layers.Dense(sc_param * EMBEDDINGS_DIM, activation='linear', name=\"i2v_dense_layer\"),\n",
        "        keras.layers.Dense(EMBEDDINGS_DIM, activation='linear', name=\"i2v_output_layer\")\n",
        "    ],\n",
        "    name=\"i2v_model\"\n",
        ")\n",
        "\n",
        "ancor_inp = keras.layers.Input(shape=USER_INPUT_SHAPE)\n",
        "pos_inp = keras.layers.Input(shape=ITEM_INPUT_SHAPE)\n",
        "neg_inp = keras.layers.Input(shape=ITEM_INPUT_SHAPE)\n",
        "ancor = u2v(ancor_inp)\n",
        "positive = i2v(pos_inp)\n",
        "negative = i2v(neg_inp)\n",
        "merged_vecs = keras.layers.Concatenate(name=\"anc_pos_neg_concat\")([ancor, positive, negative])\n",
        "model = keras.models.Model([ancor_inp, pos_inp, neg_inp], merged_vecs, name=\"my_model\")"
      ],
      "metadata": {
        "id": "H_Ao2D3_SSJC"
      },
      "execution_count": null,
      "outputs": []
    },
    {
      "cell_type": "markdown",
      "source": [
        "### Define the optimizer, some callbacks and compile our model"
      ],
      "metadata": {
        "id": "q7nMy-C9FHv4"
      }
    },
    {
      "cell_type": "code",
      "source": [
        "name = 'dssm_cnn_basic'\n",
        "optimizer = keras.optimizers.Adam(learning_rate=0.001)\n",
        "\n",
        "lr_reduce = keras.callbacks.ReduceLROnPlateau(monitor='loss', patience=1, factor=0.7, verbose=1)\n",
        "saving = keras.callbacks.ModelCheckpoint(filepath=\"../models/\" + name + '/best_model_v4.h5', monitor=\"loss\")\n",
        "\n",
        "model.compile(loss=triplet_loss, optimizer=optimizer)"
      ],
      "metadata": {
        "id": "0Epkpnx8FIYw"
      },
      "execution_count": null,
      "outputs": []
    },
    {
      "cell_type": "code",
      "execution_count": null,
      "metadata": {
        "colab": {
          "base_uri": "https://localhost:8080/"
        },
        "id": "94hKY3y5fqD-",
        "outputId": "9f5ed154-c017-4037-dcda-1910fbc53c5e"
      },
      "outputs": [
        {
          "output_type": "stream",
          "name": "stdout",
          "text": [
            "Model: \"my_model\"\n",
            "__________________________________________________________________________________________________\n",
            " Layer (type)                   Output Shape         Param #     Connected to                     \n",
            "==================================================================================================\n",
            " input_1 (InputLayer)           [(None, 4)]          0           []                               \n",
            "                                                                                                  \n",
            " input_2 (InputLayer)           [(None, 5)]          0           []                               \n",
            "                                                                                                  \n",
            " input_3 (InputLayer)           [(None, 5)]          0           []                               \n",
            "                                                                                                  \n",
            " u2v_model (Sequential)         (None, 200)          9141800     ['input_1[0][0]']                \n",
            "                                                                                                  \n",
            " i2v_model (Sequential)         (None, 200)          75667700    ['input_2[0][0]',                \n",
            "                                                                  'input_3[0][0]']                \n",
            "                                                                                                  \n",
            " anc_pos_neg_concat (Concatenat  (None, 600)         0           ['u2v_model[0][0]',              \n",
            " e)                                                               'i2v_model[0][0]',              \n",
            "                                                                  'i2v_model[1][0]']              \n",
            "                                                                                                  \n",
            "==================================================================================================\n",
            "Total params: 84,809,500\n",
            "Trainable params: 84,809,500\n",
            "Non-trainable params: 0\n",
            "__________________________________________________________________________________________________\n"
          ]
        }
      ],
      "source": [
        "model.summary()"
      ]
    },
    {
      "cell_type": "markdown",
      "source": [
        "Look at the total number of parameters, it is much less than in the previous architecture. Thanks to our conv layers!:)"
      ],
      "metadata": {
        "id": "-HYXPiNsJsUp"
      }
    },
    {
      "cell_type": "code",
      "execution_count": null,
      "metadata": {
        "colab": {
          "base_uri": "https://localhost:8080/"
        },
        "id": "TmuIJZnHz6F-",
        "outputId": "3f757352-de35-406d-e25d-b334b32c7843"
      },
      "outputs": [
        {
          "output_type": "stream",
          "name": "stdout",
          "text": [
            "Model: \"i2v_model\"\n",
            "_________________________________________________________________\n",
            " Layer (type)                Output Shape              Param #   \n",
            "=================================================================\n",
            " i2v_embeddings (Embedding)  (None, 5, 300)            73386300  \n",
            "                                                                 \n",
            " i2v_conv_layer (Conv1D)     (None, 5, 600)            360600    \n",
            "                                                                 \n",
            " i2v_pooling_layer (MaxPooli  (None, 5, 600)           0         \n",
            " ng1D)                                                           \n",
            "                                                                 \n",
            " i2v_reshape (Flatten)       (None, 3000)              0         \n",
            "                                                                 \n",
            " i2v_dense_layer (Dense)     (None, 600)               1800600   \n",
            "                                                                 \n",
            " i2v_output_layer (Dense)    (None, 200)               120200    \n",
            "                                                                 \n",
            "=================================================================\n",
            "Total params: 75,667,700\n",
            "Trainable params: 75,667,700\n",
            "Non-trainable params: 0\n",
            "_________________________________________________________________\n"
          ]
        }
      ],
      "source": [
        "i2v.summary()"
      ]
    },
    {
      "cell_type": "code",
      "execution_count": null,
      "metadata": {
        "colab": {
          "base_uri": "https://localhost:8080/"
        },
        "id": "xlALBc7X0CkG",
        "outputId": "64e98fe9-a401-41f5-97fe-ad861f83c277"
      },
      "outputs": [
        {
          "output_type": "stream",
          "name": "stdout",
          "text": [
            "Model: \"u2v_model\"\n",
            "_________________________________________________________________\n",
            " Layer (type)                Output Shape              Param #   \n",
            "=================================================================\n",
            " u2v_embeddings (Embedding)  (None, 4, 300)            7220400   \n",
            "                                                                 \n",
            " u2v_conv_layer (Conv1D)     (None, 4, 600)            360600    \n",
            "                                                                 \n",
            " u2v_pooling_layer (MaxPooli  (None, 4, 600)           0         \n",
            " ng1D)                                                           \n",
            "                                                                 \n",
            " u2v_reshape (Flatten)       (None, 2400)              0         \n",
            "                                                                 \n",
            " u2v_dense_layer (Dense)     (None, 600)               1440600   \n",
            "                                                                 \n",
            " u2v_output_layer (Dense)    (None, 200)               120200    \n",
            "                                                                 \n",
            "=================================================================\n",
            "Total params: 9,141,800\n",
            "Trainable params: 9,141,800\n",
            "Non-trainable params: 0\n",
            "_________________________________________________________________\n"
          ]
        }
      ],
      "source": [
        "u2v.summary()"
      ]
    },
    {
      "cell_type": "code",
      "execution_count": null,
      "metadata": {
        "colab": {
          "base_uri": "https://localhost:8080/"
        },
        "id": "NzNq9bb6fqLJ",
        "outputId": "014eaef0-3032-49b9-87ff-bf652cda8e38"
      },
      "outputs": [
        {
          "output_type": "stream",
          "name": "stdout",
          "text": [
            "Epoch 1/20\n",
            "25/25 [==============================] - 236s 9s/step - loss: 0.2640 - lr: 0.0010\n",
            "Epoch 2/20\n",
            "25/25 [==============================] - 240s 10s/step - loss: 0.1569 - lr: 0.0010\n",
            "Epoch 3/20\n",
            "25/25 [==============================] - 260s 11s/step - loss: 0.1435 - lr: 0.0010\n",
            "Epoch 4/20\n",
            "25/25 [==============================] - 252s 10s/step - loss: 0.1325 - lr: 0.0010\n",
            "Epoch 5/20\n",
            "25/25 [==============================] - 250s 10s/step - loss: 0.1297 - lr: 0.0010\n",
            "Epoch 6/20\n",
            "25/25 [==============================] - ETA: 0s - loss: 0.1335\n",
            "Epoch 6: ReduceLROnPlateau reducing learning rate to 0.0007000000332482159.\n",
            "25/25 [==============================] - 256s 10s/step - loss: 0.1335 - lr: 0.0010\n",
            "Epoch 7/20\n",
            "25/25 [==============================] - 259s 10s/step - loss: 0.1251 - lr: 7.0000e-04\n",
            "Epoch 8/20\n",
            "25/25 [==============================] - 255s 10s/step - loss: 0.1158 - lr: 7.0000e-04\n",
            "Epoch 9/20\n",
            "25/25 [==============================] - 251s 10s/step - loss: 0.1126 - lr: 7.0000e-04\n",
            "Epoch 10/20\n",
            "25/25 [==============================] - 252s 10s/step - loss: 0.1093 - lr: 7.0000e-04\n",
            "Epoch 11/20\n",
            "25/25 [==============================] - 255s 10s/step - loss: 0.1076 - lr: 7.0000e-04\n",
            "Epoch 12/20\n",
            "25/25 [==============================] - 254s 10s/step - loss: 0.1037 - lr: 7.0000e-04\n",
            "Epoch 13/20\n",
            "25/25 [==============================] - 260s 10s/step - loss: 0.0990 - lr: 7.0000e-04\n",
            "Epoch 14/20\n",
            "25/25 [==============================] - 255s 10s/step - loss: 0.0959 - lr: 7.0000e-04\n",
            "Epoch 15/20\n",
            "25/25 [==============================] - 248s 10s/step - loss: 0.0939 - lr: 7.0000e-04\n",
            "Epoch 16/20\n",
            "25/25 [==============================] - ETA: 0s - loss: 0.0990\n",
            "Epoch 16: ReduceLROnPlateau reducing learning rate to 0.0004900000232737511.\n",
            "25/25 [==============================] - 244s 10s/step - loss: 0.0990 - lr: 7.0000e-04\n",
            "Epoch 17/20\n",
            "25/25 [==============================] - 251s 10s/step - loss: 0.0914 - lr: 4.9000e-04\n",
            "Epoch 18/20\n",
            "25/25 [==============================] - ETA: 0s - loss: 0.0939\n",
            "Epoch 18: ReduceLROnPlateau reducing learning rate to 0.00034300000406801696.\n",
            "25/25 [==============================] - 245s 10s/step - loss: 0.0939 - lr: 4.9000e-04\n",
            "Epoch 19/20\n",
            "25/25 [==============================] - 245s 10s/step - loss: 0.0865 - lr: 3.4300e-04\n",
            "Epoch 20/20\n",
            "25/25 [==============================] - 246s 10s/step - loss: 0.0848 - lr: 3.4300e-04\n"
          ]
        },
        {
          "output_type": "execute_result",
          "data": {
            "text/plain": [
              "<keras.callbacks.History at 0x7ff00ac22c10>"
            ]
          },
          "metadata": {},
          "execution_count": 30
        }
      ],
      "source": [
        "model.fit(batch_generator_v2(items=items_feats_ids, \n",
        "                            users=users_feats_ids, \n",
        "                            interactions=interactions,\n",
        "                            users_iid_train_id_mapping=users_iid_train_id_mapping,\n",
        "                            items_iid_train_id_mapping=items_iid_train_id_mapping,\n",
        "                            batch_size=512), \n",
        "          steps_per_epoch=25, \n",
        "          epochs=20, \n",
        "          initial_epoch=0,\n",
        "          callbacks=[lr_reduce, saving]\n",
        "        )"
      ]
    },
    {
      "cell_type": "markdown",
      "source": [
        "### Evaluation"
      ],
      "metadata": {
        "id": "jvm-FaNIH1wi"
      }
    },
    {
      "cell_type": "markdown",
      "source": [
        "#### Useful evaluation methods"
      ],
      "metadata": {
        "id": "otutqXSwH6NR"
      }
    },
    {
      "cell_type": "code",
      "execution_count": null,
      "metadata": {
        "id": "WCIQ8uxMm3q0"
      },
      "outputs": [],
      "source": [
        "def get_result_df(data_val, result_cols, scores):\n",
        "    \"\"\"Get resulting dataframe\n",
        "\n",
        "    data_val - initial data with features\n",
        "    result_cols - columns without scores (ids, other useful info)\n",
        "    scores - predicted scores\n",
        "    \"\"\"\n",
        "    \n",
        "    real_pred_df = data_val[result_cols].copy()\n",
        "    real_pred_df['score'] = scores\n",
        "    return real_pred_df\n",
        "\n",
        "\n",
        "def users_roc_auc_scores(real_pred_data, id_col=\"msno\", \n",
        "                         target_col=\"target\", score_col=\"score\"):\n",
        "    \"\"\"Compute ROC AUC scores\n",
        "    for users\n",
        "\n",
        "    real_pred_data - data with target and score\n",
        "    id_col - user_id column\n",
        "    target_col, score_col - columns with target values and model's scores\n",
        "    \"\"\"\n",
        "\n",
        "    roc_auc_scores = []\n",
        "    for _, data_us in real_pred_data.groupby(id_col):\n",
        "        roc_auc_scores.append(roc_auc_score(data_us[target_col], data_us[score_col]))\n",
        "    return roc_auc_scores\n",
        "\n",
        "\n",
        "def users_rr_scores(real_pred_data, id_col=\"msno\", \n",
        "        target_col=\"target\", score_col=\"score\"):\n",
        "    \"\"\"Compute RR scores for users\n",
        "\n",
        "    real_pred_data - data with target and score\n",
        "    id_col - user_id column\n",
        "    target_col, score_col - columns with target values and model's scores\n",
        "    \"\"\"\n",
        "\n",
        "    rr_scores = []\n",
        "    for _, data_us in real_pred_data.groupby(id_col):\n",
        "        data_us_sorted = data_us.sort_values(by=[score_col], ascending=False)\\\n",
        "                                .reset_index(drop=True)\n",
        "        rr_score = 1 / ((data_us_sorted.target == 1).argmax() + 1)\n",
        "        rr_scores.append(rr_score)\n",
        "    return rr_scores\n",
        "\n",
        "\n",
        "def precision_at_k(real_pred_data, k=5, id_col=\"msno\", \n",
        "        target_col=\"target\", score_col=\"score\"):\n",
        "    \"\"\"Compute precision@k scores for users\n",
        "\n",
        "    real_pred_data - data with target and score\n",
        "    k - size of the top \n",
        "    id_col- user_id column\n",
        "    target_col, score_col - columns with target values and model's scores\n",
        "    \"\"\"\n",
        "\n",
        "    precision_scores = []\n",
        "    for _, data_us in real_pred_data.groupby(id_col):\n",
        "        data_us_sorted = data_us.sort_values(by=[score_col], ascending=False)\n",
        "        precision_score = data_us_sorted.iloc[:k].target.sum() / k\n",
        "        precision_scores.append(precision_score)\n",
        "    return precision_scores\n",
        "\n",
        "\n",
        "def test_data_preprocessing(data_test, id=\"msno\", k=10, \n",
        "                            min_prop=0.05, max_prop=0.95):\n",
        "    \"\"\"Pick only users \n",
        "    with both positive and negative responces\n",
        "\n",
        "    data_test - data to transform\n",
        "    id - user id column name\n",
        "    k - minimum number of songs that a user interacted with\n",
        "    min/max_prop - minimum/maximum limits for the proportion of \n",
        "        positive interactions in users histories\n",
        "    \"\"\"\n",
        "\n",
        "    data_new = data_test.copy()\n",
        "    val_users = []\n",
        "    for user_id, data_us in data_new.groupby([id]):\n",
        "        pos_cnt = data_us.target.sum()\n",
        "        cnt = data_us.shape[0]\n",
        "        pos_prop = pos_cnt / cnt\n",
        "        if cnt >= k and pos_prop > min_prop and pos_prop < max_prop:\n",
        "            val_users.append(user_id)    \n",
        "\n",
        "    data_prep = data_new[data_new[id].isin(val_users)].reset_index(drop=True)\n",
        "    return data_prep\n",
        "\n",
        "\n",
        "def dssm_evaluation_v3(i2v,u2v, data_test,\n",
        "                      cat_cols_to_change,\n",
        "                      users_f2i,\n",
        "                      items_f2i,\n",
        "                      result_cols,\n",
        "                      user_fe_cols,\n",
        "                      item_fe_cols,\n",
        "                      user_id_column,\n",
        "                      item_id_column,\n",
        "                      batch_size=512,\n",
        "                      n=100, k=5,\n",
        "                      min_prop=0.25, max_prop=0.75):\n",
        "    \"\"\"DSSM model evaluation (version for cnn, with the item id feature)\n",
        "\n",
        "    u2v/i2v - user/item models\n",
        "    data_test - test dataframe (initial dataframe with ALL the columns, \n",
        "        the needed features will be selected via the mappings and columns sets)\n",
        "    cat_cols_to_change - columns to change via names_to_cats() method\n",
        "    users_f2i/items_f2i - mappings from get_mappings() method, augmented with the\n",
        "        USER_UNKN/ITEN_UNKN keys\n",
        "    result_cols - columns in the resulting dataframe (without score column)\n",
        "    user_fe_cols/item_fe_cols - user/item feature columns \n",
        "    user_id_column/item_id_column - user/item id column\n",
        "    batch_size - the size of chunk for the models processing\n",
        "    n - test_data_preprocessing() parameter (the min size of user's history)\n",
        "    k - precision_at_k() method parameter\n",
        "    min/max_prop - minimum/maximum limits for the proportion of \n",
        "        positive interactions in users histories\n",
        "    \"\"\"\n",
        "\n",
        "\n",
        "    data_select = test_data_preprocessing(data_test, id=user_id_column, k=n,\n",
        "                                          min_prop=min_prop, max_prop=max_prop)\n",
        "    data_test_prep = names_to_cats(data_select, cols=cat_cols_to_change)\n",
        "    users_ids = features_to_indices(data_test_prep, user_fe_cols+[user_id_column],\n",
        "                                  feature_to_index=users_f2i,\n",
        "                                  unknown_id=\"USER_UNKN\")\n",
        "    items_ids = features_to_indices(data_test_prep, item_fe_cols+[item_id_column],\n",
        "                                  feature_to_index=items_f2i,\n",
        "                                  unknown_id=\"ITEM_UNKN\")\n",
        "\n",
        "    data_size = data_test_prep.shape[0]\n",
        "    start = 0\n",
        "    stop = batch_size\n",
        "    rows_left = data_size\n",
        "    sims = []\n",
        "    while rows_left > 0:\n",
        "        users_feats = users_ids[start:stop]\n",
        "        items_feats = items_ids[start:stop]\n",
        "        users_vecs = u2v.predict(users_feats)\n",
        "        items_vecs = i2v.predict(items_feats)\n",
        "        dists = np.linalg.norm(users_vecs - items_vecs, axis=1)\n",
        "        sims.extend(1 / dists)\n",
        "        \n",
        "        start += batch_size\n",
        "        stop += batch_size\n",
        "        rows_left -= batch_size\n",
        "        gc.collect()\n",
        "\n",
        "    test_real_pred = get_result_df(data_test_prep, result_cols, sims)\n",
        "    roc_auc_scores = users_roc_auc_scores(test_real_pred)\n",
        "    rr_scores = users_rr_scores(test_real_pred)\n",
        "    p_at_k_scores = precision_at_k(test_real_pred, k=k)\n",
        "    print(f\"Users mean AUC ROC on test: {np.mean(roc_auc_scores)}\")\n",
        "    print(f\"Users mean reciprocal rank on test: {np.mean(rr_scores)}\")\n",
        "    print(f\"Users mean precision@{k} on test: {np.mean(p_at_k_scores)}\")\n",
        "    plt.figure()\n",
        "    plt.hist(roc_auc_scores)\n",
        "    plt.title(\"USERS AUC ROC SCORES\")\n",
        "    plt.grid()\n",
        "    plt.figure()\n",
        "    plt.hist(rr_scores)\n",
        "    plt.title(f\"USERS RECIPROCAL RANK SCORES\")\n",
        "    plt.grid()\n",
        "    plt.figure()\n",
        "    plt.hist(p_at_k_scores)\n",
        "    plt.title(f\"USERS PRECISION@{k} SCORES\")\n",
        "    plt.grid()\n",
        "    return test_real_pred"
      ]
    },
    {
      "cell_type": "markdown",
      "source": [
        "### So, let's evaluate our model on different sets"
      ],
      "metadata": {
        "id": "sL64wNx0I82X"
      }
    },
    {
      "cell_type": "code",
      "execution_count": null,
      "metadata": {
        "id": "IQtxVoELNJ4m",
        "colab": {
          "base_uri": "https://localhost:8080/",
          "height": 861
        },
        "outputId": "e3680b8c-84d4-4c51-d74a-fbd0e443b60d"
      },
      "outputs": [
        {
          "output_type": "stream",
          "name": "stdout",
          "text": [
            "Users mean AUC ROC on test: 0.6041000062610009\n",
            "Users mean reciprocal rank on test: 0.8304295605482549\n",
            "Users mean precision@5 on test: 0.7077151335311572\n"
          ]
        },
        {
          "output_type": "display_data",
          "data": {
            "text/plain": [
              "<Figure size 432x288 with 1 Axes>"
            ],
            "image/png": "[encoded data removed]"
          },
          "metadata": {
            "needs_background": "light"
          }
        },
        {
          "output_type": "display_data",
          "data": {
            "text/plain": [
              "<Figure size 432x288 with 1 Axes>"
            ],
            "image/png": "[encoded data removed]"
          },
          "metadata": {
            "needs_background": "light"
          }
        },
        {
          "output_type": "display_data",
          "data": {
            "text/plain": [
              "<Figure size 432x288 with 1 Axes>"
            ],
            "image/png": "[encoded data removed]"
          },
          "metadata": {
            "needs_background": "light"
          }
        }
      ],
      "source": [
        "val_real_pred = dssm_evaluation_v3(i2v, u2v, data_val_fin,\n",
        "                                  cat_cols_to_change, \n",
        "                                  users_f2i,\n",
        "                                  items_f2i,\n",
        "                                  result_cols,\n",
        "                                  user_fe_cols,\n",
        "                                  item_fe_cols,\n",
        "                                  user_id_column,\n",
        "                                  item_id_column,\n",
        "                                  batch_size=300000,\n",
        "                                  n=100, k=5,\n",
        "                                  min_prop=0.25, max_prop=0.75)"
      ]
    },
    {
      "cell_type": "code",
      "source": [
        "val_real_pred.head()"
      ],
      "metadata": {
        "id": "Qi0Tfdy8LwF5",
        "colab": {
          "base_uri": "https://localhost:8080/",
          "height": 270
        },
        "outputId": "4bcb3065-78d3-49c7-8f59-153e55c35dcc"
      },
      "execution_count": null,
      "outputs": [
        {
          "output_type": "execute_result",
          "data": {
            "text/plain": [
              "                                           msno  \\\n",
              "0  BGo4Oilb0i8FCeZOLUPIFGkW3RWDwNuMoixfq+Mmekk=   \n",
              "1  y+rCSbVwnDOFjVwVE2s0m6oMKuTdift2dczOFoCUls8=   \n",
              "2  nIbXtHhahnJnRyA8FjlOQDlCJ9HGVCds8PGG9oMsf6I=   \n",
              "3  YMK9IDA6yFUBJxwm1SxYNM6nFrMcDAXunV/8dzGFdlo=   \n",
              "4  w4SNbHDAMuMbulkgcHGYOl/datijVua3CR5D73DylLs=   \n",
              "\n",
              "                                        song_id  target     score  \n",
              "0  6DacXyIfstje6EynOjN4eLKbp95UWPZ0N+8EctMV5bw=       0  0.631294  \n",
              "1  DpMV43WD2Ev8pT8uIcVrfw0tqU4r/T7RQuBhgelYefA=       0  0.686453  \n",
              "2  t+IofZpz3Fa/kh9rA1huUtyeJITnrToaH35PdyQUzcw=       1  0.614656  \n",
              "3  D1tFsBLd9VWbonfb6Vek0BI2EJB6udLOuV/x+ptYpOI=       0  1.042102  \n",
              "4  7vGvrf5l1XzNbeLZXzQgaNvc2VBmncarpN3LQpLUZiY=       1  0.674621  "
            ],
            "text/html": [
              "\n",
              "  <div id=\"df-14478de4-9433-432b-b0fd-a34fd3c31480\">\n",
              "    <div class=\"colab-df-container\">\n",
              "      <div>\n",
              "<style scoped>\n",
              "    .dataframe tbody tr th:only-of-type {\n",
              "        vertical-align: middle;\n",
              "    }\n",
              "\n",
              "    .dataframe tbody tr th {\n",
              "        vertical-align: top;\n",
              "    }\n",
              "\n",
              "    .dataframe thead th {\n",
              "        text-align: right;\n",
              "    }\n",
              "</style>\n",
              "<table border=\"1\" class=\"dataframe\">\n",
              "  <thead>\n",
              "    <tr style=\"text-align: right;\">\n",
              "      <th></th>\n",
              "      <th>msno</th>\n",
              "      <th>song_id</th>\n",
              "      <th>target</th>\n",
              "      <th>score</th>\n",
              "    </tr>\n",
              "  </thead>\n",
              "  <tbody>\n",
              "    <tr>\n",
              "      <th>0</th>\n",
              "      <td>BGo4Oilb0i8FCeZOLUPIFGkW3RWDwNuMoixfq+Mmekk=</td>\n",
              "      <td>6DacXyIfstje6EynOjN4eLKbp95UWPZ0N+8EctMV5bw=</td>\n",
              "      <td>0</td>\n",
              "      <td>0.631294</td>\n",
              "    </tr>\n",
              "    <tr>\n",
              "      <th>1</th>\n",
              "      <td>y+rCSbVwnDOFjVwVE2s0m6oMKuTdift2dczOFoCUls8=</td>\n",
              "      <td>DpMV43WD2Ev8pT8uIcVrfw0tqU4r/T7RQuBhgelYefA=</td>\n",
              "      <td>0</td>\n",
              "      <td>0.686453</td>\n",
              "    </tr>\n",
              "    <tr>\n",
              "      <th>2</th>\n",
              "      <td>nIbXtHhahnJnRyA8FjlOQDlCJ9HGVCds8PGG9oMsf6I=</td>\n",
              "      <td>t+IofZpz3Fa/kh9rA1huUtyeJITnrToaH35PdyQUzcw=</td>\n",
              "      <td>1</td>\n",
              "      <td>0.614656</td>\n",
              "    </tr>\n",
              "    <tr>\n",
              "      <th>3</th>\n",
              "      <td>YMK9IDA6yFUBJxwm1SxYNM6nFrMcDAXunV/8dzGFdlo=</td>\n",
              "      <td>D1tFsBLd9VWbonfb6Vek0BI2EJB6udLOuV/x+ptYpOI=</td>\n",
              "      <td>0</td>\n",
              "      <td>1.042102</td>\n",
              "    </tr>\n",
              "    <tr>\n",
              "      <th>4</th>\n",
              "      <td>w4SNbHDAMuMbulkgcHGYOl/datijVua3CR5D73DylLs=</td>\n",
              "      <td>7vGvrf5l1XzNbeLZXzQgaNvc2VBmncarpN3LQpLUZiY=</td>\n",
              "      <td>1</td>\n",
              "      <td>0.674621</td>\n",
              "    </tr>\n",
              "  </tbody>\n",
              "</table>\n",
              "</div>\n",
              "      <button class=\"colab-df-convert\" onclick=\"convertToInteractive('df-14478de4-9433-432b-b0fd-a34fd3c31480')\"\n",
              "              title=\"Convert this dataframe to an interactive table.\"\n",
              "              style=\"display:none;\">\n",
              "        \n",
              "  <svg xmlns=\"http://www.w3.org/2000/svg\" height=\"24px\"viewBox=\"0 0 24 24\"\n",
              "       width=\"24px\">\n",
              "    <path d=\"M0 0h24v24H0V0z\" fill=\"none\"/>\n",
              "    <path d=\"M18.56 5.44l.94 2.06.94-2.06 2.06-.94-2.06-.94-.94-2.06-.94 2.06-2.06.94zm-11 1L8.5 8.5l.94-2.06 2.06-.94-2.06-.94L8.5 2.5l-.94 2.06-2.06.94zm10 10l.94 2.06.94-2.06 2.06-.94-2.06-.94-.94-2.06-.94 2.06-2.06.94z\"/><path d=\"M17.41 7.96l-1.37-1.37c-.4-.4-.92-.59-1.43-.59-.52 0-1.04.2-1.43.59L10.3 9.45l-7.72 7.72c-.78.78-.78 2.05 0 2.83L4 21.41c.39.39.9.59 1.41.59.51 0 1.02-.2 1.41-.59l7.78-7.78 2.81-2.81c.8-.78.8-2.07 0-2.86zM5.41 20L4 18.59l7.72-7.72 1.47 1.35L5.41 20z\"/>\n",
              "  </svg>\n",
              "      </button>\n",
              "      \n",
              "  <style>\n",
              "    .colab-df-container {\n",
              "      display:flex;\n",
              "      flex-wrap:wrap;\n",
              "      gap: 12px;\n",
              "    }\n",
              "\n",
              "    .colab-df-convert {\n",
              "      background-color: #E8F0FE;\n",
              "      border: none;\n",
              "      border-radius: 50%;\n",
              "      cursor: pointer;\n",
              "      display: none;\n",
              "      fill: #1967D2;\n",
              "      height: 32px;\n",
              "      padding: 0 0 0 0;\n",
              "      width: 32px;\n",
              "    }\n",
              "\n",
              "    .colab-df-convert:hover {\n",
              "      background-color: #E2EBFA;\n",
              "      box-shadow: 0px 1px 2px rgba(60, 64, 67, 0.3), 0px 1px 3px 1px rgba(60, 64, 67, 0.15);\n",
              "      fill: #174EA6;\n",
              "    }\n",
              "\n",
              "    [theme=dark] .colab-df-convert {\n",
              "      background-color: #3B4455;\n",
              "      fill: #D2E3FC;\n",
              "    }\n",
              "\n",
              "    [theme=dark] .colab-df-convert:hover {\n",
              "      background-color: #434B5C;\n",
              "      box-shadow: 0px 1px 3px 1px rgba(0, 0, 0, 0.15);\n",
              "      filter: drop-shadow(0px 1px 2px rgba(0, 0, 0, 0.3));\n",
              "      fill: #FFFFFF;\n",
              "    }\n",
              "  </style>\n",
              "\n",
              "      <script>\n",
              "        const buttonEl =\n",
              "          document.querySelector('#df-14478de4-9433-432b-b0fd-a34fd3c31480 button.colab-df-convert');\n",
              "        buttonEl.style.display =\n",
              "          google.colab.kernel.accessAllowed ? 'block' : 'none';\n",
              "\n",
              "        async function convertToInteractive(key) {\n",
              "          const element = document.querySelector('#df-14478de4-9433-432b-b0fd-a34fd3c31480');\n",
              "          const dataTable =\n",
              "            await google.colab.kernel.invokeFunction('convertToInteractive',\n",
              "                                                     [key], {});\n",
              "          if (!dataTable) return;\n",
              "\n",
              "          const docLinkHtml = 'Like what you see? Visit the ' +\n",
              "            '<a target=\"_blank\" href=https://colab.research.google.com/notebooks/data_table.ipynb>data table notebook</a>'\n",
              "            + ' to learn more about interactive tables.';\n",
              "          element.innerHTML = '';\n",
              "          dataTable['output_type'] = 'display_data';\n",
              "          await google.colab.output.renderOutput(dataTable, element);\n",
              "          const docLink = document.createElement('div');\n",
              "          docLink.innerHTML = docLinkHtml;\n",
              "          element.appendChild(docLink);\n",
              "        }\n",
              "      </script>\n",
              "    </div>\n",
              "  </div>\n",
              "  "
            ]
          },
          "metadata": {},
          "execution_count": 33
        }
      ]
    },
    {
      "cell_type": "code",
      "execution_count": null,
      "metadata": {
        "id": "5Rgpb8k8u4-M",
        "colab": {
          "base_uri": "https://localhost:8080/",
          "height": 861
        },
        "outputId": "1534f2c2-40f1-4ecd-e23c-e91ada272c11"
      },
      "outputs": [
        {
          "output_type": "stream",
          "name": "stdout",
          "text": [
            "Users mean AUC ROC on test: 0.607361504736441\n",
            "Users mean reciprocal rank on test: 0.8527330077330078\n",
            "Users mean precision@5 on test: 0.7125925925925926\n"
          ]
        },
        {
          "output_type": "display_data",
          "data": {
            "text/plain": [
              "<Figure size 432x288 with 1 Axes>"
            ],
            "image/png": "[encoded data removed]"
          },
          "metadata": {
            "needs_background": "light"
          }
        },
        {
          "output_type": "display_data",
          "data": {
            "text/plain": [
              "<Figure size 432x288 with 1 Axes>"
            ],
            "image/png": "[encoded data removed]"
          },
          "metadata": {
            "needs_background": "light"
          }
        },
        {
          "output_type": "display_data",
          "data": {
            "text/plain": [
              "<Figure size 432x288 with 1 Axes>"
            ],
            "image/png": "[encoded data removed]"
          },
          "metadata": {
            "needs_background": "light"
          }
        }
      ],
      "source": [
        "_ = dssm_evaluation_v3(i2v, u2v, data_test_fin,\n",
        "                      cat_cols_to_change, \n",
        "                      users_f2i,\n",
        "                      items_f2i,\n",
        "                      result_cols,\n",
        "                      user_fe_cols,\n",
        "                      item_fe_cols,\n",
        "                      user_id_column,\n",
        "                      item_id_column,\n",
        "                      batch_size=300000,\n",
        "                      n=100, k=5,\n",
        "                      min_prop=0.25, max_prop=0.75)"
      ]
    },
    {
      "cell_type": "code",
      "execution_count": null,
      "metadata": {
        "id": "stQGqNJlBFHN",
        "colab": {
          "base_uri": "https://localhost:8080/",
          "height": 861
        },
        "outputId": "4484bf49-4d0a-41e7-c147-80adc133a415"
      },
      "outputs": [
        {
          "output_type": "stream",
          "name": "stdout",
          "text": [
            "Users mean AUC ROC on test: 0.5900228295625117\n",
            "Users mean reciprocal rank on test: 0.8271146901585832\n",
            "Users mean precision@5 on test: 0.6619847328244275\n"
          ]
        },
        {
          "output_type": "display_data",
          "data": {
            "text/plain": [
              "<Figure size 432x288 with 1 Axes>"
            ],
            "image/png": "[encoded data removed]"
          },
          "metadata": {
            "needs_background": "light"
          }
        },
        {
          "output_type": "display_data",
          "data": {
            "text/plain": [
              "<Figure size 432x288 with 1 Axes>"
            ],
            "image/png": "[encoded data removed]"
          },
          "metadata": {
            "needs_background": "light"
          }
        },
        {
          "output_type": "display_data",
          "data": {
            "text/plain": [
              "<Figure size 432x288 with 1 Axes>"
            ],
            "image/png": "[encoded data removed]"
          },
          "metadata": {
            "needs_background": "light"
          }
        }
      ],
      "source": [
        "_ = dssm_evaluation_v3(i2v, u2v, cold_users_data_fin,\n",
        "                        cat_cols_to_change, \n",
        "                        users_f2i,\n",
        "                        items_f2i,\n",
        "                        result_cols,\n",
        "                        user_fe_cols,\n",
        "                        item_fe_cols,\n",
        "                        user_id_column,\n",
        "                        item_id_column,\n",
        "                        batch_size=300000,\n",
        "                        n=100, k=5,\n",
        "                        min_prop=0.25, max_prop=0.75)"
      ]
    },
    {
      "cell_type": "code",
      "execution_count": null,
      "metadata": {
        "id": "Sgc3hvWBBJ4O",
        "colab": {
          "base_uri": "https://localhost:8080/",
          "height": 861
        },
        "outputId": "cc65e0e7-cff2-4f8d-e44a-fba194565198"
      },
      "outputs": [
        {
          "output_type": "stream",
          "name": "stdout",
          "text": [
            "Users mean AUC ROC on test: 0.579734161977883\n",
            "Users mean reciprocal rank on test: 0.7498882385220413\n",
            "Users mean precision@5 on test: 0.6221971830985916\n"
          ]
        },
        {
          "output_type": "display_data",
          "data": {
            "text/plain": [
              "<Figure size 432x288 with 1 Axes>"
            ],
            "image/png": "[encoded data removed]"
          },
          "metadata": {
            "needs_background": "light"
          }
        },
        {
          "output_type": "display_data",
          "data": {
            "text/plain": [
              "<Figure size 432x288 with 1 Axes>"
            ],
            "image/png": "[encoded data removed]"
          },
          "metadata": {
            "needs_background": "light"
          }
        },
        {
          "output_type": "display_data",
          "data": {
            "text/plain": [
              "<Figure size 432x288 with 1 Axes>"
            ],
            "image/png": "[encoded data removed]"
          },
          "metadata": {
            "needs_background": "light"
          }
        }
      ],
      "source": [
        "_ = dssm_evaluation_v3(i2v, u2v, cold_items_data_fin,\n",
        "                      cat_cols_to_change, \n",
        "                      users_f2i,\n",
        "                      items_f2i,\n",
        "                      result_cols,\n",
        "                      user_fe_cols,\n",
        "                      item_fe_cols,\n",
        "                      user_id_column,\n",
        "                      item_id_column,\n",
        "                      batch_size=300000,\n",
        "                      n=40, k=5,\n",
        "                      min_prop=0.25, max_prop=0.75)"
      ]
    },
    {
      "cell_type": "markdown",
      "source": [
        "### With more complex architecture we have better results, but Light FM model still outperforms our DSSM. There is some space for experimentation! :)"
      ],
      "metadata": {
        "id": "eNbQ5L0XHPyR"
      }
    },
    {
      "cell_type": "markdown",
      "source": [
        "For inspiration, there are some links:\n",
        "- https://vk.cc/c1H1eW\n",
        "- https://vk.cc/c1H1je\n",
        "- https://vk.cc/c1JBWS"
      ],
      "metadata": {
        "id": "BY3r5bYc2EFY"
      }
    },
    {
      "cell_type": "markdown",
      "source": [
        "### Stay tuned :)"
      ],
      "metadata": {
        "id": "t5j5PYUBHOVw"
      }
    },
    {
      "cell_type": "code",
      "source": [
        ""
      ],
      "metadata": {
        "id": "xoJPeQLml1bu"
      },
      "execution_count": null,
      "outputs": []
    }
  ],
  "metadata": {
    "colab": {
      "collapsed_sections": [],
      "name": "Part 6.2. Basic convolutional DSSM recommender v4.ipynb",
      "provenance": [],
      "mount_file_id": "1W5KvFOg1O1JdQ72cmrZzXGJn7ysCuumc",
      "authorship_tag": "ABX9TyPvjhFyUEGjXwEVvnTyktns",
      "include_colab_link": true
    },
    "kernelspec": {
      "display_name": "Python 3",
      "name": "python3"
    },
    "language_info": {
      "name": "python"
    },
    "accelerator": "GPU"
  },
  "nbformat": 4,
  "nbformat_minor": 0
}