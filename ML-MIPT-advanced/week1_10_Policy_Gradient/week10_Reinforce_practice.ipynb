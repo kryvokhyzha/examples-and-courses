{
  "cells": [
    {
      "cell_type": "markdown",
      "metadata": {
        "id": "c2zvCCntlJno"
      },
      "source": [
        "## week10\n",
        "### REINFORCE in PyTorch\n",
        "__This notebook is based on [Practical_RL week06](https://github.com/yandexdataschool/Practical_RL/tree/master/week06_policy_based) materials__\n",
        "\n",
        "Just like we did before for q-learning, this time we'll design a pytorch network to learn `CartPole-v0` via policy gradient (REINFORCE).\n",
        "\n",
        "Most of the code in this notebook is taken from approximate qlearning, so you'll find it more or less familiar and even simpler."
      ]
    },
    {
      "cell_type": "code",
      "source": [
        "!pip install gym==0.22"
      ],
      "metadata": {
        "id": "OfG8ZT6s27NO",
        "outputId": "de9b06a1-bcc2-41fa-ce57-1d631c1739a3",
        "colab": {
          "base_uri": "https://localhost:8080/"
        }
      },
      "execution_count": null,
      "outputs": [
        {
          "output_type": "stream",
          "name": "stdout",
          "text": [
            "Looking in indexes: https://pypi.org/simple, https://us-python.pkg.dev/colab-wheels/public/simple/\n",
            "Requirement already satisfied: gym==0.22 in /usr/local/lib/python3.9/dist-packages (0.22.0)\n",
            "Requirement already satisfied: numpy>=1.18.0 in /usr/local/lib/python3.9/dist-packages (from gym==0.22) (1.22.4)\n",
            "Requirement already satisfied: cloudpickle>=1.2.0 in /usr/local/lib/python3.9/dist-packages (from gym==0.22) (2.2.1)\n",
            "Requirement already satisfied: importlib-metadata>=4.10.0 in /usr/local/lib/python3.9/dist-packages (from gym==0.22) (6.0.0)\n",
            "Requirement already satisfied: gym-notices>=0.0.4 in /usr/local/lib/python3.9/dist-packages (from gym==0.22) (0.0.8)\n",
            "Requirement already satisfied: zipp>=0.5 in /usr/local/lib/python3.9/dist-packages (from importlib-metadata>=4.10.0->gym==0.22) (3.15.0)\n"
          ]
        }
      ]
    },
    {
      "cell_type": "code",
      "execution_count": null,
      "metadata": {
        "id": "sQYZXmfTlJnp",
        "outputId": "8bd95c76-91ed-4f8d-e033-0575dd66196b",
        "colab": {
          "base_uri": "https://localhost:8080/"
        }
      },
      "outputs": [
        {
          "output_type": "stream",
          "name": "stdout",
          "text": [
            "Starting virtual X frame buffer: Xvfb.\n"
          ]
        }
      ],
      "source": [
        "import sys, os\n",
        "if 'google.colab' in sys.modules and not os.path.exists('.setup_complete'):\n",
        "    !wget -q https://raw.githubusercontent.com/yandexdataschool/Practical_RL/master/setup_colab.sh -O- | bash\n",
        "    !touch .setup_complete\n",
        "\n",
        "# This code creates a virtual display to draw game images on.\n",
        "# It will have no effect if your machine has a monitor.\n",
        "if type(os.environ.get(\"DISPLAY\")) is not str or len(os.environ.get(\"DISPLAY\")) == 0:\n",
        "    !bash ../xvfb start\n",
        "    os.environ['DISPLAY'] = ':1'"
      ]
    },
    {
      "cell_type": "code",
      "source": [
        "!pip install gym[classic_control]"
      ],
      "metadata": {
        "id": "w1Wsmwu-lziI",
        "outputId": "4f458547-4742-487c-8806-1f79a610a243",
        "colab": {
          "base_uri": "https://localhost:8080/"
        }
      },
      "execution_count": null,
      "outputs": [
        {
          "output_type": "stream",
          "name": "stdout",
          "text": [
            "Looking in indexes: https://pypi.org/simple, https://us-python.pkg.dev/colab-wheels/public/simple/\n",
            "Requirement already satisfied: gym[classic_control] in /usr/local/lib/python3.9/dist-packages (0.22.0)\n",
            "Requirement already satisfied: numpy>=1.18.0 in /usr/local/lib/python3.9/dist-packages (from gym[classic_control]) (1.22.4)\n",
            "Requirement already satisfied: importlib-metadata>=4.10.0 in /usr/local/lib/python3.9/dist-packages (from gym[classic_control]) (6.0.0)\n",
            "Requirement already satisfied: cloudpickle>=1.2.0 in /usr/local/lib/python3.9/dist-packages (from gym[classic_control]) (2.2.1)\n",
            "Requirement already satisfied: gym-notices>=0.0.4 in /usr/local/lib/python3.9/dist-packages (from gym[classic_control]) (0.0.8)\n",
            "Requirement already satisfied: pygame==2.1.0 in /usr/local/lib/python3.9/dist-packages (from gym[classic_control]) (2.1.0)\n",
            "Requirement already satisfied: zipp>=0.5 in /usr/local/lib/python3.9/dist-packages (from importlib-metadata>=4.10.0->gym[classic_control]) (3.15.0)\n"
          ]
        }
      ]
    },
    {
      "cell_type": "code",
      "execution_count": null,
      "metadata": {
        "id": "tGhOclYglJnq",
        "outputId": "67826fbe-373e-44d5-b208-71579b1d3247",
        "colab": {
          "base_uri": "https://localhost:8080/",
          "height": 343
        }
      },
      "outputs": [
        {
          "output_type": "stream",
          "name": "stderr",
          "text": [
            "\n",
            "/usr/local/lib/python3.9/dist-packages/gym/envs/registration.py:505: UserWarning: \u001b[33mWARN: The environment CartPole-v0 is out of date. You should consider upgrading to version `v1` with the environment ID `CartPole-v1`.\u001b[0m\n",
            "  logger.warn(\n"
          ]
        },
        {
          "output_type": "display_data",
          "data": {
            "text/plain": [
              "<Figure size 432x288 with 1 Axes>"
            ],
            "image/png": "[encoded data removed]"
          },
          "metadata": {
            "needs_background": "light"
          }
        }
      ],
      "source": [
        "import gym\n",
        "import numpy as np\n",
        "import pandas as pd\n",
        "import matplotlib.pyplot as plt\n",
        "%matplotlib inline\n",
        "\n",
        "env = gym.make(\"CartPole-v0\").env\n",
        "env.reset()\n",
        "n_actions = env.action_space.n\n",
        "state_dim = env.observation_space.shape\n",
        "\n",
        "plt.imshow(env.render(\"rgb_array\"))\n",
        "env.close()"
      ]
    },
    {
      "cell_type": "markdown",
      "metadata": {
        "id": "b1LBYkeRlJnq"
      },
      "source": [
        "# Building the network for REINFORCE"
      ]
    },
    {
      "cell_type": "markdown",
      "metadata": {
        "id": "dJwYQQ9olJnq"
      },
      "source": [
        "For REINFORCE algorithm, we'll need a model that predicts action probabilities given states. Let's define such a model below."
      ]
    },
    {
      "cell_type": "code",
      "execution_count": null,
      "metadata": {
        "id": "ombLTd28lJnq"
      },
      "outputs": [],
      "source": [
        "import torch\n",
        "import torch.nn as nn"
      ]
    },
    {
      "cell_type": "code",
      "source": [
        "sample = env.reset()"
      ],
      "metadata": {
        "id": "EFshhDm4m0jU"
      },
      "execution_count": null,
      "outputs": []
    },
    {
      "cell_type": "code",
      "source": [
        "sample.shape"
      ],
      "metadata": {
        "id": "sVFs9dG4m4Ha",
        "outputId": "4ac1efa2-59c3-4806-e064-6066ca184386",
        "colab": {
          "base_uri": "https://localhost:8080/"
        }
      },
      "execution_count": null,
      "outputs": [
        {
          "output_type": "execute_result",
          "data": {
            "text/plain": [
              "(4,)"
            ]
          },
          "metadata": {},
          "execution_count": 7
        }
      ]
    },
    {
      "cell_type": "code",
      "source": [
        "state_dim = sample.shape[0]"
      ],
      "metadata": {
        "id": "AK1psNMrmwSp"
      },
      "execution_count": null,
      "outputs": []
    },
    {
      "cell_type": "code",
      "source": [
        "n_actions = env.action_space.n\n",
        "n_actions"
      ],
      "metadata": {
        "id": "MhE6OPzTnBuz",
        "outputId": "37ad0bad-d825-4f37-f2e7-068cd4336b4d",
        "colab": {
          "base_uri": "https://localhost:8080/"
        }
      },
      "execution_count": null,
      "outputs": [
        {
          "output_type": "execute_result",
          "data": {
            "text/plain": [
              "2"
            ]
          },
          "metadata": {},
          "execution_count": 9
        }
      ]
    },
    {
      "cell_type": "code",
      "execution_count": null,
      "metadata": {
        "id": "tpFxxujxlJnr"
      },
      "outputs": [],
      "source": [
        "# Build a simple neural network that predicts policy logits. \n",
        "# Keep it simple: CartPole isn't worth deep architectures.\n",
        "model = nn.Sequential(\n",
        "  # < YOUR CODE HERE: define a neural network that predicts policy logits >\n",
        "  nn.Linear(state_dim, 128), nn.ReLU(),\n",
        "  nn.Linear(128, 64), nn.ReLU(),\n",
        "  nn.Linear(64, n_actions),\n",
        ")"
      ]
    },
    {
      "cell_type": "markdown",
      "metadata": {
        "id": "XZ6zHx48lJnr"
      },
      "source": [
        "#### Predict function"
      ]
    },
    {
      "cell_type": "code",
      "source": [
        "from torch.nn import functional as F"
      ],
      "metadata": {
        "id": "TtYD5jYPn9fO"
      },
      "execution_count": null,
      "outputs": []
    },
    {
      "cell_type": "code",
      "execution_count": null,
      "metadata": {
        "id": "7KYVi5dnlJnr"
      },
      "outputs": [],
      "source": [
        "def predict_probs(states):\n",
        "    \"\"\" \n",
        "    Predict action probabilities given states.\n",
        "    :param states: numpy array of shape [batch, state_shape]\n",
        "    :returns: numpy array of shape [batch, n_actions]\n",
        "    \"\"\"\n",
        "    # convert states, compute logits, use softmax to get probability\n",
        "    states = torch.FloatTensor(states)\n",
        "    logits = model(states).detach()\n",
        "    probs = F.softmax(logits, dim=-1).numpy()\n",
        "    return probs"
      ]
    },
    {
      "cell_type": "code",
      "execution_count": null,
      "metadata": {
        "id": "1_epE-TxlJnr"
      },
      "outputs": [],
      "source": [
        "test_states = np.array([env.reset() for _ in range(5)])\n",
        "test_probas = predict_probs(test_states)\n",
        "assert isinstance(\n",
        "    test_probas, np.ndarray), \"you must return np array and not %s\" % type(test_probas)\n",
        "assert tuple(test_probas.shape) == (\n",
        "    test_states.shape[0], env.action_space.n), \"wrong output shape: %s\" % np.shape(test_probas)\n",
        "assert np.allclose(np.sum(test_probas, axis=1),\n",
        "                   1), \"probabilities do not sum to 1\""
      ]
    },
    {
      "cell_type": "markdown",
      "metadata": {
        "id": "83FMx1ZjlJnr"
      },
      "source": [
        "### Play the game\n",
        "\n",
        "We can now use our newly built agent to play the game."
      ]
    },
    {
      "cell_type": "code",
      "execution_count": null,
      "metadata": {
        "id": "I6yz9VallJnr"
      },
      "outputs": [],
      "source": [
        "def generate_session(t_max=1000):\n",
        "    \"\"\" \n",
        "    play a full session with REINFORCE agent and train at the session end.\n",
        "    returns sequences of states, actions andrewards\n",
        "    \"\"\"\n",
        "    # arrays to record session\n",
        "    states, actions, rewards = [], [], []\n",
        "    s = env.reset()\n",
        "\n",
        "    for t in range(t_max):\n",
        "        # action probabilities array aka pi(a|s)\n",
        "        action_probs = predict_probs(np.array([s]))[0]\n",
        "\n",
        "        # Sample action with given probabilities.\n",
        "        a = np.random.choice(np.arange(n_actions), p=action_probs)\n",
        "        new_s, r, done, info = env.step(a)\n",
        "\n",
        "        # record session history to train later\n",
        "        states.append(s)\n",
        "        actions.append(a)\n",
        "        rewards.append(r)\n",
        "\n",
        "        s = new_s\n",
        "        if done:\n",
        "            break\n",
        "\n",
        "    return states, actions, rewards"
      ]
    },
    {
      "cell_type": "code",
      "execution_count": null,
      "metadata": {
        "id": "5iUNS-WXlJns"
      },
      "outputs": [],
      "source": [
        "# test it\n",
        "states, actions, rewards = generate_session()"
      ]
    },
    {
      "cell_type": "code",
      "source": [
        "len(states)"
      ],
      "metadata": {
        "id": "vEOCAtcZpLO2",
        "outputId": "b8abe019-1d17-43d8-ebf1-6f4d6cddc67e",
        "colab": {
          "base_uri": "https://localhost:8080/"
        }
      },
      "execution_count": null,
      "outputs": [
        {
          "output_type": "execute_result",
          "data": {
            "text/plain": [
              "17"
            ]
          },
          "metadata": {},
          "execution_count": 16
        }
      ]
    },
    {
      "cell_type": "markdown",
      "metadata": {
        "id": "KoO8o2YalJns"
      },
      "source": [
        "### Computing cumulative rewards"
      ]
    },
    {
      "cell_type": "code",
      "execution_count": null,
      "metadata": {
        "id": "bmpyGQzNlJns"
      },
      "outputs": [],
      "source": [
        "def get_cumulative_rewards(\n",
        "    rewards,  # rewards at each step\n",
        "    gamma=0.99,  # discount for reward\n",
        "):\n",
        "    \"\"\"\n",
        "    take a list of immediate rewards r(s,a) for the whole session \n",
        "    compute cumulative returns (a.k.a. G(s,a) in Sutton '16)\n",
        "    G_t = r_t + gamma*r_{t+1} + gamma^2*r_{t+2} + ...\n",
        "\n",
        "    The simple way to compute cumulative rewards is to iterate from last to first time tick\n",
        "    and compute G_t = r_t + gamma*G_{t+1} recurrently\n",
        "\n",
        "    You must return an array/list of cumulative rewards with as many elements as in the initial rewards.\n",
        "    \"\"\"\n",
        "    G = np.zeros_like(rewards, dtype=float)\n",
        "    G[-1] = rewards[-1]\n",
        "    for idx in range(-2, -len(rewards) -1, -1):\n",
        "        G[idx] = rewards[idx] + gamma * G[idx+1]\n",
        "    return G"
      ]
    },
    {
      "cell_type": "code",
      "execution_count": null,
      "metadata": {
        "id": "16iat4IblJns",
        "outputId": "c0c94ca1-d3ec-4bb9-8cd1-9a2855c481d5",
        "colab": {
          "base_uri": "https://localhost:8080/"
        }
      },
      "outputs": [
        {
          "output_type": "stream",
          "name": "stdout",
          "text": [
            "looks good!\n"
          ]
        }
      ],
      "source": [
        "get_cumulative_rewards(rewards)\n",
        "assert len(get_cumulative_rewards(list(range(100)))) == 100\n",
        "assert np.allclose(get_cumulative_rewards([0, 0, 1, 0, 0, 1, 0], gamma=0.9), [\n",
        "                   1.40049, 1.5561, 1.729, 0.81, 0.9, 1.0, 0.0])\n",
        "assert np.allclose(get_cumulative_rewards(\n",
        "    [0, 0, 1, -2, 3, -4, 0], gamma=0.5), [0.0625, 0.125, 0.25, -1.5, 1.0, -4.0, 0.0])\n",
        "assert np.allclose(get_cumulative_rewards(\n",
        "    [0, 0, 1, 2, 3, 4, 0], gamma=0), [0, 0, 1, 2, 3, 4, 0])\n",
        "print(\"looks good!\")"
      ]
    },
    {
      "cell_type": "markdown",
      "metadata": {
        "id": "00foMQcLlJns"
      },
      "source": [
        "#### Loss function and updates\n",
        "\n",
        "We now need to define objective and update over policy gradient.\n",
        "\n",
        "Our objective function is\n",
        "\n",
        "$$ J \\approx  { 1 \\over N } \\sum  _{s_i,a_i} \\pi_\\theta (a_i | s_i) \\cdot G(s_i,a_i) $$\n",
        "\n",
        "\n",
        "Following the REINFORCE algorithm, we can define our objective as follows: \n",
        "\n",
        "$$ \\hat J \\approx { 1 \\over N } \\sum  _{s_i,a_i} log \\pi_\\theta (a_i | s_i) \\cdot G(s_i,a_i) $$\n",
        "\n",
        "When you compute gradient of that function over network weights $ \\theta $, it will become exactly the policy gradient.\n"
      ]
    },
    {
      "cell_type": "code",
      "execution_count": null,
      "metadata": {
        "id": "jwP1NlSDlJns"
      },
      "outputs": [],
      "source": [
        "def to_one_hot(y_tensor, ndims):\n",
        "    \"\"\" helper: take an integer vector and convert it to 1-hot matrix. \"\"\"\n",
        "    y_tensor = y_tensor.type(torch.LongTensor).view(-1, 1)\n",
        "    y_one_hot = torch.zeros(\n",
        "        y_tensor.size()[0], ndims\n",
        "    ).scatter_(1, y_tensor, 1)\n",
        "    return y_one_hot"
      ]
    },
    {
      "cell_type": "code",
      "execution_count": null,
      "metadata": {
        "id": "5fkL_ypXlJnt"
      },
      "outputs": [],
      "source": [
        "# Your code: define optimizers\n",
        "optimizer = torch.optim.Adam(model.parameters(), 1e-3)\n",
        "\n",
        "\n",
        "def train_on_session(states, actions, rewards, gamma=0.99, entropy_coef=1e-3):\n",
        "    \"\"\"\n",
        "    Takes a sequence of states, actions and rewards produced by generate_session.\n",
        "    Updates agent's weights by following the policy gradient above.\n",
        "    Please use Adam optimizer with default parameters.\n",
        "    \"\"\"\n",
        "\n",
        "    # cast everything into torch tensors\n",
        "    states = torch.tensor(states, dtype=torch.float32)\n",
        "    actions = torch.tensor(actions, dtype=torch.int32)\n",
        "    cumulative_returns = np.array(get_cumulative_rewards(rewards, gamma))\n",
        "    cumulative_returns = torch.tensor(cumulative_returns, dtype=torch.float32)\n",
        "\n",
        "    # predict logits, probas and log-probas using an agent.\n",
        "    logits = model(states)\n",
        "    probs = nn.functional.softmax(logits, -1)\n",
        "    log_probs = nn.functional.log_softmax(logits, -1)\n",
        "\n",
        "    assert all(isinstance(v, torch.Tensor) for v in [logits, probs, log_probs]), \\\n",
        "        \"please use compute using torch tensors and don't use predict_probs function\"\n",
        "\n",
        "    # select log-probabilities for chosen actions, log pi(a_i|s_i)\n",
        "    log_probs_for_actions = torch.sum(\n",
        "        log_probs * to_one_hot(actions, env.action_space.n), dim=1)\n",
        "   \n",
        "    # Compute loss here. Don't forget entropy regularization with `entropy_coef` \n",
        "    entropy = -torch.mean(torch.sum(probs * log_probs), dim=-1)\n",
        "    loss = -torch.mean(log_probs_for_actions * cumulative_returns) - entropy * entropy_coef\n",
        "\n",
        "    # Gradient descent step\n",
        "    loss.backward()\n",
        "    optimizer.step()\n",
        "    optimizer.zero_grad()\n",
        "\n",
        "    # technical: return session rewards to print them later\n",
        "    return np.sum(rewards)"
      ]
    },
    {
      "cell_type": "markdown",
      "metadata": {
        "id": "4NwT7GV7lJnt"
      },
      "source": [
        "### The actual training"
      ]
    },
    {
      "cell_type": "code",
      "execution_count": null,
      "metadata": {
        "scrolled": true,
        "id": "BuX65G0mlJnt",
        "outputId": "ddac7c0b-a32f-4a5d-d7a2-d9a38be7c928",
        "colab": {
          "base_uri": "https://localhost:8080/"
        }
      },
      "outputs": [
        {
          "output_type": "stream",
          "name": "stderr",
          "text": [
            "<ipython-input-20-98733bb04503>:13: UserWarning: Creating a tensor from a list of numpy.ndarrays is extremely slow. Please consider converting the list to a single numpy.ndarray with numpy.array() before converting to a tensor. (Triggered internally at ../torch/csrc/utils/tensor_new.cpp:230.)\n",
            "  states = torch.tensor(states, dtype=torch.float32)\n"
          ]
        },
        {
          "output_type": "stream",
          "name": "stdout",
          "text": [
            "mean reward:25.390\n",
            "mean reward:46.360\n",
            "mean reward:102.540\n",
            "mean reward:170.850\n",
            "mean reward:185.580\n",
            "mean reward:110.770\n",
            "mean reward:186.880\n",
            "mean reward:207.080\n",
            "mean reward:329.690\n",
            "mean reward:918.170\n",
            "You Win!\n"
          ]
        }
      ],
      "source": [
        "for i in range(100):\n",
        "    rewards = [train_on_session(*generate_session())\n",
        "               for _ in range(100)]  # generate new sessions\n",
        "    print(\"mean reward:%.3f\" % (np.mean(rewards)))\n",
        "    if np.mean(rewards) > 500:\n",
        "        print(\"You Win!\")  # but you can train even further\n",
        "        break"
      ]
    },
    {
      "cell_type": "markdown",
      "metadata": {
        "id": "IPUuW6TxlJnt"
      },
      "source": [
        "### Video"
      ]
    },
    {
      "cell_type": "code",
      "execution_count": null,
      "metadata": {
        "id": "noYPtO71lJnt",
        "outputId": "5dfbb091-a161-4ebb-8570-ca7eb3b82c3f",
        "colab": {
          "base_uri": "https://localhost:8080/"
        }
      },
      "outputs": [
        {
          "output_type": "stream",
          "name": "stderr",
          "text": [
            "/usr/local/lib/python3.9/dist-packages/gym/envs/registration.py:505: UserWarning: \u001b[33mWARN: The environment CartPole-v0 is out of date. You should consider upgrading to version `v1` with the environment ID `CartPole-v1`.\u001b[0m\n",
            "  logger.warn(\n"
          ]
        }
      ],
      "source": [
        "# record sessions\n",
        "import gym.wrappers\n",
        "env = gym.wrappers.Monitor(gym.make(\"CartPole-v0\"),\n",
        "                           directory=\"videos\", force=True)\n",
        "sessions = [generate_session() for _ in range(100)]\n",
        "env.close()"
      ]
    },
    {
      "cell_type": "code",
      "execution_count": null,
      "metadata": {
        "id": "mQlGgfMGlJnt",
        "outputId": "21442e4e-d573-4a76-d83d-9b052469a347",
        "colab": {
          "base_uri": "https://localhost:8080/",
          "height": 501
        }
      },
      "outputs": [
        {
          "output_type": "execute_result",
          "data": {
            "text/plain": [
              "<IPython.core.display.HTML object>"
            ],
            "text/html": [
              "\n",
              "<video width=\"640\" height=\"480\" controls>\n",
              "  <source src=\"data:video/mp4;base64,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\" type=\"video/mp4\">\n",
              "</video>\n"
            ]
          },
          "metadata": {},
          "execution_count": 23
        }
      ],
      "source": [
        "# Show video. This may not work in some setups. If it doesn't\n",
        "# work for you, you can download the videos and view them locally.\n",
        "\n",
        "import sys\n",
        "from pathlib import Path\n",
        "from base64 import b64encode\n",
        "from IPython.display import HTML\n",
        "\n",
        "video_paths = sorted([s for s in Path('videos').iterdir() if s.suffix == '.mp4'])\n",
        "video_path = video_paths[-3]  # You can also try other indices\n",
        "\n",
        "if 'google.colab' in sys.modules:\n",
        "    # https://stackoverflow.com/a/57378660/1214547\n",
        "    with video_path.open('rb') as fp:\n",
        "        mp4 = fp.read()\n",
        "    data_url = 'data:video/mp4;base64,' + b64encode(mp4).decode()\n",
        "else:\n",
        "    data_url = str(video_path)\n",
        "\n",
        "HTML(\"\"\"\n",
        "<video width=\"640\" height=\"480\" controls>\n",
        "  <source src=\"{}\" type=\"video/mp4\">\n",
        "</video>\n",
        "\"\"\".format(data_url))"
      ]
    },
    {
      "cell_type": "markdown",
      "metadata": {
        "id": "PQYCuYt1lJnu"
      },
      "source": [
        "### Bonus area: solving Acrobot-v1\n",
        "Try to solve more complex environment using Policy gradient method.\n",
        "*Hint: you will need add some imporovements to the original REINFORCE (e.g. Advantage Actor Critic or anything else).*"
      ]
    },
    {
      "cell_type": "code",
      "execution_count": null,
      "metadata": {
        "id": "iBXrA89AlJnu",
        "outputId": "4f4bafc6-7bc4-45f9-cf58-e2740361cfe7",
        "colab": {
          "base_uri": "https://localhost:8080/"
        }
      },
      "outputs": [
        {
          "output_type": "stream",
          "name": "stdout",
          "text": [
            "6 3\n"
          ]
        }
      ],
      "source": [
        "env = gym.make(\"Acrobot-v1\")\n",
        "env.reset()\n",
        "\n",
        "# plt.imshow(env.render(\"rgb_array\"))\n",
        "state_dim = env.reset().shape[0]\n",
        "n_actions = env.action_space.n\n",
        "\n",
        "print(state_dim, n_actions)"
      ]
    },
    {
      "cell_type": "code",
      "source": [
        "# Build a simple neural network that predicts policy logits. \n",
        "# Keep it simple: CartPole isn't worth deep architectures.\n",
        "model = nn.Sequential(\n",
        "  # < YOUR CODE HERE: define a neural network that predicts policy logits >\n",
        "  nn.Linear(state_dim, 128), nn.ReLU(),\n",
        "  nn.Linear(128, 64), nn.ReLU(),\n",
        "  nn.Linear(64, n_actions),\n",
        ")"
      ],
      "metadata": {
        "id": "EY0dF3XJvrBa"
      },
      "execution_count": null,
      "outputs": []
    },
    {
      "cell_type": "code",
      "source": [
        "# test it\n",
        "states, actions, rewards = generate_session()"
      ],
      "metadata": {
        "id": "fvbavIKbvlgR"
      },
      "execution_count": null,
      "outputs": []
    },
    {
      "cell_type": "code",
      "execution_count": null,
      "metadata": {
        "id": "nxZ2OIaNlJnu",
        "outputId": "e60e69e1-a55b-47bf-d182-87e0327a756d",
        "colab": {
          "base_uri": "https://localhost:8080/"
        }
      },
      "outputs": [
        {
          "output_type": "execute_result",
          "data": {
            "text/plain": [
              "500"
            ]
          },
          "metadata": {},
          "execution_count": 38
        }
      ],
      "source": [
        "len(states)"
      ]
    },
    {
      "cell_type": "code",
      "source": [
        "# Your code: define optimizers\n",
        "optimizer = torch.optim.Adam(model.parameters(), 1e-3)\n",
        "\n",
        "\n",
        "def train_on_session(states, actions, rewards, gamma=0.99, entropy_coef=1e-3):\n",
        "    \"\"\"\n",
        "    Takes a sequence of states, actions and rewards produced by generate_session.\n",
        "    Updates agent's weights by following the policy gradient above.\n",
        "    Please use Adam optimizer with default parameters.\n",
        "    \"\"\"\n",
        "\n",
        "    # cast everything into torch tensors\n",
        "    states = torch.tensor(states, dtype=torch.float32)\n",
        "    actions = torch.tensor(actions, dtype=torch.int32)\n",
        "    cumulative_returns = np.array(get_cumulative_rewards(rewards, gamma))\n",
        "    cumulative_returns = torch.tensor(cumulative_returns, dtype=torch.float32)\n",
        "\n",
        "    # predict logits, probas and log-probas using an agent.\n",
        "    logits = model(states)\n",
        "    probs = nn.functional.softmax(logits, -1)\n",
        "    log_probs = nn.functional.log_softmax(logits, -1)\n",
        "\n",
        "    assert all(isinstance(v, torch.Tensor) for v in [logits, probs, log_probs]), \\\n",
        "        \"please use compute using torch tensors and don't use predict_probs function\"\n",
        "\n",
        "    # select log-probabilities for chosen actions, log pi(a_i|s_i)\n",
        "    log_probs_for_actions = torch.sum(\n",
        "        log_probs * to_one_hot(actions, env.action_space.n), dim=1)\n",
        "   \n",
        "    # Compute loss here. Don't forget entropy regularization with `entropy_coef` \n",
        "    entropy = -torch.mean(torch.sum(probs * log_probs), dim=-1)\n",
        "    loss = -torch.mean(log_probs_for_actions * (cumulative_returns - torch.mean(cumulative_returns))) - entropy * entropy_coef\n",
        "\n",
        "    # Gradient descent step\n",
        "    loss.backward()\n",
        "    optimizer.step()\n",
        "    optimizer.zero_grad()\n",
        "\n",
        "    # technical: return session rewards to print them later\n",
        "    return np.sum(rewards)"
      ],
      "metadata": {
        "id": "YcOhj9GtwNdk"
      },
      "execution_count": null,
      "outputs": []
    },
    {
      "cell_type": "code",
      "source": [
        " for i in range(100):\n",
        "    rewards = [train_on_session(*generate_session())\n",
        "               for _ in range(100)]  # generate new sessions\n",
        "    print(\"mean reward:%.3f\" % (np.mean(rewards)))\n",
        "    if np.mean(rewards) > -100:\n",
        "        print(\"You Win!\")  # but you can train even further\n",
        "        break"
      ],
      "metadata": {
        "id": "efRVuPVBvveg",
        "outputId": "c0834a5c-bed6-4cc1-b6c8-c691d6e8c738",
        "colab": {
          "base_uri": "https://localhost:8080/"
        }
      },
      "execution_count": null,
      "outputs": [
        {
          "output_type": "stream",
          "name": "stdout",
          "text": [
            "mean reward:-500.000\n",
            "mean reward:-500.000\n",
            "mean reward:-500.000\n",
            "mean reward:-499.920\n",
            "mean reward:-498.250\n",
            "mean reward:-289.210\n",
            "mean reward:-240.920\n",
            "mean reward:-190.640\n",
            "mean reward:-146.510\n",
            "mean reward:-174.770\n",
            "mean reward:-152.430\n",
            "mean reward:-123.700\n",
            "mean reward:-142.600\n",
            "mean reward:-125.180\n",
            "mean reward:-120.290\n",
            "mean reward:-131.240\n",
            "mean reward:-129.010\n",
            "mean reward:-129.590\n",
            "mean reward:-128.430\n",
            "mean reward:-115.270\n",
            "mean reward:-121.190\n",
            "mean reward:-121.300\n",
            "mean reward:-118.700\n",
            "mean reward:-129.670\n",
            "mean reward:-122.940\n",
            "mean reward:-117.470\n",
            "mean reward:-112.460\n",
            "mean reward:-114.860\n",
            "mean reward:-123.780\n",
            "mean reward:-110.360\n",
            "mean reward:-108.680\n",
            "mean reward:-103.900\n",
            "mean reward:-108.450\n",
            "mean reward:-102.800\n",
            "mean reward:-101.280\n",
            "mean reward:-109.960\n",
            "mean reward:-116.790\n",
            "mean reward:-136.230\n",
            "mean reward:-117.860\n",
            "mean reward:-139.130\n",
            "mean reward:-119.550\n",
            "mean reward:-153.910\n",
            "mean reward:-147.140\n",
            "mean reward:-131.750\n",
            "mean reward:-127.410\n",
            "mean reward:-102.640\n",
            "mean reward:-88.020\n",
            "You Win!\n"
          ]
        }
      ]
    },
    {
      "cell_type": "code",
      "source": [
        "# record sessions\n",
        "import gym.wrappers\n",
        "env = gym.wrappers.Monitor(gym.make(\"Acrobot-v1\"),\n",
        "                           directory=\"videos\", force=True)\n",
        "sessions = [generate_session() for _ in range(100)]\n",
        "env.close()"
      ],
      "metadata": {
        "id": "jBl_RnTnv7Ti"
      },
      "execution_count": null,
      "outputs": []
    },
    {
      "cell_type": "code",
      "source": [
        "# Show video. This may not work in some setups. If it doesn't\n",
        "# work for you, you can download the videos and view them locally.\n",
        "\n",
        "import sys\n",
        "from pathlib import Path\n",
        "from base64 import b64encode\n",
        "from IPython.display import HTML\n",
        "\n",
        "video_paths = sorted([s for s in Path('videos').iterdir() if s.suffix == '.mp4'])\n",
        "video_path = video_paths[-3]  # You can also try other indices\n",
        "\n",
        "if 'google.colab' in sys.modules:\n",
        "    # https://stackoverflow.com/a/57378660/1214547\n",
        "    with video_path.open('rb') as fp:\n",
        "        mp4 = fp.read()\n",
        "    data_url = 'data:video/mp4;base64,' + b64encode(mp4).decode()\n",
        "else:\n",
        "    data_url = str(video_path)\n",
        "\n",
        "HTML(\"\"\"\n",
        "<video width=\"640\" height=\"480\" controls>\n",
        "  <source src=\"{}\" type=\"video/mp4\">\n",
        "</video>\n",
        "\"\"\".format(data_url))"
      ],
      "metadata": {
        "id": "l-D8IyAt4DcO",
        "outputId": "b6193720-8578-4ab2-dd42-a926adf898b2",
        "colab": {
          "base_uri": "https://localhost:8080/",
          "height": 501
        }
      },
      "execution_count": null,
      "outputs": [
        {
          "output_type": "execute_result",
          "data": {
            "text/plain": [
              "<IPython.core.display.HTML object>"
            ],
            "text/html": [
              "\n",
              "<video width=\"640\" height=\"480\" controls>\n",
              "  <source src=\"data:video/mp4;base64,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\" type=\"video/mp4\">\n",
              "</video>\n"
            ]
          },
          "metadata": {},
          "execution_count": 42
        }
      ]
    },
    {
      "cell_type": "code",
      "source": [],
      "metadata": {
        "id": "C0OJLmc86fXH"
      },
      "execution_count": null,
      "outputs": []
    }
  ],
  "metadata": {
    "kernelspec": {
      "display_name": "Py3 research env",
      "language": "python",
      "name": "py3_research"
    },
    "language_info": {
      "codemirror_mode": {
        "name": "ipython",
        "version": 3
      },
      "file_extension": ".py",
      "mimetype": "text/x-python",
      "name": "python",
      "nbconvert_exporter": "python",
      "pygments_lexer": "ipython3",
      "version": "3.7.7"
    },
    "colab": {
      "provenance": []
    }
  },
  "nbformat": 4,
  "nbformat_minor": 0
}