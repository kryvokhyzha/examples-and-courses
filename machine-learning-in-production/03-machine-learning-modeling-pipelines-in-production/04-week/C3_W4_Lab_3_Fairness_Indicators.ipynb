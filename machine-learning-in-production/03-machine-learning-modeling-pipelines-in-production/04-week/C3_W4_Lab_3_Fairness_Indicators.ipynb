{
  "nbformat": 4,
  "nbformat_minor": 0,
  "metadata": {
    "colab": {
      "private_outputs": true,
      "provenance": [],
      "collapsed_sections": []
    },
    "kernelspec": {
      "name": "python3",
      "display_name": "Python 3"
    },
    "accelerator": "GPU"
  },
  "cells": [
    {
      "cell_type": "markdown",
      "metadata": {
        "id": "YwpE8n4v_JeT"
      },
      "source": [
        "# Ungraded Lab: Fairness Indicators\n",
        "\n",
        "In this colab notebook, you will use [Fairness Indicators](https://www.tensorflow.org/tfx/guide/fairness_indicators) to explore the `Smiling` attribute in a large-scale face image dataset. Fairness Indicators is a suite of tools built on top of [TensorFlow Model Analysis](https://www.tensorflow.org/tfx/model_analysis/get_started) that enable regular evaluation of fairness metrics in product pipelines. This [Introductory Video](https://www.youtube.com/watch?v=pHT-ImFXPQo) provides more details and context on the real-world scenario presented here, one of primary motivations for creating Fairness Indicators. This notebook will teach you to:\n",
        "\n",
        "\n",
        "*   Train a simple neural network model to detect a person's smile in images using [TF Keras](https://www.tensorflow.org/guide/keras) and the [CelebFaces Attributes (CelebA)](http://mmlab.ie.cuhk.edu.hk/projects/CelebA.html) dataset.\n",
        "*   Evaluate model performance against a commonly used fairness metric across age groups using Fairness Indicators.\n",
        "\n",
        "*Credits: Some of the code and discussions are taken from this [Tensorflow tutorial](https://colab.research.google.com/github/tensorflow/fairness-indicators/blob/master/g3doc/tutorials/Fairness_Indicators_TFCO_CelebA_Case_Study.ipynb).*"
      ]
    },
    {
      "cell_type": "markdown",
      "metadata": {
        "id": "QTvlORA3TuTz"
      },
      "source": [
        "## Install Fairness Indicators\n",
        "\n",
        "This will install all related libraries such as TFMA and TFDV."
      ]
    },
    {
      "cell_type": "code",
      "metadata": {
        "id": "t1ZWcTAvoi_o"
      },
      "source": [
        "!pip install --use-deprecated=legacy-resolver fairness-indicators\n",
        "!pip install apache-beam==2.39.0"
      ],
      "execution_count": null,
      "outputs": []
    },
    {
      "cell_type": "markdown",
      "metadata": {
        "id": "joQr8PWXUWon"
      },
      "source": [
        "*Note: In Google Colab, you need to restart the runtime at this point to finalize updating the packages you just installed. You can do so by clicking the `Restart Runtime` at the end of the output cell above (after installation), or by selecting `Runtime > Restart Runtime` in the Menu bar. **Please do not proceed to the next section without restarting.** You can also ignore the errors about version incompatibility of some of the bundled packages because we won't be using those in this notebook.*"
      ]
    },
    {
      "cell_type": "markdown",
      "metadata": {
        "id": "fiqohiU73cRf"
      },
      "source": [
        "## Import packages\n",
        "\n",
        "Next, you will import the main packages and some utilities you will need in this notebook. Notice that you are not importing `fairness-indicators` directly. As mentioned in the intro, this suite of tools is built on top of TFMA so you can just import TFMA to access it."
      ]
    },
    {
      "cell_type": "code",
      "metadata": {
        "id": "A66hFOyMorfQ"
      },
      "source": [
        "import tensorflow as tf\n",
        "import tensorflow_model_analysis as tfma\n",
        "import tensorflow_datasets as tfds\n",
        "from tensorflow import keras"
      ],
      "execution_count": null,
      "outputs": []
    },
    {
      "cell_type": "markdown",
      "metadata": {
        "id": "LwJ63Ay0WUjP"
      },
      "source": [
        "The code below should not produce any error. Otherwise, please restart the installation."
      ]
    },
    {
      "cell_type": "code",
      "metadata": {
        "id": "WzZNQrUCpEs6"
      },
      "source": [
        "print(\"TensorFlow \" + tf.__version__)\n",
        "print(\"TFMA \" + tfma.VERSION_STRING)"
      ],
      "execution_count": null,
      "outputs": []
    },
    {
      "cell_type": "markdown",
      "metadata": {
        "id": "aLzC_ZvSEM_C"
      },
      "source": [
        "## Download and prepare the dataset\n",
        "\n",
        "[CelebA](http://mmlab.ie.cuhk.edu.hk/projects/CelebA.html) is a large-scale face attributes dataset with more than 200,000 celebrity images, each with 40 attribute annotations (such as hair type, fashion accessories, facial features, etc.) and 5 landmark locations (eyes, mouth and nose positions). For more details, you can read more in [this paper](https://liuziwei7.github.io/projects/FaceAttributes.html).\n",
        "\n",
        "With the permission of the owners, this dataset is stored on Google Cloud Storage (GCS) and mostly accessed via [TensorFlow Datasets(`tfds`)](https://www.tensorflow.org/datasets). To save on download time and disk space, you will use the GCS bucket specified below as your data directory. This already contains the TFRecords. If you want to download it to your workspace, you can pass a local directory to the `data_dir` argument. Just take note that it will take time to complete the download.\n",
        "\n",
        "\n"
      ]
    },
    {
      "cell_type": "code",
      "metadata": {
        "id": "_tRPCjI9YxKN"
      },
      "source": [
        "# URI of the dataset in Goocle Cloud Storage\n",
        "GCS_BASE_DIR = \"gs://celeb_a_dataset/\"\n",
        "\n",
        "# Load the data using TFDS\n",
        "data, data_info = tfds.load(\"celeb_a\", data_dir=GCS_BASE_DIR, with_info=True, builder_kwargs={'version':'2.0.0'})"
      ],
      "execution_count": null,
      "outputs": []
    },
    {
      "cell_type": "markdown",
      "metadata": {
        "id": "5c8Rsf-WamtK"
      },
      "source": [
        "You can preview some of the images in the dataset."
      ]
    },
    {
      "cell_type": "code",
      "metadata": {
        "id": "8r0ZMW3_ZnZU"
      },
      "source": [
        "# Take 6 examples and preview images\n",
        "fig = tfds.show_examples(data['train'].take(6), data_info)"
      ],
      "execution_count": null,
      "outputs": []
    },
    {
      "cell_type": "markdown",
      "metadata": {
        "id": "Nt8Ahn9fbBTh"
      },
      "source": [
        "You can also view the dataset as a dataframe to preview the other attributes in tabular format."
      ]
    },
    {
      "cell_type": "code",
      "metadata": {
        "id": "S7Ndy-sKbpbk"
      },
      "source": [
        "# Take 4 examples as a dataframe\n",
        "df = tfds.as_dataframe(data['train'].take(4), data_info)\n",
        "\n",
        "# View the dataframe\n",
        "df.head()"
      ],
      "execution_count": null,
      "outputs": []
    },
    {
      "cell_type": "markdown",
      "metadata": {
        "id": "NqoM3nazby8C"
      },
      "source": [
        "Let's list the column header so you can see the attribute names in the dataset. For this notebook, you will just examine the `attributes/Young` and `attributes/Smiling` features but feel free to pick other features once you've gone over the whole exercise."
      ]
    },
    {
      "cell_type": "code",
      "metadata": {
        "id": "icDbLpkaGN0S"
      },
      "source": [
        "# List dataframe header\n",
        "df.columns"
      ],
      "execution_count": null,
      "outputs": []
    },
    {
      "cell_type": "markdown",
      "metadata": {
        "id": "BO5Ld9oOYAvZ"
      },
      "source": [
        "In this notebook:\n",
        "* Your model will attempt to classify whether the subject of the image is smiling, as represented by the `Smiling` attribute<sup>*</sup>.\n",
        "*   Images will be resized from 218x178 to 28x28 to reduce the execution time and memory when training.\n",
        "*   Your model's performance will be evaluated across age groups, using the binary `Young` attribute. You will call this \"age group\" in this notebook.\n",
        "\n",
        "___\n",
        "\n",
        "<sup>*</sup> *While there is little information available about the labeling methodology for this dataset, you will assume that the \"Smiling\" attribute was determined by a pleased, kind, or amused expression on the subject's face. For the purpose of this example, you will take these labels as ground truth.*"
      ]
    },
    {
      "cell_type": "markdown",
      "metadata": {
        "id": "1uzyvjt8EyLT"
      },
      "source": [
        "### Caveats\n",
        "Before moving forward, there are several considerations to keep in mind when using CelebA:\n",
        "*   Although, in principle, this notebook could use any dataset of face images, CelebA was chosen because it contains public domain images of public figures.\n",
        "*   All of the attribute annotations in CelebA are operationalized as binary categories. For example, the `Young` attribute (as determined by the dataset labelers) is denoted as either present or absent in the image.\n",
        "*   CelebA's categorizations do not reflect real human diversity of attributes.\n",
        "*   For the purposes of this notebook, the feature containing the `Young` attribute is referred to as \"age group\". A `True` will put the image as a member of the `Young` age group and a `False` will put the image as a member of the `Not Young` age group. These are assumptions made as this information is not mentioned in the [original paper](http://openaccess.thecvf.com/content_iccv_2015/html/Liu_Deep_Learning_Face_ICCV_2015_paper.html).\n",
        "*   As such, performance in the models trained in this notebook is tied to the ways the attributes have been operationalized and annotated by the authors of CelebA.\n",
        "*   This model should not be used for commercial purposes as that would violate [CelebA's non-commercial research agreement](http://mmlab.ie.cuhk.edu.hk/projects/CelebA.html)."
      ]
    },
    {
      "cell_type": "markdown",
      "metadata": {
        "id": "6yDEIn3cE6Uo"
      },
      "source": [
        "### Setting Up Input Functions\n",
        "\n",
        "Now, you will define the preprocessing functions to prepare your data as model inputs. These include resizing images, normalizing pixels, casting to the right data type, and grouping the features and labels."
      ]
    },
    {
      "cell_type": "code",
      "metadata": {
        "id": "3PSk2eUUx9L8"
      },
      "source": [
        "# Define Constants\n",
        "ATTR_KEY = \"attributes\"\n",
        "IMAGE_KEY = \"image\"\n",
        "LABEL_KEY = \"Smiling\"\n",
        "GROUP_KEY = \"Young\"\n",
        "IMAGE_SIZE = 28\n",
        "\n",
        "# Define Preprocessing Function\n",
        "def preprocess_input_dict(feat_dict):\n",
        "  ''' Picks the attributes to study and resizes the images\n",
        "  Args:\n",
        "    feat_dict (dictionary): features from the dataset\n",
        "\n",
        "  Returns:\n",
        "    dictionary containing the resized image, label, and age group\n",
        "  '''\n",
        "  # Separate out the image and target variable from the feature dictionary.\n",
        "  image = feat_dict[IMAGE_KEY]\n",
        "  label = feat_dict[ATTR_KEY][LABEL_KEY]\n",
        "  group = feat_dict[ATTR_KEY][GROUP_KEY]\n",
        "\n",
        "  # Resize and normalize image.\n",
        "  image = tf.cast(image, tf.float32)\n",
        "  image = tf.image.resize(image, [IMAGE_SIZE, IMAGE_SIZE])\n",
        "  image /= 255.0\n",
        "\n",
        "  # Cast label and group to float32.\n",
        "  label = tf.cast(label, tf.float32)\n",
        "  group = tf.cast(group, tf.float32)\n",
        "\n",
        "  # Put the computed values in a dictionary\n",
        "  feat_dict[IMAGE_KEY] = image\n",
        "  feat_dict[ATTR_KEY][LABEL_KEY] = label\n",
        "  feat_dict[ATTR_KEY][GROUP_KEY] = group\n",
        "\n",
        "  return feat_dict\n",
        "\n",
        "# Define lambda functions to group features and labels for training and evaluation\n",
        "get_image_and_label = lambda feat_dict: (feat_dict[IMAGE_KEY], feat_dict[ATTR_KEY][LABEL_KEY])\n",
        "get_image_label_and_group = lambda feat_dict: (feat_dict[IMAGE_KEY], feat_dict[ATTR_KEY][LABEL_KEY], feat_dict[ATTR_KEY][GROUP_KEY])"
      ],
      "execution_count": null,
      "outputs": []
    },
    {
      "cell_type": "markdown",
      "metadata": {
        "id": "IQOsJKPshhmJ"
      },
      "source": [
        "## Prepare train and test splits\n",
        "\n",
        "This next helper function will help split, shuffle, batch and preprocess your training data. For this notebook, you will just develop a model that accepts the image as input and outputs the `Smiling` attribute (i.e. label)."
      ]
    },
    {
      "cell_type": "code",
      "metadata": {
        "id": "-CfC6ZF4pc7I"
      },
      "source": [
        "def celeb_a_train_data_wo_group(data, batch_size):\n",
        "  '''\n",
        "  Args:\n",
        "    data (TF dataset) - dataset to preprocess\n",
        "    batch_size (int) - batch size\n",
        "  \n",
        "  Returns:\n",
        "    Batches of preprocessed datasets containing tuples with (image, label)\n",
        "  '''\n",
        "  celeb_a_train_data = data.shuffle(1024).repeat().batch(batch_size).map(preprocess_input_dict)\n",
        "  return celeb_a_train_data.map(get_image_and_label)"
      ],
      "execution_count": null,
      "outputs": []
    },
    {
      "cell_type": "markdown",
      "metadata": {
        "id": "GZYWhFB-lal-"
      },
      "source": [
        "The `test` split does not need to be shuffled so you can just preprocess it like below."
      ]
    },
    {
      "cell_type": "code",
      "metadata": {
        "id": "hLkOPoVwdhKh"
      },
      "source": [
        "# Prepare test data\n",
        "celeb_a_test_data = data['test'].batch(1).map(preprocess_input_dict).map(get_image_label_and_group)"
      ],
      "execution_count": null,
      "outputs": []
    },
    {
      "cell_type": "markdown",
      "metadata": {
        "id": "xcQwGY4JnsT6"
      },
      "source": [
        "As a sanity check, you can examine the contents of a one example in the test data. You should see that it is successfully reshaped and the pixels should be normalized."
      ]
    },
    {
      "cell_type": "code",
      "metadata": {
        "id": "svHIiXWPmfy4"
      },
      "source": [
        "# Print info about the test data records\n",
        "for sample in celeb_a_test_data.take(1):\n",
        "  print(f'Data type: {type(sample)}')\n",
        "  print(f'Number of elements: {len(sample)}')\n",
        "  print(f'Shape of 1st element: {sample[0].shape}')\n",
        "  print(f'Shape of 2nd element: {sample[1].shape}')\n",
        "  print(f'Shape of 3rd element: {sample[2].shape}')\n",
        "  print(f'Contents: \\n{sample}')"
      ],
      "execution_count": null,
      "outputs": []
    },
    {
      "cell_type": "markdown",
      "metadata": {
        "id": "bZ7SCKIEF1IC"
      },
      "source": [
        "## Build a simple DNN Model\n",
        "\n",
        "With the dataset prepared, you will now assemble a simple `tf.keras.Sequential` model to classify your images. The model consists of:\n",
        "\n",
        "1. An input layer that represents the flattened 28x28x3 image.\n",
        "2. A fully connected layer with 64 units activated by a ReLU function.\n",
        "3. A single-unit readout layer to output real-scores instead of probabilities.\n",
        "\n",
        "You may be able to greatly improve model performance by adding some complexity (e.g., more densely-connected layers, exploring different activation functions, increasing image size), but that may distract from the goal of demonstrating how easy it is to apply the indicators when working with Keras. For that reason, you will first keep the model simple — but feel free to explore this space later."
      ]
    },
    {
      "cell_type": "code",
      "metadata": {
        "id": "tpNlbyyapfbL"
      },
      "source": [
        "def create_model():\n",
        "  '''Builds the simple DNN binary classifier'''\n",
        "\n",
        "  # Build the model using the Sequential API\n",
        "  model = keras.Sequential([\n",
        "      keras.layers.Flatten(input_shape=(IMAGE_SIZE, IMAGE_SIZE, 3), name='image'),\n",
        "      keras.layers.Dense(64, activation='relu'),\n",
        "      keras.layers.Dense(1, activation=None)\n",
        "  ])\n",
        "\n",
        "  # Compile the model with hinge loss and binary accuracy metric\n",
        "  model.compile(\n",
        "      optimizer=tf.keras.optimizers.Adam(0.001),\n",
        "      loss='hinge',\n",
        "      metrics='binary_accuracy')\n",
        "  \n",
        "  return model\n"
      ],
      "execution_count": null,
      "outputs": []
    },
    {
      "cell_type": "markdown",
      "metadata": {
        "id": "zLVPrZGYGwiI"
      },
      "source": [
        "## Train & Evaluate Model\n",
        "\n",
        "You’re now ready to train your model. To cut back on the amount of execution time and memory, you will train the model by slicing the data into small batches with only a few repeated iterations."
      ]
    },
    {
      "cell_type": "code",
      "metadata": {
        "id": "spMUm9wNp0nW"
      },
      "source": [
        "BATCH_SIZE = 32\n",
        "\n",
        "# Build the model\n",
        "model = create_model()\n",
        "\n",
        "# Train the model\n",
        "model.fit(celeb_a_train_data_wo_group(data['train'], BATCH_SIZE), epochs=5, steps_per_epoch=1000)"
      ],
      "execution_count": null,
      "outputs": []
    },
    {
      "cell_type": "markdown",
      "metadata": {
        "id": "CgYTmRdcHYOK"
      },
      "source": [
        "Evaluating the model on the test data should result in a final accuracy score of just over 85%. Not bad for a simple model with no fine tuning."
      ]
    },
    {
      "cell_type": "code",
      "metadata": {
        "id": "tlPUI-ovqL-F"
      },
      "source": [
        "# Evaluate trained model on the test data\n",
        "results = model.evaluate(celeb_a_test_data)"
      ],
      "execution_count": null,
      "outputs": []
    },
    {
      "cell_type": "markdown",
      "metadata": {
        "id": "HKdvynqKrWfn"
      },
      "source": [
        "You will then save the model so you can analyze it in the next section."
      ]
    },
    {
      "cell_type": "code",
      "metadata": {
        "id": "Jk06C_O3SIkx"
      },
      "source": [
        "# Define model directory\n",
        "MODEL_LOCATION = 'saved_model'\n",
        "\n",
        "# Save the model\n",
        "model.save(MODEL_LOCATION, save_format='tf')"
      ],
      "execution_count": null,
      "outputs": []
    },
    {
      "cell_type": "markdown",
      "metadata": {
        "id": "WGJl6pJeGYzD"
      },
      "source": [
        "## Model Analysis\n",
        "\n",
        "As you already know, it is usually not enough to just measure your model's performance on global metrics. For instance, performance evaluated across age groups may reveal some shortcomings.\n",
        "\n",
        "To explore this further, you will evaluate the model with Fairness Indicators via TFMA. In particular, you will see whether there is a significant gap in performance between \"Young\" and \"Not Young\" categories when evaluated on false positive rate (FPR).\n",
        "\n",
        "A false positive error occurs when the model incorrectly predicts the positive class. In this context, a false positive outcome occurs when the ground truth is an image of a celebrity 'Not Smiling' and the model predicts 'Smiling'. While this seems like a relatively mundane error, false positive errors can sometimes cause more problematic behaviors when deployed in a real world application. For instance, a false positive error in a spam classifier could cause a user to miss an important email.\n",
        "\n",
        "You will mostly follow the same steps as you did in the first ungraded lab of this week. Namely, you will:\n",
        "\n",
        "* Create a TFRecord of the test dataset.\n",
        "* Write an `EvalConfig` file\n",
        "* Create an `EvalSharedModel`\n",
        "* Define a `Schema` message\n",
        "* Run model analysis with TFMA"
      ]
    },
    {
      "cell_type": "markdown",
      "metadata": {
        "id": "kuPDsIdmClFa"
      },
      "source": [
        "### Create TFRecord\n",
        "\n",
        "You will need to serialize the preprocessed test dataset so it can be read by TFMA. We've provided a helper function to do just that. Notice that the age group feature is transformed into a string ('Young' or 'Not Young'). This will come in handy in the visualization so the tags are easier to interpret (compared to just 1 or 0)."
      ]
    },
    {
      "cell_type": "code",
      "metadata": {
        "id": "-zrBYHAFteT6"
      },
      "source": [
        "# Define filename\n",
        "TFRECORD_FILE = 'celeb_a_test.tfrecord'"
      ],
      "execution_count": null,
      "outputs": []
    },
    {
      "cell_type": "code",
      "metadata": {
        "id": "LY1QtzKBtG7p"
      },
      "source": [
        "def celeb_ds_to_tfrecord(dataset, tfrecord_file):\n",
        "  ''' Helper function to convert a TF Dataset to TFRecord\n",
        "\n",
        "  Args:\n",
        "    dataset (TF Dataset) - dataset to save as TFRecord\n",
        "    tfrecord_file (string) - filename to use when writing the TFRecord\n",
        "  '''\n",
        "\n",
        "  # Initialize examples list\n",
        "  examples = []\n",
        "\n",
        "  for row in dataset:\n",
        "    # Get image, label, and group tensors\n",
        "    image = row[0]\n",
        "    label = row[1]\n",
        "    group = row[2]\n",
        "\n",
        "    # Flatten image\n",
        "    image = tf.reshape(image, [-1])\n",
        "\n",
        "    # Instantiate Example\n",
        "    output = tf.train.Example()\n",
        "\n",
        "    # Assign features' numpy arrays to the Example feature values\n",
        "    output.features.feature[IMAGE_KEY].float_list.value.extend(image.numpy().tolist())\n",
        "    output.features.feature[LABEL_KEY].float_list.value.append(label.numpy()[0])\n",
        "    output.features.feature[GROUP_KEY].bytes_list.value.append(b\"Young\" if group.numpy()[0] else b'Not Young')\n",
        "    \n",
        "    # Append to examples list\n",
        "    examples.append(output)\n",
        "\n",
        "  # Serialize examples and save as tfrecord\n",
        "  with tf.io.TFRecordWriter(tfrecord_file) as writer:\n",
        "    for example in examples:\n",
        "      writer.write(example.SerializeToString())"
      ],
      "execution_count": null,
      "outputs": []
    },
    {
      "cell_type": "code",
      "metadata": {
        "id": "hPsF2Uu3uh7U"
      },
      "source": [
        "# Use the helper function to serialize the test dataset\n",
        "celeb_ds_to_tfrecord(celeb_a_test_data, TFRECORD_FILE)"
      ],
      "execution_count": null,
      "outputs": []
    },
    {
      "cell_type": "markdown",
      "metadata": {
        "id": "KYEFWyrZHqyV"
      },
      "source": [
        "### Write EvalConfig file\n",
        "\n",
        "Next, you will define the model, metrics, and slicing specs in an eval config file. As mentioned, you will slice the data across age groups to see if there is an underlying problem. For metrics, you will include the `FairnessIndicators` class. These are commonly-identified fairness metrics for binary and multiclass classifiers. Moreover, you will configure a list of thresholds. These will allow you to observe if the model predicts better when the threshold to determine between the two classes is changed (e.g. will the FPR be lower if the model predicts \"Smiling\" for outputs greater than 0.22?). \n"
      ]
    },
    {
      "cell_type": "code",
      "metadata": {
        "id": "KNM8_wn1S5-P"
      },
      "source": [
        "# Import helper module\n",
        "from google.protobuf import text_format\n",
        "\n",
        "# Write EvalConfig string\n",
        "eval_config_pbtxt = \"\"\"\n",
        "      model_specs {\n",
        "        label_key: \"%s\"\n",
        "      }\n",
        "      metrics_specs {\n",
        "        metrics {\n",
        "          class_name: \"FairnessIndicators\"\n",
        "          config: '{ \"thresholds\": [0.22, 0.5, 0.75] }'\n",
        "        }\n",
        "        metrics {\n",
        "          class_name: \"ExampleCount\"\n",
        "        }\n",
        "      }\n",
        "      slicing_specs {}\n",
        "      slicing_specs { feature_keys: \"%s\" }\n",
        "    \"\"\" % (LABEL_KEY, GROUP_KEY)\n",
        "\n",
        "# Parse as a Message\n",
        "eval_config = text_format.Parse(eval_config_pbtxt, tfma.EvalConfig())"
      ],
      "execution_count": null,
      "outputs": []
    },
    {
      "cell_type": "markdown",
      "metadata": {
        "id": "iN-67hysIycZ"
      },
      "source": [
        "### Create EvalSharedModel\n",
        "\n",
        "This will be identical to the command you ran in an earlier lab. This is needed so TFMA will know how to load and configure your model from disk."
      ]
    },
    {
      "cell_type": "code",
      "metadata": {
        "id": "_3cBZNlOvGC1"
      },
      "source": [
        "# Create EvalSharedModel\n",
        "eval_shared_model = tfma.default_eval_shared_model(\n",
        "      eval_saved_model_path=MODEL_LOCATION, eval_config=eval_config)"
      ],
      "execution_count": null,
      "outputs": []
    },
    {
      "cell_type": "markdown",
      "metadata": {
        "id": "5DOHO4VoJ99b"
      },
      "source": [
        "### Create a Schema\n",
        "\n",
        "This is an additional step from your previous TFMA workflow. It is needed particularly because, unlike the TFMA ungraded lab, you didn't include a serving signature with the model. If you remember, the function called by that signature took care of parsing the tfrecords, converting them to the correct data type, and preprocessing. Since that part is not included in this lab, you will need to provide a schema so TFMA will know what data types are in the serialized examples when it parses the tfrecord into a dictionary of features. You will also need to define the dimensions of the image since that is expected by your model input. That is handled by the `tensor_representation_group` below."
      ]
    },
    {
      "cell_type": "code",
      "metadata": {
        "id": "BtiJuufKvDV8"
      },
      "source": [
        "from tensorflow_metadata.proto.v0 import schema_pb2\n",
        "from google.protobuf import text_format\n",
        "\n",
        "# Define Schema message as string\n",
        "schema_pbtxt = \"\"\"\n",
        "      tensor_representation_group {\n",
        "        key: \"\"\n",
        "        value {\n",
        "          tensor_representation {\n",
        "            key: \"%s\"\n",
        "            value {\n",
        "              dense_tensor {\n",
        "                column_name: \"%s\"\n",
        "                shape {\n",
        "                  dim { size: 28 }\n",
        "                  dim { size: 28 }\n",
        "                  dim { size: 3 }\n",
        "                }\n",
        "              }\n",
        "            }\n",
        "          }\n",
        "        }\n",
        "      }\n",
        "      feature {\n",
        "        name: \"%s\"\n",
        "        type: FLOAT\n",
        "      }\n",
        "      feature {\n",
        "        name: \"%s\"\n",
        "        type: FLOAT\n",
        "      }\n",
        "      feature {\n",
        "        name: \"%s\"\n",
        "        type: BYTES\n",
        "      }\n",
        "      \"\"\" % (IMAGE_KEY, IMAGE_KEY, IMAGE_KEY, LABEL_KEY, GROUP_KEY)\n",
        "\n",
        "# Parse the schema string to a message\n",
        "schema = text_format.Parse(schema_pbtxt, schema_pb2.Schema())"
      ],
      "execution_count": null,
      "outputs": []
    },
    {
      "cell_type": "markdown",
      "metadata": {
        "id": "N8GUBgybKq39"
      },
      "source": [
        "### Run TFMA\n",
        "\n",
        "You will pass the objects you created in the previous sections to `tfma.run_model_analysis()`. As you've done previously, this will take care of loading the model and data, and computing the metrics on the data slices you specified."
      ]
    },
    {
      "cell_type": "code",
      "metadata": {
        "id": "dbpqTuHbTKFH"
      },
      "source": [
        "# Define output directory\n",
        "OUTPUT_PATH = 'tfma_output'\n",
        "\n",
        "# Run model analysis\n",
        "eval_results = tfma.run_model_analysis(\n",
        "    eval_shared_model=eval_shared_model,\n",
        "    eval_config=eval_config,\n",
        "    data_location=TFRECORD_FILE,\n",
        "    schema=schema,\n",
        "    output_path=OUTPUT_PATH\n",
        ")"
      ],
      "execution_count": null,
      "outputs": []
    },
    {
      "cell_type": "markdown",
      "metadata": {
        "id": "i5BvsF8OH3CE"
      },
      "source": [
        "Now you can view the fairness metrics you specified. The FPR should already be selected and you can see that it is considerably higher for the `Not Young` age group. Try to explore the widget and see if you can make other findings. Here are some suggestions:\n",
        "\n",
        "* Toggle the threshold drop down and see how the FPR changes with different thresholds\n",
        "\n",
        "* Change the baseline to `Young: Young` so the percentage difference (in the table below the chart) will be measured against it.\n",
        "\n",
        "* Deselect the `Overall` slice so you can compare the two age groups side by side.\n",
        "\n",
        "* Select other metrics to display and observe their charts."
      ]
    },
    {
      "cell_type": "code",
      "metadata": {
        "id": "Q0R5OlNDqWwS"
      },
      "source": [
        "# Visualize the fairness metrics\n",
        "tfma.addons.fairness.view.widget_view.render_fairness_indicator(eval_results)"
      ],
      "execution_count": null,
      "outputs": []
    },
    {
      "cell_type": "markdown",
      "metadata": {
        "id": "Pr5DrvGZO2B6"
      },
      "source": [
        "After studying the discrepancies in your predictions, you can then investigate why that happens and have a plan on remidiating it. Aside from changing your model architecture, you can also look first at your training data. `fairness-indicators` is also packaged with TFDV so you can use it to generate statistics from your data. Here is a short review on how to do that. \n",
        "\n",
        "First, you will download the dataset from a GCS bucket into your local workspace. You can use the [gsutil](https://cloud.google.com/storage/docs/gsutil) tool to help with that."
      ]
    },
    {
      "cell_type": "code",
      "metadata": {
        "id": "Rd-oUa1z-yjQ"
      },
      "source": [
        "import tensorflow_data_validation as tfdv\n",
        "\n",
        "# Define training directory\n",
        "TRAIN_DIR = f'{GCS_BASE_DIR}celeb_a/2.0.0/celeb_a-train.tfrecord*'\n",
        "\n",
        "# View tfrecord filenames in GCS\n",
        "!gsutil ls {TRAIN_DIR}"
      ],
      "execution_count": null,
      "outputs": []
    },
    {
      "cell_type": "code",
      "source": [
        "# Define the data directory\n",
        "DATA_DIR = 'celeb_a-train-tfrecords'\n",
        "\n",
        "# Create the data directory\n",
        "!mkdir {DATA_DIR}\n",
        "\n",
        "# Download the dataset into the local directory\n",
        "!gsutil -m cp {TRAIN_DIR} {DATA_DIR}"
      ],
      "metadata": {
        "id": "pbwyiEgZO2L0"
      },
      "execution_count": null,
      "outputs": []
    },
    {
      "cell_type": "markdown",
      "source": [
        "Now you can generate the statistics for a specific feature."
      ],
      "metadata": {
        "id": "8LdZy5ZyOyYh"
      }
    },
    {
      "cell_type": "code",
      "metadata": {
        "id": "xGteF9i1FyhA"
      },
      "source": [
        "# Filter features to observe\n",
        "stats_options = tfdv.StatsOptions(feature_allowlist=['attributes/Young'])\n",
        "\n",
        "# Compute the statistics for all tf records under the data directory\n",
        "statistics = tfdv.generate_statistics_from_tfrecord(f'{DATA_DIR}/', stats_options=stats_options)\n",
        "\n",
        "# Visualize the statistics\n",
        "tfdv.visualize_statistics(statistics)"
      ],
      "execution_count": null,
      "outputs": []
    },
    {
      "cell_type": "markdown",
      "metadata": {
        "id": "q6huPG-SQNyV"
      },
      "source": [
        "The statistics show that the `Not Young` age group (i.e. `0` in the `attributes/Young` column) has very few images compared to the `Young` age group. Maybe that's why the model learns on the `Young` images better. You could try adding more `Not Young` images and see if your model performs better on this slice."
      ]
    },
    {
      "cell_type": "markdown",
      "metadata": {
        "id": "6hhF68-0Q0nZ"
      },
      "source": [
        "## Wrap Up\n",
        "\n",
        "In this lab, you prepared an image dataset and trained a model to predict one of its attributes (i.e. `Smiling`). You then sliced the data based on age groups and computed fairness metrics from the `Fairness Indicators` package via TFMA. Though the outcome looks simple, it is an important step in production ML projects because not detecting these problems can greatly affect the experience of your users. Improving these metrics will help you commit to fairness in your applications. We encourage you to try exploring more slices of the dataset and see what findings you can come up with.\n",
        "\n",
        "For more practice, [here](https://colab.research.google.com/github/tensorflow/fairness-indicators/blob/master/g3doc/tutorials/Fairness_Indicators_Example_Colab.ipynb) is an official tutorial that uses fairness indicators on text data. It uses the [What-If-Tool](https://pair-code.github.io/what-if-tool/) which is another package that comes with `Fairness Indicators`. You will also get to explore that in this week's programming assignment."
      ]
    }
  ]
}