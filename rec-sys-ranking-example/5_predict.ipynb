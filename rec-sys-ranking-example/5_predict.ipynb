{
 "cells": [
  {
   "cell_type": "code",
   "execution_count": 1,
   "id": "657d7e23",
   "metadata": {},
   "outputs": [],
   "source": [
    "from tqdm import tqdm\n",
    "import pandas as pd\n",
    "import numpy as np\n",
    "\n",
    "from sklearn.metrics import ndcg_score\n",
    "from sklearn.metrics import roc_auc_score\n",
    "from sklearn.model_selection import train_test_split, KFold, StratifiedKFold\n",
    "import lightgbm as lgb"
   ]
  },
  {
   "cell_type": "code",
   "execution_count": 6,
   "id": "1fed3ea7",
   "metadata": {},
   "outputs": [],
   "source": [
    "test_user_df = pd.read_parquet('test.parquet.gzip')"
   ]
  },
  {
   "cell_type": "code",
   "execution_count": 2,
   "id": "d7565bf2",
   "metadata": {},
   "outputs": [],
   "source": [
    "import pickle\n",
    "with open('pre_ranker_final.pickle', 'rb') as f:\n",
    "    pre_ranker_model = pickle.load(f)\n",
    "    \n",
    "with open('ranker_final.pickle', 'rb') as f:\n",
    "    full_ranker_model = pickle.load(f)\n",
    "    \n",
    "study_cols =  ['cnt_users_by_item',\n",
    "   'mean_time_by_item', 'mean_good_by_item', 'mean_abs_react_by_item',\n",
    "   'pretarget_time_sum_5m', 'pretarget_time_sum_1m',\n",
    "   'pretarget_good_sum_5m', 'pretarget_good_sum_1m', 'pretarget_prc',\n",
    "   'cnt_items', 'time_sum', 'good_mean', 'good_sum', 'reaction_mean',\n",
    "   'reaction_abs_mean', 'reaction_abs_sum', 'als_score', 'emb_als_score',\n",
    "   'emb_als_score_tune', 'cosine', 'source_good_mean',\n",
    "   'source_good_sum']"
   ]
  },
  {
   "cell_type": "code",
   "execution_count": 4,
   "id": "363a22b3",
   "metadata": {},
   "outputs": [
    {
     "name": "stderr",
     "output_type": "stream",
     "text": [
      "100%|██████████| 10/10 [03:41<00:00, 22.14s/it]\n"
     ]
    }
   ],
   "source": [
    "import gc\n",
    "full_result_df_lst = []\n",
    "for i in tqdm(range(10)):\n",
    "    tmp_result_df = pd.read_parquet(f'/srv/data/vk/test/result_df_{i}.parquet.gzip')\n",
    "    \n",
    "    tmp_result_df = tmp_result_df.sort_values('user_id').reset_index(drop=True)\n",
    "    group_pretrain = tmp_result_df.groupby('user_id').size().reset_index(name='cnt').cnt.values\n",
    "    tmp_result_df['rank'] = pre_ranker_model.predict(tmp_result_df[study_cols], group=group_pretrain)\n",
    "    tmp_result_df = tmp_result_df.sort_values(['rank'], ascending = False).groupby('user_id').head(200)\n",
    "    \n",
    "    tmp_result_df = tmp_result_df.sort_values('user_id').reset_index(drop=True)\n",
    "    group_valid = tmp_result_df.groupby('user_id').size().reset_index(name='cnt').cnt.values\n",
    "    tmp_result_df['full_rank'] = full_ranker_model.predict(tmp_result_df[study_cols], group=group_valid)\n",
    "    \n",
    "    tmp_result_df = tmp_result_df.sort_values('full_rank', ascending = False).groupby(\n",
    "        'user_id').head(20)[['user_id','item_id','full_rank']]\n",
    "    full_result_df_lst.append(tmp_result_df)"
   ]
  },
  {
   "cell_type": "code",
   "execution_count": 10,
   "id": "238d6df4",
   "metadata": {},
   "outputs": [
    {
     "data": {
      "text/plain": [
       "1"
      ]
     },
     "execution_count": 10,
     "metadata": {},
     "output_type": "execute_result"
    }
   ],
   "source": [
    "result_df = pd.concat(full_result_df_lst).reset_index(drop=True)\n",
    "del full_result_df_lst\n",
    "gc.collect()"
   ]
  },
  {
   "cell_type": "code",
   "execution_count": 11,
   "id": "c094931d",
   "metadata": {},
   "outputs": [
    {
     "name": "stderr",
     "output_type": "stream",
     "text": [
      "100%|██████████| 200000/200000 [00:00<00:00, 2562478.96it/s]\n"
     ]
    }
   ],
   "source": [
    "user_predict_dct = result_df.sort_values('full_rank', ascending = False).groupby('user_id').head(20).groupby(\n",
    "    'user_id')['item_id'].apply(list).to_dict()  \n",
    "prediction_lst = []\n",
    "for user_id in tqdm(test_user_df.user_id.values):\n",
    "    prediction_lst.append(user_predict_dct[user_id])\n",
    "    \n",
    "test_user_df['predictions'] = prediction_lst\n",
    "test_user_df.to_parquet('result/clean_predict.parquet.gzip', compression='gzip')"
   ]
  },
  {
   "cell_type": "code",
   "execution_count": null,
   "id": "7eff10bd",
   "metadata": {},
   "outputs": [],
   "source": []
  }
 ],
 "metadata": {
  "kernelspec": {
   "display_name": "Python 3 (ipykernel)",
   "language": "python",
   "name": "python3"
  },
  "language_info": {
   "codemirror_mode": {
    "name": "ipython",
    "version": 3
   },
   "file_extension": ".py",
   "mimetype": "text/x-python",
   "name": "python",
   "nbconvert_exporter": "python",
   "pygments_lexer": "ipython3",
   "version": "3.8.10"
  }
 },
 "nbformat": 4,
 "nbformat_minor": 5
}
