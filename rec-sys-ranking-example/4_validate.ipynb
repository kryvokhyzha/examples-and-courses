{
 "cells": [
  {
   "cell_type": "code",
   "execution_count": 1,
   "id": "1d165f8d",
   "metadata": {},
   "outputs": [],
   "source": [
    "from tqdm import tqdm\n",
    "import pandas as pd\n",
    "import numpy as np\n",
    "\n",
    "from sklearn.metrics import ndcg_score\n",
    "from sklearn.metrics import roc_auc_score\n",
    "from sklearn.model_selection import train_test_split, KFold, StratifiedKFold\n",
    "import lightgbm as lgb"
   ]
  },
  {
   "cell_type": "code",
   "execution_count": 13,
   "id": "12332190",
   "metadata": {},
   "outputs": [],
   "source": [
    "import pickle\n",
    "\n",
    "pre_study_cols = ['cnt_users_by_item',\n",
    "       'mean_time_by_item', 'mean_good_by_item', 'mean_abs_react_by_item',\n",
    "       'pretarget_time_sum_5m', 'pretarget_time_sum_1m',\n",
    "       'pretarget_good_sum_5m', 'pretarget_good_sum_1m', 'pretarget_prc',\n",
    "       'cnt_items', 'time_sum', 'good_mean', 'good_sum', 'reaction_mean',\n",
    "       'reaction_abs_mean', 'reaction_abs_sum', 'als_score', 'emb_als_score',\n",
    "       'emb_als_score_tune', 'cosine', 'source_good_mean',\n",
    "       'source_good_sum']\n",
    "\n",
    "study_cols = ['cnt_users_by_item',\n",
    "       'mean_time_by_item', 'mean_good_by_item', 'mean_abs_react_by_item',\n",
    "       'pretarget_time_sum_5m', 'pretarget_time_sum_1m',\n",
    "       'pretarget_good_sum_5m', 'pretarget_good_sum_1m', 'pretarget_prc',\n",
    "       'cnt_items', 'time_sum', 'good_mean', 'good_sum', 'reaction_mean',\n",
    "       'reaction_abs_mean', 'reaction_abs_sum', 'als_score', 'emb_als_score',\n",
    "       'emb_als_score_tune', 'cosine', 'source_good_mean',\n",
    "       'source_good_sum']\n",
    "\n",
    "\n",
    "\n",
    "\n",
    "with open('pre_ranker_final.pickle', 'rb') as f:\n",
    "    pre_ranker_model = pickle.load(f)\n",
    "    \n",
    "with open('ranker_final.pickle', 'rb') as f:\n",
    "    full_ranker_model = pickle.load(f)"
   ]
  },
  {
   "cell_type": "code",
   "execution_count": 14,
   "id": "e58164f8",
   "metadata": {},
   "outputs": [
    {
     "name": "stderr",
     "output_type": "stream",
     "text": [
      "100%|██████████| 1/1 [00:46<00:00, 46.85s/it]\n"
     ]
    }
   ],
   "source": [
    "import gc\n",
    "result_lst = []\n",
    "for i in tqdm([9]):\n",
    "    tmp_result_df = pd.read_parquet(f'/srv/data/vk/old/result_df_{i}.parquet.gzip')\n",
    "    tmp_result_df['user_id'] = tmp_result_df['user_id']+3000000\n",
    "    \n",
    "    tmp_result_df = tmp_result_df.sort_values('user_id').reset_index(drop=True)\n",
    "    #tmp_result_df.loc[tmp_result_df['timespent']>10,'timespent'] = 10\n",
    "    group_pretrain = tmp_result_df.groupby('user_id').size().reset_index(name='cnt').cnt.values\n",
    "    tmp_result_df['rank'] = pre_ranker_model.predict(tmp_result_df[pre_study_cols], group=group_pretrain)\n",
    "    tmp_result_df = tmp_result_df.sort_values(['rank'], ascending = False).groupby('user_id').head(200)\n",
    "    result_lst.append(tmp_result_df)\n",
    "    \n",
    "    \n",
    "    tmp_result_df = pd.read_parquet(f'/srv/data/vk/train/result_df_{i}.parquet.gzip')\n",
    "    tmp_result_df = tmp_result_df.sort_values('user_id').reset_index(drop=True)\n",
    "    #tmp_result_df.loc[tmp_result_df['timespent']>10,'timespent'] = 10\n",
    "    group_pretrain = tmp_result_df.groupby('user_id').size().reset_index(name='cnt').cnt.values\n",
    "    tmp_result_df['rank'] = pre_ranker_model.predict(tmp_result_df[pre_study_cols], group=group_pretrain)\n",
    "    tmp_result_df = tmp_result_df.sort_values(['rank'], ascending = False).groupby('user_id').head(200)\n",
    "    result_lst.append(tmp_result_df)\n",
    "    \n",
    "    gc.collect()"
   ]
  },
  {
   "cell_type": "code",
   "execution_count": 15,
   "id": "dace7ac3",
   "metadata": {},
   "outputs": [],
   "source": [
    "result_df = pd.concat(result_lst).reset_index(drop=True)"
   ]
  },
  {
   "cell_type": "code",
   "execution_count": 16,
   "id": "68a989b6",
   "metadata": {},
   "outputs": [],
   "source": [
    "result_df = result_df.sort_values('user_id').reset_index(drop=True)\n",
    "group_train = result_df.groupby('user_id').size().reset_index(name='cnt').cnt.values"
   ]
  },
  {
   "cell_type": "code",
   "execution_count": 17,
   "id": "17e4aebd",
   "metadata": {},
   "outputs": [
    {
     "data": {
      "text/plain": [
       "0"
      ]
     },
     "execution_count": 17,
     "metadata": {},
     "output_type": "execute_result"
    }
   ],
   "source": [
    "del result_lst\n",
    "gc.collect()"
   ]
  },
  {
   "cell_type": "code",
   "execution_count": 18,
   "id": "db90f116",
   "metadata": {},
   "outputs": [
    {
     "name": "stdout",
     "output_type": "stream",
     "text": [
      "CPU times: user 9min 36s, sys: 857 ms, total: 9min 36s\n",
      "Wall time: 38.9 s\n"
     ]
    }
   ],
   "source": [
    "%%time\n",
    "\n",
    "result_df['rank'] = full_ranker_model.predict(result_df[study_cols], group=group_train)"
   ]
  },
  {
   "cell_type": "code",
   "execution_count": 19,
   "id": "0396dc4c",
   "metadata": {},
   "outputs": [],
   "source": [
    "full_df = pd.read_parquet('train.parquet.gzip')\n",
    "target_old_df = full_df.iloc[-10000000:-5000000].reset_index(drop=True)\n",
    "target_df = full_df.iloc[-5000000:].reset_index(drop=True)\n",
    "target_old_df['user_id'] = target_old_df['user_id']+3000000\n",
    "target_df = target_df.append(target_old_df).reset_index(drop=True)"
   ]
  },
  {
   "cell_type": "code",
   "execution_count": 20,
   "id": "5be10adf",
   "metadata": {},
   "outputs": [],
   "source": [
    "def calc_metric(result_df, target_df, rank_col = 'rank'):\n",
    "    user_predict_dct = result_df.sort_values(rank_col, ascending = False).groupby('user_id').head(20).groupby(\n",
    "        'user_id')['item_id'].apply(list).to_dict()\n",
    "    \n",
    "    clean_valid_df = target_df.iloc[:].reset_index(drop=True)\n",
    "    clean_valid_df = clean_valid_df[(clean_valid_df['user_id'].isin(result_df.user_id)) & \n",
    "                                    (clean_valid_df['timespent']>0)].reset_index(drop=True)\n",
    "\n",
    "    ndcg_score_lst = []\n",
    "    recall_lst = []\n",
    "\n",
    "    top_20_pred_lst = [a for a in range(20,0,-1)]\n",
    "\n",
    "    for user_id in clean_valid_df['user_id'].unique():\n",
    "        pred_lst = user_predict_dct[user_id]\n",
    "        target_dct = clean_valid_df[(clean_valid_df.user_id==user_id)].set_index('item_id')['timespent'].to_dict()\n",
    "        if len(target_dct)==0:\n",
    "            continue\n",
    "        user_pred_lst = top_20_pred_lst.copy()\n",
    "        user_target_lst = []\n",
    "        for k in pred_lst:\n",
    "            try:\n",
    "                tmp_target = target_dct[k]\n",
    "            except KeyError:\n",
    "                tmp_target = 0\n",
    "            user_target_lst.append(tmp_target)\n",
    "\n",
    "        if len(user_target_lst)<20:\n",
    "            user_target_lst = (user_target_lst+[0]*20)[0:20]\n",
    "\n",
    "        for k, v in target_dct.items():\n",
    "            if k not in pred_lst:\n",
    "                user_pred_lst.append(0)\n",
    "                user_target_lst.append(v)\n",
    "        ndcg = ndcg_score([user_target_lst], [user_pred_lst], k = 20)\n",
    "        ndcg_score_lst.append(ndcg)\n",
    "        recall = np.sum([1 for k in target_dct.keys() if k in pred_lst])/len(target_dct)\n",
    "        recall_lst.append(recall)\n",
    "    return np.mean(ndcg_score_lst)"
   ]
  },
  {
   "cell_type": "code",
   "execution_count": 21,
   "id": "6abd0427",
   "metadata": {},
   "outputs": [
    {
     "data": {
      "text/plain": [
       "0.18175859727921806"
      ]
     },
     "execution_count": 21,
     "metadata": {},
     "output_type": "execute_result"
    }
   ],
   "source": [
    "basic_valid_score = calc_metric(result_df, target_df, rank_col = 'rank')\n",
    "basic_valid_score"
   ]
  }
 ],
 "metadata": {
  "kernelspec": {
   "display_name": "Python 3 (ipykernel)",
   "language": "python",
   "name": "python3"
  },
  "language_info": {
   "codemirror_mode": {
    "name": "ipython",
    "version": 3
   },
   "file_extension": ".py",
   "mimetype": "text/x-python",
   "name": "python",
   "nbconvert_exporter": "python",
   "pygments_lexer": "ipython3",
   "version": "3.8.10"
  }
 },
 "nbformat": 4,
 "nbformat_minor": 5
}
