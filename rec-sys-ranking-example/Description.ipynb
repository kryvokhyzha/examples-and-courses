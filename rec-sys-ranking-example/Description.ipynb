{
 "cells": [
  {
   "cell_type": "code",
   "execution_count": 2,
   "id": "15a3a09e",
   "metadata": {},
   "outputs": [],
   "source": [
    "import pandas as pd"
   ]
  },
  {
   "cell_type": "markdown",
   "id": "afdaaffa",
   "metadata": {},
   "source": [
    "# Как читать решение\n",
    "\n",
    "Весь код, для решения задачи предоставлен в файлах \n",
    "\n",
    "\n",
    "1_feature_making.ipynb  - формирование 3 фичей из выборок для разных периодов\n",
    "\n",
    "2_preranking_fit.ipynb - обучение предварительного ранкера\n",
    "\n",
    "3_ranking_fit.ipynb - обучение основного ранкера (hyperopt не вошел)\n",
    "\n",
    "4_validate.ipynb - проверка качества решения на 10% данных\n",
    "\n",
    "5_predict.ipynb - предсказание для тестовой выборки в формате организаторов\n",
    "\n",
    "К сожалению, если вы не участвовали в соревновании, то сами выборки получить не получится.\n",
    "\n",
    "\n",
    "В некоторые моменты может потребоваться до 128 Gb RAM. \n",
    "При желании думаю, что можно поместиться и в 64 Gb, но потребуется оптимизация.\n",
    "\n"
   ]
  },
  {
   "cell_type": "markdown",
   "id": "269f5f7c",
   "metadata": {},
   "source": [
    "## В данном файле решение будет представлено схематично.  \n",
    "При возникновении вопросов можно детальнее посмотреть в любом из настоящих файлов (см выше)."
   ]
  },
  {
   "cell_type": "markdown",
   "id": "d91100ae",
   "metadata": {},
   "source": [
    "# Описание задачи"
   ]
  },
  {
   "cell_type": "markdown",
   "id": "53d94567",
   "metadata": {},
   "source": [
    "В задаче необходимо было подобрать для каждого из 200 тысяч пользователей 20 лучших рекомендованных постов (из 100 тысяч постов), исключая уже просмотренные.\n",
    "Фактически требовалось найти посты с наибольшим временем просмотра (просмотренный со временем 0 не считался положительным)\n",
    "\n",
    "Данные в train были отсортированы по времени (хотя временный промежутки и не были указаны).\n",
    "Я выбрал период предсказания в 5 млн последних записей в файле train_df и назвать это target_df\n",
    "\n",
    "Так же решил обучаться только на тех пользователях, которые просматривали посты в этот период (target_df.user_id.unique())\n",
    "\n",
    "\n",
    "\n"
   ]
  },
  {
   "cell_type": "code",
   "execution_count": 5,
   "id": "36cd07ac",
   "metadata": {},
   "outputs": [
    {
     "name": "stdout",
     "output_type": "stream",
     "text": [
      "(139440015, 4)\n",
      "482302\n",
      "148683\n"
     ]
    }
   ],
   "source": [
    "full_df = pd.read_parquet('train.parquet.gzip')\n",
    "train_df = full_df.iloc[:-5000000].reset_index(drop=True)\n",
    "target_df = full_df.iloc[-5000000:].reset_index(drop=True)\n",
    "\n",
    "print(train_df.shape)\n",
    "print(target_df.user_id.nunique())\n",
    "print(target_df.item_id.nunique())"
   ]
  },
  {
   "cell_type": "markdown",
   "id": "80d8f3bb",
   "metadata": {},
   "source": [
    "Если бы мы могли решать задачу как классическое ранжирование, то обучающая выборка составила бы несколько десятков миллиардов записей (для каждого user_id выбрать все доступные item_id) и проставить этим записям timespent.\n",
    "\n",
    "Такими мощностями я не обдадал, поэтому решил как-то уменьшить эту обучающую выборку не сильно уменьшив recall.\n"
   ]
  },
  {
   "cell_type": "markdown",
   "id": "1cb726d7",
   "metadata": {},
   "source": [
    "# Лучшие item_id\n",
    "\n",
    "Самая простая идея - взять наиболее \"популярные\" item_id. Которые посмотрело и много пользователей и крупные timespent. \n",
    "Это достигается простым суммированием, правда лучшее решение брать не общую сумму, а допустим за последние 5млн записей\n",
    "\n",
    "Далее сделаем dataframe со всеми user_id и этими лучшими item_id\n",
    "Recall такого подбора составил менее 10% для 72 млн записей."
   ]
  },
  {
   "cell_type": "code",
   "execution_count": 8,
   "id": "e500d8e5",
   "metadata": {},
   "outputs": [
    {
     "name": "stdout",
     "output_type": "stream",
     "text": [
      "(72345300, 2)\n"
     ]
    },
    {
     "data": {
      "text/html": [
       "<div>\n",
       "<style scoped>\n",
       "    .dataframe tbody tr th:only-of-type {\n",
       "        vertical-align: middle;\n",
       "    }\n",
       "\n",
       "    .dataframe tbody tr th {\n",
       "        vertical-align: top;\n",
       "    }\n",
       "\n",
       "    .dataframe thead th {\n",
       "        text-align: right;\n",
       "    }\n",
       "</style>\n",
       "<table border=\"1\" class=\"dataframe\">\n",
       "  <thead>\n",
       "    <tr style=\"text-align: right;\">\n",
       "      <th></th>\n",
       "      <th>user_id</th>\n",
       "      <th>item_id</th>\n",
       "    </tr>\n",
       "  </thead>\n",
       "  <tbody>\n",
       "    <tr>\n",
       "      <th>0</th>\n",
       "      <td>594204</td>\n",
       "      <td>84951</td>\n",
       "    </tr>\n",
       "    <tr>\n",
       "      <th>1</th>\n",
       "      <td>786182</td>\n",
       "      <td>84951</td>\n",
       "    </tr>\n",
       "    <tr>\n",
       "      <th>2</th>\n",
       "      <td>211859</td>\n",
       "      <td>84951</td>\n",
       "    </tr>\n",
       "    <tr>\n",
       "      <th>3</th>\n",
       "      <td>222729</td>\n",
       "      <td>84951</td>\n",
       "    </tr>\n",
       "    <tr>\n",
       "      <th>4</th>\n",
       "      <td>511856</td>\n",
       "      <td>84951</td>\n",
       "    </tr>\n",
       "  </tbody>\n",
       "</table>\n",
       "</div>"
      ],
      "text/plain": [
       "   user_id  item_id\n",
       "0   594204    84951\n",
       "1   786182    84951\n",
       "2   211859    84951\n",
       "3   222729    84951\n",
       "4   511856    84951"
      ]
     },
     "execution_count": 8,
     "metadata": {},
     "output_type": "execute_result"
    }
   ],
   "source": [
    "\n",
    "# train_df.iloc[-5000000:].groupby('item_id')['timespent'].sum().sort_values(0, ascending = False).head(150)\n",
    "best_150_df = pd.read_parquet('/srv/data/vk/train/best_150_df.parquet.gzip')\n",
    "print(best_150_df.shape)\n",
    "best_150_df.head()"
   ]
  },
  {
   "cell_type": "code",
   "execution_count": 10,
   "id": "3346d91e",
   "metadata": {},
   "outputs": [
    {
     "name": "stdout",
     "output_type": "stream",
     "text": [
      "recall best items = 9.5 %\n"
     ]
    }
   ],
   "source": [
    "count_positive_all = target_df[target_df['timespent']>0].shape[0]\n",
    "count_positive_best150 = best_150_df.merge(target_df[target_df['timespent']>0])[\n",
    "    ['user_id','item_id']].drop_duplicates().shape[0]\n",
    "recall = count_positive_best150/count_positive_all\n",
    "print(f'recall best items = {100*recall:.1f} %')"
   ]
  },
  {
   "cell_type": "markdown",
   "id": "e80c2c9d",
   "metadata": {},
   "source": [
    "# ALS\n",
    "\n",
    "какую бы гениальную систему рекомендаций мы не придумали - на исторических данных у рекомендательной системы, которая используется на бою будет преимущество (так как пользователь будет видеть рекомендации в ленте и хотя бы иногда изучать их).\n",
    "\n",
    "поэтому, не смотря на то, что timespent = 0 не дает никаких преимуществ, хотелось бы сохранить какой-то бонус за их просмотр. Самое простое решение -  сделать таргет timespent+1\n",
    "\n",
    "Небольшой тюнинг показал, что чем больше factors - тем лучше\n",
    "\n",
    "Recall на 48 млн записей составил уже 25%"
   ]
  },
  {
   "cell_type": "code",
   "execution_count": 13,
   "id": "d9653847",
   "metadata": {},
   "outputs": [
    {
     "name": "stdout",
     "output_type": "stream",
     "text": [
      "(48195800, 3)\n",
      "recall als 512 = 25.1 %\n"
     ]
    }
   ],
   "source": [
    "#user_item_rating_csr = sparse.coo_matrix((self.train_df[\"timespent\"]+1,\n",
    "#                                         (user_index, item_index)), shape=shape).tocsr()\n",
    "\n",
    "feature_als_df = pd.read_parquet('/srv/data/vk/train/feature_als_512_15_df.parquet.gzip')\n",
    "print(feature_als_df.shape)\n",
    "feature_als_df.head()\n",
    "\n",
    "count_positive_all = target_df[target_df['timespent']>0].shape[0]\n",
    "count_positive_als = feature_als_df.merge(target_df[target_df['timespent']>0])[\n",
    "    ['user_id','item_id']].drop_duplicates().shape[0]\n",
    "recall = count_positive_als/count_positive_all\n",
    "print(f'recall als 512 = {100*recall:.1f} %')"
   ]
  },
  {
   "cell_type": "markdown",
   "id": "79207a49",
   "metadata": {},
   "source": [
    "# Использование векторов  для  item_id\n",
    "\n",
    "Так как нам дали некие embedding вектора для каждого item_id, то стоит их попробовать использовать.\n",
    "\n",
    "## Вариант 1:\n",
    "\n",
    "    обучить als зафиксировав item_vectors на данных в качестве embedding"
   ]
  },
  {
   "cell_type": "code",
   "execution_count": 14,
   "id": "08d27a3b",
   "metadata": {},
   "outputs": [
    {
     "name": "stdout",
     "output_type": "stream",
     "text": [
      "(9639160, 3)\n",
      "recall embedding als = 2.1 %\n"
     ]
    }
   ],
   "source": [
    "feature_emb_als_df = pd.read_parquet('/srv/data/vk/train/feature_emb_als_df.parquet.gzip')\n",
    "print(feature_emb_als_df.shape)\n",
    "feature_emb_als_df.head()\n",
    "\n",
    "count_positive_all = target_df[target_df['timespent']>0].shape[0]\n",
    "count_positive_als = feature_emb_als_df.merge(target_df[target_df['timespent']>0])[\n",
    "    ['user_id','item_id']].drop_duplicates().shape[0]\n",
    "recall = count_positive_als/count_positive_all\n",
    "print(f'recall embedding als = {100*recall:.1f} %')"
   ]
  },
  {
   "cell_type": "markdown",
   "id": "b4fadf13",
   "metadata": {},
   "source": [
    "## Вариант 2:\n",
    "\n",
    "    обучить als зафиксировав item_vectors вначале, а потом \"освободив\""
   ]
  },
  {
   "cell_type": "code",
   "execution_count": 18,
   "id": "09569e21",
   "metadata": {},
   "outputs": [
    {
     "name": "stdout",
     "output_type": "stream",
     "text": [
      "(48195800, 3)\n",
      "recall embedding tune als = 23.0 %\n"
     ]
    }
   ],
   "source": [
    "feature_emb_als_tune_df = pd.read_parquet('/srv/data/vk/train/feature_emb_als_df_3_3.parquet.gzip')\n",
    "print(feature_emb_als_tune_df.shape)\n",
    "feature_emb_als_tune_df.head()\n",
    "\n",
    "count_positive_all = target_df[target_df['timespent']>0].shape[0]\n",
    "count_positive_als = feature_emb_als_tune_df.merge(target_df[target_df['timespent']>0])[\n",
    "    ['user_id','item_id']].drop_duplicates().shape[0]\n",
    "recall = count_positive_als/count_positive_all\n",
    "print(f'recall embedding tune als = {100*recall:.1f} %')"
   ]
  },
  {
   "cell_type": "markdown",
   "id": "adb80b86",
   "metadata": {},
   "source": [
    "## Вариант 3:\n",
    "\n",
    "    Использовать идею - посмотрел один пост, может посмотрит и похожий по cosine_similarity"
   ]
  },
  {
   "cell_type": "code",
   "execution_count": 19,
   "id": "c4b215c0",
   "metadata": {},
   "outputs": [
    {
     "name": "stdout",
     "output_type": "stream",
     "text": [
      "(154837146, 3)\n",
      "recall cosine embedding = 13.6 %\n"
     ]
    }
   ],
   "source": [
    "feature_item_emb_cosine_df = pd.read_parquet('/srv/data/vk/train/feature_item_emb_cosine_df.parquet.gzip')\n",
    "\n",
    "print(feature_item_emb_cosine_df.shape)\n",
    "\n",
    "count_positive_all = target_df[target_df['timespent']>0].shape[0]\n",
    "count_positive_als = feature_item_emb_cosine_df.merge(target_df[target_df['timespent']>0])[\n",
    "    ['user_id','item_id']].drop_duplicates().shape[0]\n",
    "recall = count_positive_als/count_positive_all\n",
    "print(f'recall cosine embedding = {100*recall:.1f} %')"
   ]
  },
  {
   "cell_type": "markdown",
   "id": "ae2e1746",
   "metadata": {},
   "source": [
    "# Источник source_id\n",
    "\n",
    "Так же можно заметить, что user_id часто пользуются одним источником (автором?), поэтому чтобы поднять recall можно отобрать все item_id этого source_id. \n",
    "Но, к сожалению, такой подход дает слишком огномное количество кандидатов, поэтому нужно что-то сокращать. "
   ]
  },
  {
   "cell_type": "code",
   "execution_count": 24,
   "id": "e321b4c4",
   "metadata": {},
   "outputs": [
    {
     "name": "stdout",
     "output_type": "stream",
     "text": [
      "(98055044, 14)\n",
      "recall source = 21.3 %\n"
     ]
    }
   ],
   "source": [
    "feature_source_user_df = pd.read_parquet('/srv/data/vk/train/feature_source_user_df.parquet.gzip')\n",
    "feature_item_df = pd.read_parquet('/srv/data/vk/train/feature_item_df.parquet.gzip')\n",
    "item_df = pd.read_parquet('items_meta.parquet.gzip')\n",
    "item_source_dct = item_df.set_index('item_id')['source_id'].to_dict()\n",
    "feature_item_df['source_id'] = feature_item_df['item_id'].map(item_source_dct)\n",
    "\n",
    "tmp_df = train_df.iloc[-500000:].copy().reset_index(drop=True)\n",
    "top_feature_item_df = feature_item_df[feature_item_df['item_id'].isin(\n",
    "    tmp_df[tmp_df['timespent']>0]['item_id'].unique())]\n",
    "\n",
    "\n",
    "full_train_item_df = feature_source_user_df[feature_source_user_df['good_sum']>0].merge(\n",
    "    top_feature_item_df)\n",
    "\n",
    "print(full_train_item_df.shape)\n",
    "\n",
    "count_positive_all = target_df[target_df['timespent']>0].shape[0]\n",
    "count_positive_source = full_train_item_df.merge(target_df[target_df['timespent']>0])[\n",
    "    ['user_id','item_id']].drop_duplicates().shape[0]\n",
    "recall = count_positive_source/count_positive_all\n",
    "print(f'recall source = {100*recall:.1f} %')"
   ]
  },
  {
   "cell_type": "markdown",
   "id": "02c583ae",
   "metadata": {},
   "source": [
    "# Посчитаем общий recall\n",
    "\n",
    "Получились неплохие 46% при уменьшении обучающей в 340 раз (!!!)"
   ]
  },
  {
   "cell_type": "code",
   "execution_count": 25,
   "id": "91997f18",
   "metadata": {},
   "outputs": [
    {
     "name": "stdout",
     "output_type": "stream",
     "text": [
      "recall union = 46.3 %\n",
      "CPU times: user 2min 39s, sys: 13.7 s, total: 2min 53s\n",
      "Wall time: 2min 53s\n"
     ]
    }
   ],
   "source": [
    "%%time\n",
    "\n",
    "input_df = pd.concat([best_150_df[['user_id','item_id']], \n",
    "                      full_train_item_df[['user_id','item_id']],\n",
    "                      feature_als_df[['user_id','item_id']],\n",
    "                      feature_emb_als_tune_df[['user_id','item_id']],\n",
    "                      feature_emb_als_df[['user_id','item_id']],\n",
    "                      feature_item_emb_cosine_df[['user_id','item_id']]]).drop_duplicates().reset_index(drop=True)\n",
    "\n",
    "count_positive_all = target_df[target_df['timespent']>0].shape[0]\n",
    "count_positive_union = input_df.merge(target_df[target_df['timespent']>0])[\n",
    "    ['user_id','item_id']].drop_duplicates().shape[0]\n",
    "recall = count_positive_union/count_positive_all\n",
    "print(f'recall union = {100*recall:.1f} %')"
   ]
  },
  {
   "cell_type": "code",
   "execution_count": 29,
   "id": "e1163757",
   "metadata": {},
   "outputs": [
    {
     "data": {
      "text/plain": [
       "339.30358772572555"
      ]
     },
     "execution_count": 29,
     "metadata": {},
     "output_type": "execute_result"
    }
   ],
   "source": [
    "(input_df.user_id.nunique()*input_df.item_id.nunique())/input_df.shape[0]\n"
   ]
  },
  {
   "cell_type": "markdown",
   "id": "d5ebddc0",
   "metadata": {},
   "source": [
    "# Обогащение фичами\n",
    "\n",
    "Можно собрать общие статистики на item_id, на source_id, на пару source_id-user_id.\n",
    "Почему-то я не собрал ни одной статистики на user_id (скорее всего тоже могло помочь)\n",
    "В итоге получаем обычную обучающую выборку для ранкинга.\n",
    "\n",
    "Правда строк около 360 млн записей.\n",
    "А если откатиться еще на один период назад для стабильности - получится еще 360 млн.\n"
   ]
  },
  {
   "cell_type": "code",
   "execution_count": 31,
   "id": "fa000bf6",
   "metadata": {},
   "outputs": [
    {
     "data": {
      "text/html": [
       "<div>\n",
       "<style scoped>\n",
       "    .dataframe tbody tr th:only-of-type {\n",
       "        vertical-align: middle;\n",
       "    }\n",
       "\n",
       "    .dataframe tbody tr th {\n",
       "        vertical-align: top;\n",
       "    }\n",
       "\n",
       "    .dataframe thead th {\n",
       "        text-align: right;\n",
       "    }\n",
       "</style>\n",
       "<table border=\"1\" class=\"dataframe\">\n",
       "  <thead>\n",
       "    <tr style=\"text-align: right;\">\n",
       "      <th></th>\n",
       "      <th>user_id</th>\n",
       "      <th>item_id</th>\n",
       "      <th>source_id</th>\n",
       "      <th>cnt_users_by_item</th>\n",
       "      <th>mean_time_by_item</th>\n",
       "      <th>mean_good_by_item</th>\n",
       "      <th>mean_abs_react_by_item</th>\n",
       "      <th>pretarget_time_sum_5m</th>\n",
       "      <th>pretarget_time_sum_1m</th>\n",
       "      <th>pretarget_good_sum_5m</th>\n",
       "      <th>...</th>\n",
       "      <th>reaction_mean</th>\n",
       "      <th>reaction_abs_mean</th>\n",
       "      <th>reaction_abs_sum</th>\n",
       "      <th>als_score</th>\n",
       "      <th>emb_als_score</th>\n",
       "      <th>emb_als_score_tune</th>\n",
       "      <th>cosine</th>\n",
       "      <th>source_good_mean</th>\n",
       "      <th>source_good_sum</th>\n",
       "      <th>timespent</th>\n",
       "    </tr>\n",
       "  </thead>\n",
       "  <tbody>\n",
       "    <tr>\n",
       "      <th>6814235</th>\n",
       "      <td>241801</td>\n",
       "      <td>20660</td>\n",
       "      <td>18665</td>\n",
       "      <td>1030</td>\n",
       "      <td>0.295146</td>\n",
       "      <td>0.202913</td>\n",
       "      <td>0.005825</td>\n",
       "      <td>34.0</td>\n",
       "      <td>6.0</td>\n",
       "      <td>20.0</td>\n",
       "      <td>...</td>\n",
       "      <td>0.0</td>\n",
       "      <td>0.0</td>\n",
       "      <td>0.0</td>\n",
       "      <td>0.000000</td>\n",
       "      <td>0.000000</td>\n",
       "      <td>0.0</td>\n",
       "      <td>0.908238</td>\n",
       "      <td>0.232897</td>\n",
       "      <td>160.0</td>\n",
       "      <td>0.0</td>\n",
       "    </tr>\n",
       "    <tr>\n",
       "      <th>20396138</th>\n",
       "      <td>725931</td>\n",
       "      <td>18290</td>\n",
       "      <td>3832</td>\n",
       "      <td>21752</td>\n",
       "      <td>1.490484</td>\n",
       "      <td>0.282181</td>\n",
       "      <td>0.017286</td>\n",
       "      <td>3679.0</td>\n",
       "      <td>814.0</td>\n",
       "      <td>704.0</td>\n",
       "      <td>...</td>\n",
       "      <td>0.0</td>\n",
       "      <td>0.0</td>\n",
       "      <td>0.0</td>\n",
       "      <td>0.100217</td>\n",
       "      <td>0.000000</td>\n",
       "      <td>0.0</td>\n",
       "      <td>0.000000</td>\n",
       "      <td>0.320166</td>\n",
       "      <td>154.0</td>\n",
       "      <td>0.0</td>\n",
       "    </tr>\n",
       "    <tr>\n",
       "      <th>14211418</th>\n",
       "      <td>504548</td>\n",
       "      <td>1042</td>\n",
       "      <td>7035</td>\n",
       "      <td>3569</td>\n",
       "      <td>0.528439</td>\n",
       "      <td>0.365088</td>\n",
       "      <td>0.055758</td>\n",
       "      <td>1886.0</td>\n",
       "      <td>343.0</td>\n",
       "      <td>1303.0</td>\n",
       "      <td>...</td>\n",
       "      <td>0.0</td>\n",
       "      <td>0.0</td>\n",
       "      <td>0.0</td>\n",
       "      <td>0.000000</td>\n",
       "      <td>0.000000</td>\n",
       "      <td>0.0</td>\n",
       "      <td>0.000000</td>\n",
       "      <td>0.336213</td>\n",
       "      <td>506.0</td>\n",
       "      <td>0.0</td>\n",
       "    </tr>\n",
       "    <tr>\n",
       "      <th>581306</th>\n",
       "      <td>20104</td>\n",
       "      <td>179033</td>\n",
       "      <td>18753</td>\n",
       "      <td>730</td>\n",
       "      <td>0.386301</td>\n",
       "      <td>0.097260</td>\n",
       "      <td>0.001370</td>\n",
       "      <td>4.0</td>\n",
       "      <td>4.0</td>\n",
       "      <td>1.0</td>\n",
       "      <td>...</td>\n",
       "      <td>0.0</td>\n",
       "      <td>0.0</td>\n",
       "      <td>0.0</td>\n",
       "      <td>0.000000</td>\n",
       "      <td>0.000000</td>\n",
       "      <td>0.0</td>\n",
       "      <td>0.000000</td>\n",
       "      <td>0.192825</td>\n",
       "      <td>86.0</td>\n",
       "      <td>0.0</td>\n",
       "    </tr>\n",
       "    <tr>\n",
       "      <th>12417664</th>\n",
       "      <td>442238</td>\n",
       "      <td>145417</td>\n",
       "      <td>20248</td>\n",
       "      <td>3655</td>\n",
       "      <td>2.157045</td>\n",
       "      <td>0.307798</td>\n",
       "      <td>0.002462</td>\n",
       "      <td>762.0</td>\n",
       "      <td>117.0</td>\n",
       "      <td>113.0</td>\n",
       "      <td>...</td>\n",
       "      <td>0.0</td>\n",
       "      <td>0.0</td>\n",
       "      <td>0.0</td>\n",
       "      <td>0.000000</td>\n",
       "      <td>0.007526</td>\n",
       "      <td>0.0</td>\n",
       "      <td>0.000000</td>\n",
       "      <td>0.301887</td>\n",
       "      <td>16.0</td>\n",
       "      <td>0.0</td>\n",
       "    </tr>\n",
       "  </tbody>\n",
       "</table>\n",
       "<p>5 rows × 26 columns</p>\n",
       "</div>"
      ],
      "text/plain": [
       "          user_id  item_id  source_id  cnt_users_by_item  mean_time_by_item  \\\n",
       "6814235    241801    20660      18665               1030           0.295146   \n",
       "20396138   725931    18290       3832              21752           1.490484   \n",
       "14211418   504548     1042       7035               3569           0.528439   \n",
       "581306      20104   179033      18753                730           0.386301   \n",
       "12417664   442238   145417      20248               3655           2.157045   \n",
       "\n",
       "          mean_good_by_item  mean_abs_react_by_item  pretarget_time_sum_5m  \\\n",
       "6814235            0.202913                0.005825                   34.0   \n",
       "20396138           0.282181                0.017286                 3679.0   \n",
       "14211418           0.365088                0.055758                 1886.0   \n",
       "581306             0.097260                0.001370                    4.0   \n",
       "12417664           0.307798                0.002462                  762.0   \n",
       "\n",
       "          pretarget_time_sum_1m  pretarget_good_sum_5m  ...  reaction_mean  \\\n",
       "6814235                     6.0                   20.0  ...            0.0   \n",
       "20396138                  814.0                  704.0  ...            0.0   \n",
       "14211418                  343.0                 1303.0  ...            0.0   \n",
       "581306                      4.0                    1.0  ...            0.0   \n",
       "12417664                  117.0                  113.0  ...            0.0   \n",
       "\n",
       "          reaction_abs_mean  reaction_abs_sum  als_score  emb_als_score  \\\n",
       "6814235                 0.0               0.0   0.000000       0.000000   \n",
       "20396138                0.0               0.0   0.100217       0.000000   \n",
       "14211418                0.0               0.0   0.000000       0.000000   \n",
       "581306                  0.0               0.0   0.000000       0.000000   \n",
       "12417664                0.0               0.0   0.000000       0.007526   \n",
       "\n",
       "          emb_als_score_tune    cosine  source_good_mean  source_good_sum  \\\n",
       "6814235                  0.0  0.908238          0.232897            160.0   \n",
       "20396138                 0.0  0.000000          0.320166            154.0   \n",
       "14211418                 0.0  0.000000          0.336213            506.0   \n",
       "581306                   0.0  0.000000          0.192825             86.0   \n",
       "12417664                 0.0  0.000000          0.301887             16.0   \n",
       "\n",
       "          timespent  \n",
       "6814235         0.0  \n",
       "20396138        0.0  \n",
       "14211418        0.0  \n",
       "581306          0.0  \n",
       "12417664        0.0  \n",
       "\n",
       "[5 rows x 26 columns]"
      ]
     },
     "execution_count": 31,
     "metadata": {},
     "output_type": "execute_result"
    }
   ],
   "source": [
    "sample_result_df = pd.read_parquet('/srv/data/vk/train/result_df_0.parquet.gzip')\n",
    "sample_result_df.sample(5)"
   ]
  },
  {
   "cell_type": "code",
   "execution_count": 49,
   "id": "141d1334",
   "metadata": {},
   "outputs": [],
   "source": [
    "#Фичи:\n",
    "features_desctiptions_dct = {\n",
    "    'cnt_users_by_item':'Количество users, просмотревших этот item_id',\n",
    "    'mean_time_by_item':'Среднее время просмотра этого item_id', \n",
    "    'mean_good_by_item':'Как часто время было > 0 у этого item_id', \n",
    "    'mean_abs_react_by_item':'Средняя реакция (лайк/дизлайк) у этого item_id', \n",
    "    'pretarget_time_sum_5m':'Сумма timespent для этого item_id за последние 5млн записей в train', \n",
    "    'pretarget_time_sum_1m':'Сумма timespent для этого item_id за последние 1млн записей в train',\n",
    "    'pretarget_good_sum_5m':'Количество положительных timespent для этого item_id за последние 5млн записей в train', \n",
    "    'pretarget_good_sum_1m':'Количество положительных timespent для этого item_id за последние 1млн записей в train',  \n",
    "    'pretarget_prc':'Соотношение последнего 1 млн записей и 5 млн записей (отражает динамику)',\n",
    "    'cnt_items': 'Количество item_id, просмотренных user_id у этого source_id', \n",
    "    'time_sum':'Количество времени, потраченного user_id у этого source_id', \n",
    "    'good_mean':'% положительных timespent в просмотренных item_id этого source_id для конкретного user_id', \n",
    "    'good_sum':'количество положительных timespent в просмотренных item_id этого source_id для конкретного user_id', \n",
    "    'reaction_mean':'средняя оценка (лайк/дизлайк/0) в просмотренных item_id этого source_id для конкретного user_id',\n",
    "    'reaction_abs_mean':'среднее наличие оценки (лайк/дизлайк) в просмотренных item_id этого source_id для конкретного user_id', \n",
    "    'reaction_abs_sum':'количество оценок (лайк/дизлайк) в просмотренных item_id этого source_id для конкретного user_id', \n",
    "    'als_score':'score обычного als', \n",
    "    'emb_als_score':'score als на embedding векторах', \n",
    "    'emb_als_score_tune':'score als на tuned embedding векторах', \n",
    "    'cosine':'лучшая косинусная мера близости с уже просмотренными item_id для каждого user_id', \n",
    "    'source_good_mean':'Процент положительных timespent для этого source_id',\n",
    "    'source_good_sum':'Количество положительных timespent для этого source_id'\n",
    "}"
   ]
  },
  {
   "cell_type": "markdown",
   "id": "51b530a7",
   "metadata": {},
   "source": [
    "# Идея предварительного ранкинга\n",
    "\n",
    "Давайте построим простой ранкер (не переобученный) для предварительной разметки и обучим его на 20% выборки (чтобы влезло в оперативку)\n",
    "\n"
   ]
  },
  {
   "cell_type": "code",
   "execution_count": null,
   "id": "f142f411",
   "metadata": {},
   "outputs": [],
   "source": [
    "result_df = result_df.sort_values('user_id').reset_index(drop=True)\n",
    "group_pretrain = result_df.groupby('user_id').size().reset_index(name='cnt').cnt.values\n",
    "\n",
    "ranker_model = lgb.LGBMRanker(n_estimators = 20,\n",
    "                         random_state = 33,\n",
    "                         n_jobs = 8\n",
    "                         )\n",
    "ranker_model.fit(result_df[study_cols], \n",
    "          result_df['timespent'], \n",
    "          group=group_pretrain\n",
    "         )"
   ]
  },
  {
   "cell_type": "markdown",
   "id": "373cd1e2",
   "metadata": {},
   "source": [
    "# Основной ранкинг\n",
    "\n",
    "Будем идти пачками по 10% от всей выборки, подавать на вход предварительному ранкингу и оставлять только лучшие 200 item_id для каждого user_id. Это позволит сократить выборку почти в 3 раза.\n",
    "\n",
    "Будем строить его на 70% выборки, которые по объему будут уже влезать в оперативную память.\n",
    "\n",
    "Этот ранкер уже обучим хорошо (подберем параметры по hyperopt)"
   ]
  },
  {
   "cell_type": "code",
   "execution_count": null,
   "id": "8894626b",
   "metadata": {},
   "outputs": [],
   "source": [
    "result_df = result_df.sort_values('user_id').reset_index(drop=True)\n",
    "group_train = result_df.groupby('user_id').size().reset_index(name='cnt').cnt.values\n",
    "\n",
    "ranker_full_model = lgb.LGBMRanker(n_estimators = 200,\n",
    "                         learning_rate = 0.1,\n",
    "                         random_state = 33,\n",
    "                         n_jobs = 8,\n",
    "                         colsample_bytree= 0.844,\n",
    "                         max_depth= 48,\n",
    "                         min_child_samples= 1500,\n",
    "                         min_child_weight=0.00415,\n",
    "                         min_split_gain= 0.0279,\n",
    "                         num_leaves= 256,\n",
    "                         reg_alpha= 0.3605,\n",
    "                         reg_lambda= 0.4198,\n",
    "                         subsample= 0.2429)\n",
    "\n",
    "ranker_full_model.fit(result_df[study_cols], \n",
    "          result_df['timespent'], \n",
    "          group=group_train\n",
    "         )"
   ]
  },
  {
   "cell_type": "markdown",
   "id": "79faec0d",
   "metadata": {},
   "source": [
    "# Валидация\n",
    "\n",
    " Проверим на оставшихся 10%. \n",
    " Надо понимать, что в нашей выборке изначально recall только 46% и посчитанный ndcg_score только по ней всегда будет выше, чем реальный.\n",
    " Для подбора параметров это не важно, но для общей корреляции public и локальной валидации хочется посчитать по всем возможным кандидатам.\n",
    " \n",
    "Определенная корреляция локальной валидации и public leaderbord была, хотя и не очень хорошей: (см ниже)"
   ]
  },
  {
   "cell_type": "code",
   "execution_count": 48,
   "id": "b5c0003e",
   "metadata": {},
   "outputs": [
    {
     "data": {
      "image/png": "[encoded data removed]",
      "text/plain": [
       "<Figure size 633.6x288 with 1 Axes>"
      ]
     },
     "metadata": {
      "needs_background": "light"
     },
     "output_type": "display_data"
    }
   ],
   "source": [
    "import matplotlib.pyplot as plt\n",
    "import numpy as np\n",
    "\n",
    "valid_df = pd.DataFrame({'local':np.array([1756,1446,1498,1418,1533,1815,1624,1773,1819])/10000,\n",
    "              'public':np.array([1568,1551,1298,1472,1302,1596,1543,1584,1633])/10000}).sort_values(\n",
    "    'local').reset_index(drop=True)\n",
    "\n",
    "fig, ax = plt.subplots(figsize=(8.8, 4), constrained_layout=True)\n",
    "ax.set(title=\"Validation results\")\n",
    "\n",
    "\n",
    "ax.plot(valid_df['local'], label = 'local')\n",
    "ax.plot(valid_df['public'], label = 'public')\n",
    "ax.legend()\n",
    "plt.show()"
   ]
  },
  {
   "cell_type": "markdown",
   "id": "12a520d1",
   "metadata": {},
   "source": [
    "# Итоги:\n",
    "\n",
    "## решение заняло 2 место (0.164 public, 0.163 private, 0.182 local)\n",
    "\n",
    "\n",
    "## Возможные улучшения:\n",
    "\n",
    "    1. можно было лучше подбирать параметры под als, как одну из главнейших фич. Были результаты на 0.128 только на als\n",
    "    2. можно было расчитать als_score для всей обучающей выборки. Правда возрастание кандидатов со 100 до 300 кандидатов не давало сильного прироста\n",
    "    3. можно было добавить какие-то общие фичи именно для user_id (вряд ли много добавит)\n",
    "    "
   ]
  },
  {
   "cell_type": "code",
   "execution_count": null,
   "id": "bd3dec03",
   "metadata": {},
   "outputs": [],
   "source": []
  }
 ],
 "metadata": {
  "kernelspec": {
   "display_name": "Python 3 (ipykernel)",
   "language": "python",
   "name": "python3"
  },
  "language_info": {
   "codemirror_mode": {
    "name": "ipython",
    "version": 3
   },
   "file_extension": ".py",
   "mimetype": "text/x-python",
   "name": "python",
   "nbconvert_exporter": "python",
   "pygments_lexer": "ipython3",
   "version": "3.8.10"
  }
 },
 "nbformat": 4,
 "nbformat_minor": 5
}
