{
 "cells": [
  {
   "cell_type": "code",
   "execution_count": 1,
   "id": "65df6001",
   "metadata": {},
   "outputs": [],
   "source": [
    "from tqdm import tqdm\n",
    "import pandas as pd\n",
    "import numpy as np\n",
    "\n",
    "from sklearn.metrics import ndcg_score\n",
    "from sklearn.metrics import roc_auc_score\n",
    "from sklearn.model_selection import train_test_split, KFold, StratifiedKFold\n",
    "import lightgbm as lgb"
   ]
  },
  {
   "cell_type": "code",
   "execution_count": 2,
   "id": "5095721f",
   "metadata": {},
   "outputs": [],
   "source": [
    "# import lightgbm as lgb\n",
    "ranker_full_model = lgb.LGBMRanker(n_estimators = 200,\n",
    "                         learning_rate = 0.1,\n",
    "                         random_state = 33,\n",
    "                         n_jobs = 8,\n",
    "                         colsample_bytree= 0.844,\n",
    "                         max_depth= 48,\n",
    "                         min_child_samples= 1500,\n",
    "                         min_child_weight=0.00415,\n",
    "                         min_split_gain= 0.0279,\n",
    "                         num_leaves= 256,\n",
    "                         reg_alpha= 0.3605,\n",
    "                         reg_lambda= 0.4198,\n",
    "                         subsample= 0.2429)\n",
    "\n",
    "\n",
    "study_cols = ['cnt_users_by_item',\n",
    "       'mean_time_by_item', 'mean_good_by_item', 'mean_abs_react_by_item',\n",
    "       'pretarget_time_sum_5m', 'pretarget_time_sum_1m',\n",
    "       'pretarget_good_sum_5m', 'pretarget_good_sum_1m', 'pretarget_prc',\n",
    "       'cnt_items', 'time_sum', 'good_mean', 'good_sum', 'reaction_mean',\n",
    "       'reaction_abs_mean', 'reaction_abs_sum', 'als_score', 'emb_als_score',\n",
    "       'emb_als_score_tune', 'cosine', 'source_good_mean',\n",
    "       'source_good_sum']\n",
    "\n"
   ]
  },
  {
   "cell_type": "code",
   "execution_count": 4,
   "id": "c8f17ba1",
   "metadata": {},
   "outputs": [],
   "source": [
    "import pickle\n",
    "with open('pre_ranker_final.pickle', 'rb') as f:\n",
    "    pre_ranker_model = pickle.load(f)"
   ]
  },
  {
   "cell_type": "code",
   "execution_count": 5,
   "id": "846f0edc",
   "metadata": {},
   "outputs": [
    {
     "name": "stderr",
     "output_type": "stream",
     "text": [
      "100%|██████████| 7/7 [05:46<00:00, 49.57s/it]\n"
     ]
    }
   ],
   "source": [
    "import gc\n",
    "result_lst = []\n",
    "for i in tqdm([2,3,4,5,6,7,8]):\n",
    "    tmp_result_df = pd.read_parquet(f'/srv/data/vk/old/result_df_{i}.parquet.gzip')\n",
    "    tmp_result_df['user_id'] = tmp_result_df['user_id']+3000000\n",
    "    \n",
    "    tmp_result_df = tmp_result_df.sort_values('user_id').reset_index(drop=True)\n",
    "    tmp_result_df.loc[tmp_result_df['timespent']>10,'timespent'] = 10\n",
    "    group_pretrain = tmp_result_df.groupby('user_id').size().reset_index(name='cnt').cnt.values\n",
    "    tmp_result_df['rank'] = pre_ranker_model.predict(tmp_result_df[study_cols], group=group_pretrain)\n",
    "    tmp_result_df = tmp_result_df.sort_values(['rank'], ascending = False).groupby('user_id').head(200)\n",
    "    result_lst.append(tmp_result_df)\n",
    "    \n",
    "    \n",
    "    tmp_result_df = pd.read_parquet(f'/srv/data/vk/train/result_df_{i}.parquet.gzip')\n",
    "    tmp_result_df = tmp_result_df.sort_values('user_id').reset_index(drop=True)\n",
    "    tmp_result_df.loc[tmp_result_df['timespent']>10,'timespent'] = 10\n",
    "    group_pretrain = tmp_result_df.groupby('user_id').size().reset_index(name='cnt').cnt.values\n",
    "    tmp_result_df['rank'] = pre_ranker_model.predict(tmp_result_df[study_cols], group=group_pretrain)\n",
    "    tmp_result_df = tmp_result_df.sort_values(['rank'], ascending = False).groupby('user_id').head(200)\n",
    "    result_lst.append(tmp_result_df)\n",
    "    \n",
    "    gc.collect()"
   ]
  },
  {
   "cell_type": "code",
   "execution_count": 6,
   "id": "baf35c57",
   "metadata": {},
   "outputs": [],
   "source": [
    "result_df = pd.concat(result_lst).reset_index(drop=True)"
   ]
  },
  {
   "cell_type": "code",
   "execution_count": 7,
   "id": "016b0322",
   "metadata": {},
   "outputs": [],
   "source": [
    "result_df = result_df.sort_values('user_id').reset_index(drop=True)\n",
    "group_train = result_df.groupby('user_id').size().reset_index(name='cnt').cnt.values"
   ]
  },
  {
   "cell_type": "code",
   "execution_count": 8,
   "id": "468a82c2",
   "metadata": {},
   "outputs": [
    {
     "data": {
      "text/plain": [
       "0"
      ]
     },
     "execution_count": 8,
     "metadata": {},
     "output_type": "execute_result"
    }
   ],
   "source": [
    "del result_lst\n",
    "gc.collect()"
   ]
  },
  {
   "cell_type": "code",
   "execution_count": 9,
   "id": "2d016bbf",
   "metadata": {},
   "outputs": [
    {
     "name": "stdout",
     "output_type": "stream",
     "text": [
      "CPU times: user 2h 8min 38s, sys: 9.41 s, total: 2h 8min 47s\n",
      "Wall time: 16min 47s\n"
     ]
    },
    {
     "data": {
      "text/plain": [
       "LGBMRanker(colsample_bytree=0.844, max_depth=48, min_child_samples=1500,\n",
       "           min_child_weight=0.00415, min_split_gain=0.0279, n_estimators=200,\n",
       "           n_jobs=8, num_leaves=256, random_state=33, reg_alpha=0.3605,\n",
       "           reg_lambda=0.4198, subsample=0.2429)"
      ]
     },
     "execution_count": 9,
     "metadata": {},
     "output_type": "execute_result"
    }
   ],
   "source": [
    "%%time\n",
    "\n",
    "ranker_full_model.fit(result_df[study_cols], \n",
    "          result_df['timespent'], \n",
    "          group=group_train\n",
    "         )"
   ]
  },
  {
   "cell_type": "code",
   "execution_count": 11,
   "id": "147e9498",
   "metadata": {},
   "outputs": [],
   "source": [
    "\n",
    "with open('ranker_final.pickle', 'wb') as f:\n",
    "    pickle.dump(ranker_full_model, f)"
   ]
  },
  {
   "cell_type": "code",
   "execution_count": null,
   "id": "3fad283d",
   "metadata": {},
   "outputs": [],
   "source": []
  },
  {
   "cell_type": "code",
   "execution_count": null,
   "id": "a4523a8a",
   "metadata": {},
   "outputs": [],
   "source": []
  },
  {
   "cell_type": "code",
   "execution_count": null,
   "id": "d384895e",
   "metadata": {},
   "outputs": [],
   "source": []
  },
  {
   "cell_type": "code",
   "execution_count": null,
   "id": "996295f0",
   "metadata": {},
   "outputs": [],
   "source": []
  }
 ],
 "metadata": {
  "kernelspec": {
   "display_name": "Python 3 (ipykernel)",
   "language": "python",
   "name": "python3"
  },
  "language_info": {
   "codemirror_mode": {
    "name": "ipython",
    "version": 3
   },
   "file_extension": ".py",
   "mimetype": "text/x-python",
   "name": "python",
   "nbconvert_exporter": "python",
   "pygments_lexer": "ipython3",
   "version": "3.8.10"
  }
 },
 "nbformat": 4,
 "nbformat_minor": 5
}
