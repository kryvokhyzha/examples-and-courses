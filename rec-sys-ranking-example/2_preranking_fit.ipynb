{
 "cells": [
  {
   "cell_type": "code",
   "execution_count": 1,
   "id": "15e0cad4",
   "metadata": {},
   "outputs": [],
   "source": [
    "from tqdm import tqdm\n",
    "import pandas as pd\n",
    "import numpy as np\n",
    "\n",
    "from sklearn.metrics import ndcg_score\n",
    "from sklearn.metrics import roc_auc_score\n",
    "from sklearn.model_selection import train_test_split, KFold, StratifiedKFold\n",
    "import lightgbm as lgb"
   ]
  },
  {
   "cell_type": "code",
   "execution_count": 2,
   "id": "0deea08e",
   "metadata": {},
   "outputs": [],
   "source": [
    "# предварительный ранкер не хотелось делать сложным и переобученным\n",
    "ranker_model = lgb.LGBMRanker(n_estimators = 20,\n",
    "                         random_state = 33,\n",
    "                         n_jobs = 8\n",
    "                         )\n",
    "\n",
    "study_cols = ['cnt_users_by_item',\n",
    "       'mean_time_by_item', 'mean_good_by_item', 'mean_abs_react_by_item',\n",
    "       'pretarget_time_sum_5m', 'pretarget_time_sum_1m',\n",
    "       'pretarget_good_sum_5m', 'pretarget_good_sum_1m', 'pretarget_prc',\n",
    "       'cnt_items', 'time_sum', 'good_mean', 'good_sum', 'reaction_mean',\n",
    "       'reaction_abs_mean', 'reaction_abs_sum', 'als_score', 'emb_als_score',\n",
    "       'emb_als_score_tune', 'cosine', 'source_good_mean',\n",
    "       'source_good_sum']"
   ]
  },
  {
   "cell_type": "code",
   "execution_count": 3,
   "id": "a6d451ef",
   "metadata": {},
   "outputs": [],
   "source": [
    "import gc\n",
    "result_lst = []\n",
    "for i in range(2):\n",
    "    tmp_result_df = pd.read_parquet(f'/srv/data/vk/old/result_df_{i}.parquet.gzip')\n",
    "    tmp_result_df['user_id'] = tmp_result_df['user_id']+3000000\n",
    "    result_lst.append(tmp_result_df)\n",
    "    tmp_result_df = pd.read_parquet(f'/srv/data/vk/train/result_df_{i}.parquet.gzip')\n",
    "    result_lst.append(tmp_result_df)\n",
    "    gc.collect()"
   ]
  },
  {
   "cell_type": "code",
   "execution_count": 4,
   "id": "f1dc6422",
   "metadata": {},
   "outputs": [],
   "source": [
    "result_df = pd.concat(result_lst).reset_index(drop=True)\n",
    "result_df.loc[result_df['timespent']>10,'timespent'] = 10\n",
    "result_df = result_df.sort_values('user_id').reset_index(drop=True)\n",
    "group_pretrain = result_df.groupby('user_id').size().reset_index(name='cnt').cnt.values"
   ]
  },
  {
   "cell_type": "code",
   "execution_count": 6,
   "id": "275e47d7",
   "metadata": {},
   "outputs": [
    {
     "name": "stdout",
     "output_type": "stream",
     "text": [
      "CPU times: user 11min 49s, sys: 17.7 s, total: 12min 7s\n",
      "Wall time: 1min 56s\n"
     ]
    },
    {
     "data": {
      "text/plain": [
       "LGBMRanker(n_estimators=20, n_jobs=8, random_state=33)"
      ]
     },
     "execution_count": 6,
     "metadata": {},
     "output_type": "execute_result"
    }
   ],
   "source": [
    "%%time\n",
    "\n",
    "ranker_model.fit(result_df[study_cols], \n",
    "          result_df['timespent'], \n",
    "          group=group_pretrain\n",
    "         )"
   ]
  },
  {
   "cell_type": "code",
   "execution_count": 7,
   "id": "8e12447c",
   "metadata": {},
   "outputs": [],
   "source": [
    "import pickle\n",
    "with open('pre_ranker_final.pickle', 'wb') as f:\n",
    "    pickle.dump(ranker_model, f)"
   ]
  },
  {
   "cell_type": "code",
   "execution_count": null,
   "id": "6d9e372b",
   "metadata": {},
   "outputs": [],
   "source": []
  }
 ],
 "metadata": {
  "kernelspec": {
   "display_name": "Python 3 (ipykernel)",
   "language": "python",
   "name": "python3"
  },
  "language_info": {
   "codemirror_mode": {
    "name": "ipython",
    "version": 3
   },
   "file_extension": ".py",
   "mimetype": "text/x-python",
   "name": "python",
   "nbconvert_exporter": "python",
   "pygments_lexer": "ipython3",
   "version": "3.8.10"
  }
 },
 "nbformat": 4,
 "nbformat_minor": 5
}
